{
 "cells": [
  {
   "cell_type": "markdown",
   "metadata": {},
   "source": [
    "# Example Notebook for Keysight Network Analyzers\n",
    "\n",
    "This notebook is indendet to give an overview over the functions implemented in the QCoDeS driver for the Keysight network analyzers. The driver is implemented to be generic as possible, with individual instrument drivers filling in only the hardware limits of the instrument, so although this example uses the N5245A, the concepts and code should work for any keysight network analyzer."
   ]
  },
  {
   "cell_type": "code",
   "execution_count": 1,
   "metadata": {},
   "outputs": [],
   "source": [
    "%matplotlib inline"
   ]
  },
  {
   "cell_type": "code",
   "execution_count": 2,
   "metadata": {},
   "outputs": [],
   "source": [
    "# Import Dependencies\n",
    "\n",
    "import logging\n",
    "import matplotlib.pyplot as plt\n",
    "\n",
    "# qcodes imports\n",
    "import qcodes as qc\n",
    "from qcodes.dataset.data_set import new_data_set\n",
    "from qcodes.dataset.experiment_container import new_experiment, load_experiment_by_name\n",
    "from qcodes.dataset.measurements import Measurement\n",
    "from qcodes.dataset.plotting import plot_by_id\n",
    "from qcodes.instrument_drivers.Keysight.N5222B import N5222B"
   ]
  },
  {
   "cell_type": "code",
   "execution_count": 3,
   "metadata": {},
   "outputs": [
    {
     "name": "stdout",
     "output_type": "stream",
     "text": [
      "Experiment loaded. Last ID no: 4\n"
     ]
    }
   ],
   "source": [
    "qc.initialise_database()\n",
    "\n",
    "# Start experiment\n",
    "exp_name = 'PNA_Example_N5222B'\n",
    "sample_name = 'sample_bar_code'\n",
    "try:\n",
    "    exp = load_experiment_by_name(exp_name, sample=sample_name)\n",
    "    print('Experiment loaded. Last ID no:', exp.last_counter)\n",
    "except ValueError:\n",
    "    exp = new_experiment(exp_name, sample_name)\n",
    "    print('Starting new experiment.')"
   ]
  },
  {
   "cell_type": "markdown",
   "metadata": {},
   "source": [
    "## Connect to the instrument\n",
    "\n",
    "You will have to insert the correct VISA address for your PNA below. On my PC, the PNA has IP address `192.168.0.10`. You can generally use NI MAX or Agilent IO Toolkit to figure out what the VISA address of your instrument is, particularly for USB or GPIB connections."
   ]
  },
  {
   "cell_type": "code",
   "execution_count": 4,
   "metadata": {},
   "outputs": [],
   "source": [
    "pna = N5222B('pna', 'GPIB0::16::INSTR')"
   ]
  },
  {
   "cell_type": "code",
   "execution_count": 5,
   "metadata": {},
   "outputs": [
    {
     "name": "stdout",
     "output_type": "stream",
     "text": [
      "Connected to: Keysight Technologies N5222B (serial:MY57041028, firmware:A.13.25.04) in 13.42s\n"
     ]
    }
   ],
   "source": [
    "pna.connect_message()"
   ]
  },
  {
   "cell_type": "code",
   "execution_count": 12,
   "metadata": {},
   "outputs": [],
   "source": [
    "pna.write('CALC' + \"1\" + ':PAR:EXT ' + \"test\" + ', ' + \"S21\")"
   ]
  },
  {
   "cell_type": "code",
   "execution_count": 13,
   "metadata": {},
   "outputs": [
    {
     "data": {
      "text/plain": [
       "'\"TEST,S21\"'"
      ]
     },
     "execution_count": 13,
     "metadata": {},
     "output_type": "execute_result"
    }
   ],
   "source": [
    "pna.ask(\"CALC:PAR:CAT:EXT?\")"
   ]
  },
  {
   "cell_type": "code",
   "execution_count": 10,
   "metadata": {},
   "outputs": [],
   "source": [
    "pna.write(\"CALC:PAR:DEL:ALL\")"
   ]
  },
  {
   "cell_type": "code",
   "execution_count": null,
   "metadata": {},
   "outputs": [],
   "source": []
  }
 ],
 "metadata": {
  "kernelspec": {
   "display_name": "Python 3",
   "language": "python",
   "name": "python3"
  },
  "language_info": {
   "codemirror_mode": {
    "name": "ipython",
    "version": 3
   },
   "file_extension": ".py",
   "mimetype": "text/x-python",
   "name": "python",
   "nbconvert_exporter": "python",
   "pygments_lexer": "ipython3",
   "version": "3.6.6"
  }
 },
 "nbformat": 4,
 "nbformat_minor": 2
}
