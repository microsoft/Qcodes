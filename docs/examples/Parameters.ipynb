{
 "cells": [
  {
   "cell_type": "markdown",
   "metadata": {
    "deletable": true,
    "editable": true
   },
   "source": [
    "# Parameters in QCoDeS"
   ]
  },
  {
   "cell_type": "code",
   "execution_count": 1,
   "metadata": {
    "collapsed": true,
    "deletable": true,
    "editable": true
   },
   "outputs": [],
   "source": [
    "import qcodes as qc\n",
    "import numpy as np"
   ]
  },
  {
   "cell_type": "markdown",
   "metadata": {
    "deletable": true,
    "editable": true
   },
   "source": [
    "QCoDeS provides 5 classes of parameter built in. Three base classes (which must be subclassed to use):\n",
    "- `Parameter` represents a single value at a time\n",
    "  - Example: voltage\n",
    "- `ArrayParameter` represents an array of values of all the same type that are returned all at once\n",
    "  - Example: voltage vs time waveform\n",
    "- `MultiParameter` represents a collection of values with different meaning and possibly different dimension\n",
    "  - Example: I and Q, or I vs time and Q vs time\n",
    "\n",
    "And two ready-to-use subclasses of `Parameter`:\n",
    "- `StandardParameter`\n",
    "- `ManualParameter`\n",
    "\n",
    "which are described in the \"Creating Instrument Drivers\" tutorial."
   ]
  },
  {
   "cell_type": "markdown",
   "metadata": {
    "deletable": true,
    "editable": true
   },
   "source": [
    "## Parameter\n",
    "Most of the time you can use `StandardParameter` directly; even if you have custom `get`/`set` functions, but sometimes it's useful to subclass `Parameter`:"
   ]
  },
  {
   "cell_type": "code",
   "execution_count": 2,
   "metadata": {
    "collapsed": false,
    "deletable": true,
    "editable": true
   },
   "outputs": [
    {
     "name": "stdout",
     "output_type": "stream",
     "text": [
      "first call: 1\n",
      "second call: 2\n"
     ]
    }
   ],
   "source": [
    "class MyCounter(qc.Parameter):\n",
    "    def __init__(self, name):\n",
    "        # only name is required\n",
    "        super().__init__(name, label='Times this has been read',\n",
    "                         vals=qc.validators.Ints(min_value=0),\n",
    "                         docstring='counts how many times get has been called '\n",
    "                                   'but can be reset to any integer >= 0 by set')\n",
    "        self._count = 0\n",
    "    \n",
    "    # you must provide a get method, a set method, or both\n",
    "    def get(self):\n",
    "        self._count += 1\n",
    "        return self._count\n",
    "    \n",
    "    def set(self, val):\n",
    "        # StandardParameter handles validation automatically, Parameter doesn't\n",
    "        self._vals.validate(val)\n",
    "        self._count = val\n",
    "\n",
    "c = MyCounter('c')\n",
    "c2 = MyCounter('c2')\n",
    "\n",
    "# c() is equivalent to c.get()\n",
    "print('first call:', c())\n",
    "print('second call:', c())"
   ]
  },
  {
   "cell_type": "code",
   "execution_count": 3,
   "metadata": {
    "collapsed": false,
    "deletable": true,
    "editable": true
   },
   "outputs": [
    {
     "name": "stdout",
     "output_type": "stream",
     "text": [
      "Loop results: DataSet:\n",
      "   mode     = DataMode.LOCAL\n",
      "   location = False\n",
      "   <Type>   | <array_id> | <array.name> | <array.shape>\n",
      "   Setpoint | c_set      | c            | (5,)\n",
      "   Measured | c2         | c2           | (5,)\n",
      "{\n",
      "  'c2': DataArray[5]: c2\n",
      "    array([ 23.,  24.,  25.,  26.,  27.])\n",
      "  'c_set': DataArray[5]: c_set\n",
      "    array([ 0.,  2.,  4.,  6.,  8.])\n",
      "}\n"
     ]
    }
   ],
   "source": [
    "# c2(val) is equivalent to c2.set(val)\n",
    "c2(22)\n",
    "\n",
    "# use these in a loop\n",
    "data = qc.Loop(c[0:10:2]).each(c2).run_temp()\n",
    "print('Loop results:', data)\n",
    "print(data.arrays)"
   ]
  },
  {
   "cell_type": "code",
   "execution_count": 4,
   "metadata": {
    "collapsed": false,
    "deletable": true,
    "editable": true
   },
   "outputs": [
    {
     "name": "stdout",
     "output_type": "stream",
     "text": [
      "Measure results: DataSet:\n",
      "   mode     = DataMode.LOCAL\n",
      "   location = False\n",
      "   <Type>   | <array_id> | <array.name> | <array.shape>\n",
      "   Setpoint | single_set | single       | (1,)\n",
      "   Measured | c          | c            | (1,)\n",
      "   Measured | c2         | c2           | (1,)\n",
      "{\n",
      "  'c2': DataArray[1]: c2\n",
      "    array([ 28.])\n",
      "  'c': DataArray[1]: c\n",
      "    array([ 9.])\n",
      "  'single_set': DataArray[1]: single_set\n",
      "    array([ 0.])\n",
      "}\n"
     ]
    }
   ],
   "source": [
    "# load a single get call into a new DataSet\n",
    "# not super useful in this case, but it makes\n",
    "# a length-1 array for each item\n",
    "data = qc.Measure(c, c2).run_temp()\n",
    "print('Measure results:', data)\n",
    "print(data.arrays)"
   ]
  },
  {
   "cell_type": "markdown",
   "metadata": {
    "deletable": true,
    "editable": true
   },
   "source": [
    "## ArrayParameter\n",
    "For actions that create a whole array of values at once. When you use it in a `Loop`, it makes a single `DataArray` with the array returned by `get` nested inside extra dimension(s) for the loop.\n",
    "\n",
    "`ArrayParameter` is, for now, only gettable."
   ]
  },
  {
   "cell_type": "code",
   "execution_count": 5,
   "metadata": {
    "collapsed": false,
    "deletable": true,
    "editable": true
   },
   "outputs": [
    {
     "name": "stdout",
     "output_type": "stream",
     "text": [
      "first call: [[0, 1], [2, 3], [4, 5]]\n"
     ]
    }
   ],
   "source": [
    "class ArrayCounter(qc.ArrayParameter):\n",
    "    def __init__(self):\n",
    "        # only name and shape are required\n",
    "        # the setpoints I'm giving here are identical to the defaults\n",
    "        # this param would get but I'll give them anyway for\n",
    "        # demonstration purposes\n",
    "        super().__init__('array_counter', shape=(3, 2),\n",
    "                         label='Total number of values provided',\n",
    "                         unit='',\n",
    "                         # first setpoint array is 1D, second is 2D, etc...\n",
    "                         setpoints=((0, 1, 2), ((0, 1), (0, 1), (0, 1))),\n",
    "                         setpoint_names=('index0', 'index1'),\n",
    "                         setpoint_labels=('Outer param index', 'Inner param index'),\n",
    "                         docstring='fills a 3x2 array with increasing integers')\n",
    "        self._val = 0\n",
    "    \n",
    "    def get(self):\n",
    "        # here I'm returning a nested list, but any sequence type will do.\n",
    "        # tuple, np.array, DataArray...\n",
    "        out = [[self._val + 2 * i + j for j in range(2)] for i in range(3)]\n",
    "        self._val += 6\n",
    "        return out\n",
    "\n",
    "array_counter = ArrayCounter()\n",
    "\n",
    "# simple get\n",
    "print('first call:', array_counter())"
   ]
  },
  {
   "cell_type": "code",
   "execution_count": 6,
   "metadata": {
    "collapsed": false,
    "deletable": true,
    "editable": true
   },
   "outputs": [
    {
     "name": "stdout",
     "output_type": "stream",
     "text": [
      "Measure results: DataSet:\n",
      "   mode     = DataMode.LOCAL\n",
      "   location = False\n",
      "   <Type>   | <array_id>    | <array.name>  | <array.shape>\n",
      "   Measured | array_counter | array_counter | (3, 2)\n",
      "{\n",
      "  'index1': DataArray[3,2]: index1\n",
      "    array([[ 0.,  1.],\n",
      "           [ 0.,  1.],\n",
      "           [ 0.,  1.]])\n",
      "  'array_counter': DataArray[3,2]: array_counter\n",
      "    array([[  6.,   7.],\n",
      "           [  8.,   9.],\n",
      "           [ 10.,  11.]])\n",
      "  'index0': DataArray[3]: index0\n",
      "    array([ 0.,  1.,  2.])\n",
      "}\n"
     ]
    }
   ],
   "source": [
    "# load a single get call into a new DataSet\n",
    "data = qc.Measure(array_counter).run_temp()\n",
    "print('Measure results:', data)\n",
    "print(data.arrays)"
   ]
  },
  {
   "cell_type": "code",
   "execution_count": 7,
   "metadata": {
    "collapsed": false,
    "deletable": true,
    "editable": true
   },
   "outputs": [
    {
     "name": "stdout",
     "output_type": "stream",
     "text": [
      "Loop results: DataSet:\n",
      "   mode     = DataMode.LOCAL\n",
      "   location = False\n",
      "   <Type>   | <array_id>    | <array.name>  | <array.shape>\n",
      "   Setpoint | c_set         | c             | (5,)\n",
      "   Measured | array_counter | array_counter | (5, 3, 2)\n",
      "{\n",
      "  'array_counter': DataArray[5,3,2]: array_counter\n",
      "    array([[[ 12.,  13.],\n",
      "            [ 14.,  15.],\n",
      "            [ 16.,  17.]],\n",
      "    \n",
      "           [[ 18.,  19.],\n",
      "            [ 20.,  21.],\n",
      "            [ 22.,  23.]],\n",
      "    \n",
      "           [[ 24.,  25.],\n",
      "            [ 26.,  27.],\n",
      "            [ 28.,  29.]],\n",
      "    \n",
      "           [[ 30.,  31.],\n",
      "            [ 32.,  33.],\n",
      "            [ 34.,  35.]],\n",
      "    \n",
      "           [[ 36.,  37.],\n",
      "            [ 38.,  39.],\n",
      "            [ 40.,  41.]]])\n",
      "  'index0': DataArray[5,3]: index0\n",
      "    array([[ 0.,  1.,  2.],\n",
      "           [ 0.,  1.,  2.],\n",
      "           [ 0.,  1.,  2.],\n",
      "           [ 0.,  1.,  2.],\n",
      "           [ 0.,  1.,  2.]])\n",
      "  'c_set': DataArray[5]: c_set\n",
      "    array([ 0.,  2.,  4.,  6.,  8.])\n",
      "  'index1': DataArray[5,3,2]: index1\n",
      "    array([[[ 0.,  1.],\n",
      "            [ 0.,  1.],\n",
      "            [ 0.,  1.]],\n",
      "    \n",
      "           [[ 0.,  1.],\n",
      "            [ 0.,  1.],\n",
      "            [ 0.,  1.]],\n",
      "    \n",
      "           [[ 0.,  1.],\n",
      "            [ 0.,  1.],\n",
      "            [ 0.,  1.]],\n",
      "    \n",
      "           [[ 0.,  1.],\n",
      "            [ 0.,  1.],\n",
      "            [ 0.,  1.]],\n",
      "    \n",
      "           [[ 0.,  1.],\n",
      "            [ 0.,  1.],\n",
      "            [ 0.,  1.]]])\n",
      "}\n"
     ]
    }
   ],
   "source": [
    "# nest inside another loop\n",
    "data = qc.Loop(c[0:10:2]).each(array_counter).run_temp()\n",
    "print('Loop results:', data)\n",
    "print(data.arrays)"
   ]
  },
  {
   "cell_type": "markdown",
   "metadata": {
    "deletable": true,
    "editable": true
   },
   "source": [
    "## MultiParameter\n",
    "Return multiple items at once, where each item can be a single value or an array. When you use it in a `Loop`, it makes a separate `DataArray` for each item.\n",
    "\n",
    "NOTE: Most of the kwarg names here are the plural of those used in `Parameter` and `ArrayParameter`. In particular, `MultiParameter` is the ONLY one that uses `units`, all the others use `unit`.\n",
    "\n",
    "`MultiParameter` is, for now, only gettable."
   ]
  },
  {
   "cell_type": "code",
   "execution_count": 8,
   "metadata": {
    "collapsed": false,
    "deletable": true,
    "editable": true
   },
   "outputs": [
    {
     "name": "stdout",
     "output_type": "stream",
     "text": [
      "simple get: (2, 1.0)\n"
     ]
    }
   ],
   "source": [
    "class SingleIQPair(qc.MultiParameter):\n",
    "    def __init__(self, scale_param):\n",
    "        # only name, names, and shapes are required\n",
    "        # this version returns two scalars (shape = `()`)\n",
    "        super().__init__('single_iq', names=('I', 'Q'), shapes=((), ()),\n",
    "                         labels=('In phase amplitude', 'Quadrature amplitude'),\n",
    "                         units=('V', 'V'),\n",
    "                         # including these setpoints is unnecessary here, but\n",
    "                         # if you have a parameter that returns a scalar alongside\n",
    "                         # an array you can represent the scalar as an empty sequence.\n",
    "                         setpoints=((), ()),\n",
    "                         docstring='param that returns two single values, I and Q')\n",
    "        self._scale_param = scale_param\n",
    "    \n",
    "    def get(self):\n",
    "        scale_val = self._scale_param()\n",
    "        return (scale_val, scale_val / 2)\n",
    "\n",
    "scale = qc.ManualParameter('scale', initial_value=2)\n",
    "iq = SingleIQPair(scale_param=scale)\n",
    "\n",
    "# simple get\n",
    "print('simple get:', iq())"
   ]
  },
  {
   "cell_type": "code",
   "execution_count": 9,
   "metadata": {
    "collapsed": false,
    "deletable": true,
    "editable": true
   },
   "outputs": [
    {
     "name": "stdout",
     "output_type": "stream",
     "text": [
      "Loop_results: DataSet:\n",
      "   mode     = DataMode.LOCAL\n",
      "   location = False\n",
      "   <Type>   | <array_id> | <array.name> | <array.shape>\n",
      "   Setpoint | scale_set  | scale        | (10,)\n",
      "   Measured | I          | I            | (10,)\n",
      "   Measured | Q          | Q            | (10,)\n",
      "{\n",
      "  'I': DataArray[10]: I\n",
      "    array([ 0. ,  0.1,  0.2,  0.3,  0.4,  0.5,  0.6,  0.7,  0.8,  0.9])\n",
      "  'scale_set': DataArray[10]: scale_set\n",
      "    array([ 0. ,  0.1,  0.2,  0.3,  0.4,  0.5,  0.6,  0.7,  0.8,  0.9])\n",
      "  'Q': DataArray[10]: Q\n",
      "    array([ 0.  ,  0.05,  0.1 ,  0.15,  0.2 ,  0.25,  0.3 ,  0.35,  0.4 ,  0.45])\n",
      "}\n"
     ]
    }
   ],
   "source": [
    "# Loop usage\n",
    "data = qc.Loop(scale[0:1:.1]).each(iq).run_temp()\n",
    "print('Loop_results:', data)\n",
    "print(data.arrays)"
   ]
  },
  {
   "cell_type": "code",
   "execution_count": 10,
   "metadata": {
    "collapsed": false,
    "deletable": true,
    "editable": true
   },
   "outputs": [
    {
     "name": "stdout",
     "output_type": "stream",
     "text": [
      "simple get (array([0, 1, 2, 3, 4]), array([ 0. ,  0.5,  1. ,  1.5,  2. ]))\n"
     ]
    }
   ],
   "source": [
    "class IQArray(qc.MultiParameter):\n",
    "    def __init__(self, scale_param):\n",
    "        # names, labels, and units are the same \n",
    "        super().__init__('iq_array', names=('I', 'Q'), shapes=((5,), (5,)),\n",
    "                         labels=('In phase amplitude', 'Quadrature amplitude'),\n",
    "                         units=('V', 'V'),\n",
    "                         # note that EACH item needs a sequence of setpoint arrays\n",
    "                         # so a 1D item has its setpoints wrapped in a length-1 tuple\n",
    "                         setpoints=(((0, 1, 2, 3, 4),), ((0, 1, 2, 3, 4),)),\n",
    "                         docstring='param that returns two single values, I and Q')\n",
    "        self._scale_param = scale_param\n",
    "        self._indices = np.array([0, 1, 2, 3, 4])\n",
    "\n",
    "    def get(self):\n",
    "        scale_val = self._scale_param()\n",
    "        return (self._indices * scale_val, self._indices * scale_val / 2)\n",
    "\n",
    "iq_array = IQArray(scale_param=scale)\n",
    "scale(1)\n",
    "\n",
    "# simple get\n",
    "print('simple get', iq_array())"
   ]
  },
  {
   "cell_type": "code",
   "execution_count": 11,
   "metadata": {
    "collapsed": false,
    "deletable": true,
    "editable": true
   },
   "outputs": [
    {
     "name": "stdout",
     "output_type": "stream",
     "text": [
      "Loop_results: DataSet:\n",
      "   mode     = DataMode.LOCAL\n",
      "   location = False\n",
      "   <Type>   | <array_id> | <array.name> | <array.shape>\n",
      "   Setpoint | scale_set  | scale        | (10,)\n",
      "   Measured | index0     | index0       | (10, 5)\n",
      "   Measured | I          | I            | (10, 5)\n",
      "   Measured | Q          | Q            | (10, 5)\n",
      "{\n",
      "  'I': DataArray[10,5]: I\n",
      "    array([[ 0. ,  0. ,  0. ,  0. ,  0. ],\n",
      "           [ 0. ,  0.1,  0.2,  0.3,  0.4],\n",
      "           [ 0. ,  0.2,  0.4,  0.6,  0.8],\n",
      "           [ 0. ,  0.3,  0.6,  0.9,  1.2],\n",
      "           [ 0. ,  0.4,  0.8,  1.2,  1.6],\n",
      "           [ 0. ,  0.5,  1. ,  1.5,  2. ],\n",
      "           [ 0. ,  0.6,  1.2,  1.8,  2.4],\n",
      "           [ 0. ,  0.7,  1.4,  2.1,  2.8],\n",
      "           [ 0. ,  0.8,  1.6,  2.4,  3.2],\n",
      "           [ 0. ,  0.9,  1.8,  2.7,  3.6]])\n",
      "  'Q': DataArray[10,5]: Q\n",
      "    array([[ 0.  ,  0.  ,  0.  ,  0.  ,  0.  ],\n",
      "           [ 0.  ,  0.05,  0.1 ,  0.15,  0.2 ],\n",
      "           [ 0.  ,  0.1 ,  0.2 ,  0.3 ,  0.4 ],\n",
      "           [ 0.  ,  0.15,  0.3 ,  0.45,  0.6 ],\n",
      "           [ 0.  ,  0.2 ,  0.4 ,  0.6 ,  0.8 ],\n",
      "           [ 0.  ,  0.25,  0.5 ,  0.75,  1.  ],\n",
      "           [ 0.  ,  0.3 ,  0.6 ,  0.9 ,  1.2 ],\n",
      "           [ 0.  ,  0.35,  0.7 ,  1.05,  1.4 ],\n",
      "           [ 0.  ,  0.4 ,  0.8 ,  1.2 ,  1.6 ],\n",
      "           [ 0.  ,  0.45,  0.9 ,  1.35,  1.8 ]])\n",
      "  'scale_set': DataArray[10]: scale_set\n",
      "    array([ 0. ,  0.1,  0.2,  0.3,  0.4,  0.5,  0.6,  0.7,  0.8,  0.9])\n",
      "  'index0': DataArray[10,5]: index0\n",
      "    array([[ 0.,  1.,  2.,  3.,  4.],\n",
      "           [ 0.,  1.,  2.,  3.,  4.],\n",
      "           [ 0.,  1.,  2.,  3.,  4.],\n",
      "           [ 0.,  1.,  2.,  3.,  4.],\n",
      "           [ 0.,  1.,  2.,  3.,  4.],\n",
      "           [ 0.,  1.,  2.,  3.,  4.],\n",
      "           [ 0.,  1.,  2.,  3.,  4.],\n",
      "           [ 0.,  1.,  2.,  3.,  4.],\n",
      "           [ 0.,  1.,  2.,  3.,  4.],\n",
      "           [ 0.,  1.,  2.,  3.,  4.]])\n",
      "}\n"
     ]
    }
   ],
   "source": [
    "# Loop usage\n",
    "data = qc.Loop(scale[0:1:.1]).each(iq_array).run_temp()\n",
    "print('Loop_results:', data)\n",
    "print(data.arrays)"
   ]
  }
 ],
 "metadata": {
  "kernelspec": {
   "display_name": "Python 3",
   "language": "python",
   "name": "python3"
  },
  "language_info": {
   "codemirror_mode": {
    "name": "ipython",
    "version": 3
   },
   "file_extension": ".py",
   "mimetype": "text/x-python",
   "name": "python",
   "nbconvert_exporter": "python",
   "pygments_lexer": "ipython3",
   "version": "3.5.2"
  }
 },
 "nbformat": 4,
 "nbformat_minor": 1
}
