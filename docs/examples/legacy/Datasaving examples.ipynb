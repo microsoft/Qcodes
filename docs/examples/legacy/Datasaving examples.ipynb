{
 "cells": [
  {
   "cell_type": "markdown",
   "metadata": {},
   "source": [
    "# Datasaving Examples"
   ]
  },
  {
   "cell_type": "code",
   "execution_count": 1,
   "metadata": {},
   "outputs": [],
   "source": [
    "%matplotlib nbagg\n",
    "import numpy as np\n",
    "from importlib import reload\n",
    "import qcodes as qc"
   ]
  },
  {
   "cell_type": "code",
   "execution_count": 2,
   "metadata": {},
   "outputs": [],
   "source": [
    "import sys\n",
    "import logging\n",
    "# Create logger\n",
    "logger = logging.getLogger()\n",
    "logger.setLevel(logging.DEBUG)\n",
    "\n",
    "# Create STDERR handler\n",
    "handler = logging.StreamHandler(sys.stderr)\n",
    "# ch.setLevel(logging.DEBUG)\n",
    "\n",
    "# Create formatter and add it to the handler\n",
    "formatter = logging.Formatter('%(name)s - %(levelname)s - %(message)s')\n",
    "handler.setFormatter(formatter)\n",
    "\n",
    "# Set STDERR handler as the only handler \n",
    "logger.handlers = [handler]"
   ]
  },
  {
   "cell_type": "code",
   "execution_count": 3,
   "metadata": {},
   "outputs": [],
   "source": [
    "from qcodes.data import hdf5_format\n",
    "reload(hdf5_format)\n",
    "h5fmt = hdf5_format.HDF5Format()"
   ]
  },
  {
   "cell_type": "markdown",
   "metadata": {},
   "source": [
    "## Start a loop and generate data from dummy instruments "
   ]
  },
  {
   "cell_type": "code",
   "execution_count": 4,
   "metadata": {},
   "outputs": [],
   "source": [
    "station = qc.station.Station()"
   ]
  },
  {
   "cell_type": "code",
   "execution_count": 5,
   "metadata": {},
   "outputs": [
    {
     "name": "stderr",
     "output_type": "stream",
     "text": [
      "qcodes.instrument.base - DEBUG - [MockParabola(MockParabola)] Error getting or interpreting *IDN?: ''\n"
     ]
    },
    {
     "data": {
      "text/plain": [
       "'MockParabola'"
      ]
     },
     "execution_count": 5,
     "metadata": {},
     "output_type": "execute_result"
    }
   ],
   "source": [
    "from qcodes.tests.instrument_mocks import MockParabola\n",
    "station.add_component(MockParabola(name='MockParabola'))"
   ]
  },
  {
   "cell_type": "code",
   "execution_count": 6,
   "metadata": {
    "scrolled": false
   },
   "outputs": [
    {
     "name": "stdout",
     "output_type": "stream",
     "text": [
      "Started at 2019-09-27 15:30:35\n"
     ]
    },
    {
     "name": "stderr",
     "output_type": "stream",
     "text": [
      "qcodes.data.data_set - DEBUG - Attempting to write\n",
      "qcodes.data.gnuplot_format - DEBUG - Attempting to write the following group: MockParabola_x_set\n",
      "qcodes.data.gnuplot_format - DEBUG - Cannot match save range, skipping this group.\n",
      "qcodes.data.data_set - DEBUG - Finalising the DataSet. Writing.\n",
      "qcodes.data.gnuplot_format - DEBUG - Attempting to write the following group: MockParabola_x_set\n",
      "qcodes.data.gnuplot_format - DEBUG - Wrote header to file\n",
      "qcodes.data.gnuplot_format - DEBUG - Wrote to file from 0 to 10\n"
     ]
    },
    {
     "name": "stdout",
     "output_type": "stream",
     "text": [
      "DataSet:\n",
      "   location = 'data/2019-09-27/#001_MockParabola_run_15-30-35'\n",
      "   <Type>   | <array_id>                   | <array.name>    | <array.shape>\n",
      "   Setpoint | MockParabola_x_set           | x               | (10,)\n",
      "   Measured | MockParabola_skewed_parabola | skewed_parabola | (10,)\n",
      "Finished at 2019-09-27 15:30:35\n"
     ]
    }
   ],
   "source": [
    "loop = qc.Loop(station.MockParabola.x[-100:100:20]).each(station.MockParabola.skewed_parabola)\n",
    "data_l = loop.run(name='MockParabola_run', formatter=qc.data.gnuplot_format.GNUPlotFormat())\n",
    "\n"
   ]
  },
  {
   "cell_type": "code",
   "execution_count": 7,
   "metadata": {},
   "outputs": [
    {
     "name": "stdout",
     "output_type": "stream",
     "text": [
      "Started at 2019-09-27 15:30:36\n"
     ]
    },
    {
     "name": "stderr",
     "output_type": "stream",
     "text": [
      "qcodes.data.data_set - DEBUG - Attempting to write\n",
      "qcodes.data.data_set - DEBUG - Finalising the DataSet. Writing.\n"
     ]
    },
    {
     "name": "stdout",
     "output_type": "stream",
     "text": [
      "DataSet:\n",
      "   location = 'data/2019-09-27/#002_MockParabola_run_15-30-35'\n",
      "   <Type>   | <array_id>                   | <array.name>    | <array.shape>\n",
      "   Setpoint | MockParabola_x_set           | x               | (10,)\n",
      "   Setpoint | MockParabola_y_set           | y               | (10, 15)\n",
      "   Measured | MockParabola_skewed_parabola | skewed_parabola | (10, 15)\n",
      "Finished at 2019-09-27 15:30:36\n"
     ]
    }
   ],
   "source": [
    "reload(hdf5_format)\n",
    "h5fmt = hdf5_format.HDF5Format()\n",
    "loop = qc.Loop(station.MockParabola.x[-100:100:20]).loop(\n",
    "    station.MockParabola.y[-100:50:10]).each(station.MockParabola.skewed_parabola)\n",
    "data_l = loop.run(name='MockParabola_run', formatter=h5fmt)\n"
   ]
  },
  {
   "cell_type": "code",
   "execution_count": 8,
   "metadata": {},
   "outputs": [],
   "source": [
    "from importlib import reload\n",
    "from qcodes.data import hdf5_format\n",
    "reload(hdf5_format)\n",
    "h5fmt = hdf5_format.HDF5Format()\n",
    "data2 = qc.data.data_set.DataSet(location=data_l.location, formatter=h5fmt)\n",
    "data2.read()"
   ]
  },
  {
   "cell_type": "markdown",
   "metadata": {},
   "source": [
    "## Run the tests for the dataformat"
   ]
  },
  {
   "cell_type": "code",
   "execution_count": 9,
   "metadata": {
    "scrolled": false
   },
   "outputs": [
    {
     "name": "stderr",
     "output_type": "stream",
     "text": [
      "test_closed_file (qcodes.tests.test_hdf5formatter.TestHDF5_Format) ... root - WARNING - Cannot close file, data_set has no open hdf5 file\n",
      "root - WARNING - Cannot close file, data_set has no open hdf5 file\n",
      "ok\n",
      "test_dataset_closing (qcodes.tests.test_hdf5formatter.TestHDF5_Format) ... ok\n",
      "test_dataset_finalize_closes_file (qcodes.tests.test_hdf5formatter.TestHDF5_Format) ... qcodes.data.data_set - DEBUG - Finalising the DataSet. Writing.\n",
      "ok\n",
      "test_dataset_flush_after_write (qcodes.tests.test_hdf5formatter.TestHDF5_Format) ... ok\n",
      "test_dataset_with_missing_attrs (qcodes.tests.test_hdf5formatter.TestHDF5_Format) ... ok\n",
      "test_double_closing_gives_warning (qcodes.tests.test_hdf5formatter.TestHDF5_Format) ... ok\n",
      "test_full_write_read_1D (qcodes.tests.test_hdf5formatter.TestHDF5_Format) ... ok\n",
      "test_full_write_read_2D (qcodes.tests.test_hdf5formatter.TestHDF5_Format) ... ok\n",
      "test_incremental_write (qcodes.tests.test_hdf5formatter.TestHDF5_Format) ... ok\n",
      "test_loop_writing (qcodes.tests.test_hdf5formatter.TestHDF5_Format) ... qcodes.instrument.base - DEBUG - [Loop_writing_test(MockParabola)] Error getting or interpreting *IDN?: ''\n"
     ]
    },
    {
     "name": "stdout",
     "output_type": "stream",
     "text": [
      "Started at 2019-09-27 15:30:36\n"
     ]
    },
    {
     "name": "stderr",
     "output_type": "stream",
     "text": [
      "qcodes.data.data_set - DEBUG - Attempting to write\n",
      "qcodes.data.data_set - DEBUG - Finalising the DataSet. Writing.\n"
     ]
    },
    {
     "name": "stdout",
     "output_type": "stream",
     "text": [
      "DataSet:\n",
      "   location = 'C:\\\\Users\\\\jenielse\\\\AppData\\\\Local\\\\Continuum\\\\miniconda3\\\\envs\\\\qcodes\\\\lib\\\\site-packages\\\\qcodes\\\\unittest_data/2019-09-27/#010_MockLoop_hdf5_test_15-30-36'\n",
      "   <Type>   | <array_id>                        | <array.name>    | <array.shape>\n",
      "   Setpoint | Loop_writing_test_x_set           | x               | (10,)\n",
      "   Measured | Loop_writing_test_skewed_parabola | skewed_parabola | (10,)\n",
      "Finished at 2019-09-27 15:30:36\n"
     ]
    },
    {
     "name": "stderr",
     "output_type": "stream",
     "text": [
      "ok\n",
      "test_loop_writing_2D (qcodes.tests.test_hdf5formatter.TestHDF5_Format) ... qcodes.instrument.base - DEBUG - [Loop_writing_test_2D(MockParabola)] Error getting or interpreting *IDN?: ''\n"
     ]
    },
    {
     "name": "stdout",
     "output_type": "stream",
     "text": [
      "Started at 2019-09-27 15:30:36\n"
     ]
    },
    {
     "name": "stderr",
     "output_type": "stream",
     "text": [
      "qcodes.data.data_set - DEBUG - Attempting to write\n",
      "qcodes.data.data_set - DEBUG - Finalising the DataSet. Writing.\n"
     ]
    },
    {
     "name": "stdout",
     "output_type": "stream",
     "text": [
      "DataSet:\n",
      "   location = 'C:\\\\Users\\\\jenielse\\\\AppData\\\\Local\\\\Continuum\\\\miniconda3\\\\envs\\\\qcodes\\\\lib\\\\site-packages\\\\qcodes\\\\unittest_data/2019-09-27/#011_MockLoop_hdf5_test_15-30-36'\n",
      "   <Type>   | <array_id>                           | <array.name>    | <array.shape>\n",
      "   Setpoint | Loop_writing_test_2D_x_set           | x               | (10,)\n",
      "   Setpoint | Loop_writing_test_2D_y_set           | y               | (10, 10)\n",
      "   Measured | Loop_writing_test_2D_skewed_parabola | skewed_parabola | (10, 10)\n",
      "Finished at 2019-09-27 15:30:36\n"
     ]
    },
    {
     "name": "stderr",
     "output_type": "stream",
     "text": [
      "ok\n",
      "test_metadata_write_read (qcodes.tests.test_hdf5formatter.TestHDF5_Format) ... ok\n",
      "test_partial_dataset (qcodes.tests.test_hdf5formatter.TestHDF5_Format) ... ok\n",
      "test_read_writing_dicts_withlists_to_hdf5 (qcodes.tests.test_hdf5formatter.TestHDF5_Format) ... ok\n",
      "test_reading_into_existing_data_array (qcodes.tests.test_hdf5formatter.TestHDF5_Format) ... ok\n",
      "test_str_to_bool (qcodes.tests.test_hdf5formatter.TestHDF5_Format) ... ok\n",
      "test_writing_metadata (qcodes.tests.test_hdf5formatter.TestHDF5_Format) ... ok\n",
      "test_writing_unsupported_types_to_hdf5 (qcodes.tests.test_hdf5formatter.TestHDF5_Format) ... root - WARNING - Type \"<class 'qcodes.data.data_set.DataSet'>\" for \"nested_dataset\":\"DataSet:\n",
      "   location = 'C:\\\\Users\\\\jenielse\\\\AppData\\\\Local\\\\Continuum\\\\miniconda3\\\\envs\\\\qcodes\\\\lib\\\\site-packages\\\\qcodes\\\\unittest_data/2019-09-27/#017_test_missing_attr_15-30-37'\n",
      "   <Type> | <array_id> | <array.name> | <array.shape>\" not supported, storing as string\n",
      "root - WARNING - List of type \"<class 'qcodes.data.data_set.DataSet'>\" for \"list_of_dataset\":\"[DataSet:\n",
      "   location = 'C:\\\\Users\\\\jenielse\\\\AppData\\\\Local\\\\Continuum\\\\miniconda3\\\\envs\\\\qcodes\\\\lib\\\\site-packages\\\\qcodes\\\\unittest_data/2019-09-27/#017_test_missing_attr_15-30-37'\n",
      "   <Type> | <array_id> | <array.name> | <array.shape>, DataSet:\n",
      "   location = 'C:\\\\Users\\\\jenielse\\\\AppData\\\\Local\\\\Continuum\\\\miniconda3\\\\envs\\\\qcodes\\\\lib\\\\site-packages\\\\qcodes\\\\unittest_data/2019-09-27/#017_test_missing_attr_15-30-37'\n",
      "   <Type> | <array_id> | <array.name> | <array.shape>]\" not supported, storing as string\n",
      "ok\n",
      "\n",
      "----------------------------------------------------------------------\n",
      "Ran 18 tests in 1.117s\n",
      "\n",
      "OK\n"
     ]
    }
   ],
   "source": [
    "from qcodes.utils import helpers\n",
    "reload(helpers)\n",
    "reload(hdf5_format)\n",
    "import unittest\n",
    "h5fmt = hdf5_format.HDF5Format()\n",
    "import qcodes.tests.test_hdf5formatter as tf\n",
    "reload(tf)\n",
    "tst = tf.TestHDF5_Format\n",
    "suite = unittest.defaultTestLoader.loadTestsFromTestCase(tst)\n",
    "result = unittest.TextTestRunner(verbosity=2).run(suite)\n"
   ]
  },
  {
   "cell_type": "code",
   "execution_count": null,
   "metadata": {},
   "outputs": [],
   "source": []
  },
  {
   "cell_type": "code",
   "execution_count": null,
   "metadata": {},
   "outputs": [],
   "source": []
  },
  {
   "cell_type": "code",
   "execution_count": null,
   "metadata": {},
   "outputs": [],
   "source": []
  }
 ],
 "metadata": {
  "kernelspec": {
   "display_name": "Python 3",
   "language": "python",
   "name": "python3"
  },
  "language_info": {
   "codemirror_mode": {
    "name": "ipython",
    "version": 3
   },
   "file_extension": ".py",
   "mimetype": "text/x-python",
   "name": "python",
   "nbconvert_exporter": "python",
   "pygments_lexer": "ipython3",
   "version": "3.7.4"
  },
  "widgets": {
   "state": {},
   "version": "1.1.1"
  }
 },
 "nbformat": 4,
 "nbformat_minor": 1
}
