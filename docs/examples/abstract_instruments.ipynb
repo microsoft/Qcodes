{
 "cells": [
  {
   "cell_type": "markdown",
   "id": "938d9118",
   "metadata": {},
   "source": [
    "# Abstract Instruments and paramters\n",
    "\n",
    "Abstract parameters allow us to create abstract instrument types which are guarenteed to have certain parameters present. For instance, this will allow us to create a unified interface for all voltage sources.\n",
    "\n",
    "Usually, when a parameter is added to an instrument and that instrument is subclassed and a parameter of the same name is added in the subclass as well, this will raise an exception. This issue is circumvented by:\n",
    "\n",
    "1. creating an abstract instrument by using the `abstract_instrument` class decorator, which serves as a base class. \n",
    "2. specifying in the base class that the parameter being added there is of type AbstractParameter.\n",
    "\n",
    "A catch is that, if a unit is specified in the base class and a unit is specified in the sub class, these units must match."
   ]
  },
  {
   "cell_type": "code",
   "execution_count": 1,
   "id": "400b6951",
   "metadata": {},
   "outputs": [],
   "source": [
    "from qcodes import Instrument \n",
    "from qcodes.instrument.abstract import AbstractParameter, abstract_instrument"
   ]
  },
  {
   "cell_type": "code",
   "execution_count": 2,
   "id": "84c65220",
   "metadata": {},
   "outputs": [],
   "source": [
    "@abstract_instrument\n",
    "class BaseVoltageSource(Instrument): \n",
    "    \"\"\"\n",
    "    We demand that all voltage sources implement a standard interface\n",
    "    defined by this base class \n",
    "    \"\"\"\n",
    "    \n",
    "    def __init__(self, name: str): \n",
    "        super().__init__(name)\n",
    "        \n",
    "        self.add_parameter(\n",
    "            \"voltage\", \n",
    "            unit=\"V\", \n",
    "            parameter_class=AbstractParameter\n",
    "        )\n",
    "        \n",
    "        self.add_parameter(\n",
    "            \"current\", \n",
    "            unit=\"A\", \n",
    "            get_cmd=None, \n",
    "            set_cmd=None \n",
    "        )"
   ]
  },
  {
   "cell_type": "code",
   "execution_count": 3,
   "id": "16ca9173",
   "metadata": {},
   "outputs": [],
   "source": [
    "class MyVoltageSource(BaseVoltageSource): \n",
    "    \"\"\"\n",
    "    A voltage source driver for a particular instrument \n",
    "    make and model. \n",
    "    \"\"\"\n",
    "    \n",
    "    def __init__(self, name: str): \n",
    "        super().__init__(name)\n",
    "        \n",
    "        self.add_parameter(\n",
    "            \"voltage\", \n",
    "            unit=\"V\", \n",
    "            set_cmd=None, \n",
    "            get_cmd=None\n",
    "        )"
   ]
  },
  {
   "cell_type": "code",
   "execution_count": 4,
   "id": "a59e967d",
   "metadata": {},
   "outputs": [
    {
     "name": "stdout",
     "output_type": "stream",
     "text": [
      "0.1\n"
     ]
    }
   ],
   "source": [
    "# We can use this voltage source like any other QCoDeS driver \n",
    "source = MyVoltageSource(\"name1\")\n",
    "source.voltage(0.1)\n",
    "print(source.voltage())"
   ]
  },
  {
   "cell_type": "code",
   "execution_count": 5,
   "id": "e23c005c",
   "metadata": {},
   "outputs": [
    {
     "name": "stdout",
     "output_type": "stream",
     "text": [
      "-0.1\n"
     ]
    }
   ],
   "source": [
    "# Paramters other then 'AbstractParameter' are inherited in the usual way \n",
    "source.current(-0.1)\n",
    "print(source.current())"
   ]
  },
  {
   "cell_type": "code",
   "execution_count": 5,
   "id": "b5e4d140",
   "metadata": {},
   "outputs": [],
   "source": [
    "class WrongSource(BaseVoltageSource): \n",
    "    \"\"\"\n",
    "    Let's 'forget' to implement the voltage parameter\n",
    "    \"\"\""
   ]
  },
  {
   "cell_type": "code",
   "execution_count": 6,
   "id": "8f9c0b81",
   "metadata": {},
   "outputs": [
    {
     "ename": "AbstractParameterException",
     "evalue": "Class 'WrongSource' un-implemented Abstract Parameter(s): 'voltage'",
     "output_type": "error",
     "traceback": [
      "\u001b[1;31m---------------------------------------------------------------------------\u001b[0m",
      "\u001b[1;31mAbstractParameterException\u001b[0m                Traceback (most recent call last)",
      "\u001b[1;32m<ipython-input-6-5d15d7597149>\u001b[0m in \u001b[0;36m<module>\u001b[1;34m\u001b[0m\n\u001b[1;32m----> 1\u001b[1;33m \u001b[0mWrongSource\u001b[0m\u001b[1;33m(\u001b[0m\u001b[1;34m\"name2\"\u001b[0m\u001b[1;33m)\u001b[0m  \u001b[1;31m# This will go badly wrong because we have not implemented an abstract parameter :-)\u001b[0m\u001b[1;33m\u001b[0m\u001b[1;33m\u001b[0m\u001b[0m\n\u001b[0m",
      "\u001b[1;32mc:\\users\\sochatoo\\development\\qcodes\\qcodes\\instrument\\abstract.py\u001b[0m in \u001b[0;36m__init_new__\u001b[1;34m(self, *args, **kwargs)\u001b[0m\n\u001b[0;32m     54\u001b[0m                 \u001b[0mcls_name\u001b[0m \u001b[1;33m=\u001b[0m \u001b[0msub_cls\u001b[0m\u001b[1;33m.\u001b[0m\u001b[0m__name__\u001b[0m\u001b[1;33m\u001b[0m\u001b[1;33m\u001b[0m\u001b[0m\n\u001b[0;32m     55\u001b[0m \u001b[1;33m\u001b[0m\u001b[0m\n\u001b[1;32m---> 56\u001b[1;33m                 raise AbstractParameterException(\n\u001b[0m\u001b[0;32m     57\u001b[0m                     \u001b[1;34mf\"Class '{cls_name}' un-implemented Abstract Parameter(s): \"\u001b[0m \u001b[1;33m+\u001b[0m\u001b[1;33m\u001b[0m\u001b[1;33m\u001b[0m\u001b[0m\n\u001b[0;32m     58\u001b[0m                     \u001b[1;34m\", \"\u001b[0m\u001b[1;33m.\u001b[0m\u001b[0mjoin\u001b[0m\u001b[1;33m(\u001b[0m\u001b[1;33m[\u001b[0m\u001b[1;34mf\"'{name}'\"\u001b[0m \u001b[1;32mfor\u001b[0m \u001b[0mname\u001b[0m \u001b[1;32min\u001b[0m \u001b[0mabstract_parameters\u001b[0m\u001b[1;33m]\u001b[0m\u001b[1;33m)\u001b[0m\u001b[1;33m\u001b[0m\u001b[1;33m\u001b[0m\u001b[0m\n",
      "\u001b[1;31mAbstractParameterException\u001b[0m: Class 'WrongSource' un-implemented Abstract Parameter(s): 'voltage'"
     ]
    }
   ],
   "source": [
    "WrongSource(\"name2\")  # This will go badly wrong because we have not implemented an abstract parameter :-)"
   ]
  },
  {
   "cell_type": "code",
   "execution_count": 7,
   "id": "e37019bf",
   "metadata": {},
   "outputs": [],
   "source": [
    "class WrongSource2(BaseVoltageSource): \n",
    "    \"\"\"\n",
    "    We implement the voltage paramter with the wrong unit \n",
    "    \"\"\"\n",
    "    \n",
    "    def __init__(self, name: str): \n",
    "        super().__init__(name)\n",
    "        \n",
    "        self.add_parameter(\n",
    "           \"voltage\", \n",
    "           unit=\"mV\"\n",
    "        )   "
   ]
  },
  {
   "cell_type": "code",
   "execution_count": 8,
   "id": "515ceb65",
   "metadata": {},
   "outputs": [
    {
     "ename": "AbstractParameterException",
     "evalue": "The unit of the parameter 'voltage' is 'mV', which is inconsistent with the unit 'V' specified earlier. This is usually because a driver is a subclass of a baseclass which defines a parameter of the same name but with different units",
     "output_type": "error",
     "traceback": [
      "\u001b[1;31m---------------------------------------------------------------------------\u001b[0m",
      "\u001b[1;31mAbstractParameterException\u001b[0m                Traceback (most recent call last)",
      "\u001b[1;32m<ipython-input-8-6d0b7ce59b3d>\u001b[0m in \u001b[0;36m<module>\u001b[1;34m\u001b[0m\n\u001b[1;32m----> 1\u001b[1;33m \u001b[0mWrongSource2\u001b[0m\u001b[1;33m(\u001b[0m\u001b[1;34m\"name4\"\u001b[0m\u001b[1;33m)\u001b[0m  \u001b[1;31m# An excpetion will be raised, complaining about unit mismatch.\u001b[0m\u001b[1;33m\u001b[0m\u001b[1;33m\u001b[0m\u001b[0m\n\u001b[0m",
      "\u001b[1;32mc:\\users\\sochatoo\\development\\qcodes\\qcodes\\instrument\\abstract.py\u001b[0m in \u001b[0;36m__init_new__\u001b[1;34m(self, *args, **kwargs)\u001b[0m\n\u001b[0;32m     43\u001b[0m             \u001b[0man\u001b[0m \u001b[0mexception\u001b[0m\u001b[1;33m.\u001b[0m\u001b[1;33m\u001b[0m\u001b[1;33m\u001b[0m\u001b[0m\n\u001b[0;32m     44\u001b[0m             \"\"\"\n\u001b[1;32m---> 45\u001b[1;33m             \u001b[0m__init__\u001b[0m\u001b[1;33m(\u001b[0m\u001b[0mself\u001b[0m\u001b[1;33m,\u001b[0m \u001b[1;33m*\u001b[0m\u001b[0margs\u001b[0m\u001b[1;33m,\u001b[0m \u001b[1;33m**\u001b[0m\u001b[0mkwargs\u001b[0m\u001b[1;33m)\u001b[0m\u001b[1;33m\u001b[0m\u001b[1;33m\u001b[0m\u001b[0m\n\u001b[0m\u001b[0;32m     46\u001b[0m             \u001b[1;31m# after the usual initialization...\u001b[0m\u001b[1;33m\u001b[0m\u001b[1;33m\u001b[0m\u001b[1;33m\u001b[0m\u001b[0m\n\u001b[0;32m     47\u001b[0m \u001b[1;33m\u001b[0m\u001b[0m\n",
      "\u001b[1;32m<ipython-input-7-f578ad923b38>\u001b[0m in \u001b[0;36m__init__\u001b[1;34m(self, name)\u001b[0m\n\u001b[0;32m      7\u001b[0m         \u001b[0msuper\u001b[0m\u001b[1;33m(\u001b[0m\u001b[1;33m)\u001b[0m\u001b[1;33m.\u001b[0m\u001b[0m__init__\u001b[0m\u001b[1;33m(\u001b[0m\u001b[0mname\u001b[0m\u001b[1;33m)\u001b[0m\u001b[1;33m\u001b[0m\u001b[1;33m\u001b[0m\u001b[0m\n\u001b[0;32m      8\u001b[0m \u001b[1;33m\u001b[0m\u001b[0m\n\u001b[1;32m----> 9\u001b[1;33m         self.add_parameter(\n\u001b[0m\u001b[0;32m     10\u001b[0m            \u001b[1;34m\"voltage\"\u001b[0m\u001b[1;33m,\u001b[0m\u001b[1;33m\u001b[0m\u001b[1;33m\u001b[0m\u001b[0m\n\u001b[0;32m     11\u001b[0m            \u001b[0munit\u001b[0m\u001b[1;33m=\u001b[0m\u001b[1;34m\"mV\"\u001b[0m\u001b[1;33m\u001b[0m\u001b[1;33m\u001b[0m\u001b[0m\n",
      "\u001b[1;32mc:\\users\\sochatoo\\development\\qcodes\\qcodes\\instrument\\abstract.py\u001b[0m in \u001b[0;36madd_parameter\u001b[1;34m(self, name, parameter_class, **kwargs)\u001b[0m\n\u001b[0;32m     74\u001b[0m \u001b[1;33m\u001b[0m\u001b[0m\n\u001b[0;32m     75\u001b[0m             \u001b[1;32mif\u001b[0m \u001b[0mexisting_unit\u001b[0m \u001b[1;32mand\u001b[0m \u001b[0mexisting_unit\u001b[0m \u001b[1;33m!=\u001b[0m \u001b[0mnew_unit\u001b[0m\u001b[1;33m:\u001b[0m\u001b[1;33m\u001b[0m\u001b[1;33m\u001b[0m\u001b[0m\n\u001b[1;32m---> 76\u001b[1;33m                 raise AbstractParameterException(\n\u001b[0m\u001b[0;32m     77\u001b[0m                     \u001b[1;34mf\"The unit of the parameter '{name}' is '{new_unit}', \"\u001b[0m\u001b[1;33m\u001b[0m\u001b[1;33m\u001b[0m\u001b[0m\n\u001b[0;32m     78\u001b[0m                     \u001b[1;34mf\"which is inconsistent with the unit '{existing_unit}' \"\u001b[0m\u001b[1;33m\u001b[0m\u001b[1;33m\u001b[0m\u001b[0m\n",
      "\u001b[1;31mAbstractParameterException\u001b[0m: The unit of the parameter 'voltage' is 'mV', which is inconsistent with the unit 'V' specified earlier. This is usually because a driver is a subclass of a baseclass which defines a parameter of the same name but with different units"
     ]
    }
   ],
   "source": [
    "WrongSource2(\"name4\")  # An excpetion will be raised, complaining about unit mismatch. "
   ]
  },
  {
   "cell_type": "code",
   "execution_count": 15,
   "id": "40d8522c",
   "metadata": {},
   "outputs": [],
   "source": [
    "class A: \n",
    "    def f(self): \n",
    "        print(\"this is A\")\n",
    "\n",
    "class B: \n",
    "    def f(self): \n",
    "        super().f()\n",
    "        print(\"this is B\")\n",
    "\n",
    "class C(A, B): \n",
    "    def f(self): \n",
    "        super().f()\n",
    "        print(\"this is C\")"
   ]
  },
  {
   "cell_type": "code",
   "execution_count": 16,
   "id": "5fa58b9f",
   "metadata": {},
   "outputs": [],
   "source": [
    "c = C()"
   ]
  },
  {
   "cell_type": "code",
   "execution_count": 17,
   "id": "65925d63",
   "metadata": {},
   "outputs": [
    {
     "name": "stdout",
     "output_type": "stream",
     "text": [
      "this is A\n",
      "this is C\n"
     ]
    }
   ],
   "source": [
    "c.f()"
   ]
  },
  {
   "cell_type": "code",
   "execution_count": null,
   "id": "9f9a039c",
   "metadata": {},
   "outputs": [],
   "source": []
  }
 ],
 "metadata": {
  "kernelspec": {
   "display_name": "Python 3",
   "language": "python",
   "name": "python3"
  },
  "language_info": {
   "codemirror_mode": {
    "name": "ipython",
    "version": 3
   },
   "file_extension": ".py",
   "mimetype": "text/x-python",
   "name": "python",
   "nbconvert_exporter": "python",
   "pygments_lexer": "ipython3",
   "version": "3.8.10"
  }
 },
 "nbformat": 4,
 "nbformat_minor": 5
}
