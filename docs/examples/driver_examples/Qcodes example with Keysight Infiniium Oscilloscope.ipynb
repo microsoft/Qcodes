{
 "cells": [
  {
   "cell_type": "markdown",
   "metadata": {},
   "source": [
    "# Example Notebook for Keysight  Infiniium Oscilloscopes\n",
    "This notebook is indendet to give an overview over the functions implemented in the QCoDeS driver for the Keysight Infinium Oscilloscopes. The driver has been tested with the MSOS104A.\n",
    "Please note that the oscilloscopes have plenty of more functions, that have not yet been implemented. Feel free to contribute, request features or report bugs."
   ]
  },
  {
   "cell_type": "code",
   "execution_count": 1,
   "metadata": {},
   "outputs": [],
   "source": [
    "%matplotlib inline"
   ]
  },
  {
   "cell_type": "markdown",
   "metadata": {},
   "source": [
    "### Importing Dependencies"
   ]
  },
  {
   "cell_type": "code",
   "execution_count": 2,
   "metadata": {},
   "outputs": [],
   "source": [
    "# python imports\n",
    "import logging\n",
    "# third party\n",
    "import matplotlib.pyplot as plt\n",
    "\n",
    "# qcodes imports\n",
    "import qcodes as qc\n",
    "import qcodes.instrument_drivers.Keysight.Infiniium as MSO\n",
    "\n",
    "#setup\n",
    "logger = logging.getLogger()\n",
    "logger.setLevel(logging.DEBUG)"
   ]
  },
  {
   "cell_type": "markdown",
   "metadata": {},
   "source": [
    "### Create the Instrument\n",
    "please insert the right address of your local scope (TCPIP...) you can find the address with the NI-MAX app or within the network settings of the scope."
   ]
  },
  {
   "cell_type": "code",
   "execution_count": 3,
   "metadata": {},
   "outputs": [
    {
     "name": "stdout",
     "output_type": "stream",
     "text": [
      "Connected to: KEYSIGHT TECHNOLOGIES MSOX92004A (serial:MY55300101, firmware:06.10.01001) in 0.05s\n"
     ]
    }
   ],
   "source": [
    "mso = MSO.Infiniium('MSO', \"TCPIP0::169.254.168.53::INSTR\")"
   ]
  },
  {
   "cell_type": "markdown",
   "metadata": {},
   "source": [
    "### Prepare Trace\n",
    "In this example we are going to acquire the a 100kHz sine wave with 1Vpp from a waveform generator at connected to channel 4 of the scope. Therefore:\n",
    " - all the other channels are hidden\n",
    " - the time scale is adjusted to allow for one periode\n",
    " - the time scale is adjusted to have times starting from zero\n",
    " - the range of channel four is set to 1.2V"
   ]
  },
  {
   "cell_type": "code",
   "execution_count": 24,
   "metadata": {},
   "outputs": [],
   "source": [
    "for i in range(4):\n",
    "    mso.channels[i].display(False)\n",
    "mso.ch4.display(True)\n",
    "mso.timebase_range(10e-3)\n",
    "mso.timebase_position(10e-3)\n",
    "mso.ch4.range(1.2)"
   ]
  },
  {
   "cell_type": "markdown",
   "metadata": {},
   "source": [
    "### Trigger Setup\n",
    "we want to use the input signal itself as the trigger. Therefor the trigger is first enabled, the trigger source is set and we raise the level to 0.4 V, just for avoiding a boring symmetric function."
   ]
  },
  {
   "cell_type": "code",
   "execution_count": 25,
   "metadata": {},
   "outputs": [],
   "source": [
    "mso.trigger_enabled(True)\n",
    "mso.trigger_edge_source('CHANnel4')\n",
    "mso.trigger_edge_slope('negative')\n",
    "mso.ch4.trigger_level(0.4)"
   ]
  },
  {
   "cell_type": "markdown",
   "metadata": {},
   "source": [
    "## Data Acquisition\n",
    "We are going to acquire 100k datapoints with 16bit depth over one periode. So we need a sample rate of 10 MS/s."
   ]
  },
  {
   "cell_type": "code",
   "execution_count": 26,
   "metadata": {},
   "outputs": [],
   "source": [
    "nPoints = 100000;\n",
    "mso.acquire_points(nPoints)\n",
    "mso.acquire_sample_rate(nPoints/mso.timebase_range())"
   ]
  },
  {
   "cell_type": "markdown",
   "metadata": {},
   "source": [
    "It is important to remember to prepare the trace before acquisition."
   ]
  },
  {
   "cell_type": "code",
   "execution_count": 27,
   "metadata": {},
   "outputs": [],
   "source": [
    "mso.ch4.trace.prepare_curvedata()"
   ]
  },
  {
   "cell_type": "markdown",
   "metadata": {},
   "source": [
    "Then the parameter can be acquire as usual"
   ]
  },
  {
   "cell_type": "code",
   "execution_count": 28,
   "metadata": {},
   "outputs": [
    {
     "name": "stdout",
     "output_type": "stream",
     "text": [
      "DataSet:\n",
      "   location = 'data/2018-12-04/#007_{name}_17-32-28'\n",
      "   <Type>   | <array_id>      | <array.name> | <array.shape>\n",
      "   Measured | MSO_chan4_trace | trace        | (100000,)\n",
      "acquired at 2018-12-04 17:32:29\n"
     ]
    }
   ],
   "source": [
    "data = qc.Measure(mso.ch4.trace).run()"
   ]
  },
  {
   "cell_type": "markdown",
   "metadata": {},
   "source": [
    "The data looks as expected (hopefully)"
   ]
  },
  {
   "cell_type": "code",
   "execution_count": 29,
   "metadata": {
    "scrolled": false
   },
   "outputs": [
    {
     "data": {
      "image/png": "[encoded data removed]",
      "text/plain": [
       "<Figure size 432x288 with 1 Axes>"
      ]
     },
     "metadata": {
      "needs_background": "light"
     },
     "output_type": "display_data"
    }
   ],
   "source": [
    "plot = qc.MatPlot(data.arrays['MSO_chan4_trace'])"
   ]
  },
  {
   "cell_type": "code",
   "execution_count": 11,
   "metadata": {},
   "outputs": [
    {
     "name": "stdout",
     "output_type": "stream",
     "text": [
      "3.9256247110E-08\n",
      "2.894770007E-09\n",
      "6.2130413897E-08\n",
      "8.1102020761E-08\n",
      "6.6053946021E-08\n",
      "5.1525659247E-08\n",
      "8.885090529E-09\n",
      "3.5879183842E-08\n",
      "5.5621387079E-08\n",
      "4.8090951686E-08\n"
     ]
    }
   ],
   "source": [
    "import time \n",
    "\n",
    "for i in range(10): \n",
    "    xorn = mso.ask(\":WAVeform:XORigin?\")\n",
    "    print(xorn)\n",
    "    time.sleep(2.0)"
   ]
  },
  {
   "cell_type": "code",
   "execution_count": 23,
   "metadata": {},
   "outputs": [
    {
     "data": {
      "text/plain": [
       "'4.6382369973E-08'"
      ]
     },
     "execution_count": 23,
     "metadata": {},
     "output_type": "execute_result"
    }
   ],
   "source": [
    "mso.write(\":WAVeform:XORigin 1.0000000\")\n",
    "mso.ask(\":WAVeform:XORigin?\")"
   ]
  },
  {
   "cell_type": "code",
   "execution_count": null,
   "metadata": {},
   "outputs": [],
   "source": []
  }
 ],
 "metadata": {
  "kernelspec": {
   "display_name": "Python 3",
   "language": "python",
   "name": "python3"
  },
  "language_info": {
   "codemirror_mode": {
    "name": "ipython",
    "version": 3
   },
   "file_extension": ".py",
   "mimetype": "text/x-python",
   "name": "python",
   "nbconvert_exporter": "python",
   "pygments_lexer": "ipython3",
   "version": "3.6.7"
  },
  "nbsphinx": {
   "execute": "never"
  }
 },
 "nbformat": 4,
 "nbformat_minor": 2
}
