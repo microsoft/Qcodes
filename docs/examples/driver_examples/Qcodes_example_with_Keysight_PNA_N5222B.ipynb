{
 "cells": [
  {
   "cell_type": "markdown",
   "metadata": {},
   "source": [
    "# Example Notebook for Keysight Network Analyzers\n",
    "\n",
    "This notebook is indendet to give an overview over the functions implemented in the QCoDeS driver for the Keysight network analyzers. The driver is implemented to be generic as possible, with individual instrument drivers filling in only the hardware limits of the instrument, so although this example uses the N5245A, the concepts and code should work for any keysight network analyzer."
   ]
  },
  {
   "cell_type": "code",
   "execution_count": 1,
   "metadata": {},
   "outputs": [],
   "source": [
    "%matplotlib inline"
   ]
  },
  {
   "cell_type": "code",
   "execution_count": 2,
   "metadata": {},
   "outputs": [],
   "source": [
    "# Import Dependencies\n",
    "\n",
    "import numpy as np \n",
    "import logging\n",
    "import matplotlib.pyplot as plt\n",
    "\n",
    "# qcodes imports\n",
    "import qcodes as qc\n",
    "from qcodes.dataset.data_set import new_data_set\n",
    "from qcodes.dataset.experiment_container import new_experiment, load_experiment_by_name\n",
    "from qcodes.dataset.measurements import Measurement\n",
    "from qcodes.dataset.plotting import plot_by_id\n",
    "from qcodes.instrument_drivers.Keysight.N5222B import N5222B"
   ]
  },
  {
   "cell_type": "code",
   "execution_count": 3,
   "metadata": {},
   "outputs": [
    {
     "name": "stdout",
     "output_type": "stream",
     "text": [
      "Experiment loaded. Last ID no: 50\n"
     ]
    }
   ],
   "source": [
    "qc.initialise_database()\n",
    "\n",
    "# Start experiment\n",
    "exp_name = 'PNA_Example_N5222B'\n",
    "sample_name = 'sample_bar_code'\n",
    "try:\n",
    "    exp = load_experiment_by_name(exp_name, sample=sample_name)\n",
    "    print('Experiment loaded. Last ID no:', exp.last_counter)\n",
    "except ValueError:\n",
    "    exp = new_experiment(exp_name, sample_name)\n",
    "    print('Starting new experiment.')"
   ]
  },
  {
   "cell_type": "markdown",
   "metadata": {},
   "source": [
    "## Connect to the instrument\n",
    "\n",
    "You will have to insert the correct VISA address for your PNA below. On my PC, the PNA has IP address `192.168.0.10`. You can generally use NI MAX or Agilent IO Toolkit to figure out what the VISA address of your instrument is, particularly for USB or GPIB connections."
   ]
  },
  {
   "cell_type": "code",
   "execution_count": 4,
   "metadata": {},
   "outputs": [
    {
     "name": "stdout",
     "output_type": "stream",
     "text": [
      "Connected to: Keysight Technologies N5222B (serial:MY57041028, firmware:A.13.25.04) in 0.13s\n"
     ]
    }
   ],
   "source": [
    "pna = N5222B('pna', 'GPIB0::16::INSTR')"
   ]
  },
  {
   "cell_type": "markdown",
   "metadata": {},
   "source": [
    "## Managing traces \n",
    "\n",
    "A weakness of the old driver is that it cannot define new traces on the instrument, nor make a trace on a particular channel. "
   ]
  },
  {
   "cell_type": "code",
   "execution_count": 5,
   "metadata": {},
   "outputs": [],
   "source": [
    "pna.delete_all_traces()\n",
    "\n",
    "# Note: This this different then \n",
    "# pna.delete_trace(\"all\")\n",
    "# as this command will delete traces on channel 1 only"
   ]
  },
  {
   "cell_type": "code",
   "execution_count": 6,
   "metadata": {},
   "outputs": [
    {
     "data": {
      "text/plain": [
       "{}"
      ]
     },
     "execution_count": 6,
     "metadata": {},
     "output_type": "execute_result"
    }
   ],
   "source": [
    "pna.trace"
   ]
  },
  {
   "cell_type": "markdown",
   "metadata": {},
   "source": [
    "NB: If we manually add a trace to the intrument this will be shown here as well"
   ]
  },
  {
   "cell_type": "code",
   "execution_count": 7,
   "metadata": {},
   "outputs": [],
   "source": [
    "trace = pna.add_trace(\"T_S11\", \"S11\")  # Let's make a S11 trace on channel 1. The name of this trace is T_S11"
   ]
  },
  {
   "cell_type": "code",
   "execution_count": 8,
   "metadata": {},
   "outputs": [
    {
     "data": {
      "text/plain": [
       "{'T_S11': T_S11, S11}"
      ]
     },
     "execution_count": 8,
     "metadata": {},
     "output_type": "execute_result"
    }
   ],
   "source": [
    "pna.trace"
   ]
  },
  {
   "cell_type": "code",
   "execution_count": 9,
   "metadata": {},
   "outputs": [
    {
     "name": "stdout",
     "output_type": "stream",
     "text": [
      "T_S11, S11\n"
     ]
    }
   ],
   "source": [
    "print(trace)"
   ]
  },
  {
   "cell_type": "code",
   "execution_count": 10,
   "metadata": {},
   "outputs": [
    {
     "data": {
      "text/plain": [
       "{}"
      ]
     },
     "execution_count": 10,
     "metadata": {},
     "output_type": "execute_result"
    }
   ],
   "source": [
    "# By default we are always working on channel 1. \n",
    "# We must explicitly say that we want to add/update/delete/show traces on other channels. \n",
    "# For instance, show the traces on channel 2\n",
    "pna.channel[1].trace  "
   ]
  },
  {
   "cell_type": "code",
   "execution_count": 11,
   "metadata": {},
   "outputs": [
    {
     "name": "stdout",
     "output_type": "stream",
     "text": [
      "{}\n"
     ]
    }
   ],
   "source": [
    "# We can delete a trace \n",
    "pna.trace[\"T_S11\"].delete()\n",
    "print(pna.trace)"
   ]
  },
  {
   "cell_type": "code",
   "execution_count": 12,
   "metadata": {},
   "outputs": [],
   "source": [
    "# Alternatively, we can delete a trace like so\n",
    "if \"T_S11\" in pna.channel[0].trace: \n",
    "    pna.delete_trace(\"T_S11\")"
   ]
  },
  {
   "cell_type": "markdown",
   "metadata": {},
   "source": [
    "## Measuring\n",
    "\n",
    "Below we see how we can perform a measurement"
   ]
  },
  {
   "cell_type": "code",
   "execution_count": 15,
   "metadata": {},
   "outputs": [
    {
     "name": "stdout",
     "output_type": "stream",
     "text": [
      "Starting experimental run with id: 67\n"
     ]
    },
    {
     "ename": "ValueError",
     "evalue": "Could not find hash sign (#) indicating the start of the block.",
     "output_type": "error",
     "traceback": [
      "\u001b[1;31m---------------------------------------------------------------------------\u001b[0m",
      "\u001b[1;31mValueError\u001b[0m                                Traceback (most recent call last)",
      "\u001b[1;32m<ipython-input-15-a07ce60cd48c>\u001b[0m in \u001b[0;36m<module>\u001b[1;34m()\u001b[0m\n\u001b[0;32m     30\u001b[0m     \u001b[0mpna\u001b[0m\u001b[1;33m.\u001b[0m\u001b[0mrun_sweep\u001b[0m\u001b[1;33m(\u001b[0m\u001b[0maverages\u001b[0m\u001b[1;33m=\u001b[0m\u001b[1;36m2\u001b[0m\u001b[1;33m)\u001b[0m\u001b[1;33m\u001b[0m\u001b[0m\n\u001b[0;32m     31\u001b[0m \u001b[1;33m\u001b[0m\u001b[0m\n\u001b[1;32m---> 32\u001b[1;33m     \u001b[0mdatasaver\u001b[0m\u001b[1;33m.\u001b[0m\u001b[0madd_result\u001b[0m\u001b[1;33m(\u001b[0m\u001b[1;33m(\u001b[0m\u001b[1;34m\"frequency\"\u001b[0m\u001b[1;33m,\u001b[0m \u001b[0mfreq\u001b[0m\u001b[1;33m)\u001b[0m\u001b[1;33m,\u001b[0m \u001b[1;33m(\u001b[0m\u001b[1;34m\"log_magnitude_s11\"\u001b[0m\u001b[1;33m,\u001b[0m \u001b[0mtrace_s11\u001b[0m\u001b[1;33m.\u001b[0m\u001b[0mlog_magnitude\u001b[0m\u001b[1;33m(\u001b[0m\u001b[1;33m)\u001b[0m\u001b[1;33m)\u001b[0m\u001b[1;33m)\u001b[0m\u001b[1;33m\u001b[0m\u001b[0m\n\u001b[0m\u001b[0;32m     33\u001b[0m     \u001b[0mdatasaver\u001b[0m\u001b[1;33m.\u001b[0m\u001b[0madd_result\u001b[0m\u001b[1;33m(\u001b[0m\u001b[1;33m(\u001b[0m\u001b[1;34m\"frequency\"\u001b[0m\u001b[1;33m,\u001b[0m \u001b[0mfreq\u001b[0m\u001b[1;33m)\u001b[0m\u001b[1;33m,\u001b[0m \u001b[1;33m(\u001b[0m\u001b[1;34m\"log_magnitude_s21\"\u001b[0m\u001b[1;33m,\u001b[0m \u001b[0mtrace_s21\u001b[0m\u001b[1;33m.\u001b[0m\u001b[0mlog_magnitude\u001b[0m\u001b[1;33m(\u001b[0m\u001b[1;33m)\u001b[0m\u001b[1;33m)\u001b[0m\u001b[1;33m)\u001b[0m\u001b[1;33m\u001b[0m\u001b[0m\n\u001b[0;32m     34\u001b[0m     \u001b[0mdatasaver\u001b[0m\u001b[1;33m.\u001b[0m\u001b[0madd_result\u001b[0m\u001b[1;33m(\u001b[0m\u001b[1;33m(\u001b[0m\u001b[1;34m\"frequency\"\u001b[0m\u001b[1;33m,\u001b[0m \u001b[0mfreq\u001b[0m\u001b[1;33m)\u001b[0m\u001b[1;33m,\u001b[0m \u001b[1;33m(\u001b[0m\u001b[1;34m\"log_magnitude_s43\"\u001b[0m\u001b[1;33m,\u001b[0m \u001b[0mtrace_s43\u001b[0m\u001b[1;33m.\u001b[0m\u001b[0mlog_magnitude\u001b[0m\u001b[1;33m(\u001b[0m\u001b[1;33m)\u001b[0m\u001b[1;33m)\u001b[0m\u001b[1;33m)\u001b[0m\u001b[1;33m\u001b[0m\u001b[0m\n",
      "\u001b[1;32mc:\\users\\sochatoo\\development\\qcodes\\qcodes\\instrument_drivers\\Keysight\\N52xx_new.py\u001b[0m in \u001b[0;36m_get_raw_data\u001b[1;34m(self, format_str)\u001b[0m\n\u001b[0;32m     84\u001b[0m         \u001b[0mself\u001b[0m\u001b[1;33m.\u001b[0m\u001b[0mselect\u001b[0m\u001b[1;33m(\u001b[0m\u001b[1;33m)\u001b[0m\u001b[1;33m\u001b[0m\u001b[0m\n\u001b[0;32m     85\u001b[0m         data = np.array(visa_handle.query_binary_values(\n\u001b[1;32m---> 86\u001b[1;33m             \u001b[1;34mf'CALC{self._channel}:DATA? FDATA'\u001b[0m\u001b[1;33m,\u001b[0m \u001b[0mdatatype\u001b[0m\u001b[1;33m=\u001b[0m\u001b[1;34m'f'\u001b[0m\u001b[1;33m,\u001b[0m \u001b[0mis_big_endian\u001b[0m\u001b[1;33m=\u001b[0m\u001b[1;32mTrue\u001b[0m\u001b[1;33m\u001b[0m\u001b[0m\n\u001b[0m\u001b[0;32m     87\u001b[0m         ))\n\u001b[0;32m     88\u001b[0m \u001b[1;33m\u001b[0m\u001b[0m\n",
      "\u001b[1;32m~\\AppData\\Local\\Continuum\\anaconda3\\envs\\qcodes\\lib\\site-packages\\pyvisa\\resources\\messagebased.py\u001b[0m in \u001b[0;36mquery_binary_values\u001b[1;34m(self, message, datatype, is_big_endian, container, delay, header_fmt)\u001b[0m\n\u001b[0;32m    482\u001b[0m \u001b[1;33m\u001b[0m\u001b[0m\n\u001b[0;32m    483\u001b[0m         \u001b[1;32mif\u001b[0m \u001b[0mheader_fmt\u001b[0m \u001b[1;33m==\u001b[0m \u001b[1;34m'ieee'\u001b[0m\u001b[1;33m:\u001b[0m\u001b[1;33m\u001b[0m\u001b[0m\n\u001b[1;32m--> 484\u001b[1;33m             \u001b[0moffset\u001b[0m\u001b[1;33m,\u001b[0m \u001b[0mdata_length\u001b[0m \u001b[1;33m=\u001b[0m \u001b[0mutil\u001b[0m\u001b[1;33m.\u001b[0m\u001b[0mparse_ieee_block_header\u001b[0m\u001b[1;33m(\u001b[0m\u001b[0mblock\u001b[0m\u001b[1;33m)\u001b[0m\u001b[1;33m\u001b[0m\u001b[0m\n\u001b[0m\u001b[0;32m    485\u001b[0m             \u001b[0mexpected_length\u001b[0m \u001b[1;33m=\u001b[0m \u001b[0moffset\u001b[0m \u001b[1;33m+\u001b[0m \u001b[0mdata_length\u001b[0m\u001b[1;33m\u001b[0m\u001b[0m\n\u001b[0;32m    486\u001b[0m \u001b[1;33m\u001b[0m\u001b[0m\n",
      "\u001b[1;32m~\\AppData\\Local\\Continuum\\anaconda3\\envs\\qcodes\\lib\\site-packages\\pyvisa\\util.py\u001b[0m in \u001b[0;36mparse_ieee_block_header\u001b[1;34m(block)\u001b[0m\n\u001b[0;32m    276\u001b[0m     \u001b[0mbegin\u001b[0m \u001b[1;33m=\u001b[0m \u001b[0mblock\u001b[0m\u001b[1;33m.\u001b[0m\u001b[0mfind\u001b[0m\u001b[1;33m(\u001b[0m\u001b[1;34mb'#'\u001b[0m\u001b[1;33m)\u001b[0m\u001b[1;33m\u001b[0m\u001b[0m\n\u001b[0;32m    277\u001b[0m     \u001b[1;32mif\u001b[0m \u001b[0mbegin\u001b[0m \u001b[1;33m<\u001b[0m \u001b[1;36m0\u001b[0m\u001b[1;33m:\u001b[0m\u001b[1;33m\u001b[0m\u001b[0m\n\u001b[1;32m--> 278\u001b[1;33m         \u001b[1;32mraise\u001b[0m \u001b[0mValueError\u001b[0m\u001b[1;33m(\u001b[0m\u001b[1;34m\"Could not find hash sign (#) indicating the start of the block.\"\u001b[0m\u001b[1;33m)\u001b[0m\u001b[1;33m\u001b[0m\u001b[0m\n\u001b[0m\u001b[0;32m    279\u001b[0m \u001b[1;33m\u001b[0m\u001b[0m\n\u001b[0;32m    280\u001b[0m     \u001b[1;32mtry\u001b[0m\u001b[1;33m:\u001b[0m\u001b[1;33m\u001b[0m\u001b[0m\n",
      "\u001b[1;31mValueError\u001b[0m: Could not find hash sign (#) indicating the start of the block."
     ]
    }
   ],
   "source": [
    "trace_s21 = pna.add_trace(\"T_S21\", \"S21\")  # We need a trace in the rest of the notebook so lets add one again \n",
    "trace_s11 = pna.add_trace(\"T_S11\", \"S11\")\n",
    "trace_s43 = pna.add_trace(\"T_S43\", \"S43\")\n",
    "\n",
    "# Run a measurement\n",
    "fstart = 10e6  # Hz\n",
    "fstop = 18e9 # Hz \n",
    "points = 1001\n",
    "\n",
    "freq = np.linspace(fstart, fstop, points)\n",
    "\n",
    "pna.power(10)\n",
    "pna.start(fstart)\n",
    "pna.stop(fstop)\n",
    "pna.points(points)\n",
    "pna.trigger_source(\"IMM\")\n",
    "\n",
    "# Enable 2 averages, and set IF BW to 1kHz\n",
    "pna.if_bandwidth(1e3)\n",
    "pna.averages_enabled(True)\n",
    "pna.averages(2)\n",
    "\n",
    "meas = Measurement()\n",
    "meas.register_custom_parameter(name=\"frequency\", label=\"freq\", unit=\"Hz\")\n",
    "meas.register_custom_parameter(name=\"log_magnitude_s11\", label=\"log mag S11\", unit=\"dBm\", setpoints=[\"frequency\"])\n",
    "meas.register_custom_parameter(name=\"log_magnitude_s21\", label=\"log mag S21\", unit=\"dBm\", setpoints=[\"frequency\"])\n",
    "meas.register_custom_parameter(name=\"log_magnitude_s43\", label=\"log mag S43\", unit=\"dBm\", setpoints=[\"frequency\"])\n",
    "\n",
    "with meas.run() as datasaver:\n",
    "    pna.run_sweep(averages=2)\n",
    "    \n",
    "    datasaver.add_result((\"frequency\", freq), (\"log_magnitude_s11\", trace_s11.log_magnitude()))\n",
    "    datasaver.add_result((\"frequency\", freq), (\"log_magnitude_s21\", trace_s21.log_magnitude()))\n",
    "    datasaver.add_result((\"frequency\", freq), (\"log_magnitude_s43\", trace_s43.log_magnitude()))\n",
    "    \n",
    "plot_by_id(datasaver.run_id)"
   ]
  },
  {
   "cell_type": "code",
   "execution_count": null,
   "metadata": {},
   "outputs": [],
   "source": [
    "pna.run_sweep(averages=2)\n",
    "data = pna.get_snp_data()"
   ]
  },
  {
   "cell_type": "code",
   "execution_count": null,
   "metadata": {},
   "outputs": [],
   "source": [
    "port_count = 4\n",
    "assert len(data) == points * (2 * port_count ** 2 + 1)"
   ]
  },
  {
   "cell_type": "code",
   "execution_count": null,
   "metadata": {},
   "outputs": [],
   "source": [
    "l = 2 * port_count ** 2 + 1\n",
    "s11_real = data[1::l]\n",
    "s11_imag = data[2::l]\n",
    "s11_mag = np.absolute(s11_real + 1j * s11_imag)"
   ]
  },
  {
   "cell_type": "code",
   "execution_count": null,
   "metadata": {},
   "outputs": [],
   "source": [
    "plt.plot(s11_real)"
   ]
  },
  {
   "cell_type": "code",
   "execution_count": null,
   "metadata": {},
   "outputs": [],
   "source": [
    "np.arange(100)[1::3]"
   ]
  },
  {
   "cell_type": "code",
   "execution_count": null,
   "metadata": {},
   "outputs": [],
   "source": [
    "data[0:l+1]"
   ]
  },
  {
   "cell_type": "code",
   "execution_count": null,
   "metadata": {},
   "outputs": [],
   "source": []
  }
 ],
 "metadata": {
  "kernelspec": {
   "display_name": "Python 3",
   "language": "python",
   "name": "python3"
  },
  "language_info": {
   "codemirror_mode": {
    "name": "ipython",
    "version": 3
   },
   "file_extension": ".py",
   "mimetype": "text/x-python",
   "name": "python",
   "nbconvert_exporter": "python",
   "pygments_lexer": "ipython3",
   "version": "3.6.6"
  }
 },
 "nbformat": 4,
 "nbformat_minor": 2
}
