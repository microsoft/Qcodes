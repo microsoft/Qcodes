{
 "cells": [
  {
   "cell_type": "markdown",
   "metadata": {},
   "source": [
    "# QCoDeS tutorial \n",
    "Basic overview of QCoDeS"
   ]
  },
  {
   "cell_type": "markdown",
   "metadata": {},
   "source": [
    "## Typical QCodes workflow \n",
    "1. Start up an interactive python session (e.g. using jupyter) \n",
    "2. import desired modules \n",
    "3. instantiate required instruments \n",
    "4. experiment! "
   ]
  },
  {
   "cell_type": "code",
   "execution_count": null,
   "metadata": {
    "collapsed": true,
    "scrolled": false
   },
   "outputs": [],
   "source": [
    "import qcodes as qc"
   ]
  },
  {
   "cell_type": "markdown",
   "metadata": {},
   "source": [
    "## Instantiates all the instruments needed for the demo"
   ]
  },
  {
   "cell_type": "code",
   "execution_count": null,
   "metadata": {
    "collapsed": true
   },
   "outputs": [],
   "source": [
    "# import dummy driver for the tutorial\n",
    "from qcodes.tests.instrument_mocks import DummyInstrument\n",
    "\n",
    "dac1 = DummyInstrument(name=\"dac\")\n",
    "dac2 = DummyInstrument(name=\"dac2\")\n",
    "# the default dummy instrument returns always a constant value, in the following line we make it random \n",
    "# just for the looks 💅\n",
    "import random\n",
    "dac2.dac2.get =  lambda: random.randint(0,100)\n",
    "\n",
    "# The station is a container for all instruments that makes it easy \n",
    "# to log meta-data\n",
    "station = qc.Station(dac1, dac2)"
   ]
  },
  {
   "cell_type": "markdown",
   "metadata": {},
   "source": [
    "### The location provider can be set globally "
   ]
  },
  {
   "cell_type": "code",
   "execution_count": null,
   "metadata": {
    "collapsed": true
   },
   "outputs": [],
   "source": [
    "loc_provider = qc.data.location.FormatLocation(fmt='data/{date}/#{counter}_{name}_{time}')\n",
    "qc.data.data_set.DataSet.location_provider=loc_provider"
   ]
  },
  {
   "cell_type": "markdown",
   "metadata": {},
   "source": [
    "## Running an experiment \n",
    "\n",
    "### Defining the `Loop` and actions\n",
    "\n",
    "Before you run a measurement loop you do two things:\n",
    "1. You describe what parameter(s) to vary and how. This is the creation of a `Loop` object: `loop = Loop(sweep_values, ...)`\n",
    "2. You describe what to do at each step in the loop. This is `loop.each(*actions)` \n",
    "  - measurements (any object with a `.get` method will be interpreted as a measurement)\n",
    "  - `Task`: some callable (which can have arguments with it) to be executed each time through the loop. Does not generate data.\n",
    "  - `Wait`: a specialized `Task` just to wait a certain time.\n",
    "  - `BreakIf`: some condition that, if it returns truthy, breaks (this level of) the loop"
   ]
  },
  {
   "cell_type": "code",
   "execution_count": null,
   "metadata": {
    "collapsed": true
   },
   "outputs": [],
   "source": [
    "loop = qc.Loop(dac1.dac1.sweep(0,20,0.1), delay=0.001).each(dac2.dac2)\n",
    "data = loop.get_data_set(name='testsweep')"
   ]
  },
  {
   "cell_type": "code",
   "execution_count": null,
   "metadata": {
    "collapsed": true
   },
   "outputs": [],
   "source": [
    "plot = qc.QtPlot()\n",
    "plot.add(data.dac2_dac2)\n",
    "_ = loop.with_bg_task(plot.update, plot.save).run()"
   ]
  },
  {
   "cell_type": "code",
   "execution_count": null,
   "metadata": {
    "collapsed": true
   },
   "outputs": [],
   "source": [
    "plot"
   ]
  },
  {
   "cell_type": "markdown",
   "metadata": {},
   "source": [
    "## Output of the loop\n",
    "A loop returns a dataset.  \n",
    "The representation of the dataset shows what arrays it contains and where it is saved.   \n",
    "The dataset initially starts out empty (filled with NAN's) and get's filled while the Loop get's executed. "
   ]
  },
  {
   "cell_type": "markdown",
   "metadata": {},
   "source": [
    "Once the measurement is done, take a look at the file in finder/explorer (the dataset.location should give you the relative path). \n",
    "Note also the snapshot that captures the settings of all instruments at the start of the Loop. \n",
    "This metadata is also accesible from the dataset and captures a snapshot of each instrument listed in the station. "
   ]
  },
  {
   "cell_type": "code",
   "execution_count": null,
   "metadata": {
    "collapsed": true
   },
   "outputs": [],
   "source": [
    "dac2.snapshot()"
   ]
  },
  {
   "cell_type": "markdown",
   "metadata": {},
   "source": [
    "## Loading data"
   ]
  },
  {
   "cell_type": "code",
   "execution_count": null,
   "metadata": {
    "collapsed": true,
    "scrolled": false
   },
   "outputs": [],
   "source": [
    "loaded_data = qc.load_data(\"location\")\n",
    "plot = qc.MatPlot(loaded_data.array_id)"
   ]
  },
  {
   "cell_type": "markdown",
   "metadata": {},
   "source": [
    "## Example: multiple 2D measurements with live plotting"
   ]
  },
  {
   "cell_type": "code",
   "execution_count": null,
   "metadata": {
    "collapsed": true
   },
   "outputs": [],
   "source": [
    "loop = qc.Loop(dac1.dac1.sweep(0,5,1), 0.1).loop(dac1.dac2.sweep(0,5,1), 0.1).each(\n",
    "    dac2.dac2\n",
    "    )\n",
    "data = loop.get_data_set(name='2D_test')"
   ]
  },
  {
   "cell_type": "code",
   "execution_count": null,
   "metadata": {
    "collapsed": true
   },
   "outputs": [],
   "source": [
    "plot = qc.QtPlot()\n",
    "plot.add(data.dac2_dac2, figsize=(1200, 500))\n",
    "#plot.add(data.dac2_dac3, subplot=2)\n",
    "_ = loop.with_bg_task(plot.update, plot.save).run()"
   ]
  },
  {
   "cell_type": "code",
   "execution_count": null,
   "metadata": {
    "collapsed": true
   },
   "outputs": [],
   "source": [
    "plot"
   ]
  }
 ],
 "metadata": {
  "anaconda-cloud": {},
  "kernelspec": {
   "display_name": "Python 3",
   "language": "python",
   "name": "python3"
  },
  "language_info": {
   "codemirror_mode": {
    "name": "ipython",
    "version": 3
   },
   "file_extension": ".py",
   "mimetype": "text/x-python",
   "name": "python",
   "nbconvert_exporter": "python",
   "pygments_lexer": "ipython3",
   "version": "3.5.3"
  }
 },
 "nbformat": 4,
 "nbformat_minor": 1
}
