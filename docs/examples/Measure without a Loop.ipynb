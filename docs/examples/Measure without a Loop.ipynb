{
 "cells": [
  {
   "cell_type": "markdown",
   "metadata": {},
   "source": [
    "# Measure without a Loop\n",
    "\n",
    "If you have a parameter that returns a whole array at once, often you want to measure it directly into a DataSet.\n",
    "\n",
    "This shows how that works in QCoDeS"
   ]
  },
  {
   "cell_type": "code",
   "execution_count": 1,
   "metadata": {},
   "outputs": [],
   "source": [
    "%matplotlib nbagg\n",
    "import qcodes as qc\n",
    "import numpy as np\n",
    "# import dummy driver for the tutorial\n",
    "from qcodes.tests.instrument_mocks import DummyInstrument, DummyChannelInstrument\n",
    "\n",
    "dac1 = DummyInstrument(name=\"dac\")\n",
    "dac2 = DummyChannelInstrument(name=\"dac2\")\n",
    "\n",
    "\n",
    "# the default dummy instrument returns always a constant value, in the following line we make it random \n",
    "# just for the looks 💅\n",
    "dac2.A.dummy_array_parameter.get =  lambda: np.random.randint(0, 100, size=5)\n",
    "\n",
    "# The station is a container for all instruments that makes it easy \n",
    "# to log meta-data\n",
    "station = qc.Station(dac1, dac2)"
   ]
  },
  {
   "cell_type": "markdown",
   "metadata": {},
   "source": [
    "## Instantiates all the instruments needed for the demo\n",
    "\n",
    "For this tutorial we're going to use the regular parameters (c0, c1, c2, vsd) and ArrayGetter, which is just a way to construct a parameter that returns a whole array at once out of simple parameters, as well as AverageAndRaw, which returns a scalar *and* an array together."
   ]
  },
  {
   "cell_type": "markdown",
   "metadata": {},
   "source": [
    "### Only array output\n",
    "The arguments to Measure are all the same actions you use in a Loop.\n",
    "If they return only arrays, you will see exactly those arrays (with their setpoints) in the output DataSet"
   ]
  },
  {
   "cell_type": "code",
   "execution_count": 5,
   "metadata": {},
   "outputs": [
    {
     "name": "stdout",
     "output_type": "stream",
     "text": [
      "DataSet:\n",
      "   location = 'data/2018-10-22/#003_{name}_15-20-57'\n",
      "   <Type>   | <array_id>                         | <array.name>          | <array.shape>\n",
      "   Measured | dac2_ChanA_dummy_array_parameter_1 | dummy_array_parameter | (5,)\n",
      "   Measured | dac2_ChanA_dummy_array_parameter_3 | dummy_array_parameter | (5,)\n",
      "acquired at 2018-10-22 15:20:57\n"
     ]
    }
   ],
   "source": [
    "data = qc.Measure(\n",
    "    qc.Task(dac1.dac1.set, 0),\n",
    "    dac2.A.dummy_array_parameter,\n",
    "    qc.Task(dac1.dac1.set, 2),\n",
    "    dac2.A.dummy_array_parameter,\n",
    ").run()"
   ]
  }
 ],
 "metadata": {
  "kernelspec": {
   "display_name": "Python 3",
   "language": "python",
   "name": "python3"
  },
  "language_info": {
   "codemirror_mode": {
    "name": "ipython",
    "version": 3
   },
   "file_extension": ".py",
   "mimetype": "text/x-python",
   "name": "python",
   "nbconvert_exporter": "python",
   "pygments_lexer": "ipython3",
   "version": "3.6.6"
  }
 },
 "nbformat": 4,
 "nbformat_minor": 1
}
