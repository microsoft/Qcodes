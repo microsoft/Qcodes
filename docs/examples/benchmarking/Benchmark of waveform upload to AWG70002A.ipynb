{
 "cells": [
  {
   "cell_type": "markdown",
   "metadata": {},
   "source": [
    "# Benchmark of waveform upload to Tektronix AWG70002A"
   ]
  },
  {
   "cell_type": "markdown",
   "metadata": {},
   "source": [
    "This notebook investigates the time it takes to send waveforms from the PC (from QCoDeS) to the Tektronix awg70002A.\n",
    "\n",
    "We generate 10 sine waves of each 100,000 points and make a sequence of each of them being played twice before proceeding to the next in line. We upload the waveforms as 8-bit signals along with two markers."
   ]
  },
  {
   "cell_type": "code",
   "execution_count": 1,
   "metadata": {
    "collapsed": true
   },
   "outputs": [],
   "source": [
    "import numpy as np\n",
    "import time\n",
    "from qcodes.instrument_drivers.tektronix.AWG70002A import AWG70002A"
   ]
  },
  {
   "cell_type": "code",
   "execution_count": 2,
   "metadata": {
    "collapsed": false
   },
   "outputs": [
    {
     "name": "stdout",
     "output_type": "stream",
     "text": [
      "Connected to: TEKTRONIX AWG70002A (serial:B020397, firmware:FV:5.3.0128.0) in 0.32s\n"
     ]
    }
   ],
   "source": [
    "awg = AWG70002A('awg', 'TCPIP0::172.20.2.101::inst0::INSTR')"
   ]
  },
  {
   "cell_type": "markdown",
   "metadata": {},
   "source": [
    "## Building the waveforms"
   ]
  },
  {
   "cell_type": "markdown",
   "metadata": {},
   "source": [
    "This should be done with broadbean but due to a time constraint, we simply use numpy for now."
   ]
  },
  {
   "cell_type": "code",
   "execution_count": 174,
   "metadata": {
    "collapsed": false
   },
   "outputs": [],
   "source": [
    "N = 100000  # points in each waveform\n",
    "M = 10  # no. of waveforms\n",
    "\n",
    "twopi = np.linspace(0, 2*np.pi, N)\n",
    "wfms = []\n",
    "m1s = []\n",
    "m2s = []\n",
    "\n",
    "m1 = np.concatenate((np.zeros(int(N/2)), np.ones(int(N/2))))\n",
    "m2 = np.concatenate((np.ones(int(N/2)), np.zeros(int(N/2))))\n",
    "\n",
    "for m in range(M):\n",
    "    wfms.append(np.sin((m+1)*0.25*twopi))\n",
    "    m1s.append(m1)\n",
    "    m2s.append(m2)\n",
    "    "
   ]
  },
  {
   "cell_type": "markdown",
   "metadata": {},
   "source": [
    "## Building a .seqx file"
   ]
  },
  {
   "cell_type": "code",
   "execution_count": 175,
   "metadata": {
    "collapsed": false
   },
   "outputs": [],
   "source": [
    "# First we must can waveforms and markers as binary .wfmx files...\n",
    "\n",
    "wfmx_files = []\n",
    "for m in range(M):\n",
    "    data = np.array([wfms[m], m1s[m], m2s[m]])\n",
    "    wfmx = awg.makeWFMXFile(data)\n",
    "    wfmx_files.append(wfmx)"
   ]
  },
  {
   "cell_type": "code",
   "execution_count": 176,
   "metadata": {
    "collapsed": true
   },
   "outputs": [],
   "source": [
    "# ...next we should provide sequencing information...\n",
    "\n",
    "trig_waits = [2]*M\n",
    "nreps = [2]*M\n",
    "event_jumps = [0]*M\n",
    "event_jump_to = [0]*M\n",
    "go_to = [0]*M"
   ]
  },
  {
   "cell_type": "code",
   "execution_count": 177,
   "metadata": {
    "collapsed": false
   },
   "outputs": [
    {
     "data": {
      "text/plain": [
       "list"
      ]
     },
     "execution_count": 177,
     "metadata": {},
     "output_type": "execute_result"
    }
   ],
   "source": [
    "np.shape(wfmx_files)\n",
    "type(wfmx_files)"
   ]
  },
  {
   "cell_type": "code",
   "execution_count": 178,
   "metadata": {
    "collapsed": true
   },
   "outputs": [],
   "source": [
    "awg.sendWFMXFile(wfmx_files[0], 'benchmark.wfmx')\n",
    "awg.loadWFMXFile('benchmark.wfmx')"
   ]
  },
  {
   "cell_type": "code",
   "execution_count": 179,
   "metadata": {
    "collapsed": false
   },
   "outputs": [],
   "source": [
    "# ...and then we may build the .seqx file.\n",
    "# We put the waveforms on one channel\n",
    "\n",
    "seqx_file = awg.makeSEQXFile(trig_waits,\n",
    "                             nreps,\n",
    "                             event_jumps,\n",
    "                             event_jump_to,\n",
    "                             go_to,\n",
    "                             [wfmx_files, wfmx_files])"
   ]
  },
  {
   "cell_type": "code",
   "execution_count": 180,
   "metadata": {
    "collapsed": true
   },
   "outputs": [],
   "source": [
    "# Now comes the part to benchmark, which we put in a function\n",
    "\n",
    "def benchmark_seqx(seqx_file, no_of_reps=10):\n",
    "    times = np.zeros(no_of_reps)\n",
    "    \n",
    "    # bootstrap\n",
    "    awg.clearSequenceList()\n",
    "    awg.clearWaveformList()\n",
    "    \n",
    "    for n in range(no_of_reps):\n",
    "        t_start = time.perf_counter()\n",
    "        \n",
    "        awg.sendSEQXFile(seqx_file, 'benchmarkingqcodes.seqx')\n",
    "        awg.ask(\"*OPC?\")\n",
    "        awg.loadSEQXFile('benchmarkingqcodes.seqx')\n",
    "        awg.ch1.setSequenceTrack('Sequence', 1)\n",
    "        \n",
    "        t_stop = time.perf_counter()\n",
    "        \n",
    "        times[n] = t_stop - t_start\n",
    "        \n",
    "        print('Completed run {} of {}.'.format(n+1, no_of_reps))\n",
    "        \n",
    "    return times"
   ]
  },
  {
   "cell_type": "code",
   "execution_count": 182,
   "metadata": {
    "collapsed": false
   },
   "outputs": [
    {
     "name": "stdout",
     "output_type": "stream",
     "text": [
      "-------------------------\n",
      "Benchmark complete.\n",
      "Time spent: 6.728395942400129 s, deviation 0.36213886283086644 s\n"
     ]
    }
   ],
   "source": [
    "times = benchmark_seqx(seqx_file, no_of_reps=10)\n",
    "print('-'*25)\n",
    "print('Benchmark complete.')\n",
    "print('Time spent: {} s, deviation {} s'.format(np.mean(times), np.std(times)))"
   ]
  },
  {
   "cell_type": "code",
   "execution_count": 9,
   "metadata": {
    "collapsed": true
   },
   "outputs": [],
   "source": [
    "awg.close()"
   ]
  }
 ],
 "metadata": {
  "kernelspec": {
   "display_name": "Python 3",
   "language": "python",
   "name": "python3"
  },
  "language_info": {
   "codemirror_mode": {
    "name": "ipython",
    "version": 3
   },
   "file_extension": ".py",
   "mimetype": "text/x-python",
   "name": "python",
   "nbconvert_exporter": "python",
   "pygments_lexer": "ipython3",
   "version": "3.5.3"
  }
 },
 "nbformat": 4,
 "nbformat_minor": 2
}
