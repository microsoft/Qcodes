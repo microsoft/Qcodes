{
 "cells": [
  {
   "cell_type": "markdown",
   "metadata": {},
   "source": [
    "# QCoDeS Example with the Lakeshore Model 372 to Control the Temperature of the Bluefors Fridge\n",
    "\n",
    "The Lakeshore Temperature Controller Model 372 is used to control the temperature of the Bluefors fridges.\n",
    "\n",
    "To use it as such outside of the control software provided by Bluefors, one has to establish an addtional connection. Within the Bluefors system, the Lakeshore is connected via its usb port (through a USB hub along with the other devices) to the control Laptop (as part of the Bluefors setup). To control the temperature of the fridge via QCoDeS, it is the most convenient to connect the Lakeshore via its LAN port to the control computer (the one with QCoDeS, not the one from Bluefors). In order to reach the LAN port of the Lakeshore, the Bluefors rack has to be opened, and the PCB board that is fixed to the metal board has to be opened as well (it's a door as well with magnetic clips on one side). Do NOT disconnect the USB! Then switch the operation mode (usually there is an Interface button on the instrument) from USB to LAB. When using a router, remember to set the IP address setting to DHCP. Finally, use the following address format for VISA address: `\"TCPIP::<ip address>::<port>::SOCKET\"`, where \"port\" is a known value from the manual (most probably, \"7777\").\n",
    "\n",
    "As mentioned above, for using the Lakeshore with QCoDeS, the operation mode has to be switched from USB to LAN. When done with the measurements, please, switch back to USB, so that the logging of the Temperature provided by the Bluefors software continues. It is planned to implement a server that takes care of the logging, so that the switching to USB will no longer be necessary. For the time being, please, always remember to switch back!"
   ]
  },
  {
   "cell_type": "markdown",
   "metadata": {},
   "source": [
    "## Driver Setup\n",
    "\n",
    "This notebook is using a simulated version of the driver, so that it can be run and played with, without an actual instrument. When trying it out with a real Lakeshore, please set `simulation = False`."
   ]
  },
  {
   "cell_type": "code",
   "execution_count": 1,
   "metadata": {},
   "outputs": [],
   "source": [
    "simulation = True"
   ]
  },
  {
   "cell_type": "code",
   "execution_count": 2,
   "metadata": {},
   "outputs": [
    {
     "name": "stdout",
     "output_type": "stream",
     "text": [
      "Connected to: None lakeshore_372 (serial:None, firmware:None) in 0.19s\n"
     ]
    }
   ],
   "source": [
    "if simulation:\n",
    "    from qcodes.tests.drivers.test_lakeshore import Model_372_Mock as Model_372\n",
    "    import qcodes.instrument.sims as sims\n",
    "    visalib = sims.__file__.replace('__init__.py',\n",
    "                                    'lakeshore_model372.yaml@sim')\n",
    "    ls = Model_372('lakeshore_372', 'GPIB::3::65535::INSTR',\n",
    "                    visalib=visalib, device_clear=False)\n",
    "else:\n",
    "    from qcodes.instrument_drivers.Lakeshore.Model_372 import Model_372\n",
    "    #                               put visa address here, see e.g. NI Max\n",
    "    #                               or look up the IP address on \n",
    "    #                               the instrument itself\n",
    "    ls = Model_372('lakeshore_372', 'TCPIP::192.168.0.160::7777::SOCKET')"
   ]
  },
  {
   "cell_type": "markdown",
   "metadata": {},
   "source": [
    "## Readout Sensor Channels\n",
    "\n",
    "The lakeshore has two types of *channels*: *Readout channels* and *heaters*. For reading the temperature we use the readout channels. There are sixteen channels, each of which has the following parameters:"
   ]
  },
  {
   "cell_type": "code",
   "execution_count": 3,
   "metadata": {},
   "outputs": [
    {
     "data": {
      "text/plain": [
       "{'temperature': <qcodes.instrument.parameter.Parameter: temperature at 1760079888168>,\n",
       " 't_limit': <qcodes.instrument.parameter.Parameter: t_limit at 1760079886432>,\n",
       " 'sensor_raw': <qcodes.instrument.parameter.Parameter: sensor_raw at 1760079886152>,\n",
       " 'sensor_status': <qcodes.instrument.parameter.Parameter: sensor_status at 1760079886544>,\n",
       " 'sensor_name': <qcodes.instrument.parameter.Parameter: sensor_name at 1760079886936>,\n",
       " 'enabled': <qcodes.instrument.group_parameter.GroupParameter: enabled at 1760079886768>,\n",
       " 'dwell': <qcodes.instrument.group_parameter.GroupParameter: dwell at 1760079887888>,\n",
       " 'pause': <qcodes.instrument.group_parameter.GroupParameter: pause at 1760079887160>,\n",
       " 'curve_number': <qcodes.instrument.group_parameter.GroupParameter: curve_number at 1760079888112>,\n",
       " 'temperature_coefficient': <qcodes.instrument.group_parameter.GroupParameter: temperature_coefficient at 1760079887496>,\n",
       " 'excitation_mode': <qcodes.instrument.group_parameter.GroupParameter: excitation_mode at 1760079887440>,\n",
       " 'excitation_range_number': <qcodes.instrument.group_parameter.GroupParameter: excitation_range_number at 1760079888000>,\n",
       " 'auto_range': <qcodes.instrument.group_parameter.GroupParameter: auto_range at 1760079887608>,\n",
       " 'range': <qcodes.instrument.group_parameter.GroupParameter: range at 1760079888056>,\n",
       " 'current_source_shunted': <qcodes.instrument.group_parameter.GroupParameter: current_source_shunted at 1760080036752>,\n",
       " 'units': <qcodes.instrument.group_parameter.GroupParameter: units at 1760080035912>}"
      ]
     },
     "execution_count": 3,
     "metadata": {},
     "output_type": "execute_result"
    }
   ],
   "source": [
    "ls.ch01.parameters"
   ]
  },
  {
   "cell_type": "markdown",
   "metadata": {},
   "source": [
    "All the parameters have docstrings, labels, and units, when applicable.\n",
    "\n",
    "Some of these parameters have been added just because other interesting parameters can only be set together with these (Lakeshore uses VISA commands with multiple inputs/outputs).\n",
    "\n",
    "Some parameters like `curve_number` should not be changed, unless the user knows what he's doing."
   ]
  },
  {
   "cell_type": "markdown",
   "metadata": {},
   "source": [
    "In order to read temperature values from all the sensors, we can do the following:"
   ]
  },
  {
   "cell_type": "code",
   "execution_count": 4,
   "metadata": {},
   "outputs": [
    {
     "name": "stdout",
     "output_type": "stream",
     "text": [
      "Temperature of ch01 (on): 4.0 kelvin\n",
      "Temperature of ch02 (on): 4.0 kelvin\n",
      "Temperature of ch03 (on): 4.0 kelvin\n",
      "Temperature of ch04 (on): 4.0 kelvin\n",
      "Temperature of ch05 (on): 4.0 kelvin\n",
      "Temperature of ch06 (on): 4.0 kelvin\n",
      "Temperature of ch07 (on): 4.0 kelvin\n",
      "Temperature of ch08 (on): 4.0 kelvin\n",
      "Temperature of ch09 (on): 4.0 kelvin\n",
      "Temperature of ch10 (on): 4.0 kelvin\n",
      "Temperature of ch11 (on): 4.0 kelvin\n",
      "Temperature of ch12 (on): 4.0 kelvin\n",
      "Temperature of ch13 (on): 4.0 kelvin\n",
      "Temperature of ch14 (on): 4.0 kelvin\n",
      "Temperature of ch15 (on): 4.0 kelvin\n",
      "Temperature of ch16 (on): 4.0 kelvin\n"
     ]
    }
   ],
   "source": [
    "for ch in ls.channels:\n",
    "    print(f'Temperature of {ch.short_name} ({\"on\" if ch.enabled() else \"off\"}): {ch.temperature()} {ch.units()}')"
   ]
  },
  {
   "cell_type": "markdown",
   "metadata": {},
   "source": [
    "The `enabled` parameter of the sensor channel is very important because Lakeshore gets readings from the enabled channels in sequence. This means that if you have 3 channels enabled, while you are contantly requesting the temperature reading from only the first one, the array of readings will have parts when the value is constant. This is because within those parts Lakeshore was busy with reading temperature from the other two channels.\n",
    "\n",
    "The `units` parameter is also of big importance. As it will be explained below, it defines the units from the `setpoint` value of the heater that is used in a `closed_loop` mode."
   ]
  },
  {
   "cell_type": "markdown",
   "metadata": {},
   "source": [
    "## Heating and feedback loop\n",
    "\n",
    "To set a certain temperature one needs to start a feedback loop that reads the temperature from a sensor channel, and feeds it back to the sample through a heater. The Lakeshore 372 has three heaters: `sample_heater`, `warmup_heater`, and `analog_heater`.\n",
    "\n",
    "Here the `sample_heater` will be used. It has the following parameters:"
   ]
  },
  {
   "cell_type": "code",
   "execution_count": 5,
   "metadata": {},
   "outputs": [
    {
     "data": {
      "text/plain": [
       "{'mode': <qcodes.instrument.group_parameter.GroupParameter: mode at 1760081208600>,\n",
       " 'input_channel': <qcodes.instrument.group_parameter.GroupParameter: input_channel at 1760081208768>,\n",
       " 'powerup_enable': <qcodes.instrument.group_parameter.GroupParameter: powerup_enable at 1760081208992>,\n",
       " 'P': <qcodes.instrument.group_parameter.GroupParameter: P at 1760081209496>,\n",
       " 'I': <qcodes.instrument.group_parameter.GroupParameter: I at 1760081209776>,\n",
       " 'D': <qcodes.instrument.group_parameter.GroupParameter: D at 1760081210056>,\n",
       " 'output_range': <qcodes.instrument.parameter.Parameter: output_range at 1760081210392>,\n",
       " 'setpoint': <qcodes.instrument.parameter.Parameter: setpoint at 1760081210616>,\n",
       " 'range_limits': <qcodes.instrument.parameter.Parameter: range_limits at 1760081211176>,\n",
       " 'wait_cycle_time': <qcodes.instrument.parameter.Parameter: wait_cycle_time at 1760081211232>,\n",
       " 'wait_tolerance': <qcodes.instrument.parameter.Parameter: wait_tolerance at 1760081285416>,\n",
       " 'wait_equilibration_time': <qcodes.instrument.parameter.Parameter: wait_equilibration_time at 1760081285640>,\n",
       " 'blocking_t': <qcodes.instrument.parameter.Parameter: blocking_t at 1760081285864>,\n",
       " 'polarity': <qcodes.instrument.group_parameter.GroupParameter: polarity at 1760081286032>,\n",
       " 'use_filter': <qcodes.instrument.group_parameter.GroupParameter: use_filter at 1760081286256>,\n",
       " 'delay': <qcodes.instrument.group_parameter.GroupParameter: delay at 1760081286704>}"
      ]
     },
     "execution_count": 5,
     "metadata": {},
     "output_type": "execute_result"
    }
   ],
   "source": [
    "h = ls.sample_heater\n",
    "h.parameters"
   ]
  },
  {
   "cell_type": "markdown",
   "metadata": {},
   "source": [
    "The allowed modes, polarities, and ranges are defined in:"
   ]
  },
  {
   "cell_type": "code",
   "execution_count": 6,
   "metadata": {},
   "outputs": [
    {
     "data": {
      "text/plain": [
       "{'off': 0,\n",
       " 'monitor_out': 1,\n",
       " 'open_loop': 2,\n",
       " 'zone': 3,\n",
       " 'still': 4,\n",
       " 'closed_loop': 5,\n",
       " 'warm_up': 6}"
      ]
     },
     "execution_count": 6,
     "metadata": {},
     "output_type": "execute_result"
    }
   ],
   "source": [
    "h.MODES"
   ]
  },
  {
   "cell_type": "code",
   "execution_count": 7,
   "metadata": {},
   "outputs": [
    {
     "data": {
      "text/plain": [
       "{'off': 0,\n",
       " '31.6μA': 1,\n",
       " '100μA': 2,\n",
       " '316μA': 3,\n",
       " '1mA': 4,\n",
       " '3.16mA': 5,\n",
       " '10mA': 6,\n",
       " '31.6mA': 7,\n",
       " '100mA': 8}"
      ]
     },
     "execution_count": 7,
     "metadata": {},
     "output_type": "execute_result"
    }
   ],
   "source": [
    "h.RANGES"
   ]
  },
  {
   "cell_type": "code",
   "execution_count": 8,
   "metadata": {},
   "outputs": [
    {
     "data": {
      "text/plain": [
       "{'unipolar': 0, 'bipolar': 1}"
      ]
     },
     "execution_count": 8,
     "metadata": {},
     "output_type": "execute_result"
    }
   ],
   "source": [
    "h.POLARITIES"
   ]
  },
  {
   "cell_type": "markdown",
   "metadata": {},
   "source": [
    "### Working with closed loop control"
   ]
  },
  {
   "cell_type": "markdown",
   "metadata": {},
   "source": [
    "To use a closed loop control, we need to set the `P`, `I`, `D` values, choose an `input_channel` that will be read within the closed loop, set the range of the heater (`output_range`), set the `setpoint` value (e.g. the target temperature), and start the operation by setting `mode` to `closed_loop`."
   ]
  },
  {
   "cell_type": "code",
   "execution_count": 9,
   "metadata": {},
   "outputs": [],
   "source": [
    "h.P(10)\n",
    "h.I(10)\n",
    "h.D(0)\n",
    "h.output_range('31.6μA')\n",
    "h.input_channel(9)"
   ]
  },
  {
   "cell_type": "code",
   "execution_count": 10,
   "metadata": {},
   "outputs": [],
   "source": [
    "h.setpoint(0.01)\n",
    "h.mode('closed_loop')"
   ]
  },
  {
   "cell_type": "markdown",
   "metadata": {},
   "source": [
    "#### Units of the setpoint"
   ]
  },
  {
   "cell_type": "markdown",
   "metadata": {},
   "source": [
    "Be careful when setting the value of the `setpoint` - Lakeshore uses \"preferred units\" for it which are determined by the `units` parameter of the chosen `input_channel`. Thanks to that, Lakeshore 372 supports setting `setpoint` in `ohms` and `kelvins`."
   ]
  },
  {
   "cell_type": "code",
   "execution_count": 11,
   "metadata": {},
   "outputs": [
    {
     "data": {
      "text/plain": [
       "'kelvin'"
      ]
     },
     "execution_count": 11,
     "metadata": {},
     "output_type": "execute_result"
    }
   ],
   "source": [
    "ls.ch09.units()"
   ]
  },
  {
   "cell_type": "code",
   "execution_count": 12,
   "metadata": {},
   "outputs": [
    {
     "name": "stdout",
     "output_type": "stream",
     "text": [
      "The value of the setpoint in the preferred units of the control loop sensor (which is set via `input_channel` parameter)\r\n",
      "\r\n",
      "Parameter class:\r\n",
      "\r\n",
      "* `name` setpoint\r\n",
      "* `label` Setpoint value (in sensor units)\r\n",
      "* `unit` \r\n",
      "* `vals` <Numbers 0<=v<=400>\n"
     ]
    }
   ],
   "source": [
    "print(h.setpoint.__doc__)  # when working in Jupyter, just use `h.setpoint?` syntax"
   ]
  },
  {
   "cell_type": "markdown",
   "metadata": {},
   "source": [
    "#### Disable unrelated channels for continuos readings"
   ]
  },
  {
   "cell_type": "markdown",
   "metadata": {},
   "source": [
    "Note that in order to have Lakeshore constantly reading from the `input_channel`, you need to disable other channels. Otherwise, Lakeshore will be reading all the enabled channels one by one, which will slow down the convergence of the control loop."
   ]
  },
  {
   "cell_type": "code",
   "execution_count": 13,
   "metadata": {},
   "outputs": [],
   "source": [
    "ls.ch03.enabled(False)"
   ]
  },
  {
   "cell_type": "markdown",
   "metadata": {},
   "source": [
    "#### Observe control loop working"
   ]
  },
  {
   "cell_type": "markdown",
   "metadata": {},
   "source": [
    "Now we can observe how the temperature gets steered towards the setpoint (This is not implemented in the simulated instrument)"
   ]
  },
  {
   "cell_type": "code",
   "execution_count": 14,
   "metadata": {},
   "outputs": [
    {
     "name": "stdout",
     "output_type": "stream",
     "text": [
      "T = 4.0\n",
      "T = 4.0\n",
      "T = 4.0\n",
      "T = 4.0\n",
      "T = 4.0\n"
     ]
    }
   ],
   "source": [
    "import time\n",
    "for i in range(5):\n",
    "    time.sleep(0.1)\n",
    "    print(f'T = {ls.ch09.temperature()}')"
   ]
  },
  {
   "cell_type": "markdown",
   "metadata": {},
   "source": [
    "Textual representation is not very convenient, hence let's do the same but now with plotting (This is not implemented in the simulated instrument):"
   ]
  },
  {
   "cell_type": "code",
   "execution_count": 15,
   "metadata": {},
   "outputs": [],
   "source": [
    "%matplotlib notebook\n",
    "\n",
    "import time\n",
    "import numpy\n",
    "from IPython.display import display\n",
    "from ipywidgets import interact, widgets\n",
    "from matplotlib import pyplot as plt\n",
    "\n",
    "def live_plot_temperature_reading(channel_to_read, read_period=0.2, n_reads=1000):\n",
    "    \"\"\"\n",
    "    Live plot the temperature reading from a Lakeshore sensor channel\n",
    "    \n",
    "    Args:\n",
    "        channel_to_read\n",
    "            Lakeshore channel object to read the temperature from\n",
    "        read_period\n",
    "            time in seconds between two reads of the temperature\n",
    "        n_reads\n",
    "            total number of reads to perform\n",
    "    \"\"\"\n",
    "\n",
    "    # Make a widget for a text display that is contantly being updated\n",
    "    text = widgets.Text()\n",
    "    display(text)\n",
    "\n",
    "    fig, ax = plt.subplots(1)\n",
    "    line, = ax.plot([], [], '*-')\n",
    "    ax.set_xlabel('Time, s')\n",
    "    ax.set_ylabel(f'Temperature, {channel_to_read.units()}')\n",
    "    fig.show()\n",
    "    plt.ion()\n",
    "\n",
    "    for i in range(n_reads):\n",
    "        time.sleep(read_period)\n",
    "\n",
    "        # Update the text field\n",
    "        text.value = f'T = {channel_to_read.temperature()}'\n",
    "\n",
    "        # Add new point to the data that is being plotted\n",
    "        line.set_ydata(numpy.append(line.get_ydata(), channel_to_read.temperature()))\n",
    "        line.set_xdata(numpy.arange(0, len(line.get_ydata()), 1)*read_period)\n",
    "\n",
    "        ax.relim()  # Recalculate limits\n",
    "        ax.autoscale_view(True, True, True)  # Autoscale\n",
    "        fig.canvas.draw()  # Redraw"
   ]
  },
  {
   "cell_type": "code",
   "execution_count": 16,
   "metadata": {},
   "outputs": [
    {
     "data": {
      "application/vnd.jupyter.widget-view+json": {
       "model_id": "3521c6b254ee4bb8b954a6e101a06b5c",
       "version_major": 2,
       "version_minor": 0
      },
      "text/plain": [
       "Text(value='')"
      ]
     },
     "metadata": {},
     "output_type": "display_data"
    },
    {
     "data": {
      "application/javascript": [
       "/* Put everything inside the global mpl namespace */\n",
       "window.mpl = {};\n",
       "\n",
       "\n",
       "mpl.get_websocket_type = function() {\n",
       "    if (typeof(WebSocket) !== 'undefined') {\n",
       "        return WebSocket;\n",
       "    } else if (typeof(MozWebSocket) !== 'undefined') {\n",
       "        return MozWebSocket;\n",
       "    } else {\n",
       "        alert('Your browser does not have WebSocket support.' +\n",
       "              'Please try Chrome, Safari or Firefox ≥ 6. ' +\n",
       "              'Firefox 4 and 5 are also supported but you ' +\n",
       "              'have to enable WebSockets in about:config.');\n",
       "    };\n",
       "}\n",
       "\n",
       "mpl.figure = function(figure_id, websocket, ondownload, parent_element) {\n",
       "    this.id = figure_id;\n",
       "\n",
       "    this.ws = websocket;\n",
       "\n",
       "    this.supports_binary = (this.ws.binaryType != undefined);\n",
       "\n",
       "    if (!this.supports_binary) {\n",
       "        var warnings = document.getElementById(\"mpl-warnings\");\n",
       "        if (warnings) {\n",
       "            warnings.style.display = 'block';\n",
       "            warnings.textContent = (\n",
       "                \"This browser does not support binary websocket messages. \" +\n",
       "                    \"Performance may be slow.\");\n",
       "        }\n",
       "    }\n",
       "\n",
       "    this.imageObj = new Image();\n",
       "\n",
       "    this.context = undefined;\n",
       "    this.message = undefined;\n",
       "    this.canvas = undefined;\n",
       "    this.rubberband_canvas = undefined;\n",
       "    this.rubberband_context = undefined;\n",
       "    this.format_dropdown = undefined;\n",
       "\n",
       "    this.image_mode = 'full';\n",
       "\n",
       "    this.root = $('<div/>');\n",
       "    this._root_extra_style(this.root)\n",
       "    this.root.attr('style', 'display: inline-block');\n",
       "\n",
       "    $(parent_element).append(this.root);\n",
       "\n",
       "    this._init_header(this);\n",
       "    this._init_canvas(this);\n",
       "    this._init_toolbar(this);\n",
       "\n",
       "    var fig = this;\n",
       "\n",
       "    this.waiting = false;\n",
       "\n",
       "    this.ws.onopen =  function () {\n",
       "            fig.send_message(\"supports_binary\", {value: fig.supports_binary});\n",
       "            fig.send_message(\"send_image_mode\", {});\n",
       "            if (mpl.ratio != 1) {\n",
       "                fig.send_message(\"set_dpi_ratio\", {'dpi_ratio': mpl.ratio});\n",
       "            }\n",
       "            fig.send_message(\"refresh\", {});\n",
       "        }\n",
       "\n",
       "    this.imageObj.onload = function() {\n",
       "            if (fig.image_mode == 'full') {\n",
       "                // Full images could contain transparency (where diff images\n",
       "                // almost always do), so we need to clear the canvas so that\n",
       "                // there is no ghosting.\n",
       "                fig.context.clearRect(0, 0, fig.canvas.width, fig.canvas.height);\n",
       "            }\n",
       "            fig.context.drawImage(fig.imageObj, 0, 0);\n",
       "        };\n",
       "\n",
       "    this.imageObj.onunload = function() {\n",
       "        this.ws.close();\n",
       "    }\n",
       "\n",
       "    this.ws.onmessage = this._make_on_message_function(this);\n",
       "\n",
       "    this.ondownload = ondownload;\n",
       "}\n",
       "\n",
       "mpl.figure.prototype._init_header = function() {\n",
       "    var titlebar = $(\n",
       "        '<div class=\"ui-dialog-titlebar ui-widget-header ui-corner-all ' +\n",
       "        'ui-helper-clearfix\"/>');\n",
       "    var titletext = $(\n",
       "        '<div class=\"ui-dialog-title\" style=\"width: 100%; ' +\n",
       "        'text-align: center; padding: 3px;\"/>');\n",
       "    titlebar.append(titletext)\n",
       "    this.root.append(titlebar);\n",
       "    this.header = titletext[0];\n",
       "}\n",
       "\n",
       "\n",
       "\n",
       "mpl.figure.prototype._canvas_extra_style = function(canvas_div) {\n",
       "\n",
       "}\n",
       "\n",
       "\n",
       "mpl.figure.prototype._root_extra_style = function(canvas_div) {\n",
       "\n",
       "}\n",
       "\n",
       "mpl.figure.prototype._init_canvas = function() {\n",
       "    var fig = this;\n",
       "\n",
       "    var canvas_div = $('<div/>');\n",
       "\n",
       "    canvas_div.attr('style', 'position: relative; clear: both; outline: 0');\n",
       "\n",
       "    function canvas_keyboard_event(event) {\n",
       "        return fig.key_event(event, event['data']);\n",
       "    }\n",
       "\n",
       "    canvas_div.keydown('key_press', canvas_keyboard_event);\n",
       "    canvas_div.keyup('key_release', canvas_keyboard_event);\n",
       "    this.canvas_div = canvas_div\n",
       "    this._canvas_extra_style(canvas_div)\n",
       "    this.root.append(canvas_div);\n",
       "\n",
       "    var canvas = $('<canvas/>');\n",
       "    canvas.addClass('mpl-canvas');\n",
       "    canvas.attr('style', \"left: 0; top: 0; z-index: 0; outline: 0\")\n",
       "\n",
       "    this.canvas = canvas[0];\n",
       "    this.context = canvas[0].getContext(\"2d\");\n",
       "\n",
       "    var backingStore = this.context.backingStorePixelRatio ||\n",
       "\tthis.context.webkitBackingStorePixelRatio ||\n",
       "\tthis.context.mozBackingStorePixelRatio ||\n",
       "\tthis.context.msBackingStorePixelRatio ||\n",
       "\tthis.context.oBackingStorePixelRatio ||\n",
       "\tthis.context.backingStorePixelRatio || 1;\n",
       "\n",
       "    mpl.ratio = (window.devicePixelRatio || 1) / backingStore;\n",
       "\n",
       "    var rubberband = $('<canvas/>');\n",
       "    rubberband.attr('style', \"position: absolute; left: 0; top: 0; z-index: 1;\")\n",
       "\n",
       "    var pass_mouse_events = true;\n",
       "\n",
       "    canvas_div.resizable({\n",
       "        start: function(event, ui) {\n",
       "            pass_mouse_events = false;\n",
       "        },\n",
       "        resize: function(event, ui) {\n",
       "            fig.request_resize(ui.size.width, ui.size.height);\n",
       "        },\n",
       "        stop: function(event, ui) {\n",
       "            pass_mouse_events = true;\n",
       "            fig.request_resize(ui.size.width, ui.size.height);\n",
       "        },\n",
       "    });\n",
       "\n",
       "    function mouse_event_fn(event) {\n",
       "        if (pass_mouse_events)\n",
       "            return fig.mouse_event(event, event['data']);\n",
       "    }\n",
       "\n",
       "    rubberband.mousedown('button_press', mouse_event_fn);\n",
       "    rubberband.mouseup('button_release', mouse_event_fn);\n",
       "    // Throttle sequential mouse events to 1 every 20ms.\n",
       "    rubberband.mousemove('motion_notify', mouse_event_fn);\n",
       "\n",
       "    rubberband.mouseenter('figure_enter', mouse_event_fn);\n",
       "    rubberband.mouseleave('figure_leave', mouse_event_fn);\n",
       "\n",
       "    canvas_div.on(\"wheel\", function (event) {\n",
       "        event = event.originalEvent;\n",
       "        event['data'] = 'scroll'\n",
       "        if (event.deltaY < 0) {\n",
       "            event.step = 1;\n",
       "        } else {\n",
       "            event.step = -1;\n",
       "        }\n",
       "        mouse_event_fn(event);\n",
       "    });\n",
       "\n",
       "    canvas_div.append(canvas);\n",
       "    canvas_div.append(rubberband);\n",
       "\n",
       "    this.rubberband = rubberband;\n",
       "    this.rubberband_canvas = rubberband[0];\n",
       "    this.rubberband_context = rubberband[0].getContext(\"2d\");\n",
       "    this.rubberband_context.strokeStyle = \"#000000\";\n",
       "\n",
       "    this._resize_canvas = function(width, height) {\n",
       "        // Keep the size of the canvas, canvas container, and rubber band\n",
       "        // canvas in synch.\n",
       "        canvas_div.css('width', width)\n",
       "        canvas_div.css('height', height)\n",
       "\n",
       "        canvas.attr('width', width * mpl.ratio);\n",
       "        canvas.attr('height', height * mpl.ratio);\n",
       "        canvas.attr('style', 'width: ' + width + 'px; height: ' + height + 'px;');\n",
       "\n",
       "        rubberband.attr('width', width);\n",
       "        rubberband.attr('height', height);\n",
       "    }\n",
       "\n",
       "    // Set the figure to an initial 600x600px, this will subsequently be updated\n",
       "    // upon first draw.\n",
       "    this._resize_canvas(600, 600);\n",
       "\n",
       "    // Disable right mouse context menu.\n",
       "    $(this.rubberband_canvas).bind(\"contextmenu\",function(e){\n",
       "        return false;\n",
       "    });\n",
       "\n",
       "    function set_focus () {\n",
       "        canvas.focus();\n",
       "        canvas_div.focus();\n",
       "    }\n",
       "\n",
       "    window.setTimeout(set_focus, 100);\n",
       "}\n",
       "\n",
       "mpl.figure.prototype._init_toolbar = function() {\n",
       "    var fig = this;\n",
       "\n",
       "    var nav_element = $('<div/>')\n",
       "    nav_element.attr('style', 'width: 100%');\n",
       "    this.root.append(nav_element);\n",
       "\n",
       "    // Define a callback function for later on.\n",
       "    function toolbar_event(event) {\n",
       "        return fig.toolbar_button_onclick(event['data']);\n",
       "    }\n",
       "    function toolbar_mouse_event(event) {\n",
       "        return fig.toolbar_button_onmouseover(event['data']);\n",
       "    }\n",
       "\n",
       "    for(var toolbar_ind in mpl.toolbar_items) {\n",
       "        var name = mpl.toolbar_items[toolbar_ind][0];\n",
       "        var tooltip = mpl.toolbar_items[toolbar_ind][1];\n",
       "        var image = mpl.toolbar_items[toolbar_ind][2];\n",
       "        var method_name = mpl.toolbar_items[toolbar_ind][3];\n",
       "\n",
       "        if (!name) {\n",
       "            // put a spacer in here.\n",
       "            continue;\n",
       "        }\n",
       "        var button = $('<button/>');\n",
       "        button.addClass('ui-button ui-widget ui-state-default ui-corner-all ' +\n",
       "                        'ui-button-icon-only');\n",
       "        button.attr('role', 'button');\n",
       "        button.attr('aria-disabled', 'false');\n",
       "        button.click(method_name, toolbar_event);\n",
       "        button.mouseover(tooltip, toolbar_mouse_event);\n",
       "\n",
       "        var icon_img = $('<span/>');\n",
       "        icon_img.addClass('ui-button-icon-primary ui-icon');\n",
       "        icon_img.addClass(image);\n",
       "        icon_img.addClass('ui-corner-all');\n",
       "\n",
       "        var tooltip_span = $('<span/>');\n",
       "        tooltip_span.addClass('ui-button-text');\n",
       "        tooltip_span.html(tooltip);\n",
       "\n",
       "        button.append(icon_img);\n",
       "        button.append(tooltip_span);\n",
       "\n",
       "        nav_element.append(button);\n",
       "    }\n",
       "\n",
       "    var fmt_picker_span = $('<span/>');\n",
       "\n",
       "    var fmt_picker = $('<select/>');\n",
       "    fmt_picker.addClass('mpl-toolbar-option ui-widget ui-widget-content');\n",
       "    fmt_picker_span.append(fmt_picker);\n",
       "    nav_element.append(fmt_picker_span);\n",
       "    this.format_dropdown = fmt_picker[0];\n",
       "\n",
       "    for (var ind in mpl.extensions) {\n",
       "        var fmt = mpl.extensions[ind];\n",
       "        var option = $(\n",
       "            '<option/>', {selected: fmt === mpl.default_extension}).html(fmt);\n",
       "        fmt_picker.append(option)\n",
       "    }\n",
       "\n",
       "    // Add hover states to the ui-buttons\n",
       "    $( \".ui-button\" ).hover(\n",
       "        function() { $(this).addClass(\"ui-state-hover\");},\n",
       "        function() { $(this).removeClass(\"ui-state-hover\");}\n",
       "    );\n",
       "\n",
       "    var status_bar = $('<span class=\"mpl-message\"/>');\n",
       "    nav_element.append(status_bar);\n",
       "    this.message = status_bar[0];\n",
       "}\n",
       "\n",
       "mpl.figure.prototype.request_resize = function(x_pixels, y_pixels) {\n",
       "    // Request matplotlib to resize the figure. Matplotlib will then trigger a resize in the client,\n",
       "    // which will in turn request a refresh of the image.\n",
       "    this.send_message('resize', {'width': x_pixels, 'height': y_pixels});\n",
       "}\n",
       "\n",
       "mpl.figure.prototype.send_message = function(type, properties) {\n",
       "    properties['type'] = type;\n",
       "    properties['figure_id'] = this.id;\n",
       "    this.ws.send(JSON.stringify(properties));\n",
       "}\n",
       "\n",
       "mpl.figure.prototype.send_draw_message = function() {\n",
       "    if (!this.waiting) {\n",
       "        this.waiting = true;\n",
       "        this.ws.send(JSON.stringify({type: \"draw\", figure_id: this.id}));\n",
       "    }\n",
       "}\n",
       "\n",
       "\n",
       "mpl.figure.prototype.handle_save = function(fig, msg) {\n",
       "    var format_dropdown = fig.format_dropdown;\n",
       "    var format = format_dropdown.options[format_dropdown.selectedIndex].value;\n",
       "    fig.ondownload(fig, format);\n",
       "}\n",
       "\n",
       "\n",
       "mpl.figure.prototype.handle_resize = function(fig, msg) {\n",
       "    var size = msg['size'];\n",
       "    if (size[0] != fig.canvas.width || size[1] != fig.canvas.height) {\n",
       "        fig._resize_canvas(size[0], size[1]);\n",
       "        fig.send_message(\"refresh\", {});\n",
       "    };\n",
       "}\n",
       "\n",
       "mpl.figure.prototype.handle_rubberband = function(fig, msg) {\n",
       "    var x0 = msg['x0'] / mpl.ratio;\n",
       "    var y0 = (fig.canvas.height - msg['y0']) / mpl.ratio;\n",
       "    var x1 = msg['x1'] / mpl.ratio;\n",
       "    var y1 = (fig.canvas.height - msg['y1']) / mpl.ratio;\n",
       "    x0 = Math.floor(x0) + 0.5;\n",
       "    y0 = Math.floor(y0) + 0.5;\n",
       "    x1 = Math.floor(x1) + 0.5;\n",
       "    y1 = Math.floor(y1) + 0.5;\n",
       "    var min_x = Math.min(x0, x1);\n",
       "    var min_y = Math.min(y0, y1);\n",
       "    var width = Math.abs(x1 - x0);\n",
       "    var height = Math.abs(y1 - y0);\n",
       "\n",
       "    fig.rubberband_context.clearRect(\n",
       "        0, 0, fig.canvas.width, fig.canvas.height);\n",
       "\n",
       "    fig.rubberband_context.strokeRect(min_x, min_y, width, height);\n",
       "}\n",
       "\n",
       "mpl.figure.prototype.handle_figure_label = function(fig, msg) {\n",
       "    // Updates the figure title.\n",
       "    fig.header.textContent = msg['label'];\n",
       "}\n",
       "\n",
       "mpl.figure.prototype.handle_cursor = function(fig, msg) {\n",
       "    var cursor = msg['cursor'];\n",
       "    switch(cursor)\n",
       "    {\n",
       "    case 0:\n",
       "        cursor = 'pointer';\n",
       "        break;\n",
       "    case 1:\n",
       "        cursor = 'default';\n",
       "        break;\n",
       "    case 2:\n",
       "        cursor = 'crosshair';\n",
       "        break;\n",
       "    case 3:\n",
       "        cursor = 'move';\n",
       "        break;\n",
       "    }\n",
       "    fig.rubberband_canvas.style.cursor = cursor;\n",
       "}\n",
       "\n",
       "mpl.figure.prototype.handle_message = function(fig, msg) {\n",
       "    fig.message.textContent = msg['message'];\n",
       "}\n",
       "\n",
       "mpl.figure.prototype.handle_draw = function(fig, msg) {\n",
       "    // Request the server to send over a new figure.\n",
       "    fig.send_draw_message();\n",
       "}\n",
       "\n",
       "mpl.figure.prototype.handle_image_mode = function(fig, msg) {\n",
       "    fig.image_mode = msg['mode'];\n",
       "}\n",
       "\n",
       "mpl.figure.prototype.updated_canvas_event = function() {\n",
       "    // Called whenever the canvas gets updated.\n",
       "    this.send_message(\"ack\", {});\n",
       "}\n",
       "\n",
       "// A function to construct a web socket function for onmessage handling.\n",
       "// Called in the figure constructor.\n",
       "mpl.figure.prototype._make_on_message_function = function(fig) {\n",
       "    return function socket_on_message(evt) {\n",
       "        if (evt.data instanceof Blob) {\n",
       "            /* FIXME: We get \"Resource interpreted as Image but\n",
       "             * transferred with MIME type text/plain:\" errors on\n",
       "             * Chrome.  But how to set the MIME type?  It doesn't seem\n",
       "             * to be part of the websocket stream */\n",
       "            evt.data.type = \"image/png\";\n",
       "\n",
       "            /* Free the memory for the previous frames */\n",
       "            if (fig.imageObj.src) {\n",
       "                (window.URL || window.webkitURL).revokeObjectURL(\n",
       "                    fig.imageObj.src);\n",
       "            }\n",
       "\n",
       "            fig.imageObj.src = (window.URL || window.webkitURL).createObjectURL(\n",
       "                evt.data);\n",
       "            fig.updated_canvas_event();\n",
       "            fig.waiting = false;\n",
       "            return;\n",
       "        }\n",
       "        else if (typeof evt.data === 'string' && evt.data.slice(0, 21) == \"data:image/png;base64\") {\n",
       "            fig.imageObj.src = evt.data;\n",
       "            fig.updated_canvas_event();\n",
       "            fig.waiting = false;\n",
       "            return;\n",
       "        }\n",
       "\n",
       "        var msg = JSON.parse(evt.data);\n",
       "        var msg_type = msg['type'];\n",
       "\n",
       "        // Call the  \"handle_{type}\" callback, which takes\n",
       "        // the figure and JSON message as its only arguments.\n",
       "        try {\n",
       "            var callback = fig[\"handle_\" + msg_type];\n",
       "        } catch (e) {\n",
       "            console.log(\"No handler for the '\" + msg_type + \"' message type: \", msg);\n",
       "            return;\n",
       "        }\n",
       "\n",
       "        if (callback) {\n",
       "            try {\n",
       "                // console.log(\"Handling '\" + msg_type + \"' message: \", msg);\n",
       "                callback(fig, msg);\n",
       "            } catch (e) {\n",
       "                console.log(\"Exception inside the 'handler_\" + msg_type + \"' callback:\", e, e.stack, msg);\n",
       "            }\n",
       "        }\n",
       "    };\n",
       "}\n",
       "\n",
       "// from http://stackoverflow.com/questions/1114465/getting-mouse-location-in-canvas\n",
       "mpl.findpos = function(e) {\n",
       "    //this section is from http://www.quirksmode.org/js/events_properties.html\n",
       "    var targ;\n",
       "    if (!e)\n",
       "        e = window.event;\n",
       "    if (e.target)\n",
       "        targ = e.target;\n",
       "    else if (e.srcElement)\n",
       "        targ = e.srcElement;\n",
       "    if (targ.nodeType == 3) // defeat Safari bug\n",
       "        targ = targ.parentNode;\n",
       "\n",
       "    // jQuery normalizes the pageX and pageY\n",
       "    // pageX,Y are the mouse positions relative to the document\n",
       "    // offset() returns the position of the element relative to the document\n",
       "    var x = e.pageX - $(targ).offset().left;\n",
       "    var y = e.pageY - $(targ).offset().top;\n",
       "\n",
       "    return {\"x\": x, \"y\": y};\n",
       "};\n",
       "\n",
       "/*\n",
       " * return a copy of an object with only non-object keys\n",
       " * we need this to avoid circular references\n",
       " * http://stackoverflow.com/a/24161582/3208463\n",
       " */\n",
       "function simpleKeys (original) {\n",
       "  return Object.keys(original).reduce(function (obj, key) {\n",
       "    if (typeof original[key] !== 'object')\n",
       "        obj[key] = original[key]\n",
       "    return obj;\n",
       "  }, {});\n",
       "}\n",
       "\n",
       "mpl.figure.prototype.mouse_event = function(event, name) {\n",
       "    var canvas_pos = mpl.findpos(event)\n",
       "\n",
       "    if (name === 'button_press')\n",
       "    {\n",
       "        this.canvas.focus();\n",
       "        this.canvas_div.focus();\n",
       "    }\n",
       "\n",
       "    var x = canvas_pos.x * mpl.ratio;\n",
       "    var y = canvas_pos.y * mpl.ratio;\n",
       "\n",
       "    this.send_message(name, {x: x, y: y, button: event.button,\n",
       "                             step: event.step,\n",
       "                             guiEvent: simpleKeys(event)});\n",
       "\n",
       "    /* This prevents the web browser from automatically changing to\n",
       "     * the text insertion cursor when the button is pressed.  We want\n",
       "     * to control all of the cursor setting manually through the\n",
       "     * 'cursor' event from matplotlib */\n",
       "    event.preventDefault();\n",
       "    return false;\n",
       "}\n",
       "\n",
       "mpl.figure.prototype._key_event_extra = function(event, name) {\n",
       "    // Handle any extra behaviour associated with a key event\n",
       "}\n",
       "\n",
       "mpl.figure.prototype.key_event = function(event, name) {\n",
       "\n",
       "    // Prevent repeat events\n",
       "    if (name == 'key_press')\n",
       "    {\n",
       "        if (event.which === this._key)\n",
       "            return;\n",
       "        else\n",
       "            this._key = event.which;\n",
       "    }\n",
       "    if (name == 'key_release')\n",
       "        this._key = null;\n",
       "\n",
       "    var value = '';\n",
       "    if (event.ctrlKey && event.which != 17)\n",
       "        value += \"ctrl+\";\n",
       "    if (event.altKey && event.which != 18)\n",
       "        value += \"alt+\";\n",
       "    if (event.shiftKey && event.which != 16)\n",
       "        value += \"shift+\";\n",
       "\n",
       "    value += 'k';\n",
       "    value += event.which.toString();\n",
       "\n",
       "    this._key_event_extra(event, name);\n",
       "\n",
       "    this.send_message(name, {key: value,\n",
       "                             guiEvent: simpleKeys(event)});\n",
       "    return false;\n",
       "}\n",
       "\n",
       "mpl.figure.prototype.toolbar_button_onclick = function(name) {\n",
       "    if (name == 'download') {\n",
       "        this.handle_save(this, null);\n",
       "    } else {\n",
       "        this.send_message(\"toolbar_button\", {name: name});\n",
       "    }\n",
       "};\n",
       "\n",
       "mpl.figure.prototype.toolbar_button_onmouseover = function(tooltip) {\n",
       "    this.message.textContent = tooltip;\n",
       "};\n",
       "mpl.toolbar_items = [[\"Home\", \"Reset original view\", \"fa fa-home icon-home\", \"home\"], [\"Back\", \"Back to  previous view\", \"fa fa-arrow-left icon-arrow-left\", \"back\"], [\"Forward\", \"Forward to next view\", \"fa fa-arrow-right icon-arrow-right\", \"forward\"], [\"\", \"\", \"\", \"\"], [\"Pan\", \"Pan axes with left mouse, zoom with right\", \"fa fa-arrows icon-move\", \"pan\"], [\"Zoom\", \"Zoom to rectangle\", \"fa fa-square-o icon-check-empty\", \"zoom\"], [\"\", \"\", \"\", \"\"], [\"Download\", \"Download plot\", \"fa fa-floppy-o icon-save\", \"download\"]];\n",
       "\n",
       "mpl.extensions = [\"eps\", \"pdf\", \"png\", \"ps\", \"raw\", \"svg\"];\n",
       "\n",
       "mpl.default_extension = \"png\";var comm_websocket_adapter = function(comm) {\n",
       "    // Create a \"websocket\"-like object which calls the given IPython comm\n",
       "    // object with the appropriate methods. Currently this is a non binary\n",
       "    // socket, so there is still some room for performance tuning.\n",
       "    var ws = {};\n",
       "\n",
       "    ws.close = function() {\n",
       "        comm.close()\n",
       "    };\n",
       "    ws.send = function(m) {\n",
       "        //console.log('sending', m);\n",
       "        comm.send(m);\n",
       "    };\n",
       "    // Register the callback with on_msg.\n",
       "    comm.on_msg(function(msg) {\n",
       "        //console.log('receiving', msg['content']['data'], msg);\n",
       "        // Pass the mpl event to the overriden (by mpl) onmessage function.\n",
       "        ws.onmessage(msg['content']['data'])\n",
       "    });\n",
       "    return ws;\n",
       "}\n",
       "\n",
       "mpl.mpl_figure_comm = function(comm, msg) {\n",
       "    // This is the function which gets called when the mpl process\n",
       "    // starts-up an IPython Comm through the \"matplotlib\" channel.\n",
       "\n",
       "    var id = msg.content.data.id;\n",
       "    // Get hold of the div created by the display call when the Comm\n",
       "    // socket was opened in Python.\n",
       "    var element = $(\"#\" + id);\n",
       "    var ws_proxy = comm_websocket_adapter(comm)\n",
       "\n",
       "    function ondownload(figure, format) {\n",
       "        window.open(figure.imageObj.src);\n",
       "    }\n",
       "\n",
       "    var fig = new mpl.figure(id, ws_proxy,\n",
       "                           ondownload,\n",
       "                           element.get(0));\n",
       "\n",
       "    // Call onopen now - mpl needs it, as it is assuming we've passed it a real\n",
       "    // web socket which is closed, not our websocket->open comm proxy.\n",
       "    ws_proxy.onopen();\n",
       "\n",
       "    fig.parent_element = element.get(0);\n",
       "    fig.cell_info = mpl.find_output_cell(\"<div id='\" + id + \"'></div>\");\n",
       "    if (!fig.cell_info) {\n",
       "        console.error(\"Failed to find cell for figure\", id, fig);\n",
       "        return;\n",
       "    }\n",
       "\n",
       "    var output_index = fig.cell_info[2]\n",
       "    var cell = fig.cell_info[0];\n",
       "\n",
       "};\n",
       "\n",
       "mpl.figure.prototype.handle_close = function(fig, msg) {\n",
       "    var width = fig.canvas.width/mpl.ratio\n",
       "    fig.root.unbind('remove')\n",
       "\n",
       "    // Update the output cell to use the data from the current canvas.\n",
       "    fig.push_to_output();\n",
       "    var dataURL = fig.canvas.toDataURL();\n",
       "    // Re-enable the keyboard manager in IPython - without this line, in FF,\n",
       "    // the notebook keyboard shortcuts fail.\n",
       "    IPython.keyboard_manager.enable()\n",
       "    $(fig.parent_element).html('<img src=\"' + dataURL + '\" width=\"' + width + '\">');\n",
       "    fig.close_ws(fig, msg);\n",
       "}\n",
       "\n",
       "mpl.figure.prototype.close_ws = function(fig, msg){\n",
       "    fig.send_message('closing', msg);\n",
       "    // fig.ws.close()\n",
       "}\n",
       "\n",
       "mpl.figure.prototype.push_to_output = function(remove_interactive) {\n",
       "    // Turn the data on the canvas into data in the output cell.\n",
       "    var width = this.canvas.width/mpl.ratio\n",
       "    var dataURL = this.canvas.toDataURL();\n",
       "    this.cell_info[1]['text/html'] = '<img src=\"' + dataURL + '\" width=\"' + width + '\">';\n",
       "}\n",
       "\n",
       "mpl.figure.prototype.updated_canvas_event = function() {\n",
       "    // Tell IPython that the notebook contents must change.\n",
       "    IPython.notebook.set_dirty(true);\n",
       "    this.send_message(\"ack\", {});\n",
       "    var fig = this;\n",
       "    // Wait a second, then push the new image to the DOM so\n",
       "    // that it is saved nicely (might be nice to debounce this).\n",
       "    setTimeout(function () { fig.push_to_output() }, 1000);\n",
       "}\n",
       "\n",
       "mpl.figure.prototype._init_toolbar = function() {\n",
       "    var fig = this;\n",
       "\n",
       "    var nav_element = $('<div/>')\n",
       "    nav_element.attr('style', 'width: 100%');\n",
       "    this.root.append(nav_element);\n",
       "\n",
       "    // Define a callback function for later on.\n",
       "    function toolbar_event(event) {\n",
       "        return fig.toolbar_button_onclick(event['data']);\n",
       "    }\n",
       "    function toolbar_mouse_event(event) {\n",
       "        return fig.toolbar_button_onmouseover(event['data']);\n",
       "    }\n",
       "\n",
       "    for(var toolbar_ind in mpl.toolbar_items){\n",
       "        var name = mpl.toolbar_items[toolbar_ind][0];\n",
       "        var tooltip = mpl.toolbar_items[toolbar_ind][1];\n",
       "        var image = mpl.toolbar_items[toolbar_ind][2];\n",
       "        var method_name = mpl.toolbar_items[toolbar_ind][3];\n",
       "\n",
       "        if (!name) { continue; };\n",
       "\n",
       "        var button = $('<button class=\"btn btn-default\" href=\"#\" title=\"' + name + '\"><i class=\"fa ' + image + ' fa-lg\"></i></button>');\n",
       "        button.click(method_name, toolbar_event);\n",
       "        button.mouseover(tooltip, toolbar_mouse_event);\n",
       "        nav_element.append(button);\n",
       "    }\n",
       "\n",
       "    // Add the status bar.\n",
       "    var status_bar = $('<span class=\"mpl-message\" style=\"text-align:right; float: right;\"/>');\n",
       "    nav_element.append(status_bar);\n",
       "    this.message = status_bar[0];\n",
       "\n",
       "    // Add the close button to the window.\n",
       "    var buttongrp = $('<div class=\"btn-group inline pull-right\"></div>');\n",
       "    var button = $('<button class=\"btn btn-mini btn-primary\" href=\"#\" title=\"Stop Interaction\"><i class=\"fa fa-power-off icon-remove icon-large\"></i></button>');\n",
       "    button.click(function (evt) { fig.handle_close(fig, {}); } );\n",
       "    button.mouseover('Stop Interaction', toolbar_mouse_event);\n",
       "    buttongrp.append(button);\n",
       "    var titlebar = this.root.find($('.ui-dialog-titlebar'));\n",
       "    titlebar.prepend(buttongrp);\n",
       "}\n",
       "\n",
       "mpl.figure.prototype._root_extra_style = function(el){\n",
       "    var fig = this\n",
       "    el.on(\"remove\", function(){\n",
       "\tfig.close_ws(fig, {});\n",
       "    });\n",
       "}\n",
       "\n",
       "mpl.figure.prototype._canvas_extra_style = function(el){\n",
       "    // this is important to make the div 'focusable\n",
       "    el.attr('tabindex', 0)\n",
       "    // reach out to IPython and tell the keyboard manager to turn it's self\n",
       "    // off when our div gets focus\n",
       "\n",
       "    // location in version 3\n",
       "    if (IPython.notebook.keyboard_manager) {\n",
       "        IPython.notebook.keyboard_manager.register_events(el);\n",
       "    }\n",
       "    else {\n",
       "        // location in version 2\n",
       "        IPython.keyboard_manager.register_events(el);\n",
       "    }\n",
       "\n",
       "}\n",
       "\n",
       "mpl.figure.prototype._key_event_extra = function(event, name) {\n",
       "    var manager = IPython.notebook.keyboard_manager;\n",
       "    if (!manager)\n",
       "        manager = IPython.keyboard_manager;\n",
       "\n",
       "    // Check for shift+enter\n",
       "    if (event.shiftKey && event.which == 13) {\n",
       "        this.canvas_div.blur();\n",
       "        // select the cell after this one\n",
       "        var index = IPython.notebook.find_cell_index(this.cell_info[0]);\n",
       "        IPython.notebook.select(index + 1);\n",
       "    }\n",
       "}\n",
       "\n",
       "mpl.figure.prototype.handle_save = function(fig, msg) {\n",
       "    fig.ondownload(fig, null);\n",
       "}\n",
       "\n",
       "\n",
       "mpl.find_output_cell = function(html_output) {\n",
       "    // Return the cell and output element which can be found *uniquely* in the notebook.\n",
       "    // Note - this is a bit hacky, but it is done because the \"notebook_saving.Notebook\"\n",
       "    // IPython event is triggered only after the cells have been serialised, which for\n",
       "    // our purposes (turning an active figure into a static one), is too late.\n",
       "    var cells = IPython.notebook.get_cells();\n",
       "    var ncells = cells.length;\n",
       "    for (var i=0; i<ncells; i++) {\n",
       "        var cell = cells[i];\n",
       "        if (cell.cell_type === 'code'){\n",
       "            for (var j=0; j<cell.output_area.outputs.length; j++) {\n",
       "                var data = cell.output_area.outputs[j];\n",
       "                if (data.data) {\n",
       "                    // IPython >= 3 moved mimebundle to data attribute of output\n",
       "                    data = data.data;\n",
       "                }\n",
       "                if (data['text/html'] == html_output) {\n",
       "                    return [cell, data, j];\n",
       "                }\n",
       "            }\n",
       "        }\n",
       "    }\n",
       "}\n",
       "\n",
       "// Register the function which deals with the matplotlib target/channel.\n",
       "// The kernel may be null if the page has been refreshed.\n",
       "if (IPython.notebook.kernel != null) {\n",
       "    IPython.notebook.kernel.comm_manager.register_target('matplotlib', mpl.mpl_figure_comm);\n",
       "}\n"
      ],
      "text/plain": [
       "<IPython.core.display.Javascript object>"
      ]
     },
     "metadata": {},
     "output_type": "display_data"
    },
    {
     "data": {
      "text/html": [
       "<img src=\"data:image/png;base64,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\" width=\"640\">"
      ],
      "text/plain": [
       "<IPython.core.display.HTML object>"
      ]
     },
     "metadata": {},
     "output_type": "display_data"
    }
   ],
   "source": [
    "live_plot_temperature_reading(channel_to_read=ls.ch09, read_period=0.01, n_reads=5)"
   ]
  },
  {
   "cell_type": "markdown",
   "metadata": {},
   "source": [
    "## Waiting to reach setpoint\n",
    "As we have seen, the call of the parameter `setpoint` is non-blocking. That means the function returns imediately without waiting for the setpoint to be reached. In many use-cases it is desirable to wait until a certain temperature regime has been reached. This can be achieved with `wait_until_set_point_reached` method. There are also three parameters which allow to tune the behavior of this method.\n",
    "\n",
    "See below:"
   ]
  },
  {
   "cell_type": "code",
   "execution_count": 17,
   "metadata": {},
   "outputs": [],
   "source": [
    "# time before reading the next temperature value\n",
    "# in other words, wait half a second, then read the temperature and compare to setpoint\n",
    "h.wait_cycle_time(0.5)\n",
    "\n",
    "# wait until temperature within 5% of the setpoint\n",
    "# the tolerance is defined as: |t_reading-t_setpoint|/t_reading\n",
    "h.wait_tolerance(0.05)\n",
    "\n",
    "# wait until temperature has been within the tolerance zone\n",
    "# for `wait_equilibration_time` seconds\n",
    "h.wait_equilibration_time(1.5)"
   ]
  },
  {
   "cell_type": "code",
   "execution_count": 18,
   "metadata": {},
   "outputs": [],
   "source": [
    "# do the waiting:\n",
    "if not simulation:  # does not work with simulated instrument!\n",
    "    h.wait_until_set_point_reached()"
   ]
  },
  {
   "cell_type": "markdown",
   "metadata": {},
   "source": [
    "For the simulation purposes, we can fake the heating of the sample by calling the `start_heating` method which only exists for the simulated instrument."
   ]
  },
  {
   "cell_type": "code",
   "execution_count": 19,
   "metadata": {},
   "outputs": [],
   "source": [
    "if simulation:\n",
    "    ls.sample_heater.setpoint(4)\n",
    "    ls.start_heating()  # starts from 7K and goes down to the setpoint of 4K\n",
    "    ls.sample_heater.wait_until_set_point_reached()"
   ]
  },
  {
   "cell_type": "markdown",
   "metadata": {},
   "source": [
    "## Automatically selecting a heater range (based on temperature)\n",
    "To automatically select a heater range, one can define temperature limits for the individual heater ranges:"
   ]
  },
  {
   "cell_type": "code",
   "execution_count": 20,
   "metadata": {},
   "outputs": [],
   "source": [
    "# all limits in K, 8 limits starting with limit for 31.6μA range\n",
    "h.range_limits([0.021, 0.1, 0.2, 1.1, 2, 4, 8, 16])"
   ]
  },
  {
   "cell_type": "code",
   "execution_count": 21,
   "metadata": {},
   "outputs": [
    {
     "data": {
      "text/plain": [
       "['off', '31.6μA', '100μA', '316μA', '1mA', '3.16mA', '10mA', '31.6mA', '100mA']"
      ]
     },
     "execution_count": 21,
     "metadata": {},
     "output_type": "execute_result"
    }
   ],
   "source": [
    "list(h.RANGES.keys())"
   ]
  },
  {
   "cell_type": "markdown",
   "metadata": {},
   "source": [
    "This means: from `0 K` to `0.021 K` use `31.6μA`, from `0.021 K` to `0.1 K` use `100μA`, and so on.\n",
    "\n",
    "We can now set the range by giving a temperature using the `set_range_from_temperature` method:"
   ]
  },
  {
   "cell_type": "code",
   "execution_count": 22,
   "metadata": {},
   "outputs": [
    {
     "data": {
      "text/plain": [
       "'316μA'"
      ]
     },
     "execution_count": 22,
     "metadata": {},
     "output_type": "execute_result"
    }
   ],
   "source": [
    "h.set_range_from_temperature(0.15)\n",
    "h.output_range()"
   ]
  },
  {
   "cell_type": "markdown",
   "metadata": {},
   "source": [
    "## Sweeping/blocking paramameter\n",
    "For compatibility with the legacy Loop construct, the Lakeshore driver exposes a blocking temperature parameter: `blocking_t`.\n",
    "The setter for this parameter simply does:"
   ]
  },
  {
   "cell_type": "markdown",
   "metadata": {},
   "source": [
    "```python\n",
    "def _set_blocking_t(self, t):\n",
    "     self.set_range_from_temperature(t)\n",
    "     self.setpoint(t)\n",
    "     self.wait_until_set_point_reached()\n",
    "```"
   ]
  },
  {
   "cell_type": "markdown",
   "metadata": {},
   "source": [
    "This parameter can be used in a `doNd`-like loop.\n",
    "\n",
    "Note that the range only gets set at the beginning of the sweep, i.e. according to the setpoint not according to the temperature reading."
   ]
  }
 ],
 "metadata": {
  "kernelspec": {
   "display_name": "Python 3",
   "language": "python",
   "name": "python3"
  },
  "language_info": {
   "codemirror_mode": {
    "name": "ipython",
    "version": 3
   },
   "file_extension": ".py",
   "mimetype": "text/x-python",
   "name": "python",
   "nbconvert_exporter": "python",
   "pygments_lexer": "ipython3",
   "version": "3.6.6"
  },
  "nbsphinx": {
   "execute": "never"
  },
  "toc": {
   "base_numbering": 1,
   "nav_menu": {},
   "number_sections": true,
   "sideBar": true,
   "skip_h1_title": false,
   "title_cell": "Table of Contents",
   "title_sidebar": "Contents",
   "toc_cell": false,
   "toc_position": {},
   "toc_section_display": true,
   "toc_window_display": false
  },
  "varInspector": {
   "cols": {
    "lenName": 16,
    "lenType": 16,
    "lenVar": 40
   },
   "kernels_config": {
    "python": {
     "delete_cmd_postfix": "",
     "delete_cmd_prefix": "del ",
     "library": "var_list.py",
     "varRefreshCmd": "print(var_dic_list())"
    },
    "r": {
     "delete_cmd_postfix": ") ",
     "delete_cmd_prefix": "rm(",
     "library": "var_list.r",
     "varRefreshCmd": "cat(var_dic_list()) "
    }
   },
   "types_to_exclude": [
    "module",
    "function",
    "builtin_function_or_method",
    "instance",
    "_Feature"
   ],
   "window_display": false
  }
 },
 "nbformat": 4,
 "nbformat_minor": 2
}
