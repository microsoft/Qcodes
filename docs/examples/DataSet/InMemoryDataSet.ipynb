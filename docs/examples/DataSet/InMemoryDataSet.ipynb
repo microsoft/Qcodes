{
 "cells": [
  {
   "cell_type": "markdown",
   "metadata": {},
   "source": [
    "# In memory dataset"
   ]
  },
  {
   "cell_type": "markdown",
   "metadata": {},
   "source": [
    "This notebooks explains an alternative way of measuring where the raw data is not written directly to a sqlite database file but only kept in memory with the ability to export the data after the measurement is completed. This may significantly speed up measurements where a lot of data is acquired but there is no protection against any data lose that may happen during a measurement. (Power loss, computer crash etc.) However, there may be situations where this trade-off is worthwhile. Please do only use the in memory dataset for measurements if you understand the risks. "
   ]
  },
  {
   "cell_type": "code",
   "execution_count": 2,
   "metadata": {},
   "outputs": [],
   "source": [
    "%matplotlib inline\n",
    "import numpy.random as rd\n",
    "import matplotlib.pyplot as plt\n",
    "import numpy as np\n",
    "\n",
    "from time import sleep, monotonic\n",
    "\n",
    "import qcodes as qc\n",
    "from qcodes import (\n",
    "    Station,\n",
    "    load_or_create_experiment,\n",
    "    initialise_database,\n",
    "    Measurement,\n",
    "    load_by_run_spec,\n",
    "    load_by_guid,\n",
    "    initialise_or_create_database_at,\n",
    ")\n",
    "from qcodes.tests.instrument_mocks import (\n",
    "    DummyInstrument,\n",
    "    DummyInstrumentWithMeasurement,\n",
    ")\n",
    "from qcodes.dataset.plotting import plot_dataset\n",
    "from qcodes.dataset.descriptions.detect_shapes import detect_shape_of_measurement"
   ]
  },
  {
   "cell_type": "markdown",
   "metadata": {},
   "source": [
    "Here we set up two mock instruments and a database to measure into:"
   ]
  },
  {
   "cell_type": "code",
   "execution_count": 3,
   "metadata": {},
   "outputs": [],
   "source": [
    "# preparatory mocking of physical setup\n",
    "\n",
    "dac = DummyInstrument(\"dac\", gates=[\"ch1\", \"ch2\"])\n",
    "dmm = DummyInstrumentWithMeasurement(name=\"dmm\", setter_instr=dac)\n",
    "\n",
    "station = qc.Station(dmm, dac)"
   ]
  },
  {
   "cell_type": "code",
   "execution_count": 4,
   "metadata": {},
   "outputs": [],
   "source": [
    "initialise_or_create_database_at(\"./in_mem_example.db\")\n",
    "exp = load_or_create_experiment(experiment_name=\"in_mem_exp\", sample_name=\"no sample\")"
   ]
  },
  {
   "cell_type": "markdown",
   "metadata": {},
   "source": [
    "And run a standard experiment writing data to the database: "
   ]
  },
  {
   "cell_type": "code",
   "execution_count": 5,
   "metadata": {},
   "outputs": [
    {
     "name": "stdout",
     "output_type": "stream",
     "text": [
      "Starting experimental run with id: 5. \n"
     ]
    }
   ],
   "source": [
    "meas = Measurement(exp=exp)\n",
    "meas.register_parameter(dac.ch1)  # register the first independent parameter\n",
    "meas.register_parameter(dmm.v1, setpoints=(dac.ch1,))  # now register the dependent oone\n",
    "\n",
    "meas.write_period = 0.5\n",
    "\n",
    "with meas.run() as datasaver:\n",
    "    for set_v in np.linspace(0, 25, 10):\n",
    "        dac.ch1.set(set_v)\n",
    "        get_v = dmm.v1.get()\n",
    "        datasaver.add_result((dac.ch1, set_v), (dmm.v1, get_v))\n",
    "\n",
    "    dataset1D = datasaver.dataset  # convenient to have for data access and plotting"
   ]
  },
  {
   "cell_type": "code",
   "execution_count": 6,
   "metadata": {},
   "outputs": [
    {
     "data": {
      "image/png": "[encoded data removed]",
      "text/plain": [
       "<Figure size 432x288 with 1 Axes>"
      ]
     },
     "metadata": {
      "needs_background": "light"
     },
     "output_type": "display_data"
    }
   ],
   "source": [
    "ax, cbax = plot_dataset(dataset1D)"
   ]
  },
  {
   "cell_type": "code",
   "execution_count": 7,
   "metadata": {},
   "outputs": [],
   "source": [
    "from qcodes.dataset.data_set_in_memory import DataSetInMem"
   ]
  },
  {
   "cell_type": "markdown",
   "metadata": {},
   "source": [
    "The in memory measurement looks nearly identical with the only difference being that we explicitly pass in the dataset Class that we want to use as a parameter to ``measurement.run``"
   ]
  },
  {
   "cell_type": "code",
   "execution_count": 27,
   "metadata": {},
   "outputs": [
    {
     "name": "stdout",
     "output_type": "stream",
     "text": [
      "Starting experimental run with id: 7. \n"
     ]
    }
   ],
   "source": [
    "with meas.run(dataset_class=DataSetInMem) as datasaver:\n",
    "    for set_v in np.linspace(0, 25, 10):\n",
    "        dac.ch1.set(set_v)\n",
    "        get_v = dmm.v1.get()\n",
    "        datasaver.add_result((dac.ch1, set_v), (dmm.v1, get_v))\n",
    "    datasetinmem = datasaver.dataset"
   ]
  },
  {
   "cell_type": "code",
   "execution_count": 28,
   "metadata": {},
   "outputs": [
    {
     "data": {
      "image/png": "[encoded data removed]",
      "text/plain": [
       "<Figure size 432x288 with 1 Axes>"
      ]
     },
     "metadata": {
      "needs_background": "light"
     },
     "output_type": "display_data"
    }
   ],
   "source": [
    "ax, cbax = plot_dataset(datasetinmem)"
   ]
  },
  {
   "cell_type": "code",
   "execution_count": 29,
   "metadata": {},
   "outputs": [
    {
     "data": {
      "text/plain": [
       "7"
      ]
     },
     "execution_count": 29,
     "metadata": {},
     "output_type": "execute_result"
    }
   ],
   "source": [
    "datasetinmem.run_id"
   ]
  },
  {
   "cell_type": "markdown",
   "metadata": {},
   "source": [
    "When the measurement is performed in this way the data is not written to the database but the metadata (run_id, timestamps, snapshot etc.) is.\n",
    "\n",
    "To preserve the raw data it must be exported it to another file format. See [Exporting QCoDes Datasets](./Exporting-data-to-other-file-formats.ipynb) for more information on exporting including how this can be done automatically."
   ]
  },
  {
   "cell_type": "code",
   "execution_count": 34,
   "metadata": {},
   "outputs": [],
   "source": [
    "datasetinmem.export(\"netcdf\", path=\".\")"
   ]
  },
  {
   "cell_type": "markdown",
   "metadata": {},
   "source": [
    "The `export_info` attribute contains information about locations where the file was exported to. We will use this below to show how the data may be reloaded from a netcdf file."
   ]
  },
  {
   "cell_type": "code",
   "execution_count": 35,
   "metadata": {},
   "outputs": [
    {
     "data": {
      "text/plain": [
       "'C:\\\\Users\\\\jenielse\\\\source\\\\repos\\\\Qcodes\\\\docs\\\\examples\\\\DataSet\\\\qcodes_7.nc'"
      ]
     },
     "execution_count": 35,
     "metadata": {},
     "output_type": "execute_result"
    }
   ],
   "source": [
    "path_to_netcdf = datasetinmem.export_info.export_paths[\"nc\"]\n",
    "path_to_netcdf"
   ]
  },
  {
   "cell_type": "markdown",
   "metadata": {},
   "source": [
    "As expected we can see this file in the current directory."
   ]
  },
  {
   "cell_type": "code",
   "execution_count": 37,
   "metadata": {},
   "outputs": [
    {
     "name": "stdout",
     "output_type": "stream",
     "text": [
      " Volume in drive C has no label.\n",
      " Volume Serial Number is A6E9-9402\n",
      "\n",
      " Directory of C:\\Users\\jenielse\\source\\repos\\Qcodes\\docs\\examples\\DataSet\n",
      "\n",
      "27/10/2021  15:14    <DIR>          .\n",
      "27/09/2021  09:36    <DIR>          ..\n",
      "27/10/2021  12:01    <DIR>          .ipynb_checkpoints\n",
      "26/10/2021  10:35           885,940 Accessing-data-in-DataSet.ipynb\n",
      "27/09/2021  09:36            17,673 Benchmarking.ipynb\n",
      "27/09/2021  09:36    <DIR>          Cache\n",
      "26/10/2021  10:35            79,094 DataSet-class-walkthrough.ipynb\n",
      "27/09/2021  09:36            85,237 Dataset_Performance.ipynb\n",
      "27/10/2021  11:49           362,890 Exporting-data-to-other-file-formats.ipynb\n",
      "27/10/2021  12:03         8,450,048 export_example.db\n",
      "27/09/2021  09:36            16,283 Extracting-runs-from-one-DB-file-to-another.ipynb\n",
      "14/10/2021  16:10            78,918 import-data-from-legacy-dat-files.ipynb\n",
      "27/10/2021  09:49            53,856 In memory dataset exp.ipynb\n",
      "27/10/2021  15:14           103,770 InMemoryDataSet.ipynb\n",
      "27/10/2021  14:57            57,344 in_mem_example.db\n",
      "27/10/2021  14:57            32,768 in_mem_example.db-shm\n",
      "27/10/2021  15:02           238,992 in_mem_example.db-wal\n",
      "27/09/2021  09:36           107,861 Linking to parent datasets.ipynb\n",
      "27/09/2021  09:36            31,470 Measuring X as a function of time.ipynb\n",
      "27/09/2021  09:36           341,976 Offline Plotting Tutorial.ipynb\n",
      "27/09/2021  09:36           252,034 Offline plotting with categorical data.ipynb\n",
      "27/09/2021  09:36           295,746 Offline plotting with complex data.ipynb\n",
      "27/09/2021  09:36            29,073 Paramtypes explained.ipynb\n",
      "27/09/2021  09:36            13,370 Pedestrian example of subscribing to a DataSet.ipynb\n",
      "26/10/2021  10:35           522,174 Performing-measurements-using-qcodes-parameters-and-dataset.ipynb\n",
      "04/10/2021  11:58            16,384 qcodes_10.nc\n",
      "04/10/2021  12:01            16,384 qcodes_14.nc\n",
      "27/10/2021  10:34           339,592 qcodes_16.nc\n",
      "27/10/2021  10:35           339,144 qcodes_17.nc\n",
      "04/10/2021  13:57            16,384 qcodes_18.nc\n",
      "27/10/2021  12:01            16,384 qcodes_2.nc\n",
      "04/10/2021  15:44            16,384 qcodes_20.nc\n",
      "06/10/2021  15:55            16,384 qcodes_24.nc\n",
      "06/10/2021  15:58            16,384 qcodes_25.nc\n",
      "15/10/2021  13:15            14,496 qcodes_3.nc\n",
      "08/10/2021  11:13            16,384 qcodes_31.nc\n",
      "12/10/2021  14:08            16,384 qcodes_33.nc\n",
      "27/10/2021  12:04            16,384 qcodes_4.nc\n",
      "27/10/2021  14:57            16,384 qcodes_6.nc\n",
      "27/10/2021  15:06            14,496 qcodes_7.nc\n",
      "04/10/2021  11:53            16,384 qcodes_8.nc\n",
      "27/09/2021  09:36    <DIR>          Real_instruments\n",
      "27/10/2021  11:48            45,056 reimport_example.db\n",
      "27/09/2021  09:36            53,575 Saving_data_in_the_background.ipynb\n",
      "27/09/2021  09:36            12,010 subscriber json exporter.ipynb\n",
      "27/09/2021  09:36            19,815 The-Experiment-Container.ipynb\n",
      "27/09/2021  09:36           167,974 Threaded data acquisition.ipynb\n",
      "28/09/2021  11:48           447,548 Using_doNd_functions_in_comparison_to_Measurement_context_manager_for_performing_measurements.ipynb\n",
      "27/09/2021  09:36            36,354 Working with snapshots.ipynb\n",
      "25/10/2021  14:24           212,189 Working-With-Pandas-and-XArray.ipynb\n",
      "              45 File(s)     13,955,374 bytes\n",
      "               5 Dir(s)  335,906,631,680 bytes free\n"
     ]
    }
   ],
   "source": [
    "!dir"
   ]
  },
  {
   "cell_type": "markdown",
   "metadata": {},
   "source": [
    "Note that you can interact with the dataset via the `cache` attribute of the dataset in the same way as you can with a regular dataset. However the in memory dataset does not implement methods that provide direct access to the data from the dataset object it self (get_parameter_data etc.) since these read data from the database. "
   ]
  },
  {
   "cell_type": "markdown",
   "metadata": {},
   "source": [
    "## Reloading data from db and exported file"
   ]
  },
  {
   "cell_type": "code",
   "execution_count": 41,
   "metadata": {},
   "outputs": [],
   "source": [
    "from qcodes import load_by_run_spec\n",
    "from qcodes.dataset.plotting import plot_dataset"
   ]
  },
  {
   "cell_type": "code",
   "execution_count": 42,
   "metadata": {},
   "outputs": [],
   "source": [
    "ds = load_by_run_spec(captured_run_id=loadedds.captured_run_id)"
   ]
  },
  {
   "cell_type": "code",
   "execution_count": 43,
   "metadata": {},
   "outputs": [
    {
     "data": {
      "text/plain": [
       "([<AxesSubplot:title={'center':'Run #7, Experiment in_mem_exp (no sample)'}, xlabel='Gate ch1 (V)', ylabel='Gate v1 (V)'>],\n",
       " [None])"
      ]
     },
     "execution_count": 43,
     "metadata": {},
     "output_type": "execute_result"
    },
    {
     "data": {
      "image/png": "[encoded data removed]",
      "text/plain": [
       "<Figure size 432x288 with 1 Axes>"
      ]
     },
     "metadata": {
      "needs_background": "light"
     },
     "output_type": "display_data"
    }
   ],
   "source": [
    "plot_dataset(ds)"
   ]
  },
  {
   "cell_type": "markdown",
   "metadata": {},
   "source": [
    "A dataset can also be loaded directly from the netcdf file. See [Exporting QCoDes Datasets](./Exporting-data-to-other-file-formats.ipynb) for more information on how this is done. "
   ]
  },
  {
   "cell_type": "code",
   "execution_count": null,
   "metadata": {},
   "outputs": [],
   "source": []
  }
 ],
 "metadata": {
  "kernelspec": {
   "display_name": "Python 3 (ipykernel)",
   "language": "python",
   "name": "python3"
  },
  "language_info": {
   "codemirror_mode": {
    "name": "ipython",
    "version": 3
   },
   "file_extension": ".py",
   "mimetype": "text/x-python",
   "name": "python",
   "nbconvert_exporter": "python",
   "pygments_lexer": "ipython3",
   "version": "3.8.12"
  },
  "nbsphinx": {
   "timeout": 60
  },
  "toc": {
   "base_numbering": 1,
   "nav_menu": {},
   "number_sections": true,
   "sideBar": true,
   "skip_h1_title": false,
   "title_cell": "Table of Contents",
   "title_sidebar": "Contents",
   "toc_cell": false,
   "toc_position": {},
   "toc_section_display": true,
   "toc_window_display": false
  },
  "varInspector": {
   "cols": {
    "lenName": 16,
    "lenType": 16,
    "lenVar": 40
   },
   "kernels_config": {
    "python": {
     "delete_cmd_postfix": "",
     "delete_cmd_prefix": "del ",
     "library": "var_list.py",
     "varRefreshCmd": "print(var_dic_list())"
    },
    "r": {
     "delete_cmd_postfix": ") ",
     "delete_cmd_prefix": "rm(",
     "library": "var_list.r",
     "varRefreshCmd": "cat(var_dic_list()) "
    }
   },
   "types_to_exclude": [
    "module",
    "function",
    "builtin_function_or_method",
    "instance",
    "_Feature"
   ],
   "window_display": false
  }
 },
 "nbformat": 4,
 "nbformat_minor": 4
}
