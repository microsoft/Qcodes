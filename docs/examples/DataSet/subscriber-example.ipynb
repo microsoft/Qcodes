{
 "cells": [
  {
   "cell_type": "markdown",
   "metadata": {},
   "source": [
    "# Subscriber example"
   ]
  },
  {
   "cell_type": "code",
   "execution_count": 1,
   "metadata": {
    "collapsed": true
   },
   "outputs": [],
   "source": [
    "import logging\n",
    "logging.basicConfig(level=\"DEBUG\")\n",
    "from qcodes import Publisher"
   ]
  },
  {
   "cell_type": "code",
   "execution_count": 2,
   "metadata": {
    "collapsed": true
   },
   "outputs": [],
   "source": [
    "from qcodes.dataset.data_set import new_data_set, ParamSpec, DB, hash_from_parts\n",
    "from qcodes.dataset.sqlite_base import new_experiment, connect, length"
   ]
  },
  {
   "cell_type": "code",
   "execution_count": 3,
   "metadata": {},
   "outputs": [],
   "source": [
    "dataSet = new_data_set(\"test\", specs=[ParamSpec(\"x\", \"numeric\"), ParamSpec(\"y\", \"numeric\")])"
   ]
  },
  {
   "cell_type": "code",
   "execution_count": 4,
   "metadata": {},
   "outputs": [],
   "source": [
    "p = Publisher(dataSet.name)"
   ]
  },
  {
   "cell_type": "code",
   "execution_count": 5,
   "metadata": {
    "collapsed": true
   },
   "outputs": [],
   "source": [
    "def send_all(data, length, state):\n",
    "    p.send({\"data\":data,\"length\":length}.update(state))"
   ]
  },
  {
   "cell_type": "code",
   "execution_count": 6,
   "metadata": {
    "collapsed": true
   },
   "outputs": [],
   "source": [
    "def print_all(data, length, state):\n",
    "    p.send({\"data\":data,\"length\":length}.update(state))"
   ]
  },
  {
   "cell_type": "code",
   "execution_count": 7,
   "metadata": {
    "scrolled": true
   },
   "outputs": [
    {
     "name": "stderr",
     "output_type": "stream",
     "text": [
      "DEBUG:Subscriber acf002c3474907c1b8329c115de2b7b95825886f:Starting subscriber\n"
     ]
    }
   ],
   "source": [
    "sub_id = dataSet.subscribe(print_all, min_wait=0, min_count=20, state={\"name\":dataSet.name})"
   ]
  },
  {
   "cell_type": "code",
   "execution_count": 8,
   "metadata": {
    "collapsed": true
   },
   "outputs": [],
   "source": [
    "s = dataSet.subscribers[sub_id]"
   ]
  },
  {
   "cell_type": "code",
   "execution_count": 9,
   "metadata": {
    "scrolled": false
   },
   "outputs": [
    {
     "name": "stderr",
     "output_type": "stream",
     "text": [
      "DEBUG:Subscriber acf002c3474907c1b8329c115de2b7b95825886f:Args:(0, 0) put into queue for callbackacf002c3474907c1b8329c115de2b7b95825886f\n",
      "DEBUG:Subscriber acf002c3474907c1b8329c115de2b7b95825886f:Args:(1, 1) put into queue for callbackacf002c3474907c1b8329c115de2b7b95825886f\n",
      "DEBUG:Subscriber acf002c3474907c1b8329c115de2b7b95825886f:Args:(2, 2) put into queue for callbackacf002c3474907c1b8329c115de2b7b95825886f\n",
      "DEBUG:Subscriber acf002c3474907c1b8329c115de2b7b95825886f:Args:(3, 3) put into queue for callbackacf002c3474907c1b8329c115de2b7b95825886f\n",
      "DEBUG:Subscriber acf002c3474907c1b8329c115de2b7b95825886f:Args:(4, 4) put into queue for callbackacf002c3474907c1b8329c115de2b7b95825886f\n",
      "DEBUG:Subscriber acf002c3474907c1b8329c115de2b7b95825886f:Args:(5, 5) put into queue for callbackacf002c3474907c1b8329c115de2b7b95825886f\n",
      "DEBUG:Subscriber acf002c3474907c1b8329c115de2b7b95825886f:Args:(6, 6) put into queue for callbackacf002c3474907c1b8329c115de2b7b95825886f\n",
      "DEBUG:Subscriber acf002c3474907c1b8329c115de2b7b95825886f:Args:(7, 7) put into queue for callbackacf002c3474907c1b8329c115de2b7b95825886f\n",
      "DEBUG:Subscriber acf002c3474907c1b8329c115de2b7b95825886f:Args:(8, 8) put into queue for callbackacf002c3474907c1b8329c115de2b7b95825886f\n",
      "DEBUG:Subscriber acf002c3474907c1b8329c115de2b7b95825886f:Args:(9, 9) put into queue for callbackacf002c3474907c1b8329c115de2b7b95825886f\n",
      "DEBUG:Subscriber acf002c3474907c1b8329c115de2b7b95825886f:Args:(10, 10) put into queue for callbackacf002c3474907c1b8329c115de2b7b95825886f\n",
      "DEBUG:Subscriber acf002c3474907c1b8329c115de2b7b95825886f:Args:(11, 11) put into queue for callbackacf002c3474907c1b8329c115de2b7b95825886f\n",
      "DEBUG:Subscriber acf002c3474907c1b8329c115de2b7b95825886f:Args:(12, 12) put into queue for callbackacf002c3474907c1b8329c115de2b7b95825886f\n",
      "DEBUG:Subscriber acf002c3474907c1b8329c115de2b7b95825886f:Args:(13, 13) put into queue for callbackacf002c3474907c1b8329c115de2b7b95825886f\n",
      "DEBUG:Subscriber acf002c3474907c1b8329c115de2b7b95825886f:Args:(14, 14) put into queue for callbackacf002c3474907c1b8329c115de2b7b95825886f\n",
      "DEBUG:Subscriber acf002c3474907c1b8329c115de2b7b95825886f:Args:(15, 15) put into queue for callbackacf002c3474907c1b8329c115de2b7b95825886f\n",
      "DEBUG:Subscriber acf002c3474907c1b8329c115de2b7b95825886f:Args:(16, 16) put into queue for callbackacf002c3474907c1b8329c115de2b7b95825886f\n",
      "DEBUG:Subscriber acf002c3474907c1b8329c115de2b7b95825886f:Args:(17, 17) put into queue for callbackacf002c3474907c1b8329c115de2b7b95825886f\n",
      "DEBUG:Subscriber acf002c3474907c1b8329c115de2b7b95825886f:Args:(18, 18) put into queue for callbackacf002c3474907c1b8329c115de2b7b95825886f\n",
      "DEBUG:Subscriber acf002c3474907c1b8329c115de2b7b95825886f:Args:(19, 19) put into queue for callbackacf002c3474907c1b8329c115de2b7b95825886f\n",
      "DEBUG:Subscriber acf002c3474907c1b8329c115de2b7b95825886f:Args:(20, 20) put into queue for callbackacf002c3474907c1b8329c115de2b7b95825886f\n",
      "DEBUG:Subscriber acf002c3474907c1b8329c115de2b7b95825886f:<function print_all at 0x10b957598> called.\n",
      "DEBUG:Subscriber acf002c3474907c1b8329c115de2b7b95825886f:Args:(21, 21) put into queue for callbackacf002c3474907c1b8329c115de2b7b95825886f\n",
      "DEBUG:Subscriber acf002c3474907c1b8329c115de2b7b95825886f:Args:(22, 22) put into queue for callbackacf002c3474907c1b8329c115de2b7b95825886f\n",
      "DEBUG:Subscriber acf002c3474907c1b8329c115de2b7b95825886f:Args:(23, 23) put into queue for callbackacf002c3474907c1b8329c115de2b7b95825886f\n",
      "DEBUG:Subscriber acf002c3474907c1b8329c115de2b7b95825886f:Args:(24, 24) put into queue for callbackacf002c3474907c1b8329c115de2b7b95825886f\n"
     ]
    }
   ],
   "source": [
    "for x in range(25):\n",
    "    y = x\n",
    "    dataSet.add_result({\"x\":x, \"y\":y})"
   ]
  },
  {
   "cell_type": "code",
   "execution_count": 10,
   "metadata": {},
   "outputs": [
    {
     "data": {
      "text/plain": [
       "{'name': 'test'}"
      ]
     },
     "execution_count": 10,
     "metadata": {},
     "output_type": "execute_result"
    }
   ],
   "source": [
    "s.state"
   ]
  },
  {
   "cell_type": "code",
   "execution_count": 11,
   "metadata": {},
   "outputs": [
    {
     "name": "stderr",
     "output_type": "stream",
     "text": [
      "DEBUG:Subscriber acf002c3474907c1b8329c115de2b7b95825886f:<function print_all at 0x10b957598> called.\n",
      "DEBUG:Subscriber acf002c3474907c1b8329c115de2b7b95825886f:Done callback\n",
      "DEBUG:Subscriber acf002c3474907c1b8329c115de2b7b95825886f:<function print_all at 0x10b957598> called.\n"
     ]
    }
   ],
   "source": [
    "dataSet.mark_complete()"
   ]
  },
  {
   "cell_type": "code",
   "execution_count": 12,
   "metadata": {},
   "outputs": [
    {
     "name": "stderr",
     "output_type": "stream",
     "text": [
      "DEBUG:Subscriber acf002c3474907c1b8329c115de2b7b95825886f:Scheduling stop\n"
     ]
    }
   ],
   "source": [
    "s.schedule_stop()"
   ]
  },
  {
   "cell_type": "code",
   "execution_count": 13,
   "metadata": {},
   "outputs": [
    {
     "name": "stderr",
     "output_type": "stream",
     "text": [
      "DEBUG:Subscriber 41b777ccfdd49986a04ff735c02e9a0ce0aeeed1:Starting subscriber\n",
      "DEBUG:Subscriber 41b777ccfdd49986a04ff735c02e9a0ce0aeeed1:<function print_all at 0x10b957598> called.\n"
     ]
    }
   ],
   "source": [
    "# add another sub just to show that un subscribing will actually stop this one \n",
    "sub_id = dataSet.subscribe(print_all, min_wait=0, min_count=20, state={\"name\":dataSet.name})"
   ]
  },
  {
   "cell_type": "code",
   "execution_count": 14,
   "metadata": {},
   "outputs": [
    {
     "name": "stderr",
     "output_type": "stream",
     "text": [
      "DEBUG:Subscriber 41b777ccfdd49986a04ff735c02e9a0ce0aeeed1:Scheduling stop\n"
     ]
    }
   ],
   "source": [
    "dataSet.unsubscribe_all()"
   ]
  },
  {
   "cell_type": "code",
   "execution_count": null,
   "metadata": {
    "collapsed": true
   },
   "outputs": [],
   "source": []
  }
 ],
 "metadata": {
  "kernelspec": {
   "display_name": "Python 3",
   "language": "python",
   "name": "python3"
  },
  "language_info": {
   "codemirror_mode": {
    "name": "ipython",
    "version": 3
   },
   "file_extension": ".py",
   "mimetype": "text/x-python",
   "name": "python",
   "nbconvert_exporter": "python",
   "pygments_lexer": "ipython3",
   "version": "3.6.4"
  }
 },
 "nbformat": 4,
 "nbformat_minor": 2
}
