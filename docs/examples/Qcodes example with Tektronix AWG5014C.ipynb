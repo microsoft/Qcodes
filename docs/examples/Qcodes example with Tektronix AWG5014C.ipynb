{
 "cells": [
  {
   "cell_type": "code",
   "execution_count": 1,
   "metadata": {
    "collapsed": true
   },
   "outputs": [],
   "source": [
    "%matplotlib nbagg\n",
    "import matplotlib.pyplot as plt\n",
    "import time\n",
    "import numpy as np"
   ]
  },
  {
   "cell_type": "code",
   "execution_count": 2,
   "metadata": {
    "collapsed": false
   },
   "outputs": [
    {
     "name": "stdout",
     "output_type": "stream",
     "text": [
      "Connected to: TEKTRONIX AWG5014C (serial:B051039, firmware:SCPI:99.0 FW:4.6.0.7) in 0.31s\n"
     ]
    }
   ],
   "source": [
    "import qcodes.instrument_drivers.tektronix.AWG5014 as awg\n",
    "awg1 = awg.Tektronix_AWG5014('AWG1','./AWGSeq','TCPIP0::172.20.3.248::inst0::INSTR')"
   ]
  },
  {
   "cell_type": "markdown",
   "metadata": {},
   "source": [
    "As with any other QCoDeS instrument, parameters can be set and get (gotten)."
   ]
  },
  {
   "cell_type": "code",
   "execution_count": 29,
   "metadata": {
    "collapsed": true
   },
   "outputs": [
    {
     "name": "stdout",
     "output_type": "stream",
     "text": [
      "0\n",
      "\n",
      "0.0\n",
      "0.1\n"
     ]
    }
   ],
   "source": [
    "print(awg1.ch3_state.get())\n",
    "print(awg1.ch2_offset.get())\n",
    "awg1.ch2_offset.set(0.1)\n",
    "print(awg1.ch2_offset.get())"
   ]
  },
  {
   "cell_type": "markdown",
   "metadata": {},
   "source": [
    "A list of all available parameters can be found in the following manner:"
   ]
  },
  {
   "cell_type": "code",
   "execution_count": 30,
   "metadata": {
    "collapsed": true
   },
   "outputs": [
    {
     "name": "stdout",
     "output_type": "stream",
     "text": [
      "IDN :  IDN\n",
      "ch1_amp :  Amplitude channel 1 (Vpp)\n",
      "ch1_m1_del :  Channel 1 Marker 1 delay (ns)\n",
      "ch1_m1_high :  Channel 1 Marker 1 high level (V)\n",
      "ch1_m1_low :  Channel 1 Marker 1 low level (V)\n",
      "ch1_m2_del :  Channel 1 Marker 2 delay (ns)\n",
      "ch1_m2_high :  Channel 1 Marker 2 high level (V)\n",
      "ch1_m2_low :  Channel 1 Marker 2 low level (V)\n",
      "ch1_offset :  Offset channel 1 (V)\n",
      "ch1_state :  Status channel 1\n",
      "ch1_waveform :  Waveform channel 1\n",
      "ch2_amp :  Amplitude channel 2 (Vpp)\n",
      "ch2_m1_del :  Channel 2 Marker 1 delay (ns)\n",
      "ch2_m1_high :  Channel 2 Marker 1 high level (V)\n",
      "ch2_m1_low :  Channel 2 Marker 1 low level (V)\n",
      "ch2_m2_del :  Channel 2 Marker 2 delay (ns)\n",
      "ch2_m2_high :  Channel 2 Marker 2 high level (V)\n",
      "ch2_m2_low :  Channel 2 Marker 2 low level (V)\n",
      "ch2_offset :  Offset channel 2 (V)\n",
      "ch2_state :  Status channel 2\n",
      "ch2_waveform :  Waveform channel 2\n",
      "ch3_amp :  Amplitude channel 3 (Vpp)\n",
      "ch3_m1_del :  Channel 3 Marker 1 delay (ns)\n",
      "ch3_m1_high :  Channel 3 Marker 1 high level (V)\n",
      "ch3_m1_low :  Channel 3 Marker 1 low level (V)\n",
      "ch3_m2_del :  Channel 3 Marker 2 delay (ns)\n",
      "ch3_m2_high :  Channel 3 Marker 2 high level (V)\n",
      "ch3_m2_low :  Channel 3 Marker 2 low level (V)\n",
      "ch3_offset :  Offset channel 3 (V)\n",
      "ch3_state :  Status channel 3\n",
      "ch3_waveform :  Waveform channel 3\n",
      "ch4_amp :  Amplitude channel 4 (Vpp)\n",
      "ch4_m1_del :  Channel 4 Marker 1 delay (ns)\n",
      "ch4_m1_high :  Channel 4 Marker 1 high level (V)\n",
      "ch4_m1_low :  Channel 4 Marker 1 low level (V)\n",
      "ch4_m2_del :  Channel 4 Marker 2 delay (ns)\n",
      "ch4_m2_high :  Channel 4 Marker 2 high level (V)\n",
      "ch4_m2_low :  Channel 4 Marker 2 low level (V)\n",
      "ch4_offset :  Offset channel 4 (V)\n",
      "ch4_state :  Status channel 4\n",
      "ch4_waveform :  Waveform channel 4\n",
      "clock_freq :  Clock frequency (Hz)\n",
      "event_impedance :  Event impedance (Ohm)\n",
      "event_jump_timing :  event_jump_timing\n",
      "event_level :  Event level (V)\n",
      "event_polarity :  event_polarity\n",
      "numpoints :  Number of datapoints per wave\n",
      "run_mode :  run_mode\n",
      "setup_filename :  setup_filename\n",
      "state :  state\n",
      "timeout :  timeout\n",
      "trigger_impedance :  Trigger impedance (Ohm)\n",
      "trigger_level :  Trigger level (V)\n",
      "trigger_mode :  trigger_mode\n",
      "trigger_slope :  trigger_slope\n",
      "trigger_source :  trigger_source\n"
     ]
    }
   ],
   "source": [
    "pars = np.sort(list(awg1.parameters.keys()))\n",
    "for param in pars:\n",
    "    print(param, ': ', awg1.parameters[param].label)"
   ]
  },
  {
   "cell_type": "markdown",
   "metadata": {},
   "source": [
    "Finally, close the connection and tear down the instrument."
   ]
  },
  {
   "cell_type": "code",
   "execution_count": 22,
   "metadata": {
    "collapsed": false
   },
   "outputs": [
    {
     "data": {
      "text/plain": [
       "'IDN'"
      ]
     },
     "execution_count": 22,
     "metadata": {},
     "output_type": "execute_result"
    }
   ],
   "source": [
    "awg1.parameters['IDN'].label\n"
   ]
  },
  {
   "cell_type": "code",
   "execution_count": 31,
   "metadata": {
    "collapsed": false
   },
   "outputs": [
    {
     "data": {
      "text/plain": [
       "True"
      ]
     },
     "execution_count": 31,
     "metadata": {},
     "output_type": "execute_result"
    }
   ],
   "source": [
    "awg1.is_awg_ready()"
   ]
  },
  {
   "cell_type": "code",
   "execution_count": 13,
   "metadata": {
    "collapsed": false
   },
   "outputs": [],
   "source": [
    "awg1.close()"
   ]
  }
 ],
 "metadata": {
  "kernelspec": {
   "display_name": "Python 3",
   "language": "python",
   "name": "python3"
  },
  "language_info": {
   "codemirror_mode": {
    "name": "ipython",
    "version": 3
   },
   "file_extension": ".py",
   "mimetype": "text/x-python",
   "name": "python",
   "nbconvert_exporter": "python",
   "pygments_lexer": "ipython3",
   "version": "3.5.2"
  }
 },
 "nbformat": 4,
 "nbformat_minor": 0
}
