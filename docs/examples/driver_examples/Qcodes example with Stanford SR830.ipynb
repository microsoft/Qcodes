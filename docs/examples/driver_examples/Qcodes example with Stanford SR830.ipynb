{
 "cells": [
  {
   "cell_type": "markdown",
   "metadata": {},
   "source": [
    "# QCoDeS Example with Stanford SR830"
   ]
  },
  {
   "cell_type": "markdown",
   "metadata": {},
   "source": [
    "In this notebook, we are presenting how to connect to SR830 lock-in amplifier and read its buffer in QCoDeS. The instrument is not connected to any other instrument while running this notebook, so the buffer is only showing the instrument noise data."
   ]
  },
  {
   "cell_type": "markdown",
   "metadata": {},
   "source": [
    "### Imports and connecting to the instrument"
   ]
  },
  {
   "cell_type": "code",
   "execution_count": 1,
   "metadata": {
    "ExecuteTime": {
     "end_time": "2021-06-07T14:52:17.094829Z",
     "start_time": "2021-06-07T14:52:14.441125Z"
    }
   },
   "outputs": [],
   "source": [
    "import qcodes as qc\n",
    "import numpy as np\n",
    "from time import sleep\n",
    "from qcodes.instrument_drivers.stanford_research.SR830 import SR830\n",
    "from qcodes.utils.dataset import doNd\n",
    "from qcodes import load_or_create_experiment\n",
    "from qcodes.instrument.base import Instrument\n",
    "from qcodes.utils.validators import Numbers"
   ]
  },
  {
   "cell_type": "code",
   "execution_count": 2,
   "metadata": {
    "ExecuteTime": {
     "end_time": "2021-06-07T14:52:42.232213Z",
     "start_time": "2021-06-07T14:52:41.796076Z"
    }
   },
   "outputs": [
    {
     "name": "stdout",
     "output_type": "stream",
     "text": [
      "Connected to: Stanford_Research_Systems SR830 (serial:s/n54436, firmware:ver1.07) in 0.26s\n",
      "Upgrading database; v0 -> v1: : 0it [00:00, ?it/s]\n",
      "Upgrading database; v1 -> v2: 100%|█████████████████████████████████████████████████████| 1/1 [00:00<00:00, 507.48it/s]\n",
      "Upgrading database; v2 -> v3: : 0it [00:00, ?it/s]\n",
      "Upgrading database; v3 -> v4: : 0it [00:00, ?it/s]\n",
      "Upgrading database; v4 -> v5: 100%|█████████████████████████████████████████████████████| 1/1 [00:00<00:00, 334.85it/s]\n",
      "Upgrading database; v5 -> v6: : 0it [00:00, ?it/s]\n",
      "Upgrading database; v6 -> v7: 100%|█████████████████████████████████████████████████████| 1/1 [00:00<00:00, 125.56it/s]\n",
      "Upgrading database; v7 -> v8: 100%|█████████████████████████████████████████████████████| 1/1 [00:00<00:00, 502.01it/s]\n",
      "Upgrading database; v8 -> v9: 100%|█████████████████████████████████████████████████████| 1/1 [00:00<00:00, 334.74it/s]\n"
     ]
    },
    {
     "data": {
      "text/plain": [
       "SR830_notebook#some_sample#1@C:\\Users\\qt9usr\\experiments.db\n",
       "-----------------------------------------------------------"
      ]
     },
     "execution_count": 2,
     "metadata": {},
     "output_type": "execute_result"
    }
   ],
   "source": [
    "sr = SR830('lockin', 'GPIB0::7::INSTR')\n",
    "load_or_create_experiment(experiment_name='SR830_notebook')"
   ]
  },
  {
   "cell_type": "markdown",
   "metadata": {},
   "source": [
    "Let's quickly look at the status of the instrument after connecting to it:"
   ]
  },
  {
   "cell_type": "code",
   "execution_count": 3,
   "metadata": {
    "ExecuteTime": {
     "end_time": "2021-06-07T14:52:55.168723Z",
     "start_time": "2021-06-07T14:52:55.156771Z"
    }
   },
   "outputs": [
    {
     "name": "stdout",
     "output_type": "stream",
     "text": [
      "lockin:\n",
      "\tparameter       value\n",
      "--------------------------------------------------------------------------------\n",
      "IDN              :\t{'vendor': 'Stanford_Research_Systems', 'model': 'SR830', ...\n",
      "P                :\tNone (deg)\n",
      "R                :\tNone (V)\n",
      "R_offset         :\tNone \n",
      "X                :\tNone (V)\n",
      "X_offset         :\tNone \n",
      "Y                :\tNone (V)\n",
      "Y_offset         :\tNone \n",
      "amplitude        :\tNone (V)\n",
      "aux_in1          :\tNone (V)\n",
      "aux_in2          :\tNone (V)\n",
      "aux_in3          :\tNone (V)\n",
      "aux_in4          :\tNone (V)\n",
      "aux_out1         :\tNone (V)\n",
      "aux_out2         :\tNone (V)\n",
      "aux_out3         :\tNone (V)\n",
      "aux_out4         :\tNone (V)\n",
      "buffer_SR        :\t1 (Hz)\n",
      "buffer_acq_mode  :\tNone \n",
      "buffer_npts      :\tNone \n",
      "buffer_trig_mode :\tNone \n",
      "ch1_databuffer   :\tNot available (V)\n",
      "ch1_datatrace    :\tNot available (V)\n",
      "ch1_display      :\tX \n",
      "ch1_ratio        :\tnone \n",
      "ch2_databuffer   :\tNot available (V)\n",
      "ch2_datatrace    :\tNot available (V)\n",
      "ch2_display      :\tY \n",
      "ch2_ratio        :\tnone \n",
      "complex_voltage  :\tNone (V)\n",
      "ext_trigger      :\tNone \n",
      "filter_slope     :\tNone (dB/oct)\n",
      "frequency        :\tNone (Hz)\n",
      "harmonic         :\tNone \n",
      "input_config     :\ta \n",
      "input_coupling   :\tNone \n",
      "input_shield     :\tNone \n",
      "notch_filter     :\tNone \n",
      "output_interface :\tNone \n",
      "phase            :\tNone (deg)\n",
      "reference_source :\tNone \n",
      "reserve          :\tNone \n",
      "sensitivity      :\tNone (V)\n",
      "sweep_setpoints  :\tNone (s)\n",
      "sync_filter      :\tNone \n",
      "time_constant    :\tNone (s)\n",
      "timeout          :\t5 (s)\n"
     ]
    }
   ],
   "source": [
    "sr.print_readable_snapshot()"
   ]
  },
  {
   "cell_type": "markdown",
   "metadata": {},
   "source": [
    "### Basics of reading values from the lockin"
   ]
  },
  {
   "cell_type": "markdown",
   "metadata": {},
   "source": [
    "A parameter say `complex_voltage` can be read from the lockin as follows."
   ]
  },
  {
   "cell_type": "code",
   "execution_count": 5,
   "metadata": {
    "ExecuteTime": {
     "end_time": "2021-06-07T14:53:47.603005Z",
     "start_time": "2021-06-07T14:53:47.571828Z"
    }
   },
   "outputs": [
    {
     "data": {
      "text/plain": [
       "(-7.15259e-07+1.43052e-06j)"
      ]
     },
     "execution_count": 5,
     "metadata": {},
     "output_type": "execute_result"
    }
   ],
   "source": [
    "sr.complex_voltage()"
   ]
  },
  {
   "cell_type": "markdown",
   "metadata": {},
   "source": [
    "In fact, a method name `snap` is available on SR830 lockin which allows the user to read 2 to 6 parameters simultaneously out of the following."
   ]
  },
  {
   "cell_type": "code",
   "execution_count": 6,
   "metadata": {
    "ExecuteTime": {
     "end_time": "2021-06-07T14:53:52.308799Z",
     "start_time": "2021-06-07T14:53:52.301830Z"
    }
   },
   "outputs": [
    {
     "name": "stdout",
     "output_type": "stream",
     "text": [
      "['x',\n",
      " 'y',\n",
      " 'r',\n",
      " 'p',\n",
      " 'phase',\n",
      " 'θ',\n",
      " 'aux1',\n",
      " 'aux2',\n",
      " 'aux3',\n",
      " 'aux4',\n",
      " 'freq',\n",
      " 'ch1',\n",
      " 'ch2']\n"
     ]
    }
   ],
   "source": [
    "from pprint import pprint\n",
    "pprint(list(sr.SNAP_PARAMETERS.keys()))"
   ]
  },
  {
   "cell_type": "markdown",
   "metadata": {},
   "source": [
    "Method `snap` can be used in the following manner. "
   ]
  },
  {
   "cell_type": "code",
   "execution_count": 7,
   "metadata": {
    "ExecuteTime": {
     "end_time": "2021-06-07T14:54:01.323980Z",
     "start_time": "2021-06-07T14:54:01.283624Z"
    }
   },
   "outputs": [
    {
     "data": {
      "text/plain": [
       "(-3.33787e-06, 4.05314e-06, 128.658)"
      ]
     },
     "execution_count": 7,
     "metadata": {},
     "output_type": "execute_result"
    }
   ],
   "source": [
    "sr.snap('x','y','phase')"
   ]
  },
  {
   "cell_type": "markdown",
   "metadata": {},
   "source": [
    "### Changing the Sensitivity\n",
    "The driver can change the sensitivity automatically according to the R value of the lock-in.\n",
    "So instead of manually changing the sensitivity on the front panel, you can simply run this in your data acquisition or Measurement (max_changes is an integer defining how many steps the autorange can change the sensitivity, the default is 1 step):"
   ]
  },
  {
   "cell_type": "code",
   "execution_count": 4,
   "metadata": {},
   "outputs": [],
   "source": [
    "sr.autorange(max_changes=2)"
   ]
  },
  {
   "cell_type": "markdown",
   "metadata": {},
   "source": [
    "### Preparing for reading the buffer and measurement"
   ]
  },
  {
   "cell_type": "markdown",
   "metadata": {},
   "source": [
    "The SR830 has two internal data buffers corresponding to the displays of channel 1 and channel 2.\n",
    "Here we present a simple way to use the buffers.\n",
    "The buffer can be filled either at a constant sampling rate or by sending an trigger. \n",
    "Each buffer can hold 16383 points. The buffers are filled simultaneously. The QCoDeS driver always pulls the entire buffer, so make sure to reset (clear) the buffer of old data before starting and acquisition.\n",
    "\n",
    "We setup channel 1 and the buffer to be filled at a constant sampling rate:"
   ]
  },
  {
   "cell_type": "code",
   "execution_count": 5,
   "metadata": {},
   "outputs": [],
   "source": [
    "sr.ch1_display('X')\n",
    "sr.ch1_ratio('none')\n",
    "sr.buffer_SR(512)  # Sample rate (Hz)\n",
    "sr.buffer_trig_mode.set('OFF')"
   ]
  },
  {
   "cell_type": "markdown",
   "metadata": {},
   "source": [
    "We fill the buffer for one second as shown below:"
   ]
  },
  {
   "cell_type": "code",
   "execution_count": 6,
   "metadata": {},
   "outputs": [],
   "source": [
    "sr.buffer_reset()\n",
    "sr.buffer_start() # Start filling the buffers with 512 pts/s\n",
    "sleep(1)\n",
    "sr.buffer_pause()  # Stop filling buffers"
   ]
  },
  {
   "cell_type": "markdown",
   "metadata": {},
   "source": [
    "Now we run a QCoDeS Measurement using do0d to get the buffer and plot it:"
   ]
  },
  {
   "cell_type": "code",
   "execution_count": 7,
   "metadata": {
    "scrolled": true
   },
   "outputs": [
    {
     "name": "stdout",
     "output_type": "stream",
     "text": [
      "Starting experimental run with id: 50. \n"
     ]
    },
    {
     "data": {
      "text/plain": [
       "(results #50@C:\\Users\\Farzad\\experiments.db\n",
       " ------------------------------------------\n",
       " lockin_sweep_setpoints - array\n",
       " lockin_ch1_datatrace - array,\n",
       " [<AxesSubplot:title={'center':'Run #50, Experiment SR830_notebook (some_sample)'}, xlabel='Time (ms)', ylabel='X (nV)'>],\n",
       " [None])"
      ]
     },
     "execution_count": 7,
     "metadata": {},
     "output_type": "execute_result"
    },
    {
     "data": {
      "image/png": "[encoded data removed]",
      "text/plain": [
       "<Figure size 432x288 with 1 Axes>"
      ]
     },
     "metadata": {
      "needs_background": "light"
     },
     "output_type": "display_data"
    }
   ],
   "source": [
    "doNd.do0d(sr.ch1_datatrace, do_plot=True)"
   ]
  },
  {
   "cell_type": "markdown",
   "metadata": {},
   "source": [
    "### Software trigger\n",
    "Below we will illustrate how a software trigger can be sent to fill the buffer on the instrument. For Illustrative purposes, we define a Dummy Generator, that we wish to set before each measurement. "
   ]
  },
  {
   "cell_type": "code",
   "execution_count": 8,
   "metadata": {},
   "outputs": [],
   "source": [
    "class DummyGenerator(Instrument):\n",
    "\n",
    "    def __init__(self, name, **kwargs):\n",
    "\n",
    "        super().__init__(name, **kwargs)\n",
    "\n",
    "        self.add_parameter('v_start',\n",
    "                           initial_value=0,\n",
    "                           unit='V',\n",
    "                           label='v start',\n",
    "                           vals=Numbers(0,1e3),\n",
    "                           get_cmd=None,\n",
    "                           set_cmd=None)\n",
    "\n",
    "        self.add_parameter('v_stop',\n",
    "                           initial_value=1,\n",
    "                           unit='V',\n",
    "                           label='v stop',\n",
    "                           vals=Numbers(1,1e3),\n",
    "                           get_cmd=None,\n",
    "                           set_cmd=None)\n",
    "        \n",
    "        self.add_parameter('v_gen',\n",
    "                           initial_value=0,\n",
    "                           unit='V',\n",
    "                           label='v_gen',\n",
    "                           vals=Numbers(self.v_start(),self.v_stop()),\n",
    "                           get_cmd=None,\n",
    "                           set_cmd=None)"
   ]
  },
  {
   "cell_type": "code",
   "execution_count": 9,
   "metadata": {},
   "outputs": [],
   "source": [
    "gen = DummyGenerator('gen')"
   ]
  },
  {
   "cell_type": "markdown",
   "metadata": {},
   "source": [
    "We can now setup the lock-in to use the trigger "
   ]
  },
  {
   "cell_type": "code",
   "execution_count": 10,
   "metadata": {},
   "outputs": [],
   "source": [
    "sr.ch1_ratio('none')\n",
    "sr.buffer_SR(\"Trigger\")\n",
    "sr.buffer_trig_mode.set('ON')\n"
   ]
  },
  {
   "cell_type": "markdown",
   "metadata": {},
   "source": [
    "We need to connect the data strored in the buffer to the correspointing values of the Dummy Generator,\n",
    "i.e we need to give the setpoints for the data to be stored in the buffer.\n",
    "For this purperse the driver has the convience function set_sweep_parameters, that generates the setpoint with units and labels corresponding to the independent parameter her (gen.v_gen)."
   ]
  },
  {
   "cell_type": "code",
   "execution_count": 11,
   "metadata": {},
   "outputs": [],
   "source": [
    "sr.set_sweep_parameters(gen.v_gen,0,1,100)"
   ]
  },
  {
   "cell_type": "markdown",
   "metadata": {},
   "source": [
    "To fill the buffer we iterate through values of the sweep_setpoints and change the value of the Dummy Generator followed by a software trigger. To get and plot the data we use the do0d."
   ]
  },
  {
   "cell_type": "code",
   "execution_count": 12,
   "metadata": {},
   "outputs": [],
   "source": [
    "sr.buffer_reset()\n",
    "for v in sr.sweep_setpoints.get():\n",
    "    gen.v_gen.set(v)\n",
    "    sleep(0.04)\n",
    "    sr.send_trigger()"
   ]
  },
  {
   "cell_type": "code",
   "execution_count": 13,
   "metadata": {},
   "outputs": [
    {
     "name": "stdout",
     "output_type": "stream",
     "text": [
      "Starting experimental run with id: 51. \n"
     ]
    },
    {
     "data": {
      "text/plain": [
       "(results #51@C:\\Users\\Farzad\\experiments.db\n",
       " ------------------------------------------\n",
       " lockin_sweep_setpoints - array\n",
       " lockin_ch1_datatrace - array,\n",
       " [<AxesSubplot:title={'center':'Run #51, Experiment SR830_notebook (some_sample)'}, xlabel='v_gen (V)', ylabel='X (nV)'>],\n",
       " [None])"
      ]
     },
     "execution_count": 13,
     "metadata": {},
     "output_type": "execute_result"
    },
    {
     "data": {
      "image/png": "[encoded data removed]",
      "text/plain": [
       "<Figure size 432x288 with 1 Axes>"
      ]
     },
     "metadata": {
      "needs_background": "light"
     },
     "output_type": "display_data"
    }
   ],
   "source": [
    "doNd.do0d(sr.ch1_datatrace, do_plot=True)"
   ]
  },
  {
   "cell_type": "markdown",
   "metadata": {},
   "source": [
    "We are not restricted to sample on an equally spaced grid. We can set the sweep_array directly.  "
   ]
  },
  {
   "cell_type": "code",
   "execution_count": 17,
   "metadata": {},
   "outputs": [],
   "source": [
    "grid_sample = np.concatenate((np.linspace(0, 0.5, 5),np.linspace(0.51, 1, 50)))\n",
    "sr.sweep_setpoints.sweep_array = grid_sample\n",
    "sr.sweep_setpoints.unit = gen.v_gen.unit\n",
    "sr.sweep_setpoints.label = 'You also need to set label and unit'"
   ]
  },
  {
   "cell_type": "code",
   "execution_count": 18,
   "metadata": {},
   "outputs": [],
   "source": [
    "sr.buffer_reset()\n",
    "for v in grid_sample:\n",
    "    gen.v_gen.set(v)\n",
    "    sleep(0.04)\n",
    "    sr.send_trigger()"
   ]
  },
  {
   "cell_type": "code",
   "execution_count": 19,
   "metadata": {},
   "outputs": [
    {
     "name": "stdout",
     "output_type": "stream",
     "text": [
      "Starting experimental run with id: 53. \n"
     ]
    },
    {
     "data": {
      "text/plain": [
       "(results #53@C:\\Users\\Farzad\\experiments.db\n",
       " ------------------------------------------\n",
       " lockin_sweep_setpoints - array\n",
       " lockin_ch1_datatrace - array,\n",
       " [<AxesSubplot:title={'center':'Run #53, Experiment SR830_notebook (some_sample)'}, xlabel='You also need to set label and unit (V)', ylabel='X (nV)'>],\n",
       " [None])"
      ]
     },
     "execution_count": 19,
     "metadata": {},
     "output_type": "execute_result"
    },
    {
     "data": {
      "image/png": "[encoded data removed]",
      "text/plain": [
       "<Figure size 432x288 with 1 Axes>"
      ]
     },
     "metadata": {
      "needs_background": "light"
     },
     "output_type": "display_data"
    }
   ],
   "source": [
    "doNd.do0d(sr.ch1_datatrace, do_plot=True)"
   ]
  }
 ],
 "metadata": {
  "kernelspec": {
   "display_name": "Python 3",
   "language": "python",
   "name": "python3"
  },
  "language_info": {
   "codemirror_mode": {
    "name": "ipython",
    "version": 3
   },
   "file_extension": ".py",
   "mimetype": "text/x-python",
   "name": "python",
   "nbconvert_exporter": "python",
   "pygments_lexer": "ipython3",
   "version": "3.7.9"
  },
  "nbsphinx": {
   "execute": "never"
  },
  "toc": {
   "base_numbering": 1,
   "nav_menu": {},
   "number_sections": true,
   "sideBar": true,
   "skip_h1_title": false,
   "title_cell": "Table of Contents",
   "title_sidebar": "Contents",
   "toc_cell": false,
   "toc_position": {},
   "toc_section_display": true,
   "toc_window_display": false
  },
  "varInspector": {
   "cols": {
    "lenName": 16,
    "lenType": 16,
    "lenVar": 40
   },
   "kernels_config": {
    "python": {
     "delete_cmd_postfix": "",
     "delete_cmd_prefix": "del ",
     "library": "var_list.py",
     "varRefreshCmd": "print(var_dic_list())"
    },
    "r": {
     "delete_cmd_postfix": ") ",
     "delete_cmd_prefix": "rm(",
     "library": "var_list.r",
     "varRefreshCmd": "cat(var_dic_list()) "
    }
   },
   "types_to_exclude": [
    "module",
    "function",
    "builtin_function_or_method",
    "instance",
    "_Feature"
   ],
   "window_display": false
  }
 },
 "nbformat": 4,
 "nbformat_minor": 2
}
