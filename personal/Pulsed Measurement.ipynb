{
 "cells": [
  {
   "cell_type": "code",
   "execution_count": 1,
   "metadata": {
    "code_folding": [
     19
    ],
    "collapsed": false
   },
   "outputs": [
    {
     "data": {
      "application/javascript": [
       "/*\r\n",
       " * Qcodes Jupyter/IPython widgets\r\n",
       " */\r\n",
       "require([\r\n",
       "    'nbextensions/widgets/widgets/js/widget',\r\n",
       "    'nbextensions/widgets/widgets/js/manager'\r\n",
       "], function (widget, manager) {\r\n",
       "\r\n",
       "    var UpdateView = widget.DOMWidgetView.extend({\r\n",
       "        render: function() {\r\n",
       "            window.MYWIDGET = this;\r\n",
       "            this._interval = 0;\r\n",
       "            this.update();\r\n",
       "        },\r\n",
       "        update: function() {\r\n",
       "            this.display(this.model.get('_message'));\r\n",
       "            this.setInterval();\r\n",
       "        },\r\n",
       "        display: function(message) {\r\n",
       "            /*\r\n",
       "             * display method: override this for custom display logic\r\n",
       "             */\r\n",
       "            this.el.innerHTML = message;\r\n",
       "        },\r\n",
       "        remove: function() {\r\n",
       "            clearInterval(this._updater);\r\n",
       "        },\r\n",
       "        setInterval: function(newInterval) {\r\n",
       "            var me = this;\r\n",
       "            if(newInterval===undefined) newInterval = me.model.get('interval');\r\n",
       "            if(newInterval===me._interval) return;\r\n",
       "\r\n",
       "            me._interval = newInterval;\r\n",
       "\r\n",
       "            if(me._updater) clearInterval(me._updater);\r\n",
       "\r\n",
       "            if(me._interval) {\r\n",
       "                me._updater = setInterval(function() {\r\n",
       "                    me.send({myupdate: true});\r\n",
       "                    if(!me.model.comm_live) {\r\n",
       "                        console.log('missing comm, canceling widget updates', me);\r\n",
       "                        clearInterval(me._updater);\r\n",
       "                    }\r\n",
       "                }, me._interval * 1000);\r\n",
       "            }\r\n",
       "        }\r\n",
       "    });\r\n",
       "    manager.WidgetManager.register_widget_view('UpdateView', UpdateView);\r\n",
       "\r\n",
       "    var HiddenUpdateView = UpdateView.extend({\r\n",
       "        display: function(message) {\r\n",
       "            this.$el.hide();\r\n",
       "        }\r\n",
       "    });\r\n",
       "    manager.WidgetManager.register_widget_view('HiddenUpdateView', HiddenUpdateView);\r\n",
       "\r\n",
       "    var SubprocessView = UpdateView.extend({\r\n",
       "        render: function() {\r\n",
       "            var me = this;\r\n",
       "            me._interval = 0;\r\n",
       "            me._minimize = '<i class=\"fa-minus fa\"></i>';\r\n",
       "            me._restore = '<i class=\"fa-plus fa\"></i>';\r\n",
       "\r\n",
       "            // max lines of output to show\r\n",
       "            me.maxOutputLength = 500;\r\n",
       "\r\n",
       "            // in case there is already an outputView present,\r\n",
       "            // like from before restarting the kernel\r\n",
       "            $('.qcodes-output-view').not(me.$el).remove();\r\n",
       "\r\n",
       "            me.$el\r\n",
       "                .addClass('qcodes-output-view')\r\n",
       "                .attr('qcodes-state', 'docked')\r\n",
       "                .html(\r\n",
       "                    '<div class=\"qcodes-output-header toolbar\">' +\r\n",
       "                        '<div class=\"qcodes-process-list\"></div>' +\r\n",
       "                        '<button class=\"btn qcodes-processlines\"><i class=\"fa-list fa\"></i></button>' +\r\n",
       "                        '<button class=\"btn qcodes-abort-loop disabled\">Abort</button>' +\r\n",
       "                        '<button class=\"btn qcodes-clear-output disabled qcodes-content\">Clear</button>' +\r\n",
       "                        '<button class=\"btn js-state qcodes-minimized\"><i class=\"fa-minus fa\"></i></button>' +\r\n",
       "                        '<button class=\"btn js-state qcodes-docked\"><i class=\"fa-toggle-up fa\"></i></button>' +\r\n",
       "                        '<button class=\"btn js-state qcodes-floated\"><i class=\"fa-arrows fa\"></i></button>' +\r\n",
       "                    '</div>' +\r\n",
       "                    '<pre class=\"qcodes-content\"></pre>'\r\n",
       "                );\r\n",
       "\r\n",
       "            me.clearButton = me.$el.find('.qcodes-clear-output');\r\n",
       "            me.minButton = me.$el.find('.qcodes-minimize');\r\n",
       "            me.outputArea = me.$el.find('pre');\r\n",
       "            me.subprocessList = me.$el.find('.qcodes-process-list');\r\n",
       "            me.abortButton = me.$el.find('.qcodes-abort-loop');\r\n",
       "            me.processLinesButton = me.$el.find('.qcodes-processlines')\r\n",
       "\r\n",
       "            me.outputLines = [];\r\n",
       "\r\n",
       "            me.clearButton.click(function() {\r\n",
       "                me.outputArea.html('');\r\n",
       "                me.clearButton.addClass('disabled');\r\n",
       "            });\r\n",
       "\r\n",
       "            me.abortButton.click(function() {\r\n",
       "                me.send({abort: true});\r\n",
       "            });\r\n",
       "\r\n",
       "            me.processLinesButton.click(function() {\r\n",
       "                // toggle multiline process list display\r\n",
       "                me.subprocessesMultiline = !me.subprocessesMultiline;\r\n",
       "                me.showSubprocesses();\r\n",
       "            });\r\n",
       "\r\n",
       "            me.$el.find('.js-state').click(function() {\r\n",
       "                var state = this.className.substr(this.className.indexOf('qcodes'))\r\n",
       "                        .split('-')[1].split(' ')[0];\r\n",
       "                me.model.set('_state', state);\r\n",
       "            });\r\n",
       "\r\n",
       "            $(window)\r\n",
       "                .off('resize.qcodes')\r\n",
       "                .on('resize.qcodes', function() {me.clipBounds();});\r\n",
       "\r\n",
       "            me.update();\r\n",
       "        },\r\n",
       "\r\n",
       "        updateState: function() {\r\n",
       "            var me = this,\r\n",
       "                oldState = me.$el.attr('qcodes-state'),\r\n",
       "                state = me.model.get('_state');\r\n",
       "\r\n",
       "            if(state === oldState) return;\r\n",
       "\r\n",
       "            setTimeout(function() {\r\n",
       "                // not sure why I can't pop it out of the widgetarea in render, but it seems that\r\n",
       "                // some other bit of code resets the parent after render if I do it there.\r\n",
       "                // To be safe, just do it on every state click.\r\n",
       "                me.$el.appendTo('body');\r\n",
       "\r\n",
       "                if(oldState === 'floated') {\r\n",
       "                    console.log('here');\r\n",
       "                    me.$el.draggable('destroy').css({left:'', top: ''});\r\n",
       "                }\r\n",
       "\r\n",
       "                me.$el.attr('qcodes-state', state);\r\n",
       "\r\n",
       "                if(state === 'floated') {\r\n",
       "                    me.$el\r\n",
       "                        .draggable({stop: function() { me.clipBounds(); }})\r\n",
       "                        .css({\r\n",
       "                            left: window.innerWidth - me.$el.width() - 15,\r\n",
       "                            top: window.innerHeight - me.$el.height() - 10\r\n",
       "                        });\r\n",
       "                }\r\n",
       "\r\n",
       "                // any previous highlighting is now moot\r\n",
       "                me.$el.removeClass('qcodes-highlight');\r\n",
       "            }, 0);\r\n",
       "\r\n",
       "        },\r\n",
       "\r\n",
       "        clipBounds: function() {\r\n",
       "            var me = this;\r\n",
       "            if(me.$el.attr('qcodes-state') === 'floated') {\r\n",
       "                var bounds = me.$el[0].getBoundingClientRect(),\r\n",
       "                    minVis = 40,\r\n",
       "                    maxLeft = window.innerWidth - minVis,\r\n",
       "                    minLeft = minVis - bounds.width,\r\n",
       "                    maxTop = window.innerHeight - minVis;\r\n",
       "\r\n",
       "                if(bounds.left > maxLeft) me.$el.css('left', maxLeft);\r\n",
       "                else if(bounds.left < minLeft) me.$el.css('left', minLeft);\r\n",
       "\r\n",
       "                if(bounds.top > maxTop) me.$el.css('top', maxTop);\r\n",
       "                else if(bounds.top < 0) me.$el.css('top', 0);\r\n",
       "            }\r\n",
       "        },\r\n",
       "\r\n",
       "        display: function(message) {\r\n",
       "            var me = this;\r\n",
       "            if(message) {\r\n",
       "                var initialScroll = me.outputArea.scrollTop();\r\n",
       "                me.outputArea.scrollTop(me.outputArea.prop('scrollHeight'));\r\n",
       "                var scrollBottom = me.outputArea.scrollTop();\r\n",
       "\r\n",
       "                if(me.$el.attr('qcodes-state') === 'minimized') {\r\n",
       "                    // if we add text and the box is minimized, highlight the\r\n",
       "                    // title bar to alert the user that there are new messages.\r\n",
       "                    // remove then add the class, so we get the animation again\r\n",
       "                    // if it's already highlighted\r\n",
       "                    me.$el.removeClass('qcodes-highlight');\r\n",
       "                    setTimeout(function(){\r\n",
       "                        me.$el.addClass('qcodes-highlight');\r\n",
       "                    }, 0);\r\n",
       "                }\r\n",
       "\r\n",
       "                var newLines = message.split('\\n'),\r\n",
       "                    out = me.outputLines,\r\n",
       "                    outLen = out.length;\r\n",
       "                if(outLen) out[outLen - 1] += newLines[0];\r\n",
       "                else out.push(newLines[0]);\r\n",
       "\r\n",
       "                for(var i = 1; i < newLines.length; i++) {\r\n",
       "                    out.push(newLines[i]);\r\n",
       "                }\r\n",
       "\r\n",
       "                if(out.length > me.maxOutputLength) {\r\n",
       "                    out.splice(0, out.length - me.maxOutputLength + 1,\r\n",
       "                        '<<< Output clipped >>>');\r\n",
       "                }\r\n",
       "\r\n",
       "                me.outputArea.text(out.join('\\n'));\r\n",
       "                me.clearButton.removeClass('disabled');\r\n",
       "\r\n",
       "                // if we were scrolled to the bottom initially, make sure\r\n",
       "                // we stay that way.\r\n",
       "                me.outputArea.scrollTop(initialScroll === scrollBottom ?\r\n",
       "                    me.outputArea.prop('scrollHeight') : initialScroll);\r\n",
       "            }\r\n",
       "\r\n",
       "            me.showSubprocesses();\r\n",
       "            me.updateState();\r\n",
       "        },\r\n",
       "\r\n",
       "        showSubprocesses: function() {\r\n",
       "            var me = this,\r\n",
       "                replacer = me.subprocessesMultiline ? '<br>' : ', ',\r\n",
       "                processes = (me.model.get('_processes') || '')\r\n",
       "                    .replace(/\\n/g, '&gt;' + replacer + '&lt;');\r\n",
       "\r\n",
       "            if(processes) processes = '&lt;' + processes + '&gt;';\r\n",
       "            else processes = 'No subprocesses';\r\n",
       "\r\n",
       "            me.abortButton.toggleClass('disabled', processes.indexOf('Measurement')===-1);\r\n",
       "\r\n",
       "            me.subprocessList.html(processes);\r\n",
       "        }\r\n",
       "    });\r\n",
       "    manager.WidgetManager.register_widget_view('SubprocessView', SubprocessView);\r\n",
       "});\r\n"
      ],
      "text/plain": [
       "<IPython.core.display.Javascript object>"
      ]
     },
     "metadata": {},
     "output_type": "display_data"
    },
    {
     "data": {
      "text/html": [
       "<style>.qcodes-output-view:not(.ui-draggable) {\r\n",
       "    bottom: 0;\r\n",
       "    right: 5px;\r\n",
       "}\r\n",
       ".qcodes-output-view {\r\n",
       "    position: fixed;\r\n",
       "    z-index: 999;\r\n",
       "    background-color: #fff;\r\n",
       "    box-shadow: 0 0 12px 1px rgba(87, 87, 87, 0.2);\r\n",
       "}\r\n",
       "\r\n",
       ".qcodes-output-header {\r\n",
       "    float: right;\r\n",
       "}\r\n",
       "\r\n",
       ".qcodes-highlight {\r\n",
       "    animation: pulse 1s linear;\r\n",
       "    background-color: #fa4;\r\n",
       "}\r\n",
       "\r\n",
       "@keyframes pulse {\r\n",
       "    0% {\r\n",
       "        background-color: #f00;\r\n",
       "    }\r\n",
       "    100% {\r\n",
       "        background-color: #fa4;\r\n",
       "    }\r\n",
       "}\r\n",
       "\r\n",
       ".qcodes-process-list {\r\n",
       "    float: left;\r\n",
       "    max-width: 780px;\r\n",
       "    margin: 3px 5px 3px 10px;\r\n",
       "    overflow: hidden;\r\n",
       "    white-space: nowrap;\r\n",
       "    text-overflow: ellipsis;\r\n",
       "}\r\n",
       "\r\n",
       ".qcodes-output-view[qcodes-state=minimized] .qcodes-process-list {\r\n",
       "    max-width: 300px;\r\n",
       "}\r\n",
       "\r\n",
       ".qcodes-output-view span {\r\n",
       "    padding: 2px 6px 3px 12px;\r\n",
       "}\r\n",
       "\r\n",
       ".qcodes-output-view .btn {\r\n",
       "    margin: 0 3px 0 0;\r\n",
       "}\r\n",
       "\r\n",
       ".qcodes-output-view[qcodes-state=docked] .qcodes-docked,\r\n",
       ".qcodes-output-view[qcodes-state=floated] .qcodes-floated,\r\n",
       ".qcodes-output-view[qcodes-state=minimized] .qcodes-minimized,\r\n",
       ".qcodes-output-view[qcodes-state=minimized] .qcodes-content {\r\n",
       "    display: none;\r\n",
       "}\r\n",
       "\r\n",
       ".qcodes-output-view .disabled {\r\n",
       "    opacity: 0.4;\r\n",
       "}\r\n",
       "\r\n",
       ".qcodes-abort-loop {\r\n",
       "    background-color: #844;\r\n",
       "    color: #fff;\r\n",
       "}\r\n",
       "\r\n",
       ".qcodes-output-view pre {\r\n",
       "    clear: both;\r\n",
       "    margin: 0;\r\n",
       "    border: 0;\r\n",
       "    border-top: 1px solid #ccc;\r\n",
       "    background-color: #ffe;\r\n",
       "    min-height: 50px;\r\n",
       "    max-height: 400px;\r\n",
       "    min-width: 400px;\r\n",
       "    max-width: 1000px;\r\n",
       "}</style>"
      ],
      "text/plain": [
       "<IPython.core.display.HTML object>"
      ]
     },
     "metadata": {},
     "output_type": "display_data"
    }
   ],
   "source": [
    "# Imports\n",
    "import os\n",
    "import clr\n",
    "import sys\n",
    "from imp import reload\n",
    "from System import Array\n",
    "from time import sleep, time\n",
    "import numpy as np\n",
    "from matplotlib import pyplot as plt\n",
    "from scipy.misc import factorial\n",
    "import peakutils\n",
    "# sys.path.append(os.getcwd())\n",
    "%matplotlib inline\n",
    "\n",
    "import qcodes as qc\n",
    "qc.show_subprocess_widget()\n",
    "\n",
    "import qcodes.instrument.parameter as parameter\n",
    "\n",
    "loc_provider = qc.data.location.FormatLocation(fmt='data/{date}/#{counter}_{name}_{time}')\n",
    "qc.data.data_set.DataSet.location_provider=loc_provider"
   ]
  },
  {
   "cell_type": "code",
   "execution_count": 2,
   "metadata": {
    "code_folding": [],
    "collapsed": true
   },
   "outputs": [],
   "source": [
    "def try_close_instruments(instruments=['PulseBlaster', 'ArbStudio', 'SIM900', 'ATS', 'ATS_controller']):\n",
    "    if isinstance(instruments, str):\n",
    "        instruments = [instruments]\n",
    "    for instrument in instruments:\n",
    "        try:\n",
    "            eval('{}.close()'.format(instrument_name))\n",
    "        except:\n",
    "            pass\n",
    "        \n",
    "def plot_traces(traces, traces_AWG=None):\n",
    "    plt.figure()\n",
    "    plt.pcolormesh(range(traces.shape[1]), \n",
    "                 range(traces.shape[0]+1), traces)\n",
    "    if traces_AWG is not None:\n",
    "        trace_AWG = traces_AWG[:1]\n",
    "        trace_AWG /= (np.max(trace_AWG)-np.min(trace_AWG))\n",
    "        trace_AWG -= np.min(trace_AWG)\n",
    "        plt.pcolormesh(range(traces.shape[1]), \n",
    "                       np.array([0,1])+traces.shape[0], trace_AWG)\n",
    "    plt.xlim([0,traces.shape[1]])\n",
    "    plt.ylim([0,traces.shape[0]+1])\n",
    "    plt.colorbar()\n",
    "\n",
    "    fig, axes = plt.subplots(len(traces), sharex=True)\n",
    "    for k, trace in enumerate(traces):\n",
    "        axes[k].plot(trace)\n",
    "        axes[k].plot(trace > 0.5)\n",
    "        if traces_AWG is not None:\n",
    "            trace_AWG = traces_AWG[k]\n",
    "            trace_AWG /= (np.max(trace_AWG)-np.min(trace_AWG))\n",
    "            trace_AWG -= np.min(trace_AWG)\n",
    "            axes[k].plot(trace_AWG)\n",
    "        else:\n",
    "            axes[k].plot([1]*load_pts+[0.5]*read_pts+[0]*empty_pts)\n",
    "    \n",
    "dummy_param = parameter.ManualParameter(name=\"dummy\", initial_value=42)"
   ]
  },
  {
   "cell_type": "code",
   "execution_count": 3,
   "metadata": {
    "code_folding": [],
    "collapsed": false
   },
   "outputs": [],
   "source": [
    "# Load instruments\n",
    "import qcodes.instrument_drivers.lecroy.ArbStudio1104 as ArbStudio_driver\n",
    "import qcodes.instrument_drivers.spincore.PulseBlasterESRPRO as PulseBlaster_driver\n",
    "import qcodes.instrument_drivers.stanford_research.SIM900 as SIM900_driver\n",
    "from meta_instruments import Analysis\n",
    "\n",
    "for instrument_name in ['ArbStudio', 'PulseBlaster', 'SIM900']:\n",
    "    try_close_instruments(instrument_name)\n",
    "    eval('reload({}_driver)'.format(instrument_name))\n",
    "try_close_instruments('elr_analysis')\n",
    "reload(Analysis)\n",
    "\n",
    "dll_path = os.path.join(os.getcwd(),'lecroy_driver\\\\Library\\\\ArbStudioSDK.dll')\n",
    "ArbStudio = ArbStudio_driver.ArbStudio1104('ArbStudio', dll_path, server_name=None)\n",
    "\n",
    "PulseBlaster = PulseBlaster_driver.PulseBlaster('PulseBlaster', server_name='PB_server')\n",
    "\n",
    "SIM900 = SIM900_driver.SIM900('SIM900', 'GPIB0::4::INSTR')\n",
    "TG, LB, RB, TGAC, SRC, NOTUSED, DS, DF = [eval('SIM900.chan{}'.format(i)) for i in range(1,9)]\n"
   ]
  },
  {
   "cell_type": "code",
   "execution_count": 4,
   "metadata": {
    "code_folding": [],
    "collapsed": false
   },
   "outputs": [],
   "source": [
    "# Load ATS instruments\n",
    "import qcodes.instrument_drivers.AlazarTech.ATS9440 as ATS_driver\n",
    "import qcodes.instrument_drivers.AlazarTech.ATS_acquisition_controllers as ATS_controller_driver\n",
    "# import qcodes.personal.meta_instruments.\n",
    "\n",
    "for instrument_name in ['ATS', 'ATS_controller']:\n",
    "    try_close_instruments(instrument_name)\n",
    "    eval('reload({}_driver)'.format(instrument_name))\n",
    "ATS = ATS_driver.ATS9440('ATS', server_name='Alazar_server')\n",
    "ATS_controller = ATS_controller_driver.Basic_AcquisitionController(name='ATS_controller', \n",
    "                                                           alazar_name='ATS',\n",
    "                                                           server_name='Alazar_server')\n",
    "\n",
    "elr_analysis = Analysis.EmptyLoadReadAnalysis(name='ELR_analysis', ATS_controller=ATS_controller)"
   ]
  },
  {
   "cell_type": "markdown",
   "metadata": {
    "code_folding": [
     0
    ]
   },
   "source": [
    "# Configure pulses"
   ]
  },
  {
   "cell_type": "code",
   "execution_count": 5,
   "metadata": {
    "code_folding": [],
    "collapsed": false
   },
   "outputs": [],
   "source": [
    "def configure_PulseBlaster(PulseBlaster, durations, marker_cycles=100, sampling_rate=500):\n",
    "    # Factor of 2 needed because apparently the core clock is not the same as the sampling rate\n",
    "    ms = 2 * sampling_rate * 1e3\n",
    "\n",
    "    PulseBlaster.detect_boards()\n",
    "    PulseBlaster.select_board(0)\n",
    "    PulseBlaster.core_clock(sampling_rate)\n",
    "\n",
    "    PulseBlaster.start_programming()\n",
    "    \n",
    "    pulse = 'empty'\n",
    "    PulseBlaster.send_instruction(0,'continue',0, marker_cycles)\n",
    "    start = PulseBlaster.send_instruction(0, 'continue', 0, durations[pulse]*ms - marker_cycles)\n",
    "    \n",
    "    pulse = 'load'\n",
    "    PulseBlaster.send_instruction(1,'continue',0, marker_cycles)\n",
    "    PulseBlaster.send_instruction(0, 'continue', start, durations[pulse]*ms - marker_cycles)\n",
    "    \n",
    "    pulse = 'read'\n",
    "    PulseBlaster.send_instruction(1,'continue',0, marker_cycles)\n",
    "    PulseBlaster.send_instruction(0, 'continue', 0, durations[pulse]*ms - marker_cycles)\n",
    "    \n",
    "    pulse = 'final_delay'\n",
    "    if durations[pulse] > 0:\n",
    "        PulseBlaster.send_instruction(0, 'continue', 0, durations[pulse]*ms)\n",
    "    PulseBlaster.send_instruction(1,'branch',start, marker_cycles)\n",
    "    \n",
    "    PulseBlaster.stop_programming()\n",
    "    \n",
    "def configure_ArbStudio(ArbStudio, voltages, channel_factors, marker_cycles=100):\n",
    "    stages = ['empty', 'load', 'read']\n",
    "    for ch in [1,2,3,4]:\n",
    "        eval('ArbStudio.ch{}_clear_waveforms()'.format(ch))\n",
    "    for ch in [1, 2, 3]:\n",
    "        eval(\"ArbStudio.ch{}_trigger_source('fp_trigger_in')\".format(ch))\n",
    "        eval(\"ArbStudio.ch{}_trigger_mode('stepped')\".format(ch))\n",
    "        eval('ArbStudio.ch{}_clear_waveforms()'.format(ch))\n",
    "        waveforms = channel_factors[ch-1] * np.array([[voltages[stage]]*4 for stage in stages])\n",
    "        for waveform in waveforms:\n",
    "            eval('ArbStudio.ch{}_add_waveform(waveform)'.format(ch))\n",
    "\n",
    "        eval('ArbStudio.ch{}_sequence([0, 1, 2])'.format(ch))\n",
    "    waveforms = ArbStudio.load_waveforms(channels=[1,2,3])\n",
    "    sequences = ArbStudio.load_sequence(channels=[1,2,3])\n",
    "    return waveforms, sequences\n",
    "\n",
    "def configure_ATS(ATS, trigger_level=100, trigger_slope='TRIG_SLOPE_NEGATIVE'):\n",
    "    ATS.config(trigger_source1='CHANNEL_C',\n",
    "           trigger_level1=trigger_level,\n",
    "           trigger_slope1=trigger_slope,\n",
    "           external_trigger_coupling='DC',\n",
    "           trigger_operation='TRIG_ENGINE_OP_J',\n",
    "           channel_range=2,\n",
    "           sample_rate=1e6,\n",
    "           coupling='DC')\n",
    "    \n",
    "def configure_ATS_controller(ATS_controller, durations, acquisition_stages=['empty', 'load', 'read'],\n",
    "                             samples=200, average_mode='none'):\n",
    "    read_length = sum([durations[stage] for stage in acquisition_stages])\n",
    "    sample_rate = ATS_controller._get_alazar_parameter('sample_rate')\n",
    "    samples_per_record = int(16 * round(float(sample_rate*read_length*1e-3)/16))\n",
    "    \n",
    "    total_duration = sum(durations.values())*1e-3\n",
    "    buffer_timeout = max(5000, 1.5*total_duration)\n",
    "    \n",
    "    ATS_controller.average_mode(average_mode)\n",
    "    ATS_controller.update_acquisition_kwargs(samples_per_record=samples_per_record,\n",
    "                                             records_per_buffer=1,\n",
    "                                             buffers_per_acquisition=samples,\n",
    "                                             buffer_timeout=buffer_timeout,\n",
    "                                             channel_selection='AC')"
   ]
  },
  {
   "cell_type": "code",
   "execution_count": 6,
   "metadata": {
    "code_folding": [],
    "collapsed": false
   },
   "outputs": [],
   "source": [
    "compensation_factor = -1.5\n",
    "channel_factors = [1, compensation_factor, 1]\n",
    "voltages = {'empty': -1.5, 'load': 1.5, 'read': 0}\n",
    "durations = {'empty': 5, 'load': 5, 'read': 20, 'final_delay': 1}\n",
    "\n",
    "elr_analysis.empty_duration(durations['empty'])\n",
    "elr_analysis.load_duration(durations['load'])\n",
    "elr_analysis.read_duration(durations['read'])\n",
    "\n",
    "configure_PulseBlaster(PulseBlaster, durations)\n",
    "configure_ArbStudio(ArbStudio, voltages, channel_factors)\n",
    "configure_ATS(ATS)\n",
    "configure_ATS_controller(ATS_controller, durations, samples=12)"
   ]
  },
  {
   "cell_type": "markdown",
   "metadata": {},
   "source": [
    "# T1 measurement"
   ]
  },
  {
   "cell_type": "code",
   "execution_count": 7,
   "metadata": {
    "collapsed": true
   },
   "outputs": [],
   "source": [
    "\n",
    "durations = {'empty': 5, 'load': 5, 'read': 20, 'final_delay': 1}\n",
    "configure_PulseBlaster(PulseBlaster, durations)\n",
    "configure_ATS(ATS, trigger_level=140, trigger_slope='TRIG_SLOPE_NEGATIVE')\n",
    "configure_ATS_controller(ATS_controller, durations, samples=12, \n",
    "                         acquisition_stages=['read'])"
   ]
  },
  {
   "cell_type": "code",
   "execution_count": 10,
   "metadata": {
    "collapsed": false
   },
   "outputs": [
    {
     "ename": "TypeError",
     "evalue": "*** error on Instruments ***\nwhile executing query: ('ASK', 'new', (<class 'meta_instruments.Analysis.BasicAnalysis'>, 2), {})\n\n(<bound method InstrumentServer.handle_new of <qcodes.instrument.server.InstrumentServer object at 0x0000000004A9B0F0>>, (<class 'meta_instruments.Analysis.BasicAnalysis'>, 2), {})\nTraceback (most recent call last):\n  File \"c:\\users\\lab.blug12meas\\documents\\qcodes\\qcodes\\process\\server.py\", line 347, in _process_ask\n    response = func(*args, **kwargs)\n  File \"c:\\users\\lab.blug12meas\\documents\\qcodes\\qcodes\\instrument\\server.py\", line 157, in handle_new\n    ins = instrument_class(*args, server_name=None, server=self, **kwargs)\nTypeError: __init__() missing 1 required positional argument: 'name'\n",
     "output_type": "error",
     "traceback": [
      "\u001b[1;31m---------------------------------------------------------------------------\u001b[0m",
      "\u001b[1;31mTypeError\u001b[0m                                 Traceback (most recent call last)",
      "\u001b[1;32m<ipython-input-10-bf67dfd8c980>\u001b[0m in \u001b[0;36m<module>\u001b[1;34m()\u001b[0m\n\u001b[0;32m      1\u001b[0m \u001b[1;32mfrom\u001b[0m \u001b[0mmeta_instruments\u001b[0m \u001b[1;32mimport\u001b[0m \u001b[0mHackInstrument\u001b[0m\u001b[1;33m\u001b[0m\u001b[0m\n\u001b[0;32m      2\u001b[0m \u001b[0mreload\u001b[0m\u001b[1;33m(\u001b[0m\u001b[0mHackInstrument\u001b[0m\u001b[1;33m)\u001b[0m\u001b[1;33m\u001b[0m\u001b[0m\n\u001b[1;32m----> 3\u001b[1;33m \u001b[0manalysis\u001b[0m \u001b[1;33m=\u001b[0m \u001b[0mAnalysis\u001b[0m\u001b[1;33m.\u001b[0m\u001b[0mBasicAnalysis\u001b[0m\u001b[1;33m(\u001b[0m\u001b[1;33m)\u001b[0m\u001b[1;33m\u001b[0m\u001b[0m\n\u001b[0m\u001b[0;32m      4\u001b[0m hack_instrument = HackInstrument(name='hack_T1', instruments={'PulseBlaster':PulseBlaster,\n\u001b[0;32m      5\u001b[0m                                                          \u001b[1;34m'analysis'\u001b[0m\u001b[1;33m:\u001b[0m \u001b[0manalysis\u001b[0m\u001b[1;33m,\u001b[0m\u001b[1;33m\u001b[0m\u001b[0m\n",
      "\u001b[1;32mc:\\users\\lab.blug12meas\\documents\\qcodes\\qcodes\\instrument\\base.py\u001b[0m in \u001b[0;36m__new__\u001b[1;34m(cls, server_name, *args, **kwargs)\u001b[0m\n\u001b[0;32m     80\u001b[0m         \u001b[1;32melse\u001b[0m\u001b[1;33m:\u001b[0m\u001b[1;33m\u001b[0m\u001b[0m\n\u001b[0;32m     81\u001b[0m             return RemoteInstrument(*args, instrument_class=cls,\n\u001b[1;32m---> 82\u001b[1;33m                                     server_name=server_name, **kwargs)\n\u001b[0m\u001b[0;32m     83\u001b[0m \u001b[1;33m\u001b[0m\u001b[0m\n\u001b[0;32m     84\u001b[0m     \u001b[1;32mdef\u001b[0m \u001b[0m__init__\u001b[0m\u001b[1;33m(\u001b[0m\u001b[0mself\u001b[0m\u001b[1;33m,\u001b[0m \u001b[0mname\u001b[0m\u001b[1;33m,\u001b[0m \u001b[0mserver_name\u001b[0m\u001b[1;33m=\u001b[0m\u001b[1;32mNone\u001b[0m\u001b[1;33m,\u001b[0m \u001b[0mserver\u001b[0m\u001b[1;33m=\u001b[0m\u001b[1;32mNone\u001b[0m\u001b[1;33m,\u001b[0m \u001b[1;33m**\u001b[0m\u001b[0mkwargs\u001b[0m\u001b[1;33m)\u001b[0m\u001b[1;33m:\u001b[0m\u001b[1;33m\u001b[0m\u001b[0m\n",
      "\u001b[1;32mc:\\users\\lab.blug12meas\\documents\\qcodes\\qcodes\\instrument\\remote.py\u001b[0m in \u001b[0;36m__init__\u001b[1;34m(self, instrument_class, server_name, *args, **kwargs)\u001b[0m\n\u001b[0;32m     64\u001b[0m \u001b[1;33m\u001b[0m\u001b[0m\n\u001b[0;32m     65\u001b[0m         \u001b[0minstrument_class\u001b[0m\u001b[1;33m.\u001b[0m\u001b[0mrecord_instance\u001b[0m\u001b[1;33m(\u001b[0m\u001b[0mself\u001b[0m\u001b[1;33m)\u001b[0m\u001b[1;33m\u001b[0m\u001b[0m\n\u001b[1;32m---> 66\u001b[1;33m         \u001b[0mself\u001b[0m\u001b[1;33m.\u001b[0m\u001b[0mconnect\u001b[0m\u001b[1;33m(\u001b[0m\u001b[1;33m)\u001b[0m\u001b[1;33m\u001b[0m\u001b[0m\n\u001b[0m\u001b[0;32m     67\u001b[0m \u001b[1;33m\u001b[0m\u001b[0m\n\u001b[0;32m     68\u001b[0m     \u001b[1;32mdef\u001b[0m \u001b[0mconnect\u001b[0m\u001b[1;33m(\u001b[0m\u001b[0mself\u001b[0m\u001b[1;33m)\u001b[0m\u001b[1;33m:\u001b[0m\u001b[1;33m\u001b[0m\u001b[0m\n",
      "\u001b[1;32mc:\\users\\lab.blug12meas\\documents\\qcodes\\qcodes\\instrument\\remote.py\u001b[0m in \u001b[0;36mconnect\u001b[1;34m(self)\u001b[0m\n\u001b[0;32m     73\u001b[0m         \u001b[1;31m# on the server.\u001b[0m\u001b[1;33m\u001b[0m\u001b[1;33m\u001b[0m\u001b[0m\n\u001b[0;32m     74\u001b[0m         connection_attrs = self._manager.connect(self, self._instrument_class,\n\u001b[1;32m---> 75\u001b[1;33m                                                  self._args, self._kwargs)\n\u001b[0m\u001b[0;32m     76\u001b[0m \u001b[1;33m\u001b[0m\u001b[0m\n\u001b[0;32m     77\u001b[0m         \u001b[0mself\u001b[0m\u001b[1;33m.\u001b[0m\u001b[0mname\u001b[0m \u001b[1;33m=\u001b[0m \u001b[0mconnection_attrs\u001b[0m\u001b[1;33m[\u001b[0m\u001b[1;34m'name'\u001b[0m\u001b[1;33m]\u001b[0m\u001b[1;33m\u001b[0m\u001b[0m\n",
      "\u001b[1;32mc:\\users\\lab.blug12meas\\documents\\qcodes\\qcodes\\instrument\\server.py\u001b[0m in \u001b[0;36mconnect\u001b[1;34m(self, remote_instrument, instrument_class, args, kwargs)\u001b[0m\n\u001b[0;32m     82\u001b[0m         \u001b[0mnew_id\u001b[0m \u001b[1;33m=\u001b[0m \u001b[0mself\u001b[0m\u001b[1;33m.\u001b[0m\u001b[0mask\u001b[0m\u001b[1;33m(\u001b[0m\u001b[1;34m'new_id'\u001b[0m\u001b[1;33m)\u001b[0m\u001b[1;33m\u001b[0m\u001b[0m\n\u001b[0;32m     83\u001b[0m         \u001b[1;32mtry\u001b[0m\u001b[1;33m:\u001b[0m\u001b[1;33m\u001b[0m\u001b[0m\n\u001b[1;32m---> 84\u001b[1;33m             \u001b[0minfo\u001b[0m \u001b[1;33m=\u001b[0m \u001b[0mself\u001b[0m\u001b[1;33m.\u001b[0m\u001b[0mask\u001b[0m\u001b[1;33m(\u001b[0m\u001b[1;34m'new'\u001b[0m\u001b[1;33m,\u001b[0m \u001b[0minstrument_class\u001b[0m\u001b[1;33m,\u001b[0m \u001b[0mnew_id\u001b[0m\u001b[1;33m,\u001b[0m \u001b[1;33m*\u001b[0m\u001b[0margs\u001b[0m\u001b[1;33m,\u001b[0m \u001b[1;33m**\u001b[0m\u001b[0mkwargs\u001b[0m\u001b[1;33m)\u001b[0m\u001b[1;33m\u001b[0m\u001b[0m\n\u001b[0m\u001b[0;32m     85\u001b[0m             \u001b[0mself\u001b[0m\u001b[1;33m.\u001b[0m\u001b[0minstruments\u001b[0m\u001b[1;33m[\u001b[0m\u001b[0mnew_id\u001b[0m\u001b[1;33m]\u001b[0m \u001b[1;33m=\u001b[0m \u001b[0mremote_instrument\u001b[0m\u001b[1;33m\u001b[0m\u001b[0m\n\u001b[0;32m     86\u001b[0m \u001b[1;33m\u001b[0m\u001b[0m\n",
      "\u001b[1;32mc:\\users\\lab.blug12meas\\documents\\qcodes\\qcodes\\process\\server.py\u001b[0m in \u001b[0;36mask\u001b[1;34m(self, func_name, timeout, *args, **kwargs)\u001b[0m\n\u001b[0;32m    126\u001b[0m             \u001b[0mself\u001b[0m\u001b[1;33m.\u001b[0m\u001b[0m_query_queue\u001b[0m\u001b[1;33m.\u001b[0m\u001b[0mput\u001b[0m\u001b[1;33m(\u001b[0m\u001b[0mquery\u001b[0m\u001b[1;33m)\u001b[0m\u001b[1;33m\u001b[0m\u001b[0m\n\u001b[0;32m    127\u001b[0m \u001b[1;33m\u001b[0m\u001b[0m\n\u001b[1;32m--> 128\u001b[1;33m             \u001b[0mvalue\u001b[0m \u001b[1;33m=\u001b[0m \u001b[0mself\u001b[0m\u001b[1;33m.\u001b[0m\u001b[0m_get_response\u001b[0m\u001b[1;33m(\u001b[0m\u001b[0mtimeout\u001b[0m\u001b[1;33m=\u001b[0m\u001b[0mtimeout\u001b[0m\u001b[1;33m,\u001b[0m \u001b[0mquery\u001b[0m\u001b[1;33m=\u001b[0m\u001b[0mquery\u001b[0m\u001b[1;33m)\u001b[0m\u001b[1;33m\u001b[0m\u001b[0m\n\u001b[0m\u001b[0;32m    129\u001b[0m \u001b[1;33m\u001b[0m\u001b[0m\n\u001b[0;32m    130\u001b[0m             \u001b[1;32mwhile\u001b[0m \u001b[1;32mnot\u001b[0m \u001b[0mself\u001b[0m\u001b[1;33m.\u001b[0m\u001b[0m_response_queue\u001b[0m\u001b[1;33m.\u001b[0m\u001b[0mempty\u001b[0m\u001b[1;33m(\u001b[0m\u001b[1;33m)\u001b[0m\u001b[1;33m:\u001b[0m\u001b[1;33m\u001b[0m\u001b[0m\n",
      "\u001b[1;32mc:\\users\\lab.blug12meas\\documents\\qcodes\\qcodes\\process\\server.py\u001b[0m in \u001b[0;36m_get_response\u001b[1;34m(self, timeout, query)\u001b[0m\n\u001b[0;32m    147\u001b[0m             \u001b[1;32mreturn\u001b[0m \u001b[0mvalue\u001b[0m\u001b[1;33m\u001b[0m\u001b[0m\n\u001b[0;32m    148\u001b[0m \u001b[1;33m\u001b[0m\u001b[0m\n\u001b[1;32m--> 149\u001b[1;33m         \u001b[0mself\u001b[0m\u001b[1;33m.\u001b[0m\u001b[0m_handle_error\u001b[0m\u001b[1;33m(\u001b[0m\u001b[0mcode\u001b[0m\u001b[1;33m,\u001b[0m \u001b[0mvalue\u001b[0m\u001b[1;33m,\u001b[0m \u001b[0mquery\u001b[0m\u001b[1;33m)\u001b[0m\u001b[1;33m\u001b[0m\u001b[0m\n\u001b[0m\u001b[0;32m    150\u001b[0m \u001b[1;33m\u001b[0m\u001b[0m\n\u001b[0;32m    151\u001b[0m     \u001b[1;32mdef\u001b[0m \u001b[0m_handle_error\u001b[0m\u001b[1;33m(\u001b[0m\u001b[0mself\u001b[0m\u001b[1;33m,\u001b[0m \u001b[0mcode\u001b[0m\u001b[1;33m,\u001b[0m \u001b[0merror_str\u001b[0m\u001b[1;33m,\u001b[0m \u001b[0mquery\u001b[0m\u001b[1;33m=\u001b[0m\u001b[1;32mNone\u001b[0m\u001b[1;33m)\u001b[0m\u001b[1;33m:\u001b[0m\u001b[1;33m\u001b[0m\u001b[0m\n",
      "\u001b[1;32mc:\\users\\lab.blug12meas\\documents\\qcodes\\qcodes\\process\\server.py\u001b[0m in \u001b[0;36m_handle_error\u001b[1;34m(self, code, error_str, query)\u001b[0m\n\u001b[0;32m    166\u001b[0m             \u001b[0merr_type\u001b[0m \u001b[1;33m=\u001b[0m \u001b[0mRuntimeError\u001b[0m\u001b[1;33m\u001b[0m\u001b[0m\n\u001b[0;32m    167\u001b[0m \u001b[1;33m\u001b[0m\u001b[0m\n\u001b[1;32m--> 168\u001b[1;33m         \u001b[1;32mraise\u001b[0m \u001b[0merr_type\u001b[0m\u001b[1;33m(\u001b[0m\u001b[0merror_head\u001b[0m \u001b[1;33m+\u001b[0m \u001b[1;34m'\\n\\n'\u001b[0m \u001b[1;33m+\u001b[0m \u001b[0merror_str\u001b[0m\u001b[1;33m)\u001b[0m\u001b[1;33m\u001b[0m\u001b[0m\n\u001b[0m\u001b[0;32m    169\u001b[0m \u001b[1;33m\u001b[0m\u001b[0m\n\u001b[0;32m    170\u001b[0m     \u001b[1;32mdef\u001b[0m \u001b[0mhalt\u001b[0m\u001b[1;33m(\u001b[0m\u001b[0mself\u001b[0m\u001b[1;33m,\u001b[0m \u001b[0mtimeout\u001b[0m\u001b[1;33m=\u001b[0m\u001b[1;36m2\u001b[0m\u001b[1;33m)\u001b[0m\u001b[1;33m:\u001b[0m\u001b[1;33m\u001b[0m\u001b[0m\n",
      "\u001b[1;31mTypeError\u001b[0m: *** error on Instruments ***\nwhile executing query: ('ASK', 'new', (<class 'meta_instruments.Analysis.BasicAnalysis'>, 2), {})\n\n(<bound method InstrumentServer.handle_new of <qcodes.instrument.server.InstrumentServer object at 0x0000000004A9B0F0>>, (<class 'meta_instruments.Analysis.BasicAnalysis'>, 2), {})\nTraceback (most recent call last):\n  File \"c:\\users\\lab.blug12meas\\documents\\qcodes\\qcodes\\process\\server.py\", line 347, in _process_ask\n    response = func(*args, **kwargs)\n  File \"c:\\users\\lab.blug12meas\\documents\\qcodes\\qcodes\\instrument\\server.py\", line 157, in handle_new\n    ins = instrument_class(*args, server_name=None, server=self, **kwargs)\nTypeError: __init__() missing 1 required positional argument: 'name'\n"
     ]
    }
   ],
   "source": [
    "from meta_instruments import HackInstrument\n",
    "reload(HackInstrument)\n",
    "analysis = Analysis.BasicAnalysis()\n",
    "hack_instrument = HackInstrument(name='hack_T1', instruments={'PulseBlaster':PulseBlaster,\n",
    "                                                         'analysis': analysis,\n",
    "                                                         'ArbStudio': ArbStudio})"
   ]
  },
  {
   "cell_type": "code",
   "execution_count": null,
   "metadata": {
    "collapsed": true
   },
   "outputs": [],
   "source": [
    "data = qc.Loop(T1_param[2:5:1], delay=0.001).each(\n",
    "    ATS_controller.acquisition\n",
    "    ).run(name='testsweep', progress_interval=True, background=False)"
   ]
  },
  {
   "cell_type": "code",
   "execution_count": 18,
   "metadata": {
    "collapsed": false
   },
   "outputs": [
    {
     "name": "stdout",
     "output_type": "stream",
     "text": [
      "Wall time: 427 ms\n",
      "2\n"
     ]
    }
   ],
   "source": [
    "ArbStudio.stop()\n",
    "ArbStudio.run(channels=[1,2,3])\n",
    "sleep(.1)\n",
    "\n",
    "PulseBlaster.start()\n",
    "\n",
    "%time records = ATS_controller.acquisition()\n",
    "ArbStudio.stop()\n",
    "PulseBlaster.stop()\n",
    "print(len(records))\n",
    "\n",
    "#fig, axes = plt.subplots(len(records[0]), len(records),sharex=True, sharey=True)\n",
    "#for k, records_ch in enumerate(records):\n",
    "#    for kk, record in enumerate(records_ch):\n",
    "#        axes[kk, k].plot(record)##"
   ]
  },
  {
   "cell_type": "code",
   "execution_count": 14,
   "metadata": {
    "collapsed": true
   },
   "outputs": [],
   "source": [
    "from qcodes import Parameter"
   ]
  },
  {
   "cell_type": "code",
   "execution_count": 31,
   "metadata": {
    "code_folding": [
     19
    ],
    "collapsed": false
   },
   "outputs": [],
   "source": [
    "class T1_Parameter(Parameter):\n",
    "    def __init__(self, name, PulseBlaster, ArbStudio, **kwargs):\n",
    "        super().__init__(name, **kwargs)\n",
    "        self.PulseBlaster = PulseBlaster\n",
    "        self.ArbStudio = ArbStudio\n",
    "        \n",
    "    def get(self):\n",
    "        return self._value\n",
    "    \n",
    "    def set(self, wait):\n",
    "        self.ArbStudio.stop()\n",
    "        self.PulseBlaster.stop()\n",
    "        \n",
    "        self.configure_PulseBlaster({'empty': 5, 'load': wait, 'read': 20, 'final_delay': 1})\n",
    "        \n",
    "        self.ArbStudio.run(channels=[1,2,3])\n",
    "        sleep(0.1)\n",
    "        self.PulseBlaster.start()\n",
    "    \n",
    "    def configure_PulseBlaster(self, durations, marker_cycles=100, sampling_rate=500):\n",
    "        # Factor of 2 needed because apparently the core clock is not the same as the sampling rate\n",
    "        ms = 2 * sampling_rate * 1e3\n",
    "\n",
    "        PulseBlaster.detect_boards()\n",
    "        PulseBlaster.select_board(0)\n",
    "        PulseBlaster.core_clock(sampling_rate)\n",
    "\n",
    "        PulseBlaster.start_programming()\n",
    "\n",
    "        pulse = 'empty'\n",
    "        PulseBlaster.send_instruction(0,'continue',0, marker_cycles)\n",
    "        start = PulseBlaster.send_instruction(0, 'continue', 0, durations[pulse]*ms - marker_cycles)\n",
    "\n",
    "        pulse = 'load'\n",
    "        PulseBlaster.send_instruction(1,'continue',0, marker_cycles)\n",
    "        PulseBlaster.send_instruction(0, 'continue', start, durations[pulse]*ms - marker_cycles)\n",
    "\n",
    "        pulse = 'read'\n",
    "        PulseBlaster.send_instruction(1,'continue',0, marker_cycles)\n",
    "        PulseBlaster.send_instruction(0, 'continue', 0, durations[pulse]*ms - marker_cycles)\n",
    "\n",
    "        pulse = 'final_delay'\n",
    "        if durations[pulse] > 0:\n",
    "            PulseBlaster.send_instruction(0, 'continue', 0, durations[pulse]*ms)\n",
    "        PulseBlaster.send_instruction(1,'branch',start, marker_cycles)\n",
    "\n",
    "        PulseBlaster.stop_programming()"
   ]
  },
  {
   "cell_type": "code",
   "execution_count": 32,
   "metadata": {
    "collapsed": false
   },
   "outputs": [],
   "source": [
    "T1_param = T1_Parameter(name='T1_wait', PulseBlaster=PulseBlaster, ArbStudio=ArbStudio)"
   ]
  },
  {
   "cell_type": "code",
   "execution_count": 37,
   "metadata": {
    "collapsed": false
   },
   "outputs": [
    {
     "name": "stdout",
     "output_type": "stream",
     "text": [
      "loop T1_wait: 0/3 (0.0 [s])\n",
      "loop T1_wait: 1/3 (1.3 [s])\n",
      "loop T1_wait: 2/3 (2.6 [s])\n",
      "loop T1_wait DONE: 3/3 (3.9 [s])\n",
      "DataSet:\n",
      "   mode     = DataMode.LOCAL\n",
      "   location = 'data/2016-08-23/#010_testsweep_10-32-18'\n",
      "   <Type>   | <array_id>                      | <array.name>     | <array.shape>\n",
      "   Setpoint | T1_wait_set                     | T1_wait          | (3,)\n",
      "   Measured | ATS_controller_Channel_A_signal | Channel_A_signal | (3,)\n",
      "   Measured | ATS_controller_Channel_C_signal | Channel_C_signal | (3,)\n",
      "started at 2016-08-23 10:32:22\n"
     ]
    }
   ],
   "source": [
    "data = qc.Loop(T1_param[2:5:1], delay=0.001).each(\n",
    "    ATS_controller.acquisition\n",
    "    ).run(name='testsweep', progress_interval=True, background=False)"
   ]
  },
  {
   "cell_type": "code",
   "execution_count": 34,
   "metadata": {
    "collapsed": false
   },
   "outputs": [
    {
     "data": {
      "text/plain": [
       "DataArray[3]: ATS_controller_Channel_A_signal\n",
       "array([ 0.08657772,  0.08288624,  0.09209026])"
      ]
     },
     "execution_count": 34,
     "metadata": {},
     "output_type": "execute_result"
    }
   ],
   "source": [
    "data.ATS_controller_Channel_A_signal"
   ]
  },
  {
   "cell_type": "code",
   "execution_count": 35,
   "metadata": {
    "collapsed": false
   },
   "outputs": [
    {
     "data": {
      "text/plain": [
       "DataArray[3]: ATS_controller_Channel_C_signal\n",
       "array([-0.00756376, -0.00747313, -0.00736179])"
      ]
     },
     "execution_count": 35,
     "metadata": {},
     "output_type": "execute_result"
    }
   ],
   "source": [
    "data.ATS_controller_Channel_C_signal"
   ]
  },
  {
   "cell_type": "markdown",
   "metadata": {},
   "source": []
  },
  {
   "cell_type": "code",
   "execution_count": null,
   "metadata": {
    "collapsed": true
   },
   "outputs": [],
   "source": []
  },
  {
   "cell_type": "markdown",
   "metadata": {},
   "source": [
    "# ELR measurement"
   ]
  },
  {
   "cell_type": "code",
   "execution_count": 9,
   "metadata": {
    "code_folding": [],
    "collapsed": false
   },
   "outputs": [
    {
     "name": "stdout",
     "output_type": "stream",
     "text": [
      "Wall time: 450 ms\n"
     ]
    },
    {
     "data": {
      "image/png": "[encoded data removed]",
      "text/plain": [
       "<matplotlib.figure.Figure at 0x9d8f9e8>"
      ]
     },
     "metadata": {},
     "output_type": "display_data"
    }
   ],
   "source": [
    "ArbStudio.stop()\n",
    "ArbStudio.run(channels=[1,2,3])\n",
    "sleep(.1)\n",
    "\n",
    "PulseBlaster.start()\n",
    "\n",
    "%time records = ATS_controller.acquisition()\n",
    "ArbStudio.stop()\n",
    "PulseBlaster.stop()\n",
    "\n",
    "fig, axes = plt.subplots(len(records[0]), len(records),sharex=True, sharey=True)\n",
    "for k, records_ch in enumerate(records):\n",
    "    for kk, record in enumerate(records_ch):\n",
    "        axes[kk, k].plot(record)"
   ]
  },
  {
   "cell_type": "code",
   "execution_count": 32,
   "metadata": {
    "code_folding": [],
    "collapsed": false,
    "scrolled": true
   },
   "outputs": [
    {
     "name": "stdout",
     "output_type": "stream",
     "text": [
      "Wall time: 465 ms\n",
      "(1.0, 0.91745416666666668, 0.66666666666666663)\n"
     ]
    },
    {
     "data": {
      "image/png": "[encoded data removed]",
      "text/plain": [
       "<matplotlib.figure.Figure at 0xb4b8278>"
      ]
     },
     "metadata": {},
     "output_type": "display_data"
    },
    {
     "data": {
      "image/png": "[encoded data removed]",
      "text/plain": [
       "<matplotlib.figure.Figure at 0xe5a84e0>"
      ]
     },
     "metadata": {},
     "output_type": "display_data"
    }
   ],
   "source": [
    "ArbStudio.stop()\n",
    "ArbStudio.run(channels=[1,2,3])\n",
    "sleep(.1)\n",
    "\n",
    "PulseBlaster.start()\n",
    "\n",
    "%time elr_analysis.fidelity()\n",
    "ArbStudio.stop()\n",
    "PulseBlaster.stop()\n",
    "\n",
    "print(elr_analysis.analyse_traces(elr_analysis.traces()[0]))\n",
    "plot_traces(elr_analysis.traces()[0],elr_analysis.traces()[1])"
   ]
  },
  {
   "cell_type": "code",
   "execution_count": 36,
   "metadata": {
    "collapsed": false
   },
   "outputs": [
    {
     "name": "stdout",
     "output_type": "stream",
     "text": [
      "DataSet:\n",
      "   mode     = DataMode.PULL_FROM_SERVER\n",
      "   location = 'data/2016-08-22/#096_testsweep_18-15-25'\n",
      "   <Type>   | <array_id>                  | <array.name>   | <array.shape>\n",
      "   Setpoint | SIM900_chan4_set            | chan4          | (56,)\n",
      "   Setpoint | SIM900_chan7_set            | chan7          | (56, 41)\n",
      "   Measured | ELR_analysis_load_fidelity  | load_fidelity  | (56, 41)\n",
      "   Measured | ELR_analysis_read_fidelity  | read_fidelity  | (56, 41)\n",
      "   Measured | ELR_analysis_empty_fidelity | empty_fidelity | (56, 41)\n",
      "started at 2016-08-22 18:15:26\n"
     ]
    }
   ],
   "source": [
    "ArbStudio.stop()\n",
    "ArbStudio.run(channels=[1,2,3])\n",
    "sleep(.1)\n",
    "PulseBlaster.start()\n",
    "\n",
    "data = qc.Loop(TGAC[1.645:1.701:0.001], delay=0.001).loop(DS[2.63:2.671:0.001]).each(\n",
    "    qc.Task(DF,DS),\n",
    "    elr_analysis.fidelity\n",
    "    ).run(name='testsweep', progress_interval=True)"
   ]
  },
  {
   "cell_type": "code",
   "execution_count": 37,
   "metadata": {
    "collapsed": false
   },
   "outputs": [
    {
     "name": "stdout",
     "output_type": "stream",
     "text": [
      "Request timed out: ('getObjAttr', 27691, 0, b'\\x80\\x03}q\\x00(X\\x03\\x00\\x00\\x00objq\\x01cpyqtgraph.multiprocess.remoteproxy\\nunpickleObjectProxy\\nq\\x02(M\\xcc\\x17Mm\\x01XX\\x00\\x00\\x00<pyqtgraph.graphicsItems.HistogramLUTItem.HistogramLUTItem object at 0x0000000005347F78>q\\x03)tq\\x04Rq\\x05X\\n\\x00\\x00\\x00returnTypeq\\x06X\\x04\\x00\\x00\\x00autoq\\x07X\\x04\\x00\\x00\\x00attrq\\x08X\\t\\x00\\x00\\x00getLevelsq\\tu.')\n"
     ]
    },
    {
     "name": "stderr",
     "output_type": "stream",
     "text": [
      "  File \"C:\\Users\\lab.BluG12Meas\\Anaconda3\\lib\\runpy.py\", line 184, in _run_module_as_main\n",
      "    \"__main__\", mod_spec)\n",
      "  File \"C:\\Users\\lab.BluG12Meas\\Anaconda3\\lib\\runpy.py\", line 85, in _run_code\n",
      "    exec(code, run_globals)\n",
      "  File \"C:\\Users\\lab.BluG12Meas\\Anaconda3\\lib\\site-packages\\ipykernel\\__main__.py\", line 3, in <module>\n",
      "    app.launch_new_instance()\n",
      "  File \"C:\\Users\\lab.BluG12Meas\\Anaconda3\\lib\\site-packages\\traitlets\\config\\application.py\", line 596, in launch_instance\n",
      "    app.start()\n",
      "  File \"C:\\Users\\lab.BluG12Meas\\Anaconda3\\lib\\site-packages\\ipykernel\\kernelapp.py\", line 442, in start\n",
      "    ioloop.IOLoop.instance().start()\n",
      "  File \"C:\\Users\\lab.BluG12Meas\\Anaconda3\\lib\\site-packages\\zmq\\eventloop\\ioloop.py\", line 162, in start\n",
      "    super(ZMQIOLoop, self).start()\n",
      "  File \"C:\\Users\\lab.BluG12Meas\\Anaconda3\\lib\\site-packages\\tornado\\ioloop.py\", line 883, in start\n",
      "    handler_func(fd_obj, events)\n",
      "  File \"C:\\Users\\lab.BluG12Meas\\Anaconda3\\lib\\site-packages\\tornado\\stack_context.py\", line 275, in null_wrapper\n",
      "    return fn(*args, **kwargs)\n",
      "  File \"C:\\Users\\lab.BluG12Meas\\Anaconda3\\lib\\site-packages\\zmq\\eventloop\\zmqstream.py\", line 440, in _handle_events\n",
      "    self._handle_recv()\n",
      "  File \"C:\\Users\\lab.BluG12Meas\\Anaconda3\\lib\\site-packages\\zmq\\eventloop\\zmqstream.py\", line 472, in _handle_recv\n",
      "    self._run_callback(callback, msg)\n",
      "  File \"C:\\Users\\lab.BluG12Meas\\Anaconda3\\lib\\site-packages\\zmq\\eventloop\\zmqstream.py\", line 414, in _run_callback\n",
      "    callback(*args, **kwargs)\n",
      "  File \"C:\\Users\\lab.BluG12Meas\\Anaconda3\\lib\\site-packages\\tornado\\stack_context.py\", line 275, in null_wrapper\n",
      "    return fn(*args, **kwargs)\n",
      "  File \"C:\\Users\\lab.BluG12Meas\\Anaconda3\\lib\\site-packages\\ipykernel\\kernelbase.py\", line 276, in dispatcher\n",
      "    return self.dispatch_shell(stream, msg)\n",
      "  File \"C:\\Users\\lab.BluG12Meas\\Anaconda3\\lib\\site-packages\\ipykernel\\kernelbase.py\", line 228, in dispatch_shell\n",
      "    handler(stream, idents, msg)\n",
      "  File \"C:\\Users\\lab.BluG12Meas\\Anaconda3\\lib\\site-packages\\ipykernel\\comm\\manager.py\", line 137, in comm_msg\n",
      "    comm.handle_msg(msg)\n",
      "  File \"C:\\Users\\lab.BluG12Meas\\Anaconda3\\lib\\site-packages\\ipykernel\\comm\\comm.py\", line 164, in handle_msg\n",
      "    self._msg_callback(msg)\n",
      "  File \"C:\\Users\\lab.BluG12Meas\\Anaconda3\\lib\\site-packages\\ipywidgets\\widgets\\widget.py\", line 88, in m\n",
      "    return(method(self, *args, **kwargs))\n",
      "  File \"C:\\Users\\lab.BluG12Meas\\Anaconda3\\lib\\site-packages\\ipywidgets\\widgets\\widget.py\", line 403, in _handle_msg\n",
      "    self._handle_custom_msg(data['content'], msg['buffers'])\n",
      "  File \"C:\\Users\\lab.BluG12Meas\\Anaconda3\\lib\\site-packages\\ipywidgets\\widgets\\widget.py\", line 411, in _handle_custom_msg\n",
      "    self._msg_callbacks(self, content, buffers)\n",
      "  File \"C:\\Users\\lab.BluG12Meas\\Anaconda3\\lib\\site-packages\\ipywidgets\\widgets\\widget.py\", line 57, in __call__\n",
      "    local_value = callback(*args, **kwargs)\n",
      "  File \"c:\\users\\lab.blug12meas\\documents\\qcodes\\qcodes\\widgets\\widgets.py\", line 60, in do_update\n",
      "    self._message = str(self._fn())\n",
      "  File \"c:\\users\\lab.blug12meas\\documents\\qcodes\\qcodes\\plots\\base.py\", line 261, in update\n",
      "    self.update_plot()\n",
      "  File \"c:\\users\\lab.blug12meas\\documents\\qcodes\\qcodes\\plots\\pyqtgraph.py\", line 362, in update_plot\n",
      "    self._update_image(plot_object, config)\n",
      "  File \"c:\\users\\lab.blug12meas\\documents\\qcodes\\qcodes\\plots\\pyqtgraph.py\", line 201, in _update_image\n",
      "    hist_range = hist.getLevels()\n",
      "  File \"C:\\Users\\lab.BluG12Meas\\Anaconda3\\lib\\site-packages\\pyqtgraph\\multiprocess\\remoteproxy.py\", line 888, in __getattr__\n",
      "    return self._handler.getObjAttr(self, attr, **opts)\n",
      "  File \"C:\\Users\\lab.BluG12Meas\\Anaconda3\\lib\\site-packages\\pyqtgraph\\multiprocess\\remoteproxy.py\", line 527, in getObjAttr\n",
      "    return self.send(request='getObjAttr', opts=dict(obj=obj, attr=attr), **kwds)\n",
      "  File \"C:\\Users\\lab.BluG12Meas\\Anaconda3\\lib\\site-packages\\pyqtgraph\\multiprocess\\remoteproxy.py\", line 465, in send\n",
      "    return req.result()\n",
      "  File \"C:\\Users\\lab.BluG12Meas\\Anaconda3\\lib\\site-packages\\pyqtgraph\\multiprocess\\remoteproxy.py\", line 638, in result\n",
      "    traceback.print_stack()\n"
     ]
    },
    {
     "ename": "TypeError",
     "evalue": "'Request' object is not callable",
     "output_type": "error",
     "traceback": [
      "\u001b[1;31m---------------------------------------------------------------------------\u001b[0m",
      "\u001b[1;31mTypeError\u001b[0m                                 Traceback (most recent call last)",
      "\u001b[1;32mc:\\users\\lab.blug12meas\\documents\\qcodes\\qcodes\\widgets\\widgets.py\u001b[0m in \u001b[0;36mdo_update\u001b[1;34m(self, content, buffers)\u001b[0m\n\u001b[0;32m     58\u001b[0m             \u001b[0mbuffers\u001b[0m\u001b[1;33m:\u001b[0m \u001b[0mrequired\u001b[0m \u001b[0mby\u001b[0m \u001b[0mDOMWidget\u001b[0m\u001b[1;33m,\u001b[0m \u001b[0munused\u001b[0m\u001b[1;33m\u001b[0m\u001b[0m\n\u001b[0;32m     59\u001b[0m         \"\"\"\n\u001b[1;32m---> 60\u001b[1;33m         \u001b[0mself\u001b[0m\u001b[1;33m.\u001b[0m\u001b[0m_message\u001b[0m \u001b[1;33m=\u001b[0m \u001b[0mstr\u001b[0m\u001b[1;33m(\u001b[0m\u001b[0mself\u001b[0m\u001b[1;33m.\u001b[0m\u001b[0m_fn\u001b[0m\u001b[1;33m(\u001b[0m\u001b[1;33m)\u001b[0m\u001b[1;33m)\u001b[0m\u001b[1;33m\u001b[0m\u001b[0m\n\u001b[0m\u001b[0;32m     61\u001b[0m \u001b[1;33m\u001b[0m\u001b[0m\n\u001b[0;32m     62\u001b[0m     \u001b[1;32mdef\u001b[0m \u001b[0mhalt\u001b[0m\u001b[1;33m(\u001b[0m\u001b[0mself\u001b[0m\u001b[1;33m)\u001b[0m\u001b[1;33m:\u001b[0m\u001b[1;33m\u001b[0m\u001b[0m\n",
      "\u001b[1;32mc:\\users\\lab.blug12meas\\documents\\qcodes\\qcodes\\plots\\base.py\u001b[0m in \u001b[0;36mupdate\u001b[1;34m(self)\u001b[0m\n\u001b[0;32m    259\u001b[0m                 \u001b[0many_updates\u001b[0m \u001b[1;33m=\u001b[0m \u001b[1;32mTrue\u001b[0m\u001b[1;33m\u001b[0m\u001b[0m\n\u001b[0;32m    260\u001b[0m \u001b[1;33m\u001b[0m\u001b[0m\n\u001b[1;32m--> 261\u001b[1;33m         \u001b[0mself\u001b[0m\u001b[1;33m.\u001b[0m\u001b[0mupdate_plot\u001b[0m\u001b[1;33m(\u001b[0m\u001b[1;33m)\u001b[0m\u001b[1;33m\u001b[0m\u001b[0m\n\u001b[0m\u001b[0;32m    262\u001b[0m \u001b[1;33m\u001b[0m\u001b[0m\n\u001b[0;32m    263\u001b[0m         \u001b[1;31m# once all updaters report they're finished (by returning exactly\u001b[0m\u001b[1;33m\u001b[0m\u001b[1;33m\u001b[0m\u001b[0m\n",
      "\u001b[1;32mc:\\users\\lab.blug12meas\\documents\\qcodes\\qcodes\\plots\\pyqtgraph.py\u001b[0m in \u001b[0;36mupdate_plot\u001b[1;34m(self)\u001b[0m\n\u001b[0;32m    360\u001b[0m             \u001b[0mplot_object\u001b[0m \u001b[1;33m=\u001b[0m \u001b[0mtrace\u001b[0m\u001b[1;33m[\u001b[0m\u001b[1;34m'plot_object'\u001b[0m\u001b[1;33m]\u001b[0m\u001b[1;33m\u001b[0m\u001b[0m\n\u001b[0;32m    361\u001b[0m             \u001b[1;32mif\u001b[0m \u001b[1;34m'z'\u001b[0m \u001b[1;32min\u001b[0m \u001b[0mconfig\u001b[0m\u001b[1;33m:\u001b[0m\u001b[1;33m\u001b[0m\u001b[0m\n\u001b[1;32m--> 362\u001b[1;33m                 \u001b[0mself\u001b[0m\u001b[1;33m.\u001b[0m\u001b[0m_update_image\u001b[0m\u001b[1;33m(\u001b[0m\u001b[0mplot_object\u001b[0m\u001b[1;33m,\u001b[0m \u001b[0mconfig\u001b[0m\u001b[1;33m)\u001b[0m\u001b[1;33m\u001b[0m\u001b[0m\n\u001b[0m\u001b[0;32m    363\u001b[0m             \u001b[1;32melse\u001b[0m\u001b[1;33m:\u001b[0m\u001b[1;33m\u001b[0m\u001b[0m\n\u001b[0;32m    364\u001b[0m                 \u001b[0mplot_object\u001b[0m\u001b[1;33m.\u001b[0m\u001b[0msetData\u001b[0m\u001b[1;33m(\u001b[0m\u001b[1;33m*\u001b[0m\u001b[0mself\u001b[0m\u001b[1;33m.\u001b[0m\u001b[0m_line_data\u001b[0m\u001b[1;33m(\u001b[0m\u001b[0mconfig\u001b[0m\u001b[1;33m[\u001b[0m\u001b[1;34m'x'\u001b[0m\u001b[1;33m]\u001b[0m\u001b[1;33m,\u001b[0m \u001b[0mconfig\u001b[0m\u001b[1;33m[\u001b[0m\u001b[1;34m'y'\u001b[0m\u001b[1;33m]\u001b[0m\u001b[1;33m)\u001b[0m\u001b[1;33m)\u001b[0m\u001b[1;33m\u001b[0m\u001b[0m\n",
      "\u001b[1;32mc:\\users\\lab.blug12meas\\documents\\qcodes\\qcodes\\plots\\pyqtgraph.py\u001b[0m in \u001b[0;36m_update_image\u001b[1;34m(self, plot_object, config)\u001b[0m\n\u001b[0;32m    199\u001b[0m         \u001b[0mz\u001b[0m\u001b[1;33m[\u001b[0m\u001b[0mnp\u001b[0m\u001b[1;33m.\u001b[0m\u001b[0mwhere\u001b[0m\u001b[1;33m(\u001b[0m\u001b[0mnp\u001b[0m\u001b[1;33m.\u001b[0m\u001b[0misnan\u001b[0m\u001b[1;33m(\u001b[0m\u001b[0mz\u001b[0m\u001b[1;33m)\u001b[0m\u001b[1;33m)\u001b[0m\u001b[1;33m]\u001b[0m \u001b[1;33m=\u001b[0m \u001b[0mz_range\u001b[0m\u001b[1;33m[\u001b[0m\u001b[1;36m0\u001b[0m\u001b[1;33m]\u001b[0m\u001b[1;33m\u001b[0m\u001b[0m\n\u001b[0;32m    200\u001b[0m \u001b[1;33m\u001b[0m\u001b[0m\n\u001b[1;32m--> 201\u001b[1;33m         \u001b[0mhist_range\u001b[0m \u001b[1;33m=\u001b[0m \u001b[0mhist\u001b[0m\u001b[1;33m.\u001b[0m\u001b[0mgetLevels\u001b[0m\u001b[1;33m(\u001b[0m\u001b[1;33m)\u001b[0m\u001b[1;33m\u001b[0m\u001b[0m\n\u001b[0m\u001b[0;32m    202\u001b[0m         \u001b[1;32mif\u001b[0m \u001b[0mhist_range\u001b[0m \u001b[1;33m==\u001b[0m \u001b[0mplot_object\u001b[0m\u001b[1;33m[\u001b[0m\u001b[1;34m'histlevels'\u001b[0m\u001b[1;33m]\u001b[0m\u001b[1;33m:\u001b[0m\u001b[1;33m\u001b[0m\u001b[0m\n\u001b[0;32m    203\u001b[0m             \u001b[0mplot_object\u001b[0m\u001b[1;33m[\u001b[0m\u001b[1;34m'histlevels'\u001b[0m\u001b[1;33m]\u001b[0m \u001b[1;33m=\u001b[0m \u001b[0mz_range\u001b[0m\u001b[1;33m\u001b[0m\u001b[0m\n",
      "\u001b[1;31mTypeError\u001b[0m: 'Request' object is not callable"
     ]
    },
    {
     "name": "stdout",
     "output_type": "stream",
     "text": [
      "Request timed out: ('getObjAttr', 253406, 0, b'\\x80\\x03}q\\x00(X\\x03\\x00\\x00\\x00objq\\x01cpyqtgraph.multiprocess.remoteproxy\\nunpickleObjectProxy\\nq\\x02(M\\xcc\\x17M\\xb5\\x01XX\\x00\\x00\\x00<pyqtgraph.graphicsItems.HistogramLUTItem.HistogramLUTItem object at 0x000000000537CF78>q\\x03)tq\\x04Rq\\x05X\\n\\x00\\x00\\x00returnTypeq\\x06X\\x04\\x00\\x00\\x00autoq\\x07X\\x04\\x00\\x00\\x00attrq\\x08X\\t\\x00\\x00\\x00getLevelsq\\tu.')\n"
     ]
    },
    {
     "name": "stderr",
     "output_type": "stream",
     "text": [
      "  File \"C:\\Users\\lab.BluG12Meas\\Anaconda3\\lib\\runpy.py\", line 184, in _run_module_as_main\n",
      "    \"__main__\", mod_spec)\n",
      "  File \"C:\\Users\\lab.BluG12Meas\\Anaconda3\\lib\\runpy.py\", line 85, in _run_code\n",
      "    exec(code, run_globals)\n",
      "  File \"C:\\Users\\lab.BluG12Meas\\Anaconda3\\lib\\site-packages\\ipykernel\\__main__.py\", line 3, in <module>\n",
      "    app.launch_new_instance()\n",
      "  File \"C:\\Users\\lab.BluG12Meas\\Anaconda3\\lib\\site-packages\\traitlets\\config\\application.py\", line 596, in launch_instance\n",
      "    app.start()\n",
      "  File \"C:\\Users\\lab.BluG12Meas\\Anaconda3\\lib\\site-packages\\ipykernel\\kernelapp.py\", line 442, in start\n",
      "    ioloop.IOLoop.instance().start()\n",
      "  File \"C:\\Users\\lab.BluG12Meas\\Anaconda3\\lib\\site-packages\\zmq\\eventloop\\ioloop.py\", line 162, in start\n",
      "    super(ZMQIOLoop, self).start()\n",
      "  File \"C:\\Users\\lab.BluG12Meas\\Anaconda3\\lib\\site-packages\\tornado\\ioloop.py\", line 883, in start\n",
      "    handler_func(fd_obj, events)\n",
      "  File \"C:\\Users\\lab.BluG12Meas\\Anaconda3\\lib\\site-packages\\tornado\\stack_context.py\", line 275, in null_wrapper\n",
      "    return fn(*args, **kwargs)\n",
      "  File \"C:\\Users\\lab.BluG12Meas\\Anaconda3\\lib\\site-packages\\zmq\\eventloop\\zmqstream.py\", line 440, in _handle_events\n",
      "    self._handle_recv()\n",
      "  File \"C:\\Users\\lab.BluG12Meas\\Anaconda3\\lib\\site-packages\\zmq\\eventloop\\zmqstream.py\", line 472, in _handle_recv\n",
      "    self._run_callback(callback, msg)\n",
      "  File \"C:\\Users\\lab.BluG12Meas\\Anaconda3\\lib\\site-packages\\zmq\\eventloop\\zmqstream.py\", line 414, in _run_callback\n",
      "    callback(*args, **kwargs)\n",
      "  File \"C:\\Users\\lab.BluG12Meas\\Anaconda3\\lib\\site-packages\\tornado\\stack_context.py\", line 275, in null_wrapper\n",
      "    return fn(*args, **kwargs)\n",
      "  File \"C:\\Users\\lab.BluG12Meas\\Anaconda3\\lib\\site-packages\\ipykernel\\kernelbase.py\", line 276, in dispatcher\n",
      "    return self.dispatch_shell(stream, msg)\n",
      "  File \"C:\\Users\\lab.BluG12Meas\\Anaconda3\\lib\\site-packages\\ipykernel\\kernelbase.py\", line 228, in dispatch_shell\n",
      "    handler(stream, idents, msg)\n",
      "  File \"C:\\Users\\lab.BluG12Meas\\Anaconda3\\lib\\site-packages\\ipykernel\\comm\\manager.py\", line 137, in comm_msg\n",
      "    comm.handle_msg(msg)\n",
      "  File \"C:\\Users\\lab.BluG12Meas\\Anaconda3\\lib\\site-packages\\ipykernel\\comm\\comm.py\", line 164, in handle_msg\n",
      "    self._msg_callback(msg)\n",
      "  File \"C:\\Users\\lab.BluG12Meas\\Anaconda3\\lib\\site-packages\\ipywidgets\\widgets\\widget.py\", line 88, in m\n",
      "    return(method(self, *args, **kwargs))\n",
      "  File \"C:\\Users\\lab.BluG12Meas\\Anaconda3\\lib\\site-packages\\ipywidgets\\widgets\\widget.py\", line 403, in _handle_msg\n",
      "    self._handle_custom_msg(data['content'], msg['buffers'])\n",
      "  File \"C:\\Users\\lab.BluG12Meas\\Anaconda3\\lib\\site-packages\\ipywidgets\\widgets\\widget.py\", line 411, in _handle_custom_msg\n",
      "    self._msg_callbacks(self, content, buffers)\n",
      "  File \"C:\\Users\\lab.BluG12Meas\\Anaconda3\\lib\\site-packages\\ipywidgets\\widgets\\widget.py\", line 57, in __call__\n",
      "    local_value = callback(*args, **kwargs)\n",
      "  File \"c:\\users\\lab.blug12meas\\documents\\qcodes\\qcodes\\widgets\\widgets.py\", line 60, in do_update\n",
      "    self._message = str(self._fn())\n",
      "  File \"c:\\users\\lab.blug12meas\\documents\\qcodes\\qcodes\\plots\\base.py\", line 261, in update\n",
      "    self.update_plot()\n",
      "  File \"c:\\users\\lab.blug12meas\\documents\\qcodes\\qcodes\\plots\\pyqtgraph.py\", line 362, in update_plot\n",
      "    self._update_image(plot_object, config)\n",
      "  File \"c:\\users\\lab.blug12meas\\documents\\qcodes\\qcodes\\plots\\pyqtgraph.py\", line 201, in _update_image\n",
      "    hist_range = hist.getLevels()\n",
      "  File \"C:\\Users\\lab.BluG12Meas\\Anaconda3\\lib\\site-packages\\pyqtgraph\\multiprocess\\remoteproxy.py\", line 888, in __getattr__\n",
      "    return self._handler.getObjAttr(self, attr, **opts)\n",
      "  File \"C:\\Users\\lab.BluG12Meas\\Anaconda3\\lib\\site-packages\\pyqtgraph\\multiprocess\\remoteproxy.py\", line 527, in getObjAttr\n",
      "    return self.send(request='getObjAttr', opts=dict(obj=obj, attr=attr), **kwds)\n",
      "  File \"C:\\Users\\lab.BluG12Meas\\Anaconda3\\lib\\site-packages\\pyqtgraph\\multiprocess\\remoteproxy.py\", line 465, in send\n",
      "    return req.result()\n",
      "  File \"C:\\Users\\lab.BluG12Meas\\Anaconda3\\lib\\site-packages\\pyqtgraph\\multiprocess\\remoteproxy.py\", line 638, in result\n",
      "    traceback.print_stack()\n"
     ]
    },
    {
     "ename": "TypeError",
     "evalue": "'Request' object is not callable",
     "output_type": "error",
     "traceback": [
      "\u001b[1;31m---------------------------------------------------------------------------\u001b[0m",
      "\u001b[1;31mTypeError\u001b[0m                                 Traceback (most recent call last)",
      "\u001b[1;32mc:\\users\\lab.blug12meas\\documents\\qcodes\\qcodes\\widgets\\widgets.py\u001b[0m in \u001b[0;36mdo_update\u001b[1;34m(self, content, buffers)\u001b[0m\n\u001b[0;32m     58\u001b[0m             \u001b[0mbuffers\u001b[0m\u001b[1;33m:\u001b[0m \u001b[0mrequired\u001b[0m \u001b[0mby\u001b[0m \u001b[0mDOMWidget\u001b[0m\u001b[1;33m,\u001b[0m \u001b[0munused\u001b[0m\u001b[1;33m\u001b[0m\u001b[0m\n\u001b[0;32m     59\u001b[0m         \"\"\"\n\u001b[1;32m---> 60\u001b[1;33m         \u001b[0mself\u001b[0m\u001b[1;33m.\u001b[0m\u001b[0m_message\u001b[0m \u001b[1;33m=\u001b[0m \u001b[0mstr\u001b[0m\u001b[1;33m(\u001b[0m\u001b[0mself\u001b[0m\u001b[1;33m.\u001b[0m\u001b[0m_fn\u001b[0m\u001b[1;33m(\u001b[0m\u001b[1;33m)\u001b[0m\u001b[1;33m)\u001b[0m\u001b[1;33m\u001b[0m\u001b[0m\n\u001b[0m\u001b[0;32m     61\u001b[0m \u001b[1;33m\u001b[0m\u001b[0m\n\u001b[0;32m     62\u001b[0m     \u001b[1;32mdef\u001b[0m \u001b[0mhalt\u001b[0m\u001b[1;33m(\u001b[0m\u001b[0mself\u001b[0m\u001b[1;33m)\u001b[0m\u001b[1;33m:\u001b[0m\u001b[1;33m\u001b[0m\u001b[0m\n",
      "\u001b[1;32mc:\\users\\lab.blug12meas\\documents\\qcodes\\qcodes\\plots\\base.py\u001b[0m in \u001b[0;36mupdate\u001b[1;34m(self)\u001b[0m\n\u001b[0;32m    259\u001b[0m                 \u001b[0many_updates\u001b[0m \u001b[1;33m=\u001b[0m \u001b[1;32mTrue\u001b[0m\u001b[1;33m\u001b[0m\u001b[0m\n\u001b[0;32m    260\u001b[0m \u001b[1;33m\u001b[0m\u001b[0m\n\u001b[1;32m--> 261\u001b[1;33m         \u001b[0mself\u001b[0m\u001b[1;33m.\u001b[0m\u001b[0mupdate_plot\u001b[0m\u001b[1;33m(\u001b[0m\u001b[1;33m)\u001b[0m\u001b[1;33m\u001b[0m\u001b[0m\n\u001b[0m\u001b[0;32m    262\u001b[0m \u001b[1;33m\u001b[0m\u001b[0m\n\u001b[0;32m    263\u001b[0m         \u001b[1;31m# once all updaters report they're finished (by returning exactly\u001b[0m\u001b[1;33m\u001b[0m\u001b[1;33m\u001b[0m\u001b[0m\n",
      "\u001b[1;32mc:\\users\\lab.blug12meas\\documents\\qcodes\\qcodes\\plots\\pyqtgraph.py\u001b[0m in \u001b[0;36mupdate_plot\u001b[1;34m(self)\u001b[0m\n\u001b[0;32m    360\u001b[0m             \u001b[0mplot_object\u001b[0m \u001b[1;33m=\u001b[0m \u001b[0mtrace\u001b[0m\u001b[1;33m[\u001b[0m\u001b[1;34m'plot_object'\u001b[0m\u001b[1;33m]\u001b[0m\u001b[1;33m\u001b[0m\u001b[0m\n\u001b[0;32m    361\u001b[0m             \u001b[1;32mif\u001b[0m \u001b[1;34m'z'\u001b[0m \u001b[1;32min\u001b[0m \u001b[0mconfig\u001b[0m\u001b[1;33m:\u001b[0m\u001b[1;33m\u001b[0m\u001b[0m\n\u001b[1;32m--> 362\u001b[1;33m                 \u001b[0mself\u001b[0m\u001b[1;33m.\u001b[0m\u001b[0m_update_image\u001b[0m\u001b[1;33m(\u001b[0m\u001b[0mplot_object\u001b[0m\u001b[1;33m,\u001b[0m \u001b[0mconfig\u001b[0m\u001b[1;33m)\u001b[0m\u001b[1;33m\u001b[0m\u001b[0m\n\u001b[0m\u001b[0;32m    363\u001b[0m             \u001b[1;32melse\u001b[0m\u001b[1;33m:\u001b[0m\u001b[1;33m\u001b[0m\u001b[0m\n\u001b[0;32m    364\u001b[0m                 \u001b[0mplot_object\u001b[0m\u001b[1;33m.\u001b[0m\u001b[0msetData\u001b[0m\u001b[1;33m(\u001b[0m\u001b[1;33m*\u001b[0m\u001b[0mself\u001b[0m\u001b[1;33m.\u001b[0m\u001b[0m_line_data\u001b[0m\u001b[1;33m(\u001b[0m\u001b[0mconfig\u001b[0m\u001b[1;33m[\u001b[0m\u001b[1;34m'x'\u001b[0m\u001b[1;33m]\u001b[0m\u001b[1;33m,\u001b[0m \u001b[0mconfig\u001b[0m\u001b[1;33m[\u001b[0m\u001b[1;34m'y'\u001b[0m\u001b[1;33m]\u001b[0m\u001b[1;33m)\u001b[0m\u001b[1;33m)\u001b[0m\u001b[1;33m\u001b[0m\u001b[0m\n",
      "\u001b[1;32mc:\\users\\lab.blug12meas\\documents\\qcodes\\qcodes\\plots\\pyqtgraph.py\u001b[0m in \u001b[0;36m_update_image\u001b[1;34m(self, plot_object, config)\u001b[0m\n\u001b[0;32m    199\u001b[0m         \u001b[0mz\u001b[0m\u001b[1;33m[\u001b[0m\u001b[0mnp\u001b[0m\u001b[1;33m.\u001b[0m\u001b[0mwhere\u001b[0m\u001b[1;33m(\u001b[0m\u001b[0mnp\u001b[0m\u001b[1;33m.\u001b[0m\u001b[0misnan\u001b[0m\u001b[1;33m(\u001b[0m\u001b[0mz\u001b[0m\u001b[1;33m)\u001b[0m\u001b[1;33m)\u001b[0m\u001b[1;33m]\u001b[0m \u001b[1;33m=\u001b[0m \u001b[0mz_range\u001b[0m\u001b[1;33m[\u001b[0m\u001b[1;36m0\u001b[0m\u001b[1;33m]\u001b[0m\u001b[1;33m\u001b[0m\u001b[0m\n\u001b[0;32m    200\u001b[0m \u001b[1;33m\u001b[0m\u001b[0m\n\u001b[1;32m--> 201\u001b[1;33m         \u001b[0mhist_range\u001b[0m \u001b[1;33m=\u001b[0m \u001b[0mhist\u001b[0m\u001b[1;33m.\u001b[0m\u001b[0mgetLevels\u001b[0m\u001b[1;33m(\u001b[0m\u001b[1;33m)\u001b[0m\u001b[1;33m\u001b[0m\u001b[0m\n\u001b[0m\u001b[0;32m    202\u001b[0m         \u001b[1;32mif\u001b[0m \u001b[0mhist_range\u001b[0m \u001b[1;33m==\u001b[0m \u001b[0mplot_object\u001b[0m\u001b[1;33m[\u001b[0m\u001b[1;34m'histlevels'\u001b[0m\u001b[1;33m]\u001b[0m\u001b[1;33m:\u001b[0m\u001b[1;33m\u001b[0m\u001b[0m\n\u001b[0;32m    203\u001b[0m             \u001b[0mplot_object\u001b[0m\u001b[1;33m[\u001b[0m\u001b[1;34m'histlevels'\u001b[0m\u001b[1;33m]\u001b[0m \u001b[1;33m=\u001b[0m \u001b[0mz_range\u001b[0m\u001b[1;33m\u001b[0m\u001b[0m\n",
      "\u001b[1;31mTypeError\u001b[0m: 'Request' object is not callable"
     ]
    }
   ],
   "source": [
    "plotQ = qc.QtPlot()\n",
    "plotQ.add(data.ELR_analysis_load_fidelity)\n",
    "\n",
    "plotQ = qc.QtPlot()\n",
    "plotQ.add(data.ELR_analysis_empty_fidelity)\n",
    "\n",
    "plotQ = qc.QtPlot()\n",
    "plotQ.add(data.ELR_analysis_read_fidelity)"
   ]
  },
  {
   "cell_type": "code",
   "execution_count": 14,
   "metadata": {
    "collapsed": true
   },
   "outputs": [],
   "source": [
    "DS(2.646)"
   ]
  }
 ],
 "metadata": {
  "anaconda-cloud": {},
  "kernelspec": {
   "display_name": "Python [Root]",
   "language": "python",
   "name": "Python [Root]"
  },
  "language_info": {
   "codemirror_mode": {
    "name": "ipython",
    "version": 3
   },
   "file_extension": ".py",
   "mimetype": "text/x-python",
   "name": "python",
   "nbconvert_exporter": "python",
   "pygments_lexer": "ipython3",
   "version": "3.5.2"
  }
 },
 "nbformat": 4,
 "nbformat_minor": 0
}
