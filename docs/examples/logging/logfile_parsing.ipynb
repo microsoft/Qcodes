{
 "cells": [
  {
   "cell_type": "markdown",
   "metadata": {},
   "source": [
    "# Logfile parsing\n",
    "(back to overview [offline](../Main.ipynb),[online](https://nbviewer.jupyter.org/github/QCoDeS/Qcodes/tree/master/docs/examples/Main.ipynb))\n",
    "\n",
    "[read on nbviewer](https://nbviewer.jupyter.org/github/QCoDeS/Qcodes/tree/master/docs/examples/logging/logfile_parsing.ipynb)"
   ]
  },
  {
   "cell_type": "markdown",
   "metadata": {},
   "source": [
    "Here, we provide an example concerning how to benefit from QCoDeS logs by simple analysis and visualisation."
   ]
  },
  {
   "cell_type": "code",
   "execution_count": 1,
   "metadata": {},
   "outputs": [],
   "source": [
    "%matplotlib inline\n",
    "import dateutil\n",
    "import os\n",
    "\n",
    "import pandas as pd\n",
    "import matplotlib.pyplot as plt\n",
    "\n",
    "import qcodes as qc\n",
    "from qcodes.logger.log_analysis import logfile_to_dataframe, time_difference, log_to_dataframe\n",
    "from zipfile import ZipFile\n"
   ]
  },
  {
   "cell_type": "code",
   "execution_count": 2,
   "metadata": {},
   "outputs": [],
   "source": [
    "# put the 30MB into a zip file\n",
    "filepath = os.path.join(os.getcwd(), 'static', 'pythonlog.zip')\n",
    "with ZipFile(filepath) as z:\n",
    "    with z.open('pythonlog.log', 'r') as f:\n",
    "        my_log = [line.decode() for line in f]"
   ]
  },
  {
   "cell_type": "code",
   "execution_count": 3,
   "metadata": {},
   "outputs": [
    {
     "data": {
      "text/plain": [
       "True"
      ]
     },
     "execution_count": 3,
     "metadata": {},
     "output_type": "execute_result"
    }
   ],
   "source": [
    "os.path.exists(filepath)"
   ]
  },
  {
   "cell_type": "code",
   "execution_count": 4,
   "metadata": {},
   "outputs": [],
   "source": [
    "logdata = log_to_dataframe(my_log, separator=' - ', columns=['time', 'module', 'function', 'loglevel', 'message'])"
   ]
  },
  {
   "cell_type": "markdown",
   "metadata": {},
   "source": [
    "The `logdata` is, now, a nice and tidy `DataFrame` that one can further manipulate to extract more information, if needed."
   ]
  },
  {
   "cell_type": "code",
   "execution_count": 5,
   "metadata": {
    "scrolled": true
   },
   "outputs": [
    {
     "data": {
      "text/html": [
       "<div>\n",
       "<style scoped>\n",
       "    .dataframe tbody tr th:only-of-type {\n",
       "        vertical-align: middle;\n",
       "    }\n",
       "\n",
       "    .dataframe tbody tr th {\n",
       "        vertical-align: top;\n",
       "    }\n",
       "\n",
       "    .dataframe thead th {\n",
       "        text-align: right;\n",
       "    }\n",
       "</style>\n",
       "<table border=\"1\" class=\"dataframe\">\n",
       "  <thead>\n",
       "    <tr style=\"text-align: right;\">\n",
       "      <th></th>\n",
       "      <th>time</th>\n",
       "      <th>module</th>\n",
       "      <th>function</th>\n",
       "      <th>loglevel</th>\n",
       "      <th>message</th>\n",
       "    </tr>\n",
       "  </thead>\n",
       "  <tbody>\n",
       "    <tr>\n",
       "      <th>0</th>\n",
       "      <td>2018-05-10 16:01:50,497</td>\n",
       "      <td>qcodes.instrument_drivers.QDev.QDac_channels</td>\n",
       "      <td>write</td>\n",
       "      <td>DEBUG</td>\n",
       "      <td>Writing to instrument qdac: wav 2 0 0 0;set 2 ...</td>\n",
       "    </tr>\n",
       "    <tr>\n",
       "      <th>1</th>\n",
       "      <td>2018-05-10 16:01:50,546</td>\n",
       "      <td>qcodes.instrument.visa</td>\n",
       "      <td>ask_raw</td>\n",
       "      <td>DEBUG</td>\n",
       "      <td>Querying instrument SR860_120: OUTP? 2\\r\\n</td>\n",
       "    </tr>\n",
       "    <tr>\n",
       "      <th>2</th>\n",
       "      <td>2018-05-10 16:01:50,552</td>\n",
       "      <td>qcodes.instrument.visa</td>\n",
       "      <td>ask_raw</td>\n",
       "      <td>DEBUG</td>\n",
       "      <td>Got response from instrument SR860_120: 8.9832...</td>\n",
       "    </tr>\n",
       "    <tr>\n",
       "      <th>3</th>\n",
       "      <td>2018-05-10 16:01:50,553</td>\n",
       "      <td>qcodes.instrument.visa</td>\n",
       "      <td>ask_raw</td>\n",
       "      <td>DEBUG</td>\n",
       "      <td>Querying instrument SR860_120: SLVL?\\r\\n</td>\n",
       "    </tr>\n",
       "    <tr>\n",
       "      <th>4</th>\n",
       "      <td>2018-05-10 16:01:50,561</td>\n",
       "      <td>qcodes.instrument.visa</td>\n",
       "      <td>ask_raw</td>\n",
       "      <td>DEBUG</td>\n",
       "      <td>Got response from instrument SR860_120: 9.9999...</td>\n",
       "    </tr>\n",
       "    <tr>\n",
       "      <th>...</th>\n",
       "      <td>...</td>\n",
       "      <td>...</td>\n",
       "      <td>...</td>\n",
       "      <td>...</td>\n",
       "      <td>...</td>\n",
       "    </tr>\n",
       "    <tr>\n",
       "      <th>255146</th>\n",
       "      <td>2018-05-10 17:12:03,208</td>\n",
       "      <td>qcodes.instrument.visa</td>\n",
       "      <td>ask_raw</td>\n",
       "      <td>DEBUG</td>\n",
       "      <td>Querying instrument SR860_120: OUTP? 2\\r\\n</td>\n",
       "    </tr>\n",
       "    <tr>\n",
       "      <th>255147</th>\n",
       "      <td>2018-05-10 17:12:14,257</td>\n",
       "      <td>qcodes.data.data_set</td>\n",
       "      <td>finalize</td>\n",
       "      <td>DEBUG</td>\n",
       "      <td>Finalising the DataSet. Writing.\\r\\n</td>\n",
       "    </tr>\n",
       "    <tr>\n",
       "      <th>255148</th>\n",
       "      <td>2018-05-10 17:12:14,258</td>\n",
       "      <td>qcodes.data.gnuplot_format</td>\n",
       "      <td>write</td>\n",
       "      <td>DEBUG</td>\n",
       "      <td>Attempting to write the following group: qdac_...</td>\n",
       "    </tr>\n",
       "    <tr>\n",
       "      <th>255149</th>\n",
       "      <td>2018-05-10 17:12:14,259</td>\n",
       "      <td>qcodes.data.gnuplot_format</td>\n",
       "      <td>write</td>\n",
       "      <td>DEBUG</td>\n",
       "      <td>Wrote to file from 40200 to 40201\\r\\n</td>\n",
       "    </tr>\n",
       "    <tr>\n",
       "      <th>255150</th>\n",
       "      <td>2018-05-10 17:12:14,378</td>\n",
       "      <td>qdev_wrappers.sweep_functions</td>\n",
       "      <td>_do_measurement</td>\n",
       "      <td>ERROR</td>\n",
       "      <td>Exception in doND\\r\\n</td>\n",
       "    </tr>\n",
       "  </tbody>\n",
       "</table>\n",
       "<p>255151 rows × 5 columns</p>\n",
       "</div>"
      ],
      "text/plain": [
       "                           time                                        module  \\\n",
       "0       2018-05-10 16:01:50,497  qcodes.instrument_drivers.QDev.QDac_channels   \n",
       "1       2018-05-10 16:01:50,546                        qcodes.instrument.visa   \n",
       "2       2018-05-10 16:01:50,552                        qcodes.instrument.visa   \n",
       "3       2018-05-10 16:01:50,553                        qcodes.instrument.visa   \n",
       "4       2018-05-10 16:01:50,561                        qcodes.instrument.visa   \n",
       "...                         ...                                           ...   \n",
       "255146  2018-05-10 17:12:03,208                        qcodes.instrument.visa   \n",
       "255147  2018-05-10 17:12:14,257                          qcodes.data.data_set   \n",
       "255148  2018-05-10 17:12:14,258                    qcodes.data.gnuplot_format   \n",
       "255149  2018-05-10 17:12:14,259                    qcodes.data.gnuplot_format   \n",
       "255150  2018-05-10 17:12:14,378                 qdev_wrappers.sweep_functions   \n",
       "\n",
       "               function loglevel  \\\n",
       "0                 write    DEBUG   \n",
       "1               ask_raw    DEBUG   \n",
       "2               ask_raw    DEBUG   \n",
       "3               ask_raw    DEBUG   \n",
       "4               ask_raw    DEBUG   \n",
       "...                 ...      ...   \n",
       "255146          ask_raw    DEBUG   \n",
       "255147         finalize    DEBUG   \n",
       "255148            write    DEBUG   \n",
       "255149            write    DEBUG   \n",
       "255150  _do_measurement    ERROR   \n",
       "\n",
       "                                                  message  \n",
       "0       Writing to instrument qdac: wav 2 0 0 0;set 2 ...  \n",
       "1              Querying instrument SR860_120: OUTP? 2\\r\\n  \n",
       "2       Got response from instrument SR860_120: 8.9832...  \n",
       "3                Querying instrument SR860_120: SLVL?\\r\\n  \n",
       "4       Got response from instrument SR860_120: 9.9999...  \n",
       "...                                                   ...  \n",
       "255146         Querying instrument SR860_120: OUTP? 2\\r\\n  \n",
       "255147               Finalising the DataSet. Writing.\\r\\n  \n",
       "255148  Attempting to write the following group: qdac_...  \n",
       "255149              Wrote to file from 40200 to 40201\\r\\n  \n",
       "255150                              Exception in doND\\r\\n  \n",
       "\n",
       "[255151 rows x 5 columns]"
      ]
     },
     "execution_count": 5,
     "metadata": {},
     "output_type": "execute_result"
    }
   ],
   "source": [
    "logdata"
   ]
  },
  {
   "cell_type": "code",
   "execution_count": 6,
   "metadata": {
    "scrolled": true
   },
   "outputs": [],
   "source": [
    "data = logdata"
   ]
  },
  {
   "cell_type": "markdown",
   "metadata": {},
   "source": [
    "### Get the query time for the SR860\n",
    "\n",
    "We know that the log file documents an experiment quering an SR860 for R and amplitude over and over. Let us analyse and visualise query response times."
   ]
  },
  {
   "cell_type": "code",
   "execution_count": 7,
   "metadata": {},
   "outputs": [],
   "source": [
    "qstr_R = 'Querying instrument SR860_120: OUTP\\? 2'  # remember to escape\n",
    "queries_R = data[data.message.str.contains(qstr_R)]\n",
    "responses_R = data.loc[queries_R.index + 1]\n",
    "\n",
    "qstr_lvl = 'Querying instrument SR860_120: SLVL\\?'  # remember to escape\n",
    "queries_lvl = data[data.message.str.contains(qstr_lvl)][:-1]\n",
    "responses_lvl = data.loc[queries_lvl.index + 1]"
   ]
  },
  {
   "cell_type": "markdown",
   "metadata": {},
   "source": [
    "### Find the elapsed times"
   ]
  },
  {
   "cell_type": "code",
   "execution_count": 8,
   "metadata": {},
   "outputs": [],
   "source": [
    "elapsed_times_R = time_difference(queries_R.time, responses_R.time)\n",
    "elapsed_times_lvl =  time_difference(queries_lvl.time, responses_lvl.time)"
   ]
  },
  {
   "cell_type": "markdown",
   "metadata": {},
   "source": [
    "## Visualise!"
   ]
  },
  {
   "cell_type": "code",
   "execution_count": 9,
   "metadata": {},
   "outputs": [
    {
     "data": {
      "text/plain": [
       "<matplotlib.legend.Legend at 0x20592e91048>"
      ]
     },
     "execution_count": 9,
     "metadata": {},
     "output_type": "execute_result"
    },
    {
     "data": {
      "image/png": "[encoded data removed]",
      "text/plain": [
       "<Figure size 432x288 with 1 Axes>"
      ]
     },
     "metadata": {
      "needs_background": "light"
     },
     "output_type": "display_data"
    }
   ],
   "source": [
    "from pandas.plotting import register_matplotlib_converters\n",
    "register_matplotlib_converters()\n",
    "\n",
    "fig, ax = plt.subplots(1,1)\n",
    "ax.plot(queries_R.time.str.replace(',', '.').astype(\"datetime64[ns]\"), elapsed_times_R, '.', label='R')\n",
    "ax.plot(queries_lvl.time.str.replace(',', '.').astype(\"datetime64[ns]\"), elapsed_times_lvl, '.', label='LVL')\n",
    "fig.autofmt_xdate()\n",
    "ax.set_ylabel('Response time (s)')\n",
    "plt.legend()"
   ]
  },
  {
   "cell_type": "code",
   "execution_count": null,
   "metadata": {},
   "outputs": [],
   "source": []
  }
 ],
 "metadata": {
  "kernelspec": {
   "display_name": "Python 3",
   "language": "python",
   "name": "python3"
  },
  "language_info": {
   "codemirror_mode": {
    "name": "ipython",
    "version": 3
   },
   "file_extension": ".py",
   "mimetype": "text/x-python",
   "name": "python",
   "nbconvert_exporter": "python",
   "pygments_lexer": "ipython3",
   "version": "3.7.5"
  },
  "toc": {
   "base_numbering": 1,
   "nav_menu": {},
   "number_sections": true,
   "sideBar": true,
   "skip_h1_title": false,
   "title_cell": "Table of Contents",
   "title_sidebar": "Contents",
   "toc_cell": false,
   "toc_position": {},
   "toc_section_display": true,
   "toc_window_display": false
  }
 },
 "nbformat": 4,
 "nbformat_minor": 2
}
