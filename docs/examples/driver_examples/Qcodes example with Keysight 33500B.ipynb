{
 "cells": [
  {
   "cell_type": "markdown",
   "metadata": {
    "deletable": true,
    "editable": true
   },
   "source": [
    "# Qcodes example with Keysight 33500B"
   ]
  },
  {
   "cell_type": "code",
   "execution_count": 1,
   "metadata": {
    "collapsed": false,
    "deletable": true,
    "editable": true
   },
   "outputs": [
    {
     "name": "stdout",
     "output_type": "stream",
     "text": [
      "pyqtgraph plotting not supported, try \"from qcodes.plots.pyqtgraph import QtPlot\" to see the full error\n"
     ]
    }
   ],
   "source": [
    "import qcodes as qc\n",
    "from qcodes.instrument_drivers.Keysight.Keysight_33500B import Keysight_33500B"
   ]
  },
  {
   "cell_type": "code",
   "execution_count": 2,
   "metadata": {
    "collapsed": false,
    "deletable": true,
    "editable": true
   },
   "outputs": [
    {
     "name": "stdout",
     "output_type": "stream",
     "text": [
      "Connected to: Agilent Technologies 33522B (serial:MY57800256, firmware:3.05-1.19-2.00-52-00) in 0.11s\n"
     ]
    }
   ],
   "source": [
    "ks = Keysight_33500B('ks', 'TCPIP0::K-33522B-00256::inst0::INSTR')"
   ]
  },
  {
   "cell_type": "markdown",
   "metadata": {},
   "source": [
    "## Basic usage"
   ]
  },
  {
   "cell_type": "code",
   "execution_count": 3,
   "metadata": {
    "collapsed": true,
    "deletable": true,
    "editable": true
   },
   "outputs": [],
   "source": [
    "# SET up a sawtooth\n",
    "ks.ch1_function_type('RAMP')\n",
    "ks.ch1_ramp_symmetry(100)\n",
    "ks.ch1_amplitude_unit('VPP')\n",
    "ks.ch1_amplitude(1)\n",
    "ks.ch1_offset(0)\n",
    "ks.ch1_frequency(2e3)\n",
    "ks.sync_source(1)"
   ]
  },
  {
   "cell_type": "code",
   "execution_count": 4,
   "metadata": {
    "collapsed": true,
    "deletable": true,
    "editable": true
   },
   "outputs": [],
   "source": [
    "# Start it\n",
    "ks.sync_output('ON')\n",
    "ks.ch1_output('ON')\n"
   ]
  },
  {
   "cell_type": "code",
   "execution_count": 7,
   "metadata": {
    "collapsed": true,
    "deletable": true,
    "editable": true
   },
   "outputs": [],
   "source": [
    "ks.ch1_frequency(1e3)"
   ]
  },
  {
   "cell_type": "code",
   "execution_count": 12,
   "metadata": {
    "collapsed": true,
    "deletable": true,
    "editable": true
   },
   "outputs": [],
   "source": [
    "# stop it\n",
    "ks.sync_output('OFF')\n",
    "ks.ch1_output('OFF')"
   ]
  },
  {
   "cell_type": "markdown",
   "metadata": {},
   "source": [
    "## Using burst mode"
   ]
  },
  {
   "cell_type": "code",
   "execution_count": null,
   "metadata": {
    "collapsed": true
   },
   "outputs": [],
   "source": []
  },
  {
   "cell_type": "code",
   "execution_count": 14,
   "metadata": {
    "collapsed": true,
    "deletable": true,
    "editable": true
   },
   "outputs": [],
   "source": [
    "# In burst mode, the instrument starts running a task (e.g. a waveform generation) upon receiving a trigger\n",
    "\n",
    "# TRIGGERING\n",
    "\n",
    "# Can be 'EXT' (external), 'IMM' (immediate, internal),\n",
    "# 'BUS' (software trigger), 'TIM' (timed)\n",
    "ks.ch1_trigger_source('EXT')  \n",
    "\n",
    "ks.ch1_trigger_count(1)\n",
    "ks.ch1_trigger_delay(0)  # seconds\n",
    "\n",
    "# for external triggering, a slope should be specified\n",
    "ks.ch1_trigger_slope('POS')\n",
    "\n",
    "# For timed triggering, the time between each trigger should be set\n",
    "ks.ch1_trigger_timer(50e-3)\n",
    "\n",
    "# BURSTING\n",
    "\n",
    "ks.ch1_burst_state('ON')\n",
    "ks.ch1_burst_mode('N Cycle')  # Can be 'N Cycle' or 'Gated'\n",
    "\n",
    "# when in 'N Cycle' mode, the following options are available\n",
    "ks.ch1_burst_ncycles(1)  # Can be 1, 2, 3,... , 'MIN', 'MAX', or 'INF'\n",
    "ks.ch1_burst_phase(180)  # the starting phase (degrees)\n",
    "\n",
    "# If in 'Gated' mode, the following should be specified\n",
    "ks.ch1_burst_polarity('NORM')  # Can be 'NORM' or 'INV'"
   ]
  },
  {
   "cell_type": "markdown",
   "metadata": {},
   "source": [
    "## Error handling"
   ]
  },
  {
   "cell_type": "code",
   "execution_count": 3,
   "metadata": {
    "collapsed": false
   },
   "outputs": [
    {
     "data": {
      "text/plain": [
       "(0, 'No error')"
      ]
     },
     "execution_count": 3,
     "metadata": {},
     "output_type": "execute_result"
    }
   ],
   "source": [
    "# The instrument has an error queue of length up to 20 messages.\n",
    "# The queue message retrieval is first-in-first-out\n",
    "\n",
    "# The first (i.e. oldest) error message in the queue can be gotten (and thereby removed from the queue)\n",
    "ks.error()"
   ]
  },
  {
   "cell_type": "code",
   "execution_count": 4,
   "metadata": {
    "collapsed": false
   },
   "outputs": [
    {
     "name": "stdout",
     "output_type": "stream",
     "text": [
      "-113 Undefined header\n",
      "-113 Undefined header\n",
      "-113 Undefined header\n",
      "0 No error\n"
     ]
    }
   ],
   "source": [
    "# The entire queue can be flushed out\n",
    "\n",
    "# generate a few errors\n",
    "for ii in range(3):\n",
    "    ks.write('gimme an error!')\n",
    "\n",
    "ks.flush_error_queue()"
   ]
  },
  {
   "cell_type": "code",
   "execution_count": null,
   "metadata": {
    "collapsed": true
   },
   "outputs": [],
   "source": []
  }
 ],
 "metadata": {
  "kernelspec": {
   "display_name": "Python 3",
   "language": "python",
   "name": "python3"
  },
  "language_info": {
   "codemirror_mode": {
    "name": "ipython",
    "version": 3
   },
   "file_extension": ".py",
   "mimetype": "text/x-python",
   "name": "python",
   "nbconvert_exporter": "python",
   "pygments_lexer": "ipython3",
   "version": "3.5.3"
  }
 },
 "nbformat": 4,
 "nbformat_minor": 2
}
