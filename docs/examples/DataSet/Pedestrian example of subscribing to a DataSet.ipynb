{
 "cells": [
  {
   "cell_type": "markdown",
   "metadata": {},
   "source": [
    "# Pedestrian example of subscribing to a DataSet\n",
    "\n",
    "It is possible to *subscribe* to a dataset. Subscribing means adding a function to the dataset and having the dataset call that function every time a result is added to the dataset (or more rarely, see below).\n",
    "\n",
    "### Call signature\n",
    "\n",
    "The subscribing function must have the following call signature:\n",
    "```\n",
    "fun(results: List[Tuple[Value]], length: int,\n",
    "    state: Union[MutableSequence, MutableMapping]) -> None:\n",
    "    \"\"\"\n",
    "    Args:\n",
    "        results: A list of tuples where each tuple holds the results inserted into the dataset.\n",
    "            For two scalar parameters, X and Y, results might look like [(x1, y1), (x2, y2), ...]\n",
    "        length: The current length of the dataset.\n",
    "        state: Any mutable sequence/mapping that can be used to hold information from call to call.\n",
    "            In practice a list or a dict.\n",
    "    \"\"\"\n",
    "```\n",
    "Below we provide an example function that counts the number of times a voltage has exceeded a certain limit.\n",
    "\n",
    "### Frequency\n",
    "\n",
    "Since calling the function **every** time an insertion is made may be too frequent, a `min_wait` and a `min_count` argument may be provided when subscribing. The dataset will then only call the function upon inserting a result\n",
    "if `min_wait` seconds have elapsed since the last call (or the start of the subscription, in the time before the first call) AND `min_count` results have been added to the dataset since the last call (or the start of the subscription). All the results added in the meantime are queued and passed to the function in one go.\n",
    "\n",
    "### Order\n",
    "\n",
    "The subscription must be set up **after** all parameters have been added to the dataset."
   ]
  },
  {
   "cell_type": "code",
   "execution_count": 1,
   "metadata": {
    "collapsed": true
   },
   "outputs": [],
   "source": [
    "from qcodes.dataset.data_set import new_data_set, ParamSpec, DB, hash_from_parts\n",
    "from qcodes.dataset.sqlite_base import new_experiment, connect, length\n",
    "import logging\n",
    "import warnings\n",
    "import numpy as np\n",
    "from time import sleep"
   ]
  },
  {
   "cell_type": "markdown",
   "metadata": {},
   "source": [
    "## Example 1: A notification\n",
    "\n",
    "We imagine scanning a frequency and reading out a noisy voltage. When the voltage has exceeded a threshold 5 times, we want to receive a warning."
   ]
  },
  {
   "cell_type": "code",
   "execution_count": 2,
   "metadata": {
    "collapsed": true
   },
   "outputs": [],
   "source": [
    "dataSet = new_data_set(\"test\", specs=[ParamSpec(\"x\", \"numeric\", unit='Hz'),\n",
    "                                      ParamSpec(\"y\", \"numeric\", unit='V')])"
   ]
  },
  {
   "cell_type": "code",
   "execution_count": 3,
   "metadata": {
    "collapsed": true
   },
   "outputs": [],
   "source": [
    "def threshold_notifier(results, length, state):\n",
    "    if len(state) > 4:\n",
    "        print(f'At step {length}: The voltage exceeded the limit 5 times! ')\n",
    "        state.clear()\n",
    "    for result in results:\n",
    "        if result[1] > 0.8:\n",
    "            state.append(result[1])"
   ]
  },
  {
   "cell_type": "code",
   "execution_count": 4,
   "metadata": {},
   "outputs": [],
   "source": [
    "# now perform the subscription\n",
    "# since this is important safety info, we want our callback function called\n",
    "# on EVERY insertion\n",
    "sub_id = dataSet.subscribe(threshold_notifier, min_wait=0, min_count=1, state=[])"
   ]
  },
  {
   "cell_type": "code",
   "execution_count": 5,
   "metadata": {
    "scrolled": false
   },
   "outputs": [
    {
     "name": "stdout",
     "output_type": "stream",
     "text": [
      "At step 30: The voltage exceeded the limit 5 times! \n",
      "At step 64: The voltage exceeded the limit 5 times! \n",
      "At step 85: The voltage exceeded the limit 5 times! \n",
      "At step 107: The voltage exceeded the limit 5 times! \n",
      "At step 123: The voltage exceeded the limit 5 times! \n"
     ]
    }
   ],
   "source": [
    "for x in np.linspace(100, 200, 150):\n",
    "    y = np.random.randn()\n",
    "    dataSet.add_result({\"x\": x, \"y\": y})"
   ]
  },
  {
   "cell_type": "code",
   "execution_count": 6,
   "metadata": {},
   "outputs": [],
   "source": [
    "dataSet.unsubscribe_all()"
   ]
  },
  {
   "cell_type": "markdown",
   "metadata": {
    "collapsed": true
   },
   "source": [
    "## Example 2: ASCII Plotter\n",
    "\n",
    "Not the most useful example for real life, but indeed what every kid on the block seems to be demanding."
   ]
  },
  {
   "cell_type": "code",
   "execution_count": 7,
   "metadata": {},
   "outputs": [],
   "source": [
    "dataSet = new_data_set(\"test\", specs=[ParamSpec(\"blip\", \"numeric\", unit='bit'),\n",
    "                                      ParamSpec(\"blop\", \"numeric\", unit='bit')])"
   ]
  },
  {
   "cell_type": "code",
   "execution_count": 8,
   "metadata": {},
   "outputs": [],
   "source": [
    "def ASCII_plotter_5bit(results, length, state):\n",
    "    \"\"\"\n",
    "    Glorious 5-bit signal plotter\n",
    "    \n",
    "    Digitises the range (-1, 1) with 4 bits and plots it\n",
    "    in stdout. Crashes and burns if given data outside that\n",
    "    interval.\n",
    "    \"\"\"\n",
    "    for result in results:\n",
    "        plotline = ['.'] * 32\n",
    "        yvalue = result[1]\n",
    "        yvalue += 1\n",
    "        yvalue /= 2\n",
    "        yvalue = int(yvalue*31)\n",
    "        plotline[yvalue] = 'O'\n",
    "        print(''.join(plotline))\n",
    "        "
   ]
  },
  {
   "cell_type": "code",
   "execution_count": 9,
   "metadata": {
    "collapsed": true
   },
   "outputs": [],
   "source": [
    "sub_id = dataSet.subscribe(ASCII_plotter_5bit, min_wait=0, min_count=3, state=[])"
   ]
  },
  {
   "cell_type": "code",
   "execution_count": 10,
   "metadata": {},
   "outputs": [
    {
     "name": "stdout",
     "output_type": "stream",
     "text": [
      "...............O................\n",
      "................O...............\n",
      "...................O............\n",
      "...................O............\n",
      ".....................O..........\n",
      "......................O.........\n",
      "......................O.........\n",
      ".......................O........\n",
      ".........................O......\n",
      "...........................O....\n",
      "............................O...\n",
      "...........................O....\n",
      "............................O...\n",
      "............................O...\n",
      "............................O...\n",
      "............................O...\n",
      "............................O...\n",
      "............................O...\n",
      "............................O...\n",
      ".............................O..\n",
      ".............................O..\n",
      "............................O...\n",
      "............................O...\n",
      "..........................O.....\n",
      ".........................O......\n",
      ".........................O......\n",
      ".........................O......\n",
      "......................O.........\n",
      ".....................O..........\n",
      "....................O...........\n",
      "..................O.............\n",
      "..................O.............\n",
      ".................O..............\n",
      "...............O................\n",
      ".............O..................\n",
      "............O...................\n",
      "..........O.....................\n",
      ".........O......................\n",
      "........O.......................\n",
      ".........O......................\n",
      ".....O..........................\n",
      "......O.........................\n",
      ".....O..........................\n",
      "....O...........................\n",
      "...O............................\n",
      "..O.............................\n",
      "..O.............................\n",
      ".O..............................\n",
      "..O.............................\n",
      "..O.............................\n",
      "O...............................\n",
      "..O.............................\n",
      "..O.............................\n",
      "..O.............................\n",
      "....O...........................\n",
      "...O............................\n",
      "...O............................\n",
      "....O...........................\n",
      "......O.........................\n",
      ".....O..........................\n",
      "......O.........................\n",
      "........O.......................\n",
      ".........O......................\n",
      "............O...................\n",
      ".............O..................\n",
      "..............O.................\n",
      "...............O................\n",
      "................O...............\n",
      ".................O..............\n",
      "....................O...........\n",
      ".....................O..........\n",
      ".....................O..........\n",
      ".......................O........\n",
      "......................O.........\n",
      "........................O.......\n",
      "........................O.......\n",
      "..........................O.....\n",
      "...........................O....\n",
      "..........................O.....\n",
      ".............................O..\n",
      ".............................O..\n",
      "............................O...\n",
      "..............................O.\n",
      ".............................O..\n",
      "..............................O.\n",
      "...........................O....\n",
      "............................O...\n",
      ".............................O..\n",
      "..........................O.....\n",
      "..........................O.....\n",
      ".........................O......\n",
      ".........................O......\n",
      "........................O.......\n",
      "......................O.........\n",
      ".....................O..........\n",
      "....................O...........\n",
      "..................O.............\n",
      ".................O..............\n",
      ".................O..............\n"
     ]
    }
   ],
   "source": [
    "for x in np.linspace(0, 3*np.pi, 100):\n",
    "    yvalue = 0.9*np.sin(x) + np.random.randn()*0.05\n",
    "    dataSet.add_result({\"blip\": x, \"blop\": yvalue})\n",
    "    sleep(0.1)"
   ]
  },
  {
   "cell_type": "code",
   "execution_count": null,
   "metadata": {
    "collapsed": true
   },
   "outputs": [],
   "source": []
  }
 ],
 "metadata": {
  "kernelspec": {
   "display_name": "Python 3",
   "language": "python",
   "name": "python3"
  },
  "language_info": {
   "codemirror_mode": {
    "name": "ipython",
    "version": 3
   },
   "file_extension": ".py",
   "mimetype": "text/x-python",
   "name": "python",
   "nbconvert_exporter": "python",
   "pygments_lexer": "ipython3",
   "version": "3.6.0"
  }
 },
 "nbformat": 4,
 "nbformat_minor": 2
}
