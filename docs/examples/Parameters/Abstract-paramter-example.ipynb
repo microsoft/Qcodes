{
 "cells": [
  {
   "cell_type": "markdown",
   "id": "generous-original",
   "metadata": {},
   "source": [
    "# Abstract parameters \n",
    "\n",
    "Abstract parameters allow us to create abstract instrument types which are guarenteed to have certain parameters present. \n",
    "For instance, this will allow us to create a unified interface for all voltage sources. \n",
    "\n",
    "Usually, when a parameter is added to an instrument and that instrument is subclassed and a parameter of the same name is \n",
    "added in the subclass as well, this will raise an exception. This issue is circumvented by specifying in the base class \n",
    "that the parameter being added there is of type `AbstractParameter`. \n",
    "\n",
    "A catch is that, if a unit is specified in the base class and a unit is specified in the sub class, these units *must* match. "
   ]
  },
  {
   "cell_type": "code",
   "execution_count": 1,
   "id": "primary-champion",
   "metadata": {},
   "outputs": [],
   "source": [
    "from qcodes import Instrument \n",
    "from qcodes.instrument.parameter import AbstractParameter"
   ]
  },
  {
   "cell_type": "code",
   "execution_count": 2,
   "id": "fleet-sunset",
   "metadata": {},
   "outputs": [],
   "source": [
    "class BaseVoltageSource(Instrument): \n",
    "    def __init__(self, name): \n",
    "        super().__init__(name)\n",
    "    \n",
    "        self.add_parameter(\n",
    "            \"voltage\", \n",
    "            parameter_class=AbstractParameter, \n",
    "            unit=\"V\"\n",
    "        )"
   ]
  },
  {
   "cell_type": "code",
   "execution_count": 3,
   "id": "driving-salon",
   "metadata": {},
   "outputs": [],
   "source": [
    "class MyVoltageSource(BaseVoltageSource): \n",
    "    \n",
    "    def __init__(self, name): \n",
    "        super().__init__(name)\n",
    "    \n",
    "        self.add_parameter(\n",
    "            \"voltage\", \n",
    "            set_cmd=None, \n",
    "            get_cmd=None, \n",
    "            unit=\"V\"\n",
    "        )"
   ]
  },
  {
   "cell_type": "markdown",
   "id": "narrow-subdivision",
   "metadata": {},
   "source": [
    "We can use the `MyVoltageSource` as any other instrument. "
   ]
  },
  {
   "cell_type": "code",
   "execution_count": 4,
   "id": "associate-monitoring",
   "metadata": {},
   "outputs": [],
   "source": [
    "source = MyVoltageSource(\"name\")"
   ]
  },
  {
   "cell_type": "code",
   "execution_count": 5,
   "id": "revised-belle",
   "metadata": {},
   "outputs": [],
   "source": [
    "source.voltage.set(2.3)"
   ]
  },
  {
   "cell_type": "code",
   "execution_count": 6,
   "id": "alone-threat",
   "metadata": {},
   "outputs": [
    {
     "name": "stdout",
     "output_type": "stream",
     "text": [
      "2.3\n"
     ]
    }
   ],
   "source": [
    "print(source.voltage())"
   ]
  },
  {
   "cell_type": "markdown",
   "id": "massive-arena",
   "metadata": {},
   "source": [
    "If the specify a different unit in the sub class, this will result in an error when we instantiate the instrument "
   ]
  },
  {
   "cell_type": "code",
   "execution_count": 7,
   "id": "initial-indianapolis",
   "metadata": {},
   "outputs": [],
   "source": [
    "class MyVoltageSource2(BaseVoltageSource): \n",
    "    \n",
    "    def __init__(self, name): \n",
    "        super().__init__(name)\n",
    "    \n",
    "        self.add_parameter(\n",
    "            \"voltage\", \n",
    "            set_cmd=None, \n",
    "            get_cmd=None, \n",
    "            unit=\"mV\"\n",
    "        )"
   ]
  },
  {
   "cell_type": "code",
   "execution_count": 8,
   "id": "increasing-honor",
   "metadata": {},
   "outputs": [
    {
     "ename": "ValueError",
     "evalue": "The unit of the parameter 'voltage' is 'mV', which is inconsistent with the unit 'V' specified earlier. This is usually because a driver is a subclass of a baseclass which defines a parameter of the same name but with different units",
     "output_type": "error",
     "traceback": [
      "\u001b[1;31m---------------------------------------------------------------------------\u001b[0m",
      "\u001b[1;31mValueError\u001b[0m                                Traceback (most recent call last)",
      "\u001b[1;32m<ipython-input-8-63e6e875c57a>\u001b[0m in \u001b[0;36m<module>\u001b[1;34m\u001b[0m\n\u001b[1;32m----> 1\u001b[1;33m \u001b[0msource2\u001b[0m \u001b[1;33m=\u001b[0m \u001b[0mMyVoltageSource2\u001b[0m\u001b[1;33m(\u001b[0m\u001b[1;34m\"name2\"\u001b[0m\u001b[1;33m)\u001b[0m\u001b[1;33m\u001b[0m\u001b[1;33m\u001b[0m\u001b[0m\n\u001b[0m",
      "\u001b[1;32m<ipython-input-7-ac9c40916fc5>\u001b[0m in \u001b[0;36m__init__\u001b[1;34m(self, name)\u001b[0m\n\u001b[0;32m      4\u001b[0m         \u001b[0msuper\u001b[0m\u001b[1;33m(\u001b[0m\u001b[1;33m)\u001b[0m\u001b[1;33m.\u001b[0m\u001b[0m__init__\u001b[0m\u001b[1;33m(\u001b[0m\u001b[0mname\u001b[0m\u001b[1;33m)\u001b[0m\u001b[1;33m\u001b[0m\u001b[1;33m\u001b[0m\u001b[0m\n\u001b[0;32m      5\u001b[0m \u001b[1;33m\u001b[0m\u001b[0m\n\u001b[1;32m----> 6\u001b[1;33m         self.add_parameter(\n\u001b[0m\u001b[0;32m      7\u001b[0m             \u001b[1;34m\"voltage\"\u001b[0m\u001b[1;33m,\u001b[0m\u001b[1;33m\u001b[0m\u001b[1;33m\u001b[0m\u001b[0m\n\u001b[0;32m      8\u001b[0m             \u001b[0mset_cmd\u001b[0m\u001b[1;33m=\u001b[0m\u001b[1;32mNone\u001b[0m\u001b[1;33m,\u001b[0m\u001b[1;33m\u001b[0m\u001b[1;33m\u001b[0m\u001b[0m\n",
      "\u001b[1;32mc:\\users\\sochatoo\\development\\qcodes\\qcodes\\instrument\\base.py\u001b[0m in \u001b[0;36madd_parameter\u001b[1;34m(self, name, parameter_class, **kwargs)\u001b[0m\n\u001b[0;32m    104\u001b[0m \u001b[1;33m\u001b[0m\u001b[0m\n\u001b[0;32m    105\u001b[0m             \u001b[1;32mif\u001b[0m \u001b[0mexisting_unit\u001b[0m \u001b[1;32mand\u001b[0m \u001b[0mexisting_unit\u001b[0m \u001b[1;33m!=\u001b[0m \u001b[0mnew_unit\u001b[0m\u001b[1;33m:\u001b[0m\u001b[1;33m\u001b[0m\u001b[1;33m\u001b[0m\u001b[0m\n\u001b[1;32m--> 106\u001b[1;33m                 raise ValueError(\n\u001b[0m\u001b[0;32m    107\u001b[0m                     \u001b[1;34mf\"The unit of the parameter '{name}' is '{new_unit}', which \"\u001b[0m\u001b[1;33m\u001b[0m\u001b[1;33m\u001b[0m\u001b[0m\n\u001b[0;32m    108\u001b[0m                     \u001b[1;34mf\"is inconsistent with the unit '{existing_unit}' specified \"\u001b[0m\u001b[1;33m\u001b[0m\u001b[1;33m\u001b[0m\u001b[0m\n",
      "\u001b[1;31mValueError\u001b[0m: The unit of the parameter 'voltage' is 'mV', which is inconsistent with the unit 'V' specified earlier. This is usually because a driver is a subclass of a baseclass which defines a parameter of the same name but with different units"
     ]
    }
   ],
   "source": [
    "source2 = MyVoltageSource2(\"name2\")"
   ]
  },
  {
   "cell_type": "markdown",
   "id": "recovered-palmer",
   "metadata": {},
   "source": [
    "Finally, note that we cannot call an abstract parameter"
   ]
  },
  {
   "cell_type": "code",
   "execution_count": 9,
   "id": "unauthorized-somewhere",
   "metadata": {},
   "outputs": [],
   "source": [
    "base_source = BaseVoltageSource(\"base\")"
   ]
  },
  {
   "cell_type": "code",
   "execution_count": 10,
   "id": "different-geology",
   "metadata": {},
   "outputs": [
    {
     "ename": "NotImplementedError",
     "evalue": "no get cmd found in Parameter voltage",
     "output_type": "error",
     "traceback": [
      "\u001b[1;31m---------------------------------------------------------------------------\u001b[0m",
      "\u001b[1;31mNotImplementedError\u001b[0m                       Traceback (most recent call last)",
      "\u001b[1;32m<ipython-input-10-d862748ac039>\u001b[0m in \u001b[0;36m<module>\u001b[1;34m\u001b[0m\n\u001b[1;32m----> 1\u001b[1;33m \u001b[0mbase_source\u001b[0m\u001b[1;33m.\u001b[0m\u001b[0mvoltage\u001b[0m\u001b[1;33m(\u001b[0m\u001b[1;33m)\u001b[0m\u001b[1;33m\u001b[0m\u001b[1;33m\u001b[0m\u001b[0m\n\u001b[0m",
      "\u001b[1;32mc:\\users\\sochatoo\\development\\qcodes\\qcodes\\instrument\\parameter.py\u001b[0m in \u001b[0;36m__call__\u001b[1;34m(self, *args, **kwargs)\u001b[0m\n\u001b[0;32m    412\u001b[0m                 \u001b[1;32mreturn\u001b[0m \u001b[0mself\u001b[0m\u001b[1;33m.\u001b[0m\u001b[0mget\u001b[0m\u001b[1;33m(\u001b[0m\u001b[1;33m)\u001b[0m\u001b[1;33m\u001b[0m\u001b[1;33m\u001b[0m\u001b[0m\n\u001b[0;32m    413\u001b[0m             \u001b[1;32melse\u001b[0m\u001b[1;33m:\u001b[0m\u001b[1;33m\u001b[0m\u001b[1;33m\u001b[0m\u001b[0m\n\u001b[1;32m--> 414\u001b[1;33m                 raise NotImplementedError('no get cmd found in' +\n\u001b[0m\u001b[0;32m    415\u001b[0m                                           f' Parameter {self.name}')\n\u001b[0;32m    416\u001b[0m         \u001b[1;32melse\u001b[0m\u001b[1;33m:\u001b[0m\u001b[1;33m\u001b[0m\u001b[1;33m\u001b[0m\u001b[0m\n",
      "\u001b[1;31mNotImplementedError\u001b[0m: no get cmd found in Parameter voltage"
     ]
    }
   ],
   "source": [
    "base_source.voltage()"
   ]
  },
  {
   "cell_type": "code",
   "execution_count": null,
   "id": "bacterial-springer",
   "metadata": {},
   "outputs": [],
   "source": []
  }
 ],
 "metadata": {
  "kernelspec": {
   "display_name": "Python 3",
   "language": "python",
   "name": "python3"
  },
  "language_info": {
   "codemirror_mode": {
    "name": "ipython",
    "version": 3
   },
   "file_extension": ".py",
   "mimetype": "text/x-python",
   "name": "python",
   "nbconvert_exporter": "python",
   "pygments_lexer": "ipython3",
   "version": "3.8.8"
  }
 },
 "nbformat": 4,
 "nbformat_minor": 5
}
