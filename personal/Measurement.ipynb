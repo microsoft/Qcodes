{
 "cells": [
  {
   "cell_type": "code",
   "execution_count": 327,
   "metadata": {
    "collapsed": false
   },
   "outputs": [],
   "source": [
    "import os\n",
    "import clr\n",
    "import sys\n",
    "from imp import reload\n",
    "from System import Array\n",
    "from time import sleep, time\n",
    "import numpy as np\n",
    "from matplotlib import pyplot as plt\n",
    "from scipy.misc import factorial\n",
    "import peakutils\n",
    "# sys.path.append(os.getcwd())\n",
    "%matplotlib inline\n",
    "\n",
    "import qcodes as qc\n",
    "qc.show_subprocess_widget()\n",
    "\n",
    "import qcodes.instrument.parameter as parameter\n",
    "\n",
    "loc_provider = qc.data.location.FormatLocation(fmt='data/{date}/#{counter}_{name}_{time}')\n",
    "qc.data.data_set.DataSet.location_provider=loc_provider"
   ]
  },
  {
   "cell_type": "code",
   "execution_count": 2,
   "metadata": {
    "collapsed": false
   },
   "outputs": [],
   "source": [
    "dummy = parameter.ManualParameter(name=\"dummy\")\n",
    "\n",
    "def try_close_instruments(instruments=['PulseBlaster', 'ArbStudio', 'SIM900', 'ATS', 'ATS_controller']):\n",
    "    if isinstance(instruments, str):\n",
    "        instruments = [instruments]\n",
    "    for instrument in instruments:\n",
    "        try:\n",
    "            eval('{}.close()'.format(instrument_name))\n",
    "        except:\n",
    "            pass\n",
    "        \n",
    "def configure_PulsBlaster(PulseBlaster, repetition_rate, marker_cycles=100, sampling_rate=500):\n",
    "    cycles = sampling_rate*1e6 * repetition_rate\n",
    "\n",
    "    PulseBlaster.detect_boards()\n",
    "    PulseBlaster.select_board(0)\n",
    "    PulseBlaster.core_clock(sampling_rate)\n",
    "\n",
    "    PulseBlaster.start_programming()\n",
    "    start = PulseBlaster.send_instruction(1,'continue',0,marker_cycles)\n",
    "    PulseBlaster.send_instruction(0, 'branch', start, cycles - marker_cycles)\n",
    "    PulseBlaster.stop_programming()\n",
    "    \n",
    "def configure_ArbStudio(ArbStudio, repetition_rate, marker_cycles=100):\n",
    "    ArbStudio.ch3_trigger_mode('stepped')\n",
    "    ArbStudio.ch3_trigger_source('fp_trigger_in')\n",
    "\n",
    "    # Add waveforms\n",
    "    ArbStudio.ch3_clear_waveforms()\n",
    "    ArbStudio.ch3_add_waveform([1]*marker_cycles + [0,0])\n",
    "\n",
    "    #Add sequence\n",
    "    ArbStudio.ch3_sequence([0])\n",
    "\n",
    "    #Load waveforms and sequence\n",
    "    waveforms = ArbStudio.load_waveforms()\n",
    "    sequences = ArbStudio.load_sequence()"
   ]
  },
  {
   "cell_type": "code",
   "execution_count": 20,
   "metadata": {
    "collapsed": false
   },
   "outputs": [],
   "source": [
    "import qcodes.instrument_drivers.spincore.PulseBlasterESRPRO as PulseBlaster_driver\n",
    "import qcodes.instrument_drivers.lecroy.ArbStudio1104 as ArbStudio_driver\n",
    "import qcodes.instrument_drivers.stanford_research.SIM900 as SIM900_driver\n",
    "import qcodes.instrument_drivers.AlazarTech.ATS9440 as ATS_driver\n",
    "import qcodes.instrument_drivers.AlazarTech.ATS_acquisition_controllers as ATS_controller_driver\n",
    "\n",
    "for instrument_name in ['PulseBlaster', 'ArbStudio', 'SIM900', 'ATS', 'ATS_controller']:\n",
    "    try_close_instruments(instrument_name)\n",
    "    eval('reload({}_driver)'.format(instrument_name))\n",
    "\n",
    "PulseBlaster = PulseBlaster_driver.PulseBlaster('PulseBlaster')\n",
    "\n",
    "dll_path = os.path.join(os.getcwd(),'lecroy_driver\\\\Library\\\\ArbStudioSDK.dll')\n",
    "ArbStudio = ArbStudio_driver.ArbStudio1104('ArbStudio', dll_path, server_name=None)\n",
    "\n",
    "SIM900 = SIM900_driver.SIM900('SIM900', 'GPIB0::4::INSTR')\n",
    "TG, LB, RB, TGAC, SRC, _, DS, DF = [eval('SIM900.chan{}'.format(i)) for i in range(1,9)]\n",
    "\n",
    "ATS = ATS_driver.ATS9440('ATS', server_name='Alazar_server')\n",
    "ATS_controller = ATS_controller_driver.Average_AcquisitionController(name='ATS_control', \n",
    "                                                           alazar_name='ATS',\n",
    "                                                           server_name='Alazar_server')\n",
    "# Configure ATS and ATS_controller\n",
    "ATS.config(trigger_source1='CHANNEL_C',\n",
    "           trigger_level1=135,\n",
    "           channel_range=2,\n",
    "           sample_rate=1e6,\n",
    "           coupling='DC')"
   ]
  },
  {
   "cell_type": "code",
   "execution_count": 8,
   "metadata": {
    "collapsed": true
   },
   "outputs": [
    {
     "ename": "NameError",
     "evalue": "name 'PulseBlaster' is not defined",
     "output_type": "error",
     "traceback": [
      "\u001b[1;31m---------------------------------------------------------------------------\u001b[0m",
      "\u001b[1;31mNameError\u001b[0m                                 Traceback (most recent call last)",
      "\u001b[1;32m<ipython-input-8-389739e9979f>\u001b[0m in \u001b[0;36m<module>\u001b[1;34m()\u001b[0m\n\u001b[0;32m      1\u001b[0m \u001b[0mrepetition_rate\u001b[0m \u001b[1;33m=\u001b[0m \u001b[1;36m0.01\u001b[0m\u001b[1;33m\u001b[0m\u001b[0m\n\u001b[0;32m      2\u001b[0m \u001b[1;33m\u001b[0m\u001b[0m\n\u001b[1;32m----> 3\u001b[1;33m \u001b[0mconfigure_PulsBlaster\u001b[0m\u001b[1;33m(\u001b[0m\u001b[0mPulseBlaster\u001b[0m\u001b[1;33m,\u001b[0m \u001b[0mrepetition_rate\u001b[0m\u001b[1;33m)\u001b[0m\u001b[1;33m\u001b[0m\u001b[0m\n\u001b[0m\u001b[0;32m      4\u001b[0m \u001b[0mconfigure_ArbStudio\u001b[0m\u001b[1;33m(\u001b[0m\u001b[0mArbStudio\u001b[0m\u001b[1;33m,\u001b[0m \u001b[0mrepetition_rate\u001b[0m\u001b[1;33m)\u001b[0m\u001b[1;33m\u001b[0m\u001b[0m\n\u001b[0;32m      5\u001b[0m \u001b[0mATS_controller\u001b[0m\u001b[1;33m.\u001b[0m\u001b[0maverage_mode\u001b[0m\u001b[1;33m(\u001b[0m\u001b[1;34m'point'\u001b[0m\u001b[1;33m)\u001b[0m\u001b[1;33m\u001b[0m\u001b[0m\n",
      "\u001b[1;31mNameError\u001b[0m: name 'PulseBlaster' is not defined"
     ]
    }
   ],
   "source": [
    "repetition_rate = 0.01\n",
    "\n",
    "configure_PulsBlaster(PulseBlaster, repetition_rate)\n",
    "configure_ArbStudio(ArbStudio, repetition_rate)\n",
    "ATS_controller.average_mode('point')\n",
    "samples_per_record = int(16 * round(float(ATS.sample_rate()*repetition_rate*0.7)/16))\n",
    "ATS_controller.set_acquisitionkwargs(buffer_timeout=5000,\n",
    "                                     samples_per_record=samples_per_record,\n",
    "                                     records_per_buffer=1,\n",
    "                                     buffers_per_acquisition=1,\n",
    "                                     channel_selection='A')"
   ]
  },
  {
   "cell_type": "code",
   "execution_count": 8,
   "metadata": {
    "collapsed": false
   },
   "outputs": [
    {
     "name": "stdout",
     "output_type": "stream",
     "text": [
      "No loop running\n"
     ]
    }
   ],
   "source": [
    "ArbStudio.stop()\n",
    "PulseBlaster.stop()\n",
    "\n",
    "qc.halt_bg()"
   ]
  },
  {
   "cell_type": "code",
   "execution_count": 9,
   "metadata": {
    "collapsed": false
   },
   "outputs": [
    {
     "name": "stdout",
     "output_type": "stream",
     "text": [
      "DataSet:\n",
      "   mode     = DataMode.PULL_FROM_SERVER\n",
      "   location = 'data/2016-08-20/#070_testsweep_17-04-14'\n",
      "   <Type>   | <array_id>                   | <array.name>     | <array.shape>\n",
      "   Setpoint | SIM900_chan4_set             | chan4            | (100,)\n",
      "   Setpoint | SIM900_chan7_set             | chan7            | (100, 100)\n",
      "   Measured | ATS_control_Channel_A_signal | Channel_A_signal | (100, 100)\n",
      "started at 2016-08-20 17:04:14\n"
     ]
    }
   ],
   "source": [
    "ArbStudio.run([3])\n",
    "PulseBlaster.start()\n",
    "data = qc.Loop(TGAC[1:2:0.01], delay=0.001).loop(DS[2:3:0.01]).each(qc.Task(DF,DS),\n",
    "    ATS_controller.acquisition).run(name='testsweep', progress_interval=True)"
   ]
  },
  {
   "cell_type": "code",
   "execution_count": null,
   "metadata": {
    "collapsed": true
   },
   "outputs": [],
   "source": [
    "data = qc.Loop(dummy(1:, delay=0.01).each(\n",
    "    ATS_controller.acquisition).run(name='testsweep', progress_interval=True)"
   ]
  },
  {
   "cell_type": "markdown",
   "metadata": {},
   "source": [
    "# Single shots"
   ]
  },
  {
   "cell_type": "code",
   "execution_count": 3,
   "metadata": {
    "collapsed": true
   },
   "outputs": [],
   "source": [
    "import qcodes.instrument_drivers.AlazarTech.ATS9440 as ATS_driver\n",
    "import qcodes.instrument_drivers.AlazarTech.ATS_acquisition_controllers as ATS_controller_driver\n",
    "\n",
    "for instrument_name in ['ATS', 'ATS_controller']:\n",
    "    try_close_instruments(instrument_name)\n",
    "    eval('reload({}_driver)'.format(instrument_name))\n",
    "ATS = ATS_driver.ATS9440('ATS', server_name='Alazar_server')\n",
    "ATS_controller = ATS_controller_driver.Average_AcquisitionController(name='ATS_control', \n",
    "                                                           alazar_name='ATS',\n",
    "                                                           server_name='Alazar_server')\n",
    "# Configure ATS and ATS_controller\n",
    "ATS.config(trigger_source1='CHANNEL_C',\n",
    "           trigger_level1=135,\n",
    "           channel_range=2,\n",
    "           sample_rate=1e6,\n",
    "           coupling='DC')\n",
    "\n",
    "load_duration = 5 # ms\n",
    "read_duration = 20 # ms\n",
    "empty_duration = 5 # ms\n",
    "\n",
    "load_pts = round(load_duration/1e3*ATS.sample_rate())\n",
    "read_pts = round(read_duration/1e3*ATS.sample_rate())\n",
    "empty_pts = round(empty_duration/1e3*ATS.sample_rate())"
   ]
  },
  {
   "cell_type": "code",
   "execution_count": 320,
   "metadata": {
    "collapsed": false
   },
   "outputs": [
    {
     "name": "stdout",
     "output_type": "stream",
     "text": [
      "Wall time: 6.32 s\n"
     ]
    }
   ],
   "source": [
    "read_length=0.03\n",
    "plot = False\n",
    "\n",
    "ATS_controller.average_mode('none')\n",
    "samples_per_record = int(16 * round(float(ATS.sample_rate()*read_length)/16))\n",
    "ATS_controller.set_acquisitionkwargs(buffer_timeout=5000,\n",
    "                                     samples_per_record=samples_per_record,\n",
    "                                     records_per_buffer=1,\n",
    "                                     buffers_per_acquisition=100,\n",
    "                                     channel_selection='AC')\n",
    "%time data, data_awg = ATS_controller.acquisition()\n",
    "load_data = data[:,:load_pts]\n",
    "read_data = data[:,load_pts:load_pts+read_pts]\n",
    "empty_data = data[:,load_pts+read_pts:]\n",
    "\n",
    "if plot:\n",
    "    plt.figure()\n",
    "    plt.pcolormesh(range(samples_per_record), \n",
    "                 range(np.shape(data)[0]), data)\n",
    "    plt.xlim([0,samples_per_record])\n",
    "    plt.colorbar()\n",
    "\n",
    "    fig, axes = plt.subplots(len(data), sharex=True)\n",
    "    for k, trace in enumerate(data):\n",
    "        axes[k].plot(trace)\n",
    "        axes[k].plot(trace > 0.5)\n",
    "        axes[k].plot([1]*load_pts+[0.5]*read_pts+[0]*empty_pts)"
   ]
  },
  {
   "cell_type": "code",
   "execution_count": 338,
   "metadata": {
    "collapsed": false
   },
   "outputs": [
    {
     "data": {
      "text/plain": [
       "<Container object of 30 artists>"
      ]
     },
     "execution_count": 338,
     "metadata": {},
     "output_type": "execute_result"
    },
    {
     "data": {
      "image/png": "[encoded data removed]",
      "text/plain": [
       "<matplotlib.figure.Figure at 0x1ba41208>"
      ]
     },
     "metadata": {},
     "output_type": "display_data"
    }
   ],
   "source": [
    "final_conductance_idx_list = analyse_read(read_data)\n",
    "hist, bins = np.histogram(final_conductance_idx_list, bins=30, range=[0,read_pts])\n",
    "plt.figure()\n",
    "plt.bar(bins[:-1], hist)"
   ]
  },
  {
   "cell_type": "code",
   "execution_count": 370,
   "metadata": {
    "collapsed": false
   },
   "outputs": [
    {
     "name": "stdout",
     "output_type": "stream",
     "text": [
      "Loading fidelity: 91.5%\n",
      "Reading fidelity: 9736.2%\n",
      "Emptying fidelity: 80.4%\n"
     ]
    }
   ],
   "source": [
    "print('Loading fidelity: {:.1f}%'.format(100*analyse_load(load_data)))\n",
    "print('Reading fidelity: {:.0f}%'.format(analyse_read(read_data)))\n",
    "print('Emptying fidelity: {:.1f}%'.format(100*analyse_empty(empty_data)))"
   ]
  },
  {
   "cell_type": "code",
   "execution_count": null,
   "metadata": {
    "collapsed": true
   },
   "outputs": [],
   "source": [
    "analyse_read(read_data)"
   ]
  },
  {
   "cell_type": "code",
   "execution_count": 368,
   "metadata": {
    "collapsed": true
   },
   "outputs": [],
   "source": [
    "def analyse_read(data):\n",
    "    low, high, threshold_voltage = find_high_low(data)\n",
    "    \n",
    "    # Filter out the traces that start off \n",
    "    idx_loaded = edge_voltage(data, edge='begin', state='low')\n",
    "    data_loaded = data[np.array(idx_loaded)]\n",
    "    \n",
    "    # Filter out the traces that at some point have conductance\n",
    "    # Assume that if there is current, the electron must have been up\n",
    "#     data_up = np.array([datarow for datarow in data_loaded if np.max(datarow) > threshold])\n",
    "    # \n",
    "    final_conductance_idx_list = [max(np.where(datarow > threshold_voltage)[0]) \n",
    "                             for datarow in data_loaded \n",
    "                             if np.max(datarow) > threshold_voltage]\n",
    "    return np.mean(final_conductance_idx_list)\n",
    "\n",
    "def analyse_load(data):\n",
    "    # Filter data that starts at high conductance (no electron)\n",
    "    idx_begin_empty = edge_voltage(data,edge='begin', state='high')\n",
    "    data_begin_empty = data[np.array(idx_begin_empty)]\n",
    "    \n",
    "    idx_end_load = edge_voltage(data_begin_empty, edge='end', state='low')\n",
    "    return sum(idx_end_load)/ sum(idx_begin_empty)\n",
    "    \n",
    "def analyse_empty(data):\n",
    "    # Filter data that starts at high conductance (no electron)\n",
    "    idx_begin_load = edge_voltage(data,edge='begin', state='low')\n",
    "    data_begin_load = data[np.array(idx_begin_load)]\n",
    "    \n",
    "    idx_end_empty = edge_voltage(data_begin_load, edge='end', state='high')\n",
    "    return sum(idx_end_empty)/ sum(idx_begin_load)\n"
   ]
  },
  {
   "cell_type": "markdown",
   "metadata": {},
   "source": [
    "## Analysis"
   ]
  },
  {
   "cell_type": "code",
   "execution_count": 299,
   "metadata": {
    "collapsed": false
   },
   "outputs": [],
   "source": [
    "def find_high_low(data, plot=False):\n",
    "    hist, bin_edges = np.histogram(np.ravel(data), bins=30)\n",
    "    peaks_idx = np.sort(peakutils.indexes(hist, thres=0.02,min_dist = 5))\n",
    "    assert len(peaks_idx)==2, 'Found {} peaks instead of two'.format(len(peaks_idx))\n",
    "    \n",
    "    #Find threshold, mean low, and mean high voltages\n",
    "    threshold_idx = int(round(np.mean(peaks_idx)))\n",
    "    threshold_voltage = bin_edges[threshold_idx]\n",
    "\n",
    "    # Create dictionaries containing information about the low, high state\n",
    "    low, high = {},{}\n",
    "    low['data'] = data[data < threshold_voltage]\n",
    "    high['data'] = data[data > threshold_voltage]\n",
    "    for signal in [low, high]:\n",
    "        signal['mean'] = np.mean(signal['data'])\n",
    "        signal['std'] = np.std(signal['data'])\n",
    "    SNR = (high['mean'] - low['mean'])/np.sqrt(high['std']**2 + low['std']**2)\n",
    "    assert SNR > 3, 'Signal to noise ratio {} is too low'.format(SNR)\n",
    "\n",
    "    # Plotting\n",
    "    if plot:\n",
    "        plt.figure()\n",
    "        for k, signal in enumerate([low, high]):\n",
    "            sub_hist, sub_bin_edges = np.histogram(np.ravel(signal['data']), bins=10)\n",
    "            plt.bar(sub_bin_edges[:-1], sub_hist, width=0.05, color='bg'[k])\n",
    "            plt.plot(signal['mean'], 100, 'or', ms=12)\n",
    "\n",
    "        plt.plot(bin_edges[:-1][peaks_idx], hist[peaks_idx], 'or', ms=12)\n",
    "    return low, high, threshold_voltage\n",
    "\n",
    "def edge_voltage(data, edge, state, points=4):\n",
    "    assert edge in ['begin', 'end'], 'Edge {} must be either \"begin\" or \"end\"'.format(edge)\n",
    "    assert state in ['low', 'high'], 'State {} must be either \"low\" or \"high\"'.format(state)\n",
    "    idx_list = slice(None, 4) if edge=='begin' else slice(-4,None)\n",
    "    \n",
    "    low, high, threshold_voltage = find_high_low(data)\n",
    "    if state == 'low':\n",
    "        success = [np.mean(trace[idx_list]) < threshold_voltage for trace in data]\n",
    "    else:\n",
    "        success = [np.mean(trace[idx_list]) > threshold_voltage for trace in data]\n",
    "    return success\n",
    "\n"
   ]
  }
 ],
 "metadata": {
  "anaconda-cloud": {},
  "kernelspec": {
   "display_name": "Python [Root]",
   "language": "python",
   "name": "Python [Root]"
  },
  "language_info": {
   "codemirror_mode": {
    "name": "ipython",
    "version": 3
   },
   "file_extension": ".py",
   "mimetype": "text/x-python",
   "name": "python",
   "nbconvert_exporter": "python",
   "pygments_lexer": "ipython3",
   "version": "3.5.2"
  }
 },
 "nbformat": 4,
 "nbformat_minor": 0
}
