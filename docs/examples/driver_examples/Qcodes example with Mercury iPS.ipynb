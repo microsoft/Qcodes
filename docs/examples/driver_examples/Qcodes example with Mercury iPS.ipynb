{
 "cells": [
  {
   "cell_type": "markdown",
   "metadata": {},
   "source": [
    "# QCodes example with Mercury iPS"
   ]
  },
  {
   "cell_type": "markdown",
   "metadata": {},
   "source": [
    "## Initial instantiation/connection"
   ]
  },
  {
   "cell_type": "code",
   "execution_count": 1,
   "metadata": {
    "collapsed": true
   },
   "outputs": [],
   "source": [
    "from qcodes.instrument_drivers.oxford.MercuryiPS_VISA import MercuryiPS\n",
    "from time import sleep"
   ]
  },
  {
   "cell_type": "code",
   "execution_count": 2,
   "metadata": {},
   "outputs": [
    {
     "name": "stdout",
     "output_type": "stream",
     "text": [
      "Connected to: OXFORD INSTRUMENTS MERCURY IPS (serial:170150002, firmware:2.5.08.000) in 0.10s\n"
     ]
    }
   ],
   "source": [
    "# Note that the MercuryiPS_VISA is a VISA instrument using\n",
    "# a socket connection. The VISA resource name therefore \n",
    "# contains the port number and the word 'SOCKET'\n",
    "mips = MercuryiPS('mips', 'TCPIP0::192.168.15.106::7020::SOCKET')"
   ]
  },
  {
   "cell_type": "markdown",
   "metadata": {},
   "source": [
    "## Basic driver idea\n",
    "\n",
    "The driver mainly deals with **field values** in Tesla. The driver is aware of the field values in three coordinate systems, cartesian, spherical, and cylindrical. The driver thus exposes the field coordinates x, y, z, phi, theta, rho, and r. Each coordinate comes in two versions: **target** and **measured**.\n",
    "\n",
    "The idea is that the magnetic field is always changed in two steps; first a target is set, then the magnet is asked to ramp to said target."
   ]
  },
  {
   "cell_type": "markdown",
   "metadata": {},
   "source": [
    "## Safe regions\n",
    "\n",
    "In addition to the safety limits baked in to the physical instrument, the driver can accept a safety limit function provided by the user. The function checks - upon receiving a new field target - whether the target is inside an allowed region.\n",
    "\n",
    "The limit function must take input arguments Bx, By, Bz (in Tesla) and return a boolean that tells us whether that field value is safe."
   ]
  },
  {
   "cell_type": "code",
   "execution_count": 3,
   "metadata": {},
   "outputs": [],
   "source": [
    "# example: the safe region is a sphere\n",
    "import numpy as np\n",
    "\n",
    "\n",
    "def spherical_limit(x, y, z):\n",
    "    \"\"\"\n",
    "    Safe region is a sphere of radius 1 T\n",
    "    \"\"\"\n",
    "    return np.sqrt(x**2 + y**2 + z**2) <= 1\n",
    "\n",
    "# assign the limit function (this can also be done at init)\n",
    "mips.set_new_field_limits(spherical_limit)"
   ]
  },
  {
   "cell_type": "markdown",
   "metadata": {},
   "source": [
    "## Two different ramps\n",
    "\n",
    "The driver can perfom the ramp in two different ways: *simultaneous* ramping or *safe* ramping.\n",
    "\n",
    "When simultaneously ramping, all three field components are ramped at the same time.\n",
    "This method is non-blocking, and it is thus possible to query the field while it is ramping. The method does, however, **not** guarantee that the field stays inside the allowed region during the ramp. If the different axes have different ramp speeds, this is a real risk.\n",
    "\n",
    "When safely ramping, all field components that are ramped *towards* the origin are ramped before those who are ramped *away from* the origin. The ramp is thus sequential and blocking, but if the safe region is convex (and contains the origin), you are guaranteed the the field never exceeds the safe region."
   ]
  },
  {
   "cell_type": "markdown",
   "metadata": {},
   "source": [
    "## Parameter overview"
   ]
  },
  {
   "cell_type": "code",
   "execution_count": 4,
   "metadata": {},
   "outputs": [
    {
     "name": "stdout",
     "output_type": "stream",
     "text": [
      "mips:\n",
      "\tparameter     value\n",
      "--------------------------------------------------------------------------------\n",
      "IDN            :\t{'model': 'MERCURY IPS', 'vendor': 'OXFORD INSTRUMENTS', 'se...\n",
      "phi_measured   :\t0 (T)\n",
      "phi_target     :\t-0 (T)\n",
      "r_measured     :\t0 (T)\n",
      "r_target       :\t0 (T)\n",
      "rho_measured   :\t0 (T)\n",
      "rho_target     :\t0 (T)\n",
      "theta_measured :\t0 (T)\n",
      "theta_target   :\t0 (T)\n",
      "timeout        :\t5 (s)\n",
      "x_measured     :\t0 (T)\n",
      "x_target       :\t0 (T)\n",
      "y_measured     :\t0 (T)\n",
      "y_target       :\t-0 (T)\n",
      "z_measured     :\t-0 (T)\n",
      "z_target       :\t-0 (T)\n",
      "mips_GRPX:\n",
      "\tparameter         value\n",
      "--------------------------------------------------------------------------------\n",
      "ATOB               :\t59.451 (A/T)\n",
      "current            :\t0.0006 (A)\n",
      "current_persistent :\t0.0006 (A)\n",
      "current_ramp_rate  :\t0.59451 (A/s)\n",
      "current_target     :\t0 (A)\n",
      "field              :\t0 (T)\n",
      "field_persistent   :\t0 (T)\n",
      "field_ramp_rate    :\t0.01 (T/s)\n",
      "field_target       :\t0 (T)\n",
      "ramp_status        :\tHOLD \n",
      "voltage            :\t-0.0003 (V)\n",
      "mips_GRPY:\n",
      "\tparameter         value\n",
      "--------------------------------------------------------------------------------\n",
      "ATOB               :\t59.301 (A/T)\n",
      "current            :\t0 (A)\n",
      "current_persistent :\t0 (A)\n",
      "current_ramp_rate  :\t0.59301 (A/s)\n",
      "current_target     :\t0 (A)\n",
      "field              :\t0 (T)\n",
      "field_persistent   :\t0 (T)\n",
      "field_ramp_rate    :\t0.01 (T/s)\n",
      "field_target       :\t0 (T)\n",
      "ramp_status        :\tHOLD \n",
      "voltage            :\t-0.0002 (V)\n",
      "mips_GRPZ:\n",
      "\tparameter         value\n",
      "--------------------------------------------------------------------------------\n",
      "ATOB               :\t18.168 (A/T)\n",
      "current            :\t-0.0001 (A)\n",
      "current_persistent :\t-0.0001 (A)\n",
      "current_ramp_rate  :\t0.18168 (A/s)\n",
      "current_target     :\t0 (A)\n",
      "field              :\t-0 (T)\n",
      "field_persistent   :\t-0 (T)\n",
      "field_ramp_rate    :\t0.01 (T/s)\n",
      "field_target       :\t0 (T)\n",
      "ramp_status        :\tHOLD \n",
      "voltage            :\t0.0001 (V)\n"
     ]
    }
   ],
   "source": [
    "mips.print_readable_snapshot(update=True)"
   ]
  },
  {
   "cell_type": "markdown",
   "metadata": {},
   "source": [
    "## Ramp examples"
   ]
  },
  {
   "cell_type": "markdown",
   "metadata": {},
   "source": [
    "### First example: invalid targets"
   ]
  },
  {
   "cell_type": "code",
   "execution_count": 5,
   "metadata": {},
   "outputs": [
    {
     "ename": "ValueError",
     "evalue": "('Cannot set y target to 0.5, that would violate the field_limits. ', 'setting mips_y_target to 0.5')",
     "output_type": "error",
     "traceback": [
      "\u001b[1;31m---------------------------------------------------------------------------\u001b[0m",
      "\u001b[1;31mValueError\u001b[0m                                Traceback (most recent call last)",
      "\u001b[1;32m<ipython-input-5-a6fc2471013f>\u001b[0m in \u001b[0;36m<module>\u001b[1;34m()\u001b[0m\n\u001b[0;32m      1\u001b[0m \u001b[0mmips\u001b[0m\u001b[1;33m.\u001b[0m\u001b[0mx_target\u001b[0m\u001b[1;33m(\u001b[0m\u001b[1;36m1\u001b[0m\u001b[1;33m)\u001b[0m  \u001b[1;31m# so far, so good\u001b[0m\u001b[1;33m\u001b[0m\u001b[0m\n\u001b[1;32m----> 2\u001b[1;33m \u001b[0mmips\u001b[0m\u001b[1;33m.\u001b[0m\u001b[0my_target\u001b[0m\u001b[1;33m(\u001b[0m\u001b[1;36m0.5\u001b[0m\u001b[1;33m)\u001b[0m  \u001b[1;31m# this takes us out of the unit sphere\u001b[0m\u001b[1;33m\u001b[0m\u001b[0m\n\u001b[0m",
      "\u001b[1;32mc:\\users\\qcodes-william\\desktop\\qcodes\\qcodes\\instrument\\parameter.py\u001b[0m in \u001b[0;36m__call__\u001b[1;34m(self, *args, **kwargs)\u001b[0m\n\u001b[0;32m    284\u001b[0m         \u001b[1;32melse\u001b[0m\u001b[1;33m:\u001b[0m\u001b[1;33m\u001b[0m\u001b[0m\n\u001b[0;32m    285\u001b[0m             \u001b[1;32mif\u001b[0m \u001b[0mhasattr\u001b[0m\u001b[1;33m(\u001b[0m\u001b[0mself\u001b[0m\u001b[1;33m,\u001b[0m \u001b[1;34m'set'\u001b[0m\u001b[1;33m)\u001b[0m\u001b[1;33m:\u001b[0m\u001b[1;33m\u001b[0m\u001b[0m\n\u001b[1;32m--> 286\u001b[1;33m                 \u001b[0mself\u001b[0m\u001b[1;33m.\u001b[0m\u001b[0mset\u001b[0m\u001b[1;33m(\u001b[0m\u001b[1;33m*\u001b[0m\u001b[0margs\u001b[0m\u001b[1;33m,\u001b[0m \u001b[1;33m**\u001b[0m\u001b[0mkwargs\u001b[0m\u001b[1;33m)\u001b[0m\u001b[1;33m\u001b[0m\u001b[0m\n\u001b[0m\u001b[0;32m    287\u001b[0m             \u001b[1;32melse\u001b[0m\u001b[1;33m:\u001b[0m\u001b[1;33m\u001b[0m\u001b[0m\n\u001b[0;32m    288\u001b[0m                 raise NotImplementedError('no set cmd found in' +\n",
      "\u001b[1;32mc:\\users\\qcodes-william\\desktop\\qcodes\\qcodes\\instrument\\parameter.py\u001b[0m in \u001b[0;36mset_wrapper\u001b[1;34m(value, **kwargs)\u001b[0m\n\u001b[0;32m    478\u001b[0m             \u001b[1;32mexcept\u001b[0m \u001b[0mException\u001b[0m \u001b[1;32mas\u001b[0m \u001b[0me\u001b[0m\u001b[1;33m:\u001b[0m\u001b[1;33m\u001b[0m\u001b[0m\n\u001b[0;32m    479\u001b[0m                 \u001b[0me\u001b[0m\u001b[1;33m.\u001b[0m\u001b[0margs\u001b[0m \u001b[1;33m=\u001b[0m \u001b[0me\u001b[0m\u001b[1;33m.\u001b[0m\u001b[0margs\u001b[0m \u001b[1;33m+\u001b[0m \u001b[1;33m(\u001b[0m\u001b[1;34m'setting {} to {}'\u001b[0m\u001b[1;33m.\u001b[0m\u001b[0mformat\u001b[0m\u001b[1;33m(\u001b[0m\u001b[0mself\u001b[0m\u001b[1;33m,\u001b[0m \u001b[0mvalue\u001b[0m\u001b[1;33m)\u001b[0m\u001b[1;33m,\u001b[0m\u001b[1;33m)\u001b[0m\u001b[1;33m\u001b[0m\u001b[0m\n\u001b[1;32m--> 480\u001b[1;33m                 \u001b[1;32mraise\u001b[0m \u001b[0me\u001b[0m\u001b[1;33m\u001b[0m\u001b[0m\n\u001b[0m\u001b[0;32m    481\u001b[0m \u001b[1;33m\u001b[0m\u001b[0m\n\u001b[0;32m    482\u001b[0m         \u001b[1;32mreturn\u001b[0m \u001b[0mset_wrapper\u001b[0m\u001b[1;33m\u001b[0m\u001b[0m\n",
      "\u001b[1;32mc:\\users\\qcodes-william\\desktop\\qcodes\\qcodes\\instrument\\parameter.py\u001b[0m in \u001b[0;36mset_wrapper\u001b[1;34m(value, **kwargs)\u001b[0m\n\u001b[0;32m    462\u001b[0m                     \u001b[0mt0\u001b[0m \u001b[1;33m=\u001b[0m \u001b[0mtime\u001b[0m\u001b[1;33m.\u001b[0m\u001b[0mperf_counter\u001b[0m\u001b[1;33m(\u001b[0m\u001b[1;33m)\u001b[0m\u001b[1;33m\u001b[0m\u001b[0m\n\u001b[0;32m    463\u001b[0m \u001b[1;33m\u001b[0m\u001b[0m\n\u001b[1;32m--> 464\u001b[1;33m                     \u001b[0mset_function\u001b[0m\u001b[1;33m(\u001b[0m\u001b[0mraw_value\u001b[0m\u001b[1;33m,\u001b[0m \u001b[1;33m**\u001b[0m\u001b[0mkwargs\u001b[0m\u001b[1;33m)\u001b[0m\u001b[1;33m\u001b[0m\u001b[0m\n\u001b[0m\u001b[0;32m    465\u001b[0m                     \u001b[0mself\u001b[0m\u001b[1;33m.\u001b[0m\u001b[0mraw_value\u001b[0m \u001b[1;33m=\u001b[0m \u001b[0mraw_value\u001b[0m\u001b[1;33m\u001b[0m\u001b[0m\n\u001b[0;32m    466\u001b[0m                     self._save_val(val_step,\n",
      "\u001b[1;32mc:\\users\\qcodes-william\\desktop\\qcodes\\qcodes\\utils\\command.py\u001b[0m in \u001b[0;36m__call__\u001b[1;34m(self, *args)\u001b[0m\n\u001b[0;32m    175\u001b[0m             raise TypeError(\n\u001b[0;32m    176\u001b[0m                 'command takes exactly {} args'.format(self.arg_count))\n\u001b[1;32m--> 177\u001b[1;33m         \u001b[1;32mreturn\u001b[0m \u001b[0mself\u001b[0m\u001b[1;33m.\u001b[0m\u001b[0mexec_function\u001b[0m\u001b[1;33m(\u001b[0m\u001b[1;33m*\u001b[0m\u001b[0margs\u001b[0m\u001b[1;33m)\u001b[0m\u001b[1;33m\u001b[0m\u001b[0m\n\u001b[0m",
      "\u001b[1;32mc:\\users\\qcodes-william\\desktop\\qcodes\\qcodes\\instrument_drivers\\oxford\\MercuryiPS_VISA.py\u001b[0m in \u001b[0;36m_set_target\u001b[1;34m(self, coordinate, target)\u001b[0m\n\u001b[0;32m    300\u001b[0m \u001b[1;33m\u001b[0m\u001b[0m\n\u001b[0;32m    301\u001b[0m         \u001b[1;32mif\u001b[0m \u001b[1;32mnot\u001b[0m \u001b[0mself\u001b[0m\u001b[1;33m.\u001b[0m\u001b[0m_field_limits\u001b[0m\u001b[1;33m(\u001b[0m\u001b[1;33m*\u001b[0m\u001b[0mvalid_vec\u001b[0m\u001b[1;33m.\u001b[0m\u001b[0mget_components\u001b[0m\u001b[1;33m(\u001b[0m\u001b[1;34m'x'\u001b[0m\u001b[1;33m,\u001b[0m \u001b[1;34m'y'\u001b[0m\u001b[1;33m,\u001b[0m \u001b[1;34m'z'\u001b[0m\u001b[1;33m)\u001b[0m\u001b[1;33m)\u001b[0m\u001b[1;33m:\u001b[0m\u001b[1;33m\u001b[0m\u001b[0m\n\u001b[1;32m--> 302\u001b[1;33m             raise ValueError(f'Cannot set {coordinate} target to {target}, '\n\u001b[0m\u001b[0;32m    303\u001b[0m                              'that would violate the field_limits. ')\n\u001b[0;32m    304\u001b[0m \u001b[1;33m\u001b[0m\u001b[0m\n",
      "\u001b[1;31mValueError\u001b[0m: ('Cannot set y target to 0.5, that would violate the field_limits. ', 'setting mips_y_target to 0.5')"
     ]
    }
   ],
   "source": [
    "mips.x_target(1)  # so far, so good\n",
    "mips.y_target(0.5)  # this takes us out of the unit sphere"
   ]
  },
  {
   "cell_type": "code",
   "execution_count": 6,
   "metadata": {},
   "outputs": [
    {
     "ename": "ValueError",
     "evalue": "('Cannot set r target to 1.1, that would violate the field_limits. ', 'setting mips_r_target to 1.1')",
     "output_type": "error",
     "traceback": [
      "\u001b[1;31m---------------------------------------------------------------------------\u001b[0m",
      "\u001b[1;31mValueError\u001b[0m                                Traceback (most recent call last)",
      "\u001b[1;32m<ipython-input-6-9253033a050c>\u001b[0m in \u001b[0;36m<module>\u001b[1;34m()\u001b[0m\n\u001b[0;32m      1\u001b[0m \u001b[1;31m# reset and try in a different coordinate system\u001b[0m\u001b[1;33m\u001b[0m\u001b[1;33m\u001b[0m\u001b[0m\n\u001b[0;32m      2\u001b[0m \u001b[0mmips\u001b[0m\u001b[1;33m.\u001b[0m\u001b[0mx_target\u001b[0m\u001b[1;33m(\u001b[0m\u001b[1;36m0\u001b[0m\u001b[1;33m)\u001b[0m\u001b[1;33m\u001b[0m\u001b[0m\n\u001b[1;32m----> 3\u001b[1;33m \u001b[0mmips\u001b[0m\u001b[1;33m.\u001b[0m\u001b[0mr_target\u001b[0m\u001b[1;33m(\u001b[0m\u001b[1;36m1.1\u001b[0m\u001b[1;33m)\u001b[0m\u001b[1;33m\u001b[0m\u001b[0m\n\u001b[0m",
      "\u001b[1;32mc:\\users\\qcodes-william\\desktop\\qcodes\\qcodes\\instrument\\parameter.py\u001b[0m in \u001b[0;36m__call__\u001b[1;34m(self, *args, **kwargs)\u001b[0m\n\u001b[0;32m    284\u001b[0m         \u001b[1;32melse\u001b[0m\u001b[1;33m:\u001b[0m\u001b[1;33m\u001b[0m\u001b[0m\n\u001b[0;32m    285\u001b[0m             \u001b[1;32mif\u001b[0m \u001b[0mhasattr\u001b[0m\u001b[1;33m(\u001b[0m\u001b[0mself\u001b[0m\u001b[1;33m,\u001b[0m \u001b[1;34m'set'\u001b[0m\u001b[1;33m)\u001b[0m\u001b[1;33m:\u001b[0m\u001b[1;33m\u001b[0m\u001b[0m\n\u001b[1;32m--> 286\u001b[1;33m                 \u001b[0mself\u001b[0m\u001b[1;33m.\u001b[0m\u001b[0mset\u001b[0m\u001b[1;33m(\u001b[0m\u001b[1;33m*\u001b[0m\u001b[0margs\u001b[0m\u001b[1;33m,\u001b[0m \u001b[1;33m**\u001b[0m\u001b[0mkwargs\u001b[0m\u001b[1;33m)\u001b[0m\u001b[1;33m\u001b[0m\u001b[0m\n\u001b[0m\u001b[0;32m    287\u001b[0m             \u001b[1;32melse\u001b[0m\u001b[1;33m:\u001b[0m\u001b[1;33m\u001b[0m\u001b[0m\n\u001b[0;32m    288\u001b[0m                 raise NotImplementedError('no set cmd found in' +\n",
      "\u001b[1;32mc:\\users\\qcodes-william\\desktop\\qcodes\\qcodes\\instrument\\parameter.py\u001b[0m in \u001b[0;36mset_wrapper\u001b[1;34m(value, **kwargs)\u001b[0m\n\u001b[0;32m    478\u001b[0m             \u001b[1;32mexcept\u001b[0m \u001b[0mException\u001b[0m \u001b[1;32mas\u001b[0m \u001b[0me\u001b[0m\u001b[1;33m:\u001b[0m\u001b[1;33m\u001b[0m\u001b[0m\n\u001b[0;32m    479\u001b[0m                 \u001b[0me\u001b[0m\u001b[1;33m.\u001b[0m\u001b[0margs\u001b[0m \u001b[1;33m=\u001b[0m \u001b[0me\u001b[0m\u001b[1;33m.\u001b[0m\u001b[0margs\u001b[0m \u001b[1;33m+\u001b[0m \u001b[1;33m(\u001b[0m\u001b[1;34m'setting {} to {}'\u001b[0m\u001b[1;33m.\u001b[0m\u001b[0mformat\u001b[0m\u001b[1;33m(\u001b[0m\u001b[0mself\u001b[0m\u001b[1;33m,\u001b[0m \u001b[0mvalue\u001b[0m\u001b[1;33m)\u001b[0m\u001b[1;33m,\u001b[0m\u001b[1;33m)\u001b[0m\u001b[1;33m\u001b[0m\u001b[0m\n\u001b[1;32m--> 480\u001b[1;33m                 \u001b[1;32mraise\u001b[0m \u001b[0me\u001b[0m\u001b[1;33m\u001b[0m\u001b[0m\n\u001b[0m\u001b[0;32m    481\u001b[0m \u001b[1;33m\u001b[0m\u001b[0m\n\u001b[0;32m    482\u001b[0m         \u001b[1;32mreturn\u001b[0m \u001b[0mset_wrapper\u001b[0m\u001b[1;33m\u001b[0m\u001b[0m\n",
      "\u001b[1;32mc:\\users\\qcodes-william\\desktop\\qcodes\\qcodes\\instrument\\parameter.py\u001b[0m in \u001b[0;36mset_wrapper\u001b[1;34m(value, **kwargs)\u001b[0m\n\u001b[0;32m    462\u001b[0m                     \u001b[0mt0\u001b[0m \u001b[1;33m=\u001b[0m \u001b[0mtime\u001b[0m\u001b[1;33m.\u001b[0m\u001b[0mperf_counter\u001b[0m\u001b[1;33m(\u001b[0m\u001b[1;33m)\u001b[0m\u001b[1;33m\u001b[0m\u001b[0m\n\u001b[0;32m    463\u001b[0m \u001b[1;33m\u001b[0m\u001b[0m\n\u001b[1;32m--> 464\u001b[1;33m                     \u001b[0mset_function\u001b[0m\u001b[1;33m(\u001b[0m\u001b[0mraw_value\u001b[0m\u001b[1;33m,\u001b[0m \u001b[1;33m**\u001b[0m\u001b[0mkwargs\u001b[0m\u001b[1;33m)\u001b[0m\u001b[1;33m\u001b[0m\u001b[0m\n\u001b[0m\u001b[0;32m    465\u001b[0m                     \u001b[0mself\u001b[0m\u001b[1;33m.\u001b[0m\u001b[0mraw_value\u001b[0m \u001b[1;33m=\u001b[0m \u001b[0mraw_value\u001b[0m\u001b[1;33m\u001b[0m\u001b[0m\n\u001b[0;32m    466\u001b[0m                     self._save_val(val_step,\n",
      "\u001b[1;32mc:\\users\\qcodes-william\\desktop\\qcodes\\qcodes\\utils\\command.py\u001b[0m in \u001b[0;36m__call__\u001b[1;34m(self, *args)\u001b[0m\n\u001b[0;32m    175\u001b[0m             raise TypeError(\n\u001b[0;32m    176\u001b[0m                 'command takes exactly {} args'.format(self.arg_count))\n\u001b[1;32m--> 177\u001b[1;33m         \u001b[1;32mreturn\u001b[0m \u001b[0mself\u001b[0m\u001b[1;33m.\u001b[0m\u001b[0mexec_function\u001b[0m\u001b[1;33m(\u001b[0m\u001b[1;33m*\u001b[0m\u001b[0margs\u001b[0m\u001b[1;33m)\u001b[0m\u001b[1;33m\u001b[0m\u001b[0m\n\u001b[0m",
      "\u001b[1;32mc:\\users\\qcodes-william\\desktop\\qcodes\\qcodes\\instrument_drivers\\oxford\\MercuryiPS_VISA.py\u001b[0m in \u001b[0;36m_set_target\u001b[1;34m(self, coordinate, target)\u001b[0m\n\u001b[0;32m    300\u001b[0m \u001b[1;33m\u001b[0m\u001b[0m\n\u001b[0;32m    301\u001b[0m         \u001b[1;32mif\u001b[0m \u001b[1;32mnot\u001b[0m \u001b[0mself\u001b[0m\u001b[1;33m.\u001b[0m\u001b[0m_field_limits\u001b[0m\u001b[1;33m(\u001b[0m\u001b[1;33m*\u001b[0m\u001b[0mvalid_vec\u001b[0m\u001b[1;33m.\u001b[0m\u001b[0mget_components\u001b[0m\u001b[1;33m(\u001b[0m\u001b[1;34m'x'\u001b[0m\u001b[1;33m,\u001b[0m \u001b[1;34m'y'\u001b[0m\u001b[1;33m,\u001b[0m \u001b[1;34m'z'\u001b[0m\u001b[1;33m)\u001b[0m\u001b[1;33m)\u001b[0m\u001b[1;33m:\u001b[0m\u001b[1;33m\u001b[0m\u001b[0m\n\u001b[1;32m--> 302\u001b[1;33m             raise ValueError(f'Cannot set {coordinate} target to {target}, '\n\u001b[0m\u001b[0;32m    303\u001b[0m                              'that would violate the field_limits. ')\n\u001b[0;32m    304\u001b[0m \u001b[1;33m\u001b[0m\u001b[0m\n",
      "\u001b[1;31mValueError\u001b[0m: ('Cannot set r target to 1.1, that would violate the field_limits. ', 'setting mips_r_target to 1.1')"
     ]
    }
   ],
   "source": [
    "# reset and try in a different coordinate system\n",
    "mips.x_target(0)\n",
    "mips.r_target(1.1)"
   ]
  },
  {
   "cell_type": "markdown",
   "metadata": {},
   "source": [
    "### Second example: simul ramps to the origin\n",
    "\n",
    "First we ramp the field to Bx = 1, By = 0, Bz = 0, the ramp it down to zero along theta=45, phi=30"
   ]
  },
  {
   "cell_type": "code",
   "execution_count": 7,
   "metadata": {},
   "outputs": [
    {
     "name": "stdout",
     "output_type": "stream",
     "text": [
      "Ramping X to 0.1 T, now at 0.0 T\n",
      "Ramping X to 0.1 T, now at 0.0 T\n",
      "Ramping X to 0.1 T, now at 0.0061 T\n",
      "Ramping X to 0.1 T, now at 0.0177 T\n",
      "Ramping X to 0.1 T, now at 0.0297 T\n",
      "Ramping X to 0.1 T, now at 0.0408 T\n",
      "Ramping X to 0.1 T, now at 0.0526 T\n",
      "Ramping X to 0.1 T, now at 0.0637 T\n",
      "Ramping X to 0.1 T, now at 0.0637 T\n",
      "Ramping X to 0.1 T, now at 0.0756 T\n",
      "Ramping X to 0.1 T, now at 0.0867 T\n",
      "Ramping X to 0.1 T, now at 0.0962 T\n",
      "Ramping X to 0.1 T, now at 0.0987 T\n",
      "Ramping X to 0.1 T, now at 0.0995 T\n",
      "Ramping X to 0.1 T, now at 0.0998 T\n",
      "Ramping X to 0.1 T, now at 0.0999 T\n",
      "Ramping X to 0.1 T, now at 0.1 T\n",
      "Ramping X to 0.1 T, now at 0.1 T\n",
      "Ramping X to 0.1 T, now at 0.1 T\n",
      "Ramping X to 0.1 T, now at 0.1 T\n"
     ]
    }
   ],
   "source": [
    "mips.GRPX.field_ramp_rate(0.01)\n",
    "mips.GRPY.field_ramp_rate(0.01)\n",
    "mips.GRPZ.field_ramp_rate(0.01)\n",
    "\n",
    "mips.x_target(0.1)\n",
    "\n",
    "mips.ramp(mode='simul')\n",
    "\n",
    "# since simul mode is non-blocking, \n",
    "# we can read out during the ramp\n",
    "for n in range(20):\n",
    "    print(f'Ramping X to {mips.x_target()} T, now at {mips.x_measured()} T')\n",
    "    sleep(1)"
   ]
  },
  {
   "cell_type": "code",
   "execution_count": 8,
   "metadata": {},
   "outputs": [
    {
     "name": "stdout",
     "output_type": "stream",
     "text": [
      "Ramping r to 0 T, now at 0.1 T\n",
      "Ramping r to 0 T, now at 0.1 T\n",
      "Ramping r to 0 T, now at 0.0938 T\n",
      "Ramping r to 0 T, now at 0.0814 T\n",
      "Ramping r to 0 T, now at 0.0702 T\n",
      "Ramping r to 0 T, now at 0.0583 T\n",
      "Ramping r to 0 T, now at 0.0472 T\n",
      "Ramping r to 0 T, now at 0.0354 T\n",
      "Ramping r to 0 T, now at 0.0354 T\n",
      "Ramping r to 0 T, now at 0.0235 T\n",
      "Ramping r to 0 T, now at 0.0124 T\n",
      "Ramping r to 0 T, now at 0.0031 T\n",
      "Ramping r to 0 T, now at 0.0012 T\n",
      "Ramping r to 0 T, now at 0.0004 T\n",
      "Ramping r to 0 T, now at 0.0002 T\n",
      "Ramping r to 0 T, now at 0.0001 T\n",
      "Ramping r to 0 T, now at 0.0001 T\n",
      "Ramping r to 0 T, now at 0.0 T\n",
      "Ramping r to 0 T, now at 0.0 T\n",
      "Ramping r to 0 T, now at 0.0 T\n"
     ]
    }
   ],
   "source": [
    "mips.theta_target(45)\n",
    "mips.phi_target(30)\n",
    "mips.r_target(0)\n",
    "\n",
    "mips.ramp(mode='simul')\n",
    "\n",
    "# since simul mode is non-blocking, \n",
    "# we can read out during the ramp\n",
    "for n in range(20):\n",
    "    print(f'Ramping r to {mips.r_target()} T, now at {mips.r_measured()} T')\n",
    "    sleep(1)"
   ]
  },
  {
   "cell_type": "markdown",
   "metadata": {},
   "source": [
    "### Third example: safe ramp away from the origin"
   ]
  },
  {
   "cell_type": "markdown",
   "metadata": {},
   "source": [
    "At the origin, we can not **measure** what theta and phi is, but the driver remembers it.\n",
    "\n",
    "If we ramp up again and measure, we should get back our target values. We use blocking safe ramp for this in order to not measure prematurely."
   ]
  },
  {
   "cell_type": "code",
   "execution_count": 9,
   "metadata": {},
   "outputs": [
    {
     "name": "stdout",
     "output_type": "stream",
     "text": [
      "Ramped back out again.\n",
      "Field values are: theta: 45.04086424151503, phi: 30.046435246810503\n"
     ]
    }
   ],
   "source": [
    "mips.r_target(0.05)\n",
    "\n",
    "mips.ramp(mode='safe')\n",
    "\n",
    "print('Ramped back out again.')\n",
    "print(f'Field values are: theta: {mips.theta_measured()}, phi: {mips.phi_measured()}')"
   ]
  },
  {
   "cell_type": "markdown",
   "metadata": {},
   "source": [
    "### That's it for now! Happy sweeping."
   ]
  },
  {
   "cell_type": "code",
   "execution_count": 10,
   "metadata": {
    "collapsed": true
   },
   "outputs": [],
   "source": [
    "# sweep back down for good measures\n",
    "mips.x_target(0)\n",
    "mips.y_target(0)\n",
    "mips.z_target(0)\n",
    "\n",
    "mips.ramp(mode='safe')\n",
    "\n",
    "mips.close()"
   ]
  },
  {
   "cell_type": "code",
   "execution_count": null,
   "metadata": {
    "collapsed": true
   },
   "outputs": [],
   "source": []
  }
 ],
 "metadata": {
  "kernelspec": {
   "display_name": "Python 3",
   "language": "python",
   "name": "python3"
  },
  "language_info": {
   "codemirror_mode": {
    "name": "ipython",
    "version": 3
   },
   "file_extension": ".py",
   "mimetype": "text/x-python",
   "name": "python",
   "nbconvert_exporter": "python",
   "pygments_lexer": "ipython3",
   "version": "3.6.2"
  },
  "nbsphinx": {
   "execute": "never"
  }
 },
 "nbformat": 4,
 "nbformat_minor": 2
}
