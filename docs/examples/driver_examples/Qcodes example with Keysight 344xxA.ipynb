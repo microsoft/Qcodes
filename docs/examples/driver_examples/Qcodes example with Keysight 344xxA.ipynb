{
 "cells": [
  {
   "cell_type": "markdown",
   "metadata": {},
   "source": [
    "# QCoDeS Example with Keysight 344xxA"
   ]
  },
  {
   "cell_type": "markdown",
   "metadata": {},
   "source": [
    "`344xxA` models of Keysight digital multimeters have similar QCoDeS drivers. In this tutorial, `Keysight_34465A` is chosen for showcasing the usage of the instrument.\n",
    "\n",
    "Note however that not every feature/parameter is available on all `344xxA` models. This, when possible, is reflected in the instantiated driver object. Also note that models like `34465A` have options (like `DIG` and `MEM`) that can either be enabled or disabled on a particular instrument; this also has impact on availability of some features/parameters and/or their settings. In general, refer to the instrument's manual for detailed information.\n",
    "\n",
    "__NOTE__: Beginning with firmware revision 3.0, the digitizing and advanced triggering option, referred to as \"DIG\", for models 34465A-DIG/34470A-DIG, is now standard.\n",
    "\n",
    "The driver does not cover all the features of the instrument because it is being mostly used for voltage DC measurements. Contribution is welcome.\n",
    "\n",
    "__NOTE__: use drivers for these models which originate from `*_submodules` python modules, from example:\n",
    "```python\n",
    "from qcodes.instrument_drivers.Keysight.Keysight_34465A_submodules import Keysight_34465A\n",
    "```\n",
    "instead of\n",
    "```python\n",
    "from qcodes.instrument_drivers.Keysight.Keysight_34465A import Keysight_34465A\n",
    "```\n",
    "The latter ones are deprecated due to their deficiencies."
   ]
  },
  {
   "cell_type": "code",
   "execution_count": 1,
   "metadata": {},
   "outputs": [],
   "source": [
    "import time\n",
    "\n",
    "import numpy\n",
    "\n",
    "import qcodes\n",
    "from qcodes.instrument_drivers.Keysight.Keysight_34465A_submodules import Keysight_34465A"
   ]
  },
  {
   "cell_type": "code",
   "execution_count": 2,
   "metadata": {},
   "outputs": [
    {
     "name": "stdout",
     "output_type": "stream",
     "text": [
      "Connected to: Keysight Technologies 34465A (serial:MY57504787, firmware:A.02.16-02.40-02.16-00.51-03-01) in 0.46s\n"
     ]
    }
   ],
   "source": [
    "dmm = Keysight_34465A('dmm', 'USB0::10893::257::MY57504787::0::INSTR')"
   ]
  },
  {
   "cell_type": "code",
   "execution_count": 3,
   "metadata": {},
   "outputs": [],
   "source": [
    "dmm.reset()"
   ]
  },
  {
   "cell_type": "markdown",
   "metadata": {},
   "source": [
    "## Parameters and methods overview\n",
    "\n",
    "Here is an overview (not exhaustive) of the parameters and methods that are available in the driver.\n",
    "\n",
    "The driver is not only comprised of root-level parameters and methods but also contains submodules which logically group some functionality.\n",
    "\n",
    "* Measurements\n",
    "  * `dmm.init_measurement()`\n",
    "  * `dmm.fetch()`\n",
    "  * `dmm.read()`\n",
    "  * `dmm.volt` - measure one voltage point now (note: may not always work)\n",
    "* Range settings\n",
    "  * `dmm.range`\n",
    "  * `dmm.autorange`\n",
    "  * `dmm.autorange_once()`\n",
    "* Triggering\n",
    "  * `dmm.trigger.source`\n",
    "  * `dmm.trigger.delay`\n",
    "  * `dmm.trigger.auto_delay_enabled`\n",
    "  * `dmm.trigger.count`\n",
    "  * `dmm.trigger.slope`\n",
    "  * `dmm.trigger.level`\n",
    "  * `dmm.trigger.force()`\n",
    "* Sample settings\n",
    "  * `dmm.sample.count`\n",
    "  * `dmm.sample.source`\n",
    "  * `dmm.sample.timer`\n",
    "  * `dmm.sample.pretrigger_count`\n",
    "* Display control\n",
    "  * `dmm.display.text`\n",
    "  * `dmm.display.clear()`\n",
    "  * `dmm.display.enabled`\n",
    "* Related measurement accuracy\n",
    "  * `dmm.NPLC`\n",
    "  * `dmm.resolution`\n",
    "  * `dmm.line_frequency`\n",
    "  * `dmm.aperture.mode`\n",
    "  * `dmm.aperture.time`\n",
    "  * `dmm.autozero`\n",
    "  \n",
    "Use `dmm.parameters` (or other ways) to explore all the parameters.\n",
    "\n",
    "As an extra, let's print the readable snapshot of the instrument."
   ]
  },
  {
   "cell_type": "code",
   "execution_count": 4,
   "metadata": {},
   "outputs": [
    {
     "name": "stdout",
     "output_type": "stream",
     "text": [
      "dmm:\n",
      "\tparameter     value\n",
      "--------------------------------------------------------------------------------\n",
      "IDN            :\t{'vendor': 'Keysight Technologies', 'model': '34465A', 'seri...\n",
      "NPLC           :\t10 (NPLC)\n",
      "aperture_mode  :\tOFF \n",
      "aperture_time  :\t0.1 \n",
      "autorange      :\tON \n",
      "autozero       :\tON \n",
      "line_frequency :\t50 (Hz)\n",
      "range          :\t1000 \n",
      "resolution     :\t0.0001 (V)\n",
      "timeout        :\t5 (s)\n",
      "volt           :\t-5.9611e-08 (V)\n",
      "dmm_display:\n",
      "\tparameter value\n",
      "--------------------------------------------------------------------------------\n",
      "enabled :\tTrue \n",
      "text    :\t \n",
      "dmm_trigger:\n",
      "\tparameter         value\n",
      "--------------------------------------------------------------------------------\n",
      "auto_delay_enabled :\tTrue \n",
      "count              :\t1 \n",
      "delay              :\t0.00016 (s)\n",
      "level              :\t0 (V)\n",
      "slope              :\tNEG \n",
      "source             :\tIMM \n",
      "dmm_sample:\n",
      "\tparameter       value\n",
      "--------------------------------------------------------------------------------\n",
      "count            :\t1 \n",
      "pretrigger_count :\t0 \n",
      "source           :\tIMM \n",
      "timer            :\t1 (s)\n",
      "timer_minimum    :\t0.43913 (s)\n"
     ]
    }
   ],
   "source": [
    "dmm.print_readable_snapshot(update=True)"
   ]
  },
  {
   "cell_type": "markdown",
   "metadata": {},
   "source": [
    "## Single value reading\n",
    "\n",
    "If one simpy wants to measure a single voltage value right now, the convenient `volt` parameter can be used.\n",
    "\n",
    "Note that it may not work for some configurations of the instrument, for example, when `sample.count` is not `1`. Later in this notebook, we will present more prowerful and robust ways of performing measurements."
   ]
  },
  {
   "cell_type": "code",
   "execution_count": 5,
   "metadata": {},
   "outputs": [
    {
     "data": {
      "text/plain": [
       "-9.30337575e-06"
      ]
     },
     "execution_count": 5,
     "metadata": {},
     "output_type": "execute_result"
    }
   ],
   "source": [
    "dmm.volt()"
   ]
  },
  {
   "cell_type": "markdown",
   "metadata": {},
   "source": [
    "## Multivalue triggered measurements"
   ]
  },
  {
   "cell_type": "markdown",
   "metadata": {},
   "source": [
    "__NOTE__: Refer to the instrument manual for more information on how to perform measurements with the instrument; here, only the most basic and frequently used ones are demonstated.\n",
    "\n",
    "Measurements with the instrument are performed in the following way: the instrument's settings are set for a particular kind of measurement, then the measurement is started/initialized, then after all the data has been acquired, it is retrieved from the instrument. Below is an example of such a measurement."
   ]
  },
  {
   "cell_type": "markdown",
   "metadata": {},
   "source": [
    "Use `range`, `autorange` parameters or `autorange_once` method to set the measurement range. Disabling autorange is recommended by the instrument's manual for speeding up the measurement."
   ]
  },
  {
   "cell_type": "code",
   "execution_count": 6,
   "metadata": {},
   "outputs": [],
   "source": [
    "dmm.autorange_once()"
   ]
  },
  {
   "cell_type": "markdown",
   "metadata": {},
   "source": [
    "In order to set up the accuracy of the measurements and related settings, set up `NPLC` or `aperture_*` parameters (if available)."
   ]
  },
  {
   "cell_type": "code",
   "execution_count": 7,
   "metadata": {},
   "outputs": [],
   "source": [
    "dmm.aperture_mode('ON')\n",
    "dmm.aperture_time(2e-5)"
   ]
  },
  {
   "cell_type": "markdown",
   "metadata": {},
   "source": [
    "Set up triggering mechanism. Note that trigger settings and methods are inside `trigger` submodule of the instrument driver. Here, we will use immediate triggering (the measurement is triggered uppon measurement initialization, that is when `init_measurement` is called) with 1 trigger without any delays. Consulm the instrument's manual for more information on various triggering options."
   ]
  },
  {
   "cell_type": "code",
   "execution_count": 8,
   "metadata": {},
   "outputs": [],
   "source": [
    "dmm.trigger.source('IMM')\n",
    "dmm.trigger.count(1)\n",
    "dmm.trigger.delay(0.0)"
   ]
  },
  {
   "cell_type": "markdown",
   "metadata": {},
   "source": [
    "Set up sampling settings. Note that sampling parameters and method are inside `sample` submodule of the instrument driver. Here, we set to measure 15 samples."
   ]
  },
  {
   "cell_type": "code",
   "execution_count": 9,
   "metadata": {},
   "outputs": [],
   "source": [
    "dmm.sample.count(15)\n",
    "dmm.sample.pretrigger_count(0)"
   ]
  },
  {
   "cell_type": "markdown",
   "metadata": {},
   "source": [
    "We are also going to set the sample source to timer (not avaliable in all models) so that the instrument ensures that the samples are taken with fixed periods between them. The `timer` parameter allows to set the value of that fixed period. For simplicity, we are going to let the instrument deduct the minimum value of it according to the current instrument configuration (!) and set it."
   ]
  },
  {
   "cell_type": "code",
   "execution_count": 10,
   "metadata": {},
   "outputs": [],
   "source": [
    "dmm.sample.source('TIM')\n",
    "dmm.sample.timer('MIN')"
   ]
  },
  {
   "cell_type": "markdown",
   "metadata": {},
   "source": [
    "It turns out that commands are executed faster when the display of the instrument is disabled or is displaying text. One of the further section expands on it. Here, we will just set the display to some text."
   ]
  },
  {
   "cell_type": "code",
   "execution_count": 11,
   "metadata": {},
   "outputs": [],
   "source": [
    "dmm.display.text('Example with 15 samples')"
   ]
  },
  {
   "cell_type": "markdown",
   "metadata": {},
   "source": [
    "In order to initiate the measurement, call `init_measurement` method of the driver. In the case of this example, the instrument will get into \"wait-for-trigger\" mode but because the trigger source is \"immediate\", the instrument will immediately start measuring the 15 samples."
   ]
  },
  {
   "cell_type": "code",
   "execution_count": 12,
   "metadata": {},
   "outputs": [],
   "source": [
    "dmm.init_measurement()"
   ]
  },
  {
   "cell_type": "markdown",
   "metadata": {},
   "source": [
    "The insrtument is going to measure 15 samples and save them to its memory. Once the measurement is completed, we can call `fetch` method of the driver to retreive the acquired data."
   ]
  },
  {
   "cell_type": "markdown",
   "metadata": {},
   "source": [
    "While the measurement is going, there are two things we can do. One is to `sleep` until the end of the measurement, and then call `fetch`. The other one is to call `fetch` immediately after the measurement has been initiated - this way the instrument will return the acquired data right when the measurement is finished. This sounds pretty useful, however there are two considerations to keep in mind: the instrument manual hints that calling fetching immediately after initiation may be slower than waiting for the measurement to complete; if the measurement takes longer than the VISA command timeout, the code may raise a VISA timeout exception while the measurement is properly running. To overcome the latter consideration, one could in principle wrap `fetch` call into the following `try-finally` block that takes care of the VISA timeout value:\n",
    "```python\n",
    "old_timeout = dmm.visa_handle.timeout  # it is in milliseconds\n",
    "new_timeout = old_timeout + n_samples * time_per_sample * 1000\n",
    "# where, n_samples == dmm.sample.count(),\n",
    "# and time_per_sample == dmm.sample.timer()\n",
    "dmm.visa_handle.timeout = new_timeout\n",
    "try:\n",
    "    data = dmm.fetch()\n",
    "finally:\n",
    "    dmm.visa_handle.timeout = old_timeout\n",
    "```"
   ]
  },
  {
   "cell_type": "markdown",
   "metadata": {},
   "source": [
    "Assuming that we've just slept or waited enough for the measurement to complete, let's `fetch` the data from the instrument. Note that due to the nature of the `fetch` command of the instrument, one can fetch the same measured data more than once (until, for example, a new measurement has been initiated; refer to the instrument's manual for more information on this)."
   ]
  },
  {
   "cell_type": "code",
   "execution_count": 13,
   "metadata": {},
   "outputs": [
    {
     "data": {
      "text/plain": [
       "array([-0.00469509, -0.00495776, -0.00509389, -0.00502464, -0.00457326,\n",
       "       -0.00368487, -0.00033184,  0.00395255,  0.00707154,  0.00978691,\n",
       "        0.01218942,  0.01157326,  0.01100726,  0.01077802,  0.0099947 ])"
      ]
     },
     "execution_count": 13,
     "metadata": {},
     "output_type": "execute_result"
    }
   ],
   "source": [
    "data = dmm.fetch()\n",
    "data"
   ]
  },
  {
   "cell_type": "markdown",
   "metadata": {},
   "source": [
    "Note that there is also a `read` method. It's difference from `fetch` is that it also initiates the new measurement. Using `read` might be convenient for some cases while `init_measurement` + `fetch` definitely allow for more control."
   ]
  },
  {
   "cell_type": "markdown",
   "metadata": {},
   "source": [
    "Since the measurement is finished, let's bring back the display to life."
   ]
  },
  {
   "cell_type": "code",
   "execution_count": 14,
   "metadata": {},
   "outputs": [],
   "source": [
    "dmm.display.clear()"
   ]
  },
  {
   "cell_type": "markdown",
   "metadata": {},
   "source": [
    "If needed, it is straightforward to calculate a vector of times when the acquired data points were measured; for example, like this:"
   ]
  },
  {
   "cell_type": "code",
   "execution_count": 15,
   "metadata": {},
   "outputs": [
    {
     "data": {
      "text/plain": [
       "array([0.     , 0.00063, 0.00126, 0.00189, 0.00252, 0.00315, 0.00378,\n",
       "       0.00441, 0.00504, 0.00567, 0.0063 , 0.00693, 0.00756, 0.00819,\n",
       "       0.00882])"
      ]
     },
     "execution_count": 15,
     "metadata": {},
     "output_type": "execute_result"
    }
   ],
   "source": [
    "n = dmm.sample.count()\n",
    "t = dmm.sample.timer()\n",
    "setpoints = numpy.linspace(0, n*t, n)\n",
    "setpoints  # in seconds"
   ]
  },
  {
   "cell_type": "markdown",
   "metadata": {},
   "source": [
    "## Special values of some parameters"
   ]
  },
  {
   "cell_type": "markdown",
   "metadata": {},
   "source": [
    "Some parameters can be set to special values like `MIN`/`MAX`/`DEF` which usually mean minimum/maximum/default, respectively. \n",
    "\n",
    "In order to obtain the actual value of the parameter that gets set when setting it to one of these special values, just call the get method of the parameter."
   ]
  },
  {
   "cell_type": "code",
   "execution_count": 16,
   "metadata": {},
   "outputs": [
    {
     "data": {
      "text/plain": [
       "3600.0"
      ]
     },
     "execution_count": 16,
     "metadata": {},
     "output_type": "execute_result"
    }
   ],
   "source": [
    "# Find out what the maximum value of `sample_timer` can be\n",
    "dmm.sample.timer('MAX')\n",
    "dmm.sample.timer()"
   ]
  },
  {
   "cell_type": "code",
   "execution_count": 17,
   "metadata": {},
   "outputs": [
    {
     "data": {
      "text/plain": [
       "1.0"
      ]
     },
     "execution_count": 17,
     "metadata": {},
     "output_type": "execute_result"
    }
   ],
   "source": [
    "# Find out what the default value of `sample_timer` is\n",
    "dmm.sample.timer('DEF')\n",
    "dmm.sample.timer()"
   ]
  },
  {
   "cell_type": "code",
   "execution_count": 18,
   "metadata": {},
   "outputs": [
    {
     "data": {
      "text/plain": [
       "0.000588"
      ]
     },
     "execution_count": 18,
     "metadata": {},
     "output_type": "execute_result"
    }
   ],
   "source": [
    "# Find out what the recommended minumum value of `sample_timer` is\n",
    "dmm.sample.timer('MIN')\n",
    "dmm.sample.timer()"
   ]
  },
  {
   "cell_type": "code",
   "execution_count": 19,
   "metadata": {},
   "outputs": [
    {
     "data": {
      "text/plain": [
       "0.000588"
      ]
     },
     "execution_count": 19,
     "metadata": {},
     "output_type": "execute_result"
    }
   ],
   "source": [
    "# Alternatively, if available, use a conveniently implemented\n",
    "# get-only parameter to find out the actual value,\n",
    "# for example, for MIN value of `sample_timer` there is such\n",
    "# a convenient get-only parameter:\n",
    "dmm.sample.timer_minimum()"
   ]
  },
  {
   "cell_type": "markdown",
   "metadata": {},
   "source": [
    "## Display state impacts command execution speed"
   ]
  },
  {
   "cell_type": "markdown",
   "metadata": {},
   "source": [
    "Although it is indeed just nice to be able to display useful text on the screen of the instrument, it turn out that disabling the display (or making it display does text instead of all the indicators and values) improves command execution speed from the remote interface and provides basic security (quoted from the instrument's manual).\n",
    "\n",
    "Hence, the driver provides `display` submodule with `text` parameter that displays a given text on the insrturment, and a `clear` method that clears the text from display.\n",
    "\n",
    "The driver's `display` submodule also provides `enabled` parameter. When it is set to `False`, the state of the display is such that it does not show anything. Note, however, that displaying text is still possible when the `display.enabled` is `False` (when `display.enabled` is `False`, `display.clear` clears the text from the screen but does not enable it)."
   ]
  },
  {
   "cell_type": "code",
   "execution_count": 20,
   "metadata": {},
   "outputs": [],
   "source": [
    "# Displays the text\n",
    "dmm.display.text('Hello, World!')"
   ]
  },
  {
   "cell_type": "code",
   "execution_count": 21,
   "metadata": {},
   "outputs": [],
   "source": [
    "# Returns display to its normal state\n",
    "dmm.display.clear()"
   ]
  },
  {
   "cell_type": "code",
   "execution_count": 22,
   "metadata": {},
   "outputs": [],
   "source": [
    "# Note that a call to `display_clear` also updates \n",
    "# the value of the `display_text` parameter:\n",
    "assert dmm.display.text() == ''"
   ]
  },
  {
   "cell_type": "code",
   "execution_count": 23,
   "metadata": {},
   "outputs": [],
   "source": [
    "# Display can also be cleared by setting \n",
    "# `display_text` to an empty string\n",
    "dmm.display.text('some text')  # Displays some text\n",
    "time.sleep(0.5)\n",
    "dmm.display.text('')  # Returns display to its normal state"
   ]
  },
  {
   "cell_type": "code",
   "execution_count": 24,
   "metadata": {},
   "outputs": [],
   "source": [
    "# Disables the display, which makes it turn black\n",
    "dmm.display.enabled(False)"
   ]
  },
  {
   "cell_type": "code",
   "execution_count": 25,
   "metadata": {},
   "outputs": [],
   "source": [
    "# Shows some text on a disabled display\n",
    "dmm.display.text(\"i'm disabled but still showing text\")"
   ]
  },
  {
   "cell_type": "code",
   "execution_count": 26,
   "metadata": {},
   "outputs": [],
   "source": [
    "# Enabling display in this state \n",
    "# won't change what's being displayed\n",
    "dmm.display.enabled(True)"
   ]
  },
  {
   "cell_type": "code",
   "execution_count": 27,
   "metadata": {},
   "outputs": [],
   "source": [
    "# ... but since the display is now enabled,\n",
    "# clearing the display will not only remove the text\n",
    "# but also show all the normal display indicators.\n",
    "dmm.display.clear()"
   ]
  },
  {
   "cell_type": "markdown",
   "metadata": {},
   "source": [
    "## Error handling"
   ]
  },
  {
   "cell_type": "markdown",
   "metadata": {},
   "source": [
    "Use the following methods to read the error queue of the instrument. The instrument has an error queue of length up to 20 messages. The queue message retrieval is first-in-first-out."
   ]
  },
  {
   "cell_type": "code",
   "execution_count": 28,
   "metadata": {},
   "outputs": [
    {
     "data": {
      "text/plain": [
       "(0, 'No error')"
      ]
     },
     "execution_count": 28,
     "metadata": {},
     "output_type": "execute_result"
    }
   ],
   "source": [
    "# Retrieve the first (i.e. oldest) error message \n",
    "# in the queue (and thereby remove from the queue)\n",
    "dmm.error()"
   ]
  },
  {
   "cell_type": "code",
   "execution_count": 29,
   "metadata": {},
   "outputs": [],
   "source": [
    "# The entire queue can be flushed out\n",
    "# using `flush_error_queue` method.\n",
    "# Printing the messages in enabled by default\n",
    "# and can be disables with the `verbose` kwarg.\n",
    "\n",
    "# generate a few errors\n",
    "for _ in range(3):\n",
    "    dmm.write('produce an error!')"
   ]
  },
  {
   "cell_type": "code",
   "execution_count": 30,
   "metadata": {},
   "outputs": [
    {
     "name": "stdout",
     "output_type": "stream",
     "text": [
      "-113 Undefined header\n",
      "-113 Undefined header\n",
      "-113 Undefined header\n",
      "0 No error\n"
     ]
    }
   ],
   "source": [
    "dmm.flush_error_queue(verbose=True)"
   ]
  },
  {
   "cell_type": "markdown",
   "metadata": {},
   "source": [
    "## Using data_buffer for triggered multisample measurement (deprecated)"
   ]
  },
  {
   "cell_type": "markdown",
   "metadata": {},
   "source": [
    "__NOTE__: This approach is deprecated and only available in the deprecated Keysight 344xxA drivers (those which do not originate from `*_submodules.py` files).\n",
    "\n",
    "One may use `data_buffer` `ArrayParameter` in order to perform a triggered measurement of a predefined number of samples with a single trigger that has not delay. The following code shows how to do it.\n",
    "\n",
    "__NOTE__: The reason this approach is deprecated is that the internal implementation of `data_buffer` is quite specific and sets up the instrument into a mode that is not generally useful. This is why it is recommended that the users use driver methods like `read` and `fetch` in order to implement the measurements. It is also up to user to decide to wrap his code into his own measurement function/routine or even a QCoDeS parameter for his own convenience."
   ]
  },
  {
   "cell_type": "code",
   "execution_count": 31,
   "metadata": {},
   "outputs": [],
   "source": [
    "from qcodes.instrument_drivers.Keysight.Keysight_34465A import Keysight_34465A as Keysight_34465A_old"
   ]
  },
  {
   "cell_type": "code",
   "execution_count": 32,
   "metadata": {},
   "outputs": [
    {
     "name": "stderr",
     "output_type": "stream",
     "text": [
      "c:\\users\\a-miasta\\pycharmprojects\\qcodes\\qcodes\\instrument_drivers\\Keysight\\private\\Keysight_344xxA.py:143: UserWarning: This driver is old and will be removed from QCoDeS soon. Please use the Keysight_344xxA classes from the files instrument_drivers/Keysight/Keysight_344xxA_submodules instead.\n",
      "  UserWarning)\n"
     ]
    },
    {
     "name": "stdout",
     "output_type": "stream",
     "text": [
      "Connected to: Keysight Technologies 34465A (serial:MY57504787, firmware:A.02.16-02.40-02.16-00.51-03-01) in 0.51s\n"
     ]
    }
   ],
   "source": [
    "dmm_old = Keysight_34465A_old('dmm_old', 'USB0::10893::257::MY57504787::0::INSTR')"
   ]
  },
  {
   "cell_type": "code",
   "execution_count": 33,
   "metadata": {},
   "outputs": [],
   "source": [
    "dmm_old.reset()"
   ]
  },
  {
   "cell_type": "code",
   "execution_count": 34,
   "metadata": {},
   "outputs": [],
   "source": [
    "# Set the sample timer for now to default,\n",
    "# because due to aperture mode usage above\n",
    "# there might be configuration compatibility \n",
    "# errors on the instrument. They are not harmful,\n",
    "# we do this just for the sake of a clean demo.\n",
    "dmm_old.sample_timer('DEF')"
   ]
  },
  {
   "cell_type": "code",
   "execution_count": 35,
   "metadata": {},
   "outputs": [],
   "source": [
    "# Set the trigger mode. For the sake of this example,\n",
    "# we are going to use \"immediate\" which will start measuring\n",
    "# right after `init_measurement` is called (it will be called\n",
    "# for you by `data_buffer`'s get method')\n",
    "dmm_old.trigger_source('IMM')"
   ]
  },
  {
   "cell_type": "code",
   "execution_count": 36,
   "metadata": {},
   "outputs": [],
   "source": [
    "# Set sample count to number of samples that\n",
    "# should be acquired\n",
    "dmm_old.sample_count(5)"
   ]
  },
  {
   "cell_type": "code",
   "execution_count": 37,
   "metadata": {},
   "outputs": [
    {
     "name": "stderr",
     "output_type": "stream",
     "text": [
      "C:\\Users\\a-miasta\\AppData\\Local\\Continuum\\anaconda3\\envs\\qcodes\\lib\\site-packages\\ipykernel_launcher.py:4: DeprecationWarning: The function \"prepare\" is deprecated, because the use of this ArrayParameter is limiting as it represents only a single way of performing measurements and performs preparations that are not generally applicable Use \"driver methods like `fetch` and `read` (together with other methods and parameters) and custom functions and parameters implemented on top of them\" as an alternative.\n",
      "  after removing the cwd from sys.path.\n"
     ]
    }
   ],
   "source": [
    "# One needs to prepare the `data_buffer` parameter\n",
    "# and the instrument for this measurement, otherwise\n",
    "# getting `data_buffer` will raise an exception\n",
    "dmm_old.data_buffer.prepare()"
   ]
  },
  {
   "cell_type": "code",
   "execution_count": 38,
   "metadata": {},
   "outputs": [],
   "source": [
    "# Finally perform the measurement,\n",
    "# and obtain the measured data\n",
    "# (note the text on the instrument's display\n",
    "# during the measurement)\n",
    "data = dmm_old.data_buffer()"
   ]
  },
  {
   "cell_type": "code",
   "execution_count": 39,
   "metadata": {},
   "outputs": [
    {
     "data": {
      "text/plain": [
       "array([-1.22270673e-05,  2.16857420e-05,  1.70717544e-05,  8.30517780e-06,\n",
       "        1.91480488e-05])"
      ]
     },
     "execution_count": 39,
     "metadata": {},
     "output_type": "execute_result"
    }
   ],
   "source": [
    "# Now, here's the measured data\n",
    "data"
   ]
  },
  {
   "cell_type": "code",
   "execution_count": 40,
   "metadata": {},
   "outputs": [
    {
     "data": {
      "text/plain": [
       "((0.0,\n",
       "  0.5056200000000001,\n",
       "  1.0112400000000001,\n",
       "  1.5168600000000003,\n",
       "  2.0224800000000003),)"
      ]
     },
     "execution_count": 40,
     "metadata": {},
     "output_type": "execute_result"
    }
   ],
   "source": [
    "# Here are the values of setpoints,\n",
    "# in this case its time in seconds when\n",
    "# each of the points have been measured relative\n",
    "# to the first point\n",
    "dmm_old.data_buffer.setpoints"
   ]
  },
  {
   "cell_type": "code",
   "execution_count": 41,
   "metadata": {},
   "outputs": [
    {
     "data": {
      "text/plain": [
       "(5,)"
      ]
     },
     "execution_count": 41,
     "metadata": {},
     "output_type": "execute_result"
    }
   ],
   "source": [
    "# The shape of the setpoints reflects\n",
    "# the number of samples\n",
    "dmm_old.data_buffer.shape"
   ]
  },
  {
   "cell_type": "code",
   "execution_count": 42,
   "metadata": {},
   "outputs": [
    {
     "data": {
      "text/plain": [
       "0.404496"
      ]
     },
     "execution_count": 42,
     "metadata": {},
     "output_type": "execute_result"
    }
   ],
   "source": [
    "# For internal use, the amount of time used for\n",
    "# measuring every point is saved into the following \n",
    "# attribute:\n",
    "dmm_old.data_buffer.time_per_point"
   ]
  },
  {
   "cell_type": "code",
   "execution_count": 43,
   "metadata": {
    "scrolled": true
   },
   "outputs": [
    {
     "data": {
      "text/plain": [
       "0.404496"
      ]
     },
     "execution_count": 43,
     "metadata": {},
     "output_type": "execute_result"
    }
   ],
   "source": [
    "# ... which is equal to the value of the\n",
    "# `sample_timer` parameter:\n",
    "dmm_old.sample_timer()"
   ]
  },
  {
   "cell_type": "code",
   "execution_count": null,
   "metadata": {},
   "outputs": [],
   "source": []
  }
 ],
 "metadata": {
  "kernelspec": {
   "display_name": "Python 3",
   "language": "python",
   "name": "python3"
  },
  "language_info": {
   "codemirror_mode": {
    "name": "ipython",
    "version": 3
   },
   "file_extension": ".py",
   "mimetype": "text/x-python",
   "name": "python",
   "nbconvert_exporter": "python",
   "pygments_lexer": "ipython3",
   "version": "3.6.7"
  },
  "nbsphinx": {
   "execute": "never"
  },
  "toc": {
   "base_numbering": 1,
   "nav_menu": {},
   "number_sections": true,
   "sideBar": true,
   "skip_h1_title": false,
   "title_cell": "Table of Contents",
   "title_sidebar": "Contents",
   "toc_cell": false,
   "toc_position": {},
   "toc_section_display": true,
   "toc_window_display": false
  },
  "varInspector": {
   "cols": {
    "lenName": 16,
    "lenType": 16,
    "lenVar": 40
   },
   "kernels_config": {
    "python": {
     "delete_cmd_postfix": "",
     "delete_cmd_prefix": "del ",
     "library": "var_list.py",
     "varRefreshCmd": "print(var_dic_list())"
    },
    "r": {
     "delete_cmd_postfix": ") ",
     "delete_cmd_prefix": "rm(",
     "library": "var_list.r",
     "varRefreshCmd": "cat(var_dic_list()) "
    }
   },
   "types_to_exclude": [
    "module",
    "function",
    "builtin_function_or_method",
    "instance",
    "_Feature"
   ],
   "window_display": false
  }
 },
 "nbformat": 4,
 "nbformat_minor": 2
}
