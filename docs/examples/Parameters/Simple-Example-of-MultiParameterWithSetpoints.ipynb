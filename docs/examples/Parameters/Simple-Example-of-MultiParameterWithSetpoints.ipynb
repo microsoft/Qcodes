{
 "cells": [
  {
   "cell_type": "code",
   "execution_count": 1,
   "metadata": {},
   "outputs": [],
   "source": [
    "import numpy as np\n",
    "from pprint import pprint\n",
    "\n",
    "import qcodes as qc\n",
    "from qcodes import MultiParameter, Measurement, Parameter, MultiParameterWithSetpoints, Instrument\n",
    "from qcodes.instrument.parameter import expand_setpoints_helper\n",
    "from qcodes.dataset.data_set import load_by_id\n",
    "from qcodes.dataset.plotting import plot_by_id\n",
    "from qcodes.utils.validators import Sequence, Arrays\n",
    "\n",
    "\n",
    "class MockMultiParamWithSetpoints(MultiParameterWithSetpoints):\n",
    "    def __init__(self, *args, **kwargs):\n",
    "        super().__init__(*args, **kwargs)\n",
    "        self.i = 0\n",
    "        \n",
    "    def get_raw(self):\n",
    "        npts = self.root_instrument.npts()\n",
    "        val = (np.arange(npts) + self.i*npts*10,)*2\n",
    "        self.i +=1\n",
    "        return val\n",
    "    \n",
    "    \n",
    "class TimeAxis(Parameter):\n",
    "    def get_raw(self):\n",
    "        npts = self.root_instrument.npts()\n",
    "        return np.arange(npts)\n",
    "    \n",
    "    \n",
    "class MockDAQ(Instrument):    \n",
    "    def __init__(self, name, **kwargs):\n",
    "        \n",
    "        super().__init__(name, **kwargs)\n",
    "        \n",
    "        self.add_parameter(name='npts',\n",
    "                           initial_value=10,\n",
    "                           label='Number of points',\n",
    "                           get_cmd=None,\n",
    "                           set_cmd=None)\n",
    "        \n",
    "        self.add_parameter(name='time_axis',\n",
    "                           label='Time',\n",
    "                           unit='s',\n",
    "                           vals=Arrays(shape=(self.npts,)),\n",
    "                           parameter_class=TimeAxis)\n",
    "        \n",
    "        self.add_parameter(name='traces',\n",
    "                           names=('A','B'),\n",
    "                           units=('V','V'),\n",
    "                           vals=Sequence(elt_validator=Arrays(shape=(self.npts,)), length=2),\n",
    "                           setpoints=(self.time_axis,),\n",
    "                           parameter_class=MockMultiParamWithSetpoints)\n",
    "\n",
    "daq = MockDAQ('daq')\n",
    "ext_param = Parameter('ext', set_cmd=None, get_cmd=None)"
   ]
  },
  {
   "cell_type": "code",
   "execution_count": 2,
   "metadata": {},
   "outputs": [
    {
     "data": {
      "text/plain": [
       "<qcodes.dataset.measurements.Measurement at 0x23ac3814470>"
      ]
     },
     "execution_count": 2,
     "metadata": {},
     "output_type": "execute_result"
    }
   ],
   "source": [
    "qc.new_experiment(name='multiparam_w_sp_test', sample_name='none')\n",
    "\n",
    "meas = Measurement()\n",
    "meas.register_parameter(ext_param)\n",
    "meas.register_parameter(daq.traces, setpoints=(ext_param,))"
   ]
  },
  {
   "cell_type": "code",
   "execution_count": 3,
   "metadata": {},
   "outputs": [
    {
     "name": "stdout",
     "output_type": "stream",
     "text": [
      "Starting experimental run with id: 152\n"
     ]
    }
   ],
   "source": [
    "with meas.run() as datasaver:  \n",
    "    daq.npts(10)\n",
    "    for ext in range(3):\n",
    "        datasaver.add_result((ext_param, ext), *expand_setpoints_helper(daq.traces))\n",
    "        run_id = datasaver.run_id"
   ]
  },
  {
   "cell_type": "code",
   "execution_count": 4,
   "metadata": {},
   "outputs": [
    {
     "name": "stdout",
     "output_type": "stream",
     "text": [
      "[[0, array([0, 1, 2, 3, 4, 5, 6, 7, 8, 9]), None],\n",
      " [0, None, array([0, 1, 2, 3, 4, 5, 6, 7, 8, 9])],\n",
      " [1, array([100, 101, 102, 103, 104, 105, 106, 107, 108, 109]), None],\n",
      " [1, None, array([100, 101, 102, 103, 104, 105, 106, 107, 108, 109])],\n",
      " [2, array([200, 201, 202, 203, 204, 205, 206, 207, 208, 209]), None],\n",
      " [2, None, array([200, 201, 202, 203, 204, 205, 206, 207, 208, 209])]]\n",
      "{'A': {'A': array([[  0,   1,   2,   3,   4,   5,   6,   7,   8,   9],\n",
      "       [100, 101, 102, 103, 104, 105, 106, 107, 108, 109],\n",
      "       [200, 201, 202, 203, 204, 205, 206, 207, 208, 209]]),\n",
      "       'daq_time_axis': array([[0, 1, 2, 3, 4, 5, 6, 7, 8, 9],\n",
      "       [0, 1, 2, 3, 4, 5, 6, 7, 8, 9],\n",
      "       [0, 1, 2, 3, 4, 5, 6, 7, 8, 9]]),\n",
      "       'ext': array([[0., 0., 0., 0., 0., 0., 0., 0., 0., 0.],\n",
      "       [1., 1., 1., 1., 1., 1., 1., 1., 1., 1.],\n",
      "       [2., 2., 2., 2., 2., 2., 2., 2., 2., 2.]])},\n",
      " 'B': {'B': array([[  0,   1,   2,   3,   4,   5,   6,   7,   8,   9],\n",
      "       [100, 101, 102, 103, 104, 105, 106, 107, 108, 109],\n",
      "       [200, 201, 202, 203, 204, 205, 206, 207, 208, 209]]),\n",
      "       'daq_time_axis': array([[0, 1, 2, 3, 4, 5, 6, 7, 8, 9],\n",
      "       [0, 1, 2, 3, 4, 5, 6, 7, 8, 9],\n",
      "       [0, 1, 2, 3, 4, 5, 6, 7, 8, 9]]),\n",
      "       'ext': array([[0., 0., 0., 0., 0., 0., 0., 0., 0., 0.],\n",
      "       [1., 1., 1., 1., 1., 1., 1., 1., 1., 1.],\n",
      "       [2., 2., 2., 2., 2., 2., 2., 2., 2., 2.]])}}\n"
     ]
    }
   ],
   "source": [
    "ds = load_by_id(run_id)\n",
    "        \n",
    "pprint(ds.get_data('ext','A','B'))\n",
    "pprint(ds.get_parameter_data('A','B'))"
   ]
  },
  {
   "cell_type": "code",
   "execution_count": 5,
   "metadata": {},
   "outputs": [
    {
     "data": {
      "image/png": "[encoded data removed]",
      "text/plain": [
       "<Figure size 432x288 with 2 Axes>"
      ]
     },
     "metadata": {
      "needs_background": "light"
     },
     "output_type": "display_data"
    },
    {
     "data": {
      "image/png": "[encoded data removed]",
      "text/plain": [
       "<Figure size 432x288 with 2 Axes>"
      ]
     },
     "metadata": {
      "needs_background": "light"
     },
     "output_type": "display_data"
    }
   ],
   "source": [
    "_ = plot_by_id(run_id)"
   ]
  },
  {
   "cell_type": "code",
   "execution_count": null,
   "metadata": {},
   "outputs": [],
   "source": []
  }
 ],
 "metadata": {
  "hide_input": false,
  "kernelspec": {
   "display_name": "Python 3",
   "language": "python",
   "name": "python3"
  },
  "language_info": {
   "codemirror_mode": {
    "name": "ipython",
    "version": 3
   },
   "file_extension": ".py",
   "mimetype": "text/x-python",
   "name": "python",
   "nbconvert_exporter": "python",
   "pygments_lexer": "ipython3",
   "version": "3.6.8"
  },
  "toc": {
   "base_numbering": 1,
   "nav_menu": {},
   "number_sections": true,
   "sideBar": true,
   "skip_h1_title": false,
   "title_cell": "Table of Contents",
   "title_sidebar": "Contents",
   "toc_cell": false,
   "toc_position": {},
   "toc_section_display": true,
   "toc_window_display": false
  }
 },
 "nbformat": 4,
 "nbformat_minor": 2
}
