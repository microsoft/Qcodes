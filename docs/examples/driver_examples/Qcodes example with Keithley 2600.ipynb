{
 "cells": [
  {
   "cell_type": "markdown",
   "metadata": {},
   "source": [
    "# QCoDeS Example with with Keithley 2600"
   ]
  },
  {
   "cell_type": "markdown",
   "metadata": {},
   "source": [
    "**NOTE** This example is for the new (as of September 2017) channelised driver. If you are considering using the old driver, please reconsider. There is no functionality of the old driver that is not contained in the new one, but it might have a (slightly) different name."
   ]
  },
  {
   "cell_type": "code",
   "execution_count": 1,
   "metadata": {
    "collapsed": true
   },
   "outputs": [],
   "source": [
    "import qcodes as qc\n",
    "\n",
    "from qcodes.instrument_drivers.tektronix.Keithley_2600_channels import Keithley_2600"
   ]
  },
  {
   "cell_type": "code",
   "execution_count": 2,
   "metadata": {},
   "outputs": [
    {
     "name": "stdout",
     "output_type": "stream",
     "text": [
      "Connected to: Keithley Instruments Inc. 2614B (serial:4084407, firmware:3.2.1) in 0.09s\n"
     ]
    },
    {
     "data": {
      "text/plain": [
       "'keithley'"
      ]
     },
     "execution_count": 2,
     "metadata": {},
     "output_type": "execute_result"
    }
   ],
   "source": [
    "# Create a station to hold all the instruments\n",
    "\n",
    "station = qc.Station()\n",
    "\n",
    "# instantiate the Keithley and add it to the station\n",
    "\n",
    "keith = Keithley_2600('keithley', 'TCPIP0::192.168.15.116::inst0::INSTR')\n",
    "station.add_component(keith)"
   ]
  },
  {
   "cell_type": "markdown",
   "metadata": {},
   "source": [
    "The Keithley 2600 has two channels, here called `smua` and `smub` in agreement with the instrument manual.\n",
    "\n",
    "The two channels are basically two separate instruments with different integration times (`nplc`), operation modes (`mode`) etc."
   ]
  },
  {
   "cell_type": "code",
   "execution_count": 3,
   "metadata": {},
   "outputs": [
    {
     "name": "stdout",
     "output_type": "stream",
     "text": [
      "keithley:\n",
      "\tparameter      value\n",
      "--------------------------------------------------------------------------------\n",
      "IDN             :\t{'vendor': 'Keithley Instruments Inc.', 'model': '2614B', '...\n",
      "display_settext :\tNone \n",
      "timeout         :\t5 (s)\n",
      "keithley_smua:\n",
      "\tparameter     value\n",
      "--------------------------------------------------------------------------------\n",
      "curr           :\t3.0994e-07 (A)\n",
      "fastsweep      :\tNone \n",
      "limiti         :\t0.1 (A)\n",
      "limitv         :\t20 (V)\n",
      "measurerange_i :\t0.1 (A)\n",
      "measurerange_v :\t2.00000e+01 (V)\n",
      "mode           :\tvoltage \n",
      "nplc           :\t0.05 \n",
      "output         :\ton \n",
      "sourcerange_i  :\t1e-07 (A)\n",
      "sourcerange_v  :\t20 (V)\n",
      "volt           :\t1.9999 (V)\n",
      "keithley_smub:\n",
      "\tparameter     value\n",
      "--------------------------------------------------------------------------------\n",
      "curr           :\t-3.6955e-13 (A)\n",
      "fastsweep      :\tNone \n",
      "limiti         :\t0.1 (A)\n",
      "limitv         :\t20 (V)\n",
      "measurerange_i :\t1e-07 (A)\n",
      "measurerange_v :\t2.00000e-01 (V)\n",
      "mode           :\tvoltage \n",
      "nplc           :\t1 \n",
      "output         :\toff \n",
      "sourcerange_i  :\t1e-07 (A)\n",
      "sourcerange_v  :\t0.2 (V)\n",
      "volt           :\t1.1206e-06 (V)\n"
     ]
    }
   ],
   "source": [
    "# Get an overview of the settings\n",
    "#\n",
    "# You will notice that the two channels have identical parameters but\n",
    "# potentially different values for them\n",
    "#\n",
    "keith.print_readable_snapshot()"
   ]
  },
  {
   "cell_type": "markdown",
   "metadata": {},
   "source": [
    "## Basic operation\n",
    "\n",
    "Each channel operates in either `voltage` or `current` mode. The mode controls the _source_ behaviour of the instrument, i.e. `voltage` mode corresponds to an amp-meter (voltage source, current meter) and vice versa."
   ]
  },
  {
   "cell_type": "code",
   "execution_count": 4,
   "metadata": {},
   "outputs": [
    {
     "name": "stdout",
     "output_type": "stream",
     "text": [
      "Measured one current value: -1.54972e-06 A\n"
     ]
    }
   ],
   "source": [
    "# Let's set up a single-shot current measurement\n",
    "# on channel a\n",
    "\n",
    "keith.smua.mode('voltage')\n",
    "keith.smua.nplc(0.05)  # 0.05 Power Line Cycles per measurement. At 50 Hz, this corresponds to 1 ms\n",
    "keith.smua.sourcerange_v(20) \n",
    "keith.smua.measurerange_i(0.1)\n",
    "#\n",
    "keith.smua.volt(1)  # set the source to output 1 V\n",
    "keith.smua.output('on')  # turn output on\n",
    "curr = keith.smua.curr()\n",
    "keith.smua.output('off')\n",
    "\n",
    "print('Measured one current value: {} A'.format(curr))"
   ]
  },
  {
   "cell_type": "markdown",
   "metadata": {},
   "source": [
    "## Fast IV curves\n",
    "\n",
    "Onboard the Keithley 2600 sits a small computer that can interpret `Lua` scripts. This can be used to make fast IV-curves and is supported by the QCoDeS driver."
   ]
  },
  {
   "cell_type": "code",
   "execution_count": 5,
   "metadata": {
    "collapsed": true
   },
   "outputs": [],
   "source": [
    "# Let's make a fast IV curve by sweeping the voltage from 1 V to 2 V in 500 steps\n",
    "# (when making this notebook, nothing was connected to the instrument, so we just measure noise)"
   ]
  },
  {
   "cell_type": "code",
   "execution_count": 6,
   "metadata": {},
   "outputs": [
    {
     "name": "stdout",
     "output_type": "stream",
     "text": [
      "DataSet:\n",
      "   location = 'data/2017-09-28/#001_{name}_14-43-10'\n",
      "   <Type>   | <array_id>             | <array.name> | <array.shape>\n",
      "   Measured | keithley_smua_iv_sweep | iv_sweep     | (500,)\n",
      "acquired at 2017-09-28 14:43:11\n"
     ]
    }
   ],
   "source": [
    "# This function performs the fast sweep and returns a QCoDeS DataSet\n",
    "data = keith.smua.doFastSweep(1, 2, 500, mode='IV')"
   ]
  },
  {
   "cell_type": "code",
   "execution_count": 7,
   "metadata": {
    "collapsed": true
   },
   "outputs": [],
   "source": [
    "# The DataSet may be plotted\n",
    "plot = qc.MatPlot()\n",
    "plot.add(data.arrays['keithley_smua_iv_sweep'])"
   ]
  },
  {
   "cell_type": "code",
   "execution_count": 8,
   "metadata": {
    "collapsed": true
   },
   "outputs": [],
   "source": [
    "# Finally, tear down the instrument\n",
    "keith.close()"
   ]
  },
  {
   "cell_type": "code",
   "execution_count": null,
   "metadata": {
    "collapsed": true
   },
   "outputs": [],
   "source": []
  }
 ],
 "metadata": {
  "kernelspec": {
   "display_name": "Python 3",
   "language": "python",
   "name": "python3"
  },
  "language_info": {
   "codemirror_mode": {
    "name": "ipython",
    "version": 3
   },
   "file_extension": ".py",
   "mimetype": "text/x-python",
   "name": "python",
   "nbconvert_exporter": "python",
   "pygments_lexer": "ipython3",
   "version": "3.6.6"
  },
  "nbsphinx": {
   "execute": "never"
  }
 },
 "nbformat": 4,
 "nbformat_minor": 2
}
