{
 "cells": [
  {
   "cell_type": "markdown",
   "metadata": {},
   "source": [
    "# DataSet Performance\n",
    "\n",
    "This notebook shows the trade-off between inserting data into a database row-by-row and as binary blobs. Inserting the data row-by-row means that we have direct access to all the data and may perform queries directly on the values of the data. On the other hand, as we shall see, this is much slower than inserting the data directly as binary blobs."
   ]
  },
  {
   "cell_type": "markdown",
   "metadata": {},
   "source": [
    "First, we choose a new location for the database to ensure that we don't add a bunch of benchmarking data to the default one."
   ]
  },
  {
   "cell_type": "code",
   "execution_count": 1,
   "metadata": {
    "execution": {
     "iopub.execute_input": "2025-10-31T09:52:14.421720Z",
     "iopub.status.busy": "2025-10-31T09:52:14.421561Z",
     "iopub.status.idle": "2025-10-31T09:52:14.810057Z",
     "shell.execute_reply": "2025-10-31T09:52:14.809102Z"
    }
   },
   "outputs": [],
   "source": [
    "from pathlib import Path\n",
    "\n",
    "import qcodes as qc\n",
    "\n",
    "qc.config[\"core\"][\"db_location\"] = str(\n",
    "    Path.cwd().parent / \"example_output\" / \"testing.db\"\n",
    ")"
   ]
  },
  {
   "cell_type": "code",
   "execution_count": 2,
   "metadata": {
    "execution": {
     "iopub.execute_input": "2025-10-31T09:52:14.812007Z",
     "iopub.status.busy": "2025-10-31T09:52:14.811738Z",
     "iopub.status.idle": "2025-10-31T09:52:15.130521Z",
     "shell.execute_reply": "2025-10-31T09:52:15.129569Z"
    }
   },
   "outputs": [],
   "source": [
    "%matplotlib inline\n",
    "import time\n",
    "from pathlib import Path\n",
    "\n",
    "import matplotlib.pyplot as plt\n",
    "import numpy as np\n",
    "\n",
    "import qcodes as qc\n",
    "from qcodes.dataset import (\n",
    "    Measurement,\n",
    "    initialise_or_create_database_at,\n",
    "    load_or_create_experiment,\n",
    ")\n",
    "from qcodes.parameters import ManualParameter"
   ]
  },
  {
   "cell_type": "code",
   "execution_count": 3,
   "metadata": {
    "execution": {
     "iopub.execute_input": "2025-10-31T09:52:15.132359Z",
     "iopub.status.busy": "2025-10-31T09:52:15.132064Z",
     "iopub.status.idle": "2025-10-31T09:52:15.161825Z",
     "shell.execute_reply": "2025-10-31T09:52:15.160925Z"
    }
   },
   "outputs": [],
   "source": [
    "initialise_or_create_database_at(\n",
    "    Path.cwd().parent / \"example_output\" / \"dataset_performance.db\"\n",
    ")\n",
    "exp = load_or_create_experiment(experiment_name=\"tutorial_exp\", sample_name=\"no sample\")"
   ]
  },
  {
   "cell_type": "markdown",
   "metadata": {},
   "source": [
    "Here, we define a simple function to benchmark the time it takes to insert n points with either numeric or array data type.\n",
    "We will compare both the time used to call ``add_result`` and the time used for the full measurement."
   ]
  },
  {
   "cell_type": "code",
   "execution_count": 4,
   "metadata": {
    "execution": {
     "iopub.execute_input": "2025-10-31T09:52:15.163765Z",
     "iopub.status.busy": "2025-10-31T09:52:15.163414Z",
     "iopub.status.idle": "2025-10-31T09:52:15.169341Z",
     "shell.execute_reply": "2025-10-31T09:52:15.168487Z"
    }
   },
   "outputs": [],
   "source": [
    "def insert_data(paramtype, npoints, nreps=1):\n",
    "    meas = Measurement(exp=exp)\n",
    "\n",
    "    x1 = ManualParameter(\"x1\")\n",
    "    x2 = ManualParameter(\"x2\")\n",
    "    x3 = ManualParameter(\"x3\")\n",
    "    y1 = ManualParameter(\"y1\")\n",
    "    y2 = ManualParameter(\"y2\")\n",
    "\n",
    "    meas.register_parameter(x1, paramtype=paramtype)\n",
    "    meas.register_parameter(x2, paramtype=paramtype)\n",
    "    meas.register_parameter(x3, paramtype=paramtype)\n",
    "    meas.register_parameter(y1, setpoints=[x1, x2, x3], paramtype=paramtype)\n",
    "    meas.register_parameter(y2, setpoints=[x1, x2, x3], paramtype=paramtype)\n",
    "    start = time.perf_counter()\n",
    "    with meas.run() as datasaver:\n",
    "        start_adding = time.perf_counter()\n",
    "        for i in range(nreps):\n",
    "            datasaver.add_result(\n",
    "                (x1, np.random.rand(npoints)),\n",
    "                (x2, np.random.rand(npoints)),\n",
    "                (x3, np.random.rand(npoints)),\n",
    "                (y1, np.random.rand(npoints)),\n",
    "                (y2, np.random.rand(npoints)),\n",
    "            )\n",
    "        stop_adding = time.perf_counter()\n",
    "        run_id = datasaver.run_id\n",
    "    stop = time.perf_counter()\n",
    "    tot_time = stop - start\n",
    "    add_time = stop_adding - start_adding\n",
    "    return tot_time, add_time, run_id"
   ]
  },
  {
   "cell_type": "markdown",
   "metadata": {},
   "source": [
    "## Comparison between numeric/array data and binary blob"
   ]
  },
  {
   "cell_type": "markdown",
   "metadata": {},
   "source": [
    "### Case1: Short experiment time"
   ]
  },
  {
   "cell_type": "code",
   "execution_count": 5,
   "metadata": {
    "execution": {
     "iopub.execute_input": "2025-10-31T09:52:15.171068Z",
     "iopub.status.busy": "2025-10-31T09:52:15.170891Z",
     "iopub.status.idle": "2025-10-31T09:52:15.526512Z",
     "shell.execute_reply": "2025-10-31T09:52:15.525588Z"
    }
   },
   "outputs": [
    {
     "name": "stdout",
     "output_type": "stream",
     "text": [
      "Starting experimental run with id: 1. \n",
      "Starting experimental run with id: 2. \n",
      "Starting experimental run with id: 3. \n",
      "Starting experimental run with id: 4. \n",
      "Starting experimental run with id: 5. \n",
      "Starting experimental run with id: 6. \n",
      "Starting experimental run with id: 7. \n",
      "Starting experimental run with id: 8. \n",
      "Starting experimental run with id: 9. \n",
      "Starting experimental run with id: 10. \n",
      "Starting experimental run with id: 11. \n"
     ]
    },
    {
     "name": "stdout",
     "output_type": "stream",
     "text": [
      "Starting experimental run with id: 12. \n",
      "Starting experimental run with id: 13. \n",
      "Starting experimental run with id: 14. \n"
     ]
    }
   ],
   "source": [
    "sizes = [1, 500, 1000, 2000, 3000, 4000, 5000]\n",
    "t_numeric = []\n",
    "t_numeric_add = []\n",
    "t_array = []\n",
    "t_array_add = []\n",
    "for size in sizes:\n",
    "    tn, tna, run_id_n = insert_data(\"numeric\", size)\n",
    "    t_numeric.append(tn)\n",
    "    t_numeric_add.append(tna)\n",
    "\n",
    "    ta, taa, run_id_a = insert_data(\"array\", size)\n",
    "    t_array.append(ta)\n",
    "    t_array_add.append(taa)"
   ]
  },
  {
   "cell_type": "code",
   "execution_count": 6,
   "metadata": {
    "execution": {
     "iopub.execute_input": "2025-10-31T09:52:15.528376Z",
     "iopub.status.busy": "2025-10-31T09:52:15.528079Z",
     "iopub.status.idle": "2025-10-31T09:52:15.724642Z",
     "shell.execute_reply": "2025-10-31T09:52:15.723557Z"
    }
   },
   "outputs": [
    {
     "data": {
      "image/png": "[encoded data removed]",
      "text/plain": [
       "<Figure size 640x480 with 1 Axes>"
      ]
     },
     "metadata": {},
     "output_type": "display_data"
    }
   ],
   "source": [
    "fig, ax = plt.subplots(1, 1)\n",
    "ax.plot(sizes, t_numeric, \"o-\", label=\"Inserting row-by-row\")\n",
    "ax.plot(sizes, t_numeric_add, \"o-\", label=\"Inserting row-by-row: add_result only\")\n",
    "ax.plot(sizes, t_array, \"d-\", label=\"Inserting as binary blob\")\n",
    "ax.plot(sizes, t_array_add, \"d-\", label=\"Inserting as binary blob: add_result only\")\n",
    "ax.legend()\n",
    "ax.set_xlabel(\"Array length\")\n",
    "ax.set_ylabel(\"Time (s)\")\n",
    "fig.tight_layout()"
   ]
  },
  {
   "cell_type": "markdown",
   "metadata": {},
   "source": [
    "As shown in the latter figure, the time to setup and and close the experiment is approximately 0.4 sec. In case of small array sizes, the difference between inserting values of data as arrays and inserting them row-by-row is relatively unimportant. At larger array sizes, i.e. above 10000 points, the cost of writing data as individual datapoints starts to become important.\n"
   ]
  },
  {
   "cell_type": "markdown",
   "metadata": {},
   "source": [
    "### Case2: Long experiment time "
   ]
  },
  {
   "cell_type": "code",
   "execution_count": 7,
   "metadata": {
    "execution": {
     "iopub.execute_input": "2025-10-31T09:52:15.726380Z",
     "iopub.status.busy": "2025-10-31T09:52:15.726193Z",
     "iopub.status.idle": "2025-10-31T09:52:35.309624Z",
     "shell.execute_reply": "2025-10-31T09:52:35.308800Z"
    }
   },
   "outputs": [
    {
     "name": "stdout",
     "output_type": "stream",
     "text": [
      "Starting experimental run with id: 15. \n",
      "Starting experimental run with id: 16. \n",
      "Starting experimental run with id: 17. \n"
     ]
    },
    {
     "name": "stdout",
     "output_type": "stream",
     "text": [
      "Starting experimental run with id: 18. \n",
      "Starting experimental run with id: 19. \n"
     ]
    },
    {
     "name": "stdout",
     "output_type": "stream",
     "text": [
      "Starting experimental run with id: 20. \n",
      "Starting experimental run with id: 21. \n"
     ]
    },
    {
     "name": "stdout",
     "output_type": "stream",
     "text": [
      "Starting experimental run with id: 22. \n",
      "Starting experimental run with id: 23. \n"
     ]
    },
    {
     "name": "stdout",
     "output_type": "stream",
     "text": [
      "Starting experimental run with id: 24. \n"
     ]
    },
    {
     "name": "stdout",
     "output_type": "stream",
     "text": [
      "Starting experimental run with id: 25. \n"
     ]
    },
    {
     "name": "stdout",
     "output_type": "stream",
     "text": [
      "Starting experimental run with id: 26. \n"
     ]
    },
    {
     "name": "stdout",
     "output_type": "stream",
     "text": [
      "Starting experimental run with id: 27. \n"
     ]
    },
    {
     "name": "stdout",
     "output_type": "stream",
     "text": [
      "Starting experimental run with id: 28. \n"
     ]
    }
   ],
   "source": [
    "sizes = [1, 500, 1000, 2000, 3000, 4000, 5000]\n",
    "nreps = 100\n",
    "t_numeric = []\n",
    "t_numeric_add = []\n",
    "t_numeric_run_ids = []\n",
    "t_array = []\n",
    "t_array_add = []\n",
    "t_array_run_ids = []\n",
    "for size in sizes:\n",
    "    tn, tna, run_id_n = insert_data(\"numeric\", size, nreps=nreps)\n",
    "    t_numeric.append(tn)\n",
    "    t_numeric_add.append(tna)\n",
    "    t_numeric_run_ids.append(run_id_n)\n",
    "\n",
    "    ta, taa, run_id_a = insert_data(\"array\", size, nreps=nreps)\n",
    "    t_array.append(ta)\n",
    "    t_array_add.append(taa)\n",
    "    t_array_run_ids.append(run_id_a)"
   ]
  },
  {
   "cell_type": "code",
   "execution_count": 8,
   "metadata": {
    "execution": {
     "iopub.execute_input": "2025-10-31T09:52:35.311838Z",
     "iopub.status.busy": "2025-10-31T09:52:35.311640Z",
     "iopub.status.idle": "2025-10-31T09:52:35.444936Z",
     "shell.execute_reply": "2025-10-31T09:52:35.443871Z"
    },
    "scrolled": true
   },
   "outputs": [
    {
     "data": {
      "image/png": "[encoded data removed]",
      "text/plain": [
       "<Figure size 640x480 with 1 Axes>"
      ]
     },
     "metadata": {},
     "output_type": "display_data"
    }
   ],
   "source": [
    "fig, ax = plt.subplots(1, 1)\n",
    "ax.plot(sizes, t_numeric, \"o-\", label=\"Inserting row-by-row\")\n",
    "ax.plot(sizes, t_numeric_add, \"o-\", label=\"Inserting row-by-row: add_result only\")\n",
    "ax.plot(sizes, t_array, \"d-\", label=\"Inserting as binary blob\")\n",
    "ax.plot(sizes, t_array_add, \"d-\", label=\"Inserting as binary blob: add_result only\")\n",
    "ax.legend()\n",
    "ax.set_xlabel(\"Array length\")\n",
    "ax.set_ylabel(\"Time (s)\")\n",
    "fig.tight_layout()"
   ]
  },
  {
   "cell_type": "markdown",
   "metadata": {},
   "source": [
    "However, as we increase the length of the experiment, as seen here by repeating the insertion 100 times, we see a big difference between inserting values of the data row-by-row and inserting it as a binary blob."
   ]
  },
  {
   "cell_type": "markdown",
   "metadata": {},
   "source": [
    "## Loading the data "
   ]
  },
  {
   "cell_type": "code",
   "execution_count": 9,
   "metadata": {
    "execution": {
     "iopub.execute_input": "2025-10-31T09:52:35.446872Z",
     "iopub.status.busy": "2025-10-31T09:52:35.446691Z",
     "iopub.status.idle": "2025-10-31T09:52:35.449781Z",
     "shell.execute_reply": "2025-10-31T09:52:35.448980Z"
    }
   },
   "outputs": [],
   "source": [
    "from qcodes.dataset import load_by_id"
   ]
  },
  {
   "cell_type": "markdown",
   "metadata": {},
   "source": [
    "As usual you can load the data by using the ``load_by_id`` function but you will notice that the different storage methods\n",
    "are reflected in shape of the data as it is retrieved. "
   ]
  },
  {
   "cell_type": "code",
   "execution_count": 10,
   "metadata": {
    "execution": {
     "iopub.execute_input": "2025-10-31T09:52:35.451675Z",
     "iopub.status.busy": "2025-10-31T09:52:35.451486Z",
     "iopub.status.idle": "2025-10-31T09:52:35.454199Z",
     "shell.execute_reply": "2025-10-31T09:52:35.453467Z"
    }
   },
   "outputs": [],
   "source": [
    "run_id_n = t_numeric_run_ids[0]\n",
    "run_id_a = t_array_run_ids[0]"
   ]
  },
  {
   "cell_type": "code",
   "execution_count": 11,
   "metadata": {
    "execution": {
     "iopub.execute_input": "2025-10-31T09:52:35.455839Z",
     "iopub.status.busy": "2025-10-31T09:52:35.455679Z",
     "iopub.status.idle": "2025-10-31T09:52:35.464406Z",
     "shell.execute_reply": "2025-10-31T09:52:35.463560Z"
    },
    "scrolled": true
   },
   "outputs": [
    {
     "data": {
      "text/plain": [
       "{'x1': {'x1': array([0.21768012, 0.21768012, 0.01162426, 0.01162426, 0.53620282,\n",
       "         0.53620282, 0.99863619, 0.99863619, 0.16531758, 0.16531758,\n",
       "         0.63898095, 0.63898095, 0.68696493, 0.68696493, 0.41969809,\n",
       "         0.41969809, 0.54044288, 0.54044288, 0.71574733, 0.71574733,\n",
       "         0.78948263, 0.78948263, 0.32787825, 0.32787825, 0.55245842,\n",
       "         0.55245842, 0.69210639, 0.69210639, 0.69296911, 0.69296911,\n",
       "         0.96226856, 0.96226856, 0.15959515, 0.15959515, 0.13441752,\n",
       "         0.13441752, 0.39141864, 0.39141864, 0.41186738, 0.41186738,\n",
       "         0.63216223, 0.63216223, 0.2961816 , 0.2961816 , 0.90969216,\n",
       "         0.90969216, 0.50959774, 0.50959774, 0.94305934, 0.94305934,\n",
       "         0.94382008, 0.94382008, 0.3512981 , 0.3512981 , 0.62084963,\n",
       "         0.62084963, 0.19523616, 0.19523616, 0.80446515, 0.80446515,\n",
       "         0.92011039, 0.92011039, 0.34082697, 0.34082697, 0.03111002,\n",
       "         0.03111002, 0.11348724, 0.11348724, 0.42935844, 0.42935844,\n",
       "         0.72195428, 0.72195428, 0.39221007, 0.39221007, 0.69042807,\n",
       "         0.69042807, 0.60245615, 0.60245615, 0.31748471, 0.31748471,\n",
       "         0.29471806, 0.29471806, 0.65072645, 0.65072645, 0.90694998,\n",
       "         0.90694998, 0.74980454, 0.74980454, 0.88815017, 0.88815017,\n",
       "         0.93580915, 0.93580915, 0.86782995, 0.86782995, 0.13464881,\n",
       "         0.13464881, 0.96631859, 0.96631859, 0.52031859, 0.52031859,\n",
       "         0.3273949 , 0.3273949 , 0.47515149, 0.47515149, 0.05935446,\n",
       "         0.05935446, 0.43217486, 0.43217486, 0.21873849, 0.21873849,\n",
       "         0.99843893, 0.99843893, 0.88570864, 0.88570864, 0.14374235,\n",
       "         0.14374235, 0.52829535, 0.52829535, 0.08632598, 0.08632598,\n",
       "         0.78887943, 0.78887943, 0.91644256, 0.91644256, 0.0437934 ,\n",
       "         0.0437934 , 0.83100243, 0.83100243, 0.57080283, 0.57080283,\n",
       "         0.25514044, 0.25514044, 0.36251384, 0.36251384, 0.71520232,\n",
       "         0.71520232, 0.10094383, 0.10094383, 0.55532426, 0.55532426,\n",
       "         0.66364022, 0.66364022, 0.6303724 , 0.6303724 , 0.18008206,\n",
       "         0.18008206, 0.28809166, 0.28809166, 0.74329546, 0.74329546,\n",
       "         0.51696536, 0.51696536, 0.66454873, 0.66454873, 0.1369414 ,\n",
       "         0.1369414 , 0.78654556, 0.78654556, 0.4274008 , 0.4274008 ,\n",
       "         0.51719538, 0.51719538, 0.15301892, 0.15301892, 0.71302722,\n",
       "         0.71302722, 0.86879946, 0.86879946, 0.90622886, 0.90622886,\n",
       "         0.27827286, 0.27827286, 0.81333834, 0.81333834, 0.97877341,\n",
       "         0.97877341, 0.38004491, 0.38004491, 0.12975029, 0.12975029,\n",
       "         0.61148644, 0.61148644, 0.35836209, 0.35836209, 0.21129684,\n",
       "         0.21129684, 0.36643218, 0.36643218, 0.49936064, 0.49936064,\n",
       "         0.41755407, 0.41755407, 0.28260205, 0.28260205, 0.05840845,\n",
       "         0.05840845, 0.23052363, 0.23052363, 0.30137071, 0.30137071])}}"
      ]
     },
     "execution_count": 11,
     "metadata": {},
     "output_type": "execute_result"
    }
   ],
   "source": [
    "ds = load_by_id(run_id_n)\n",
    "ds.get_parameter_data(\"x1\")"
   ]
  },
  {
   "cell_type": "markdown",
   "metadata": {},
   "source": [
    "And a dataset stored as binary arrays"
   ]
  },
  {
   "cell_type": "code",
   "execution_count": 12,
   "metadata": {
    "execution": {
     "iopub.execute_input": "2025-10-31T09:52:35.466002Z",
     "iopub.status.busy": "2025-10-31T09:52:35.465830Z",
     "iopub.status.idle": "2025-10-31T09:52:35.483000Z",
     "shell.execute_reply": "2025-10-31T09:52:35.482130Z"
    },
    "scrolled": true
   },
   "outputs": [
    {
     "data": {
      "text/plain": [
       "{'x1': {'x1': array([[0.1606088 ],\n",
       "         [0.1606088 ],\n",
       "         [0.88012354],\n",
       "         [0.88012354],\n",
       "         [0.46601307],\n",
       "         [0.46601307],\n",
       "         [0.74883266],\n",
       "         [0.74883266],\n",
       "         [0.68849992],\n",
       "         [0.68849992],\n",
       "         [0.46891455],\n",
       "         [0.46891455],\n",
       "         [0.65472627],\n",
       "         [0.65472627],\n",
       "         [0.44417932],\n",
       "         [0.44417932],\n",
       "         [0.72554328],\n",
       "         [0.72554328],\n",
       "         [0.36131727],\n",
       "         [0.36131727],\n",
       "         [0.90229101],\n",
       "         [0.90229101],\n",
       "         [0.29240911],\n",
       "         [0.29240911],\n",
       "         [0.58759602],\n",
       "         [0.58759602],\n",
       "         [0.10001762],\n",
       "         [0.10001762],\n",
       "         [0.60549802],\n",
       "         [0.60549802],\n",
       "         [0.77602048],\n",
       "         [0.77602048],\n",
       "         [0.13972103],\n",
       "         [0.13972103],\n",
       "         [0.18963104],\n",
       "         [0.18963104],\n",
       "         [0.88527097],\n",
       "         [0.88527097],\n",
       "         [0.01586003],\n",
       "         [0.01586003],\n",
       "         [0.03088587],\n",
       "         [0.03088587],\n",
       "         [0.80735678],\n",
       "         [0.80735678],\n",
       "         [0.82199992],\n",
       "         [0.82199992],\n",
       "         [0.26103267],\n",
       "         [0.26103267],\n",
       "         [0.46119628],\n",
       "         [0.46119628],\n",
       "         [0.59652362],\n",
       "         [0.59652362],\n",
       "         [0.62460307],\n",
       "         [0.62460307],\n",
       "         [0.49811313],\n",
       "         [0.49811313],\n",
       "         [0.86022195],\n",
       "         [0.86022195],\n",
       "         [0.57087826],\n",
       "         [0.57087826],\n",
       "         [0.91529342],\n",
       "         [0.91529342],\n",
       "         [0.67544978],\n",
       "         [0.67544978],\n",
       "         [0.5988309 ],\n",
       "         [0.5988309 ],\n",
       "         [0.45339412],\n",
       "         [0.45339412],\n",
       "         [0.37127568],\n",
       "         [0.37127568],\n",
       "         [0.80542587],\n",
       "         [0.80542587],\n",
       "         [0.3318794 ],\n",
       "         [0.3318794 ],\n",
       "         [0.90122493],\n",
       "         [0.90122493],\n",
       "         [0.75764201],\n",
       "         [0.75764201],\n",
       "         [0.44665789],\n",
       "         [0.44665789],\n",
       "         [0.22724245],\n",
       "         [0.22724245],\n",
       "         [0.97566579],\n",
       "         [0.97566579],\n",
       "         [0.63352539],\n",
       "         [0.63352539],\n",
       "         [0.59318351],\n",
       "         [0.59318351],\n",
       "         [0.78406735],\n",
       "         [0.78406735],\n",
       "         [0.30363868],\n",
       "         [0.30363868],\n",
       "         [0.50713364],\n",
       "         [0.50713364],\n",
       "         [0.94214581],\n",
       "         [0.94214581],\n",
       "         [0.83470645],\n",
       "         [0.83470645],\n",
       "         [0.98356753],\n",
       "         [0.98356753],\n",
       "         [0.45756069],\n",
       "         [0.45756069],\n",
       "         [0.31140118],\n",
       "         [0.31140118],\n",
       "         [0.35684752],\n",
       "         [0.35684752],\n",
       "         [0.72552976],\n",
       "         [0.72552976],\n",
       "         [0.48570039],\n",
       "         [0.48570039],\n",
       "         [0.31442988],\n",
       "         [0.31442988],\n",
       "         [0.56918252],\n",
       "         [0.56918252],\n",
       "         [0.21067727],\n",
       "         [0.21067727],\n",
       "         [0.7269768 ],\n",
       "         [0.7269768 ],\n",
       "         [0.10082408],\n",
       "         [0.10082408],\n",
       "         [0.27682425],\n",
       "         [0.27682425],\n",
       "         [0.00193488],\n",
       "         [0.00193488],\n",
       "         [0.94503394],\n",
       "         [0.94503394],\n",
       "         [0.01244993],\n",
       "         [0.01244993],\n",
       "         [0.49033624],\n",
       "         [0.49033624],\n",
       "         [0.8369654 ],\n",
       "         [0.8369654 ],\n",
       "         [0.58710734],\n",
       "         [0.58710734],\n",
       "         [0.01174993],\n",
       "         [0.01174993],\n",
       "         [0.41887476],\n",
       "         [0.41887476],\n",
       "         [0.02883151],\n",
       "         [0.02883151],\n",
       "         [0.31855445],\n",
       "         [0.31855445],\n",
       "         [0.85862082],\n",
       "         [0.85862082],\n",
       "         [0.58487304],\n",
       "         [0.58487304],\n",
       "         [0.51415205],\n",
       "         [0.51415205],\n",
       "         [0.0614632 ],\n",
       "         [0.0614632 ],\n",
       "         [0.65116884],\n",
       "         [0.65116884],\n",
       "         [0.65613235],\n",
       "         [0.65613235],\n",
       "         [0.08070316],\n",
       "         [0.08070316],\n",
       "         [0.56953047],\n",
       "         [0.56953047],\n",
       "         [0.56309877],\n",
       "         [0.56309877],\n",
       "         [0.42872784],\n",
       "         [0.42872784],\n",
       "         [0.84772523],\n",
       "         [0.84772523],\n",
       "         [0.52185431],\n",
       "         [0.52185431],\n",
       "         [0.88814616],\n",
       "         [0.88814616],\n",
       "         [0.18062377],\n",
       "         [0.18062377],\n",
       "         [0.84056019],\n",
       "         [0.84056019],\n",
       "         [0.89677818],\n",
       "         [0.89677818],\n",
       "         [0.81978041],\n",
       "         [0.81978041],\n",
       "         [0.01147378],\n",
       "         [0.01147378],\n",
       "         [0.69222729],\n",
       "         [0.69222729],\n",
       "         [0.82608606],\n",
       "         [0.82608606],\n",
       "         [0.02370175],\n",
       "         [0.02370175],\n",
       "         [0.78264008],\n",
       "         [0.78264008],\n",
       "         [0.72893664],\n",
       "         [0.72893664],\n",
       "         [0.90603695],\n",
       "         [0.90603695],\n",
       "         [0.05382111],\n",
       "         [0.05382111],\n",
       "         [0.05564206],\n",
       "         [0.05564206],\n",
       "         [0.49433126],\n",
       "         [0.49433126],\n",
       "         [0.16921629],\n",
       "         [0.16921629],\n",
       "         [0.42697299],\n",
       "         [0.42697299]])}}"
      ]
     },
     "execution_count": 12,
     "metadata": {},
     "output_type": "execute_result"
    }
   ],
   "source": [
    "ds = load_by_id(run_id_a)\n",
    "ds.get_parameter_data(\"x1\")"
   ]
  },
  {
   "cell_type": "code",
   "execution_count": null,
   "metadata": {},
   "outputs": [],
   "source": []
  }
 ],
 "metadata": {
  "kernelspec": {
   "display_name": ".venv",
   "language": "python",
   "name": "python3"
  },
  "language_info": {
   "codemirror_mode": {
    "name": "ipython",
    "version": 3
   },
   "file_extension": ".py",
   "mimetype": "text/x-python",
   "name": "python",
   "nbconvert_exporter": "python",
   "pygments_lexer": "ipython3",
   "version": "3.11.14"
  },
  "nbsphinx": {
   "timeout": 600
  },
  "toc": {
   "base_numbering": 1,
   "nav_menu": {},
   "number_sections": true,
   "sideBar": true,
   "skip_h1_title": false,
   "title_cell": "Table of Contents",
   "title_sidebar": "Contents",
   "toc_cell": false,
   "toc_position": {},
   "toc_section_display": true,
   "toc_window_display": false
  },
  "varInspector": {
   "cols": {
    "lenName": 16,
    "lenType": 16,
    "lenVar": 40
   },
   "kernels_config": {
    "python": {
     "delete_cmd_postfix": "",
     "delete_cmd_prefix": "del ",
     "library": "var_list.py",
     "varRefreshCmd": "print(var_dic_list())"
    },
    "r": {
     "delete_cmd_postfix": ") ",
     "delete_cmd_prefix": "rm(",
     "library": "var_list.r",
     "varRefreshCmd": "cat(var_dic_list()) "
    }
   },
   "types_to_exclude": [
    "module",
    "function",
    "builtin_function_or_method",
    "instance",
    "_Feature"
   ],
   "window_display": false
  }
 },
 "nbformat": 4,
 "nbformat_minor": 4
}
