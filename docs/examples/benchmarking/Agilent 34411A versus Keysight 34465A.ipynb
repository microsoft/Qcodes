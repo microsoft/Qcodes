{
 "cells": [
  {
   "cell_type": "markdown",
   "metadata": {
    "deletable": true,
    "editable": true
   },
   "source": [
    "# Agilent 34411A versus Keysight 34465A\n",
    "\n",
    "The following notebook perfoms a benchmarking of the two DMMs. In part one, raw readings of immediate voltages are timed\n",
    "and compared. In part two, actual sweeps are performed with a QDac."
   ]
  },
  {
   "cell_type": "code",
   "execution_count": 1,
   "metadata": {
    "collapsed": true,
    "deletable": true,
    "editable": true
   },
   "outputs": [],
   "source": [
    "%matplotlib notebook\n",
    "import time\n",
    "import matplotlib.pyplot as plt\n",
    "import numpy as np\n",
    "\n",
    "import qcodes as qc\n",
    "from qcodes.instrument_drivers.Keysight.Keysight_34465A import Keysight_34465A\n",
    "from qcodes.instrument_drivers.agilent.Agilent_34400A import Agilent_34400A\n",
    "from qcodes.instrument_drivers.QDev.QDac import QDac"
   ]
  },
  {
   "cell_type": "markdown",
   "metadata": {
    "deletable": true,
    "editable": true
   },
   "source": [
    "## Import and setup"
   ]
  },
  {
   "cell_type": "code",
   "execution_count": 2,
   "metadata": {
    "collapsed": false,
    "deletable": true,
    "editable": true
   },
   "outputs": [
    {
     "name": "stdout",
     "output_type": "stream",
     "text": [
      "Connected to: Keysight Technologies 34465A (serial:MY54505388, firmware:A.02.14-02.40-02.14-00.49-02-01) in 6.93s\n",
      "Connected to: Agilent Technologies 34411A (serial:MY48002016, firmware:2.35-2.35-0.09-46-09) in 0.06s\n"
     ]
    }
   ],
   "source": [
    "ks = Keysight_34465A('Keysight', 'TCPIP0::K-000000-00000::inst0::INSTR')\n",
    "agi = Agilent_34400A('Agilent', 'TCPIP0::192.168.15.105::inst0::INSTR')\n",
    "qdac = QDac('qdac', 'ASRL4::INSTR')"
   ]
  },
  {
   "cell_type": "code",
   "execution_count": 9,
   "metadata": {
    "collapsed": true,
    "deletable": true,
    "editable": true
   },
   "outputs": [],
   "source": [
    "station = qc.Station(ks, agi, qdac)"
   ]
  },
  {
   "cell_type": "code",
   "execution_count": 10,
   "metadata": {
    "collapsed": false,
    "deletable": true,
    "editable": true
   },
   "outputs": [],
   "source": [
    "# set up a NPLC of 0.06 corresponding to an aperture time of 1 ms\n",
    "ks.NPLC(0.06)\n",
    "agi.NPLC(0.06)\n",
    "\n",
    "# set the same range on both DMMs\n",
    "ks.range(1)\n",
    "agi.range(1)"
   ]
  },
  {
   "cell_type": "markdown",
   "metadata": {
    "deletable": true,
    "editable": true
   },
   "source": [
    "## Part one - raw readings"
   ]
  },
  {
   "cell_type": "code",
   "execution_count": 11,
   "metadata": {
    "collapsed": false,
    "deletable": true,
    "editable": true
   },
   "outputs": [
    {
     "name": "stdout",
     "output_type": "stream",
     "text": [
      "Reading with displays ON\n",
      "----------\n",
      "Read 512 values one at a time from Keysight in: 8.587134838104248 s\n",
      "Read 512 values one at a time from Agilent in: 4.099916696548462 s\n",
      "----------\n",
      "Read 1024 values one at a time from Keysight in: 16.83395004272461 s\n",
      "Read 1024 values one at a time from Agilent in: 8.229825019836426 s\n",
      "----------\n",
      "Read 2048 values one at a time from Keysight in: 33.76206350326538 s\n",
      "Read 2048 values one at a time from Agilent in: 16.453675985336304 s\n",
      "----------\n"
     ]
    }
   ],
   "source": [
    "# Preliminary testing, just get N readings from each instrument\n",
    "# with the displays on\n",
    "\n",
    "ks.display_clear()  # make sure that the display is on\n",
    "agi.display_clear()\n",
    "\n",
    "print('Reading with displays ON')\n",
    "print('-'*10)\n",
    "\n",
    "for N in [512, 1024, 2048]:\n",
    "\n",
    "    t_start = time.time()\n",
    "    for ii in range(N):\n",
    "        ks.volt()\n",
    "    t_stop = time.time()\n",
    "    print('Read {} values one at a time from Keysight in: {} s'.format(N, t_stop-t_start))\n",
    "\n",
    "    t_start = time.time()\n",
    "    for ii in range(N):\n",
    "        agi.volt()\n",
    "    t_stop = time.time()\n",
    "    print('Read {} values one at a time from Agilent in: {} s'.format(N, t_stop-t_start))\n",
    "\n",
    "    print('-'*10)"
   ]
  },
  {
   "cell_type": "code",
   "execution_count": 12,
   "metadata": {
    "collapsed": false,
    "deletable": true,
    "editable": true
   },
   "outputs": [
    {
     "name": "stdout",
     "output_type": "stream",
     "text": [
      "Reading with displays OFF\n",
      "----------\n",
      "Read 512 values one at a time from Keysight in: 4.5132529735565186 s\n",
      "Read 512 values one at a time from Agilent in: 4.098856449127197 s\n",
      "----------\n",
      "Read 1024 values one at a time from Keysight in: 8.996399164199829 s\n",
      "Read 1024 values one at a time from Agilent in: 8.227899074554443 s\n",
      "----------\n",
      "Read 2048 values one at a time from Keysight in: 17.969755172729492 s\n",
      "Read 2048 values one at a time from Agilent in: 16.399696350097656 s\n",
      "----------\n"
     ]
    }
   ],
   "source": [
    "# The same test, but with the displays off to decrease latency\n",
    "\n",
    "print('Reading with displays OFF')\n",
    "print('-'*10)\n",
    "\n",
    "for N in [512, 1024, 2048]:\n",
    "\n",
    "    ks.display_text('QCoDeS')\n",
    "    t_start = time.time()\n",
    "    for ii in range(N):\n",
    "        ks.volt()\n",
    "    t_stop = time.time()\n",
    "    print('Read {} values one at a time from Keysight in: {} s'.format(N, t_stop-t_start))\n",
    "    ks.display_clear()\n",
    "\n",
    "    agi.display_text('QCoDes')\n",
    "    t_start = time.time()\n",
    "    for ii in range(N):\n",
    "        agi.volt()\n",
    "    t_stop = time.time()\n",
    "    print('Read {} values one at a time from Agilent in: {} s'.format(N, t_stop-t_start))\n",
    "    agi.display_clear()\n",
    "\n",
    "    print('-'*10)"
   ]
  },
  {
   "cell_type": "markdown",
   "metadata": {
    "collapsed": false,
    "deletable": true,
    "editable": true
   },
   "source": [
    "## Part two - QCoDeS looping"
   ]
  },
  {
   "cell_type": "markdown",
   "metadata": {
    "deletable": true,
    "editable": true
   },
   "source": [
    "### 1D Sweep"
   ]
  },
  {
   "cell_type": "code",
   "execution_count": 13,
   "metadata": {
    "collapsed": false,
    "deletable": true,
    "editable": true
   },
   "outputs": [
    {
     "name": "stdout",
     "output_type": "stream",
     "text": [
      "DataSet:\n",
      "   mode     = DataMode.LOCAL\n",
      "   location = 'data/2017-03-07/#018_testsweep_12-32-13'\n",
      "   <Type>   | <array_id>      | <array.name> | <array.shape>\n",
      "   Setpoint | qdac_ch42_v_set | ch42_v       | (512,)\n",
      "   Measured | Keysight_volt   | volt         | (512,)\n",
      "started at 2017-03-07 12:32:29\n",
      "\n",
      "\n",
      "Did a 512-point QCoDeS sweep of the QDac/Keysight pair in 16.5 s\n",
      "\n",
      "\n",
      "DataSet:\n",
      "   mode     = DataMode.LOCAL\n",
      "   location = 'data/2017-03-07/#019_testsweep_12-32-29'\n",
      "   <Type>   | <array_id>      | <array.name> | <array.shape>\n",
      "   Setpoint | qdac_ch41_v_set | ch41_v       | (512,)\n",
      "   Measured | Agilent_volt    | volt         | (512,)\n",
      "started at 2017-03-07 12:32:46\n",
      "\n",
      "\n",
      "Did a 512-point QCoDeS sweep of the QDac/Agilent pair in 16.5 s\n",
      "\n",
      "\n"
     ]
    }
   ],
   "source": [
    "# Sweep a voltage from 0.2 V to 0.5 V in 512 steps\n",
    "# Switch off displays for speed\n",
    "\n",
    "ks.display_text('QCoDeS')\n",
    "agi.display_text('QCoDeS')\n",
    "\n",
    "N = 512  \n",
    "V1 = 0.2\n",
    "V2 = 0.5\n",
    "dV = (V2-V1)/(N-1)  # endpoint included in sweep\n",
    "\n",
    "loop = qc.Loop(qdac.ch42_v.sweep(V1, V2, dV)).each(ks.volt)\n",
    "data = loop.get_data_set(name='testsweep')\n",
    "t_start = time.time()\n",
    "_ = loop.run()\n",
    "t_stop = time.time()\n",
    "print('\\n\\nDid a {}-point QCoDeS sweep of the QDac/Keysight pair in {:.1f} s\\n\\n'.format(N, t_stop-t_start))\n",
    "\n",
    "loop = qc.Loop(qdac.ch41_v.sweep(V1, V2, dV)).each(agi.volt)\n",
    "data = loop.get_data_set(name='testsweep')\n",
    "t_start = time.time()\n",
    "_ = loop.run()\n",
    "t_stop = time.time()\n",
    "print('\\n\\nDid a {}-point QCoDeS sweep of the QDac/Agilent pair in {:.1f} s\\n\\n'.format(N, t_stop-t_start))\n",
    "\n",
    "agi.display_clear()\n",
    "ks.display_clear()"
   ]
  },
  {
   "cell_type": "markdown",
   "metadata": {
    "deletable": true,
    "editable": true
   },
   "source": [
    "### 2D Sweep"
   ]
  },
  {
   "cell_type": "code",
   "execution_count": 14,
   "metadata": {
    "collapsed": false,
    "deletable": true,
    "editable": true
   },
   "outputs": [
    {
     "name": "stdout",
     "output_type": "stream",
     "text": [
      "DataSet:\n",
      "   mode     = DataMode.LOCAL\n",
      "   location = 'data/2017-03-07/#020_testsweep_12-33-46'\n",
      "   <Type>   | <array_id>      | <array.name> | <array.shape>\n",
      "   Setpoint | qdac_ch42_v_set | ch42_v       | (100,)\n",
      "   Setpoint | qdac_ch41_v_set | ch41_v       | (100, 100)\n",
      "   Measured | Keysight_volt   | volt         | (100, 100)\n",
      "started at 2017-03-07 12:39:09\n",
      "\n",
      "\n",
      "Did a 100x100-point QCoDeS sweep of the QDac/Keysight pair in 323.9 s\n",
      "\n",
      "\n",
      "DataSet:\n",
      "   mode     = DataMode.LOCAL\n",
      "   location = 'data/2017-03-07/#021_testsweep_12-39-09'\n",
      "   <Type>   | <array_id>      | <array.name> | <array.shape>\n",
      "   Setpoint | qdac_ch41_v_set | ch41_v       | (100,)\n",
      "   Setpoint | qdac_ch42_v_set | ch42_v       | (100, 100)\n",
      "   Measured | Agilent_volt    | volt         | (100, 100)\n",
      "started at 2017-03-07 12:44:33\n",
      "\n",
      "\n",
      "Did a 100x100-point QCoDeS sweep of the QDac/Agilent pair in 323.8 s\n",
      "\n",
      "\n"
     ]
    }
   ],
   "source": [
    "# Perform the same sweep as before, but this time nested inside another sweep of the same length,\n",
    "# i.e. at each point of the original sweep, another QDac channel sweeps its voltage in the same number of steps\n",
    "\n",
    "ks.display_text('QCoDeS')\n",
    "agi.display_text('QCoDeS')\n",
    "\n",
    "N = 100\n",
    "V1 = 0.2\n",
    "V2 = 0.5\n",
    "dV = (V2-V1)/(N-1)\n",
    "\n",
    "loop = qc.Loop(qdac.ch42_v.sweep(V1, V2, dV)).loop(qdac.ch41_v.sweep(V1, V2, dV)).each(ks.volt)\n",
    "data = loop.get_data_set(name='testsweep')\n",
    "t_start = time.time()\n",
    "_ = loop.run()\n",
    "t_stop = time.time()\n",
    "print('\\n\\nDid a {}x{}-point QCoDeS sweep of the QDac/Keysight pair in {:.1f} s\\n\\n'.format(N, N, t_stop-t_start))\n",
    "\n",
    "loop = qc.Loop(qdac.ch41_v.sweep(V1, V2, dV)).loop(qdac.ch42_v.sweep(V1, V2, dV)).each(agi.volt)\n",
    "data = loop.get_data_set(name='testsweep')\n",
    "t_start = time.time()\n",
    "_ = loop.run()\n",
    "t_stop = time.time()\n",
    "print('\\n\\nDid a {}x{}-point QCoDeS sweep of the QDac/Agilent pair in {:.1f} s\\n\\n'.format(N, N, t_stop-t_start))\n",
    "\n",
    "ks.display_clear()\n",
    "agi.display_clear()"
   ]
  },
  {
   "cell_type": "code",
   "execution_count": 14,
   "metadata": {
    "collapsed": true,
    "deletable": true,
    "editable": true
   },
   "outputs": [],
   "source": [
    "ks.close()\n",
    "agi.close()\n",
    "qdac.close()"
   ]
  },
  {
   "cell_type": "code",
   "execution_count": null,
   "metadata": {
    "collapsed": true,
    "deletable": true,
    "editable": true
   },
   "outputs": [],
   "source": []
  }
 ],
 "metadata": {
  "kernelspec": {
   "display_name": "Python 3",
   "language": "python",
   "name": "python3"
  },
  "language_info": {
   "codemirror_mode": {
    "name": "ipython",
    "version": 3
   },
   "file_extension": ".py",
   "mimetype": "text/x-python",
   "name": "python",
   "nbconvert_exporter": "python",
   "pygments_lexer": "ipython3",
   "version": "3.5.2"
  }
 },
 "nbformat": 4,
 "nbformat_minor": 2
}
