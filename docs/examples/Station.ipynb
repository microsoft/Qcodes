{
 "cells": [
  {
   "cell_type": "markdown",
   "metadata": {},
   "source": [
    "# Station\n",
    "\n",
    "Here, the following topics are going to be covered:\n",
    "\n",
    "- What is a station\n",
    "- How to create it, and work with it\n",
    "- Snapshot of a station\n",
    "- Configuring station using a YAML configuration file"
   ]
  },
  {
   "cell_type": "markdown",
   "metadata": {},
   "source": [
    "### Useful imports"
   ]
  },
  {
   "cell_type": "code",
   "execution_count": 1,
   "metadata": {},
   "outputs": [],
   "source": [
    "from pprint import pprint  # for pretty-printing python variables like 'dict'\n",
    "\n",
    "import qcodes\n",
    "from qcodes import Parameter, Station\n",
    "from qcodes.tests.instrument_mocks import DummyInstrument"
   ]
  },
  {
   "cell_type": "markdown",
   "metadata": {},
   "source": [
    "## What is a Station\n",
    "\n",
    "Experimental setups are large, comprising of many instruments; and instruments tend to be quite complex in that they comprise many parameters and other stateful parts. It deems useful to have a bucket where all of them can be conveniently stored, and accessed.\n",
    "\n",
    "Here is where the concept of station comes into play. Instruments, parameters, and other \"components\" can be added to a station. As a result, the user gets an station instance that can be referred to in order to access those \"components\".\n",
    "\n",
    "Moreover, stations are very helpful when capturing the state of the experimental setup, known as snapshot. Refer to the respective section about station snapshot below.\n",
    "\n",
    "Last but not least, station can be configured in a text file which simplifies initialization of the instruments. Read more of this below."
   ]
  },
  {
   "cell_type": "markdown",
   "metadata": {},
   "source": [
    "## How to create Station and work with it\n",
    "\n",
    "For further sections we will need a dummy parameter, and a dummy instrument."
   ]
  },
  {
   "cell_type": "code",
   "execution_count": 2,
   "metadata": {},
   "outputs": [],
   "source": [
    "# A dummy self-standing parameter\n",
    "p = Parameter('p', label='Parameter P', unit='kg', set_cmd=None, get_cmd=None)\n",
    "p.set(123)"
   ]
  },
  {
   "cell_type": "code",
   "execution_count": 3,
   "metadata": {},
   "outputs": [],
   "source": [
    "# A dummy instrument with three parameters\n",
    "instr = DummyInstrument('instr', gates=['input', 'output', 'gain'])\n",
    "instr.gain(42)"
   ]
  },
  {
   "cell_type": "markdown",
   "metadata": {},
   "source": [
    "### Creating a Station"
   ]
  },
  {
   "cell_type": "code",
   "execution_count": 4,
   "metadata": {},
   "outputs": [
    {
     "data": {
      "text/plain": [
       "'instr'"
      ]
     },
     "execution_count": 4,
     "metadata": {},
     "output_type": "execute_result"
    }
   ],
   "source": [
    "station = Station()\n",
    "\n",
    "station.add_component(p)\n",
    "station.add_component(instr)"
   ]
  },
  {
   "cell_type": "code",
   "execution_count": 5,
   "metadata": {},
   "outputs": [
    {
     "data": {
      "text/plain": [
       "{'p': <qcodes.instrument.parameter.Parameter: p at 4817387984>,\n",
       " 'instr': <DummyInstrument: instr>}"
      ]
     },
     "execution_count": 5,
     "metadata": {},
     "output_type": "execute_result"
    }
   ],
   "source": [
    "# Now station contains both `p` and `instr`\n",
    "station.components"
   ]
  },
  {
   "cell_type": "markdown",
   "metadata": {},
   "source": [
    "Note that it is also possible to add components to a station via arguments of its constructor, like this:"
   ]
  },
  {
   "cell_type": "code",
   "execution_count": 6,
   "metadata": {},
   "outputs": [],
   "source": [
    "station = Station(p, instr)"
   ]
  },
  {
   "cell_type": "markdown",
   "metadata": {},
   "source": [
    "### Access Station components"
   ]
  },
  {
   "cell_type": "markdown",
   "metadata": {},
   "source": [
    "Now that the components have beed added to the station, it is possible to access them as attributes of the station (using the \"dot\" notation). With this feature, users can use tab-completion to find the instrument in the station they'd like to access."
   ]
  },
  {
   "cell_type": "code",
   "execution_count": 7,
   "metadata": {},
   "outputs": [],
   "source": [
    "# Let's confirm that station's `p` is \n",
    "# actually the `p` parameter defined above\n",
    "assert station.p is p"
   ]
  },
  {
   "cell_type": "markdown",
   "metadata": {},
   "source": [
    "### Removing component from Station"
   ]
  },
  {
   "cell_type": "markdown",
   "metadata": {},
   "source": [
    "Removing components from the station should be done with `remove_component` method - just pass it a name of the component you'd like to remove:"
   ]
  },
  {
   "cell_type": "code",
   "execution_count": 8,
   "metadata": {},
   "outputs": [
    {
     "data": {
      "text/plain": [
       "<qcodes.instrument.parameter.Parameter: p at 4817387984>"
      ]
     },
     "execution_count": 8,
     "metadata": {},
     "output_type": "execute_result"
    }
   ],
   "source": [
    "station.remove_component('p')"
   ]
  },
  {
   "cell_type": "code",
   "execution_count": 9,
   "metadata": {},
   "outputs": [
    {
     "data": {
      "text/plain": [
       "{'instr': <DummyInstrument: instr>}"
      ]
     },
     "execution_count": 9,
     "metadata": {},
     "output_type": "execute_result"
    }
   ],
   "source": [
    "# Now station contains only `instr`\n",
    "station.components"
   ]
  },
  {
   "cell_type": "markdown",
   "metadata": {},
   "source": [
    "### Default Station\n",
    "\n",
    "The `Station` class is designed in such a way that it always contains a reference to a `default` station object (the `Station.default` attribute). The constructor of the station object has a `default` keyword argument that allows to specify whether the resulting instance shall be stored as a default station, or not.\n",
    "\n",
    "This feature is a convenience. Other objects which consume an instance of `Station` as an argument (for example, `Measurement`) can now implement a logic to resort to `Station.default` in case an `Station` instance was not explicitly given to them."
   ]
  },
  {
   "cell_type": "markdown",
   "metadata": {},
   "source": [
    "## Snapshot of a Station\n",
    "\n",
    "The station has a `snapshot` method that allows to create a collective, single snapshot of all the instruments, parameters, and submodules that have been added to it. It would be very time-consuming for the user to manually go through every instrument and parameter, and collect the snapshot data.\n",
    "\n",
    "For example, the `Measurement` object accepts a station argument exactly for the purpose of storing a snapshot of the whole experimental setup next to the measured data.\n",
    "\n",
    "Read more about snapshots in general, how to work with them, station's snapshot in particular, and more -- in [\"Working with snapshots\" example notebook](DataSet/Working with snapshots.ipynb) ([nbviewer.jupyter.org link](https://nbviewer.jupyter.org/github/QCoDeS/Qcodes/tree/master/docs/examples/DataSet/Working with snapshots.ipynb))."
   ]
  },
  {
   "cell_type": "markdown",
   "metadata": {},
   "source": [
    "## Configuring Station using YAML configuration file\n",
    "\n",
    "The initialization part of the code where one instantiates instruments, set's up proper initial values for parameters, etc. can be quite long and tedious to maintain. For example, when a certain instrument is no longer needed, usually users just comment out the lines of initialization script which are related to the said instrument, and re-run the initialization script. Sharing initialization scripts is also difficult because each user may have a different expecation on the format it.\n",
    "\n",
    "These (and more) concerns are to be solved by YAML configuration of the `Station` (formerly known to some users under the name `StationConfigurator`).\n",
    "\n",
    "The YAML configuration file allows to statically and uniformly specify settings of all the instruments (and their parameters) that the measurement setup (the \"physical\" station) consists of, and load them with those settings on demand. The `Station` object implements convenient methods for this.\n",
    "\n",
    "The YAML configuration, if used, is stored in the station as a component with name `config`, and is thus included in the snapshot of the whole station.\n",
    "\n",
    "Note that one is not obliged to use the YAML configuration for setting up one's `Station` (for example, as at the top of this notebook).\n",
    "\n",
    "Below the following is discussed:\n",
    "\n",
    "- The structure of the YAML configuration file\n",
    "- `Station`s methods realted to working with the YAML configuration\n",
    "- Entries in QCoDeS config that are related to `Station`"
   ]
  },
  {
   "cell_type": "markdown",
   "metadata": {},
   "source": [
    "### Example of YAML Station configuration"
   ]
  },
  {
   "cell_type": "markdown",
   "metadata": {},
   "source": [
    "Below is an example YAML station configuration file. All the fields are explained in the inline comments. Read it through.\n",
    "\n",
    "When exploring the YAML file capabilities, please note the difference between `parameters` section and `add_parameters` section. In the example file below, for the `QDac` instrument, the `Bx` parameter is going to be a new, additional parameter. This new `Bx` parameter will have its `limits`, `scale`, etc. __different__ from its \"source\" parameter `ch02.v` that it controls. Specifically this means that when setting `Bx` to `2.0`:\n",
    "\n",
    "1. the value of `2.0` is being validated against the limits of `Bx` (`0.0, 3.0`),\n",
    "2. then the raw (\"scaled\") value of `130.468` (`= 2.0 * 65.234`) is passed to the `ch02.v` parameter,\n",
    "3. then that value of `130.468` is validated against the limits of `ch02.v` (`0.0, 1.5e+3`),\n",
    "4. then the raw (\"scaled\") value of `1.30468` (`= 130.468 * 0.01`) is finally passed to the physical instrument.\n",
    "\n",
    "Please also note that when trying in numbers in exponential form, it is required to provide `+` and `-` signs after `e`, for example, `7.8334e+5` and `2.5e-23`. Refer to YAML file format specification for more information."
   ]
  },
  {
   "cell_type": "markdown",
   "metadata": {},
   "source": [
    "```yaml\n",
    "# Example YAML Station configuration file\n",
    "#\n",
    "# This file gets snapshotted and can be read back from the JSON \n",
    "# snapshot for every experiment run.\n",
    "#\n",
    "# All fields are optional unless explicitly mentioned otherwise.\n",
    "#\n",
    "# As in all YAML files a one-line notation can also be used\n",
    "# instead of nesting notation.\n",
    "#\n",
    "# The file starts with a list of loadable instruments instances,\n",
    "# i.e. there can be two entries for two instruments of the same\n",
    "# type if you want to specify two different use cases \n",
    "# e.g. \"dmm1-readout\" and \"dmm1-calibration\".\n",
    "#\n",
    "instruments:\n",
    "  # Each instrument is specified by its name.\n",
    "  # This name is what is looked up by the `load_instrument`\n",
    "  # method of `Station`.\n",
    "  # Simulated instruments can also be specified here, just put\n",
    "  # the path to the similation .yaml file as the value of the\n",
    "  # \"init\"->\"visalib\" field (see below for an example of the\n",
    "  # \"init\" section as well as an example of specifying \n",
    "  # a simulated instrument).\n",
    "  qdac:\n",
    "    # Full import path to the python module that contains\n",
    "    # the driver class of the instrument.\n",
    "    # Required field.\n",
    "    driver: qcodes.instrument_drivers.QDev.QDac_channels\n",
    "    # The name of the class of the instrument driver.\n",
    "    # Required field.\n",
    "    type: QDac\n",
    "    # Visa address of the instrument.\n",
    "    # Note that this field can also be specified in the\n",
    "    # \"init\" section (see below) but the address specified \n",
    "    # here will overrule the address from the \"init\" section.\n",
    "    # Essentially, specifying address here allows avoiding\n",
    "    # the \"init\" section completely when address is the only\n",
    "    # neccesary argument that the instrument driver needs.\n",
    "    # For obvious reasons, this field is required for VISA\n",
    "    # instruments.\n",
    "    address: ASRL4::INSTR\n",
    "    # If an instrument with this name is already instantiated,\n",
    "    # and this field is true, then the existing instrument \n",
    "    # instance will be closed before instantiating this new one.\n",
    "    # If this field is false, or left out, closing will not\n",
    "    # happen.\n",
    "    enable_forced_reconnect: true\n",
    "    #\n",
    "    # The \"init\" section specifies constant arguments that are\n",
    "    # to be passed to the __init__ function of the instrument.\n",
    "    # Note that it is the instrument's driver class that defines\n",
    "    # the allowed arguments, for example, here \"update_currents\"\n",
    "    # is an argument that is specific to \"QDac\" driver.\n",
    "    init:\n",
    "      terminator: \\n\n",
    "      update_currents: false\n",
    "    #\n",
    "    # Setting up properties of parameters that already exist on\n",
    "    # the instrument.\n",
    "    parameters:\n",
    "      # Each parameter is specified by its name from the\n",
    "      # instrument driver class.\n",
    "      # Note that \"dot: notation can be used to specify \n",
    "      # parameters in (sub)channels and submodules.\n",
    "      ch01.v:\n",
    "        # If an alias is specified, the paramater becomes  \n",
    "        # accessible under another name, so that you can write\n",
    "        # `qdac.cutter_gate(0.2)` instead of `qdac.ch01.v(0.2)`.\n",
    "        # Note that the parameter instance does not get copied,\n",
    "        # so that `(qdac.ch01.v is qdac.cutter_gate) == True`.\n",
    "        alias: cutter_gate\n",
    "        # Set new label.\n",
    "        label: Cutter Gate Voltage\n",
    "        # Set new unit.\n",
    "        unit: mV\n",
    "        # Set new scale.\n",
    "        scale: 0.001\n",
    "        # Set new post_delay.\n",
    "        post_delay: 0\n",
    "        # Set new inter_delay.\n",
    "        inter_delay: 0.01\n",
    "        # Set new step.\n",
    "        step: 1e-4\n",
    "        # If this field is given, and contains two \n",
    "        # comma-separated numbers like here, then the parameter\n",
    "        # gets a new `Numbers` validator with these values as\n",
    "        # lower and upper limits, respectively (in this case, it\n",
    "        # is `Numbers(-0.1, 0.1)`).\n",
    "        limits: -0.1,0.1\n",
    "        # Set the parameter to this given initial value upon\n",
    "        # instrument initialization.\n",
    "        # Note that if the current value on the physical\n",
    "        # instrument is different, the parameter will be ramped\n",
    "        # with the delays and step specified in this file.\n",
    "        initial_value: 0.01\n",
    "        # In case this values equals to true, upon loading this\n",
    "        # instrument from this configuration this parameter will\n",
    "        # be appended to the list of parameters that are \n",
    "        # displayed in QCoDeS `Monitor`.\n",
    "        monitor: true\n",
    "      # As in all YAML files a one-line notation can also be \n",
    "      # used, here is an example.\n",
    "      ch02.v: {scale: 0.01, limits: '0.0,1.5e+3', label: my label}\n",
    "      ch04.v: {alias: Q1lplg1, monitor: true}\n",
    "    #\n",
    "    # This section allows to add new parameters to the\n",
    "    # instrument instance which are based on existing parameters\n",
    "    # of the instrument. This functionality is based on the use\n",
    "    # of the `DelegateParameter` class.\n",
    "    add_parameters:\n",
    "      # For example, here we define a parameter that represents\n",
    "      # magnetic field control. Setting and getting this \n",
    "      # parameter will actually set/get a specific DAC channel.\n",
    "      # So this new magnetic field parameter is playing a role\n",
    "      # of a convenient proxy - it is much more convenient to \n",
    "      # perform a measurement where \"Bx\" is changed in tesla as\n",
    "      # opposed to where some channel of some DAC is changed in\n",
    "      # volts and one has to clutter the measurement code with\n",
    "      # the mess of conversion factors and more.\n",
    "      # Every new parameter definition starts with a name of\n",
    "      # the new parameter.\n",
    "      Bx:\n",
    "        # This field specifies the parameter which \"getter\" and \n",
    "        # \"setter\" will be used when calling `get`/`set` on this\n",
    "        # new parameter.\n",
    "        # Required field.\n",
    "        source: ch02.v\n",
    "        # Set the label. Otherwise, the one of the source parameter\n",
    "        # will be used.\n",
    "        label: Magnetic Field X-Component\n",
    "        # Set the unit. Otherwise, the one of the source parameter\n",
    "        # will be used.\n",
    "        unit: T\n",
    "        # Other fields have the same purpose and behavior as for\n",
    "        # the entries in the `add_parameter` section.\n",
    "        scale: 65.243\n",
    "        inter_delay: 0.001\n",
    "        post_delay: 0.05\n",
    "        step: 0.001\n",
    "        limits: 0.0,3.0\n",
    "        initial_value: 0.0\n",
    "        # For the sake of example, we decided not to monitor this\n",
    "        # parameter in QCoDeS `Monitor`.\n",
    "        #monitor: true\n",
    "  #\n",
    "  # More example instruments, just for the sake of example.\n",
    "  # Note that configuring simulated instruments also works,\n",
    "  # see the use of 'visalib' argument field below\n",
    "  dmm1:\n",
    "    driver: qcodes.instrument_drivers.agilent.Agilent_34400A\n",
    "    type: Agilent_34400A\n",
    "    enable_forced_reconnect: true\n",
    "    address: GPIB::1::65535::INSTR\n",
    "    init:\n",
    "      visalib: 'Agilent_34400A.yaml@sim'\n",
    "    parameters:\n",
    "      volt: {monitor: true}\n",
    "  mock_dac:\n",
    "    driver: qcodes.tests.instrument_mocks\n",
    "    type: DummyInstrument\n",
    "    enable_forced_reconnect: true\n",
    "    init:\n",
    "      # To pass an list of items use {}.\n",
    "      gates: {\"ch1\", \"ch2\"}\n",
    "    add_parameters:\n",
    "      Bx: {source: ch1, label: Bx, unit: T,\n",
    "           scale: 28, limits: \"-1,1\", monitor: true}\n",
    "  mock_dac2:\n",
    "    driver: qcodes.tests.instrument_mocks\n",
    "    type: DummyInstrument\n",
    "    enable_forced_reconnect: true\n",
    "```"
   ]
  },
  {
   "cell_type": "markdown",
   "metadata": {},
   "source": [
    "### QCoDeS config entries related to Station"
   ]
  },
  {
   "cell_type": "markdown",
   "metadata": {},
   "source": [
    "QCoDeS config contains entries that are related to the `Station` and its YAML configuration. Refer to [the description of the 'station' section in QCoDeS config](http://qcodes.github.io/Qcodes/user/configuration.html?highlight=station#default-config) for more specific information."
   ]
  },
  {
   "cell_type": "markdown",
   "metadata": {},
   "source": [
    "### Using Station with YAML configuration file"
   ]
  },
  {
   "cell_type": "markdown",
   "metadata": {},
   "source": [
    "This section is going to briefly describe the usage of `Station` with the YAML configuration file. For details, refer to the docstrings of the methods of the `Station` class.\n",
    "\n",
    "A `Station` with a YAML configuration file can be created by passing the file name (or file name with absolute path) to `Station`s constructor. File name and location resolution also takes into account related entries in the `'station'` section of the QCoDeS config, refer to their documentation for more information.\n",
    "\n",
    "```python\n",
    "station = Station(config_file='qutech_station_25.yaml')\n",
    "```\n",
    "\n",
    "Alternatively, `load_config_file` method can be called on an already instantiated station to load the config file.\n",
    "\n",
    "```python\n",
    "station = Station()\n",
    "stataion.load_config_file=r'Q:\\\\station_data\\\\qutech_station_25.yaml')\n",
    "```\n",
    "\n",
    "In case the configuration is already available as a YAML string, then that configuration can be loaded using `Station`'s `load_config` method, refer to it's docstring and signature for more information.\n",
    "\n",
    "Once the YAML configuration is loaded, the `load_instrument` method of the `Station` can be used to instantiate a particular instrument that is described in the YAML configuration. Calling this method not only will return an instance of the linstantiated instrument, but will also add it to the station object.\n",
    "\n",
    "For example, to instantiate the `qdac` instrument from the YAML configuration example from the section above, just execute the following:\n",
    "```python\n",
    "loaded_qdac = station.load_instrument('qdac')\n",
    "```\n",
    "\n",
    "Note the `load_instrument`'s `revive_instance` argument, as well as `enable_force_reconnect` setting from the YAML configuration - these define what to do in case an instrument with the given name has already been instantiated in this python session.\n",
    "\n",
    "There is a more convenient way to load the instruments. Upon load of the YAML configuration, convenient `load_<instrument name>` methods are being generated on the `Station` object. Users can make use of tab-completion in their development environments to list what instruments can be loads by the station object from the loaded YAML configuration. For example, loading the QDac above can also be done like this:\n",
    "```python\n",
    "conveniently_loaded_qdac = station.load_qdac()\n",
    "```\n",
    "\n",
    "Note that instruments are instantiated only when `load_*` methods are called. This means that loading a YAML configuration does NOT automatically instantiate anything.\n",
    "\n",
    "For the instruments loaded with the `load_*` methods, it is recommended to use `Station`'s `close_and_remove_instrument` method for closing and removing those from the station."
   ]
  }
 ],
 "metadata": {
  "kernelspec": {
   "display_name": "Python [default]",
   "language": "python",
   "name": "python3"
  },
  "language_info": {
   "codemirror_mode": {
    "name": "ipython",
    "version": 3
   },
   "file_extension": ".py",
   "mimetype": "text/x-python",
   "name": "python",
   "nbconvert_exporter": "python",
   "pygments_lexer": "ipython3",
   "version": "3.6.8"
  },
  "toc": {
   "base_numbering": 1,
   "nav_menu": {},
   "number_sections": true,
   "sideBar": true,
   "skip_h1_title": false,
   "title_cell": "Table of Contents",
   "title_sidebar": "Contents",
   "toc_cell": false,
   "toc_position": {},
   "toc_section_display": true,
   "toc_window_display": false
  },
  "varInspector": {
   "cols": {
    "lenName": 16,
    "lenType": 16,
    "lenVar": 40
   },
   "kernels_config": {
    "python": {
     "delete_cmd_postfix": "",
     "delete_cmd_prefix": "del ",
     "library": "var_list.py",
     "varRefreshCmd": "print(var_dic_list())"
    },
    "r": {
     "delete_cmd_postfix": ") ",
     "delete_cmd_prefix": "rm(",
     "library": "var_list.r",
     "varRefreshCmd": "cat(var_dic_list()) "
    }
   },
   "types_to_exclude": [
    "module",
    "function",
    "builtin_function_or_method",
    "instance",
    "_Feature"
   ],
   "window_display": false
  }
 },
 "nbformat": 4,
 "nbformat_minor": 2
}
