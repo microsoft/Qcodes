{
 "cells": [
  {
   "cell_type": "markdown",
   "metadata": {},
   "source": [
    "# QCoDeS Example with Yokogawa GS200/GS210"
   ]
  },
  {
   "cell_type": "code",
   "execution_count": 1,
   "metadata": {},
   "outputs": [
    {
     "name": "stdout",
     "output_type": "stream",
     "text": [
      "pyqtgraph plotting not supported, try \"from qcodes.plots.pyqtgraph import QtPlot\" to see the full error\n"
     ]
    }
   ],
   "source": [
    "import numpy as np\n",
    "import time \n",
    "\n",
    "import qcodes\n",
    "from qcodes.instrument_drivers.yokogawa.GS200 import GS200"
   ]
  },
  {
   "cell_type": "code",
   "execution_count": 2,
   "metadata": {},
   "outputs": [
    {
     "name": "stdout",
     "output_type": "stream",
     "text": [
      "Connected to: YOKOGAWA GS210 (serial:91T928108, firmware:2.02) in 0.08s\n"
     ]
    }
   ],
   "source": [
    "gs = GS200(\"gs200\", 'GPIB0::1::INSTR', terminator=\"\\n\")"
   ]
  },
  {
   "cell_type": "markdown",
   "metadata": {},
   "source": [
    "Lets do some sanity checks "
   ]
  },
  {
   "cell_type": "code",
   "execution_count": 3,
   "metadata": {},
   "outputs": [],
   "source": [
    "gs.output(\"off\")\n",
    "gs.source_mode(\"VOLT\")\n",
    "gs.auto_range(False)\n",
    "gs.voltage(0)"
   ]
  },
  {
   "cell_type": "code",
   "execution_count": 4,
   "metadata": {
    "collapsed": true
   },
   "outputs": [],
   "source": [
    "gs.auto_range(True)"
   ]
  },
  {
   "cell_type": "markdown",
   "metadata": {},
   "source": [
    "Try to put 1 V on the output "
   ]
  },
  {
   "cell_type": "code",
   "execution_count": 5,
   "metadata": {
    "collapsed": true
   },
   "outputs": [],
   "source": [
    "gs.voltage(1)"
   ]
  },
  {
   "cell_type": "markdown",
   "metadata": {},
   "source": [
    "The instrument indeed goes to 1 V output. Next, assert that an error is raised if we try to get/set the current "
   ]
  },
  {
   "cell_type": "code",
   "execution_count": 6,
   "metadata": {},
   "outputs": [
    {
     "name": "stdout",
     "output_type": "stream",
     "text": [
      "exception correctly raised\n",
      "exception correctly raised\n"
     ]
    }
   ],
   "source": [
    "try:\n",
    "    gs.current(0.001)  # Set a current\n",
    "    print(\"Something has gone wrong\")\n",
    "    assert(False)\n",
    "except: \n",
    "    print(\"exception correctly raised\")\n",
    "\n",
    "try:\n",
    "    gs.current() # Get the current\n",
    "    print(\"Something has gone wrong\")\n",
    "    assert(False)\n",
    "except: \n",
    "    print(\"exception correctly raised\")"
   ]
  },
  {
   "cell_type": "code",
   "execution_count": 7,
   "metadata": {
    "collapsed": true
   },
   "outputs": [],
   "source": [
    "gs.voltage(0)"
   ]
  },
  {
   "cell_type": "markdown",
   "metadata": {},
   "source": [
    "The instrument indeed goes back to 0 V output "
   ]
  },
  {
   "cell_type": "code",
   "execution_count": 8,
   "metadata": {
    "collapsed": true
   },
   "outputs": [],
   "source": [
    "gs.source_mode(\"CURR\")"
   ]
  },
  {
   "cell_type": "markdown",
   "metadata": {},
   "source": [
    "Instrument does indeed go to current source mode"
   ]
  },
  {
   "cell_type": "code",
   "execution_count": 9,
   "metadata": {
    "collapsed": true
   },
   "outputs": [],
   "source": [
    "gs.current(0.001)"
   ]
  },
  {
   "cell_type": "markdown",
   "metadata": {},
   "source": [
    "The instrument does indeed show 1mA output. Note that because output is off, no actual current is flowing"
   ]
  },
  {
   "cell_type": "code",
   "execution_count": 10,
   "metadata": {},
   "outputs": [
    {
     "data": {
      "text/plain": [
       "'off'"
      ]
     },
     "execution_count": 10,
     "metadata": {},
     "output_type": "execute_result"
    }
   ],
   "source": [
    "gs.output()"
   ]
  },
  {
   "cell_type": "markdown",
   "metadata": {},
   "source": [
    "The instrument is indeed in off mode"
   ]
  },
  {
   "cell_type": "markdown",
   "metadata": {},
   "source": [
    "Put a 10kOhm resistor over the output and verify that the voltage across the resistor is 1E-3 * 10E3 = 10 V. "
   ]
  },
  {
   "cell_type": "code",
   "execution_count": 11,
   "metadata": {
    "collapsed": true
   },
   "outputs": [],
   "source": [
    "gs.voltage_limit(30)\n",
    "gs.output(\"on\")"
   ]
  },
  {
   "cell_type": "markdown",
   "metadata": {},
   "source": [
    "We verify that the voltage on the multmeter is indeed 10V. Let's verify that if we put a 5 volt voltage limit the voltage does indeed drop to 5 V"
   ]
  },
  {
   "cell_type": "code",
   "execution_count": 12,
   "metadata": {
    "collapsed": true
   },
   "outputs": [],
   "source": [
    "gs.voltage_limit(5)"
   ]
  },
  {
   "cell_type": "markdown",
   "metadata": {},
   "source": [
    "We see that the voltage on the multimeter is indeed 5V "
   ]
  },
  {
   "cell_type": "code",
   "execution_count": 13,
   "metadata": {
    "collapsed": true
   },
   "outputs": [],
   "source": [
    "gs.current(0.00)"
   ]
  },
  {
   "cell_type": "markdown",
   "metadata": {},
   "source": [
    "The multimeter reads 0 mA again and the voltage across the resistor is 0 V "
   ]
  },
  {
   "cell_type": "code",
   "execution_count": 14,
   "metadata": {
    "collapsed": true
   },
   "outputs": [],
   "source": [
    "gs.output(\"off\")"
   ]
  },
  {
   "cell_type": "markdown",
   "metadata": {},
   "source": [
    "The instrument turns output off. Next assert that exceptions are raised if we try to get/set the voltage while still being in current mode"
   ]
  },
  {
   "cell_type": "code",
   "execution_count": 15,
   "metadata": {},
   "outputs": [
    {
     "name": "stdout",
     "output_type": "stream",
     "text": [
      "exception correctly raised\n",
      "exception correctly raised\n"
     ]
    }
   ],
   "source": [
    "try:\n",
    "    gs.volatge(0.0)  # Set a voltage\n",
    "    print(\"Something has gone wrong\")\n",
    "    assert(False)\n",
    "except: \n",
    "    print(\"exception correctly raised\")\n",
    "\n",
    "try:\n",
    "    gs.voltage() # Get the voltage\n",
    "    print(\"Something has gone wrong\")\n",
    "    assert(False)\n",
    "except: \n",
    "    print(\"exception correctly raised\")"
   ]
  },
  {
   "cell_type": "markdown",
   "metadata": {},
   "source": [
    "Next, test that we get an exception if we turn off auto ranging and deliberately set the voltage outside of the chosen range"
   ]
  },
  {
   "cell_type": "code",
   "execution_count": 16,
   "metadata": {},
   "outputs": [
    {
     "name": "stdout",
     "output_type": "stream",
     "text": [
      "exception correctly raised\n"
     ]
    }
   ],
   "source": [
    "gs.auto_range(False)\n",
    "gs.source_mode(\"VOLT\")\n",
    "gs.range(10E-3)\n",
    "\n",
    "try:\n",
    "     gs.voltage(1.5)\n",
    "except ValueError as exp:\n",
    "    print(\"exception correctly raised\")"
   ]
  },
  {
   "cell_type": "markdown",
   "metadata": {},
   "source": [
    "Verify that when auto range is true, we can set voltages without being worried about ranges"
   ]
  },
  {
   "cell_type": "code",
   "execution_count": 17,
   "metadata": {
    "collapsed": true
   },
   "outputs": [],
   "source": [
    "gs.source_mode(\"VOLT\")\n",
    "gs.auto_range(True)\n",
    "gs.voltage(1.5)"
   ]
  },
  {
   "cell_type": "markdown",
   "metadata": {},
   "source": [
    "We verify that we can now set the output to 1.5V without problems. Let see if ramping from 0 to 5 volts with steps of 0.5 works. The delay between the steps shall be 1 second, so the entire ramp should take 10 seconds "
   ]
  },
  {
   "cell_type": "code",
   "execution_count": 18,
   "metadata": {},
   "outputs": [
    {
     "name": "stdout",
     "output_type": "stream",
     "text": [
      "This took 10.0 seconds\n"
     ]
    }
   ],
   "source": [
    "tb = time.time()\n",
    "gs.voltage(0)\n",
    "gs.ramp_voltage(5, 0.5, 1)\n",
    "te = time.time()\n",
    "\n",
    "print(\"This took {:.3} seconds\".format(te - tb))"
   ]
  },
  {
   "cell_type": "markdown",
   "metadata": {},
   "source": [
    "Now try to ramp the current while still in volt mode. This should raise an error"
   ]
  },
  {
   "cell_type": "code",
   "execution_count": 19,
   "metadata": {},
   "outputs": [
    {
     "name": "stdout",
     "output_type": "stream",
     "text": [
      "exception correctly raised\n"
     ]
    }
   ],
   "source": [
    "try:\n",
    "    gs.ramp_current(0, 1E-3, 1)\n",
    "    print(\"Something has gone wrong\")\n",
    "    assert(False)\n",
    "except:\n",
    "    print(\"exception correctly raised\")"
   ]
  },
  {
   "cell_type": "code",
   "execution_count": 20,
   "metadata": {},
   "outputs": [
    {
     "data": {
      "text/plain": [
       "10.0"
      ]
     },
     "execution_count": 20,
     "metadata": {},
     "output_type": "execute_result"
    }
   ],
   "source": [
    "gs.voltage_range()"
   ]
  },
  {
   "cell_type": "code",
   "execution_count": 21,
   "metadata": {},
   "outputs": [
    {
     "name": "stdout",
     "output_type": "stream",
     "text": [
      "exception correctly raised\n"
     ]
    }
   ],
   "source": [
    "try:\n",
    "    gs.current_range()\n",
    "    print(\"Something has gone wrong\")\n",
    "    assert(False)\n",
    "except:\n",
    "    print(\"exception correctly raised\")"
   ]
  },
  {
   "cell_type": "code",
   "execution_count": 22,
   "metadata": {
    "collapsed": true
   },
   "outputs": [],
   "source": [
    "gs.source_mode(\"CURR\")"
   ]
  },
  {
   "cell_type": "code",
   "execution_count": 23,
   "metadata": {},
   "outputs": [
    {
     "data": {
      "text/plain": [
       "0.001"
      ]
     },
     "execution_count": 23,
     "metadata": {},
     "output_type": "execute_result"
    }
   ],
   "source": [
    "gs.current_range()"
   ]
  },
  {
   "cell_type": "code",
   "execution_count": 24,
   "metadata": {
    "collapsed": true
   },
   "outputs": [],
   "source": [
    "gs.current(0)"
   ]
  },
  {
   "cell_type": "code",
   "execution_count": 25,
   "metadata": {},
   "outputs": [
    {
     "data": {
      "text/plain": [
       "True"
      ]
     },
     "execution_count": 25,
     "metadata": {},
     "output_type": "execute_result"
    }
   ],
   "source": [
    "gs.auto_range()"
   ]
  },
  {
   "cell_type": "code",
   "execution_count": null,
   "metadata": {
    "collapsed": true
   },
   "outputs": [],
   "source": []
  }
 ],
 "metadata": {
  "kernelspec": {
   "display_name": "Python 3",
   "language": "python",
   "name": "python3"
  },
  "language_info": {
   "codemirror_mode": {
    "name": "ipython",
    "version": 3
   },
   "file_extension": ".py",
   "mimetype": "text/x-python",
   "name": "python",
   "nbconvert_exporter": "python",
   "pygments_lexer": "ipython3",
   "version": "3.6.6"
  },
  "nbsphinx": {
   "execute": "never"
  }
 },
 "nbformat": 4,
 "nbformat_minor": 2
}
