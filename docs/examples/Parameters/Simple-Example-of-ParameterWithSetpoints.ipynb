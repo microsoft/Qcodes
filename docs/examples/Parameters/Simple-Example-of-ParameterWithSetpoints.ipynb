{
 "cells": [
  {
   "cell_type": "markdown",
   "metadata": {},
   "source": [
    "# Simple Example of ParameterWithSetpoints\n",
    "This notebook provides an example for writing a simple driver with a parameter that has setpoints. Let's name this parameter that has setpoints as \"y\". Then, the setpoints, say \"x1, x2, x3 ..\", are the parameters on which the parameter \n",
    "\"y\" depends upon. Meaning \"y\" is a function of \"x1, x2, x3 ...\" where \"x1, x2, x3 ...\" are known as the setpoints of parameter \"y\".\n",
    "\n",
    "This is most likely to be useful for instruments that return arrays of results. In this notebook, we will show an example of this."
   ]
  },
  {
   "cell_type": "code",
   "execution_count": 1,
   "metadata": {},
   "outputs": [],
   "source": [
    "import numpy as np\n",
    "import os"
   ]
  },
  {
   "cell_type": "code",
   "execution_count": 2,
   "metadata": {},
   "outputs": [],
   "source": [
    "from qcodes.dataset.plotting import plot_dataset\n",
    "from qcodes.utils.validators import Numbers, Arrays\n",
    "from qcodes.instrument.base import Instrument\n",
    "from qcodes.dataset.measurements import Measurement"
   ]
  },
  {
   "cell_type": "code",
   "execution_count": 3,
   "metadata": {},
   "outputs": [],
   "source": [
    "from qcodes.dataset.sqlite.database import initialise_or_create_database_at\n",
    "from qcodes.dataset.experiment_container import load_or_create_experiment"
   ]
  },
  {
   "cell_type": "code",
   "execution_count": 4,
   "metadata": {},
   "outputs": [],
   "source": [
    "from qcodes.instrument.parameter import ParameterWithSetpoints, Parameter\n",
    "from qcodes.instrument.parameter import expand_setpoints_helper"
   ]
  },
  {
   "cell_type": "markdown",
   "metadata": {},
   "source": [
    "First, we define a dummy instrument that returns something like a frequency spectrum starting from a frequency given by `f_start` to a frequency given by `f_stop` in `n_points` steps. \n",
    "\n",
    "The extra functionality of the `ParameterWithSetpoints` is implemented by giving it a reference to one or more parameters that acts like its setpoints. \n",
    "\n",
    "To setup a `ParameterWithSetpoints` we have to do two things in addition to what we do for a normal parameter.\n",
    "\n",
    "* Define one or more parameter for the setpoints (one for each dimension of the array and let the `ParameterWithSetpoints` know that these are the setpoints.\n",
    "* Give both the setpoints parameter(s) and the `ParameterWithSetpoints` a `validator` of type `Arrays` with a shape. The shapes should be such that the combined shape of the setpoints matches the shape of the `ParameterWithSetpoints`. Note that if the shape changes with the setting of the instrument, it can be defined by another parameter as shown below. "
   ]
  },
  {
   "cell_type": "code",
   "execution_count": 5,
   "metadata": {},
   "outputs": [],
   "source": [
    "class GeneratedSetPoints(Parameter):\n",
    "    \"\"\"\n",
    "    A parameter that generates a setpoint array from start, stop and num points\n",
    "    parameters.\n",
    "    \"\"\"\n",
    "    def __init__(self, startparam, stopparam, numpointsparam, *args, **kwargs):\n",
    "        super().__init__(*args, **kwargs)\n",
    "        self._startparam = startparam\n",
    "        self._stopparam = stopparam\n",
    "        self._numpointsparam = numpointsparam\n",
    "\n",
    "    def get_raw(self):\n",
    "        return np.linspace(self._startparam(), self._stopparam(),\n",
    "                              self._numpointsparam())\n",
    "\n",
    "class DummyArray(ParameterWithSetpoints):\n",
    "    \n",
    "    def get_raw(self):\n",
    "        npoints = self.root_instrument.n_points.get_latest()\n",
    "        return np.random.rand(npoints)\n",
    "    \n",
    "\n",
    "class DummySpectrumAnalyzer(Instrument):\n",
    "    \n",
    "    def __init__(self, name, **kwargs):\n",
    "        \n",
    "        super().__init__(name, **kwargs)\n",
    "            \n",
    "\n",
    "        self.add_parameter('f_start',\n",
    "                           initial_value=0,\n",
    "                           unit='Hz',\n",
    "                           label='f start',\n",
    "                           vals=Numbers(0,1e3),\n",
    "                           get_cmd=None,\n",
    "                           set_cmd=None)\n",
    "\n",
    "        self.add_parameter('f_stop',\n",
    "                           unit='Hz',\n",
    "                           label='f stop',\n",
    "                           vals=Numbers(1,1e3),\n",
    "                           get_cmd=None,\n",
    "                           set_cmd=None)\n",
    "\n",
    "        self.add_parameter('n_points',\n",
    "                           unit='',\n",
    "                           initial_value=10,\n",
    "                           vals=Numbers(1,1e3),\n",
    "                           get_cmd=None,\n",
    "                           set_cmd=None)\n",
    "        \n",
    "        self.add_parameter('freq_axis',\n",
    "                           unit='Hz',\n",
    "                           label='Freq Axis',\n",
    "                           parameter_class=GeneratedSetPoints,\n",
    "                           startparam=self.f_start,\n",
    "                           stopparam=self.f_stop,\n",
    "                           numpointsparam=self.n_points,\n",
    "                           vals=Arrays(shape=(self.n_points.get_latest,)))\n",
    "                           \n",
    "        self.add_parameter('spectrum',\n",
    "                   unit='dBm',\n",
    "                   setpoints=(self.freq_axis,),\n",
    "                   label='Spectrum',\n",
    "                   parameter_class=DummyArray,\n",
    "                   vals=Arrays(shape=(self.n_points.get_latest,)))\n",
    "                "
   ]
  },
  {
   "cell_type": "markdown",
   "metadata": {},
   "source": [
    "In the above example, the shape is defined by the parameter `n_points` that defines how many samples our `DummySpectrumAnalyzer` returns.\n",
    "\n",
    "This means that the validation will call the function to get `n_points` twice for each `get` of the parameter. This may be too slow, however, if you (as the driver-writer) can guarantee that the cached value for `n_points` will never be out of sync with the value stored in the instrument, `n_points` may be replaced by it's latest known value such that the `validator` reads:\n",
    "```python\n",
    "vals=Arrays(shape=(self.n_points.get_latest))\n",
    "```\n",
    "\n",
    "This avoids any additional call to the instrument. In the same way, the arguments to the `freq_axis` parameter that defines the start, stop and number of points can be replaced by their latest value if the instrument allows it.\n",
    "\n"
   ]
  },
  {
   "cell_type": "code",
   "execution_count": 6,
   "metadata": {},
   "outputs": [
    {
     "name": "stdout",
     "output_type": "stream",
     "text": [
      "Upgrading database; v0 -> v1: : 0it [00:00, ?it/s]\n",
      "Upgrading database; v1 -> v2: 100%|█████████████████████████████████████████████████████| 1/1 [00:00<00:00, 249.88it/s]\n",
      "Upgrading database; v2 -> v3: : 0it [00:00, ?it/s]\n",
      "Upgrading database; v3 -> v4: : 0it [00:00, ?it/s]\n",
      "Upgrading database; v4 -> v5: 100%|█████████████████████████████████████████████████████| 1/1 [00:00<00:00, 250.00it/s]\n",
      "Upgrading database; v5 -> v6: : 0it [00:00, ?it/s]\n",
      "Upgrading database; v6 -> v7: 100%|██████████████████████████████████████████████████████| 1/1 [00:00<00:00, 55.55it/s]\n",
      "Upgrading database; v7 -> v8: 100%|█████████████████████████████████████████████████████| 1/1 [00:00<00:00, 250.21it/s]\n"
     ]
    },
    {
     "data": {
      "text/plain": [
       "tutorial_ParameterWithSetpoints#no sample#1@C:\\Users\\a-halakh\\Documents\\Microsoft\\QcodesHarshit\\docs\\examples\\Parameters\\tutorial_paramter_with_setpoints.db\n",
       "------------------------------------------------------------------------------------------------------------------------------------------------------------"
      ]
     },
     "execution_count": 6,
     "metadata": {},
     "output_type": "execute_result"
    }
   ],
   "source": [
    "tutorial_db_path = os.path.join(os.getcwd(), 'tutorial_paramter_with_setpoints.db')\n",
    "initialise_or_create_database_at(tutorial_db_path)\n",
    "load_or_create_experiment(experiment_name='tutorial_ParameterWithSetpoints', sample_name=\"no sample\")"
   ]
  },
  {
   "cell_type": "code",
   "execution_count": 7,
   "metadata": {},
   "outputs": [],
   "source": [
    "a = DummySpectrumAnalyzer('foobar')"
   ]
  },
  {
   "cell_type": "markdown",
   "metadata": {},
   "source": [
    "First we setup the limits of the spectrum"
   ]
  },
  {
   "cell_type": "code",
   "execution_count": 8,
   "metadata": {},
   "outputs": [],
   "source": [
    "a.f_start(0)\n",
    "a.f_stop(500)\n",
    "a.n_points(501)"
   ]
  },
  {
   "cell_type": "markdown",
   "metadata": {},
   "source": [
    "And we can grab the frequency axis"
   ]
  },
  {
   "cell_type": "code",
   "execution_count": 9,
   "metadata": {},
   "outputs": [
    {
     "data": {
      "text/plain": [
       "501"
      ]
     },
     "execution_count": 9,
     "metadata": {},
     "output_type": "execute_result"
    }
   ],
   "source": [
    "a.n_points()"
   ]
  },
  {
   "cell_type": "code",
   "execution_count": 10,
   "metadata": {
    "scrolled": false
   },
   "outputs": [
    {
     "data": {
      "text/plain": [
       "501"
      ]
     },
     "execution_count": 10,
     "metadata": {},
     "output_type": "execute_result"
    }
   ],
   "source": [
    "freq_axis = a.freq_axis()\n",
    "len(freq_axis)"
   ]
  },
  {
   "cell_type": "code",
   "execution_count": 11,
   "metadata": {},
   "outputs": [
    {
     "data": {
      "text/plain": [
       "array([0., 1., 2., 3., 4., 5., 6., 7., 8., 9.])"
      ]
     },
     "execution_count": 11,
     "metadata": {},
     "output_type": "execute_result"
    }
   ],
   "source": [
    "freq_axis[:10]"
   ]
  },
  {
   "cell_type": "markdown",
   "metadata": {},
   "source": [
    "As expected we get a result wit 501 points as we asked for an axis with 501 points. "
   ]
  },
  {
   "cell_type": "markdown",
   "metadata": {},
   "source": [
    "Above we have added a validator to the `freq_axis` parameter encoding the fact that this is an Array with `n_points`. Note that we do not have to supply the number of points as an integer but can supply a function that returns the valid number of points. This would normally be a QCoDeS parameter.\n",
    "\n",
    "This will be checked if we validate the output."
   ]
  },
  {
   "cell_type": "code",
   "execution_count": 12,
   "metadata": {},
   "outputs": [],
   "source": [
    "a.freq_axis.validate(a.freq_axis.get())"
   ]
  },
  {
   "cell_type": "markdown",
   "metadata": {},
   "source": [
    "Naturally, we can also get the spectrum. Getting the spectrum will automatically perform validation both for the shape of the parameter itself and the relation to the setpoint parameter(s)"
   ]
  },
  {
   "cell_type": "code",
   "execution_count": 13,
   "metadata": {
    "scrolled": true
   },
   "outputs": [
    {
     "data": {
      "text/plain": [
       "501"
      ]
     },
     "execution_count": 13,
     "metadata": {},
     "output_type": "execute_result"
    }
   ],
   "source": [
    "spectrum = a.spectrum.get()\n",
    "len(spectrum)"
   ]
  },
  {
   "cell_type": "markdown",
   "metadata": {},
   "source": [
    "When we validate a `ParameterWithSetpoints`, we automatically validate that the shape is consistent between the parameters and its setpoints. As well as validating the shape as above."
   ]
  },
  {
   "cell_type": "code",
   "execution_count": 14,
   "metadata": {},
   "outputs": [],
   "source": [
    "a.spectrum.validate(a.spectrum.get())"
   ]
  },
  {
   "cell_type": "markdown",
   "metadata": {},
   "source": [
    "The consistent shapes can be validated explicitly."
   ]
  },
  {
   "cell_type": "code",
   "execution_count": 15,
   "metadata": {},
   "outputs": [],
   "source": [
    "a.spectrum.validate_consistent_shape()"
   ]
  },
  {
   "cell_type": "markdown",
   "metadata": {},
   "source": [
    "We can inspect the setpoints of the spectrum."
   ]
  },
  {
   "cell_type": "code",
   "execution_count": 16,
   "metadata": {},
   "outputs": [
    {
     "data": {
      "text/plain": [
       "(<__main__.GeneratedSetPoints: freq_axis at 2297416995840>,)"
      ]
     },
     "execution_count": 16,
     "metadata": {},
     "output_type": "execute_result"
    }
   ],
   "source": [
    "a.spectrum.setpoints"
   ]
  },
  {
   "cell_type": "markdown",
   "metadata": {},
   "source": [
    "Or even change them."
   ]
  },
  {
   "cell_type": "code",
   "execution_count": 17,
   "metadata": {},
   "outputs": [],
   "source": [
    "a.spectrum.setpoints = (a.freq_axis,)"
   ]
  },
  {
   "cell_type": "markdown",
   "metadata": {},
   "source": [
    "## Measurement"
   ]
  },
  {
   "cell_type": "markdown",
   "metadata": {},
   "source": [
    "We can also directly consume the parameter in a measurement without defining the setpoints of the parameter again. The setpoints are automatically obtained from the definition of the `ParameterWithSetpoint` instance. "
   ]
  },
  {
   "cell_type": "code",
   "execution_count": 18,
   "metadata": {},
   "outputs": [
    {
     "name": "stdout",
     "output_type": "stream",
     "text": [
      "Starting experimental run with id: 1\n"
     ]
    }
   ],
   "source": [
    "meas = Measurement()\n",
    "meas.register_parameter(a.spectrum)\n",
    "\n",
    "with meas.run() as datasaver:\n",
    "    datasaver.add_result((a.freq_axis, a.freq_axis()),\n",
    "                         (a.spectrum, a.spectrum()))\n",
    "    dataset = datasaver.dataset"
   ]
  },
  {
   "cell_type": "markdown",
   "metadata": {},
   "source": [
    "And plot it"
   ]
  },
  {
   "cell_type": "code",
   "execution_count": 19,
   "metadata": {},
   "outputs": [
    {
     "data": {
      "text/plain": [
       "([<matplotlib.axes._subplots.AxesSubplot at 0x216e8c17630>], [None])"
      ]
     },
     "execution_count": 19,
     "metadata": {},
     "output_type": "execute_result"
    },
    {
     "data": {
      "image/png": "[encoded data removed]",
      "text/plain": [
       "<Figure size 432x288 with 1 Axes>"
      ]
     },
     "metadata": {
      "needs_background": "light"
     },
     "output_type": "display_data"
    }
   ],
   "source": [
    "plot_dataset(dataset)"
   ]
  },
  {
   "cell_type": "markdown",
   "metadata": {},
   "source": [
    "To reduce the amount of typing a simple convenience function is provided that will take a `ParameterWithSetpoints` and get both its values and the setpoints values and return them as tuples for direct insertion into the Dataset."
   ]
  },
  {
   "cell_type": "code",
   "execution_count": 20,
   "metadata": {
    "scrolled": true
   },
   "outputs": [
    {
     "data": {
      "text/plain": [
       "[(<__main__.GeneratedSetPoints: freq_axis at 2297416995840>,\n",
       "  array([  0.,   1.,   2.,   3.,   4.,   5.,   6.,   7.,   8.,   9.,  10.,\n",
       "          11.,  12.,  13.,  14.,  15.,  16.,  17.,  18.,  19.,  20.,  21.,\n",
       "          22.,  23.,  24.,  25.,  26.,  27.,  28.,  29.,  30.,  31.,  32.,\n",
       "          33.,  34.,  35.,  36.,  37.,  38.,  39.,  40.,  41.,  42.,  43.,\n",
       "          44.,  45.,  46.,  47.,  48.,  49.,  50.,  51.,  52.,  53.,  54.,\n",
       "          55.,  56.,  57.,  58.,  59.,  60.,  61.,  62.,  63.,  64.,  65.,\n",
       "          66.,  67.,  68.,  69.,  70.,  71.,  72.,  73.,  74.,  75.,  76.,\n",
       "          77.,  78.,  79.,  80.,  81.,  82.,  83.,  84.,  85.,  86.,  87.,\n",
       "          88.,  89.,  90.,  91.,  92.,  93.,  94.,  95.,  96.,  97.,  98.,\n",
       "          99., 100., 101., 102., 103., 104., 105., 106., 107., 108., 109.,\n",
       "         110., 111., 112., 113., 114., 115., 116., 117., 118., 119., 120.,\n",
       "         121., 122., 123., 124., 125., 126., 127., 128., 129., 130., 131.,\n",
       "         132., 133., 134., 135., 136., 137., 138., 139., 140., 141., 142.,\n",
       "         143., 144., 145., 146., 147., 148., 149., 150., 151., 152., 153.,\n",
       "         154., 155., 156., 157., 158., 159., 160., 161., 162., 163., 164.,\n",
       "         165., 166., 167., 168., 169., 170., 171., 172., 173., 174., 175.,\n",
       "         176., 177., 178., 179., 180., 181., 182., 183., 184., 185., 186.,\n",
       "         187., 188., 189., 190., 191., 192., 193., 194., 195., 196., 197.,\n",
       "         198., 199., 200., 201., 202., 203., 204., 205., 206., 207., 208.,\n",
       "         209., 210., 211., 212., 213., 214., 215., 216., 217., 218., 219.,\n",
       "         220., 221., 222., 223., 224., 225., 226., 227., 228., 229., 230.,\n",
       "         231., 232., 233., 234., 235., 236., 237., 238., 239., 240., 241.,\n",
       "         242., 243., 244., 245., 246., 247., 248., 249., 250., 251., 252.,\n",
       "         253., 254., 255., 256., 257., 258., 259., 260., 261., 262., 263.,\n",
       "         264., 265., 266., 267., 268., 269., 270., 271., 272., 273., 274.,\n",
       "         275., 276., 277., 278., 279., 280., 281., 282., 283., 284., 285.,\n",
       "         286., 287., 288., 289., 290., 291., 292., 293., 294., 295., 296.,\n",
       "         297., 298., 299., 300., 301., 302., 303., 304., 305., 306., 307.,\n",
       "         308., 309., 310., 311., 312., 313., 314., 315., 316., 317., 318.,\n",
       "         319., 320., 321., 322., 323., 324., 325., 326., 327., 328., 329.,\n",
       "         330., 331., 332., 333., 334., 335., 336., 337., 338., 339., 340.,\n",
       "         341., 342., 343., 344., 345., 346., 347., 348., 349., 350., 351.,\n",
       "         352., 353., 354., 355., 356., 357., 358., 359., 360., 361., 362.,\n",
       "         363., 364., 365., 366., 367., 368., 369., 370., 371., 372., 373.,\n",
       "         374., 375., 376., 377., 378., 379., 380., 381., 382., 383., 384.,\n",
       "         385., 386., 387., 388., 389., 390., 391., 392., 393., 394., 395.,\n",
       "         396., 397., 398., 399., 400., 401., 402., 403., 404., 405., 406.,\n",
       "         407., 408., 409., 410., 411., 412., 413., 414., 415., 416., 417.,\n",
       "         418., 419., 420., 421., 422., 423., 424., 425., 426., 427., 428.,\n",
       "         429., 430., 431., 432., 433., 434., 435., 436., 437., 438., 439.,\n",
       "         440., 441., 442., 443., 444., 445., 446., 447., 448., 449., 450.,\n",
       "         451., 452., 453., 454., 455., 456., 457., 458., 459., 460., 461.,\n",
       "         462., 463., 464., 465., 466., 467., 468., 469., 470., 471., 472.,\n",
       "         473., 474., 475., 476., 477., 478., 479., 480., 481., 482., 483.,\n",
       "         484., 485., 486., 487., 488., 489., 490., 491., 492., 493., 494.,\n",
       "         495., 496., 497., 498., 499., 500.])),\n",
       " (<__main__.DummyArray: spectrum at 2297416996568>,\n",
       "  array([0.23509682, 0.78793237, 0.46904129, 0.21718554, 0.25232699,\n",
       "         0.61574758, 0.40433927, 0.09490179, 0.70465618, 0.89631261,\n",
       "         0.5671435 , 0.65185121, 0.16690308, 0.98135806, 0.57067728,\n",
       "         0.54265153, 0.79676305, 0.31715938, 0.10821848, 0.96348518,\n",
       "         0.76289628, 0.49472156, 0.6057431 , 0.42257523, 0.98363798,\n",
       "         0.19543194, 0.71083571, 0.55927501, 0.92678359, 0.98214503,\n",
       "         0.7790778 , 0.2804062 , 0.63775602, 0.31084151, 0.55187728,\n",
       "         0.49067194, 0.65533036, 0.66927421, 0.64344118, 0.39108855,\n",
       "         0.96336494, 0.94258307, 0.93967151, 0.96348606, 0.31010347,\n",
       "         0.38759891, 0.19265257, 0.98611146, 0.1891631 , 0.17337102,\n",
       "         0.57432204, 0.86376626, 0.19831334, 0.69187451, 0.6989642 ,\n",
       "         0.2035693 , 0.41831083, 0.04383206, 0.80708552, 0.24155053,\n",
       "         0.98560534, 0.13099131, 0.28233952, 0.65908213, 0.40588828,\n",
       "         0.89244614, 0.93418544, 0.45960272, 0.22091352, 0.30279746,\n",
       "         0.79807808, 0.27620936, 0.6149217 , 0.51149955, 0.36268493,\n",
       "         0.98415554, 0.69075112, 0.51280557, 0.05262011, 0.03876537,\n",
       "         0.32851459, 0.69566536, 0.45056863, 0.87934166, 0.13549512,\n",
       "         0.92374945, 0.12753166, 0.99352695, 0.22614486, 0.03266295,\n",
       "         0.1165235 , 0.01890354, 0.33466804, 0.65538051, 0.20877716,\n",
       "         0.92581412, 0.55304388, 0.83646778, 0.57082368, 0.35424864,\n",
       "         0.33320866, 0.4190317 , 0.21245932, 0.25755117, 0.96940689,\n",
       "         0.76164628, 0.77274657, 0.70601074, 0.01407568, 0.33746999,\n",
       "         0.61157782, 0.62302815, 0.01621762, 0.48531641, 0.16947108,\n",
       "         0.26297639, 0.69786463, 0.16375705, 0.59423697, 0.53217426,\n",
       "         0.36505277, 0.29724436, 0.47607703, 0.62109953, 0.73093951,\n",
       "         0.01478661, 0.61005519, 0.25327292, 0.37495657, 0.74127645,\n",
       "         0.20612211, 0.80268067, 0.19437311, 0.11657921, 0.62533294,\n",
       "         0.96806577, 0.73934994, 0.80707555, 0.30369586, 0.61226657,\n",
       "         0.45784754, 0.67784366, 0.21429674, 0.46244171, 0.19816713,\n",
       "         0.39422575, 0.9252799 , 0.20861729, 0.40750298, 0.51680928,\n",
       "         0.49299799, 0.81564732, 0.74003465, 0.50521324, 0.87495533,\n",
       "         0.28588179, 0.15044601, 0.0713857 , 0.54697058, 0.80195481,\n",
       "         0.21435609, 0.15963824, 0.50877318, 0.13195354, 0.31363337,\n",
       "         0.48621983, 0.84593074, 0.18626939, 0.01875386, 0.15726259,\n",
       "         0.23066423, 0.03583463, 0.9631147 , 0.45428487, 0.44256439,\n",
       "         0.16040005, 0.1350425 , 0.58099008, 0.25989847, 0.29679119,\n",
       "         0.53063709, 0.85587912, 0.38466873, 0.35502759, 0.97785568,\n",
       "         0.88776046, 0.79761136, 0.26899466, 0.6815138 , 0.8128429 ,\n",
       "         0.30310081, 0.6568963 , 0.78919958, 0.96672874, 0.67638133,\n",
       "         0.09003493, 0.77167288, 0.72682279, 0.26693547, 0.0015582 ,\n",
       "         0.82006325, 0.73911601, 0.63139712, 0.68505428, 0.45213066,\n",
       "         0.11985327, 0.8689767 , 0.83466983, 0.81486765, 0.57167859,\n",
       "         0.01086643, 0.68967348, 0.16461702, 0.03605493, 0.84542788,\n",
       "         0.8997731 , 0.59054051, 0.8448658 , 0.36050164, 0.42937515,\n",
       "         0.90557507, 0.7320113 , 0.45534765, 0.13345262, 0.21998513,\n",
       "         0.67759225, 0.83612952, 0.88765465, 0.08629363, 0.75156441,\n",
       "         0.87234162, 0.24783685, 0.87828017, 0.09618539, 0.27243907,\n",
       "         0.53017997, 0.43671965, 0.21118848, 0.53897522, 0.39397348,\n",
       "         0.14701487, 0.16147786, 0.3574145 , 0.21436803, 0.20184239,\n",
       "         0.47664963, 0.8181509 , 0.28201432, 0.45745324, 0.69169407,\n",
       "         0.15037421, 0.53932357, 0.45759126, 0.1321154 , 0.69688506,\n",
       "         0.96862227, 0.70829328, 0.32993381, 0.00736408, 0.31621548,\n",
       "         0.07643909, 0.14206259, 0.60944122, 0.19869801, 0.01850608,\n",
       "         0.27735336, 0.96454717, 0.11710263, 0.9181295 , 0.14371326,\n",
       "         0.65419472, 0.95231832, 0.40041037, 0.57474319, 0.87716464,\n",
       "         0.02271364, 0.95807744, 0.25843185, 0.13944386, 0.29371667,\n",
       "         0.51890524, 0.72848486, 0.08509873, 0.49832109, 0.91801153,\n",
       "         0.94490007, 0.93142672, 0.53923335, 0.43711811, 0.36925371,\n",
       "         0.09651731, 0.62436284, 0.66000856, 0.31431729, 0.77641838,\n",
       "         0.11127678, 0.34086295, 0.72400621, 0.57411222, 0.50583534,\n",
       "         0.08703685, 0.72014514, 0.34847762, 0.20115465, 0.3913087 ,\n",
       "         0.59465491, 0.56337106, 0.61775377, 0.67262168, 0.15404802,\n",
       "         0.64631129, 0.67448326, 0.98060347, 0.75685287, 0.88417523,\n",
       "         0.97752461, 0.48880728, 0.35867763, 0.44866001, 0.02128022,\n",
       "         0.79791268, 0.87225675, 0.65005459, 0.17484904, 0.24463389,\n",
       "         0.70102389, 0.00761594, 0.11219506, 0.11085716, 0.67491487,\n",
       "         0.56229821, 0.1181301 , 0.31851636, 0.36471561, 0.68415732,\n",
       "         0.14922772, 0.06348421, 0.86195411, 0.92992961, 0.32623585,\n",
       "         0.0849985 , 0.36481329, 0.47526458, 0.14410184, 0.97956335,\n",
       "         0.1204974 , 0.57212139, 0.08126796, 0.49674038, 0.38500253,\n",
       "         0.09612109, 0.62036534, 0.83037766, 0.54891283, 0.49286827,\n",
       "         0.37433217, 0.1720916 , 0.18597674, 0.50285079, 0.73753933,\n",
       "         0.71793606, 0.34838373, 0.12123456, 0.99280169, 0.18043328,\n",
       "         0.16966837, 0.48445175, 0.22401798, 0.59644876, 0.61755336,\n",
       "         0.88224015, 0.4927667 , 0.58933346, 0.60786793, 0.07058491,\n",
       "         0.38886484, 0.5408959 , 0.05477078, 0.9273292 , 0.00237538,\n",
       "         0.84105918, 0.10019471, 0.17675499, 0.16280397, 0.29986974,\n",
       "         0.70992463, 0.77274996, 0.76834684, 0.13122974, 0.78813362,\n",
       "         0.7877596 , 0.86941735, 0.79036741, 0.93255554, 0.66577985,\n",
       "         0.45060453, 0.73592761, 0.69126314, 0.38814477, 0.44971242,\n",
       "         0.98003606, 0.9430381 , 0.39960821, 0.50715587, 0.76718142,\n",
       "         0.53812164, 0.7698593 , 0.95450266, 0.8767814 , 0.90652847,\n",
       "         0.2553986 , 0.14011318, 0.8022203 , 0.78686138, 0.60239782,\n",
       "         0.54315711, 0.07957262, 0.72877376, 0.98111187, 0.30845373,\n",
       "         0.91983173, 0.27460403, 0.4132554 , 0.93974351, 0.96062737,\n",
       "         0.79465919, 0.67726042, 0.60344866, 0.771973  , 0.16024957,\n",
       "         0.51192976, 0.53807073, 0.91345443, 0.52479105, 0.36750183,\n",
       "         0.54929798, 0.97713204, 0.38370665, 0.32443106, 0.28725989,\n",
       "         0.34999591, 0.36522018, 0.61158112, 0.76332264, 0.53085472,\n",
       "         0.94589995, 0.26572632, 0.49809124, 0.29165856, 0.73198246,\n",
       "         0.24021843, 0.89557422, 0.63294231, 0.30484723, 0.35207274,\n",
       "         0.32599758, 0.96198792, 0.71034654, 0.87751527, 0.53282126,\n",
       "         0.98824433, 0.60308054, 0.47904208, 0.75574637, 0.02649264,\n",
       "         0.58835718, 0.53907592, 0.05731753, 0.39919298, 0.08298243,\n",
       "         0.42986456, 0.20081668, 0.49547441, 0.24454837, 0.5269482 ,\n",
       "         0.46808249, 0.85076896, 0.41217745, 0.80875414, 0.7262366 ,\n",
       "         0.64806504, 0.92907394, 0.47901306, 0.0506492 , 0.85150188,\n",
       "         0.29820868, 0.2668629 , 0.6924822 , 0.14432822, 0.7430582 ,\n",
       "         0.44698913, 0.54805628, 0.67287876, 0.15105501, 0.06436415,\n",
       "         0.65787533, 0.56484524, 0.04342528, 0.60979352, 0.49232751,\n",
       "         0.0015662 ]))]"
      ]
     },
     "execution_count": 20,
     "metadata": {},
     "output_type": "execute_result"
    }
   ],
   "source": [
    "expand_setpoints_helper(a.spectrum)"
   ]
  },
  {
   "cell_type": "code",
   "execution_count": 21,
   "metadata": {},
   "outputs": [
    {
     "name": "stdout",
     "output_type": "stream",
     "text": [
      "Starting experimental run with id: 2\n"
     ]
    }
   ],
   "source": [
    "meas = Measurement()\n",
    "meas.register_parameter(a.spectrum)\n",
    "\n",
    "with meas.run() as datasaver:\n",
    "    datasaver.add_result(*expand_setpoints_helper(a.spectrum))\n",
    "    \n",
    "    dataid = datasaver.run_id"
   ]
  },
  {
   "cell_type": "code",
   "execution_count": null,
   "metadata": {},
   "outputs": [],
   "source": []
  }
 ],
 "metadata": {
  "kernelspec": {
   "display_name": "Python 3",
   "language": "python",
   "name": "python3"
  },
  "language_info": {
   "codemirror_mode": {
    "name": "ipython",
    "version": 3
   },
   "file_extension": ".py",
   "mimetype": "text/x-python",
   "name": "python",
   "nbconvert_exporter": "python",
   "pygments_lexer": "ipython3",
   "version": "3.7.3"
  },
  "toc": {
   "base_numbering": 1,
   "nav_menu": {},
   "number_sections": true,
   "sideBar": true,
   "skip_h1_title": false,
   "title_cell": "Table of Contents",
   "title_sidebar": "Contents",
   "toc_cell": false,
   "toc_position": {},
   "toc_section_display": true,
   "toc_window_display": false
  },
  "varInspector": {
   "cols": {
    "lenName": 16,
    "lenType": 16,
    "lenVar": 40
   },
   "kernels_config": {
    "python": {
     "delete_cmd_postfix": "",
     "delete_cmd_prefix": "del ",
     "library": "var_list.py",
     "varRefreshCmd": "print(var_dic_list())"
    },
    "r": {
     "delete_cmd_postfix": ") ",
     "delete_cmd_prefix": "rm(",
     "library": "var_list.r",
     "varRefreshCmd": "cat(var_dic_list()) "
    }
   },
   "types_to_exclude": [
    "module",
    "function",
    "builtin_function_or_method",
    "instance",
    "_Feature"
   ],
   "window_display": false
  }
 },
 "nbformat": 4,
 "nbformat_minor": 2
}
