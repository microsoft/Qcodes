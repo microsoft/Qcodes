{
 "cells": [
  {
   "cell_type": "markdown",
   "id": "plain-primary",
   "metadata": {},
   "source": [
    "# Qcodes example with DelegateInstrument driver\n",
    "\n",
    "This notebooks explains how to use the `DelegateInstrument` driver.\n",
    "\n",
    "## About\n",
    "The goal of the `DelegateInstrument` driver is to make it easier to combine different parameters together into a new \"virtual\" instrument. Each parameter on a `DelegateInstrument` can point to one or more parameters on other instruments in the station.\n",
    "\n",
    "## Usage\n",
    "The way it's used is mainly by specifying an entry in the station YAML. For instance, let's say you want to use a magnetic field coil. The driver has a method set_field(value, block), that by default is set to block=True, which means the field is ramped in a way that blocks further execution until the desired value is reached. However, let's say you are creating a measurement in which you want the parameter to be set, and while the value is ramping, you want to measure other parameters. This can be done by using `DelegateInstrument` and specifying a custom `setter` for the parameter that gets and sets the magnetic field.\n",
    "\n",
    "By default, each parameter is represented by a `DelegateParameter`. The `DelegateInstrument` also supports passing multiple source parameters to a given parameter. In order to do this, simply specify multiple parameters in the dictionary values  under the `parameters` key.\n",
    "\n",
    "It can also add instrument channels, specified under a separate key `channels`, shown in the second half of the notebook."
   ]
  },
  {
   "cell_type": "code",
   "execution_count": 1,
   "id": "sapphire-quebec",
   "metadata": {
    "execution": {
     "iopub.execute_input": "2025-10-31T09:50:57.826160Z",
     "iopub.status.busy": "2025-10-31T09:50:57.825976Z",
     "iopub.status.idle": "2025-10-31T09:50:57.834137Z",
     "shell.execute_reply": "2025-10-31T09:50:57.833214Z"
    }
   },
   "outputs": [
    {
     "name": "stdout",
     "output_type": "stream",
     "text": [
      "Writing delegate_instrument_example.yaml\n"
     ]
    }
   ],
   "source": [
    "%%writefile delegate_instrument_example.yaml\n",
    "\n",
    "instruments:\n",
    "  field_X:\n",
    "    type: qcodes.instrument_drivers.mock_instruments.MockField\n",
    "\n",
    "  field:\n",
    "    type: qcodes.instrument.delegate.DelegateInstrument\n",
    "    init:\n",
    "      parameters:\n",
    "        X:\n",
    "          - field_X.field\n",
    "        ramp_rate:\n",
    "          - field_X.ramp_rate\n",
    "        combined:\n",
    "          - field_X.field\n",
    "          - field_X.ramp_rate\n",
    "      set_initial_values_on_load: true\n",
    "      initial_values:\n",
    "        ramp_rate: 1.0\n",
    "      setters:\n",
    "        X:\n",
    "          method: field_X.set_field\n",
    "          block: false"
   ]
  },
  {
   "cell_type": "code",
   "execution_count": 2,
   "id": "younger-newspaper",
   "metadata": {
    "execution": {
     "iopub.execute_input": "2025-10-31T09:50:57.836060Z",
     "iopub.status.busy": "2025-10-31T09:50:57.835847Z",
     "iopub.status.idle": "2025-10-31T09:50:58.277205Z",
     "shell.execute_reply": "2025-10-31T09:50:58.276093Z"
    }
   },
   "outputs": [],
   "source": [
    "from pathlib import Path\n",
    "\n",
    "import qcodes as qc\n",
    "from qcodes.dataset import (\n",
    "    Measurement,\n",
    "    initialise_or_create_database_at,\n",
    "    load_or_create_experiment,\n",
    ")"
   ]
  },
  {
   "cell_type": "code",
   "execution_count": 3,
   "id": "muslim-briefs",
   "metadata": {
    "execution": {
     "iopub.execute_input": "2025-10-31T09:50:58.279515Z",
     "iopub.status.busy": "2025-10-31T09:50:58.279120Z",
     "iopub.status.idle": "2025-10-31T09:50:58.304690Z",
     "shell.execute_reply": "2025-10-31T09:50:58.303849Z"
    }
   },
   "outputs": [],
   "source": [
    "station = qc.Station(config_file=\"delegate_instrument_example.yaml\")"
   ]
  },
  {
   "cell_type": "code",
   "execution_count": 4,
   "id": "greatest-antenna",
   "metadata": {
    "execution": {
     "iopub.execute_input": "2025-10-31T09:50:58.307223Z",
     "iopub.status.busy": "2025-10-31T09:50:58.306956Z",
     "iopub.status.idle": "2025-10-31T09:50:58.327966Z",
     "shell.execute_reply": "2025-10-31T09:50:58.326910Z"
    }
   },
   "outputs": [],
   "source": [
    "field_X = station.load_field_X()\n",
    "field = station.load_field(station=station)"
   ]
  },
  {
   "cell_type": "code",
   "execution_count": 5,
   "id": "every-playing",
   "metadata": {
    "execution": {
     "iopub.execute_input": "2025-10-31T09:50:58.329927Z",
     "iopub.status.busy": "2025-10-31T09:50:58.329746Z",
     "iopub.status.idle": "2025-10-31T09:50:58.336226Z",
     "shell.execute_reply": "2025-10-31T09:50:58.335243Z"
    }
   },
   "outputs": [
    {
     "data": {
      "text/plain": [
       "0.0"
      ]
     },
     "execution_count": 5,
     "metadata": {},
     "output_type": "execute_result"
    }
   ],
   "source": [
    "field.X()"
   ]
  },
  {
   "cell_type": "code",
   "execution_count": 6,
   "id": "undefined-worst",
   "metadata": {
    "execution": {
     "iopub.execute_input": "2025-10-31T09:50:58.338056Z",
     "iopub.status.busy": "2025-10-31T09:50:58.337864Z",
     "iopub.status.idle": "2025-10-31T09:50:58.341470Z",
     "shell.execute_reply": "2025-10-31T09:50:58.340333Z"
    }
   },
   "outputs": [],
   "source": [
    "field.X(1.0)"
   ]
  },
  {
   "cell_type": "code",
   "execution_count": 7,
   "id": "recreational-suggestion",
   "metadata": {
    "execution": {
     "iopub.execute_input": "2025-10-31T09:50:58.343187Z",
     "iopub.status.busy": "2025-10-31T09:50:58.343016Z",
     "iopub.status.idle": "2025-10-31T09:50:58.347348Z",
     "shell.execute_reply": "2025-10-31T09:50:58.346382Z"
    }
   },
   "outputs": [
    {
     "data": {
      "text/plain": [
       "8.012056350708008e-05"
      ]
     },
     "execution_count": 7,
     "metadata": {},
     "output_type": "execute_result"
    }
   ],
   "source": [
    "field.X()"
   ]
  },
  {
   "cell_type": "code",
   "execution_count": 8,
   "id": "adopted-exchange",
   "metadata": {
    "execution": {
     "iopub.execute_input": "2025-10-31T09:50:58.349108Z",
     "iopub.status.busy": "2025-10-31T09:50:58.348927Z",
     "iopub.status.idle": "2025-10-31T09:50:58.352956Z",
     "shell.execute_reply": "2025-10-31T09:50:58.352089Z"
    }
   },
   "outputs": [
    {
     "data": {
      "text/plain": [
       "0.00017914374669392903"
      ]
     },
     "execution_count": 8,
     "metadata": {},
     "output_type": "execute_result"
    }
   ],
   "source": [
    "field.X()"
   ]
  },
  {
   "cell_type": "code",
   "execution_count": 9,
   "id": "bound-broadcasting",
   "metadata": {
    "execution": {
     "iopub.execute_input": "2025-10-31T09:50:58.354651Z",
     "iopub.status.busy": "2025-10-31T09:50:58.354468Z",
     "iopub.status.idle": "2025-10-31T09:50:58.358504Z",
     "shell.execute_reply": "2025-10-31T09:50:58.357585Z"
    }
   },
   "outputs": [
    {
     "data": {
      "text/plain": [
       "0.00027034680048624676"
      ]
     },
     "execution_count": 9,
     "metadata": {},
     "output_type": "execute_result"
    }
   ],
   "source": [
    "field.X()"
   ]
  },
  {
   "cell_type": "code",
   "execution_count": 10,
   "id": "casual-ghost",
   "metadata": {
    "execution": {
     "iopub.execute_input": "2025-10-31T09:50:58.360415Z",
     "iopub.status.busy": "2025-10-31T09:50:58.360178Z",
     "iopub.status.idle": "2025-10-31T09:50:58.364988Z",
     "shell.execute_reply": "2025-10-31T09:50:58.363815Z"
    }
   },
   "outputs": [
    {
     "data": {
      "text/plain": [
       "0.0003700057665506999"
      ]
     },
     "execution_count": 10,
     "metadata": {},
     "output_type": "execute_result"
    }
   ],
   "source": [
    "field.X()"
   ]
  },
  {
   "cell_type": "markdown",
   "id": "alike-process",
   "metadata": {},
   "source": [
    "As you can see, the field is now ramped in the background with the specified ramp rate. Now, let's try to create a measurement that uses this ability, and ramps the field in the background while measuring:"
   ]
  },
  {
   "cell_type": "code",
   "execution_count": 11,
   "id": "sustained-tiger",
   "metadata": {
    "execution": {
     "iopub.execute_input": "2025-10-31T09:50:58.366853Z",
     "iopub.status.busy": "2025-10-31T09:50:58.366654Z",
     "iopub.status.idle": "2025-10-31T09:50:58.372253Z",
     "shell.execute_reply": "2025-10-31T09:50:58.371228Z"
    }
   },
   "outputs": [],
   "source": [
    "field.ramp_rate(10.0)\n",
    "field_X.field(0.0)"
   ]
  },
  {
   "cell_type": "code",
   "execution_count": 12,
   "id": "pharmaceutical-partition",
   "metadata": {
    "execution": {
     "iopub.execute_input": "2025-10-31T09:50:58.373960Z",
     "iopub.status.busy": "2025-10-31T09:50:58.373765Z",
     "iopub.status.idle": "2025-10-31T09:50:58.377993Z",
     "shell.execute_reply": "2025-10-31T09:50:58.377140Z"
    }
   },
   "outputs": [
    {
     "data": {
      "text/plain": [
       "0.0"
      ]
     },
     "execution_count": 12,
     "metadata": {},
     "output_type": "execute_result"
    }
   ],
   "source": [
    "field.X()"
   ]
  },
  {
   "cell_type": "code",
   "execution_count": 13,
   "id": "happy-ordinance",
   "metadata": {
    "execution": {
     "iopub.execute_input": "2025-10-31T09:50:58.379752Z",
     "iopub.status.busy": "2025-10-31T09:50:58.379520Z",
     "iopub.status.idle": "2025-10-31T09:50:59.630280Z",
     "shell.execute_reply": "2025-10-31T09:50:59.629568Z"
    }
   },
   "outputs": [
    {
     "name": "stdout",
     "output_type": "stream",
     "text": [
      "Starting experimental run with id: 1. \n"
     ]
    }
   ],
   "source": [
    "import time\n",
    "\n",
    "initialise_or_create_database_at(\n",
    "    Path.cwd().parent / \"example_output\" / \"delegate_instrument_example.db\"\n",
    ")\n",
    "load_or_create_experiment(\"delegate_instrument_experiment\")\n",
    "\n",
    "meas = Measurement(station=station)\n",
    "meas.register_parameter(field.X)\n",
    "\n",
    "with meas.run() as datasaver:\n",
    "    for B in [0.1, 0.0]:\n",
    "        field.X(B)\n",
    "        while field.X() != B:\n",
    "            datasaver.add_result((field.X, field.X()))\n",
    "            time.sleep(0.01)\n",
    "    datasaver.flush_data_to_database()"
   ]
  },
  {
   "cell_type": "code",
   "execution_count": 14,
   "id": "short-medium",
   "metadata": {
    "execution": {
     "iopub.execute_input": "2025-10-31T09:50:59.633302Z",
     "iopub.status.busy": "2025-10-31T09:50:59.633066Z",
     "iopub.status.idle": "2025-10-31T09:51:00.316876Z",
     "shell.execute_reply": "2025-10-31T09:51:00.316066Z"
    }
   },
   "outputs": [
    {
     "data": {
      "text/plain": [
       "<Axes: >"
      ]
     },
     "execution_count": 14,
     "metadata": {},
     "output_type": "execute_result"
    },
    {
     "data": {
      "image/png": "[encoded data removed]",
      "text/plain": [
       "<Figure size 640x480 with 1 Axes>"
      ]
     },
     "metadata": {},
     "output_type": "display_data"
    }
   ],
   "source": [
    "datasaver.dataset.to_pandas_dataframe().plot()"
   ]
  },
  {
   "cell_type": "markdown",
   "id": "incomplete-vietnamese",
   "metadata": {},
   "source": [
    "When specifying multiple source parameters on a given parameter, the grouped parameter will automatically return a `namedtuple` that returns both values."
   ]
  },
  {
   "cell_type": "code",
   "execution_count": 15,
   "id": "dangerous-finder",
   "metadata": {
    "execution": {
     "iopub.execute_input": "2025-10-31T09:51:00.319279Z",
     "iopub.status.busy": "2025-10-31T09:51:00.318963Z",
     "iopub.status.idle": "2025-10-31T09:51:00.323420Z",
     "shell.execute_reply": "2025-10-31T09:51:00.322490Z"
    }
   },
   "outputs": [
    {
     "data": {
      "text/plain": [
       "combined(field=0.0, ramp_rate=10.0)"
      ]
     },
     "execution_count": 15,
     "metadata": {},
     "output_type": "execute_result"
    }
   ],
   "source": [
    "field.combined()"
   ]
  },
  {
   "cell_type": "markdown",
   "id": "consolidated-cooper",
   "metadata": {},
   "source": [
    "We can now also create a custom parameter that does a simple calculation based on the current parameters."
   ]
  },
  {
   "cell_type": "code",
   "execution_count": 16,
   "id": "designed-bloom",
   "metadata": {
    "execution": {
     "iopub.execute_input": "2025-10-31T09:51:00.325263Z",
     "iopub.status.busy": "2025-10-31T09:51:00.325089Z",
     "iopub.status.idle": "2025-10-31T09:51:00.328927Z",
     "shell.execute_reply": "2025-10-31T09:51:00.327948Z"
    }
   },
   "outputs": [],
   "source": [
    "import numpy as np\n",
    "\n",
    "\n",
    "def calculate_ramp_time(X, ramp_rate):\n",
    "    \"\"\"Calculate ramp time in seconds\"\"\"\n",
    "    dfield = np.abs(field.target_field - X)\n",
    "    return 60.0 * dfield / ramp_rate"
   ]
  },
  {
   "cell_type": "code",
   "execution_count": 17,
   "id": "disabled-logic",
   "metadata": {
    "execution": {
     "iopub.execute_input": "2025-10-31T09:51:00.330828Z",
     "iopub.status.busy": "2025-10-31T09:51:00.330588Z",
     "iopub.status.idle": "2025-10-31T09:51:00.334980Z",
     "shell.execute_reply": "2025-10-31T09:51:00.333764Z"
    },
    "scrolled": true
   },
   "outputs": [],
   "source": [
    "field._create_and_add_parameter(\n",
    "    group_name=\"ramp_time\",\n",
    "    station=station,\n",
    "    paths=[\"field_X.field\", \"field_X.ramp_rate\"],\n",
    "    formatter=calculate_ramp_time,\n",
    ")"
   ]
  },
  {
   "cell_type": "code",
   "execution_count": 18,
   "id": "adverse-february",
   "metadata": {
    "execution": {
     "iopub.execute_input": "2025-10-31T09:51:00.337022Z",
     "iopub.status.busy": "2025-10-31T09:51:00.336678Z",
     "iopub.status.idle": "2025-10-31T09:51:00.341759Z",
     "shell.execute_reply": "2025-10-31T09:51:00.340920Z"
    }
   },
   "outputs": [
    {
     "data": {
      "text/plain": [
       "np.float64(6.0)"
      ]
     },
     "execution_count": 18,
     "metadata": {},
     "output_type": "execute_result"
    }
   ],
   "source": [
    "field.ramp_rate(1.0)\n",
    "field.target_field = 0.1\n",
    "field.ramp_time()"
   ]
  },
  {
   "cell_type": "code",
   "execution_count": 19,
   "id": "statutory-xerox",
   "metadata": {
    "execution": {
     "iopub.execute_input": "2025-10-31T09:51:00.343629Z",
     "iopub.status.busy": "2025-10-31T09:51:00.343438Z",
     "iopub.status.idle": "2025-10-31T09:51:00.346700Z",
     "shell.execute_reply": "2025-10-31T09:51:00.345749Z"
    }
   },
   "outputs": [],
   "source": [
    "field.X(0.1)"
   ]
  },
  {
   "cell_type": "code",
   "execution_count": 20,
   "id": "varying-auditor",
   "metadata": {
    "execution": {
     "iopub.execute_input": "2025-10-31T09:51:00.348427Z",
     "iopub.status.busy": "2025-10-31T09:51:00.348269Z",
     "iopub.status.idle": "2025-10-31T09:51:00.352692Z",
     "shell.execute_reply": "2025-10-31T09:51:00.351745Z"
    }
   },
   "outputs": [
    {
     "data": {
      "text/plain": [
       "np.float64(5.995249271392823)"
      ]
     },
     "execution_count": 20,
     "metadata": {},
     "output_type": "execute_result"
    }
   ],
   "source": [
    "field.ramp_time()"
   ]
  },
  {
   "cell_type": "code",
   "execution_count": 21,
   "id": "chubby-nickel",
   "metadata": {
    "execution": {
     "iopub.execute_input": "2025-10-31T09:51:00.354674Z",
     "iopub.status.busy": "2025-10-31T09:51:00.354478Z",
     "iopub.status.idle": "2025-10-31T09:51:01.359388Z",
     "shell.execute_reply": "2025-10-31T09:51:01.358416Z"
    }
   },
   "outputs": [
    {
     "data": {
      "text/plain": [
       "np.float64(4.988602876663208)"
      ]
     },
     "execution_count": 21,
     "metadata": {},
     "output_type": "execute_result"
    }
   ],
   "source": [
    "import time\n",
    "\n",
    "time.sleep(1.0)\n",
    "field.ramp_time()"
   ]
  },
  {
   "cell_type": "code",
   "execution_count": 22,
   "id": "italian-liberty",
   "metadata": {
    "execution": {
     "iopub.execute_input": "2025-10-31T09:51:01.361394Z",
     "iopub.status.busy": "2025-10-31T09:51:01.361230Z",
     "iopub.status.idle": "2025-10-31T09:51:02.366381Z",
     "shell.execute_reply": "2025-10-31T09:51:02.365396Z"
    }
   },
   "outputs": [
    {
     "data": {
      "text/plain": [
       "np.float64(3.98186206817627)"
      ]
     },
     "execution_count": 22,
     "metadata": {},
     "output_type": "execute_result"
    }
   ],
   "source": [
    "import time\n",
    "\n",
    "time.sleep(1.0)\n",
    "field.ramp_time()"
   ]
  },
  {
   "attachments": {},
   "cell_type": "markdown",
   "id": "c1145a2d",
   "metadata": {},
   "source": [
    "## Devices with channels"
   ]
  },
  {
   "cell_type": "markdown",
   "id": "182693f8",
   "metadata": {},
   "source": [
    "The YAML file below specifies the instruments with the channels/parameters we wish to group into a new instrument, here called \"device\". The first example simply adds the channel 'as is' using self.add_submodule, while the readout parameter is added as a DelegateParameter."
   ]
  },
  {
   "cell_type": "code",
   "execution_count": 23,
   "id": "a88d5103",
   "metadata": {
    "execution": {
     "iopub.execute_input": "2025-10-31T09:51:02.368330Z",
     "iopub.status.busy": "2025-10-31T09:51:02.368117Z",
     "iopub.status.idle": "2025-10-31T09:51:02.373113Z",
     "shell.execute_reply": "2025-10-31T09:51:02.371976Z"
    }
   },
   "outputs": [
    {
     "name": "stdout",
     "output_type": "stream",
     "text": [
      "Overwriting delegate_instrument_example.yaml\n"
     ]
    }
   ],
   "source": [
    "%%writefile delegate_instrument_example.yaml\n",
    "\n",
    "instruments:\n",
    "  lockin:\n",
    "    type: qcodes.instrument_drivers.mock_instruments.MockLockin\n",
    "\n",
    "  dac:\n",
    "    type: qcodes.instrument_drivers.mock_instruments.MockDAC\n",
    "\n",
    "  device:\n",
    "    type: qcodes.instrument.delegate.DelegateInstrument\n",
    "    init:\n",
    "      parameters:\n",
    "        readout: lockin.X\n",
    "      channels:\n",
    "        gate_1: dac.ch01\n",
    "      set_initial_values_on_load: true\n",
    "      initial_values:\n",
    "        readout: 1e-5\n",
    "        gate_1.voltage.post_delay: 0.01"
   ]
  },
  {
   "cell_type": "code",
   "execution_count": 24,
   "id": "91f2a8ab",
   "metadata": {
    "execution": {
     "iopub.execute_input": "2025-10-31T09:51:02.375166Z",
     "iopub.status.busy": "2025-10-31T09:51:02.374785Z",
     "iopub.status.idle": "2025-10-31T09:51:02.384734Z",
     "shell.execute_reply": "2025-10-31T09:51:02.383894Z"
    }
   },
   "outputs": [],
   "source": [
    "station = qc.Station(config_file=\"delegate_instrument_example.yaml\")"
   ]
  },
  {
   "cell_type": "code",
   "execution_count": 25,
   "id": "45b22762",
   "metadata": {
    "execution": {
     "iopub.execute_input": "2025-10-31T09:51:02.386911Z",
     "iopub.status.busy": "2025-10-31T09:51:02.386654Z",
     "iopub.status.idle": "2025-10-31T09:51:02.420145Z",
     "shell.execute_reply": "2025-10-31T09:51:02.419279Z"
    }
   },
   "outputs": [],
   "source": [
    "lockin = station.load_lockin()\n",
    "dac = station.load_dac()\n",
    "device = station.load_device(station=station)"
   ]
  },
  {
   "cell_type": "code",
   "execution_count": 26,
   "id": "9bfa54fb",
   "metadata": {
    "execution": {
     "iopub.execute_input": "2025-10-31T09:51:02.422322Z",
     "iopub.status.busy": "2025-10-31T09:51:02.422152Z",
     "iopub.status.idle": "2025-10-31T09:51:02.425946Z",
     "shell.execute_reply": "2025-10-31T09:51:02.424874Z"
    }
   },
   "outputs": [
    {
     "name": "stdout",
     "output_type": "stream",
     "text": [
      "<MockDACChannel: dac_ch01 of MockDAC: dac>\n",
      "0.01\n"
     ]
    }
   ],
   "source": [
    "print(device.gate_1)\n",
    "print(device.gate_1.voltage.post_delay)"
   ]
  },
  {
   "cell_type": "code",
   "execution_count": 27,
   "id": "91d57fe0",
   "metadata": {
    "execution": {
     "iopub.execute_input": "2025-10-31T09:51:02.427708Z",
     "iopub.status.busy": "2025-10-31T09:51:02.427519Z",
     "iopub.status.idle": "2025-10-31T09:51:02.442290Z",
     "shell.execute_reply": "2025-10-31T09:51:02.441461Z"
    }
   },
   "outputs": [
    {
     "name": "stdout",
     "output_type": "stream",
     "text": [
      "0.0\n"
     ]
    },
    {
     "data": {
      "text/plain": [
       "-0.6"
      ]
     },
     "execution_count": 27,
     "metadata": {},
     "output_type": "execute_result"
    }
   ],
   "source": [
    "print(device.gate_1.voltage())\n",
    "device.gate_1.voltage(-0.6)\n",
    "device.gate_1.voltage()"
   ]
  },
  {
   "cell_type": "markdown",
   "id": "37e1c2c3",
   "metadata": {},
   "source": [
    "The second example adds a channel using a custom channel class, which takes the initial channel and its name as input and has a parameter current_valid_ranges."
   ]
  },
  {
   "cell_type": "code",
   "execution_count": 28,
   "id": "7e4becd1",
   "metadata": {
    "execution": {
     "iopub.execute_input": "2025-10-31T09:51:02.444555Z",
     "iopub.status.busy": "2025-10-31T09:51:02.444368Z",
     "iopub.status.idle": "2025-10-31T09:51:02.448782Z",
     "shell.execute_reply": "2025-10-31T09:51:02.447728Z"
    }
   },
   "outputs": [
    {
     "name": "stdout",
     "output_type": "stream",
     "text": [
      "Overwriting delegate_instrument_example.yaml\n"
     ]
    }
   ],
   "source": [
    "%%writefile delegate_instrument_example.yaml\n",
    "\n",
    "instruments:\n",
    "  lockin:\n",
    "    type: qcodes.instrument_drivers.mock_instruments.MockLockin\n",
    "\n",
    "  dac:\n",
    "    type: qcodes.instrument_drivers.mock_instruments.MockDAC\n",
    "\n",
    "  device:\n",
    "    type: qcodes.instrument.delegate.DelegateInstrument\n",
    "    init:\n",
    "      parameters:\n",
    "        readout: lockin.X\n",
    "      channels:\n",
    "        type: qcodes.instrument_drivers.mock_instruments.MockCustomChannel\n",
    "        gate_1:\n",
    "          channel: dac.ch01\n",
    "          current_valid_range: [-0.5, 0]\n",
    "      set_initial_values_on_load: true\n",
    "      initial_values:\n",
    "        readout: 1e-5"
   ]
  },
  {
   "cell_type": "code",
   "execution_count": 29,
   "id": "2e3ca8d5",
   "metadata": {
    "execution": {
     "iopub.execute_input": "2025-10-31T09:51:02.450700Z",
     "iopub.status.busy": "2025-10-31T09:51:02.450469Z",
     "iopub.status.idle": "2025-10-31T09:51:02.453666Z",
     "shell.execute_reply": "2025-10-31T09:51:02.452843Z"
    }
   },
   "outputs": [],
   "source": [
    "lockin.close()\n",
    "dac.close()"
   ]
  },
  {
   "cell_type": "code",
   "execution_count": 30,
   "id": "2f2d2b2b",
   "metadata": {
    "execution": {
     "iopub.execute_input": "2025-10-31T09:51:02.455766Z",
     "iopub.status.busy": "2025-10-31T09:51:02.455479Z",
     "iopub.status.idle": "2025-10-31T09:51:02.490128Z",
     "shell.execute_reply": "2025-10-31T09:51:02.489162Z"
    }
   },
   "outputs": [],
   "source": [
    "station = qc.Station(config_file=\"delegate_instrument_example.yaml\")\n",
    "lockin = station.load_lockin()\n",
    "dac = station.load_dac()"
   ]
  },
  {
   "cell_type": "code",
   "execution_count": 31,
   "id": "9cb653b0",
   "metadata": {
    "execution": {
     "iopub.execute_input": "2025-10-31T09:51:02.492010Z",
     "iopub.status.busy": "2025-10-31T09:51:02.491827Z",
     "iopub.status.idle": "2025-10-31T09:51:02.502758Z",
     "shell.execute_reply": "2025-10-31T09:51:02.501936Z"
    }
   },
   "outputs": [],
   "source": [
    "device = station.load_device(station=station)"
   ]
  },
  {
   "cell_type": "code",
   "execution_count": 32,
   "id": "433d9646",
   "metadata": {
    "execution": {
     "iopub.execute_input": "2025-10-31T09:51:02.504809Z",
     "iopub.status.busy": "2025-10-31T09:51:02.504580Z",
     "iopub.status.idle": "2025-10-31T09:51:02.509482Z",
     "shell.execute_reply": "2025-10-31T09:51:02.508563Z"
    }
   },
   "outputs": [
    {
     "data": {
      "text/plain": [
       "<MockCustomChannel: dac_gate_1 of MockDAC: dac>"
      ]
     },
     "execution_count": 32,
     "metadata": {},
     "output_type": "execute_result"
    }
   ],
   "source": [
    "device.gate_1"
   ]
  },
  {
   "cell_type": "code",
   "execution_count": 33,
   "id": "3d2b8faa",
   "metadata": {
    "execution": {
     "iopub.execute_input": "2025-10-31T09:51:02.511175Z",
     "iopub.status.busy": "2025-10-31T09:51:02.511001Z",
     "iopub.status.idle": "2025-10-31T09:51:02.514258Z",
     "shell.execute_reply": "2025-10-31T09:51:02.513282Z"
    }
   },
   "outputs": [],
   "source": [
    "device.gate_1.voltage(-0.3)"
   ]
  },
  {
   "cell_type": "code",
   "execution_count": 34,
   "id": "49def342",
   "metadata": {
    "execution": {
     "iopub.execute_input": "2025-10-31T09:51:02.516338Z",
     "iopub.status.busy": "2025-10-31T09:51:02.516182Z",
     "iopub.status.idle": "2025-10-31T09:51:02.520430Z",
     "shell.execute_reply": "2025-10-31T09:51:02.519497Z"
    }
   },
   "outputs": [
    {
     "data": {
      "text/plain": [
       "-0.3"
      ]
     },
     "execution_count": 34,
     "metadata": {},
     "output_type": "execute_result"
    }
   ],
   "source": [
    "device.gate_1.voltage()"
   ]
  },
  {
   "cell_type": "markdown",
   "id": "7b122128",
   "metadata": {},
   "source": [
    "The MockCustomChannel has a parameter `current_valid_range`."
   ]
  },
  {
   "cell_type": "code",
   "execution_count": 35,
   "id": "d32a06fd",
   "metadata": {
    "execution": {
     "iopub.execute_input": "2025-10-31T09:51:02.522245Z",
     "iopub.status.busy": "2025-10-31T09:51:02.522077Z",
     "iopub.status.idle": "2025-10-31T09:51:02.526337Z",
     "shell.execute_reply": "2025-10-31T09:51:02.525437Z"
    }
   },
   "outputs": [
    {
     "data": {
      "text/plain": [
       "[-0.5, 0]"
      ]
     },
     "execution_count": 35,
     "metadata": {},
     "output_type": "execute_result"
    }
   ],
   "source": [
    "device.gate_1.current_valid_range()"
   ]
  }
 ],
 "metadata": {
  "kernelspec": {
   "display_name": ".venv",
   "language": "python",
   "name": "python3"
  },
  "language_info": {
   "codemirror_mode": {
    "name": "ipython",
    "version": 3
   },
   "file_extension": ".py",
   "mimetype": "text/x-python",
   "name": "python",
   "nbconvert_exporter": "python",
   "pygments_lexer": "ipython3",
   "version": "3.11.14"
  }
 },
 "nbformat": 4,
 "nbformat_minor": 5
}
