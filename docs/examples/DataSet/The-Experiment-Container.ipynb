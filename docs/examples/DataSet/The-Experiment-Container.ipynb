{
 "cells": [
  {
   "cell_type": "markdown",
   "metadata": {},
   "source": [
    "# The Experiment Container\n",
    "\n",
    "This notebook explains how the database works as an experiment container."
   ]
  },
  {
   "cell_type": "code",
   "execution_count": 1,
   "metadata": {},
   "outputs": [],
   "source": [
    "import qcodes as qc\n",
    "from qcodes.dataset.database import initialise_database"
   ]
  },
  {
   "cell_type": "markdown",
   "metadata": {
    "collapsed": true
   },
   "source": [
    "## The database\n",
    "\n",
    "The database on file is selected via the QCoDeS configuration file and a connection to it is set up at import time. There is always only one database selected as the \"active\" one.\n"
   ]
  },
  {
   "cell_type": "markdown",
   "metadata": {},
   "source": [
    "### The config file\n",
    "\n",
    "We'll be modifying the config file in a second, so first a brief word about the config system.\n",
    "\n",
    "Only one config file can be used at a time. The default config file should not be overwritten, so if you have any modifications, you should save the updated config file on your home directory **OR** in the current working directory of your script/notebook. The QCoDeS config system first looks in the current directory for a config file and then in the home directory for one and only then - if no config files where found - does it fall back to using the default one. The default config is located in `qcodes/qcodes/config`."
   ]
  },
  {
   "cell_type": "code",
   "execution_count": 2,
   "metadata": {},
   "outputs": [
    {
     "name": "stdout",
     "output_type": "stream",
     "text": [
      "Using config file from /Users/william/sourcecodes/QCoDeS/qcodes/config/qcodesrc_schema.json\n",
      "Database location: ./experiments.db\n"
     ]
    }
   ],
   "source": [
    "# To inspect the config file, use\n",
    "configuration = qc.config\n",
    "print(f'Using config file from {configuration.current_config_path}')\n",
    "print(f'Database location: {configuration[\"core\"][\"db_location\"]}')"
   ]
  },
  {
   "cell_type": "markdown",
   "metadata": {},
   "source": [
    "Note that the default setting for the database location is a relative path. That is a sane default setting, but not always what you want. If you execute scripts from many different folders on your machine, you should change the default location to an absolute path pointing to your data folder, or you will end up with multiple databases."
   ]
  },
  {
   "cell_type": "code",
   "execution_count": 3,
   "metadata": {},
   "outputs": [],
   "source": [
    "# Changing the settings can done like so:\n",
    "\n",
    "configuration['core']['db_location'] = '~/my/particular/absolute/path/database.db'\n",
    "\n",
    "# To keep the changes after a kernel restart, save them to disk\n",
    "# configuration.save_to_home()  # this saves to the configuration file to the home directory"
   ]
  },
  {
   "cell_type": "markdown",
   "metadata": {},
   "source": [
    " For the sake of pedagogical clarity, we now create a new empty default database."
   ]
  },
  {
   "cell_type": "code",
   "execution_count": 4,
   "metadata": {},
   "outputs": [
    {
     "name": "stdout",
     "output_type": "stream",
     "text": [
      "\n",
      "CREATE  TABLE IF NOT EXISTS experiments (\n",
      "    -- this will autoncrement by default if\n",
      "    -- no value is specified on insert\n",
      "    exp_id INTEGER PRIMARY KEY,\n",
      "    name TEXT,\n",
      "    sample_name TEXT,\n",
      "    start_time INTEGER,\n",
      "    end_time INTEGER,\n",
      "    -- this is the last counter registered\n",
      "    -- 1 based\n",
      "    run_counter INTEGER,\n",
      "    -- this is the formatter strin used to cosntruct\n",
      "    -- the run name\n",
      "    format_string TEXT\n",
      "-- TODO: maybe I had a good reason for this doulbe primary key\n",
      "--    PRIMARY KEY (exp_id, start_time, sample_name)\n",
      ");\n",
      "\n",
      "CREATE TABLE IF NOT EXISTS runs (\n",
      "    -- this will autoincrement by default if\n",
      "    -- no value is specified on insert\n",
      "    run_id INTEGER PRIMARY KEY,\n",
      "    exp_id INTEGER,\n",
      "    -- friendly name for the run\n",
      "    name TEXT,\n",
      "    -- the name of the table which stores\n",
      "    -- the actual results\n",
      "    result_table_name TEXT,\n",
      "    -- this is the run counter in its experiment 0 based\n",
      "    result_counter INTEGER,\n",
      "    ---\n",
      "    run_timestamp INTEGER,\n",
      "    completed_timestamp INTEGER,\n",
      "    is_completed BOOL,\n",
      "    parameters TEXT,\n",
      "    -- metadata fields are added dynamically\n",
      "    FOREIGN KEY(exp_id)\n",
      "    REFERENCES\n",
      "        experiments(exp_id)\n",
      ");\n",
      "\n",
      "CREATE TABLE IF NOT EXISTS layouts (\n",
      "    layout_id INTEGER PRIMARY KEY,\n",
      "    run_id INTEGER,\n",
      "    -- name matching column name in result table\n",
      "    parameter TEXT,\n",
      "    label TEXT,\n",
      "    unit TEXT,\n",
      "    inferred_from TEXT,\n",
      "    FOREIGN KEY(run_id)\n",
      "    REFERENCES\n",
      "        runs(run_id)\n",
      ");\n",
      "\n",
      "CREATE TABLE IF NOT EXISTS dependencies (\n",
      "    dependent INTEGER,\n",
      "    independent INTEGER,\n",
      "    axis_num INTEGER\n",
      ");\n"
     ]
    }
   ],
   "source": [
    "# point the config system to the new location\n",
    "configuration['core']['db_location'] = './exp_container_tutorial.db'\n",
    "# now save the config file in home. \n",
    "# NOTE: This config file will \n",
    "# from now on loaded by qcodes instead of the default.\n",
    "configuration.save_to_home()\n",
    "# create an empty database based on the config file\n",
    "initialise_database()"
   ]
  },
  {
   "cell_type": "markdown",
   "metadata": {},
   "source": [
    "## The experiments inside the database"
   ]
  },
  {
   "cell_type": "markdown",
   "metadata": {},
   "source": [
    "The database holds a certain number of **experiments**. They may be viewed:"
   ]
  },
  {
   "cell_type": "code",
   "execution_count": 5,
   "metadata": {},
   "outputs": [
    {
     "data": {
      "text/plain": [
       "[]"
      ]
     },
     "execution_count": 5,
     "metadata": {},
     "output_type": "execute_result"
    }
   ],
   "source": [
    "qc.dataset.experiment_container.experiments()"
   ]
  },
  {
   "cell_type": "markdown",
   "metadata": {},
   "source": [
    "Not surprisingly, our new database is empty. Let us add some experiments."
   ]
  },
  {
   "cell_type": "code",
   "execution_count": 6,
   "metadata": {},
   "outputs": [
    {
     "data": {
      "text/plain": [
       "second_exp#brand_new_sample#3@./exp_container_tutorial.db\n",
       "---------------------------------------------------------"
      ]
     },
     "execution_count": 6,
     "metadata": {},
     "output_type": "execute_result"
    }
   ],
   "source": [
    "qc.dataset.experiment_container.new_experiment('first_exp', sample_name='old_sample')\n",
    "qc.dataset.experiment_container.new_experiment('second_exp', sample_name='slightly_newer_sample')\n",
    "qc.dataset.experiment_container.new_experiment('second_exp', sample_name='brand_new_sample')"
   ]
  },
  {
   "cell_type": "code",
   "execution_count": 7,
   "metadata": {},
   "outputs": [
    {
     "data": {
      "text/plain": [
       "[first_exp#old_sample#1@./exp_container_tutorial.db\n",
       " --------------------------------------------------,\n",
       " second_exp#slightly_newer_sample#2@./exp_container_tutorial.db\n",
       " --------------------------------------------------------------,\n",
       " second_exp#brand_new_sample#3@./exp_container_tutorial.db\n",
       " ---------------------------------------------------------]"
      ]
     },
     "execution_count": 7,
     "metadata": {},
     "output_type": "execute_result"
    }
   ],
   "source": [
    "qc.dataset.experiment_container.experiments()"
   ]
  },
  {
   "cell_type": "markdown",
   "metadata": {},
   "source": [
    "We notice that each experiment is labelled by an integer. This is the **exp_id** that can be used when looking up properties of each experiment.\n",
    "\n",
    "Let us add some runs to experiment 2 (\"second_exp\"). For the sake of clarity, we don't add any data to the runs here. We refer to the `Dataset Context Manager.ipynb` for detailed information on how to properly create and populate runs."
   ]
  },
  {
   "cell_type": "code",
   "execution_count": 8,
   "metadata": {},
   "outputs": [
    {
     "data": {
      "text/plain": [
       "a_good_run #1@./exp_container_tutorial.db\n",
       "-----------------------------------------"
      ]
     },
     "execution_count": 8,
     "metadata": {},
     "output_type": "execute_result"
    }
   ],
   "source": [
    "qc.dataset.data_set.new_data_set('a_good_run', exp_id=2)"
   ]
  },
  {
   "cell_type": "code",
   "execution_count": 9,
   "metadata": {},
   "outputs": [
    {
     "data": {
      "text/plain": [
       "a_nother_run #2@./exp_container_tutorial.db\n",
       "-------------------------------------------"
      ]
     },
     "execution_count": 9,
     "metadata": {},
     "output_type": "execute_result"
    }
   ],
   "source": [
    "qc.dataset.data_set.new_data_set('a_nother_run', exp_id=2)"
   ]
  },
  {
   "cell_type": "markdown",
   "metadata": {},
   "source": [
    "We may now inspect experiment 2."
   ]
  },
  {
   "cell_type": "code",
   "execution_count": 10,
   "metadata": {},
   "outputs": [],
   "source": [
    "exp_2 = qc.dataset.experiment_container.load_experiment(2)"
   ]
  },
  {
   "cell_type": "code",
   "execution_count": 11,
   "metadata": {},
   "outputs": [
    {
     "name": "stdout",
     "output_type": "stream",
     "text": [
      "second_exp#slightly_newer_sample#2@./exp_container_tutorial.db\n",
      "--------------------------------------------------------------\n",
      "1-a_good_run-1-None-0\n",
      "2-a_nother_run-2-None-0\n"
     ]
    }
   ],
   "source": [
    "# Printing the experiment will reveal the runs\n",
    "\n",
    "print(exp_2)"
   ]
  },
  {
   "cell_type": "markdown",
   "metadata": {},
   "source": [
    "In a similar way, we may of course add runs to the other two experiments. Now, the alert reader will have noticed that `exp_id` is a keyword argument in `new_data_set`. What is the default then? --The default is that the run is added to the experiment with the **highest** `exp_id` in the database."
   ]
  }
 ],
 "metadata": {
  "kernelspec": {
   "display_name": "Python 3",
   "language": "python",
   "name": "python3"
  },
  "language_info": {
   "codemirror_mode": {
    "name": "ipython",
    "version": 3
   },
   "file_extension": ".py",
   "mimetype": "text/x-python",
   "name": "python",
   "nbconvert_exporter": "python",
   "pygments_lexer": "ipython3",
   "version": "3.6.0"
  }
 },
 "nbformat": 4,
 "nbformat_minor": 1
}
