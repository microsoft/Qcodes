{
 "cells": [
  {
   "cell_type": "markdown",
   "metadata": {},
   "source": [
    "# Cryomagnetics TM-620 QCoDeS Driver Example\n",
    "\n",
    "This notebook showcases how to interface with a Cryomagnetics TM-620 Cryogenic Temperature Monitor using QCoDeS. The Cryomagnetics TM-620 Cryogenic Temperature Monitor is commonly used in research settings for precise temperature monitoring, including superconductivity studies and material science.\n",
    "\n",
    "## Setup\n",
    "\n",
    "First, ensure you have the required drivers and QCoDeS installed. The connection to the instrument is assumed to be via GPIB. Let's establish the connection and set up the initial parameters for reading temperatures.\n",
    "\n",
    "Please note that you will need to update the address according to your connection type (e.g., USB, Ethernet, etc.)"
   ]
  },
  {
   "cell_type": "code",
   "execution_count": null,
   "metadata": {},
   "outputs": [],
   "source": [
    "from qcodes.instrument_drivers.cryomagnetics import CryomagneticsModelTM620\n",
    "\n",
    "tm620 = CryomagneticsModelTM620(\n",
    "    name=\"cryomag_tm620\",\n",
    "    address=\"GPIB::1::INSTR\",\n",
    "    pyvisa_sim_file=\"cryo_tm620.yaml\",\n",
    ")"
   ]
  },
  {
   "cell_type": "markdown",
   "metadata": {},
   "source": [
    "## Basic Operations\n",
    "\n",
    "The following sections demonstrate how to perform basic operations with the Cryomagnetics TM-620 instrument. We will cover checking the temperatures of both the shield and magnet parameters."
   ]
  },
  {
   "cell_type": "code",
   "execution_count": null,
   "metadata": {},
   "outputs": [],
   "source": [
    "# Reading the shield temperature\n",
    "shield_temp = tm620.shield()\n",
    "print(f\"55K Shield Temperature = {shield_temp}K\")\n",
    "\n",
    "# Reading the magnet temperature\n",
    "magnet_temp = tm620.magnet()\n",
    "print(f\"4K Magnet Temperature = {magnet_temp}K\")"
   ]
  },
  {
   "cell_type": "code",
   "execution_count": null,
   "metadata": {},
   "outputs": [],
   "source": [
    "import time\n",
    "\n",
    "import matplotlib.pyplot as plt\n",
    "\n",
    "\n",
    "# Function to plot shield and magnet temperatures over time.\n",
    "def plot_temperature_over_time(cryo_instr, duration, measurement_interval=0.5):\n",
    "    times = []\n",
    "    shield_temps = []\n",
    "    magnet_temps = []\n",
    "    start_time = time.time()\n",
    "    while (time.time() - start_time) < duration:\n",
    "        shield_temps.append(cryo_instr.shield())\n",
    "        magnet_temps.append(cryo_instr.magnet())\n",
    "        times.append(time.time() - start_time)\n",
    "        time.sleep(measurement_interval)\n",
    "    plt.plot(times, shield_temps, marker=\"o\", label=\"55K Shield Temp\")\n",
    "    plt.plot(times, magnet_temps, marker=\"x\", label=\"4K Magnet Temp\")\n",
    "    plt.xlabel(\"Time (s)\")\n",
    "    plt.ylabel(\"Temperature (K)\")\n",
    "    plt.title(\"Time vs Temperature (K)\")\n",
    "    plt.legend()\n",
    "    plt.show()\n",
    "\n",
    "\n",
    "# Example usage:\n",
    "plot_temperature_over_time(\n",
    "    tm620, 60\n",
    ")  # plot for 60 seconds while setting the field to 1 T"
   ]
  },
  {
   "cell_type": "markdown",
   "metadata": {},
   "source": [
    "### Notes\n",
    "\n",
    "For further information, consult the official documentation and user manuals provided by the manufacturer. Always prioritize safe operating practices and maintain the instrument according to the recommended guidelines."
   ]
  }
 ],
 "metadata": {
  "kernelspec": {
   "display_name": "qcodes",
   "language": "python",
   "name": "python3"
  },
  "language_info": {
   "codemirror_mode": {
    "name": "ipython",
    "version": 3
   },
   "file_extension": ".py",
   "mimetype": "text/x-python",
   "name": "python",
   "nbconvert_exporter": "python",
   "pygments_lexer": "ipython3",
   "version": "3.13.5"
  }
 },
 "nbformat": 4,
 "nbformat_minor": 4
}
