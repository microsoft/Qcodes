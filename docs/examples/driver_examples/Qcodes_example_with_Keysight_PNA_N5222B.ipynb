{
 "cells": [
  {
   "cell_type": "markdown",
   "metadata": {},
   "source": [
    "# Example Notebook for Keysight Network Analyzers\n",
    "\n",
    "This notebook is indendet to give an overview over the functions implemented in the QCoDeS driver for the Keysight network analyzers. The driver is implemented to be generic as possible, with individual instrument drivers filling in only the hardware limits of the instrument, so although this example uses the N5245A, the concepts and code should work for any keysight network analyzer."
   ]
  },
  {
   "cell_type": "code",
   "execution_count": 1,
   "metadata": {},
   "outputs": [],
   "source": [
    "%matplotlib inline"
   ]
  },
  {
   "cell_type": "code",
   "execution_count": 23,
   "metadata": {},
   "outputs": [],
   "source": [
    "# Import Dependencies\n",
    "\n",
    "import numpy as np \n",
    "import logging\n",
    "import matplotlib.pyplot as plt\n",
    "\n",
    "# qcodes imports\n",
    "import qcodes as qc\n",
    "from qcodes.dataset.data_set import new_data_set\n",
    "from qcodes.dataset.experiment_container import new_experiment, load_experiment_by_name\n",
    "from qcodes.dataset.measurements import Measurement\n",
    "from qcodes.dataset.plotting import plot_by_id\n",
    "from qcodes.instrument_drivers.Keysight.N5222B import N5222B"
   ]
  },
  {
   "cell_type": "code",
   "execution_count": 3,
   "metadata": {},
   "outputs": [
    {
     "name": "stdout",
     "output_type": "stream",
     "text": [
      "Experiment loaded. Last ID no: 4\n"
     ]
    }
   ],
   "source": [
    "qc.initialise_database()\n",
    "\n",
    "# Start experiment\n",
    "exp_name = 'PNA_Example_N5222B'\n",
    "sample_name = 'sample_bar_code'\n",
    "try:\n",
    "    exp = load_experiment_by_name(exp_name, sample=sample_name)\n",
    "    print('Experiment loaded. Last ID no:', exp.last_counter)\n",
    "except ValueError:\n",
    "    exp = new_experiment(exp_name, sample_name)\n",
    "    print('Starting new experiment.')"
   ]
  },
  {
   "cell_type": "markdown",
   "metadata": {},
   "source": [
    "## Connect to the instrument\n",
    "\n",
    "You will have to insert the correct VISA address for your PNA below. On my PC, the PNA has IP address `192.168.0.10`. You can generally use NI MAX or Agilent IO Toolkit to figure out what the VISA address of your instrument is, particularly for USB or GPIB connections."
   ]
  },
  {
   "cell_type": "code",
   "execution_count": 4,
   "metadata": {},
   "outputs": [
    {
     "name": "stdout",
     "output_type": "stream",
     "text": [
      "Connected to: Keysight Technologies N5222B (serial:MY57041028, firmware:A.13.25.04) in 0.16s\n"
     ]
    }
   ],
   "source": [
    "pna = N5222B('pna', 'GPIB0::16::INSTR')"
   ]
  },
  {
   "cell_type": "markdown",
   "metadata": {},
   "source": [
    "## Managing traces \n",
    "\n",
    "A weakness of the old driver is that it cannot define new traces on the instrument, nor make a trace on a particular channel. "
   ]
  },
  {
   "cell_type": "code",
   "execution_count": 56,
   "metadata": {},
   "outputs": [],
   "source": [
    "pna.delete_all_traces()"
   ]
  },
  {
   "cell_type": "code",
   "execution_count": 34,
   "metadata": {},
   "outputs": [
    {
     "data": {
      "text/plain": [
       "{}"
      ]
     },
     "execution_count": 34,
     "metadata": {},
     "output_type": "execute_result"
    }
   ],
   "source": [
    "pna.channel[0].trace  # We will see that channel 1 has no traces "
   ]
  },
  {
   "cell_type": "code",
   "execution_count": 35,
   "metadata": {},
   "outputs": [],
   "source": [
    "trace = pna.channel[0].add_trace(\"T_S11\", \"S11\")  # Let's make a S11 trace on channel 1. The name of this trace is T_S11"
   ]
  },
  {
   "cell_type": "code",
   "execution_count": 36,
   "metadata": {},
   "outputs": [
    {
     "name": "stdout",
     "output_type": "stream",
     "text": [
      "T_S11, S11\n"
     ]
    }
   ],
   "source": [
    "print(trace)"
   ]
  },
  {
   "cell_type": "code",
   "execution_count": 32,
   "metadata": {},
   "outputs": [
    {
     "data": {
      "text/plain": [
       "{'T_S11': T_S11, S11}"
      ]
     },
     "execution_count": 32,
     "metadata": {},
     "output_type": "execute_result"
    }
   ],
   "source": [
    "pna.channel[0].trace  # List the traces on channel 1 "
   ]
  },
  {
   "cell_type": "code",
   "execution_count": 40,
   "metadata": {},
   "outputs": [
    {
     "data": {
      "text/plain": [
       "{}"
      ]
     },
     "execution_count": 40,
     "metadata": {},
     "output_type": "execute_result"
    }
   ],
   "source": [
    "pna.channel[1].trace  # List the traces on channel 2. We see that there are none "
   ]
  },
  {
   "cell_type": "code",
   "execution_count": 42,
   "metadata": {},
   "outputs": [
    {
     "data": {
      "text/plain": [
       "True"
      ]
     },
     "execution_count": 42,
     "metadata": {},
     "output_type": "execute_result"
    }
   ],
   "source": [
    "pna.channel[0].trace[\"T_S11\"] is trace  # Traces can be accessed by name "
   ]
  },
  {
   "cell_type": "code",
   "execution_count": 44,
   "metadata": {},
   "outputs": [
    {
     "name": "stdout",
     "output_type": "stream",
     "text": [
      "{}\n"
     ]
    }
   ],
   "source": [
    "# We can delete a trace \n",
    "pna.channel[0].trace[\"T_S11\"].delete()\n",
    "print(pna.channel[0].trace)"
   ]
  },
  {
   "cell_type": "code",
   "execution_count": 51,
   "metadata": {},
   "outputs": [],
   "source": [
    "# Alternatively, we can delete a trace like so\n",
    "if \"T_S11\" in pna.channel[0].trace: \n",
    "    pna.channel[0].delete_trace(\"T_S11\")"
   ]
  },
  {
   "cell_type": "markdown",
   "metadata": {},
   "source": [
    "## Measuring\n",
    "\n",
    "Below we see how we can perform a measurement"
   ]
  },
  {
   "cell_type": "code",
   "execution_count": 57,
   "metadata": {},
   "outputs": [
    {
     "name": "stdout",
     "output_type": "stream",
     "text": [
      "Starting experimental run with id: 24\n"
     ]
    },
    {
     "ename": "ValueError",
     "evalue": "Incompatible array dimensions. Trying to add arrays of dimension 1001 and 201",
     "output_type": "error",
     "traceback": [
      "\u001b[1;31m---------------------------------------------------------------------------\u001b[0m",
      "\u001b[1;31mValueError\u001b[0m                                Traceback (most recent call last)",
      "\u001b[1;32m<ipython-input-57-f0faf4303e7b>\u001b[0m in \u001b[0;36m<module>\u001b[1;34m()\u001b[0m\n\u001b[0;32m     23\u001b[0m \u001b[1;33m\u001b[0m\u001b[0m\n\u001b[0;32m     24\u001b[0m     \u001b[1;31m#datasaver.add_result((\"frequency\", freq), (\"log_magnitude_s11\", trace_s11.log_magnitude()))\u001b[0m\u001b[1;33m\u001b[0m\u001b[1;33m\u001b[0m\u001b[0m\n\u001b[1;32m---> 25\u001b[1;33m     \u001b[0mdatasaver\u001b[0m\u001b[1;33m.\u001b[0m\u001b[0madd_result\u001b[0m\u001b[1;33m(\u001b[0m\u001b[1;33m(\u001b[0m\u001b[1;34m\"frequency\"\u001b[0m\u001b[1;33m,\u001b[0m \u001b[0mfreq\u001b[0m\u001b[1;33m)\u001b[0m\u001b[1;33m,\u001b[0m \u001b[1;33m(\u001b[0m\u001b[1;34m\"log_magnitude_s21\"\u001b[0m\u001b[1;33m,\u001b[0m \u001b[0mtrace_s21\u001b[0m\u001b[1;33m.\u001b[0m\u001b[0mlog_magnitude\u001b[0m\u001b[1;33m(\u001b[0m\u001b[1;33m)\u001b[0m\u001b[1;33m)\u001b[0m\u001b[1;33m)\u001b[0m\u001b[1;33m\u001b[0m\u001b[0m\n\u001b[0m\u001b[0;32m     26\u001b[0m \u001b[1;33m\u001b[0m\u001b[0m\n\u001b[0;32m     27\u001b[0m \u001b[0mplot_by_id\u001b[0m\u001b[1;33m(\u001b[0m\u001b[0mdatasaver\u001b[0m\u001b[1;33m.\u001b[0m\u001b[0mrun_id\u001b[0m\u001b[1;33m)\u001b[0m\u001b[1;33m\u001b[0m\u001b[0m\n",
      "\u001b[1;32mc:\\users\\sochatoo\\development\\qcodes\\qcodes\\dataset\\measurements.py\u001b[0m in \u001b[0;36madd_result\u001b[1;34m(self, *res_tuple)\u001b[0m\n\u001b[0;32m    131\u001b[0m                     \u001b[0minserting_unrolled_array\u001b[0m \u001b[1;33m=\u001b[0m \u001b[1;32mTrue\u001b[0m\u001b[1;33m\u001b[0m\u001b[0m\n\u001b[0;32m    132\u001b[0m                 \u001b[1;32mif\u001b[0m \u001b[0minput_size\u001b[0m \u001b[1;33m>\u001b[0m \u001b[1;36m1\u001b[0m \u001b[1;32mand\u001b[0m \u001b[0minput_size\u001b[0m \u001b[1;33m!=\u001b[0m \u001b[0marray_size\u001b[0m\u001b[1;33m:\u001b[0m\u001b[1;33m\u001b[0m\u001b[0m\n\u001b[1;32m--> 133\u001b[1;33m                     raise ValueError('Incompatible array dimensions. Trying to'\n\u001b[0m\u001b[0;32m    134\u001b[0m                                      \u001b[1;34mf' add arrays of dimension {input_size} '\u001b[0m\u001b[1;33m\u001b[0m\u001b[0m\n\u001b[0;32m    135\u001b[0m                                      f'and {array_size}')\n",
      "\u001b[1;31mValueError\u001b[0m: Incompatible array dimensions. Trying to add arrays of dimension 1001 and 201"
     ]
    }
   ],
   "source": [
    "trace_s11 = pna.channel[0].add_trace(\"T_S11\", \"S11\")  # We need a trace in the rest of the notebook so lets add one again \n",
    "trace_s21 = pna.channel[1].add_trace(\"T_S21\", \"S21\")\n",
    "\n",
    "# Run a measurement\n",
    "fstart = 100e6  # Hz\n",
    "fstop = 1e9 # Hz \n",
    "points = 1001\n",
    "\n",
    "freq = np.linspace(fstart, fstop, points)\n",
    "\n",
    "pna.power(-40)\n",
    "pna.start(fstart)\n",
    "pna.stop(fstop)\n",
    "pna.points(points)\n",
    "\n",
    "meas = Measurement()\n",
    "meas.register_custom_parameter(name=\"frequency\", label=\"freq\", unit=\"Hz\")\n",
    "meas.register_custom_parameter(name=\"log_magnitude_s11\", label=\"log mag S11\", unit=\"dB\", setpoints=[\"frequency\"])\n",
    "meas.register_custom_parameter(name=\"log_magnitude_s21\", label=\"log mag S21\", unit=\"dB\", setpoints=[\"frequency\"])\n",
    "\n",
    "with meas.run() as datasaver:\n",
    "    pna.run_sweep(averages=2)\n",
    "    \n",
    "    #datasaver.add_result((\"frequency\", freq), (\"log_magnitude_s11\", trace_s11.log_magnitude()))\n",
    "    datasaver.add_result((\"frequency\", freq), (\"log_magnitude_s21\", trace_s21.log_magnitude()))\n",
    "    \n",
    "plot_by_id(datasaver.run_id)"
   ]
  },
  {
   "cell_type": "markdown",
   "metadata": {},
   "source": [
    "We have plotted the log magnitude of the trace. However, we have the following formats available to us: "
   ]
  },
  {
   "cell_type": "code",
   "execution_count": 48,
   "metadata": {},
   "outputs": [
    {
     "name": "stdout",
     "output_type": "stream",
     "text": [
      "dict_keys(['log_magnitude', 'linear_magnitude', 'phase', 'unwrapped_phase', 'group_delay', 'real', 'imaginary'])\n"
     ]
    }
   ],
   "source": [
    "print(trace.data_formats.keys())"
   ]
  },
  {
   "cell_type": "code",
   "execution_count": 53,
   "metadata": {},
   "outputs": [],
   "source": [
    "data =  trace_s21.log_magnitude()"
   ]
  },
  {
   "cell_type": "code",
   "execution_count": 55,
   "metadata": {},
   "outputs": [
    {
     "data": {
      "text/plain": [
       "[<matplotlib.lines.Line2D at 0x27151060a58>]"
      ]
     },
     "execution_count": 55,
     "metadata": {},
     "output_type": "execute_result"
    },
    {
     "data": {
      "image/png": "[encoded data removed]",
      "text/plain": [
       "<matplotlib.figure.Figure at 0x27150f46cc0>"
      ]
     },
     "metadata": {},
     "output_type": "display_data"
    }
   ],
   "source": [
    "plt.plot(data)"
   ]
  },
  {
   "cell_type": "code",
   "execution_count": null,
   "metadata": {},
   "outputs": [],
   "source": []
  }
 ],
 "metadata": {
  "kernelspec": {
   "display_name": "Python 3",
   "language": "python",
   "name": "python3"
  },
  "language_info": {
   "codemirror_mode": {
    "name": "ipython",
    "version": 3
   },
   "file_extension": ".py",
   "mimetype": "text/x-python",
   "name": "python",
   "nbconvert_exporter": "python",
   "pygments_lexer": "ipython3",
   "version": "3.6.6"
  }
 },
 "nbformat": 4,
 "nbformat_minor": 2
}
