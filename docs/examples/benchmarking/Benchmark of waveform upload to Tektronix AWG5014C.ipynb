{
 "cells": [
  {
   "cell_type": "markdown",
   "metadata": {},
   "source": [
    "# Benchmark of waveform upload to Tektronix AWG5014C"
   ]
  },
  {
   "cell_type": "code",
   "execution_count": 1,
   "metadata": {
    "collapsed": true
   },
   "outputs": [],
   "source": [
    "%matplotlib nbagg\n",
    "import matplotlib.pyplot as plt\n",
    "import time"
   ]
  },
  {
   "cell_type": "code",
   "execution_count": 2,
   "metadata": {
    "collapsed": false
   },
   "outputs": [
    {
     "name": "stdout",
     "output_type": "stream",
     "text": [
      "Connected to: TEKTRONIX AWG5014C (serial:B051039, firmware:SCPI:99.0 FW:4.6.0.7) in 0.40s\n"
     ]
    }
   ],
   "source": [
    "import qcodes as qc\n",
    "import numpy as np\n",
    "import logging\n",
    "\n",
    "station = qc.Station()\n",
    "logging.basicConfig(level='DEBUG')\n",
    "\n",
    "# AWG\n",
    "import qcodes.instrument_drivers.tektronix.AWG5014 as awg\n",
    "awg1 = awg.Tektronix_AWG5014('AWG1','./AWGSeq','TCPIP0::172.20.3.248::inst0::INSTR')\n",
    "station.add_component(awg1)\n",
    "awg1.clock_freq.set(1e9)"
   ]
  },
  {
   "cell_type": "code",
   "execution_count": 3,
   "metadata": {
    "collapsed": true
   },
   "outputs": [],
   "source": [
    "# a hackish (temporary) solution to some re-occuring problems\n",
    "def clearqueue(inst):\n",
    "    \"\"\"\n",
    "    Function to clear up the message queue of a visa instrument.\n",
    "    Quite slow, as it waits for a timeout\n",
    "\n",
    "    Args:\n",
    "        inst (Obj): an instance of visa.ResourceManager.open_resource()\n",
    "\n",
    "    Returns:\n",
    "        None\n",
    "    \"\"\"\n",
    "    gotexception = False\n",
    "    while not gotexception:\n",
    "        try:\n",
    "            inst.read()\n",
    "        except:\n",
    "            gotexception = True\n",
    "\n",
    "clearqueue(awg1)"
   ]
  },
  {
   "cell_type": "markdown",
   "metadata": {},
   "source": [
    "Basic property setting/getting."
   ]
  },
  {
   "cell_type": "code",
   "execution_count": 4,
   "metadata": {
    "collapsed": false
   },
   "outputs": [
    {
     "data": {
      "text/plain": [
       "0.025"
      ]
     },
     "execution_count": 4,
     "metadata": {},
     "output_type": "execute_result"
    }
   ],
   "source": [
    "ch2_offset = 0.025\n",
    "awg1.ch2_offset.set(ch2_offset)\n",
    "awg1.ch2_offset.get()"
   ]
  },
  {
   "cell_type": "markdown",
   "metadata": {
    "collapsed": false
   },
   "source": [
    "## Waveform generation and uploading"
   ]
  },
  {
   "cell_type": "markdown",
   "metadata": {},
   "source": [
    "Generate some signals to be sent to the instrument"
   ]
  },
  {
   "cell_type": "code",
   "execution_count": 35,
   "metadata": {
    "collapsed": false
   },
   "outputs": [],
   "source": [
    "import numpy as np\n",
    "N = 10000\n",
    "wf = np.zeros(N)\n",
    "wf[int(N/4):int(N/2)] = np.sin(np.linspace(0, 2*np.pi, int(N/4)))\n",
    "m1 = np.zeros(N)\n",
    "m1[int(N/8):int(4*N/8)] = 1\n",
    "m2 = np.zeros(N)"
   ]
  },
  {
   "cell_type": "code",
   "execution_count": 36,
   "metadata": {
    "collapsed": true
   },
   "outputs": [],
   "source": [
    "# function to make distinguishable waveforms\n",
    "\n",
    "\n",
    "def makesinewf(N, m):\n",
    "    wf = np.zeros(N)\n",
    "    wf[int(N/8):-int(N/8)] = np.sin((m % 12)*np.linspace(0, 2*np.pi, int(3*N/4)))\n",
    "    return wf"
   ]
  },
  {
   "cell_type": "code",
   "execution_count": 37,
   "metadata": {
    "collapsed": false
   },
   "outputs": [
    {
     "data": {
      "application/javascript": [
       "/* Put everything inside the global mpl namespace */\n",
       "window.mpl = {};\n",
       "\n",
       "mpl.get_websocket_type = function() {\n",
       "    if (typeof(WebSocket) !== 'undefined') {\n",
       "        return WebSocket;\n",
       "    } else if (typeof(MozWebSocket) !== 'undefined') {\n",
       "        return MozWebSocket;\n",
       "    } else {\n",
       "        alert('Your browser does not have WebSocket support.' +\n",
       "              'Please try Chrome, Safari or Firefox ≥ 6. ' +\n",
       "              'Firefox 4 and 5 are also supported but you ' +\n",
       "              'have to enable WebSockets in about:config.');\n",
       "    };\n",
       "}\n",
       "\n",
       "mpl.figure = function(figure_id, websocket, ondownload, parent_element) {\n",
       "    this.id = figure_id;\n",
       "\n",
       "    this.ws = websocket;\n",
       "\n",
       "    this.supports_binary = (this.ws.binaryType != undefined);\n",
       "\n",
       "    if (!this.supports_binary) {\n",
       "        var warnings = document.getElementById(\"mpl-warnings\");\n",
       "        if (warnings) {\n",
       "            warnings.style.display = 'block';\n",
       "            warnings.textContent = (\n",
       "                \"This browser does not support binary websocket messages. \" +\n",
       "                    \"Performance may be slow.\");\n",
       "        }\n",
       "    }\n",
       "\n",
       "    this.imageObj = new Image();\n",
       "\n",
       "    this.context = undefined;\n",
       "    this.message = undefined;\n",
       "    this.canvas = undefined;\n",
       "    this.rubberband_canvas = undefined;\n",
       "    this.rubberband_context = undefined;\n",
       "    this.format_dropdown = undefined;\n",
       "\n",
       "    this.image_mode = 'full';\n",
       "\n",
       "    this.root = $('<div/>');\n",
       "    this._root_extra_style(this.root)\n",
       "    this.root.attr('style', 'display: inline-block');\n",
       "\n",
       "    $(parent_element).append(this.root);\n",
       "\n",
       "    this._init_header(this);\n",
       "    this._init_canvas(this);\n",
       "    this._init_toolbar(this);\n",
       "\n",
       "    var fig = this;\n",
       "\n",
       "    this.waiting = false;\n",
       "\n",
       "    this.ws.onopen =  function () {\n",
       "            fig.send_message(\"supports_binary\", {value: fig.supports_binary});\n",
       "            fig.send_message(\"send_image_mode\", {});\n",
       "            fig.send_message(\"refresh\", {});\n",
       "        }\n",
       "\n",
       "    this.imageObj.onload = function() {\n",
       "            if (fig.image_mode == 'full') {\n",
       "                // Full images could contain transparency (where diff images\n",
       "                // almost always do), so we need to clear the canvas so that\n",
       "                // there is no ghosting.\n",
       "                fig.context.clearRect(0, 0, fig.canvas.width, fig.canvas.height);\n",
       "            }\n",
       "            fig.context.drawImage(fig.imageObj, 0, 0);\n",
       "        };\n",
       "\n",
       "    this.imageObj.onunload = function() {\n",
       "        this.ws.close();\n",
       "    }\n",
       "\n",
       "    this.ws.onmessage = this._make_on_message_function(this);\n",
       "\n",
       "    this.ondownload = ondownload;\n",
       "}\n",
       "\n",
       "mpl.figure.prototype._init_header = function() {\n",
       "    var titlebar = $(\n",
       "        '<div class=\"ui-dialog-titlebar ui-widget-header ui-corner-all ' +\n",
       "        'ui-helper-clearfix\"/>');\n",
       "    var titletext = $(\n",
       "        '<div class=\"ui-dialog-title\" style=\"width: 100%; ' +\n",
       "        'text-align: center; padding: 3px;\"/>');\n",
       "    titlebar.append(titletext)\n",
       "    this.root.append(titlebar);\n",
       "    this.header = titletext[0];\n",
       "}\n",
       "\n",
       "\n",
       "\n",
       "mpl.figure.prototype._canvas_extra_style = function(canvas_div) {\n",
       "\n",
       "}\n",
       "\n",
       "\n",
       "mpl.figure.prototype._root_extra_style = function(canvas_div) {\n",
       "\n",
       "}\n",
       "\n",
       "mpl.figure.prototype._init_canvas = function() {\n",
       "    var fig = this;\n",
       "\n",
       "    var canvas_div = $('<div/>');\n",
       "\n",
       "    canvas_div.attr('style', 'position: relative; clear: both; outline: 0');\n",
       "\n",
       "    function canvas_keyboard_event(event) {\n",
       "        return fig.key_event(event, event['data']);\n",
       "    }\n",
       "\n",
       "    canvas_div.keydown('key_press', canvas_keyboard_event);\n",
       "    canvas_div.keyup('key_release', canvas_keyboard_event);\n",
       "    this.canvas_div = canvas_div\n",
       "    this._canvas_extra_style(canvas_div)\n",
       "    this.root.append(canvas_div);\n",
       "\n",
       "    var canvas = $('<canvas/>');\n",
       "    canvas.addClass('mpl-canvas');\n",
       "    canvas.attr('style', \"left: 0; top: 0; z-index: 0; outline: 0\")\n",
       "\n",
       "    this.canvas = canvas[0];\n",
       "    this.context = canvas[0].getContext(\"2d\");\n",
       "\n",
       "    var rubberband = $('<canvas/>');\n",
       "    rubberband.attr('style', \"position: absolute; left: 0; top: 0; z-index: 1;\")\n",
       "\n",
       "    var pass_mouse_events = true;\n",
       "\n",
       "    canvas_div.resizable({\n",
       "        start: function(event, ui) {\n",
       "            pass_mouse_events = false;\n",
       "        },\n",
       "        resize: function(event, ui) {\n",
       "            fig.request_resize(ui.size.width, ui.size.height);\n",
       "        },\n",
       "        stop: function(event, ui) {\n",
       "            pass_mouse_events = true;\n",
       "            fig.request_resize(ui.size.width, ui.size.height);\n",
       "        },\n",
       "    });\n",
       "\n",
       "    function mouse_event_fn(event) {\n",
       "        if (pass_mouse_events)\n",
       "            return fig.mouse_event(event, event['data']);\n",
       "    }\n",
       "\n",
       "    rubberband.mousedown('button_press', mouse_event_fn);\n",
       "    rubberband.mouseup('button_release', mouse_event_fn);\n",
       "    // Throttle sequential mouse events to 1 every 20ms.\n",
       "    rubberband.mousemove('motion_notify', mouse_event_fn);\n",
       "\n",
       "    rubberband.mouseenter('figure_enter', mouse_event_fn);\n",
       "    rubberband.mouseleave('figure_leave', mouse_event_fn);\n",
       "\n",
       "    canvas_div.on(\"wheel\", function (event) {\n",
       "        event = event.originalEvent;\n",
       "        event['data'] = 'scroll'\n",
       "        if (event.deltaY < 0) {\n",
       "            event.step = 1;\n",
       "        } else {\n",
       "            event.step = -1;\n",
       "        }\n",
       "        mouse_event_fn(event);\n",
       "    });\n",
       "\n",
       "    canvas_div.append(canvas);\n",
       "    canvas_div.append(rubberband);\n",
       "\n",
       "    this.rubberband = rubberband;\n",
       "    this.rubberband_canvas = rubberband[0];\n",
       "    this.rubberband_context = rubberband[0].getContext(\"2d\");\n",
       "    this.rubberband_context.strokeStyle = \"#000000\";\n",
       "\n",
       "    this._resize_canvas = function(width, height) {\n",
       "        // Keep the size of the canvas, canvas container, and rubber band\n",
       "        // canvas in synch.\n",
       "        canvas_div.css('width', width)\n",
       "        canvas_div.css('height', height)\n",
       "\n",
       "        canvas.attr('width', width);\n",
       "        canvas.attr('height', height);\n",
       "\n",
       "        rubberband.attr('width', width);\n",
       "        rubberband.attr('height', height);\n",
       "    }\n",
       "\n",
       "    // Set the figure to an initial 600x600px, this will subsequently be updated\n",
       "    // upon first draw.\n",
       "    this._resize_canvas(600, 600);\n",
       "\n",
       "    // Disable right mouse context menu.\n",
       "    $(this.rubberband_canvas).bind(\"contextmenu\",function(e){\n",
       "        return false;\n",
       "    });\n",
       "\n",
       "    function set_focus () {\n",
       "        canvas.focus();\n",
       "        canvas_div.focus();\n",
       "    }\n",
       "\n",
       "    window.setTimeout(set_focus, 100);\n",
       "}\n",
       "\n",
       "mpl.figure.prototype._init_toolbar = function() {\n",
       "    var fig = this;\n",
       "\n",
       "    var nav_element = $('<div/>')\n",
       "    nav_element.attr('style', 'width: 100%');\n",
       "    this.root.append(nav_element);\n",
       "\n",
       "    // Define a callback function for later on.\n",
       "    function toolbar_event(event) {\n",
       "        return fig.toolbar_button_onclick(event['data']);\n",
       "    }\n",
       "    function toolbar_mouse_event(event) {\n",
       "        return fig.toolbar_button_onmouseover(event['data']);\n",
       "    }\n",
       "\n",
       "    for(var toolbar_ind in mpl.toolbar_items) {\n",
       "        var name = mpl.toolbar_items[toolbar_ind][0];\n",
       "        var tooltip = mpl.toolbar_items[toolbar_ind][1];\n",
       "        var image = mpl.toolbar_items[toolbar_ind][2];\n",
       "        var method_name = mpl.toolbar_items[toolbar_ind][3];\n",
       "\n",
       "        if (!name) {\n",
       "            // put a spacer in here.\n",
       "            continue;\n",
       "        }\n",
       "        var button = $('<button/>');\n",
       "        button.addClass('ui-button ui-widget ui-state-default ui-corner-all ' +\n",
       "                        'ui-button-icon-only');\n",
       "        button.attr('role', 'button');\n",
       "        button.attr('aria-disabled', 'false');\n",
       "        button.click(method_name, toolbar_event);\n",
       "        button.mouseover(tooltip, toolbar_mouse_event);\n",
       "\n",
       "        var icon_img = $('<span/>');\n",
       "        icon_img.addClass('ui-button-icon-primary ui-icon');\n",
       "        icon_img.addClass(image);\n",
       "        icon_img.addClass('ui-corner-all');\n",
       "\n",
       "        var tooltip_span = $('<span/>');\n",
       "        tooltip_span.addClass('ui-button-text');\n",
       "        tooltip_span.html(tooltip);\n",
       "\n",
       "        button.append(icon_img);\n",
       "        button.append(tooltip_span);\n",
       "\n",
       "        nav_element.append(button);\n",
       "    }\n",
       "\n",
       "    var fmt_picker_span = $('<span/>');\n",
       "\n",
       "    var fmt_picker = $('<select/>');\n",
       "    fmt_picker.addClass('mpl-toolbar-option ui-widget ui-widget-content');\n",
       "    fmt_picker_span.append(fmt_picker);\n",
       "    nav_element.append(fmt_picker_span);\n",
       "    this.format_dropdown = fmt_picker[0];\n",
       "\n",
       "    for (var ind in mpl.extensions) {\n",
       "        var fmt = mpl.extensions[ind];\n",
       "        var option = $(\n",
       "            '<option/>', {selected: fmt === mpl.default_extension}).html(fmt);\n",
       "        fmt_picker.append(option)\n",
       "    }\n",
       "\n",
       "    // Add hover states to the ui-buttons\n",
       "    $( \".ui-button\" ).hover(\n",
       "        function() { $(this).addClass(\"ui-state-hover\");},\n",
       "        function() { $(this).removeClass(\"ui-state-hover\");}\n",
       "    );\n",
       "\n",
       "    var status_bar = $('<span class=\"mpl-message\"/>');\n",
       "    nav_element.append(status_bar);\n",
       "    this.message = status_bar[0];\n",
       "}\n",
       "\n",
       "mpl.figure.prototype.request_resize = function(x_pixels, y_pixels) {\n",
       "    // Request matplotlib to resize the figure. Matplotlib will then trigger a resize in the client,\n",
       "    // which will in turn request a refresh of the image.\n",
       "    this.send_message('resize', {'width': x_pixels, 'height': y_pixels});\n",
       "}\n",
       "\n",
       "mpl.figure.prototype.send_message = function(type, properties) {\n",
       "    properties['type'] = type;\n",
       "    properties['figure_id'] = this.id;\n",
       "    this.ws.send(JSON.stringify(properties));\n",
       "}\n",
       "\n",
       "mpl.figure.prototype.send_draw_message = function() {\n",
       "    if (!this.waiting) {\n",
       "        this.waiting = true;\n",
       "        this.ws.send(JSON.stringify({type: \"draw\", figure_id: this.id}));\n",
       "    }\n",
       "}\n",
       "\n",
       "\n",
       "mpl.figure.prototype.handle_save = function(fig, msg) {\n",
       "    var format_dropdown = fig.format_dropdown;\n",
       "    var format = format_dropdown.options[format_dropdown.selectedIndex].value;\n",
       "    fig.ondownload(fig, format);\n",
       "}\n",
       "\n",
       "\n",
       "mpl.figure.prototype.handle_resize = function(fig, msg) {\n",
       "    var size = msg['size'];\n",
       "    if (size[0] != fig.canvas.width || size[1] != fig.canvas.height) {\n",
       "        fig._resize_canvas(size[0], size[1]);\n",
       "        fig.send_message(\"refresh\", {});\n",
       "    };\n",
       "}\n",
       "\n",
       "mpl.figure.prototype.handle_rubberband = function(fig, msg) {\n",
       "    var x0 = msg['x0'];\n",
       "    var y0 = fig.canvas.height - msg['y0'];\n",
       "    var x1 = msg['x1'];\n",
       "    var y1 = fig.canvas.height - msg['y1'];\n",
       "    x0 = Math.floor(x0) + 0.5;\n",
       "    y0 = Math.floor(y0) + 0.5;\n",
       "    x1 = Math.floor(x1) + 0.5;\n",
       "    y1 = Math.floor(y1) + 0.5;\n",
       "    var min_x = Math.min(x0, x1);\n",
       "    var min_y = Math.min(y0, y1);\n",
       "    var width = Math.abs(x1 - x0);\n",
       "    var height = Math.abs(y1 - y0);\n",
       "\n",
       "    fig.rubberband_context.clearRect(\n",
       "        0, 0, fig.canvas.width, fig.canvas.height);\n",
       "\n",
       "    fig.rubberband_context.strokeRect(min_x, min_y, width, height);\n",
       "}\n",
       "\n",
       "mpl.figure.prototype.handle_figure_label = function(fig, msg) {\n",
       "    // Updates the figure title.\n",
       "    fig.header.textContent = msg['label'];\n",
       "}\n",
       "\n",
       "mpl.figure.prototype.handle_cursor = function(fig, msg) {\n",
       "    var cursor = msg['cursor'];\n",
       "    switch(cursor)\n",
       "    {\n",
       "    case 0:\n",
       "        cursor = 'pointer';\n",
       "        break;\n",
       "    case 1:\n",
       "        cursor = 'default';\n",
       "        break;\n",
       "    case 2:\n",
       "        cursor = 'crosshair';\n",
       "        break;\n",
       "    case 3:\n",
       "        cursor = 'move';\n",
       "        break;\n",
       "    }\n",
       "    fig.rubberband_canvas.style.cursor = cursor;\n",
       "}\n",
       "\n",
       "mpl.figure.prototype.handle_message = function(fig, msg) {\n",
       "    fig.message.textContent = msg['message'];\n",
       "}\n",
       "\n",
       "mpl.figure.prototype.handle_draw = function(fig, msg) {\n",
       "    // Request the server to send over a new figure.\n",
       "    fig.send_draw_message();\n",
       "}\n",
       "\n",
       "mpl.figure.prototype.handle_image_mode = function(fig, msg) {\n",
       "    fig.image_mode = msg['mode'];\n",
       "}\n",
       "\n",
       "mpl.figure.prototype.updated_canvas_event = function() {\n",
       "    // Called whenever the canvas gets updated.\n",
       "    this.send_message(\"ack\", {});\n",
       "}\n",
       "\n",
       "// A function to construct a web socket function for onmessage handling.\n",
       "// Called in the figure constructor.\n",
       "mpl.figure.prototype._make_on_message_function = function(fig) {\n",
       "    return function socket_on_message(evt) {\n",
       "        if (evt.data instanceof Blob) {\n",
       "            /* FIXME: We get \"Resource interpreted as Image but\n",
       "             * transferred with MIME type text/plain:\" errors on\n",
       "             * Chrome.  But how to set the MIME type?  It doesn't seem\n",
       "             * to be part of the websocket stream */\n",
       "            evt.data.type = \"image/png\";\n",
       "\n",
       "            /* Free the memory for the previous frames */\n",
       "            if (fig.imageObj.src) {\n",
       "                (window.URL || window.webkitURL).revokeObjectURL(\n",
       "                    fig.imageObj.src);\n",
       "            }\n",
       "\n",
       "            fig.imageObj.src = (window.URL || window.webkitURL).createObjectURL(\n",
       "                evt.data);\n",
       "            fig.updated_canvas_event();\n",
       "            fig.waiting = false;\n",
       "            return;\n",
       "        }\n",
       "        else if (typeof evt.data === 'string' && evt.data.slice(0, 21) == \"data:image/png;base64\") {\n",
       "            fig.imageObj.src = evt.data;\n",
       "            fig.updated_canvas_event();\n",
       "            fig.waiting = false;\n",
       "            return;\n",
       "        }\n",
       "\n",
       "        var msg = JSON.parse(evt.data);\n",
       "        var msg_type = msg['type'];\n",
       "\n",
       "        // Call the  \"handle_{type}\" callback, which takes\n",
       "        // the figure and JSON message as its only arguments.\n",
       "        try {\n",
       "            var callback = fig[\"handle_\" + msg_type];\n",
       "        } catch (e) {\n",
       "            console.log(\"No handler for the '\" + msg_type + \"' message type: \", msg);\n",
       "            return;\n",
       "        }\n",
       "\n",
       "        if (callback) {\n",
       "            try {\n",
       "                // console.log(\"Handling '\" + msg_type + \"' message: \", msg);\n",
       "                callback(fig, msg);\n",
       "            } catch (e) {\n",
       "                console.log(\"Exception inside the 'handler_\" + msg_type + \"' callback:\", e, e.stack, msg);\n",
       "            }\n",
       "        }\n",
       "    };\n",
       "}\n",
       "\n",
       "// from http://stackoverflow.com/questions/1114465/getting-mouse-location-in-canvas\n",
       "mpl.findpos = function(e) {\n",
       "    //this section is from http://www.quirksmode.org/js/events_properties.html\n",
       "    var targ;\n",
       "    if (!e)\n",
       "        e = window.event;\n",
       "    if (e.target)\n",
       "        targ = e.target;\n",
       "    else if (e.srcElement)\n",
       "        targ = e.srcElement;\n",
       "    if (targ.nodeType == 3) // defeat Safari bug\n",
       "        targ = targ.parentNode;\n",
       "\n",
       "    // jQuery normalizes the pageX and pageY\n",
       "    // pageX,Y are the mouse positions relative to the document\n",
       "    // offset() returns the position of the element relative to the document\n",
       "    var x = e.pageX - $(targ).offset().left;\n",
       "    var y = e.pageY - $(targ).offset().top;\n",
       "\n",
       "    return {\"x\": x, \"y\": y};\n",
       "};\n",
       "\n",
       "/*\n",
       " * return a copy of an object with only non-object keys\n",
       " * we need this to avoid circular references\n",
       " * http://stackoverflow.com/a/24161582/3208463\n",
       " */\n",
       "function simpleKeys (original) {\n",
       "  return Object.keys(original).reduce(function (obj, key) {\n",
       "    if (typeof original[key] !== 'object')\n",
       "        obj[key] = original[key]\n",
       "    return obj;\n",
       "  }, {});\n",
       "}\n",
       "\n",
       "mpl.figure.prototype.mouse_event = function(event, name) {\n",
       "    var canvas_pos = mpl.findpos(event)\n",
       "\n",
       "    if (name === 'button_press')\n",
       "    {\n",
       "        this.canvas.focus();\n",
       "        this.canvas_div.focus();\n",
       "    }\n",
       "\n",
       "    var x = canvas_pos.x;\n",
       "    var y = canvas_pos.y;\n",
       "\n",
       "    this.send_message(name, {x: x, y: y, button: event.button,\n",
       "                             step: event.step,\n",
       "                             guiEvent: simpleKeys(event)});\n",
       "\n",
       "    /* This prevents the web browser from automatically changing to\n",
       "     * the text insertion cursor when the button is pressed.  We want\n",
       "     * to control all of the cursor setting manually through the\n",
       "     * 'cursor' event from matplotlib */\n",
       "    event.preventDefault();\n",
       "    return false;\n",
       "}\n",
       "\n",
       "mpl.figure.prototype._key_event_extra = function(event, name) {\n",
       "    // Handle any extra behaviour associated with a key event\n",
       "}\n",
       "\n",
       "mpl.figure.prototype.key_event = function(event, name) {\n",
       "\n",
       "    // Prevent repeat events\n",
       "    if (name == 'key_press')\n",
       "    {\n",
       "        if (event.which === this._key)\n",
       "            return;\n",
       "        else\n",
       "            this._key = event.which;\n",
       "    }\n",
       "    if (name == 'key_release')\n",
       "        this._key = null;\n",
       "\n",
       "    var value = '';\n",
       "    if (event.ctrlKey && event.which != 17)\n",
       "        value += \"ctrl+\";\n",
       "    if (event.altKey && event.which != 18)\n",
       "        value += \"alt+\";\n",
       "    if (event.shiftKey && event.which != 16)\n",
       "        value += \"shift+\";\n",
       "\n",
       "    value += 'k';\n",
       "    value += event.which.toString();\n",
       "\n",
       "    this._key_event_extra(event, name);\n",
       "\n",
       "    this.send_message(name, {key: value,\n",
       "                             guiEvent: simpleKeys(event)});\n",
       "    return false;\n",
       "}\n",
       "\n",
       "mpl.figure.prototype.toolbar_button_onclick = function(name) {\n",
       "    if (name == 'download') {\n",
       "        this.handle_save(this, null);\n",
       "    } else {\n",
       "        this.send_message(\"toolbar_button\", {name: name});\n",
       "    }\n",
       "};\n",
       "\n",
       "mpl.figure.prototype.toolbar_button_onmouseover = function(tooltip) {\n",
       "    this.message.textContent = tooltip;\n",
       "};\n",
       "mpl.toolbar_items = [[\"Home\", \"Reset original view\", \"fa fa-home icon-home\", \"home\"], [\"Back\", \"Back to  previous view\", \"fa fa-arrow-left icon-arrow-left\", \"back\"], [\"Forward\", \"Forward to next view\", \"fa fa-arrow-right icon-arrow-right\", \"forward\"], [\"\", \"\", \"\", \"\"], [\"Pan\", \"Pan axes with left mouse, zoom with right\", \"fa fa-arrows icon-move\", \"pan\"], [\"Zoom\", \"Zoom to rectangle\", \"fa fa-square-o icon-check-empty\", \"zoom\"], [\"\", \"\", \"\", \"\"], [\"Download\", \"Download plot\", \"fa fa-floppy-o icon-save\", \"download\"]];\n",
       "\n",
       "mpl.extensions = [\"eps\", \"pdf\", \"png\", \"ps\", \"raw\", \"svg\"];\n",
       "\n",
       "mpl.default_extension = \"png\";var comm_websocket_adapter = function(comm) {\n",
       "    // Create a \"websocket\"-like object which calls the given IPython comm\n",
       "    // object with the appropriate methods. Currently this is a non binary\n",
       "    // socket, so there is still some room for performance tuning.\n",
       "    var ws = {};\n",
       "\n",
       "    ws.close = function() {\n",
       "        comm.close()\n",
       "    };\n",
       "    ws.send = function(m) {\n",
       "        //console.log('sending', m);\n",
       "        comm.send(m);\n",
       "    };\n",
       "    // Register the callback with on_msg.\n",
       "    comm.on_msg(function(msg) {\n",
       "        //console.log('receiving', msg['content']['data'], msg);\n",
       "        // Pass the mpl event to the overriden (by mpl) onmessage function.\n",
       "        ws.onmessage(msg['content']['data'])\n",
       "    });\n",
       "    return ws;\n",
       "}\n",
       "\n",
       "mpl.mpl_figure_comm = function(comm, msg) {\n",
       "    // This is the function which gets called when the mpl process\n",
       "    // starts-up an IPython Comm through the \"matplotlib\" channel.\n",
       "\n",
       "    var id = msg.content.data.id;\n",
       "    // Get hold of the div created by the display call when the Comm\n",
       "    // socket was opened in Python.\n",
       "    var element = $(\"#\" + id);\n",
       "    var ws_proxy = comm_websocket_adapter(comm)\n",
       "\n",
       "    function ondownload(figure, format) {\n",
       "        window.open(figure.imageObj.src);\n",
       "    }\n",
       "\n",
       "    var fig = new mpl.figure(id, ws_proxy,\n",
       "                           ondownload,\n",
       "                           element.get(0));\n",
       "\n",
       "    // Call onopen now - mpl needs it, as it is assuming we've passed it a real\n",
       "    // web socket which is closed, not our websocket->open comm proxy.\n",
       "    ws_proxy.onopen();\n",
       "\n",
       "    fig.parent_element = element.get(0);\n",
       "    fig.cell_info = mpl.find_output_cell(\"<div id='\" + id + \"'></div>\");\n",
       "    if (!fig.cell_info) {\n",
       "        console.error(\"Failed to find cell for figure\", id, fig);\n",
       "        return;\n",
       "    }\n",
       "\n",
       "    var output_index = fig.cell_info[2]\n",
       "    var cell = fig.cell_info[0];\n",
       "\n",
       "};\n",
       "\n",
       "mpl.figure.prototype.handle_close = function(fig, msg) {\n",
       "    fig.root.unbind('remove')\n",
       "\n",
       "    // Update the output cell to use the data from the current canvas.\n",
       "    fig.push_to_output();\n",
       "    var dataURL = fig.canvas.toDataURL();\n",
       "    // Re-enable the keyboard manager in IPython - without this line, in FF,\n",
       "    // the notebook keyboard shortcuts fail.\n",
       "    IPython.keyboard_manager.enable()\n",
       "    $(fig.parent_element).html('<img src=\"' + dataURL + '\">');\n",
       "    fig.close_ws(fig, msg);\n",
       "}\n",
       "\n",
       "mpl.figure.prototype.close_ws = function(fig, msg){\n",
       "    fig.send_message('closing', msg);\n",
       "    // fig.ws.close()\n",
       "}\n",
       "\n",
       "mpl.figure.prototype.push_to_output = function(remove_interactive) {\n",
       "    // Turn the data on the canvas into data in the output cell.\n",
       "    var dataURL = this.canvas.toDataURL();\n",
       "    this.cell_info[1]['text/html'] = '<img src=\"' + dataURL + '\">';\n",
       "}\n",
       "\n",
       "mpl.figure.prototype.updated_canvas_event = function() {\n",
       "    // Tell IPython that the notebook contents must change.\n",
       "    IPython.notebook.set_dirty(true);\n",
       "    this.send_message(\"ack\", {});\n",
       "    var fig = this;\n",
       "    // Wait a second, then push the new image to the DOM so\n",
       "    // that it is saved nicely (might be nice to debounce this).\n",
       "    setTimeout(function () { fig.push_to_output() }, 1000);\n",
       "}\n",
       "\n",
       "mpl.figure.prototype._init_toolbar = function() {\n",
       "    var fig = this;\n",
       "\n",
       "    var nav_element = $('<div/>')\n",
       "    nav_element.attr('style', 'width: 100%');\n",
       "    this.root.append(nav_element);\n",
       "\n",
       "    // Define a callback function for later on.\n",
       "    function toolbar_event(event) {\n",
       "        return fig.toolbar_button_onclick(event['data']);\n",
       "    }\n",
       "    function toolbar_mouse_event(event) {\n",
       "        return fig.toolbar_button_onmouseover(event['data']);\n",
       "    }\n",
       "\n",
       "    for(var toolbar_ind in mpl.toolbar_items){\n",
       "        var name = mpl.toolbar_items[toolbar_ind][0];\n",
       "        var tooltip = mpl.toolbar_items[toolbar_ind][1];\n",
       "        var image = mpl.toolbar_items[toolbar_ind][2];\n",
       "        var method_name = mpl.toolbar_items[toolbar_ind][3];\n",
       "\n",
       "        if (!name) { continue; };\n",
       "\n",
       "        var button = $('<button class=\"btn btn-default\" href=\"#\" title=\"' + name + '\"><i class=\"fa ' + image + ' fa-lg\"></i></button>');\n",
       "        button.click(method_name, toolbar_event);\n",
       "        button.mouseover(tooltip, toolbar_mouse_event);\n",
       "        nav_element.append(button);\n",
       "    }\n",
       "\n",
       "    // Add the status bar.\n",
       "    var status_bar = $('<span class=\"mpl-message\" style=\"text-align:right; float: right;\"/>');\n",
       "    nav_element.append(status_bar);\n",
       "    this.message = status_bar[0];\n",
       "\n",
       "    // Add the close button to the window.\n",
       "    var buttongrp = $('<div class=\"btn-group inline pull-right\"></div>');\n",
       "    var button = $('<button class=\"btn btn-mini btn-primary\" href=\"#\" title=\"Stop Interaction\"><i class=\"fa fa-power-off icon-remove icon-large\"></i></button>');\n",
       "    button.click(function (evt) { fig.handle_close(fig, {}); } );\n",
       "    button.mouseover('Stop Interaction', toolbar_mouse_event);\n",
       "    buttongrp.append(button);\n",
       "    var titlebar = this.root.find($('.ui-dialog-titlebar'));\n",
       "    titlebar.prepend(buttongrp);\n",
       "}\n",
       "\n",
       "mpl.figure.prototype._root_extra_style = function(el){\n",
       "    var fig = this\n",
       "    el.on(\"remove\", function(){\n",
       "\tfig.close_ws(fig, {});\n",
       "    });\n",
       "}\n",
       "\n",
       "mpl.figure.prototype._canvas_extra_style = function(el){\n",
       "    // this is important to make the div 'focusable\n",
       "    el.attr('tabindex', 0)\n",
       "    // reach out to IPython and tell the keyboard manager to turn it's self\n",
       "    // off when our div gets focus\n",
       "\n",
       "    // location in version 3\n",
       "    if (IPython.notebook.keyboard_manager) {\n",
       "        IPython.notebook.keyboard_manager.register_events(el);\n",
       "    }\n",
       "    else {\n",
       "        // location in version 2\n",
       "        IPython.keyboard_manager.register_events(el);\n",
       "    }\n",
       "\n",
       "}\n",
       "\n",
       "mpl.figure.prototype._key_event_extra = function(event, name) {\n",
       "    var manager = IPython.notebook.keyboard_manager;\n",
       "    if (!manager)\n",
       "        manager = IPython.keyboard_manager;\n",
       "\n",
       "    // Check for shift+enter\n",
       "    if (event.shiftKey && event.which == 13) {\n",
       "        this.canvas_div.blur();\n",
       "        // select the cell after this one\n",
       "        var index = IPython.notebook.find_cell_index(this.cell_info[0]);\n",
       "        IPython.notebook.select(index + 1);\n",
       "    }\n",
       "}\n",
       "\n",
       "mpl.figure.prototype.handle_save = function(fig, msg) {\n",
       "    fig.ondownload(fig, null);\n",
       "}\n",
       "\n",
       "\n",
       "mpl.find_output_cell = function(html_output) {\n",
       "    // Return the cell and output element which can be found *uniquely* in the notebook.\n",
       "    // Note - this is a bit hacky, but it is done because the \"notebook_saving.Notebook\"\n",
       "    // IPython event is triggered only after the cells have been serialised, which for\n",
       "    // our purposes (turning an active figure into a static one), is too late.\n",
       "    var cells = IPython.notebook.get_cells();\n",
       "    var ncells = cells.length;\n",
       "    for (var i=0; i<ncells; i++) {\n",
       "        var cell = cells[i];\n",
       "        if (cell.cell_type === 'code'){\n",
       "            for (var j=0; j<cell.output_area.outputs.length; j++) {\n",
       "                var data = cell.output_area.outputs[j];\n",
       "                if (data.data) {\n",
       "                    // IPython >= 3 moved mimebundle to data attribute of output\n",
       "                    data = data.data;\n",
       "                }\n",
       "                if (data['text/html'] == html_output) {\n",
       "                    return [cell, data, j];\n",
       "                }\n",
       "            }\n",
       "        }\n",
       "    }\n",
       "}\n",
       "\n",
       "// Register the function which deals with the matplotlib target/channel.\n",
       "// The kernel may be null if the page has been refreshed.\n",
       "if (IPython.notebook.kernel != null) {\n",
       "    IPython.notebook.kernel.comm_manager.register_target('matplotlib', mpl.mpl_figure_comm);\n",
       "}\n"
      ],
      "text/plain": [
       "<IPython.core.display.Javascript object>"
      ]
     },
     "metadata": {},
     "output_type": "display_data"
    },
    {
     "data": {
      "text/html": [
       "<img src=\"data:image/png;base64,iVBORw0KGgoAAAANSUhEUgAAAoAAAAHgCAYAAAA10dzkAAAgAElEQVR4nOzdeZxU9Z3v/08ViwsjKkmEGEyCy6BZ9Jdl4miMksVoMmquxlwfmoyJThzndzPxypiokzGyKSCioiAgIKCAIIsimyhK79B7A82+Nd1NV3dXb9Vd+3LO5/5Rzak6VdXd1X3q1LfOOe/n41GPhOrqqg90Sb04y/cQAQAAAAAAAAAAAAAAAAAAAAAAAAAAAAAAAAAAAAAAAAAAAAAAAAAAAAAAAAAAAAAAAAAAAAAAAAAAAAAAAAAAAAAAAAAAAAAAAAAAAEAO+G8i2inotd8ioqcEvXYqXyGiRiK6VPQgAAAAAEPlJqKe3luQiCK9///c/T8UNxr9f0R0lohGCJwhlVeI6A3RQwAAAABkwgwi2i16iDgriWi26CFSuI6igTxa9CAAAAAAWvUVgFOIqCju13kU3QK2joi6iaiBiB4gom8R0R6KbjksJaJr4r7HTtFduYeJyEVEFUT0k35msRNRFxH9OOH+ut55dlI0wo71PuY2ItrfO8+nRHRZwvc8mvA8cj+vP4KIFhJRc+/znSaiPyU8pp6IftPP/AAAAACG0F8AFsb9Oo+IOim2e/gJIvIQ0VYiuoKIhhPRRiL6OO57phJRNRFd3fvrX/V+z4Q+ZplIRBIRfSnh/rre27eIyEZEc4nI0ft6Y4hoFBGVENGihO8ZTAD+kYiqKHac32UU3R0dbysRzenj+wEAAAAMYzABuDTu16MpGlT/O+6++4ioI+7XLiK6PeF5PyWiv/Uxy00UDcCRCffXJXzP9b2P+0Hcff9F0YCL/57BBODDFN2y+COKxmwqq4loWR9fAwAAADCMwQTg9LhfD6NoUN0ad98dRBTq/f+X9X7dRdEth50U3b3rJqI3+5ilvy2A8TF3Ve/jvhp33+NEdLyf7yHqPwBtFI3I0t6ZtxPRdxMegy2AAAAAYAp6BeBIIvIS0S2DmMVO0fialHD/UALwABH9Oe7Xl1P/ARjvQoqe9duYcP8ZUm/xBAAAADAkvQKQKBpRe4jo2t5fX0DRXazxJ4okeoeIZiXclyoAZeo/AJf3vvbFFN1d/Q5Fo7GvAPwxEX2PoieDDCeiab2ve865s4Av7md2AAAAAENINwB3U3IAStR/ANoouhWulqK7f5spumv1un7mSbUO4Gka/BbAyyl61nAPRY/t+xX1H4AP9M7ZQ9HjGPMoGoTnvEpYBxAAAABAN7l2JZDLKboEzBjRgwAAAAAAAAAAAAAAAAAAAAAAAAAAAAAAAAAAAAAAAAAA5I5pRNRE0UVZ84nom0KnsaZZFL3SQjdFfxbvEdF4oRPBOR9S+le8AH3cRESfU3RNwS4iKhY7jmVdRtG/m1ooeinCElKvWwn6eYCi64h2U3T9TXvC168nogIi8lB03c8pWZ0ODOmvFF2P6xtEdB4RzaTom+dCkUNZ0ItE9B2KXjFhNBGtIaIaoRMBEdHDFF38uL8Fj0FfN1E0+n5L0b+j7ET0T0Insq5NFI2MMRS71nMPEV0iciiLuJ2iEfgIJQfgPxCRg4heoOglI79F0csu/t8szwgGc5qI/jPu18OIqJWif9mCODdQ9D9yXCZLnPEUvVbteMIWQJEKiehl0UMAERHtI/X1oEdR9L8NBHn23EbJAfh7im6Vjb/vCSI6kcW5wGBGU/Q/3hsT7v+EiOZmfxyI8zRF4xzE+YSI/q33/yMAxbiAiCJE9BIRlRFROxFVENF9IoeysAcpegnDcRS9tOAzFL1c4Hkih7KYVAH4KhF9nPC4m3of9w9ZmgsM5tyWjYkJ968joiXZHwd6/Yyix2PeLnoQC/s/FA3AcxCAYnyFon/2zUT0XYp+6N1LREFK/ocr6O+rRLSDoj+TEEW3Ot0kdCLrSRWAy4hobcLjru193OVZmgsMBlsAc89dFD3e6R7Rg1jYlRQ9nuaKuPsQgGKc+ztqZsL9Oyl64hRkj42IThHR2xQ9NMVO0b+nXBQ9AQGyA1sAIWNSHQPoJBwDKMJvKRp/PxM9iMX9nogCFP3voK33JlP0Z7NY4FxWdYIQgLlgDEX/O7gh4f4qip5MCNmRKgAfpuRjAP8v4RhAGMBfKHqg+zcperzNLIqePYSzgLPrPym6rMIPRQ8CdD5Fd5vE32Qi+g3hbEcRnqDoFtkbKLoV6h4i8hHR90UOZVEHKXp40EUU/VncRUR+IvqxyKEswk7RYy1/TtEAvLD31zaKbuVrIqIZFP3769tE1EA4CxjSMJWix9h4COsAiiJT9Limnt6bu/d/EYS5AcvAiPUMRT/QuomokqLhAdl3FUXXxWyl6K7fWoqdKAX6+j1FPyek3tu5/39uHcZvUfSMeS9F/8H0dwEzAgAAAAAAAAAAAMCgDXQZmESXUPRqEi6KHlu2irCoMAAAAICh9HcZmFS2E9GnRHQpRc/e2kVEm/UcEAAAAAD0keoU8ERfpegBot+Ku+/63vvG6zcaAAAAAOghnQA8t0xCogDh7DkAAAAAw0knAH9H0WVdErUQ0UMp7rdR9DJLX8ENN9xwww033Ax1+y5FP8fB5PTYAvhdImLccMMNN9xww82Qt+8SmN5tlN4xgBKpjwG8ofe+VMcAfoWIuLy8nBsbGy1x++Czd3nW8sk8a/lkfnXVf/OabQtz5vaLX/1E+Azp3lZvfZNXrvs7L57/G1742i/7vC1+49e8ZNHveMmSR6K3Rb/jxW/8uv/vmf8bXrnu77x665v4WQzxNm/1/yjv8/U7lwn/707r7Y9//KPwGXDDzyKXbuXl5ecC8CuZSQzIRf1dBiaVrRS9XuYXiOiLFD0L+MM+HvsVIuLGxka2iuLaHbx4yxRevGUKby5+W/Q4KpMnTxY9QlrC/i5u37+am/KmJN2ai2az69g29rcdZSkc6PM5pLCf/W1HuevoFm4umpXyuToOvMcRvyuLv7MYo/ws+rJ97yrlfZ5Xs1n0OJoZ/edhJvhZ5IbGxkYEoAX8nvq+DMwVFL102A/jHn8JEa2m6DqAXUT0LhGN7uO5EYA5xAh/sfpaa9lRODMp1lrL5rO3eR/LUnjQzylHQuxtruHW0jeSntdROJN9zkM6/E76Z4SfRX8QgKAX/CxyAwIQtEIA5pCdO3eKHqFPshTmrqNbkrf4Fc9hb3MNy7Kk/TVkib2OKm4ufinpdVzHt7MsRTLwO0lPLv8s0mG2ADT6z8NM8LPIDQhA0MpyAVh0YHvOBmCukkI+bqtenhRlXUc/Yink0+H1vNx5+IOk12vf9w5LYX/GX8+M1AH4oehxACDDEICgFQIQ+hX2dXJr2fzk3bKtB3V/bV/LAXYUvqje1Vz+prDjAo0EAQhgbghA0MrSAfhR8XLR4+S0sLedW/a8knCs3wIO+zqyOkPisYEte17lsK8zazMY0Y7S1QhAg/P7/dzd3Y2bhW9+f997PBCAoBUCEFIKe9u5pWSuKrzaalbosst3IFLIy23VbyMCBwEBaGx+v5/HjRsnen053ATfxo0b12cEIgBBKwQgJAn7OpPir+Pg+0M6wzdTZCnMHQfeS4rASKBb2Ey5DAFobN3d3Xzu72bRW6FwE3M7F3jd3an/jkMAglYIQFCRQt6kY/46D67P6hm4fZGlCHfUrk06JhAnhiRDABrbuQDs68MfzG+g9wACELRCAIJCjoS4rWpZii1/4uPvHFmKJG0JbKtZIXTrZC5CABobAhAQgKA3BCAwM7Msy9xx8H31sis1K3MyrORIKOmYwM7Dm1iWZdGj5QwEoLEhAAEBCHpDAAIzM7vriwy1a1UK+ZJ2Vbsb9ogeK2cgAI0NAQgIQNAbAhA40HGSm/Kmxk6uKJlriJMrwv4ubi6eE4vA/Gkc6DwteqycgAA0NrMF4Nq1a9lms3FRUZHq/tbWVrbZbDxu3Lik71mwYAHbbDY+dCj7l4LMBQhA0JsFA3AbAjBO2NfJzUWzY4s850/noKtB9FhpC3TVcVP+tLhL072EhaJZHYC7qz8QPQ4MktkCsKmpiW02G7/44ouq+zds2MCjRo1iu93Ox44dU33tgQce4C996UvZHDOnIABBbwhAC5OlCDsrl6h2o3qaKkSPNWiexlL1SSHVyzNybWIjQwAam9kCkJn56quv5jvuuEN135///Ge+5557+JprruGlS5eqvnb55Zfzvffem80RcwoCEPRm6QDcUrJC9DhCdZ/+XH1t3yObDXkihSzL3Hl4k+r30lOXL3osoT4uW4MANDAzBuCjjz7Ko0ePZkmK/ePshhtu4Jdffpn/8Ic/8L/+678q9584cYJtNhvPmzePmZnLysr417/+NY8fP54vuOACnjhxIj/33HMcCASU73n88cf58ssvT/o7LBAI8OjRo/kvf/mLcp/T6eR///d/58svv5xHjhzJ1113Hb/9dm5dGhQBCHpDAFpUoOuM6ri/1rIFLEdCoscaMikc4NbS11XHAxppV3amIQCNzYwBuHLlSrbb7VxREd3L4HK5eNiwYVxaWspvv/02f/3rX1ceu2zZMrbb7VxdXc3MzOvXr+cXXniBt27dygUFBbxw4UIeN26cKhqLi4vZbrfzrl27VK+7bt06ttvtXFtbq7zu1VdfzRMmTODly5fz559/zk899RTb7XZevHix3n8MaUMAgt4QgBYkhf3csudV1XF/IXez6LE0C/Y0qY4HbNn7GkvhwMDfaEIIQGNLNwBlKcwhT6vut0wsB1VXV8c2m41feeUVZmbesmULjxo1isPhMB8/fpxtNhvX19czM/PDDz/Ml1xySZ97JCKRCK9cuZKHDx+u+jO68sor+eGHH1Y99q677uIbbrhB+fXzzz/PF154IdfV1ake98gjj/C4ceNyZi8IAhD0hgC0oK4jm027fIq7vlj1e3Md2yZ6JCEQgMaWbgCGPK2q97tet5CnNSO/ryuuuIJ/9atfMTPzX//6V/7JT36ifG3s2LG8atUqZmaeMGEC/8u//IvyNZfLxX/5y1/4yiuv5JEjR7LNZmObzcZ2u52rqqqUx02ZMoUvuugi9vmi1yx3Op08YsQIJTqZmW+88Ub+2c9+xpFIRHVbu3Yt2+12PnLkSEZ+r1ohAEFvCECLiS75ErfY8753c+ZfvJkgyzK31axQ/R4DXXWix8o6BKCxmTUAf/vb3/IXvvAFZo6G2JQpU5Sv/frXv+bHHnuMz549yzabjV966SXla/fccw9feumlvGDBAi4sLOSqqiqeP38+2+12LikpUR537tjB1atXMzPz66+/zsOHD+fm5tgejgkTJrDdblciMv5mt9u5uLg4I79XrRCAoDcEoIVIkSC37H0ttuu38EVTLpkS9nWwo+CF2PGNpa8b+vjGoUAAGptZA3DJkiVst9t57969PGLECP7ss8+Ur82bN48nTpzIa9asUR7DzOz1ennYsGE8Z86clM8VH4DMzDfddBPfeeedzMz8gx/8IOnM4+9///t82223cXV1NVdVVSXdPB5PRn6vWiEAQW8IQAtxHd+hXvLlbLnokXTjbtyr3hV8YqfokbIKAWhsZjwGkJn56NGjbLPZ+Fe/+hWPGDGCvV6v8rXKykrla//wD//AkUj0GuQdHR1ss9n41VdfVT3XzTffnDIAFy1axCNGjOC8vDy22Wy8Zs0a1defe+45vuyyy7ijoyMjvye9IABBbwhAiwh2N6rO+o2ulWeeXb+JZFnitqplcRE41RQnuqQLAWhsZjwL+JyxY8ey3W7nH/zgB6r7JUniiy66iO12O//sZz9Tfe2f/umfeNy4cbx69Wrevn0733vvvXzNNdekDMDOzk4+77zzePz48arjAc9xuVx87bXX8nXXXcdLlizh/Px83rp1K7/88ss5te4gAhD0ZrkALNy/1XIBKMsSOysWx3b9FszgsLdd9Fi6C3vb2JE/PS563zZ19MaLD8DPqzaJHgcGycwB+Jvf/IbtdrtqXb5zfv7zn7PdbucZM2ao7q+rq+Nf/OIXPHr0aB47diw/+eSTvHXr1pQByMx87733st1u5z/84Q8pZ+jq6uInn3ySJ0yYwOeddx6PHTuWb7vtNl6wYEFmfpMZgAAEvSEALcDTVKFeJPlMgeiRsiZxsWtvc43okbICAWhsZg5ASA8CEPRm6QDcumel6HF0J4W8qmv9tpa+nrHjeYxAjoRUax42F89hKewXPZbuPi57DwFoYAhAQACC3hCAJtd1bKtqC5i//bjokbLO5zysPiHk+HbRI+kOAWhsCEBAAILeEIAmFupxqE786DjwnuiRhJBlmdv3r4pFYP40DnmcosfSFQLQ2BCAgAAEvSEATSpxQWRHwQwO+3J72QM9hb3tqhNCOg6sGfibDAwBaGwIQEAAgt4QgCblbz+u2u3Zffpz0SMJ5zrxsfoKIZ2nRY+kGwSgsSEAAQEIekMAmpAsS9xa/mbCiQ8B0WMJFz0hZpby5+KsWGzaZWEQgMaGAAQEIOgNAWhCXkd1whU/ykSPlDPcDSUJy8LsEz2SLhCAxoYABAQg6A0BaDLRZU9eSVj2JSJ6rJwhS2HV9ZBb9rxiymVxEIDGhgAEBCDozXIBWLBvi6kD0F1fpNrC5XMeEj1SzvG11qr+jNyNe0WPlHHxAfhZ1UbR48AgIQABAQh6QwCaiBT2q45xa6taatpj3LSQZVl1abzmkpdZigRFj5VRCEBjQwACAhD0ZvEAfEf0OBnVU5enPsu1q070SDkr8Sxpd32x6JEyamf5WgSggZkxAFeuXMk2m41tNhufOHEi6esFBQXK1z//PLOrFthsNv773/+e0edM19atW/mhhx7if/zHf2S73c4//vGP0/o+BCDoDQFoElLIx47CmUrQtO8zz+9ND7Isc1vVsthWwKLZpjpTGgFobGYOwIsvvpiff/75pK8/+uijfPHFF7PdbjdVAP7bv/0bf/Ob3+Tf//73/LWvfQ0BCDkDAWgSPad3q7ZoBV31okfKeYHO06o/s566fNEjZQwC0NjMHICPPPIIX3nllaqv+f1+Hj16ND/66KMZDcBgMHpoh94BeO51BnLLLbcgACFnIABNIHnr37uiRzIM1dVSCmeyFPKJHikjEIDGZtYAtNvtvHv3brbb7VxcHDvsYs2aNXzRRRfx9u3bk3YBV1RU8P3338/jx4/nCy64gCdOnMh/+9vf2O/3q57/tttu41tuuYW3bt3K3/nOd/j888/nefPmMXNyAPp8Pr7rrrv48ssv5wMHDij35+fn809/+lO+6KKLeNSoUXzHHXfwwYMH036dgSAAIZcgAE2g+/TnCVv/GkSPZBhBV33CVsA80SNlBALQ2MwcgKdOneJJkybx448/rnztzjvv5Icffpjz8/OTAnDjxo08ffp03rp1KxcWFvKiRYv4y1/+Mj/44IOq5580aRJfdtllfOWVV/KKFSu4oKCAa2trmVkdgB0dHXzTTTfxxIkTub4+tqdk27ZtPHz4cL733nt5y5YtvGXLFr755pv50ksv5bNnz6b1OgNBAEIuQQAanBTysqPwxdjWv/2rRI9kOO373jXdsYAIQGNLNwDDkTB3dLfqfgtHtK+VGR+Ay5cv5zFjxnAwGGSHw8HDhw/nzz//PGUAJopEIrx69WoeNmwYd3Z2KvdPmjSJhw0bptqid865AGxoaOBrr72Wb7zxRu7oUF8b/eqrr+bbb79ddZ/b7eYvfvGLPHny5LReZyAIQMglCECDSzzzN9htnZ9lpgS6zqjPCG4oET2SZghAY0s3ADu6W5Wfs563ju5Wzb+n+AB0u908atQo3rhxI8+dO5evuOIKZuaUAdjT08NPP/00X3XVVTxy5EjlTGG73c5lZbGrHE2aNImvuuqqlK9ts9n4vvvu4/Hjx/Odd97JXq9X9fUTJ06wzWbjFStWcCQSUW7hcJjvvvtu/t73vpfW6wwEAQi5BAFoYFIkyM1Fs7H1LwPaqt9WrQto9KuDIACNzewByMz80EMP8T333MPXX389P/vss8ycOgDvu+8+vuSSS3j+/PlcWFjIVVVVvHDhQrbb7VxQUKA8btKkSXzLLbekfG2bzcZf+tKX2G638/r165O+XlJSokTlucCMD82vf/3rab3OQBCAkEssF4D5+z4yTQC6G/di3b8MSVwX0HO2XPRImsQH4K7KDaLHgUGyQgDu3LmThw0bxna7nQ8fPszMyQEYCAR4+PDhPHPmTNVzLV++PGUA/uhHP0r52jabjZ977jn+85//zCNHjuRNm9SXRzx69CjbbDZ+6aWXuKqqKukWf4xff68zEAQg5BIEoEHJUkR1zV9c9UObxKuDtOx9zdDXUEYAGpvZjwFkZpYkiR966CH+05/+pDwmPz9ftQxMd3c322w2njNnjuq5br311kEH4LmTQJ588kkeMWIEb9ig/u9iwoQJ/PDDDw/4+0AAgllYOgC37TXucine5hrVFit/2xHRIxmez3lI9Wfqbd4neqQh+6R8HQLQwMx+FnBfUu0Cvummm3js2LH87rvv8o4dO/j+++/na665ZsgByMz81FNP8YgRI/j9999X7tuxYwePHDmSH3jgAd60aRMXFBTw+vXr+cknn+TXXnstrddJpb6+njdu3MgbNmzg6667jr/1rW/xxo0beePGjaqzkBMhAEFvCEADkmWZW8vmK6HSWrYAW/8yQJYl0/y5IgCNzcoBmLgQdH19Pf/yl7/k0aNH89ixY/mJJ57gHTt2pAzAW2+9NeXz2u32pKuPPPPMMzxixAhet26dcl9paSnffffdPGbMGL7gggt4woQJ/OCDD3JpaWlar9PX7/vcsYSJt3fe6XsvFAIQ9IYANCB/25GELVU1okcyjaQtqx3J1yw1AgSgsZkxAGFwEICgNwSgwUSvYbs0dqzanlcNfaxarpGlCLeUzDX8NZURgMaGAAQEIOgNAWgwQVeDes26xr2iRzKdnjOFqj/jkLtF9EiDhgA0NgQgIABBbwhAg+k8uD7uqhWzWIqkdxFySJ8U8rGj4AXlz7nryIeiRxo0BKCxIQABAQh6QwAaSMTv4qb8aUqYdJ/8RPRIpuU6tk35c3bkT+dIoEf0SIOCADQ2BCAgAEFvCEAD6T75adyuyakc9neJHsm0wt52bsqbGovtU5+JHmlQEIDGhgAEBCDozXIBmFez2ZABGL3s2ywlSDoOvj/wN4EmHbVr43a3zzbU7nZ1ACZf+gpyGwIQEICgNwSgQXjOlqtOTAi6GkSPZHqBrjOGvTwcAtDYEICAAAS9WToAt+9dJXqctMiyzK2lbygh4qxcYtgFio1ElmV2Vr4VWxi6/E3D/Ll/WvE+AtDAEICAAAS9IQANwN9+XLUlytdyQPRIlpG4MHSgq070SGlBABobAhAQgKA3BKABtO97N7bwc8lcLPycRbIU5ubilwx37CUC0NgQgIAABL0hAHNc9GzU2BaonjOFokeynO5Tu2I/g/xpHAnk/ocyAtDYzBiA566Ja7PZ+MSJ5EssFhQUKF+PvxZwJthsNv773/+e0edMR09PD0+ZMoVvvPFGHjNmDF9yySV888038+bNmwf8XgQg6A0BmOO6T36iXo8u6BE9kuWE/V3qJWFOZ/bDSQ8IQGMzcwBefPHF/Pzzzyd9/dFHH+WLL76Y7Xa7aQLw4MGDPHbsWH7mmWf4448/5k8//ZQfeeQRttlsvHDhwn6/FwEIekMA5jA5EuLmotlKeHQe2ih6JMtSLQlTPIdlKSx6pH4hAI3NzAH4yCOP8JVXXqn6mt/v59GjR/Ojjz6a0QAMBqNLN+kdgOdeJ5HP52O/3590/09/+lP+2te+1u9zIgBBbwjAHJZ4AkLQVS96JMsKdJ4y1Ik4CEBjM2sA2u123r17N9vtdi4uLla+tmbNGr7ooot4+/btSbuAKyoq+P777+fx48fzBRdcwBMnTuS//e1vSWF122238S233MJbt27l73znO3z++efzvHnzmDk5AH0+H9911118+eWX84EDsf+W8/Pz+ac//SlfdNFFPGrUKL7jjjv44MGDab9Oup555hkeMWJEv49BAILeEIA5rK1qqSGXIDEjWZa5tWy+8vNoq1omeqR+IQCNzcwBeOrUKZ40aRI//vjjytfuvPNOfvjhhzk/Pz8pADdu3MjTp0/nrVu3cmFhIS9atIi//OUv84MPPqh6/kmTJvFll13GV155Ja9YsYILCgq4traWmdUB2NHRwTfddBNPnDiR6+tj/6jetm0bDx8+nO+9917esmULb9myhW+++Wa+9NJL+ezZs2m9Trr++Z//mb/97W/3+xgEIOjNggH4oSECMNTjMOwixGblaSxV/UxCPQ7RI/UpPgA/rTDGmcsQk24AhiWZWz0h3W9hSfs/PuMDcPny5TxmzBgOBoPscDh4+PDh/Pnnn6cMwESRSIRXr17Nw4YN487OTuX+SZMm8bBhw1Rb9M45F4ANDQ187bXX8o033sgdHR2qx1x99dV8++23q+5zu938xS9+kSdPnpzW66TjrbfeYrvdzmvXru33cQhA0BsCMEd1Hf0odvJH4YsshQOiR7I8KRxgR+GLys+l69hW0SP1CQFobOkGYKsnxFPymnS/tXpCmn9P8QHodrt51KhRvHHjRp47dy5fccUVzMwpA7Cnp4effvppvuqqq3jkyJHKmcJ2u53LysqUx02aNImvuuqqlK9ts9n4vvvu4/Hjx/Odd97JXq9X9fUTJ06wzWbjFStWcCQSUW7hcJjvvvtu/t73vpfW6wwkLy+Pzz//fH7kkUcGfCwCEPRm6QDcUbpa9DgpSWE/OwpeMERoWE3X0S1xYT4zZ68PvKtyPQLQwMwegMzMDz30EN9zzz18/fXX87PPPsvMqQPwvvvu40suuYTnz5/PhYWFXFVVxQsXLmS73c4FBQXK4yZNmsS33HJLyte22Wz8pS99ie12O69fn3xIRElJiRKV5wIzPjS//vWvp/U6/SkvL+fRo0fzXXfdxZHIwGu5IgBBbwjAHJS0q9HdInok6BXsaVL9bAJRf0AAACAASURBVLyOatEjpYQANDYrBODOnTt52LBhbLfb+fDhw8ycHICBQICHDx/OM2fOVD3X8uXLUwbgj370o5SvbbPZ+LnnnuM///nPPHLkSN60aZPq60ePHmWbzcYvvfQSV1VVJd3ij/Hr73X6cuDAAR4zZgxPmjSJA4H09uYgAEFvCMAcEz3ZYEHsZIPqt0WPBHFkWWZnxaK4k0GWih4pJQSgsZn9GEBmZkmS+KGHHuI//elPymPy8/NVy8B0d3ezzWbjOXPmqJ7r1ltvHXQAnjsJ5Mknn+QRI0bwhg0bVI+ZMGECP/zwwwP+PgYbgMePH+dx48bxD37wA3a73Wl/HwIQ9IYAzDFBV4N6C1PLftEjQQLP2fKc30KLADQ2s58F3JdUu4BvuukmHjt2LL/77ru8Y8cOvv/++/maa64ZcgAyMz/11FM8YsQIfv/92H8bO3bs4JEjR/IDDzzAmzZt4oKCAl6/fj0/+eST/Nprr6X1OomcTid/7Wtf4y984Qu8Y8cOLi0tVd1Cob63rCIAQW8IwBwTf/JHc9EsliPad71AZiUeo+k6vl30SEkQgMZm5QBMXAi6vr6ef/nLX/Lo0aN57Nix/MQTT/COHTtSBuCtt96a8nntdnvS1UfOrcW3bt065b7S0lK+++67ecyYMXzBBRfwhAkT+MEHH+TS0tK0Xqev309ft/hlaBIhAEFvCMAckniWaS6GBUR1Hdmc06GOADQ2MwYgDA4CEPSGAMwhXkeVYdaZs7qkXfXN+0SPpIIANDYEICAAQW8IwBzSVrVMCQpnxWLR40A/ZFnm1vI3c/ZkHQSgsSEAAQEIerNcAO6u/iAnAzDkceLKHwaTtFyPxyl6JEV8AH5Svm7gb4CcggAEBCDoDQGYI1wndsYWGC6YwVLYP/A3gVBSyMeOghnKz6375CeiR1IgAI0NAQgIQNCbpQPw47I1osdhZmZZinBz8UtKSHQe3jTwN0FO6Dy8KXYySMnLLEsDr/CfDbsqNyAADQwBCAhA0BsCMAf4nIdUuxIDXXWiR4I0BTpPqX52/vZjokdiZgSg0SEAAQEIekMA5oD2/auUgGgtfZ1lWfuq+5Adsixxy55XlZ9fx8HcOOECAWhsCEBAAILeEICCRfwubsqbqgREz5lC0SPBIHWf/jx2/Gb+dJZCXtEjIQANDgEICEDQGwJQMHd9UdwuxKkcCfSIHgkGKezrUJ/B3Vg68DfpDAFobOc+/BsbG7m7uxs3C97OBR4CEPSCABRIlmVuLZuvhEP7/lVC54Gha6t+O6fWcEQAGpvf7+dx48ad+4DHzaK3cePGsd+fekUIBCBohQAUKNh9VrXlyNdyQOg8MHRJV3FxtwidBwFofH6/X/hWKNzE3vqKP2YEIGiHABTIdXx77Nixwpk5dz1ZSJ8UDrCj4IXYdZxP7BQ6DwIQwNwQgKCV5QLw86pNORGAiWv/dR39SNgskBmdhz+IrQlYPEfomoDxAbizfK2wOQBAHwhA0AoBKIi/7UjC2n9nhM0CmRHoPK1eE7DtqLBZEIAA5oYABK0sHoDvCZujo3adEgote1/D2n8mIMuyek3AWnG7Xj+r2ogABDAxBCBohQAUQAp52ZE/Pbb23+ndQuaAzOs5vTthTUCfkDkQgADmhgAErRCAAnjOlqt2FYZ9HULmgMwLe9vVawI2VQqZAwEIYG4IQNAKAShAW9VSJRDaqpYJmQH046xcEvv5Vi8XMgMCEMDcEIDWMY2ImojITUT5RPTNfh6bT0RBIurpfXwPEf1HH49FAGZZ2NuWsIWoIuszgL48jaXqLbz+rqzPgAAEMDcEoDX8lYjqiegbRHQeEc0korNEdGEfj8+jaDCmAwGYZcnXjRVzjBjoJxJ0c1P+NOXn7K4vyvoMCEAAc0MAWsNpIvrPuF8PI6JWIvptH4/PI6LpaT43AjCLks4SPfh+Vl8fsqd9/yrl59xatiDrZ3kjAAHMDQFofqOJSCaiGxPu/4SI5vbxPXlE1EZEHUR0mIhmEdGoPh6LAMyioKs+Z9aJA315W/YnXBquOauvjwAEMDcEoPmNp2gATky4fx0RLenje/6ZiC7p/f/fJqJqIlrbx2MtF4DxH4zZDkDXsW2xK0UUzRZ6pQjQlxQJqi4N133yk6y+vsj3OQDoDwFofkPZApjoViIKUfT4wURfISJ+7LHHePLkyTx58mTeuVPsNUz1JuqDMfnSb1uy9togRufhTbHFvkvmsixLWXttBCCA+ezcuVP5rH7ssccQgBaQ6hhAJ/V9DGCicwF4foqvWXoLYDZ3jfnbjydc+q0ua68NYiT9zDtPZ+21RZ/sBAD6whZAa/gLEZ2h6NIvF1D0mL5GSn0W8GVEdEfc175JRBVEtKGP50YAZknn4Q9iW4P2vJLVrUEghixL3Fw8J7bV98jmrL02AhDA3BCA1jGViJqJyEPqdQCvoOhafz/s/fVXiaiMiLoouv7fccJJICoiAlCOhNhR+KISAq4T5t7NDjGu4ztiy/4UzmQ5EsrK6yIAAcwNAQhaIQCzwNd6ULUrMNjTlJXXBfGC3Y2qn72v9WBWXhcBCGBuCEDQCgGYBR21a2NrwpW+kfU14UAcWZa5tfT12NqPteuy8roIQABzQwCCVghAnUlhPzvypysB0FOXp/trQm7pOb07thu4YAZL4YDur4kABDA3BCBohQDUmddRrb4urLdN99eE3BLyOFXvAW/zPt1fEwEIYG4IQNAKAaiz9n3vKB/8zorFur8e5CZn+ULlfdC+f7Xur4cABDA3BCBoZbkA3FW5IWsBGAm6uSlvqvLB724o0fX1IHf1nCmMbQXMn8ZSyKfr66kDcI2urwUA2YcABK0QgDryNJbG7fqbypFAt66vB7kr7OtQ7wZ2VOn6eghAAHNDAIJWlg7AT8r1PSOzrWqp8oHfVrNC19eC3OesfCu2G3jfO7q+1u7qDxCAACaGAAStEIA6Cfs6VVt8PE0Vur0WGIO7oUS9RTjo1u21EIAA5oYABK0QgDpx1xcnHPPl1e21wBgifpf6HwVny3R7LQQggLkhAEErBKBOVLv79q/S7XXAWNqq344dFlC9XLfXQQACmBsCELRCAOogcfev11Gty+uA8ahPDJqi24lBCEAAc0MAglYIQB2464uyuuQHGEfy0kB7dHkdBCCAuSEAQSsEoA6cFYux+xf61F6zMrY4eOUSXV4DAQhgbghA0AoBmGHJ671h9y+oeZoq1ZcH9HVm/DUQgADmhgAErSwYgOt1DUDs/oWBSCEvN+VPi+0Gri/K+GvEB+COUv0vPQcA2YUABK0QgBmm3v2LD15IrX3/qrhrRC/K+PMjAAHMDQEIWlk6AD+teD+jz520+7e5JqPPD+bhba5J2A3ckdHnz6v5EAEIYGIIQNAKAZhBPWcKlQ90R/507P6FPkkhn667gRGAAOaGAAStEIAZ5KxYhN2/kDbVbuDKtzL63AhAAHNDAIJWCMAMCXvbsfsXBsXrqFLvBvZ3Zey5EYAA5oYABK0QgBmStPs37M/Yc4M5JZ0N3FCSsedGAAKYGwIQtEIAZkj87t+OA1h3DdLTvu+d2LWBq5Zm7HkRgADmhgAErRCAGZC8+3dfRp4XzM/TVKG+NrDflZHnRQACmBsCELRCAGZAz5kC7P6FIUm6NnDj3ow8LwIQwNwQgKCV5QLw04r3Mx6AzvKF2P0LQ9ZWsyK2G7j67Yw8Z3wAbt+L61EDmA0CELRCAGqE3b+gledsmXo3cKBb83MiAAHMDQEIWlk6AHdVrtf8fPHX/sXuXxiKSKBHtRvYc7ZM83Pm1WxGAAKYGAIQtEIAauSsXBK3+DM+aGFo2qqXx3YD16zQ/HwIQABzQwCCVghADSJ+l2rXnaepMkNTgtV4Gkvj3ktTORJ0a3o+BCCAuSEAQSsEoAbuxr0JH9qeDE0JVhMJdCf8Y6JC0/MhAAHMDQEIWiEANcj0bjuwtraqZbHDCfa9o+m5EIAA5oYABK0QgEOUuH6bp7E0g1OCFbkb9sS2AuZP07RFGQEIYG4IQNAKAThEnqZKXa7gANYV9neplxRyVA35uRCAAOaGAAStEIBD1L5/lfJB7axcksEJwcpUZ5Xve3fIz4MABDA3BCBoZbkA/KR8neYAlEI+bsqfFrt8V31xhqcEq3LXF6t2Aw91Xcn4ANy2d+ghCQC5CQEIWiEAh8DbvE+1qy7sbc/wlGBVSVeWadk/pOdBAAKYGwIQtLJ4AG4Y0nN01K6N7f4tX5jhCcHqWsvfjF1bunbdkJ4jf99HCEAAE0MAglYIwEGSIkF2FMxQPqB76vIyPyRYWs/p3bHLCxa8wHIkNOjnQAACmBsCELRCAA6Sz3lItYsu5G7RYUqwslCPQ/Ue87cdGfRzIAABzA0BCFohAAep89BG5YO5tfR1lmVZhynBymRZ5pa9rynvs87DHwz6ORCAAOaGAAStEICDIEthdhTOVD6Yu0/t0mlKsDrXiZ3K+6y5aDbLUmRQ348ABDA3BCBohQAcBH/7MdWuuWD3WZ2mBKsLdJ1RvdcCnacG9f0IQABzQwCCVgjAQeg6sln5QG7Z8wp2/4JuZFni5uI5yvvNdWzboL4fAQhgbghA0AoBmCZZlri5aHbsA/n4Dh2nBGDuOrol9g+OkrmD+gcHAhDA3BCAoJXlAnBn+dohBWCg87R6l1xXnX5DAjCzv/14wiEH6f93Gh+AW/e8o+OUACACAhC0QgCmyXVsW+yg/OI5LMuSjlMCpDjp6OSnaX8vAhDA3BCAoJWlA/Czqo1pfY8sy9xSMlf5IO46ukXnKQGi1MsOvZH2buCCfVsQgAAmhgAErRCAaQi6GtQL83ac0HlKgChf60H1wuOe1rS+DwEIYG4IQNAKAZiG7lO7YpfmKpw56DXZAIYq6dKDZwrS+j4EIIC5IQBBKwRgGlrL5seuynBo8FcPAdCi48B7yvvPWbE4re9BAAKYGwIQtEIADiDsbVPtgvO11mZhSoAYr6Na9R4M+7sG/B4EIIC5IQBBKwTgANz1RbHdv/nTWQoHsjAlQIwU8nJT3lTlfehu3Dvg9yAAAcwNAQhaIQAH0Fa1VPngbd+/KgsTAiRrr1mpvA/bqpcP+HgEIIC5IQBBKwRgPyKBHtWWF09TRZamBFDzNJbG7QaeypGgp9/HIwABzA0BCFpZLgA/Lnsv7QD0NFWqjr2KBHqyNCWAWsTvUr0XvY6qfh+vDsCVWZoSALIFAQhaIQD70b5/dezsy8olWZoQIDVn5ZK4wxFW9/tYBCCAuSEAQStLB+DnVZv6fJwUDrAjf3rc+muFWZwSIFnPmcK0T0gq3L8VAQhgYghA0AoB2IfkKzA4szglQLKQx5mwJNHBPh+LAAQwNwQgaIUA7EPn4U1DugYrgF5kWebW0jfiFiXv+xAGBCCAuSEAQSsEYAqyFOHmolnKB233yU+zPCVAat0nP1Xel81Fs/q8LCECEMDcEICgFQIwhUDnKdWutqCrPstTAqQWdNWr3puBzlMpH4cABDA3BCBohQBMwXV8e2wrS/EclmUpy1MCpCbLEjcXz1Hen67j21M+DgEIYG4IQNAKAZhAlmVu2fOq8gHbdfQjAVMC9K3r6EfK+7Nlz6spj09FAAKYGwIQtEIAJgj1OFS72PztxwRMCdA3f/sx9RnqPY6kxyAAAcwNAQhaWTAA1/QbgD2nd8fWWit8keVISMCUAH2TIyF2FLwQW6Py9O6kx8QH4JaSFdkfEgB0hQAErRCACZzlC5UP1o7adQImBBhYR+262FVqKhYlfR0BCGBuCEDQytIBuLv6A9XXwr5O9fVWm/cJmhKgf97mfar3atjXqfp60YFtCEAAE0MAglYIwDjuhj2xD9X8aSyFfIKmBOifFPJyU/405f3qbtyr+joCEMDcEICgFQIwTlvNCuUDtb0GB85Dbuvv/YoABDA3BCBohQDsJYW83JQ3VflA9TSWCpwSYGDuxr19brFGAAKYGwIQtEIA9vI216iPqfJ3CZwSYGD9HbOKAAQwNwQgaIUA7NVRu7bfsyoBcpHqrPWD7yv3IwABzA0BCFohADnFump1eWKHBEhT0rqVUpiZEYAAZocABK0QgMzsbzuqvrKCu1nwlADpCfY0pbxyDQIQwNwQgKCV5QJwR+nqpADsOrI5dm3Vva+lvLYqQC6KXrv6laRrV8cH4EfFywVPCQCZhgAErSwfgLIscXPxS8oHqOvEx6JHBBgU1/Htyvu3ueRllmUZAQhgcghA0MrSAZhX8yEHus6odqEFOk+LHhFgUAIdJ1Xv4aCrgYsObEcAApgYAhC0snwAuk7sjG09KZrNsiyJHhFgUGQpws1Fs5T3cffJTxGAACaHAAStLB2Au6s/4NbS15UPzs7DHwz8BAA5qPPQRuV93Fo2HwEIYHIIQNDK0gG4a+8K1a4zn/Ow6PEAhsTXWqt6LxdUvIcABDAxBCBoZekA3PFJbO0/R8EMliJB0eMBDIkUDrAjf7ryft71+RwEIICJIQBBK0sH4OaN/3/sKgoH1ogeDUCT9v2rlPfz9g+fQAACmBgCELSybAAu+uBZ3rTqgdh1VB1VokcD0MRztlx5P3+05iFe9OF/IwABTAoBCFpZNgDnr/5jXABO5UjQI3o0AE0igW5VAM5f8xgCEMCkEICgleUCcPveVbx4yxR+bcn/UgKwrfpt0WMBZISzcokSgK8tvS96qEMx3t8AZoMABK0sGYCLNv8Pv/zGJCUA3Q0loscCyIieM4VKAM6d/2NetPk5BCCACSEArWMaETURkZuI8onom/089hIiWkNELiLqJKJVRHRxH4+1ZAAueO8/+OU3blMCMOxtFz0WQEaEPK3clDeFt6x5iF9+4zZesPb/IAABTAgBaA1/JaJ6IvoGEZ1HRDOJ6CwRXdjH47cT0adEdCkRjSGiXUS0uY/HWjIA5y27XwnA1rIFokcCyBhZlrm19HUlAOe9/b8RgAAmhAC0htNE9J9xvx5GRK1E9NsUj/0qEclE9K24+67vvW98isdbLgC37VnJc+f/RAnA7lOfiR4JIKO6T36iBODcBT/lzUVLRY8EABmGADS/0RSNtxsT7v+EiOamePw9RORLcX+AiO5Kcf9XiIj/fe7z/NTyVy1x++OCKfy7l5/g3738BP/Xoud5TfkJfv9gB264mea2uuwYP714qvI+/48V8/l/PtqGG26mu/3to2389Jqlwj9XRNz+fe7zCECTG0/RAJyYcP86IlqS4vG/I6LmFPe3ENFDKe7/ChHxj559mm+f/aLlbg/MX8jP7z7LU/KacMPNNLfnd5/lBxcsVN7nd742n/9l8RrccDPd7RdvLBb+OSLq9qNnn0YAmlxWtgBe/v3v8Vdv+SF/9ZYf8nce/YPwN3a2bo+s2Cj8wxo33PS4Pbp8g/I+//mcl4R/UOOGmx63n899RfjnSDZv33n0D8pn9eXf/x4C0AJSHQPopL6PAZRIfQzgDb339XkMoJV2AZ+7TXn/XV6zr1n47jrccNPj9k7Jfv7b0hf4yTef4yfffI6f3bhe+O463HDL5O1vH36ovL+ffPM5/q+ls4V/rmAXMGTaX4joDEWXfrmAiGYRUSP1fRbwViLaSURfIKIvUvQs4A/7eKzlTgIBsAI5EmJHwQvKlUF66vJEjwSQUV5HlfL+bsqbwhG/S/RIWYWTQKxjKkWP7fOQeh3AKyi6NuAP4x57CRGtpug6gF1E9C5FdyWnggAEMKmO2rXKh6OzYpHocQAyqn3/6tj7u/It0eNkHQIQtEIAApiUt7lGtYUk7O8SPRJARkjhADvyp8e2cJ8pFD1S1iEAQSsEIIBJSSEvN+VNVT4kPY2lokcCyAhfa63qHzchj1P0SFmHAAStEIAAJtZWs0L5kGyvWSl6HICM6Dy0QXlft5bNFz2OEAhA0AoBCGBi7oY9sS0l+dNYCvlEjwSgiSyF2VE4U3lfd5/aJXokIRCAoBUCEMDEwr5O1a4yb/M+0SMBaOJvP656Twe7rfn5hQAErRCAACbnLF+ofFh21K4TPQ6AJl1Htyjv55aSuSzLsuiRhEAAglYIQACT6zm9W/nAdBS+yHIkJHokgCGRZYmbi+co72fXsW2iRxIGAQhaIQABTC7U41DtMvO3HxM9EsCQBF31qvdyoPOU6JGEQQCCVghAAJOTZZlb9ryqfGh2Hf1I9EgAQ+I6sVN5HzcXzWZZiogeSRgEIGiFAASwANfx7bEPzuI5LMuS6JEABkWWZW7ZO095H3ce/kD0SEIhAEErBCCABQQ6T6nPnHTVix4JYFBC7mbVe9jnPCx6JKEQgKAVAhDAAmQpws1Fs2Jrp538VPRIAIPSU5cXO5mpYAZLkaDokYRCAIJWCEAAi+g8vCl29YTS1y27fAYYk7NiUdxyRmtFjyMcAhC0QgACWISv9aDlr58KxpS8oHmN6JGEQwCCVghAAIuQwgF25E9XPkR7zhSKHgkgLbikYTIEIGiFAASwkPb9q5UPUmflEtHjAKSlrfpt5X3bXrNS9Dg5AQEIWiEAASzE01Sp2pUWCfSIHgmgX5Ggm5vypirvWU9jqeiRcgICELRCAAJYSNKHaVOF6JEA+pX0jxa/S/RIOQEBCFohAAEspq1qaWx32v5VoscB6Jf6sIW3RI+TMxCAoBUCEMBi3PVFsfXU8qezFA6IHgkgJZy41DcEIGiFAASwmLC3TX1FhdZa0SMBpORrrcXSRX1AAIJWCEAAC2otmx+7puqhjaLHAUip89CG2OLlZfNFj5NTEICgFQIQwIK6T+2K7QYunMmyFBE9EoCKLIXZUTgzdvnCU7tEj5RTEICgFQIQwIKCrgbVrrVAx0nRIwGo+NuPq96jwW58TsVDAIJWCEAAC5JlmZtLXlY+XF3HtokeCUCl6+gW5f3ZUjIX165OgAAErRCAABal+oDd8wo+YCFnyLLEzcVz8A+UfiAAQSsEIIBFJe9iOyt6JABmZg666tWHKHSeEj1SzkEAglYIQACLih5k/2LsIPvTn4seCYCZmV0ndirvy+ai2ThJKQUEIGiFAASwsI6D78eW2Sh/U/Q4ACzLMrfsnRdbpujwB6JHykkIQNAKAQhgYd6W/apdbWFfh+iRwOJC7mb1QuXOw6JHykkIQNAKAQhgYVLIx03505QPW3dDieiRwOJ66vJia1QWzGApEhQ9Uk5CAIJWCEAAi2vf947ygdtW/bboccDinOULlfdjR+1a0ePkLAQgaIUABLA4z9myuF1uUzkS9IgeCSwq7OtQ7f71Nu8TPVLOQgCCVghAAIuL+F3qD11HteiRwKLcDSWx92L+NJZCPtEj5SwEIGiFAAQAdlYsju12O/Ce6HHAotqqlinvw/Z974geJ6chAEErBCAAcE9dPg68B6EiQTc35U1V3oees+WiR8ppCEDQCgEIABxyt2DpDRDK01Sheg9GAt2iR8ppCEDQCgEIAEmL73Yd+VD0SGAx7fvejZ2NXrVU9Dg5DwEIWiEAAYCZmV0nPlZffkuWRI8EFiGF/er1KOuLRY+U8xCAoBUCEACYmTnQVafaBRfoPC16JLCIpCvSeNtFj5TzEICgFQIQAJiZWZYlbi6eo3wIu45vFz0SWERH7Tpck3qQEICgFQIQABRdRz9SPohbSuayLMuiRwKTkyMhdhS8oLzvek7vFj2SISAAQSsEIAAo/O3HVbvigq4G0SOByfnbjqjec6Eeh+iRDAEBCFohAAFAIUsRdhTOVD6Mu09+InokMLmuIx/GtjrvfQ1bndOEAAStEIAAoNJ5eFPcB/I8fCCDbmQpws1Fs2PHnZ7YKXokw0AAglYIQABQ8TkPq3fJuZtFjwQmFeg8pT7zvOuM6JEMAwEIWiEAAUAFB+VDtriOb4+tPVk8B2tPDgICELRCAAJAEizLAXqTZZlbSubGrj5zdIvokQwFAQhaIQABIImv5UDCwrxtokcCkwl2N6reY/7246JHMhQEIGiFAASAJFLYz4786bHdwGcKRY8EJtN9apfy/nIUzmRZCoseyVAQgKAVAhAAUmrfv1r5gHZWviV6HDARWZa5tfQN5f3VeWiD6JEMBwEIWiEAASAlr6NKvRvY3yV6JDCJkKdV9d7ytR4UPZLhIABBKwQgAKQUCXq4KW+q8iHtbtwreiQwiZ4zBbHdvwUzWIoERY9kOAhA0AoBCAB9aqtZoXxQt1W/LXocMAlnxSLlfdVxYI3ocQwJAQhaIQABoE+es2Vxu+qmciToFj0SGFzY267a/ett3id6JENCAIJWCEAA6FMk0K36sPY0VYgeCQzOXV8U2/2bP52lkE/0SIaEAAStEIAA0K+2qqXKB3b7vndFjwMG56x8K/Z+2r9a9DiGhQAErRCAANAvd31xbCtg/jRssYEhC/s61bt/HdWiRzIsBCBohQAEgH6FfR04ZgsyIvkfE17RIxkWAhC0QgACwIDUZ22+J3ocMChn5RIcTpAhCEDQCgEIAAPqqctXr9sWDogeCQwm7O9KOKGoUvRIhoYABK0QgAAwoOQrN9SKHgkMxt2wJ2FJIY/okQwNAQhaIQABYECyLHNr2fzYbuDadaJHAoNpq1oW2/1bs1L0OIaHAAStEIAAkJae07tx+S4YkqT1JM+Wix7J8BCAoBUCEADSgt3AMFSexlJcUSbDEICgFQIQANIS3Q28ALuBYdDaqpfHXVN6uehxTAEBCFohAAEgbUm7gXE2MAwgEnRzU97U2O7fxlLRI5kCAhC0QgACQNqSdgO3HBA9EuQ4z9ly1XsmEugWPZIpIABBKwQgAAyKejfwWtHjQI5rr1kZ2/1btUz0OKaBAAStEIAAMCg9dXnYDQxpiQQ9qt2/7oY9okcyDQQgaIUABIBBwW5gSJenqVK9+9fvEj2SaSAAQSsEIAAMWmv5m9gNDAOK3/3rrFwiehxTQQCCVghAABg07AaGgSSe/Yvdv5mFAAStEIAAMGghFJjz5gAAGwhJREFUj1O1a8/bsl/0SJBjPGfLcPavjhCAoBUCEACGBLuBoT9t1W9j8WcdIQBBKwQgAAxJT11+bDdw/nTsBgZFxO9KuPZvmeiRTAcBCFohAAFgSLAbGPribijBtX91hgAErRCAADBkzvKFsd3AB94TPQ7kCGflW8r7on3fO6LHMSUEIGiFAASAIUveDewXPRIIFvZ1qLcMO6pEj2RKCEDQCgEIAEMW9rapP+yba0SPBIL1nCmMvSfyp7EU8okeyZQQgKAVAhAANHFWLI7b3feu6HFAsPjDAtr3rxY9jmkhAEErBCAAaOKuL8YB/8DMKU4Mat4neiTTQgCCVghAANAkacmPxlLRI4EgPad3J1whBseE6gUBCFohAAFAs7bq5bFFf6uWiR4HBJBlmVvL5mNx8CxBAIJWCEAA0MzTVKHaChj2dYoeCbIs5G5WvQd8rbWiRzI1BCBohQAEAM2kkJeb8qcpH/49ZwpFjwRZ1n1qV9zu3xdYigRFj2RqCEDQCgEIABnRvn+1EgCt5W+KHgeySJZlbtnzqvLz7zy4XvRIpocANL/7iegIEXmJ6BAR3TvA46cQUYSIeojI3fu/a/p5PAIQADLC27JftQsw5G4RPRJkSaDrjOpn7287Knok00MAmtuNROQnov9FRMOI6D4i8hHRd/v5nilEVDiI10AAAkBGSJEgOwpeUCKg+9RnokeCLOk6tlX5uTcXzWZZiogeyfQQgOa2nIg2Jdz3AREt7ed7EIAAIEznoQ1KCLTsfY1lWRY9EuhMliLcXDRb+bl3HdsqeiRLQACaWzURPZNw338TUWU/3zOFort+W4mojqK7f7/ez+MRgACQMf62I6pdgUFXg+iRQGfJP/N60SNZAgLQmFYQkUxEUu//Jt529z7uJBE9nvC9/0FEx/t57m8Q0RW9///LRLS693ku7OPxCEAAyBhZCnNz0SwlBlzHt4seCXTWcfB9bPUVAAFoTBcS0Zh+bhf1Pm4oWwATjaTocYQ/6+PrXyEifuyxx3jy5Mk8efJk3rlzp+j3NQAYWNfRj2LHgxXPYVmWRI8EOpHCfnYUzMBxn1myc+dO5bP6scceQwCa2HIi2phw30DHACY6F4C39/F1bAEEgIwKdJ5WnxHacUL0SKATr6Nafea3xyl6JMvAFkBzu5GiZ/3+ioiGE9GvKbocTH9nAf+GiL7Q+//HEtG7RHSaiEb18XgEIABklCxL3FIyN7Ym3OFNokcCnbTXrFR+zs6KxaLHsRQEoPn9mqLrAPqI6DBFl4SJd5CIno379UcUPQHEQ0SNFD0J5Mp+nh8BCAAZ133yE/VVIcIB0SNBhkUC3dyUN1X5Obsb9ogeyVIQgKAVAhAAMi7kaVXtGvQ6qkWPBBnmbiiJ+xlP5UigR/RIloIABK0QgACgC2fFYiUQ2mpWiB4HMsxZsUj5+bbve0f0OJaDAAStEIAAoAt3417VVsCwv0v0SJAhSVt4m2tEj2Q5CEDQCgEIALqIBN3clD9NiYSeMwWiR4IM6T61K+4Yzxk4xlMABCBohQAEAN10HFijhEJr6RtYJNgEks7yPrRB9EiWhAAErRCAAKAbX+tB9WXCuvF3jdH5O05gncccgAAErRCAAKCbpEvDHdsmeiTQqPPg+til30rm4kovgiAAQSsEIADoquvoltil4YpmsyyFRY8EQySFfOzInx536bddokeyLAQgaIUABABdBV31ql2GPudh0SPBEHnOlqvP7Pa2iR7JshCAoBUCEAB0Jcsyt+ydp0RDR+1a0SPBEDkrl8TWdqxaJnocS0MAglYIQADQXU9dXmzLUf40jgQ9okeCQQp5nKqtf56mStEjWRoCELRCAAKA7sK+TlU8uBtKRI8Eg9R98tOEtf/8okeyNAQgaIUABICsaK9ZGVsTsGwB1gQ0EFmWuLnk5bi1/zaKHsnyEICgFQIQALLC13JAvSagq0H0SJAmf/tx1c8u0HFS9EiWhwAErRCAAJAVciSkWhOw68hm0SNBmjoOvh9b+2/PK1j7LwcgAEErBCAAZI3r+PbYcWSFL+IasgYQCXoS1v77TPRIwAhA0A4BCABZE3I3q3Yleh1VokeCAbgbStRr//k6RI8EjAAE7RCAAJBVzorFcWvJLRU9DvRDlmVuLX1D+Xm116wUPRL0QgCCVghAAMiqxKtJhDytokeCPgS66tRXcWmtFT0S9EIAglYIQADIKinsZ0fBDCUqXCd2ih4J+tB5eFPsOs7FL+E6zjkEAQhaIQABIOsQFrlPCvlUod598hPRI0EcBCBohQAEgKxL3rV4UPRIkMDduFd98oe3TfRIEAcBCFohAAEg66InF7yOkwtylCzL3Fq2IHayTvVy0SNBAgQgaIUABAAhkpYXwRamnBF0NaiX62nZL3okSIAABK0QgAAghBTyJpwM8rHokaBX15EPY8doFs1mORISPRIkQACCVghAABCm8/AHcaExi6VIUPRIlhc9+eOFWJgf3yF6JEgBAQhaIQABQJhgdyOuDJJjEnfNY53G3IQABK0QgAAgjCzL7KxYpMSGs2Ixy7IseizLkmWZW/bOi538UbNC9EjQBwQgaIUABAChPE2Vqi1Owe6zokeyLH/7cfXyPM5DokeCPiAAQSsEIAAIJUWC7CicqURH15EPRY9kWe37Vys/h5Y9r7AsRUSPBH1AAIJWCEAAEM51fIcSHo6CGSyFfKJHspywr4Ob8qYqP4eeMwWiR4J+IABBKwQgAAgX8jhVux7dDSWiR7Ic14mdsQjPn86RoFv0SNAPBCBohQAEgJzQVrMitvtx72ssy5LokSxDjoS4uWiW8uffeWij6JFgAAhA0AoBCAA5wec8jBMQBPE6qtQn4rgaRI8EA0AAglYIQADICbIsqZcgqX5b9EiWIMsyO8sXYikeg0EAglYIQADIGe7GvVgSJssCnacSFuOuFj0SpAEBCFohAAEgZ0jhgGpJmM7Dm0SPZHrxS780F89hWQqLHgnSgAAErRCAAJBTXCc+jm2Ryp/GkUC36JFMK/Hs6566PNEjQZoQgKAVAhAAckrienTdpz4TPZJpdR39SLX+YiToET0SpAkBCFohAAEg53TUro3bLfkSy5GQ6JFMJxL0sKNgRuwKLEe3iB4JBgEBCFohAAEg5wS66lS7Jj1ny0WPZDo9dXmqP+Owt030SDAICEDQCgEIADlHlmV2ViyOWxh6HhaGziA5EuLm4jnKn2/HgTWiR4JBQgCCVghAAMhJvtZa9cLQLQdEj2QanqZK1Z9toPO06JFgkBCAoBUCEABykixL3Fr6emyB4vKFWKA4AxIX3HZWLMKfqwEhAEErBCAA5CxPU4VqS5W//bjokQzP27JfvWW1tVb0SDAECEDQCgEIADlLlsLcXPJy3OXhloseydBkWebW8jeVP8/W0tdxbKVBIQBBKwQgAOQ0d32x+vJwrgbRIxmWv+1IwmXfqkSPBEOEAAStEIAAkNOkcICbi2bFnbH6nuiRDEmWZXZWLomdWb3nFZaliOixYIgQgKAVAhAAcl73qc9UW65CPQ7RIxlOoOOkem3FxlLRI4EGCEDQCgEIADkvetWKF7AVcIhkWea26uVxV1eZg6urGBwCELRCAAKAIXSf/ER9LGBPk+iRDCPQeUr1Z9dzplD0SKARAhC0QgACgCEkbwXE1SvSIcsyt1Uti239K5rNUjggeizQCAEIWiEAAcAwuk9+qt4K2H1W9Eg5z99+XPVn5q4vEj0SZAACELRCAAKAYUghLzsKX1Ripn3/atEj5bTomb9vqY79kyJB0WNBBiAAQSsEIAAYSuIZwVgXsG+J6/65G/eKHgkyBAEIWiEAAcBQolsBZ6quDoJr2SaTZZmd5QsT1v0Lix4LMgQBCFohAAHAcHrq8tTXCG47KnqknONt3qde9+9sueiRIIMQgKAVAhAADEeKBFXXCG4tW4Br2saRIyFu2fNKbOvf3nm46ofJIABBKwQgABiSp6lCvYWrqVL0SDmj50yh6s/G13pQ9EiQYQhA0AoBCACGJEsRbi2bH9vKVTIXZ7hy73qJ8cdIVi3FMZImhAAErRCAAGBYPudh9RUu6vJFjySc69i2hLOk60WPBDpAAIJWCEAAMKzEq1w4Cl7gsL9L9FjChDxObsqfFrtaSu060SOBThCAoBUCEAAMLdh9VrXFq+Pg+6JHEkKWZW6vWRn7s8ifxmFvu+ixQCcIQNAKAQgAhtd1ZLMqAgMdJ0WPlHW+1lrVn4HrxE7RI4GOEICgFQIQAAwvEvRwc9GsuGVh5ltq2RMpHOCWkrnqE2LCAdFjgY4QgKAVAhAATMHTWKq+7Fl9seiRsqb75KfqZV9aDogeCXSGAAStEIAAYAqyLKkufeYoeIHDvk7RY+ku5G5RnfjRVrMCy75YAAIQtEIAAoBpBLrOqLaEtdesNHUMybLEzsq3VCd+hDytoseCLEAAglYIQAAwla5jW1UR6HVUiR5JN+76YtXvtfvULtEjQZYgAEErBCAAmIoUDqiug9tcNIsjgR7RY2Vc2NvGjoIZCSe+hEWPBVmCAAStEIAAYDr+9mPqXcH7V5tqV7AsS6oFsJvypnLQ1SB6LMgiBCBohQAEAFPqPLRRFYGes2WiR8qYnrr8hDX/PhY9EmQZAhC0QgACgClJIa9qbTxHwQxTnCARdDWozvptLX2dpUhQ9FiQZQhA0AoBCACmFeg8pdpS5ixfaOjj5KSwn1v2vqY66zfYfVb0WCAAAhC0QgACgKl1n/xEFYFdx7aKHmlIZFnmzoPrExa7LhI9FgiCAAStEIAAYGqyFGFnxeKEpWGqRY81aO6GEkutcQj9QwCCVghAADC9sLddda1gR/50Q+06je7Knhpb2qZ4jimXtoH0IQBBKwQgAFhC4tIwLXteMUREhX0d3Fw0W3XcX6DrjOixQDAEIGiFAAQAy+ipy1OfFFKxiKVwQPRYfYoEPdxa+rppl7OBoUMAglYIQACwDFmWuePAe+pj6fa9w7IUET1aEikSZGflEvUJLEc247g/YGYEIGiHAAQAS0kVVp2HNrAsS6JHU8hSmNv3rzZEqIIYCEDQCgEIAJaTatdq56GNORGBqeIv13dVQ/YhAEErBCAAWFLY18HNJS8nbwkUuJVNjoSS4q9l7zxDnKwC2YUABK0QgABgWWFvW1IEtu97h6WwP+uzRIIebqtamhx/flfWZ4HchwAErRCAAGBpqSKwtfxNDvu7sjZDyOPklr3zEH+QNgQgaIUABADLC/s6ko4JbC6axT7nYd1f29u8jx0FLyRdszgS6Nb9tcG4EICgFQIQAICZpZCX26qWqUKsKW8Kdx3dossu4UjQw52HNia9Xvv+VTjhAwaEADS364loBxE1E5FMRD9J8/umEVETEbmJKJ+IvtnPYxGAAAC9ZCnMXUc2J0VZc8nL7G3Zn5GzhGUpwp6mCvXVPXpvrhMfY6kXSAsC0NyuJaJ/I6LvEpFE6QXgX4monoi+QUTnEdFMIjpLRBf28XgEYA7ZuXOn6BGgF34WuSXbPw/v/2vv3oO0qus4jr+5KIigDpOXAc37rTCVtEQzsrxMZTSZ5oVGzOIfQx1ItD9KNMVr2kWmzDIqB7UmxxQTNcVEYwJRLmKCpikYcr+oQKLL0x/f35k9z3me3X1W2OfZhfdr5je75372/PbZ89nfOb9zls4tLZk2viKgLZsxIYJg0/vtXmfTB++V1i95ruJev+xy88YVL3XAT7L1+dnoHAyA249aWwBfA0blhnsAy4DhLcxvAOxERo8e3ehdUGJddC6NqI/3N6wurZx7V0VYi8B2Q2ntwodKG1cubPVybdOmDaWNK14qrVnwQGnJtOuqrmvV/D92qce8+NnoHAyA249aAuAuab5PF8Y/Cvy4hWUMgJ2If1g7D+uic2lUfWzevLm0YdkLVVvtynrsTr+1tGL2xNKqeZNKq+ZNKq14/s7S0um3tLrMshkTShtXLGjIz7Ul/Gx0DgbArmkiEdSa0tdimVplmVoC4N5pvkML4+8F7mhhmYFAaebMmaXFixdbGlxGjhzZ8H2wWBedsTS6Pha98Xrp5eemlGY/eHVp1p9Gb1GZM3l86eXnHystWvRGw49rV6wLS5SZM2caALugPkD/Vkq/Kst0VAvgYOIXyGKxWCwWS9crg9E2bUvuAVxOy/cAdiN+eQZaLBaLxWLpUmUwcR7XNqgX0JsIgKel4R6tzH8Z8Drx6JedgOuBxbTcC1iSJEmdyL403yuYL1fm5pkPfL+w3FXEswPfpe3nAEqSJEmSJEnalrXnrSFq2/XAPGAdcVzvJnpn530CeIpooX0TGFdlPW3VSy3rULn7qbyX1rqoryHAE8DbwBrgmdw066K+9iD+Pi0FVgP/AD6bm259dIyzgWnEOaIJ6F6YXq/j7rl/O9fet4aobeOBo4GeRK/sScDs3PS+wBLgWmBHYBBxj+aluXnaqpda1qFy5wOPUP5GHeuivoYQoW84cSy7A8emadZF/d1HhIT+RCeCMUQw3w3royOdQoTAb1EZAOt13D33q91vDVH7HUl8yHdNwyOI/7jzH/pLgFdyw23VSy3rULO9iY5R2XMyswBoXdTXNODmFqZZF/U3B7g4N7wz8fk4lviHyfroWEOpDID1+hx47t/OfZhnBqr9Lic+bJlbgSmFeYYQfwj6Ulu9tLUOlXuUeKc2lAdA66J+dgI+AG4EZgArgWeBM9J066L+ziVeOrAXsANwBbCQaBGyPjpetQBYj+PuuV8f6q0hap+TifsrTsmN+w1wT2G+w4gP5wBqq5e21qFmFxF/2DL5AGhd1M9A4li+RTy3rDvwNeA94Disi0b4KPAwcVw3Ea1GQ9I066PjVQuA9TjunvvlfwEd7HTifqdhhfH+Z10/BxD3wuyTG2cLYGNkx/K6wvhHiI5T1kV9dQNeBe4kbk/pTvytWkt0ILA+Op4tgGqo9r41RLUZToS/k6tMq3ZvzaW0fX/GcuC8dqxDcS/M/4hjtyKVzUTd3E4cx2VYF/XyCi0HQD8X9dWf+CwcWRj/HNFBwProeNUCYL2Ou+d++daQDjCKeKTCCS1M70t0vb+GeMPLEcAiyntotVUvtaxDcWwGFMpm4CyaezpaF/VzCdEieyTRAjUM2AAcg3XRCPOJS379iPo4HdgInIT10ZG6E/dZnkoEwD5puBv1O+6e+wX41pCtbTNxX9PbqbyTvuYD4SCiR+R64oT4wyrruYrW66WWdahS/jEwYF3U2xXEyWgdMIsIHRnror4OJJ6NuYy49PsCzZ2lwProKCMof8NX9n32DMZ6Hfe21iFJkiRJkiRJkiRJkiRJkiRJkiRJkiRJkiRJkiRJkiRJkiRJUn31BCYBq4i3vfRr7O7U5BRgAfEmjusbvC9bw3nAS43eCUmS1LH+Trw66cuF8XcBv63zvpwDvAnsXOftbokFwJhG70QD7Uv8/hzQ6B2RJEm1e5J4d+kCogUu04gA+APifZtdyfuUvwu5vboBPbbSvjTCfsR7Vw2AkiR1IU8CNwIvA9/LjS8GwF2BO4DFwHLgr8Ah7dzWYcDDwApgEXA7zZd5JwLvEYHq7bT+okFpnj5peCjR+nRxbp5/AcPT92cCs4DVaZ8fIAILwC7Ei91PKGzj58BfcsPnA3OAtcALwNlp/MHAO0T42ZD2OVvXBWnetcC8tI5M1mJ2YVrveuBTwDjgaeBq4mXza4EbgN2Ae9Pwa8CwKseluO7vAC+mZf5GeTjrRdT3a8Sl9qfS9jMjiDrOTATuAW4DVhIvu/9Rbvq76Ri8k47BL9L4UcC/iUvjb1H/fyYkSVIrniRO6MOIwPCRNL4YACcDTwC7A72BnxAhrg+16Utc3r2JCCF7Epef78/NM462WwD/S/Pl6vFEy+XkNLw38EHaR4BTgSPS9/2JADg9t67fUf4z9iJCUbb+C4DXgaPT8PFEoDk+t8xm4KTc8NfTPJ8jWve+QISjLLhlIe1pYECaZ0fiZ3+PCE49gE8Cm4CZue2NTvvXm+qydf8zrbs38GsiDHZP89wGzAX2J1p8xxDBbUCaPoKo18xEYCNwVtrX49J+Dc1tsymtL3MQEWwPT8N9gM+0sM+SJKkBsgAI8DjRygflAXAvIlgMyi3Xk2jJ+0aN2zmHuNTcPTfuqLTePdJwLQHw98DP0vfPAmcQgWsHolVtdivLHk2ElewewxOJcNY3DQ8nQmq3NDwXGFlYxx00HyPS/ucvAT8C3FJY5qdEyyc0h7STC/OMA14pjHse+GVuuH9a9giqy9b9pdy4vkSr6gnEz7UeOL2w3Bzg8vR9tQD4eGH+mcDY3DaLl4D3S9s5i67RkUeSpO1OPgB+nGjtOYryAHgscZIvtvbNAi6rcTtjieCQ15cILMek4VoC4HCil2p/YA0RRGcQIexu4vJmZigRXrJLquuobK1aQHPImwpcm5uWXdpdncqaNDw5N08xAL4IXFTY51HA/PR9FpgOKsxT7Wd/GrgyN9wrbe94qssC4McK498iAvjuLUz/MzAhfV8tAP6hMH/+d6ZaAAT4CjCFOGYz0vYlSVInkT+ZQ1wifIrKFsAmylueehD31bWnBXAplS2ATbSvBXDPtMwVxCVdgGuAm9P+ZC1rOxBhbQzNwTXbXj6sjCUCyoHE5eN8OHwV+GYb+/NhWgCrBaatGQBbawHcQISzvNm03gLYWgDch9Z7AXcnWgKrhV5JktQgxQDYn7jPbDmV9wA+RoS1nYiQs5jaH9nSj7i8egNxb9peRItbe+8BhLhkuQb4bho+MQ2vJ+6nI+3XJuKyMMQ9bg9RGb72IO69e5DKS52XAAuJFspuRAA7Bhicm6cYAM9M+zKUCD+fJ1oev5qmt/TYlK0ZAKcDA4ng+yuiY0wWvCcQgW9/IiSPJoLywDS9vQGwNxEwv5ibfkgazn43TqMyXEuSpAaaSnkAhOhV2wTcmRu3G3Hv25vEvX8PA4fmpp9HBInWHE60kK0kwuPtRO/iTK0B8Ka0fwen4Z7EJd4phfnOB/6T9mt2Gq7W+nZfGn82lc6lvCfxVMo7NDRR+RiYC4lLweuI3sAjctPa0wI4jcoA2ETbAfDbROhbR3TcObCwjhuJzi2r0zaKvYDbCoDF35mxxGX21UTAHAQ8QwThrCf0uS3ssyRJkrZAS+FSkiRJ2yjfyiFJkrSdsQVQkiRJkiRJkiRJkiRJkiRJkiRJkiRJkiRJkiRJkiRJkiRJkiRJkiRJkiRJkiRJ6kD/B4ZXHwnvLXe0AAAAAElFTkSuQmCC\">"
      ],
      "text/plain": [
       "<IPython.core.display.HTML object>"
      ]
     },
     "metadata": {},
     "output_type": "display_data"
    },
    {
     "data": {
      "text/plain": [
       "<matplotlib.text.Text at 0x111defb70>"
      ]
     },
     "execution_count": 37,
     "metadata": {},
     "output_type": "execute_result"
    }
   ],
   "source": [
    "fig1 = plt.figure()\n",
    "ax1 = fig1.add_subplot(111)\n",
    "ax1.plot(makesinewf(N, 1), lw=3, alpha=0.5, color=(0.8, 0.5, 0), label='Wave')\n",
    "ax1.plot(m1, lw=3, alpha=0.5, color=(0.2, 0.4, 0), label='Marker 1')\n",
    "ax1.plot(m2, lw=3, alpha=0.5, color=(0, 0.5, 0.8), label='Marker 2')\n",
    "ax1.set_ylim([-1.1, 1.1])\n",
    "ax1.set_xlabel('No. of waveform points')\n",
    "plt.legend()\n",
    "ax2 = ax1.twiny()\n",
    "ax2.plot(np.arange(N)/1e3, wf, lw=0)\n",
    "ax2.set_xlabel('Time (mu s)')"
   ]
  },
  {
   "cell_type": "markdown",
   "metadata": {
    "collapsed": false
   },
   "source": [
    "### Approach A "
   ]
  },
  {
   "cell_type": "code",
   "execution_count": 50,
   "metadata": {
    "collapsed": false
   },
   "outputs": [
    {
     "data": {
      "text/plain": [
       "(45, <StatusCode.success: 0>)"
      ]
     },
     "execution_count": 50,
     "metadata": {},
     "output_type": "execute_result"
    }
   ],
   "source": [
    "awg1.visa_handle.write('MMEMory:CDIRectory \"C:\\\\Users\\\\OEM\\\\Documents\"')"
   ]
  },
  {
   "cell_type": "code",
   "execution_count": 39,
   "metadata": {
    "collapsed": false
   },
   "outputs": [],
   "source": [
    "noOfseqs = 40\n",
    "\n",
    "pckd_wfs = []\n",
    "#pckd_wf = np.zeros(N, dtype='uint16')\n",
    "\n",
    "chan1_list = []\n",
    "for ii in range(noOfseqs):\n",
    "    pckd_wf = awg1.pack_waveform(makesinewf(N, 1+ii), m1, m2)\n",
    "    pckd_wfs.append(pckd_wf)\n",
    "    chan1_list.append('segm{:03d}ch1'.format(ii))\n",
    "wfname_l = np.array([chan1_list], dtype='str')\n",
    "packed_wfs = {}\n",
    "\n",
    "#packed_wfs.update\n",
    "for name, wf_dummy in zip(wfname_l[0], pckd_wfs):\n",
    "    packed_wfs.update({name: wf_dummy})\n",
    "\n",
    "#\n",
    "nrep_l = [1]*noOfseqs\n",
    "wait_l = [0]*noOfseqs\n",
    "goto_l = list(np.arange(2, noOfseqs+1))+[1]\n",
    "logic_jump = [0]*noOfseqs\n",
    "channel_cfg = {}\n",
    "awg_file = awg1.generate_awg_file(packed_wfs, wfname_l, nrep_l,\n",
    "                                  wait_l, goto_l, logic_jump, channel_cfg)\n"
   ]
  },
  {
   "cell_type": "code",
   "execution_count": 40,
   "metadata": {
    "collapsed": false
   },
   "outputs": [
    {
     "name": "stdout",
     "output_type": "stream",
     "text": [
      "Transferred and loaded 40 10000-point waveforms in 6.195 seconds.\n"
     ]
    }
   ],
   "source": [
    "awgfilename = 'manySinesIncreasingFreq.awg'\n",
    "t1 = time.time()\n",
    "awg1.send_awg_file(awgfilename, awg_file)\n",
    "loadfrom = '{}{}'.format(awg1.visa_handle.query('MMEMory:CDIRectory?').replace('\"','').replace('\\n', '\\\\'), awgfilename)\n",
    "awg1.load_awg_file(loadfrom)\n",
    "awg1.visa_handle.query('*IDN?')  # a dummy query to get the timing right\n",
    "t2 = time.time()\n",
    "print('Transferred and loaded {} {}-point waveforms in {:0.3f} seconds.'.format(noOfseqs, N, t2-t1))\n",
    "#awg1.load_awg_file(loadfrom)"
   ]
  },
  {
   "cell_type": "code",
   "execution_count": 26,
   "metadata": {
    "collapsed": false
   },
   "outputs": [],
   "source": [
    "awg1.set_sqel_goto_target_index(3, 4)"
   ]
  },
  {
   "cell_type": "code",
   "execution_count": 80,
   "metadata": {
    "collapsed": false
   },
   "outputs": [
    {
     "data": {
      "text/plain": [
       "'Running'"
      ]
     },
     "execution_count": 80,
     "metadata": {},
     "output_type": "execute_result"
    }
   ],
   "source": [
    "# we need this to run\n",
    "awg1.visa_handle.write('SOUR1:ROSC:SOUR INT')\n",
    "awg1.visa_handle.write('OUTP1 ON')\n",
    "awg1.run()"
   ]
  },
  {
   "cell_type": "code",
   "execution_count": null,
   "metadata": {
    "collapsed": true
   },
   "outputs": [],
   "source": []
  },
  {
   "cell_type": "code",
   "execution_count": 45,
   "metadata": {
    "collapsed": false
   },
   "outputs": [
    {
     "data": {
      "text/plain": [
       "(20, <StatusCode.success: 0>)"
      ]
     },
     "execution_count": 45,
     "metadata": {},
     "output_type": "execute_result"
    }
   ],
   "source": [
    "filename = 'manySinesINcreasingFreq.awg'\n",
    "loadfrom = '{}{}'.format(awg1.visa_handle.query('MMEMory:CDIRectory?').replace('\"','').replace('\\n', '\\\\'), filename)\n",
    "awg1.visa_handle.write('MMEM:IMP {},{}'.format('mylist', loadfrom))\n",
    "awg1.visa_handle.write('SOURce1:WAV {}'.format('mylist'))"
   ]
  },
  {
   "cell_type": "code",
   "execution_count": 16,
   "metadata": {
    "collapsed": true
   },
   "outputs": [],
   "source": [
    "awg1.stop()"
   ]
  },
  {
   "cell_type": "markdown",
   "metadata": {},
   "source": [
    "### Approach B"
   ]
  },
  {
   "cell_type": "code",
   "execution_count": 59,
   "metadata": {
    "collapsed": true
   },
   "outputs": [],
   "source": [
    "awg1.delete_all_waveforms_from_list()"
   ]
  },
  {
   "cell_type": "code",
   "execution_count": null,
   "metadata": {
    "collapsed": false
   },
   "outputs": [],
   "source": []
  },
  {
   "cell_type": "code",
   "execution_count": 60,
   "metadata": {
    "collapsed": false
   },
   "outputs": [
    {
     "name": "stderr",
     "output_type": "stream",
     "text": [
      "/Users/william/.pyenv/versions/anaconda3-4.1.1/envs/qcodesmaster/lib/python3.5/site-packages/ipykernel/__main__.py:5: DeprecationWarning: tostring() is deprecated. Use tobytes() instead.\n"
     ]
    },
    {
     "name": "stdout",
     "output_type": "stream",
     "text": [
      "Transferred 20 10000-point waveforms in 27.037 seconds.\n"
     ]
    }
   ],
   "source": [
    "noOfwfs = 20\n",
    "t1 = time.time()\n",
    "for ii in range(noOfwfs):\n",
    "    wfmname = 'hiswaveform{:03d}'.format(ii)\n",
    "    awg1.send_waveform_to_list(makesinewf(N, 1+ii), m1, m2, wfmname, silent=True)\n",
    "    awg1.set_sqel_waveform(wfmname, 1, ii+1)\n",
    "awg1.visa_handle.query('*IDN?')  # a dummy query to get the timing right\n",
    "t2 = time.time()\n",
    "print('Transferred {} {}-point waveforms in {:0.3f} seconds.'.format(noOfwfs, N, t2-t1))"
   ]
  },
  {
   "cell_type": "code",
   "execution_count": 58,
   "metadata": {
    "collapsed": false
   },
   "outputs": [
    {
     "name": "stdout",
     "output_type": "stream",
     "text": [
      "upload time:  0.0010411739349365234\n",
      "setting time:  0.298145055770874\n"
     ]
    }
   ],
   "source": [
    "awg1.upload_awg_file('testfile.awg', awg_file)"
   ]
  },
  {
   "cell_type": "code",
   "execution_count": 57,
   "metadata": {
    "collapsed": true
   },
   "outputs": [],
   "source": [
    "awg1._rem_file_path = '\\\\\\\\AWG-3289382193\\\\WaveformLib'"
   ]
  },
  {
   "cell_type": "code",
   "execution_count": 47,
   "metadata": {
    "collapsed": false
   },
   "outputs": [
    {
     "data": {
      "text/plain": [
       "'TEKTRONIX,AWG5014C,B051039,SCPI:99.0 FW:4.6.0.7 \\n'"
      ]
     },
     "execution_count": 47,
     "metadata": {},
     "output_type": "execute_result"
    }
   ],
   "source": [
    "awg1.visa_handle.query('*IDN?')"
   ]
  },
  {
   "cell_type": "code",
   "execution_count": null,
   "metadata": {
    "collapsed": true
   },
   "outputs": [],
   "source": []
  }
 ],
 "metadata": {
  "kernelspec": {
   "display_name": "Python 3",
   "language": "python",
   "name": "python3"
  },
  "language_info": {
   "codemirror_mode": {
    "name": "ipython",
    "version": 3
   },
   "file_extension": ".py",
   "mimetype": "text/x-python",
   "name": "python",
   "nbconvert_exporter": "python",
   "pygments_lexer": "ipython3",
   "version": "3.5.3"
  }
 },
 "nbformat": 4,
 "nbformat_minor": 0
}
