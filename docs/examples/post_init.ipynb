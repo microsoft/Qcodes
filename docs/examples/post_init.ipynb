{
 "cells": [
  {
   "cell_type": "markdown",
   "id": "e56da1f4",
   "metadata": {},
   "source": [
    "# The `__post_init__` method \n",
    "\n",
    "\n",
    "A new method `__post_init__` has been added to QCoDeS instruments. This method is called after the initialization of a (sub)class, even if this method has been defined in a base class. This notebook illustrates the mechanism "
   ]
  },
  {
   "cell_type": "code",
   "execution_count": 1,
   "id": "ed6d8c12",
   "metadata": {},
   "outputs": [],
   "source": [
    "from qcodes import Instrument "
   ]
  },
  {
   "cell_type": "code",
   "execution_count": 2,
   "id": "4cb8f17f",
   "metadata": {},
   "outputs": [],
   "source": [
    "class BaseClass(Instrument): \n",
    "    \n",
    "    def __post_init__(self, name): \n",
    "        super().__post_init__(name)  # Super will check: 1) if abstract parameters are implemented and 2) registering the instrument\n",
    "        print(\"This is __post_init__\")"
   ]
  },
  {
   "cell_type": "code",
   "execution_count": 3,
   "id": "5391eaa6",
   "metadata": {},
   "outputs": [],
   "source": [
    "class SubClass(BaseClass): \n",
    "    \n",
    "    def __init__(self, name): \n",
    "        super().__init__(name)\n",
    "        print(f\"Initializing {name}\")"
   ]
  },
  {
   "cell_type": "code",
   "execution_count": 4,
   "id": "9f1d3a27",
   "metadata": {},
   "outputs": [
    {
     "name": "stdout",
     "output_type": "stream",
     "text": [
      "Initializing hello\n",
      "This is __post_init__\n"
     ]
    },
    {
     "data": {
      "text/plain": [
       "<SubClass: hello>"
      ]
     },
     "execution_count": 4,
     "metadata": {},
     "output_type": "execute_result"
    }
   ],
   "source": [
    "SubClass(\"hello\")"
   ]
  },
  {
   "cell_type": "code",
   "execution_count": null,
   "id": "97b2255d",
   "metadata": {},
   "outputs": [],
   "source": []
  }
 ],
 "metadata": {
  "kernelspec": {
   "display_name": "Python 3",
   "language": "python",
   "name": "python3"
  },
  "language_info": {
   "codemirror_mode": {
    "name": "ipython",
    "version": 3
   },
   "file_extension": ".py",
   "mimetype": "text/x-python",
   "name": "python",
   "nbconvert_exporter": "python",
   "pygments_lexer": "ipython3",
   "version": "3.8.10"
  }
 },
 "nbformat": 4,
 "nbformat_minor": 5
}
