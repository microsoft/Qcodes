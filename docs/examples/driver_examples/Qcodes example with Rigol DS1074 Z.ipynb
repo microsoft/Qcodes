{
 "cells": [
  {
   "cell_type": "markdown",
   "metadata": {},
   "source": [
    "# QCoDeS Example with the Rigol DS 1074 Z Oscilloscope"
   ]
  },
  {
   "cell_type": "code",
   "execution_count": 1,
   "metadata": {},
   "outputs": [],
   "source": [
    "from qcodes.instrument_drivers.rigol import DS1074Z\n",
    "from qcodes.utils.validators import Arrays\n",
    "import visa"
   ]
  },
  {
   "cell_type": "code",
   "execution_count": 2,
   "metadata": {},
   "outputs": [
    {
     "name": "stdout",
     "output_type": "stream",
     "text": [
      "USB0::0x1AB1::0x04CE::DS1ZB161650342::INSTR\n"
     ]
    }
   ],
   "source": [
    "rm = visa.ResourceManager()\n",
    "# rm.list_resources()\n",
    "rigol_address = rm.list_resources()[0]\n",
    "print(rigol_address)\n"
   ]
  },
  {
   "cell_type": "code",
   "execution_count": 3,
   "metadata": {},
   "outputs": [
    {
     "ename": "NameError",
     "evalue": "name 'rigol' is not defined",
     "output_type": "error",
     "traceback": [
      "\u001b[1;31m---------------------------------------------------------------------------\u001b[0m",
      "\u001b[1;31mNameError\u001b[0m                                 Traceback (most recent call last)",
      "\u001b[1;32m<ipython-input-3-1dd948d50dbb>\u001b[0m in \u001b[0;36m<module>\u001b[1;34m\u001b[0m\n\u001b[1;32m----> 1\u001b[1;33m \u001b[0mrigol\u001b[0m\u001b[1;33m.\u001b[0m\u001b[0mclose\u001b[0m\u001b[1;33m(\u001b[0m\u001b[1;33m)\u001b[0m\u001b[1;33m\u001b[0m\u001b[1;33m\u001b[0m\u001b[0m\n\u001b[0m",
      "\u001b[1;31mNameError\u001b[0m: name 'rigol' is not defined"
     ]
    }
   ],
   "source": [
    "rigol.close()"
   ]
  },
  {
   "cell_type": "code",
   "execution_count": 4,
   "metadata": {},
   "outputs": [
    {
     "ename": "NameError",
     "evalue": "name 'Arrays' is not defined",
     "output_type": "error",
     "traceback": [
      "\u001b[1;31m---------------------------------------------------------------------------\u001b[0m",
      "\u001b[1;31mNameError\u001b[0m                                 Traceback (most recent call last)",
      "\u001b[1;32m<ipython-input-4-ecdbfe816a0d>\u001b[0m in \u001b[0;36m<module>\u001b[1;34m\u001b[0m\n\u001b[1;32m----> 1\u001b[1;33m \u001b[0mrigol\u001b[0m \u001b[1;33m=\u001b[0m \u001b[0mDS1074Z\u001b[0m\u001b[1;33m.\u001b[0m\u001b[0mRigolDrivers\u001b[0m\u001b[1;33m(\u001b[0m\u001b[1;34m'rigol'\u001b[0m\u001b[1;33m,\u001b[0m \u001b[0mrigol_address\u001b[0m\u001b[1;33m)\u001b[0m\u001b[1;33m\u001b[0m\u001b[1;33m\u001b[0m\u001b[0m\n\u001b[0m",
      "\u001b[1;32mc:\\users\\a-halakh\\documents\\microsoft\\qcodes\\qcodes\\instrument_drivers\\rigol\\DS1074Z.py\u001b[0m in \u001b[0;36m__init__\u001b[1;34m(self, name, address, timeout, **kwargs)\u001b[0m\n\u001b[0;32m     66\u001b[0m                            \u001b[0mlabel\u001b[0m\u001b[1;33m=\u001b[0m\u001b[1;34m'Time Axis'\u001b[0m\u001b[1;33m,\u001b[0m\u001b[1;33m\u001b[0m\u001b[1;33m\u001b[0m\u001b[0m\n\u001b[0;32m     67\u001b[0m                            \u001b[0mparameter_class\u001b[0m\u001b[1;33m=\u001b[0m\u001b[0mSetpointsTimeaxis\u001b[0m\u001b[1;33m,\u001b[0m\u001b[1;33m\u001b[0m\u001b[1;33m\u001b[0m\u001b[0m\n\u001b[1;32m---> 68\u001b[1;33m                            vals=Arrays(shape=(self.waveform_npoints.get_latest,)))\n\u001b[0m\u001b[0;32m     69\u001b[0m \u001b[1;33m\u001b[0m\u001b[0m\n\u001b[0;32m     70\u001b[0m         self.add_parameter('raw_trace',\n",
      "\u001b[1;31mNameError\u001b[0m: name 'Arrays' is not defined"
     ]
    }
   ],
   "source": [
    "rigol = DS1074Z.RigolDrivers('rigol', rigol_address)"
   ]
  },
  {
   "cell_type": "code",
   "execution_count": null,
   "metadata": {},
   "outputs": [],
   "source": [
    "rigol.visa_handle.query('*IDN?')"
   ]
  },
  {
   "cell_type": "code",
   "execution_count": null,
   "metadata": {},
   "outputs": [],
   "source": []
  },
  {
   "cell_type": "code",
   "execution_count": null,
   "metadata": {},
   "outputs": [],
   "source": [
    "rigol.channels.ch1.get_trace.prepare_curvedata()\n",
    "data = rigol.channels.ch1.get_trace.get()\n",
    "\n",
    "\n",
    "print(data)"
   ]
  },
  {
   "cell_type": "code",
   "execution_count": null,
   "metadata": {},
   "outputs": [],
   "source": [
    "from matplotlib import pyplot as plt\n",
    "plt.plot(data)"
   ]
  },
  {
   "cell_type": "code",
   "execution_count": null,
   "metadata": {},
   "outputs": [],
   "source": [
    "rigol.close()"
   ]
  },
  {
   "cell_type": "code",
   "execution_count": null,
   "metadata": {},
   "outputs": [],
   "source": [
    "rigol.trigger_mode('VIDeo')"
   ]
  },
  {
   "cell_type": "code",
   "execution_count": null,
   "metadata": {},
   "outputs": [],
   "source": [
    "rigol.trigger_level1(0.2)"
   ]
  },
  {
   "cell_type": "code",
   "execution_count": null,
   "metadata": {},
   "outputs": [],
   "source": [
    "rigol.root_instrument.write('TRIGger:PULSe:LEVel 0.7')"
   ]
  },
  {
   "cell_type": "code",
   "execution_count": null,
   "metadata": {},
   "outputs": [],
   "source": [
    "aa = 10\n",
    "print(f\"New {aa},{{}}\")b\n",
    "\n",
    "\n"
   ]
  },
  {
   "cell_type": "code",
   "execution_count": null,
   "metadata": {},
   "outputs": [],
   "source": [
    "import qcodes.instrument.sims as sims\n",
    "# path to the .yaml file containing the simulated instrument\n",
    "visalib = sims.__file__.replace('__init__.py', 'Rigol1074Z.yaml@sim')\n",
    "\n",
    "rigol_sim = RigolDrivers('rigol_sim',\n",
    "                          address='TCPIP0::0.0.0.0::inst0::INSTR',  # This matches the address in the .yaml file\n",
    "                          visalib=visalib\n",
    "                          )"
   ]
  }
 ],
 "metadata": {
  "kernelspec": {
   "display_name": "Python 3",
   "language": "python",
   "name": "python3"
  },
  "language_info": {
   "codemirror_mode": {
    "name": "ipython",
    "version": 3
   },
   "file_extension": ".py",
   "mimetype": "text/x-python",
   "name": "python",
   "nbconvert_exporter": "python",
   "pygments_lexer": "ipython3",
   "version": "3.6.8"
  }
 },
 "nbformat": 4,
 "nbformat_minor": 2
}
