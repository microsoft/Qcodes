{
 "cells": [
  {
   "cell_type": "markdown",
   "id": "marked-capability",
   "metadata": {},
   "source": [
    "# Example with Copper Mountain Model M5065 Vector Network Analyzer\n",
    "This notebook was adapted from `qcodes_contrib_drivers` for Copper Mountain M5180. "
   ]
  },
  {
   "cell_type": "code",
   "execution_count": null,
   "id": "placed-maldives",
   "metadata": {},
   "outputs": [],
   "source": [
    "import qcodes as qc\n",
    "from qcodes.dataset import (\n",
    "    Measurement,\n",
    "    load_or_create_experiment,\n",
    "    plot_by_id,\n",
    ")\n",
    "from qcodes.instrument_drivers.CopperMountain import CopperMountainM5065\n",
    "from qcodes.station import Station"
   ]
  },
  {
   "cell_type": "markdown",
   "id": "likely-steps",
   "metadata": {},
   "source": [
    "## Connecting to device"
   ]
  },
  {
   "cell_type": "markdown",
   "id": "statewide-carroll",
   "metadata": {},
   "source": [
    "- Install connection software S2VN, download here: https://coppermountaintech.com/download-free-vna-software-and-documentation/\n",
    "- Run the software and go to System > Misc Setup > Network Remote Control Settings and turn on HiSLIP Server"
   ]
  },
  {
   "cell_type": "code",
   "execution_count": 2,
   "id": "first-bacon",
   "metadata": {},
   "outputs": [
    {
     "name": "stdout",
     "output_type": "stream",
     "text": [
      "Connected to: CMT M5065 (serial:23047001, firmware:25.3.1/2) in 0.18s\n"
     ]
    }
   ],
   "source": [
    "vna = CopperMountainM5065(\n",
    "    name=\"M5065\",\n",
    "    address=\"TCPIP0::localhost::hislip0::INSTR\",\n",
    "    # pyvisa_sim_file=\"CopperMountain_M5065.yaml\",\n",
    ")"
   ]
  },
  {
   "cell_type": "code",
   "execution_count": 3,
   "id": "expected-chorus",
   "metadata": {},
   "outputs": [
    {
     "name": "stdout",
     "output_type": "stream",
     "text": [
      "M5065:\n",
      "\tparameter                value\n",
      "--------------------------------------------------------------------------------\n",
      "IDN                       :\t{'vendor': 'CMT', 'model': 'M5065', 'serial': '23...\n",
      "averages                  :\t1 \n",
      "averages_enabled          :\tFalse \n",
      "averages_trigger_enabled  :\tFalse \n",
      "center                    :\t1.5005e+09 (Hz)\n",
      "clock_source              :\tINT \n",
      "data_transfer_format      :\tASC \n",
      "electrical_delay          :\t0 (s)\n",
      "electrical_distance       :\t0 \n",
      "electrical_distance_units :\tMET \n",
      "if_bandwidth              :\t10000 (Hz)\n",
      "number_of_points          :\t20001 \n",
      "number_of_traces          :\t1 \n",
      "output                    :\tTrue \n",
      "point_check_sweep_first   :\tTrue \n",
      "point_s11                 :\tNot available (('dB', 'rad'))\n",
      "point_s11_iq              :\tNot available (('V', 'V'))\n",
      "point_s12                 :\tNot available (('dB', 'rad'))\n",
      "point_s12_iq              :\tNot available (('V', 'V'))\n",
      "point_s21                 :\tNot available (('dB', 'rad'))\n",
      "point_s21_iq              :\tNot available (('V', 'V'))\n",
      "point_s22                 :\tNot available (('dB', 'rad'))\n",
      "point_s22_iq              :\tNot available (('V', 'V'))\n",
      "power                     :\t-20 (dBm)\n",
      "s11                       :\tNot available (('dB', 'rad'))\n",
      "s12                       :\tNot available (('dB', 'rad'))\n",
      "s21                       :\tNot available (('dB', 'rad'))\n",
      "s22                       :\tNot available (('dB', 'rad'))\n",
      "span                      :\t2.999e+09 (Hz)\n",
      "start                     :\t1e+06 (Hz)\n",
      "stop                      :\t3e+09 (Hz)\n",
      "timeout                   :\t5 (s)\n",
      "trigger_source            :\tbus \n"
     ]
    }
   ],
   "source": [
    "# Let's look at all parameters\n",
    "vna.print_readable_snapshot(update=True)"
   ]
  },
  {
   "cell_type": "markdown",
   "id": "emerging-improvement",
   "metadata": {},
   "source": [
    "## Setup db and station for test measurement"
   ]
  },
  {
   "cell_type": "code",
   "execution_count": 4,
   "id": "rural-genealogy",
   "metadata": {},
   "outputs": [],
   "source": [
    "# create an empty database based on the config file\n",
    "qc.initialise_or_create_database_at(\"./test_copper_mountain.db\")"
   ]
  },
  {
   "cell_type": "code",
   "execution_count": 5,
   "id": "recreational-fight",
   "metadata": {},
   "outputs": [],
   "source": [
    "exp = load_or_create_experiment(\n",
    "    experiment_name=\"testing_coppermountain_driver\", sample_name=\"band_pass_filter\"\n",
    ")"
   ]
  },
  {
   "cell_type": "code",
   "execution_count": 6,
   "id": "marine-dependence",
   "metadata": {},
   "outputs": [],
   "source": [
    "station = Station(vna)"
   ]
  },
  {
   "cell_type": "markdown",
   "id": "boring-router",
   "metadata": {},
   "source": [
    "## Measure a trace"
   ]
  },
  {
   "cell_type": "code",
   "execution_count": 7,
   "id": "a9512c3f",
   "metadata": {},
   "outputs": [
    {
     "data": {
      "text/plain": [
       "True"
      ]
     },
     "execution_count": 7,
     "metadata": {},
     "output_type": "execute_result"
    }
   ],
   "source": [
    "vna.output(\"on\")\n",
    "vna.output()"
   ]
  },
  {
   "cell_type": "code",
   "execution_count": 8,
   "id": "stretch-survey",
   "metadata": {},
   "outputs": [
    {
     "name": "stdout",
     "output_type": "stream",
     "text": [
      "Starting experimental run with id: 25. \n"
     ]
    },
    {
     "data": {
      "image/png": "[encoded data removed]",
      "text/plain": [
       "<Figure size 640x480 with 1 Axes>"
      ]
     },
     "metadata": {},
     "output_type": "display_data"
    },
    {
     "data": {
      "image/png": "[encoded data removed]",
      "text/plain": [
       "<Figure size 640x480 with 1 Axes>"
      ]
     },
     "metadata": {},
     "output_type": "display_data"
    }
   ],
   "source": [
    "# define sweep parameters\n",
    "vna.power(-20)\n",
    "vna.start(1e6)\n",
    "vna.stop(3e9)\n",
    "vna.if_bandwidth(10e3)\n",
    "vna.number_of_points(20001)\n",
    "vna.averages(1)\n",
    "# do measurement\n",
    "meas = Measurement()\n",
    "meas.register_parameter(vna.s12)\n",
    "with meas.run() as datasaver:\n",
    "    datasaver.add_result((vna.s12, vna.s12()))\n",
    "ax, cbax = plot_by_id(datasaver.run_id)"
   ]
  },
  {
   "cell_type": "code",
   "execution_count": 9,
   "id": "exterior-moderator",
   "metadata": {},
   "outputs": [
    {
     "data": {
      "text/plain": [
       "(array([82.1142175 , 81.74179361, 80.38084766, ..., 33.97456303,\n",
       "        33.97145905, 33.96556393], shape=(20001,)),\n",
       " array([2.03514392, 2.01984594, 2.00457608, ..., 7.84812106, 7.84901558,\n",
       "        7.84869966], shape=(20001,)))"
      ]
     },
     "execution_count": 9,
     "metadata": {},
     "output_type": "execute_result"
    }
   ],
   "source": [
    "# Similarly, other S-parameters can be queried\n",
    "# You can adjust timeout for this readout\n",
    "vna.s11.expected_measurement_duration = 10\n",
    "vna.s11()"
   ]
  },
  {
   "cell_type": "code",
   "execution_count": 10,
   "id": "least-blond",
   "metadata": {},
   "outputs": [
    {
     "data": {
      "text/plain": [
       "(array([33.9795659 , 33.98037392, 33.9820946 , ..., 33.98130005,\n",
       "        33.97711595, 33.98358254], shape=(20001,)),\n",
       " array([-2.08920742e-04,  2.49323629e-04, -7.89651091e-05, ...,\n",
       "        -1.89000733e-04, -1.79122898e-04,  4.18676453e-05], shape=(20001,)))"
      ]
     },
     "execution_count": 10,
     "metadata": {},
     "output_type": "execute_result"
    }
   ],
   "source": [
    "vna.s12()"
   ]
  },
  {
   "cell_type": "code",
   "execution_count": 11,
   "id": "interesting-patio",
   "metadata": {},
   "outputs": [
    {
     "data": {
      "text/plain": [
       "(array([33.97408726, 33.97570971, 33.97630215, ..., 33.98022391,\n",
       "        33.97864568, 33.98065543], shape=(20001,)),\n",
       " array([ 8.78057118e-04, -3.84383111e-04, -6.43808442e-05, ...,\n",
       "        -4.45802076e-05,  5.30024955e-04,  2.71436077e-05], shape=(20001,)))"
      ]
     },
     "execution_count": 11,
     "metadata": {},
     "output_type": "execute_result"
    }
   ],
   "source": [
    "vna.s21()"
   ]
  },
  {
   "cell_type": "code",
   "execution_count": 12,
   "id": "australian-train",
   "metadata": {},
   "outputs": [
    {
     "data": {
      "text/plain": [
       "(array([89.89650535, 89.69712863, 89.20461986, ..., 34.16479312,\n",
       "        34.15900693, 34.15846294], shape=(20001,)),\n",
       " array([1.94692467, 2.15990451, 1.71385015, ..., 7.84301757, 7.8431395 ,\n",
       "        7.84116435], shape=(20001,)))"
      ]
     },
     "execution_count": 12,
     "metadata": {},
     "output_type": "execute_result"
    }
   ],
   "source": [
    "vna.s22()"
   ]
  },
  {
   "cell_type": "code",
   "execution_count": null,
   "id": "future-airplane",
   "metadata": {},
   "outputs": [
    {
     "data": {
      "text/plain": [
       "(array([1.00000000e+06, 1.14995000e+06, 1.29990000e+06, ...,\n",
       "        2.99970010e+09, 2.99985005e+09, 3.00000000e+09], shape=(20001,)),\n",
       " array([81.63173963, 80.21952973, 79.86603951, ..., 33.96683443,\n",
       "        33.96546837, 33.96769004], shape=(20001,)),\n",
       " array([2.01220828, 2.08481913, 1.98984455, ..., 1.56537965, 1.56609028,\n",
       "        1.56543696], shape=(20001,)),\n",
       " array([33.98020621, 33.97598949, 33.98162237, ..., 33.98093219,\n",
       "        33.98084072, 33.9834819 ], shape=(20001,)),\n",
       " array([-1.43353918e-04,  9.10737707e-05, -1.75436670e-04, ...,\n",
       "        -5.61952435e-04,  2.26743333e-04,  1.55254866e-04], shape=(20001,)),\n",
       " array([33.98207054, 33.97761144, 33.97855542, ..., 33.97881435,\n",
       "        33.97587875, 33.97615409], shape=(20001,)),\n",
       " array([ 6.88199532e-05, -5.49355666e-04,  6.30545266e-04, ...,\n",
       "         1.85116794e-04, -4.69559139e-04,  4.00852304e-04], shape=(20001,)),\n",
       " array([87.71192885, 91.64798619, 85.2788406 , ..., 34.16512636,\n",
       "        34.15921655, 34.15937025], shape=(20001,)),\n",
       " array([1.78109583, 2.17443511, 1.73011219, ..., 1.55914052, 1.56001108,\n",
       "        1.55994669], shape=(20001,)))"
      ]
     },
     "execution_count": 13,
     "metadata": {},
     "output_type": "execute_result"
    }
   ],
   "source": [
    "# or all S-parameters at once. Attention this is not a qcodes parameter\n",
    "vna.get_s_parameters(expected_measurement_duration=10)"
   ]
  },
  {
   "cell_type": "markdown",
   "id": "unnecessary-coordinate",
   "metadata": {},
   "source": [
    "## Look at the names and the labels of the Sxx parameters"
   ]
  },
  {
   "cell_type": "code",
   "execution_count": 14,
   "id": "burning-tuition",
   "metadata": {},
   "outputs": [
    {
     "data": {
      "text/plain": [
       "('M5065 s11 magnitude', 'M5065 s11 phase')"
      ]
     },
     "execution_count": 14,
     "metadata": {},
     "output_type": "execute_result"
    }
   ],
   "source": [
    "vna.s11.labels"
   ]
  },
  {
   "cell_type": "code",
   "execution_count": 15,
   "id": "plain-frederick",
   "metadata": {},
   "outputs": [
    {
     "data": {
      "text/plain": [
       "('M5065_s11_magnitude', 'M5065_s11_phase')"
      ]
     },
     "execution_count": 15,
     "metadata": {},
     "output_type": "execute_result"
    }
   ],
   "source": [
    "vna.s11.names"
   ]
  },
  {
   "cell_type": "code",
   "execution_count": 16,
   "id": "circular-attack",
   "metadata": {},
   "outputs": [
    {
     "data": {
      "text/plain": [
       "(('M5065 frequency',), ('M5065 frequency',))"
      ]
     },
     "execution_count": 16,
     "metadata": {},
     "output_type": "execute_result"
    }
   ],
   "source": [
    "vna.s11.setpoint_labels"
   ]
  },
  {
   "cell_type": "code",
   "execution_count": 17,
   "id": "comparable-salem",
   "metadata": {},
   "outputs": [
    {
     "data": {
      "text/plain": [
       "(('M5065_frequency',), ('M5065_frequency',))"
      ]
     },
     "execution_count": 17,
     "metadata": {},
     "output_type": "execute_result"
    }
   ],
   "source": [
    "vna.s11.setpoint_names"
   ]
  },
  {
   "cell_type": "markdown",
   "id": "7e1fe8dd",
   "metadata": {},
   "source": [
    "### Close the Connection"
   ]
  },
  {
   "cell_type": "code",
   "execution_count": 18,
   "id": "599755aa",
   "metadata": {},
   "outputs": [],
   "source": [
    "vna.close()"
   ]
  }
 ],
 "metadata": {
  "kernelspec": {
   "display_name": "qcodes",
   "language": "python",
   "name": "python3"
  },
  "language_info": {
   "codemirror_mode": {
    "name": "ipython",
    "version": 3
   },
   "file_extension": ".py",
   "mimetype": "text/x-python",
   "name": "python",
   "nbconvert_exporter": "python",
   "pygments_lexer": "ipython3",
   "version": "3.13.5"
  },
  "nbsphinx": {
   "execute": "never"
  },
  "toc": {
   "base_numbering": 1,
   "nav_menu": {},
   "number_sections": true,
   "sideBar": true,
   "skip_h1_title": false,
   "title_cell": "Table of Contents",
   "title_sidebar": "Contents",
   "toc_cell": false,
   "toc_position": {},
   "toc_section_display": true,
   "toc_window_display": false
  }
 },
 "nbformat": 4,
 "nbformat_minor": 5
}
