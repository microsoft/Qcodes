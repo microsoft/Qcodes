{
 "cells": [
  {
   "cell_type": "markdown",
   "metadata": {},
   "source": [
    "# Simple Example of ParameterWithSetpoints\n",
    "This notebook has an example of writing a simple driver with a parameter that has setpoints. This is most likely to be useful for instruments that return arrays of results. In this notebook we will show an example of this."
   ]
  },
  {
   "cell_type": "code",
   "execution_count": 1,
   "metadata": {},
   "outputs": [],
   "source": [
    "import numpy as np"
   ]
  },
  {
   "cell_type": "code",
   "execution_count": 2,
   "metadata": {},
   "outputs": [],
   "source": [
    "from qcodes.dataset.plotting import plot_by_id\n",
    "from qcodes.utils.validators import Numbers, Arrays\n",
    "from qcodes.instrument.base import Instrument\n",
    "from qcodes.dataset.measurements import Measurement"
   ]
  },
  {
   "cell_type": "code",
   "execution_count": 3,
   "metadata": {},
   "outputs": [],
   "source": [
    "from qcodes.dataset.database import initialise_database\n",
    "from qcodes.dataset.experiment_container import new_experiment"
   ]
  },
  {
   "cell_type": "code",
   "execution_count": 4,
   "metadata": {},
   "outputs": [],
   "source": [
    "from qcodes.instrument.parameter import ParameterWithSetpoints, Parameter\n",
    "from qcodes.instrument.parameter import expand_setpoints_helper"
   ]
  },
  {
   "cell_type": "markdown",
   "metadata": {},
   "source": [
    "Here we define an dummy instrument that returns something like a frequency spectrum from a starting frequency give by `f_start` to a stop frequency given by `f_stop`\n",
    "in `n_points` steps. \n",
    "\n",
    "The extra functionality of the ParameterWithSetpoints is implemented by giving it a reference to one or more parameters that acts like its setpoints. To setup a `ParameterWithSetpoints` we have to do two things in addition to what we do for a normal parameter.\n",
    "\n",
    "* Define one or more parameter for the setpoints (one for each dimmension of the array and let the `ParameterWithSetpoints` know that these are the setpoints.\n",
    "* Give both the setpoints parameter(s) and the `ParameterWithSetpoints` a validator of type `Arrays` with a shape. The shapes should be such that the combined shape of the setpoints matches the shape of the ParameterWithSetpoints. Note that the shape may change with setting of the instrument the shape can be defined by another parameter as shown below. \n",
    "\n"
   ]
  },
  {
   "cell_type": "code",
   "execution_count": 5,
   "metadata": {},
   "outputs": [],
   "source": [
    "class GeneratedSetPoints(Parameter):\n",
    "    \"\"\"\n",
    "    A parameter that generates a setpoint array from start, stop and num points\n",
    "    parameters.\n",
    "    \"\"\"\n",
    "    def __init__(self, startparam, stopparam, numpointsparam, *args, **kwargs):\n",
    "        super().__init__(*args, **kwargs)\n",
    "        self._startparam = startparam\n",
    "        self._stopparam = stopparam\n",
    "        self._numpointsparam = numpointsparam\n",
    "\n",
    "    def get_raw(self):\n",
    "        return np.linspace(self._startparam(), self._stopparam(),\n",
    "                              self._numpointsparam())\n",
    "\n",
    "class DummyArray(ParameterWithSetpoints):\n",
    "    \n",
    "    def get_raw(self):\n",
    "        npoints = self.root_instrument.n_points.get_latest()\n",
    "        return np.random.rand(npoints)\n",
    "    \n",
    "\n",
    "class DummySpectrumAnalyzer(Instrument):\n",
    "    \n",
    "    def __init__(self, name, **kwargs):\n",
    "        \n",
    "        super().__init__(name, **kwargs)\n",
    "            \n",
    "\n",
    "        self.add_parameter('f_start',\n",
    "                           initial_value=0,\n",
    "                           unit='Hz',\n",
    "                           label='f start',\n",
    "                           vals=Numbers(0,1e3),\n",
    "                           get_cmd=None,\n",
    "                           set_cmd=None)\n",
    "\n",
    "        self.add_parameter('f_stop',\n",
    "                           unit='Hz',\n",
    "                           label='f stop',\n",
    "                           vals=Numbers(1,1e3),\n",
    "                           get_cmd=None,\n",
    "                           set_cmd=None)\n",
    "\n",
    "        self.add_parameter('n_points',\n",
    "                           unit='',\n",
    "                           initial_value=10,\n",
    "                           vals=Numbers(1,1e3),\n",
    "                           get_cmd=None,\n",
    "                           set_cmd=None)\n",
    "        \n",
    "        self.add_parameter('freq_axis',\n",
    "                           unit='Hz',\n",
    "                           label='Freq Axis',\n",
    "                           parameter_class=GeneratedSetPoints,\n",
    "                           startparam=self.f_start,\n",
    "                           stopparam=self.f_stop,\n",
    "                           numpointsparam=self.n_points,\n",
    "                           vals=Arrays(shape=(self.n_points.get_latest,)))\n",
    "                           \n",
    "        self.add_parameter('spectrum',\n",
    "                   unit='dBm',\n",
    "                   setpoints=(self.freq_axis,),\n",
    "                   label='Spectrum',\n",
    "                   parameter_class=DummyArray,\n",
    "                   vals=Arrays(shape=(self.n_points.get_latest,)))\n",
    "                "
   ]
  },
  {
   "cell_type": "markdown",
   "metadata": {},
   "source": [
    "In the above exampel the shape is defined by the parameter `n_points` that defines how many samples our \"SpectrumAnalyzer\" returns."
   ]
  },
  {
   "cell_type": "markdown",
   "metadata": {},
   "source": [
    "This means that the validation will call the function to get `n_points` twice for each get of the parameter. This may be too slow however if you (as the driver writer) can guarantee that the cached value for `n_points` will never be out of sync with the value stored in the instrument `n_points` may be replaced by it's latest known value such that the validator reads. \n",
    "```python\n",
    "vals=Arrays(shape=(self.n_points.get_latest))\n",
    "```\n",
    "\n",
    "This avoids any additional call to the instrument. In the same way the arguments to the `freq_axis` parameter that defines the start, stop and number of points can be replaced by their latest value if the instrument allows it.\n",
    "\n"
   ]
  },
  {
   "cell_type": "code",
   "execution_count": 6,
   "metadata": {},
   "outputs": [
    {
     "data": {
      "text/plain": [
       "tutorial_exp#no sample#117@C:\\Users\\jenielse/experiments.db\n",
       "-----------------------------------------------------------"
      ]
     },
     "execution_count": 6,
     "metadata": {},
     "output_type": "execute_result"
    }
   ],
   "source": [
    "initialise_database()\n",
    "new_experiment(name='tutorial_exp', sample_name=\"no sample\")"
   ]
  },
  {
   "cell_type": "code",
   "execution_count": 7,
   "metadata": {},
   "outputs": [],
   "source": [
    "a = DummySpectrumAnalyzer('foobar')"
   ]
  },
  {
   "cell_type": "markdown",
   "metadata": {},
   "source": [
    "First we setup the limits of the spectrum"
   ]
  },
  {
   "cell_type": "code",
   "execution_count": 8,
   "metadata": {},
   "outputs": [],
   "source": [
    "a.f_start(0)\n",
    "a.f_stop(500)\n",
    "a.n_points(501)"
   ]
  },
  {
   "cell_type": "markdown",
   "metadata": {},
   "source": [
    "And we can grab the frequency axis"
   ]
  },
  {
   "cell_type": "code",
   "execution_count": 9,
   "metadata": {},
   "outputs": [
    {
     "data": {
      "text/plain": [
       "501"
      ]
     },
     "execution_count": 9,
     "metadata": {},
     "output_type": "execute_result"
    }
   ],
   "source": [
    "a.n_points()"
   ]
  },
  {
   "cell_type": "code",
   "execution_count": 10,
   "metadata": {
    "scrolled": false
   },
   "outputs": [
    {
     "data": {
      "text/plain": [
       "501"
      ]
     },
     "execution_count": 10,
     "metadata": {},
     "output_type": "execute_result"
    }
   ],
   "source": [
    "freq_axis = a.freq_axis()\n",
    "len(freq_axis)"
   ]
  },
  {
   "cell_type": "code",
   "execution_count": 11,
   "metadata": {},
   "outputs": [
    {
     "data": {
      "text/plain": [
       "array([0., 1., 2., 3., 4., 5., 6., 7., 8., 9.])"
      ]
     },
     "execution_count": 11,
     "metadata": {},
     "output_type": "execute_result"
    }
   ],
   "source": [
    "freq_axis[:10]"
   ]
  },
  {
   "cell_type": "markdown",
   "metadata": {},
   "source": [
    "As expected we get a result wit 501 points as we asked for an axis with 501 points. "
   ]
  },
  {
   "cell_type": "markdown",
   "metadata": {},
   "source": [
    "Above we have added a validator to the `freq_axis` parameter encoding the fact that this is an Array with `n_points`. Note that we do not have to supply the number of points as an integer but can supply a function that returns the valid number of points. This would normally be a QCoDeS parameter.\n",
    "\n",
    "This will be checked if we validate the output."
   ]
  },
  {
   "cell_type": "code",
   "execution_count": 12,
   "metadata": {},
   "outputs": [],
   "source": [
    "a.freq_axis.validate(a.freq_axis.get())"
   ]
  },
  {
   "cell_type": "markdown",
   "metadata": {},
   "source": [
    "Naturally we can also grap the spectrum. Getting the spectrum will automatically perform validation both for the shape of the parameter it self and the relation to the setpoint parameter(s)"
   ]
  },
  {
   "cell_type": "code",
   "execution_count": 13,
   "metadata": {
    "scrolled": true
   },
   "outputs": [
    {
     "data": {
      "text/plain": [
       "501"
      ]
     },
     "execution_count": 13,
     "metadata": {},
     "output_type": "execute_result"
    }
   ],
   "source": [
    "spectrum = a.spectrum.get()\n",
    "len(spectrum)"
   ]
  },
  {
   "cell_type": "markdown",
   "metadata": {},
   "source": [
    "When we validate a ParameterWithSetpoints we automatically validate that the shape is consistent between the parameters and its setpoints. As well as validating the shape as above."
   ]
  },
  {
   "cell_type": "code",
   "execution_count": 14,
   "metadata": {},
   "outputs": [],
   "source": [
    "a.spectrum.validate(a.spectrum.get())"
   ]
  },
  {
   "cell_type": "markdown",
   "metadata": {},
   "source": [
    "The consistent shapes can be validated explicitly."
   ]
  },
  {
   "cell_type": "code",
   "execution_count": 15,
   "metadata": {},
   "outputs": [],
   "source": [
    "a.spectrum.validate_consistent_shape()"
   ]
  },
  {
   "cell_type": "markdown",
   "metadata": {},
   "source": [
    "We can inspect the setpoints of the spectrum."
   ]
  },
  {
   "cell_type": "code",
   "execution_count": 16,
   "metadata": {},
   "outputs": [
    {
     "data": {
      "text/plain": [
       "(<__main__.GeneratedSetPoints: freq_axis at 2072579745664>,)"
      ]
     },
     "execution_count": 16,
     "metadata": {},
     "output_type": "execute_result"
    }
   ],
   "source": [
    "a.spectrum.setpoints"
   ]
  },
  {
   "cell_type": "markdown",
   "metadata": {},
   "source": [
    "Or even change them."
   ]
  },
  {
   "cell_type": "code",
   "execution_count": 17,
   "metadata": {},
   "outputs": [],
   "source": [
    "a.spectrum.setpoints = (a.freq_axis,)"
   ]
  },
  {
   "cell_type": "markdown",
   "metadata": {},
   "source": [
    "## Measurement"
   ]
  },
  {
   "cell_type": "markdown",
   "metadata": {},
   "source": [
    "We can also directly consume the parameter in a measurement."
   ]
  },
  {
   "cell_type": "code",
   "execution_count": 18,
   "metadata": {},
   "outputs": [
    {
     "name": "stdout",
     "output_type": "stream",
     "text": [
      "Starting experimental run with id: 336\n"
     ]
    }
   ],
   "source": [
    "meas = Measurement()\n",
    "meas.register_parameter(a.spectrum)\n",
    "\n",
    "with meas.run() as datasaver:\n",
    "    datasaver.add_result((a.freq_axis, a.freq_axis()),\n",
    "                         (a.spectrum, a.spectrum()))\n",
    "    \n",
    "    dataid = datasaver.run_id"
   ]
  },
  {
   "cell_type": "markdown",
   "metadata": {},
   "source": [
    "And plot it"
   ]
  },
  {
   "cell_type": "code",
   "execution_count": 19,
   "metadata": {},
   "outputs": [
    {
     "data": {
      "text/plain": [
       "([<matplotlib.axes._subplots.AxesSubplot at 0x1e28f64dc50>], [None])"
      ]
     },
     "execution_count": 19,
     "metadata": {},
     "output_type": "execute_result"
    },
    {
     "data": {
      "image/png": "[encoded data removed]",
      "text/plain": [
       "<Figure size 432x288 with 1 Axes>"
      ]
     },
     "metadata": {
      "needs_background": "light"
     },
     "output_type": "display_data"
    }
   ],
   "source": [
    "plot_by_id(dataid)"
   ]
  },
  {
   "cell_type": "markdown",
   "metadata": {},
   "source": [
    "To reduce the amount of typing a simple convenicen function is provided that will take a `ParameterWithSetpoints` and get both its values and the setpoints values and return them as tuples for direct insertion into the Dataset."
   ]
  },
  {
   "cell_type": "code",
   "execution_count": 20,
   "metadata": {
    "scrolled": true
   },
   "outputs": [
    {
     "data": {
      "text/plain": [
       "[(<__main__.GeneratedSetPoints: freq_axis at 2072579745664>,\n",
       "  array([  0.,   1.,   2.,   3.,   4.,   5.,   6.,   7.,   8.,   9.,  10.,\n",
       "          11.,  12.,  13.,  14.,  15.,  16.,  17.,  18.,  19.,  20.,  21.,\n",
       "          22.,  23.,  24.,  25.,  26.,  27.,  28.,  29.,  30.,  31.,  32.,\n",
       "          33.,  34.,  35.,  36.,  37.,  38.,  39.,  40.,  41.,  42.,  43.,\n",
       "          44.,  45.,  46.,  47.,  48.,  49.,  50.,  51.,  52.,  53.,  54.,\n",
       "          55.,  56.,  57.,  58.,  59.,  60.,  61.,  62.,  63.,  64.,  65.,\n",
       "          66.,  67.,  68.,  69.,  70.,  71.,  72.,  73.,  74.,  75.,  76.,\n",
       "          77.,  78.,  79.,  80.,  81.,  82.,  83.,  84.,  85.,  86.,  87.,\n",
       "          88.,  89.,  90.,  91.,  92.,  93.,  94.,  95.,  96.,  97.,  98.,\n",
       "          99., 100., 101., 102., 103., 104., 105., 106., 107., 108., 109.,\n",
       "         110., 111., 112., 113., 114., 115., 116., 117., 118., 119., 120.,\n",
       "         121., 122., 123., 124., 125., 126., 127., 128., 129., 130., 131.,\n",
       "         132., 133., 134., 135., 136., 137., 138., 139., 140., 141., 142.,\n",
       "         143., 144., 145., 146., 147., 148., 149., 150., 151., 152., 153.,\n",
       "         154., 155., 156., 157., 158., 159., 160., 161., 162., 163., 164.,\n",
       "         165., 166., 167., 168., 169., 170., 171., 172., 173., 174., 175.,\n",
       "         176., 177., 178., 179., 180., 181., 182., 183., 184., 185., 186.,\n",
       "         187., 188., 189., 190., 191., 192., 193., 194., 195., 196., 197.,\n",
       "         198., 199., 200., 201., 202., 203., 204., 205., 206., 207., 208.,\n",
       "         209., 210., 211., 212., 213., 214., 215., 216., 217., 218., 219.,\n",
       "         220., 221., 222., 223., 224., 225., 226., 227., 228., 229., 230.,\n",
       "         231., 232., 233., 234., 235., 236., 237., 238., 239., 240., 241.,\n",
       "         242., 243., 244., 245., 246., 247., 248., 249., 250., 251., 252.,\n",
       "         253., 254., 255., 256., 257., 258., 259., 260., 261., 262., 263.,\n",
       "         264., 265., 266., 267., 268., 269., 270., 271., 272., 273., 274.,\n",
       "         275., 276., 277., 278., 279., 280., 281., 282., 283., 284., 285.,\n",
       "         286., 287., 288., 289., 290., 291., 292., 293., 294., 295., 296.,\n",
       "         297., 298., 299., 300., 301., 302., 303., 304., 305., 306., 307.,\n",
       "         308., 309., 310., 311., 312., 313., 314., 315., 316., 317., 318.,\n",
       "         319., 320., 321., 322., 323., 324., 325., 326., 327., 328., 329.,\n",
       "         330., 331., 332., 333., 334., 335., 336., 337., 338., 339., 340.,\n",
       "         341., 342., 343., 344., 345., 346., 347., 348., 349., 350., 351.,\n",
       "         352., 353., 354., 355., 356., 357., 358., 359., 360., 361., 362.,\n",
       "         363., 364., 365., 366., 367., 368., 369., 370., 371., 372., 373.,\n",
       "         374., 375., 376., 377., 378., 379., 380., 381., 382., 383., 384.,\n",
       "         385., 386., 387., 388., 389., 390., 391., 392., 393., 394., 395.,\n",
       "         396., 397., 398., 399., 400., 401., 402., 403., 404., 405., 406.,\n",
       "         407., 408., 409., 410., 411., 412., 413., 414., 415., 416., 417.,\n",
       "         418., 419., 420., 421., 422., 423., 424., 425., 426., 427., 428.,\n",
       "         429., 430., 431., 432., 433., 434., 435., 436., 437., 438., 439.,\n",
       "         440., 441., 442., 443., 444., 445., 446., 447., 448., 449., 450.,\n",
       "         451., 452., 453., 454., 455., 456., 457., 458., 459., 460., 461.,\n",
       "         462., 463., 464., 465., 466., 467., 468., 469., 470., 471., 472.,\n",
       "         473., 474., 475., 476., 477., 478., 479., 480., 481., 482., 483.,\n",
       "         484., 485., 486., 487., 488., 489., 490., 491., 492., 493., 494.,\n",
       "         495., 496., 497., 498., 499., 500.])),\n",
       " (<__main__.DummyArray: spectrum at 2072579987216>,\n",
       "  array([0.86536747, 0.29859039, 0.82084698, 0.91368057, 0.61455324,\n",
       "         0.18364267, 0.45377498, 0.35979627, 0.62712436, 0.89225127,\n",
       "         0.56338498, 0.95169498, 0.82175451, 0.74232618, 0.32913868,\n",
       "         0.4578325 , 0.59966019, 0.03037177, 0.57714132, 0.15786797,\n",
       "         0.2219711 , 0.44814167, 0.88315066, 0.13859247, 0.15520284,\n",
       "         0.20253144, 0.64010047, 0.75656851, 0.17718142, 0.45524419,\n",
       "         0.54346346, 0.04026371, 0.34179898, 0.70339426, 0.57158973,\n",
       "         0.16625723, 0.5396359 , 0.67015621, 0.90118115, 0.62925947,\n",
       "         0.45778511, 0.80610395, 0.68532727, 0.54664685, 0.14305383,\n",
       "         0.13837366, 0.95450493, 0.44825993, 0.81401483, 0.5602484 ,\n",
       "         0.05639603, 0.91964763, 0.95340865, 0.67262527, 0.57929841,\n",
       "         0.92678493, 0.91057785, 0.60835531, 0.64508078, 0.46733969,\n",
       "         0.67270952, 0.76534444, 0.12477741, 0.39255348, 0.74525787,\n",
       "         0.04693258, 0.9077846 , 0.92526121, 0.39263387, 0.04583623,\n",
       "         0.2141725 , 0.63754963, 0.24370497, 0.74339238, 0.92659933,\n",
       "         0.85174213, 0.12495432, 0.00990371, 0.12062237, 0.88099688,\n",
       "         0.82721913, 0.65281902, 0.0367411 , 0.71886092, 0.35385878,\n",
       "         0.70060947, 0.95994385, 0.43580015, 0.6963726 , 0.82638215,\n",
       "         0.80941677, 0.43222015, 0.10094638, 0.86046065, 0.98778208,\n",
       "         0.61608976, 0.62403534, 0.20869156, 0.40583382, 0.49355553,\n",
       "         0.06361045, 0.05998159, 0.3639887 , 0.78324704, 0.21742799,\n",
       "         0.24780452, 0.6811572 , 0.23187278, 0.29098442, 0.58719475,\n",
       "         0.02644414, 0.40015752, 0.55789337, 0.63657434, 0.08839236,\n",
       "         0.68377633, 0.4886613 , 0.09587301, 0.17681394, 0.49222955,\n",
       "         0.35228825, 0.62230727, 0.89546786, 0.30719343, 0.61006545,\n",
       "         0.12746545, 0.60452389, 0.87510249, 0.67984838, 0.41769204,\n",
       "         0.77700396, 0.19352418, 0.90023443, 0.59682864, 0.18527968,\n",
       "         0.88034446, 0.62875055, 0.18376827, 0.45533057, 0.86826886,\n",
       "         0.37840521, 0.68898267, 0.98057476, 0.32008047, 0.6090082 ,\n",
       "         0.60187326, 0.06323076, 0.63471748, 0.16353518, 0.92128275,\n",
       "         0.84173413, 0.37044226, 0.53208976, 0.1483618 , 0.63039749,\n",
       "         0.39664339, 0.36097958, 0.11188719, 0.46465467, 0.252853  ,\n",
       "         0.39961396, 0.19482905, 0.33277628, 0.21982179, 0.17046042,\n",
       "         0.38644222, 0.8387503 , 0.44132958, 0.81586627, 0.1572804 ,\n",
       "         0.10499212, 0.16345951, 0.652634  , 0.45524206, 0.14401507,\n",
       "         0.1486991 , 0.7562868 , 0.01146383, 0.09177292, 0.60800914,\n",
       "         0.43472758, 0.54981235, 0.65335513, 0.32328374, 0.29088797,\n",
       "         0.56010578, 0.66517807, 0.3118759 , 0.29057539, 0.78580382,\n",
       "         0.34755223, 0.62184899, 0.27581073, 0.68719329, 0.53713185,\n",
       "         0.52915006, 0.70674643, 0.23495171, 0.08467213, 0.18172241,\n",
       "         0.05831049, 0.14010368, 0.95477364, 0.27427922, 0.49432461,\n",
       "         0.94830211, 0.65350994, 0.97720952, 0.38793503, 0.43078532,\n",
       "         0.60055533, 0.45612298, 0.43525104, 0.45292133, 0.07611186,\n",
       "         0.54250503, 0.82790802, 0.00107829, 0.74350025, 0.92980432,\n",
       "         0.82130183, 0.46705448, 0.90780987, 0.39793994, 0.3632405 ,\n",
       "         0.51481468, 0.53859361, 0.31412174, 0.79974061, 0.24121438,\n",
       "         0.53013962, 0.72108407, 0.6190634 , 0.2339466 , 0.59343837,\n",
       "         0.53138341, 0.85308342, 0.94709494, 0.79212733, 0.37422848,\n",
       "         0.20375092, 0.10770356, 0.10456515, 0.27375365, 0.33802088,\n",
       "         0.54779838, 0.11996523, 0.12528882, 0.42315329, 0.56398724,\n",
       "         0.82320195, 0.19436543, 0.27056648, 0.84419055, 0.74141736,\n",
       "         0.47401059, 0.66412291, 0.91492523, 0.8030796 , 0.38259619,\n",
       "         0.15071856, 0.74813237, 0.63873298, 0.15212901, 0.72034765,\n",
       "         0.01065614, 0.11741044, 0.98735841, 0.07387175, 0.81615834,\n",
       "         0.87307196, 0.63600421, 0.55919491, 0.15403717, 0.53301984,\n",
       "         0.9927068 , 0.98842399, 0.91134694, 0.26283517, 0.70691037,\n",
       "         0.2071561 , 0.67756875, 0.65668211, 0.96703373, 0.41125681,\n",
       "         0.44333588, 0.60419397, 0.33882376, 0.45339681, 0.0497404 ,\n",
       "         0.06967122, 0.11909174, 0.91881959, 0.15660234, 0.22618712,\n",
       "         0.24640627, 0.7998274 , 0.96122471, 0.62562886, 0.06707783,\n",
       "         0.67796038, 0.08845965, 0.28573045, 0.3123472 , 0.81742697,\n",
       "         0.53646303, 0.77828274, 0.46482159, 0.72699887, 0.91701853,\n",
       "         0.05253901, 0.57545759, 0.25048138, 0.48379325, 0.78162697,\n",
       "         0.58398544, 0.41698415, 0.6284954 , 0.94637367, 0.64842507,\n",
       "         0.81973645, 0.04179437, 0.99382408, 0.23659296, 0.35950726,\n",
       "         0.83701923, 0.37452202, 0.01473713, 0.44214445, 0.85291473,\n",
       "         0.5641682 , 0.56499693, 0.37936776, 0.23570418, 0.44752636,\n",
       "         0.8568403 , 0.55616941, 0.70843247, 0.08543703, 0.28762696,\n",
       "         0.6713547 , 0.56511386, 0.31827232, 0.73545876, 0.57949861,\n",
       "         0.4178843 , 0.74006806, 0.79989244, 0.70625507, 0.7194835 ,\n",
       "         0.17096816, 0.4111622 , 0.3359209 , 0.25933937, 0.74188318,\n",
       "         0.29583468, 0.15370529, 0.38448631, 0.26009102, 0.36529022,\n",
       "         0.44504132, 0.89064145, 0.68751826, 0.96864814, 0.07699793,\n",
       "         0.04650828, 0.44275895, 0.63232553, 0.90421849, 0.00306439,\n",
       "         0.68610544, 0.24489545, 0.45530468, 0.29433935, 0.90384657,\n",
       "         0.32905761, 0.44558471, 0.28541469, 0.03609067, 0.74669424,\n",
       "         0.62205441, 0.903832  , 0.77220628, 0.38832139, 0.366569  ,\n",
       "         0.68272105, 0.9922684 , 0.7013004 , 0.55940211, 0.08119379,\n",
       "         0.23006435, 0.50410485, 0.22791847, 0.06294831, 0.48371637,\n",
       "         0.75252168, 0.06348189, 0.60715702, 0.90961961, 0.56000527,\n",
       "         0.67157972, 0.05222022, 0.59808924, 0.25884604, 0.02088173,\n",
       "         0.71407818, 0.62914133, 0.83651805, 0.56325101, 0.63452185,\n",
       "         0.57889954, 0.95608732, 0.30560947, 0.08407796, 0.15896502,\n",
       "         0.4146791 , 0.85217107, 0.3462493 , 0.91028986, 0.62092398,\n",
       "         0.7435559 , 0.50523086, 0.21044469, 0.83365079, 0.94989624,\n",
       "         0.51238926, 0.80846891, 0.05752002, 0.84009213, 0.52091394,\n",
       "         0.23221664, 0.23068129, 0.25806962, 0.95441725, 0.55393211,\n",
       "         0.76450718, 0.68608248, 0.94106054, 0.53812395, 0.82403649,\n",
       "         0.55135986, 0.61844135, 0.23139451, 0.87328949, 0.1879685 ,\n",
       "         0.5336624 , 0.01587257, 0.83236641, 0.74359308, 0.48695279,\n",
       "         0.94892595, 0.53603039, 0.83163792, 0.02827259, 0.81216119,\n",
       "         0.34430425, 0.25886725, 0.25800136, 0.7950081 , 0.84169572,\n",
       "         0.4912698 , 0.35440899, 0.02880035, 0.19655135, 0.93784968,\n",
       "         0.04121133, 0.35014399, 0.92349564, 0.47462598, 0.40827229,\n",
       "         0.54059349, 0.75617674, 0.07043407, 0.51481538, 0.44201303,\n",
       "         0.38643611, 0.87693167, 0.18692534, 0.26012371, 0.63277901,\n",
       "         0.1216675 , 0.62759165, 0.72515053, 0.95134081, 0.84278708,\n",
       "         0.7225574 , 0.24811009, 0.65825326, 0.37135144, 0.94878294,\n",
       "         0.85332332, 0.98069609, 0.16651845, 0.82405489, 0.72917224,\n",
       "         0.33358628, 0.76275719, 0.48205808, 0.12139253, 0.72872294,\n",
       "         0.60048868]))]"
      ]
     },
     "execution_count": 20,
     "metadata": {},
     "output_type": "execute_result"
    }
   ],
   "source": [
    "expand_setpoints_helper(a.spectrum)"
   ]
  },
  {
   "cell_type": "code",
   "execution_count": 21,
   "metadata": {},
   "outputs": [
    {
     "name": "stdout",
     "output_type": "stream",
     "text": [
      "Starting experimental run with id: 337\n"
     ]
    }
   ],
   "source": [
    "meas = Measurement()\n",
    "meas.register_parameter(a.spectrum)\n",
    "\n",
    "with meas.run() as datasaver:\n",
    "    datasaver.add_result(*expand_setpoints_helper(a.spectrum))\n",
    "    \n",
    "    dataid = datasaver.run_id"
   ]
  },
  {
   "cell_type": "code",
   "execution_count": null,
   "metadata": {},
   "outputs": [],
   "source": []
  }
 ],
 "metadata": {
  "kernelspec": {
   "display_name": "Python 3",
   "language": "python",
   "name": "python3"
  },
  "language_info": {
   "codemirror_mode": {
    "name": "ipython",
    "version": 3
   },
   "file_extension": ".py",
   "mimetype": "text/x-python",
   "name": "python",
   "nbconvert_exporter": "python",
   "pygments_lexer": "ipython3",
   "version": "3.6.8"
  },
  "toc": {
   "base_numbering": 1,
   "nav_menu": {},
   "number_sections": true,
   "sideBar": true,
   "skip_h1_title": false,
   "title_cell": "Table of Contents",
   "title_sidebar": "Contents",
   "toc_cell": false,
   "toc_position": {},
   "toc_section_display": true,
   "toc_window_display": false
  },
  "varInspector": {
   "cols": {
    "lenName": 16,
    "lenType": 16,
    "lenVar": 40
   },
   "kernels_config": {
    "python": {
     "delete_cmd_postfix": "",
     "delete_cmd_prefix": "del ",
     "library": "var_list.py",
     "varRefreshCmd": "print(var_dic_list())"
    },
    "r": {
     "delete_cmd_postfix": ") ",
     "delete_cmd_prefix": "rm(",
     "library": "var_list.r",
     "varRefreshCmd": "cat(var_dic_list()) "
    }
   },
   "types_to_exclude": [
    "module",
    "function",
    "builtin_function_or_method",
    "instance",
    "_Feature"
   ],
   "window_display": false
  }
 },
 "nbformat": 4,
 "nbformat_minor": 2
}
