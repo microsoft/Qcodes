{
 "cells": [
  {
   "cell_type": "markdown",
   "metadata": {},
   "source": [
    "# Example Notebook for Keysight Network Analyzers\n",
    "\n",
    "This notebook is indendet to give an overview over the functions implemented in the QCoDeS driver for the Keysight network analyzers. The driver is implemented to be generic as possible, with individual instrument drivers filling in only the hardware limits of the instrument, so although this example uses the N5245A, the concepts and code should work for any keysight network analyzer."
   ]
  },
  {
   "cell_type": "code",
   "execution_count": 1,
   "metadata": {},
   "outputs": [],
   "source": [
    "%matplotlib inline"
   ]
  },
  {
   "cell_type": "code",
   "execution_count": 2,
   "metadata": {},
   "outputs": [],
   "source": [
    "# Import Dependencies\n",
    "\n",
    "import numpy as np \n",
    "import logging\n",
    "import matplotlib.pyplot as plt\n",
    "\n",
    "# qcodes imports\n",
    "import qcodes as qc\n",
    "from qcodes.dataset.data_set import new_data_set\n",
    "from qcodes.dataset.experiment_container import new_experiment, load_experiment_by_name\n",
    "from qcodes.dataset.measurements import Measurement\n",
    "from qcodes.dataset.plotting import plot_by_id\n",
    "from qcodes.instrument_drivers.Keysight.N5222B import N5222B"
   ]
  },
  {
   "cell_type": "code",
   "execution_count": 3,
   "metadata": {},
   "outputs": [
    {
     "name": "stdout",
     "output_type": "stream",
     "text": [
      "Experiment loaded. Last ID no: 41\n"
     ]
    }
   ],
   "source": [
    "qc.initialise_database()\n",
    "\n",
    "# Start experiment\n",
    "exp_name = 'PNA_Example_N5222B'\n",
    "sample_name = 'sample_bar_code'\n",
    "try:\n",
    "    exp = load_experiment_by_name(exp_name, sample=sample_name)\n",
    "    print('Experiment loaded. Last ID no:', exp.last_counter)\n",
    "except ValueError:\n",
    "    exp = new_experiment(exp_name, sample_name)\n",
    "    print('Starting new experiment.')"
   ]
  },
  {
   "cell_type": "markdown",
   "metadata": {},
   "source": [
    "## Connect to the instrument\n",
    "\n",
    "You will have to insert the correct VISA address for your PNA below. On my PC, the PNA has IP address `192.168.0.10`. You can generally use NI MAX or Agilent IO Toolkit to figure out what the VISA address of your instrument is, particularly for USB or GPIB connections."
   ]
  },
  {
   "cell_type": "code",
   "execution_count": 4,
   "metadata": {},
   "outputs": [
    {
     "name": "stdout",
     "output_type": "stream",
     "text": [
      "Connected to: Keysight Technologies N5222B (serial:MY57041028, firmware:A.13.25.04) in 0.17s\n"
     ]
    }
   ],
   "source": [
    "pna = N5222B('pna', 'GPIB0::16::INSTR')"
   ]
  },
  {
   "cell_type": "markdown",
   "metadata": {},
   "source": [
    "## Managing traces \n",
    "\n",
    "A weakness of the old driver is that it cannot define new traces on the instrument, nor make a trace on a particular channel. "
   ]
  },
  {
   "cell_type": "code",
   "execution_count": 5,
   "metadata": {},
   "outputs": [],
   "source": [
    "pna.delete_all_traces()\n",
    "\n",
    "# Note: This this different then \n",
    "# pna.delete_trace(\"all\")\n",
    "# as this command will delete traces on channel 1 only"
   ]
  },
  {
   "cell_type": "code",
   "execution_count": 6,
   "metadata": {},
   "outputs": [
    {
     "data": {
      "text/plain": [
       "{}"
      ]
     },
     "execution_count": 6,
     "metadata": {},
     "output_type": "execute_result"
    }
   ],
   "source": [
    "pna.trace"
   ]
  },
  {
   "cell_type": "markdown",
   "metadata": {},
   "source": [
    "NB: If we manually add a trace to the intrument this will be shown here as well"
   ]
  },
  {
   "cell_type": "code",
   "execution_count": 7,
   "metadata": {},
   "outputs": [],
   "source": [
    "trace = pna.add_trace(\"T_S11\", \"S11\")  # Let's make a S11 trace on channel 1. The name of this trace is T_S11"
   ]
  },
  {
   "cell_type": "code",
   "execution_count": 8,
   "metadata": {},
   "outputs": [
    {
     "data": {
      "text/plain": [
       "{'T_S11': T_S11, S11}"
      ]
     },
     "execution_count": 8,
     "metadata": {},
     "output_type": "execute_result"
    }
   ],
   "source": [
    "pna.trace"
   ]
  },
  {
   "cell_type": "code",
   "execution_count": 9,
   "metadata": {},
   "outputs": [
    {
     "name": "stdout",
     "output_type": "stream",
     "text": [
      "T_S11, S11\n"
     ]
    }
   ],
   "source": [
    "print(trace)"
   ]
  },
  {
   "cell_type": "code",
   "execution_count": 10,
   "metadata": {},
   "outputs": [
    {
     "data": {
      "text/plain": [
       "{}"
      ]
     },
     "execution_count": 10,
     "metadata": {},
     "output_type": "execute_result"
    }
   ],
   "source": [
    "# By default we are always working on channel 1. \n",
    "# We must explicitly say that we want to add/update/delete/show traces on other channels. \n",
    "# For instance, show the traces on channel 2\n",
    "pna.channel[1].trace  "
   ]
  },
  {
   "cell_type": "code",
   "execution_count": 11,
   "metadata": {},
   "outputs": [
    {
     "name": "stdout",
     "output_type": "stream",
     "text": [
      "{}\n"
     ]
    }
   ],
   "source": [
    "# We can delete a trace \n",
    "pna.trace[\"T_S11\"].delete()\n",
    "print(pna.trace)"
   ]
  },
  {
   "cell_type": "code",
   "execution_count": 12,
   "metadata": {},
   "outputs": [],
   "source": [
    "# Alternatively, we can delete a trace like so\n",
    "if \"T_S11\" in pna.channel[0].trace: \n",
    "    pna.delete_trace(\"T_S11\")"
   ]
  },
  {
   "cell_type": "markdown",
   "metadata": {},
   "source": [
    "## Measuring\n",
    "\n",
    "Below we see how we can perform a measurement"
   ]
  },
  {
   "cell_type": "code",
   "execution_count": 14,
   "metadata": {},
   "outputs": [
    {
     "name": "stdout",
     "output_type": "stream",
     "text": [
      "Starting experimental run with id: 57\n"
     ]
    },
    {
     "data": {
      "text/plain": [
       "([<matplotlib.axes._subplots.AxesSubplot at 0x165d8600828>,\n",
       "  <matplotlib.axes._subplots.AxesSubplot at 0x165d864e6a0>,\n",
       "  <matplotlib.axes._subplots.AxesSubplot at 0x165d86fcda0>],\n",
       " [None, None, None])"
      ]
     },
     "execution_count": 14,
     "metadata": {},
     "output_type": "execute_result"
    },
    {
     "data": {
      "image/png": "[encoded data removed]",
      "text/plain": [
       "<matplotlib.figure.Figure at 0x165d8611e10>"
      ]
     },
     "metadata": {},
     "output_type": "display_data"
    },
    {
     "data": {
      "image/png": "[encoded data removed]",
      "text/plain": [
       "<matplotlib.figure.Figure at 0x165d8650e80>"
      ]
     },
     "metadata": {},
     "output_type": "display_data"
    },
    {
     "data": {
      "image/png": "[encoded data removed]",
      "text/plain": [
       "<matplotlib.figure.Figure at 0x165d86fc5c0>"
      ]
     },
     "metadata": {},
     "output_type": "display_data"
    }
   ],
   "source": [
    "trace_s21 = pna.add_trace(\"T_S21\", \"S21\")  # We need a trace in the rest of the notebook so lets add one again \n",
    "trace_s11 = pna.add_trace(\"T_S11\", \"S11\")\n",
    "trace_s43 = pna.add_trace(\"T_S43\", \"S43\")\n",
    "\n",
    "# Run a measurement\n",
    "fstart = 10e6  # Hz\n",
    "fstop = 18e9 # Hz \n",
    "points = 1001\n",
    "\n",
    "freq = np.linspace(fstart, fstop, points)\n",
    "\n",
    "pna.power(10)\n",
    "pna.start(fstart)\n",
    "pna.stop(fstop)\n",
    "pna.points(points)\n",
    "\n",
    "meas = Measurement()\n",
    "meas.register_custom_parameter(name=\"frequency\", label=\"freq\", unit=\"Hz\")\n",
    "meas.register_custom_parameter(name=\"log_magnitude_s11\", label=\"log mag S11\", unit=\"dBm\", setpoints=[\"frequency\"])\n",
    "meas.register_custom_parameter(name=\"log_magnitude_s21\", label=\"log mag S21\", unit=\"dBm\", setpoints=[\"frequency\"])\n",
    "meas.register_custom_parameter(name=\"log_magnitude_s43\", label=\"log mag S43\", unit=\"dBm\", setpoints=[\"frequency\"])\n",
    "\n",
    "with meas.run() as datasaver:\n",
    "    pna.run_sweep(averages=2)\n",
    "    \n",
    "    datasaver.add_result((\"frequency\", freq), (\"log_magnitude_s11\", trace_s11.log_magnitude()))\n",
    "    datasaver.add_result((\"frequency\", freq), (\"log_magnitude_s21\", trace_s21.log_magnitude()))\n",
    "    datasaver.add_result((\"frequency\", freq), (\"log_magnitude_s43\", trace_s43.log_magnitude()))\n",
    "    \n",
    "plot_by_id(datasaver.run_id)"
   ]
  },
  {
   "cell_type": "code",
   "execution_count": 15,
   "metadata": {},
   "outputs": [],
   "source": [
    "pna.write('MMEM:STOR:TRAC:FORM:SNP RI')"
   ]
  },
  {
   "cell_type": "code",
   "execution_count": 36,
   "metadata": {},
   "outputs": [
    {
     "name": "stdout",
     "output_type": "stream",
     "text": [
      "\"1, 2, 3, 4\"\n"
     ]
    }
   ],
   "source": [
    "portList = [1, 2, 3, 4]\n",
    "ports_string = \"\\\"\" + str(str(portList)[1:len(str(portList)) - 1]) + \"\\\"\"\n",
    "print(ports_string)"
   ]
  },
  {
   "cell_type": "code",
   "execution_count": 46,
   "metadata": {},
   "outputs": [
    {
     "name": "stdout",
     "output_type": "stream",
     "text": [
      "CALC1:DATA:SNP:PORT? \"1, 2, 3, 4\"\n"
     ]
    }
   ],
   "source": [
    "write = 'CALC1' + ':DATA:SNP:PORT? ' + str(ports_string)\n",
    "print(write)\n",
    "data = pna.visa_handle.query_binary_values(write)"
   ]
  },
  {
   "cell_type": "code",
   "execution_count": 47,
   "metadata": {},
   "outputs": [],
   "source": [
    "import numpy as np \n",
    "data = np.array(data)"
   ]
  },
  {
   "cell_type": "code",
   "execution_count": 49,
   "metadata": {},
   "outputs": [
    {
     "data": {
      "text/plain": [
       "(33033,)"
      ]
     },
     "execution_count": 49,
     "metadata": {},
     "output_type": "execute_result"
    }
   ],
   "source": [
    "data.shape"
   ]
  },
  {
   "cell_type": "code",
   "execution_count": 40,
   "metadata": {},
   "outputs": [],
   "source": [
    "portCount = len(portList)\n",
    "snpCount = (pow(portCount, 2) * 2) + 1"
   ]
  },
  {
   "cell_type": "code",
   "execution_count": 41,
   "metadata": {},
   "outputs": [
    {
     "data": {
      "text/plain": [
       "33"
      ]
     },
     "execution_count": 41,
     "metadata": {},
     "output_type": "execute_result"
    }
   ],
   "source": [
    "snpCount"
   ]
  },
  {
   "cell_type": "code",
   "execution_count": 50,
   "metadata": {},
   "outputs": [],
   "source": [
    "data = np.array(data, dtype=float).reshape(snpCount, -1).T"
   ]
  },
  {
   "cell_type": "code",
   "execution_count": 51,
   "metadata": {},
   "outputs": [
    {
     "data": {
      "text/plain": [
       "(1001, 33)"
      ]
     },
     "execution_count": 51,
     "metadata": {},
     "output_type": "execute_result"
    }
   ],
   "source": [
    "data.shape"
   ]
  },
  {
   "cell_type": "code",
   "execution_count": 55,
   "metadata": {},
   "outputs": [],
   "source": [
    "s = np.empty([data.shape[0], (data.shape[1] - 1) // 2])\n",
    "        \n",
    "f = data[:, 0]\n",
    "for i in range(1, (data.shape[1] - 1), 2):  # counts in 2s. Aka 1,3,5,7,9 etc up to data limit-1\n",
    "    if i == 1:\n",
    "        s = data[:, i] + 1j * data[:, i + 1]\n",
    "    else:\n",
    "        t = data[:, i] + 1j * data[:, i + 1]\n",
    "        s = np.c_[s, t]\n",
    "\n",
    "\n",
    "s = s.reshape(-1, portCount, portCount)"
   ]
  },
  {
   "cell_type": "code",
   "execution_count": 57,
   "metadata": {},
   "outputs": [
    {
     "data": {
      "text/plain": [
       "(1001, 4, 4)"
      ]
     },
     "execution_count": 57,
     "metadata": {},
     "output_type": "execute_result"
    }
   ],
   "source": [
    "s.shape"
   ]
  },
  {
   "cell_type": "code",
   "execution_count": null,
   "metadata": {},
   "outputs": [],
   "source": []
  }
 ],
 "metadata": {
  "kernelspec": {
   "display_name": "Python 3",
   "language": "python",
   "name": "python3"
  },
  "language_info": {
   "codemirror_mode": {
    "name": "ipython",
    "version": 3
   },
   "file_extension": ".py",
   "mimetype": "text/x-python",
   "name": "python",
   "nbconvert_exporter": "python",
   "pygments_lexer": "ipython3",
   "version": "3.6.6"
  }
 },
 "nbformat": 4,
 "nbformat_minor": 2
}
