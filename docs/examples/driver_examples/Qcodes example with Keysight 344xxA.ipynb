{
 "cells": [
  {
   "cell_type": "markdown",
   "metadata": {},
   "source": [
    "# QCoDeS Example with Keysight 344xxA"
   ]
  },
  {
   "cell_type": "markdown",
   "metadata": {},
   "source": [
    "`344xxA` models of Keysight digital multimeters have similar QCoDeS drivers. In this tutorial, `Keysight_34465A` is chosen for showcasing the usage of the instrument.\n",
    "\n",
    "Note however that not every feature/parameter is available on all `344xxA` models. This, when possible, is reflected in the instantiated driver object. Also note that models like `34465A` have options (like `DIG` and `MEM`) that can either be enabled or disabled on a particular instrument; this also has impact on availability of some features/parameters and/or their settings. In general, refer to the instrument's manual for detailed information.\n",
    "\n",
    "__NOTE__: Beginning with firmware revision 3.0, the digitizing and advanced triggering option, referred to as \"DIG\", for models 34465A-DIG/34470A-DIG, is now standard.\n",
    "\n",
    "The driver does not cover all the features of the instrument. __At present, the driver only supports being used to measure DC Voltage__\n"
   ]
  },
  {
   "cell_type": "code",
   "execution_count": 1,
   "metadata": {},
   "outputs": [],
   "source": [
    "import time\n",
    "\n",
    "import numpy\n",
    "\n",
    "import qcodes\n",
    "from qcodes.dataset.measurements import Measurement\n",
    "from qcodes.dataset.plotting import plot_dataset\n",
    "from qcodes.instrument_drivers.Keysight.Keysight_34465A_submodules import Keysight_34465A"
   ]
  },
  {
   "cell_type": "code",
   "execution_count": 2,
   "metadata": {},
   "outputs": [
    {
     "name": "stdout",
     "output_type": "stream",
     "text": [
      "Connected to: Keysight Technologies 34465A (serial:MY54505281, firmware:A.03.00-02.40-03.00-00.52-02-01) in 0.61s\n"
     ]
    }
   ],
   "source": [
    "dmm = Keysight_34465A('dmm', 'TCPIP0::172.20.2.182::inst0::INSTR')"
   ]
  },
  {
   "cell_type": "code",
   "execution_count": 3,
   "metadata": {},
   "outputs": [],
   "source": [
    "dmm.reset()"
   ]
  },
  {
   "cell_type": "markdown",
   "metadata": {},
   "source": [
    "## Parameters and methods overview\n",
    "\n",
    "Here is an overview (not exhaustive) of the parameters and methods that are available in the driver.\n",
    "\n",
    "The driver is not only comprised of root-level parameters and methods but also contains submodules which logically group some functionality.\n",
    "\n",
    "* Measurements\n",
    "  * `dmm.init_measurement()`\n",
    "  * `dmm.fetch()`\n",
    "  * `dmm.read()`\n",
    "  * `dmm.volt` - immediately measure one (the present) voltage value\n",
    "* Time trace measurements\n",
    "  * `dmm.timetrace` - covered in more detail below\n",
    "  * `dmm.time_axis`\n",
    "  * `dmm.timetrace_dt`\n",
    "  * `dmm.timetrace_npts`\n",
    "* Range settings\n",
    "  * `dmm.range`\n",
    "  * `dmm.autorange`\n",
    "  * `dmm.autorange_once()`\n",
    "* Triggering\n",
    "  * `dmm.trigger.source`\n",
    "  * `dmm.trigger.delay`\n",
    "  * `dmm.trigger.auto_delay_enabled`\n",
    "  * `dmm.trigger.count`\n",
    "  * `dmm.trigger.slope`\n",
    "  * `dmm.trigger.level`\n",
    "  * `dmm.trigger.force()`\n",
    "* Sample settings\n",
    "  * `dmm.sample.count`\n",
    "  * `dmm.sample.source`\n",
    "  * `dmm.sample.timer`\n",
    "  * `dmm.sample.pretrigger_count`\n",
    "* Display control\n",
    "  * `dmm.display.text`\n",
    "  * `dmm.display.clear()`\n",
    "  * `dmm.display.enabled`\n",
    "* Measurement type\n",
    "  * `dmm.sense_function`\n",
    "* Measurement accuracy (NB: DC Voltage mode only)\n",
    "  * `dmm.NPLC`\n",
    "  * `dmm.resolution`\n",
    "  * `dmm.line_frequency`\n",
    "  * `dmm.aperture_mode`\n",
    "  * `dmm.aperture_time`\n",
    "  * `dmm.autozero`\n",
    "\n",
    "As an extra, let's print the readable snapshot of the instrument."
   ]
  },
  {
   "cell_type": "code",
   "execution_count": 4,
   "metadata": {},
   "outputs": [
    {
     "name": "stdout",
     "output_type": "stream",
     "text": [
      "dmm:\n",
      "\tparameter     value\n",
      "--------------------------------------------------------------------------------\n",
      "IDN            :\t{'vendor': 'Keysight Technologies', 'model': '34465A', 'seri...\n",
      "NPLC           :\t10 (NPLC)\n",
      "aperture_mode  :\tOFF \n",
      "aperture_time  :\t0.1 \n",
      "autorange      :\tON \n",
      "autozero       :\tON \n",
      "line_frequency :\t50 (Hz)\n",
      "range          :\t0.1 \n",
      "resolution     :\t1e-08 (V)\n",
      "sense_function :\tDC Voltage \n",
      "time_axis      :\tNot available (s)\n",
      "timeout        :\t5 (s)\n",
      "timetrace      :\tNot available \n",
      "timetrace_dt   :\t0.1 (s)\n",
      "timetrace_npts :\t500 \n",
      "volt           :\t2.8814e-05 (V)\n",
      "dmm_display:\n",
      "\tparameter value\n",
      "--------------------------------------------------------------------------------\n",
      "enabled :\tTrue \n",
      "text    :\t \n",
      "dmm_trigger:\n",
      "\tparameter         value\n",
      "--------------------------------------------------------------------------------\n",
      "auto_delay_enabled :\tTrue \n",
      "count              :\t1 \n",
      "delay              :\t0.00016 (s)\n",
      "level              :\t0 (V)\n",
      "slope              :\tNEG \n",
      "source             :\tIMM \n",
      "dmm_sample:\n",
      "\tparameter       value\n",
      "--------------------------------------------------------------------------------\n",
      "count            :\t1 \n",
      "pretrigger_count :\t0 \n",
      "source           :\tIMM \n",
      "timer            :\t1 (s)\n",
      "timer_minimum    :\t0.43913 (s)\n"
     ]
    }
   ],
   "source": [
    "dmm.print_readable_snapshot(update=True)"
   ]
  },
  {
   "cell_type": "markdown",
   "metadata": {},
   "source": [
    "## Single value reading\n",
    "\n",
    "If one simpy wants to measure a single voltage value right now, the convenient `volt` parameter can be used. This parameter will always return a voltage reading, even if the instrument is set up to measure something else than voltage. The instrument state is left untouched by getting this parameter.\n",
    "\n",
    "This is a convenience parameter that does not utilize the full power of the instrument. In the next two sections, we will present more prowerful and robust ways of performing measurements."
   ]
  },
  {
   "cell_type": "code",
   "execution_count": 5,
   "metadata": {},
   "outputs": [
    {
     "data": {
      "text/plain": [
       "-7.49454636e-05"
      ]
     },
     "execution_count": 5,
     "metadata": {},
     "output_type": "execute_result"
    }
   ],
   "source": [
    "dmm.volt()"
   ]
  },
  {
   "cell_type": "markdown",
   "metadata": {},
   "source": [
    "## Time trace type measurements\n",
    "\n",
    "For the commonly occuring case were one would like to measure N voltage points equidistantly spaced in time, the Keysight DMM driver offers the convenient `timetrace` parameter. It comes with three associated (helper) parameters:\n",
    "\n",
    " - `timetrace_dt` - the time spacing between the acquired points\n",
    " - `timetrace_npts` - the number of points\n",
    " - `time_axis` - the corresponding time axis (np.array, starts at 0)\n",
    " - `timetrace` - the array of voltage values\n",
    " \n",
    "Note that changing `timetrace_dt` and `timetrace_npts` does not change any corresponding setting on the instrument before `timetrace.get` is called. Once that happens, the state of the instrument is __temporarily__ switched into one compatible with performing a time trace measurement. This specifically means that we set\n",
    " \n",
    " - `trigger.count` to 1\n",
    " - `trigger.source` to \"BUS\" (internal trigger - __no other trigger can be used__)\n",
    " - `sample.timer` to `timetrace_dt`\n",
    " - `sample.count` to `timetrace_npts`\n",
    " \n",
    "After the acquisition has completed, the previous instrument settings are restored. This behaviour guarantees that calling `timetrace.get` always works, irrespective of instrument state. The only exception is if the specified `timetrace_dt` can not be realized with the present `dmm.NPLC` and/or `dmm.aperture_time` settings. If that is the case, the `timetrace.get` method will raise a `RuntimeError` with an instructive error message. The user may manually compare the value of `sample.timer_minimum` to the value of `timetrace_dt`."
   ]
  },
  {
   "cell_type": "markdown",
   "metadata": {},
   "source": [
    "The usage is straightforward."
   ]
  },
  {
   "cell_type": "code",
   "execution_count": 6,
   "metadata": {},
   "outputs": [
    {
     "name": "stdout",
     "output_type": "stream",
     "text": [
      "Minimal allowable dt: 0.015525 s\n",
      "Starting experimental run with id: 381\n"
     ]
    }
   ],
   "source": [
    "meas = Measurement()\n",
    "meas.register_parameter(dmm.timetrace)\n",
    "\n",
    "dmm.NPLC(0.006)\n",
    "dmm.timetrace_dt(0.02)\n",
    "dmm.timetrace_npts(500)\n",
    "\n",
    "print(f'Minimal allowable dt: {dmm.sample.timer_minimum()} s')\n",
    "\n",
    "with meas.run() as datasaver:\n",
    "    datasaver.add_result((dmm.timetrace, dmm.timetrace()),\n",
    "                          (dmm.time_axis, dmm.time_axis()))\n",
    "    \n",
    "time_trace_ds = datasaver.dataset"
   ]
  },
  {
   "cell_type": "code",
   "execution_count": 7,
   "metadata": {},
   "outputs": [
    {
     "data": {
      "image/png": "[encoded data removed]",
      "text/plain": [
       "<Figure size 432x288 with 1 Axes>"
      ]
     },
     "metadata": {
      "needs_background": "light"
     },
     "output_type": "display_data"
    }
   ],
   "source": [
    "axs, cbs = plot_dataset(time_trace_ds)"
   ]
  },
  {
   "cell_type": "markdown",
   "metadata": {},
   "source": [
    "## General guide: Multivalue triggered measurements"
   ]
  },
  {
   "cell_type": "markdown",
   "metadata": {},
   "source": [
    "__NOTE__: Refer to the instrument manual for more information on how to perform measurements with the instrument; here, only the most basic and frequently used ones are demonstated.\n",
    "\n",
    "Measurements with the instrument are performed in the following way: the instrument's settings are set for a particular kind of measurement, then the measurement is started/initialized, then after all the data has been acquired, it is retrieved from the instrument. Below is an example of such a measurement."
   ]
  },
  {
   "cell_type": "markdown",
   "metadata": {},
   "source": [
    "Use `range`, `autorange` parameters or `autorange_once` method to set the measurement range. Disabling autorange is recommended by the instrument's manual for speeding up the measurement."
   ]
  },
  {
   "cell_type": "code",
   "execution_count": 8,
   "metadata": {},
   "outputs": [],
   "source": [
    "dmm.autorange_once()"
   ]
  },
  {
   "cell_type": "markdown",
   "metadata": {},
   "source": [
    "In order to set up the accuracy of the measurements and related settings, set up `NPLC` or `aperture_*` parameters (if available)."
   ]
  },
  {
   "cell_type": "code",
   "execution_count": 9,
   "metadata": {},
   "outputs": [],
   "source": [
    "dmm.aperture_mode('ON')\n",
    "dmm.aperture_time(2e-5)"
   ]
  },
  {
   "cell_type": "markdown",
   "metadata": {},
   "source": [
    "Set up triggering mechanism. Note that trigger settings and methods are inside `trigger` submodule of the instrument driver. Here, we will use immediate triggering (the measurement is triggered uppon measurement initialization, that is when `init_measurement` is called) with 1 trigger without any delays. Consulm the instrument's manual for more information on various triggering options."
   ]
  },
  {
   "cell_type": "code",
   "execution_count": 10,
   "metadata": {},
   "outputs": [],
   "source": [
    "dmm.trigger.source('IMM')\n",
    "dmm.trigger.count(1)\n",
    "dmm.trigger.delay(0.0)"
   ]
  },
  {
   "cell_type": "markdown",
   "metadata": {},
   "source": [
    "Set up sampling settings. Note that sampling parameters and method are inside `sample` submodule of the instrument driver. Here, we set to measure 15 samples."
   ]
  },
  {
   "cell_type": "code",
   "execution_count": 11,
   "metadata": {},
   "outputs": [],
   "source": [
    "dmm.sample.count(15)\n",
    "dmm.sample.pretrigger_count(0)"
   ]
  },
  {
   "cell_type": "markdown",
   "metadata": {},
   "source": [
    "We are also going to set the sample source to timer (not avaliable in all models) so that the instrument ensures that the samples are taken with fixed periods between them. The `timer` parameter allows to set the value of that fixed period. For simplicity, we are going to let the instrument deduce the minimum value of it according to the current instrument configuration (!) and set it."
   ]
  },
  {
   "cell_type": "code",
   "execution_count": 12,
   "metadata": {},
   "outputs": [],
   "source": [
    "dmm.sample.source('TIM')\n",
    "dmm.sample.timer('MIN')"
   ]
  },
  {
   "cell_type": "markdown",
   "metadata": {},
   "source": [
    "It turns out that commands are executed faster when the display of the instrument is disabled or is displaying text. One of the further section expands on it. Here, we will just set the display to some text."
   ]
  },
  {
   "cell_type": "code",
   "execution_count": 13,
   "metadata": {},
   "outputs": [],
   "source": [
    "dmm.display.text('Example with 15 samples')"
   ]
  },
  {
   "cell_type": "markdown",
   "metadata": {},
   "source": [
    "In order to initiate the measurement, call `init_measurement` method of the driver. In the case of this example, the instrument will get into \"wait-for-trigger\" mode but because the trigger source is \"immediate\", the instrument will immediately start measuring the 15 samples."
   ]
  },
  {
   "cell_type": "code",
   "execution_count": 14,
   "metadata": {},
   "outputs": [],
   "source": [
    "dmm.init_measurement()"
   ]
  },
  {
   "cell_type": "markdown",
   "metadata": {},
   "source": [
    "The instrument is going to measure 15 samples and save them to its memory. Once the measurement is completed, we can call `fetch` method of the driver to retreive the acquired data."
   ]
  },
  {
   "cell_type": "markdown",
   "metadata": {},
   "source": [
    "While the measurement is going, there are two things we can do. One is to `sleep` until the end of the measurement, and then call `fetch`. The other one is to call `fetch` immediately after the measurement has been initiated - this way the instrument will return the acquired data right when the measurement is finished. This sounds pretty useful, however there are two considerations to keep in mind: the instrument manual hints that calling fetching immediately after initiation may be slower than waiting for the measurement to complete; if the measurement takes longer than the VISA command timeout, the code may raise a VISA timeout exception while the measurement is properly running (e.g. waiting for a trigger). To overcome the latter problem, one can temporarily change the VISA timeout value during the data fetching:\n",
    "```python\n",
    "new_timeout = old_timeout + n_samples * time_per_sample\n",
    "# where, n_samples == dmm.sample.count(),\n",
    "# and time_per_sample == dmm.sample.timer()\n",
    "with dmm.timeout.set_to(new_timeout):\n",
    "    data = dmm.fetch()\n",
    "```"
   ]
  },
  {
   "cell_type": "markdown",
   "metadata": {},
   "source": [
    "Assuming that we've just slept or waited enough for the measurement to complete, let's `fetch` the data from the instrument. Note that due to the nature of the `fetch` command of the instrument, one can fetch the same measured data more than once (until, for example, a new measurement has been initiated; refer to the instrument's manual for more information on this)."
   ]
  },
  {
   "cell_type": "code",
   "execution_count": 15,
   "metadata": {},
   "outputs": [
    {
     "data": {
      "text/plain": [
       "array([ 0.0092552 ,  0.00434024, -0.00366329, -0.00219105,  0.00356022,\n",
       "        0.01169778, -0.00892942,  0.00458304, -0.00102581, -0.00295006,\n",
       "       -0.00042901, -0.0006983 , -0.02305963,  0.00703878,  0.00509042])"
      ]
     },
     "execution_count": 15,
     "metadata": {},
     "output_type": "execute_result"
    }
   ],
   "source": [
    "data = dmm.fetch()\n",
    "data"
   ]
  },
  {
   "cell_type": "markdown",
   "metadata": {},
   "source": [
    "Note that there is also a `read` method. It's difference from `fetch` is that it also initiates the new measurement. Using `read` might be convenient for some cases while `init_measurement` + `fetch` definitely allow for more control."
   ]
  },
  {
   "cell_type": "markdown",
   "metadata": {},
   "source": [
    "Since the measurement is finished, let's bring back the display to life."
   ]
  },
  {
   "cell_type": "code",
   "execution_count": 16,
   "metadata": {},
   "outputs": [],
   "source": [
    "dmm.display.clear()"
   ]
  },
  {
   "cell_type": "markdown",
   "metadata": {},
   "source": [
    "If needed, it is straightforward to calculate a vector of times when the acquired data points were measured; for example, like this:"
   ]
  },
  {
   "cell_type": "code",
   "execution_count": 17,
   "metadata": {},
   "outputs": [
    {
     "data": {
      "text/plain": [
       "array([0.     , 0.00063, 0.00126, 0.00189, 0.00252, 0.00315, 0.00378,\n",
       "       0.00441, 0.00504, 0.00567, 0.0063 , 0.00693, 0.00756, 0.00819,\n",
       "       0.00882])"
      ]
     },
     "execution_count": 17,
     "metadata": {},
     "output_type": "execute_result"
    }
   ],
   "source": [
    "n = dmm.sample.count()\n",
    "t = dmm.sample.timer()\n",
    "setpoints = numpy.linspace(0, n*t, n)\n",
    "setpoints  # in seconds"
   ]
  },
  {
   "cell_type": "markdown",
   "metadata": {},
   "source": [
    "Note that for this simple type of measurement with measurement times being equidistantly spaced, the `timetrace` parameter is preferred."
   ]
  },
  {
   "cell_type": "markdown",
   "metadata": {},
   "source": [
    "## Special values of some parameters"
   ]
  },
  {
   "cell_type": "markdown",
   "metadata": {},
   "source": [
    "Some parameters can be set to special values like `MIN`/`MAX`/`DEF` which usually mean minimum/maximum/default, respectively. \n",
    "\n",
    "In order to obtain the actual value of the parameter that gets set when setting it to one of these special values, just call the get method of the parameter."
   ]
  },
  {
   "cell_type": "code",
   "execution_count": 18,
   "metadata": {},
   "outputs": [
    {
     "data": {
      "text/plain": [
       "3600.0"
      ]
     },
     "execution_count": 18,
     "metadata": {},
     "output_type": "execute_result"
    }
   ],
   "source": [
    "# Find out what the maximum value of `sample_timer` can be\n",
    "dmm.sample.timer('MAX')\n",
    "dmm.sample.timer()"
   ]
  },
  {
   "cell_type": "code",
   "execution_count": 19,
   "metadata": {},
   "outputs": [
    {
     "data": {
      "text/plain": [
       "1.0"
      ]
     },
     "execution_count": 19,
     "metadata": {},
     "output_type": "execute_result"
    }
   ],
   "source": [
    "# Find out what the default value of `sample_timer` is\n",
    "dmm.sample.timer('DEF')\n",
    "dmm.sample.timer()"
   ]
  },
  {
   "cell_type": "code",
   "execution_count": 20,
   "metadata": {},
   "outputs": [
    {
     "data": {
      "text/plain": [
       "0.000588"
      ]
     },
     "execution_count": 20,
     "metadata": {},
     "output_type": "execute_result"
    }
   ],
   "source": [
    "# Find out what the recommended minumum value of `sample_timer` is\n",
    "dmm.sample.timer('MIN')\n",
    "dmm.sample.timer()"
   ]
  },
  {
   "cell_type": "code",
   "execution_count": 21,
   "metadata": {},
   "outputs": [
    {
     "data": {
      "text/plain": [
       "0.000588"
      ]
     },
     "execution_count": 21,
     "metadata": {},
     "output_type": "execute_result"
    }
   ],
   "source": [
    "# Alternatively, if available, use a conveniently implemented\n",
    "# get-only parameter to find out the actual value,\n",
    "# for example, for MIN value of `sample_timer` there is such\n",
    "# a convenient get-only parameter:\n",
    "dmm.sample.timer_minimum()"
   ]
  },
  {
   "cell_type": "markdown",
   "metadata": {},
   "source": [
    "## Display state impacts command execution speed"
   ]
  },
  {
   "cell_type": "markdown",
   "metadata": {},
   "source": [
    "To improve the execution speed of commands on the instrument, the user may disable the display's updates. When the display is not updating, it may show a static message of up to 40 characters. The `timetrace` parameter (see above) makes use of this functionality to execute faster and at the same time display a message that a measurement is in progress.\n",
    "\n",
    "The driver provides `display` submodule with `text` parameter that displays a given text on the insrturment, and a `clear` method that clears the text from display.\n",
    "\n",
    "The driver's `display` submodule also provides `enabled` parameter. When it is set to `False`, the state of the display is such that it does not show anything. Note, however, that displaying text is still possible when the `display.enabled` is `False` (when `display.enabled` is `False`, `display.clear` clears the text from the screen but does not enable it)."
   ]
  },
  {
   "cell_type": "code",
   "execution_count": 22,
   "metadata": {},
   "outputs": [],
   "source": [
    "# Displays the text\n",
    "dmm.display.text('Hello, World!')"
   ]
  },
  {
   "cell_type": "code",
   "execution_count": 23,
   "metadata": {},
   "outputs": [],
   "source": [
    "# Returns display to its normal state\n",
    "dmm.display.clear()"
   ]
  },
  {
   "cell_type": "code",
   "execution_count": 24,
   "metadata": {},
   "outputs": [],
   "source": [
    "# Note that a call to `display_clear` also updates \n",
    "# the value of the `display_text` parameter:\n",
    "assert dmm.display.text() == ''"
   ]
  },
  {
   "cell_type": "code",
   "execution_count": 25,
   "metadata": {},
   "outputs": [],
   "source": [
    "# Display can also be cleared by setting \n",
    "# `display_text` to an empty string\n",
    "dmm.display.text('some text')  # Displays some text\n",
    "time.sleep(0.5)\n",
    "dmm.display.text('')  # Returns display to its normal state"
   ]
  },
  {
   "cell_type": "code",
   "execution_count": 26,
   "metadata": {},
   "outputs": [],
   "source": [
    "# Disables the display, which makes it turn black\n",
    "dmm.display.enabled(False)"
   ]
  },
  {
   "cell_type": "code",
   "execution_count": 27,
   "metadata": {},
   "outputs": [],
   "source": [
    "# Shows some text on a disabled display\n",
    "dmm.display.text(\"I'm disabled but still showing text\")"
   ]
  },
  {
   "cell_type": "code",
   "execution_count": 28,
   "metadata": {},
   "outputs": [],
   "source": [
    "# Enabling display in this state \n",
    "# won't change what's being displayed\n",
    "dmm.display.enabled(True)"
   ]
  },
  {
   "cell_type": "code",
   "execution_count": 29,
   "metadata": {},
   "outputs": [],
   "source": [
    "# ... but since the display is now enabled,\n",
    "# clearing the display will not only remove the text\n",
    "# but also show all the normal display indicators.\n",
    "dmm.display.clear()"
   ]
  },
  {
   "cell_type": "markdown",
   "metadata": {},
   "source": [
    "## Error handling"
   ]
  },
  {
   "cell_type": "markdown",
   "metadata": {},
   "source": [
    "Use the following methods to read the error queue of the instrument. The instrument has an error queue of length up to 20 messages. The queue message retrieval is first-in-first-out."
   ]
  },
  {
   "cell_type": "code",
   "execution_count": 30,
   "metadata": {},
   "outputs": [
    {
     "data": {
      "text/plain": [
       "(0, 'No error')"
      ]
     },
     "execution_count": 30,
     "metadata": {},
     "output_type": "execute_result"
    }
   ],
   "source": [
    "# Retrieve the first (i.e. oldest) error message \n",
    "# in the queue (and thereby remove from the queue)\n",
    "dmm.error()"
   ]
  },
  {
   "cell_type": "code",
   "execution_count": 31,
   "metadata": {},
   "outputs": [],
   "source": [
    "# The entire queue can be flushed out\n",
    "# using `flush_error_queue` method.\n",
    "# Printing the messages in enabled by default\n",
    "# and can be disables with the `verbose` kwarg.\n",
    "\n",
    "# generate a few errors\n",
    "for _ in range(3):\n",
    "    dmm.write('produce an error!')"
   ]
  },
  {
   "cell_type": "code",
   "execution_count": 32,
   "metadata": {},
   "outputs": [
    {
     "name": "stdout",
     "output_type": "stream",
     "text": [
      "-113 Undefined header\n",
      "-113 Undefined header\n",
      "-113 Undefined header\n",
      "0 No error\n"
     ]
    }
   ],
   "source": [
    "dmm.flush_error_queue(verbose=True)"
   ]
  },
  {
   "cell_type": "code",
   "execution_count": null,
   "metadata": {},
   "outputs": [],
   "source": []
  }
 ],
 "metadata": {
  "kernelspec": {
   "display_name": "Python 3",
   "language": "python",
   "name": "python3"
  },
  "language_info": {
   "codemirror_mode": {
    "name": "ipython",
    "version": 3
   },
   "file_extension": ".py",
   "mimetype": "text/x-python",
   "name": "python",
   "nbconvert_exporter": "python",
   "pygments_lexer": "ipython3",
   "version": "3.7.9"
  },
  "nbsphinx": {
   "execute": "never"
  },
  "toc": {
   "base_numbering": 1,
   "nav_menu": {},
   "number_sections": true,
   "sideBar": true,
   "skip_h1_title": false,
   "title_cell": "Table of Contents",
   "title_sidebar": "Contents",
   "toc_cell": false,
   "toc_position": {},
   "toc_section_display": true,
   "toc_window_display": false
  },
  "varInspector": {
   "cols": {
    "lenName": 16,
    "lenType": 16,
    "lenVar": 40
   },
   "kernels_config": {
    "python": {
     "delete_cmd_postfix": "",
     "delete_cmd_prefix": "del ",
     "library": "var_list.py",
     "varRefreshCmd": "print(var_dic_list())"
    },
    "r": {
     "delete_cmd_postfix": ") ",
     "delete_cmd_prefix": "rm(",
     "library": "var_list.r",
     "varRefreshCmd": "cat(var_dic_list()) "
    }
   },
   "types_to_exclude": [
    "module",
    "function",
    "builtin_function_or_method",
    "instance",
    "_Feature"
   ],
   "window_display": false
  }
 },
 "nbformat": 4,
 "nbformat_minor": 2
}
