{
 "cells": [
  {
   "cell_type": "markdown",
   "metadata": {},
   "source": [
    "# QCoDeS Example with Newport AG-UC8 Piezo Motion Controller"
   ]
  },
  {
   "cell_type": "code",
   "execution_count": 1,
   "metadata": {},
   "outputs": [],
   "source": [
    "import time\n",
    "import qcodes\n",
    "from qcodes.instrument_drivers.Newport.AG_UC8 import Newport_AG_UC8"
   ]
  },
  {
   "cell_type": "markdown",
   "metadata": {},
   "source": [
    "The driver communicates with the Newport AG-UC8 via an USB serial port. In our case the device appears on COM3. The corresponding VISA address is \"ASRL3\"."
   ]
  },
  {
   "cell_type": "code",
   "execution_count": 2,
   "metadata": {},
   "outputs": [],
   "source": [
    "ctl = Newport_AG_UC8(\"Newport\", \"ASRL3\")"
   ]
  },
  {
   "cell_type": "code",
   "execution_count": 3,
   "metadata": {},
   "outputs": [
    {
     "data": {
      "text/plain": [
       "{'firmware': 'v2.2.1', 'model': 'AG-UC8', 'vendor': 'Newport'}"
      ]
     },
     "execution_count": 3,
     "metadata": {},
     "output_type": "execute_result"
    }
   ],
   "source": [
    "ctl.get_idn()"
   ]
  },
  {
   "cell_type": "code",
   "execution_count": 4,
   "metadata": {
    "collapsed": true
   },
   "outputs": [],
   "source": [
    "ctl.reset()"
   ]
  },
  {
   "cell_type": "markdown",
   "metadata": {},
   "source": [
    "In this example, an AG-M100L mount is connected to channel 1 of the controller. The mount can rotate about two axes. Let's first measure the current position on each axis. The position is returned as a number from 0 to 1000 corresponding to the full travel range of the mount.\n",
    "\n",
    "Note that these commands are slow (about 30 seconds on our setup)."
   ]
  },
  {
   "cell_type": "code",
   "execution_count": 5,
   "metadata": {},
   "outputs": [
    {
     "data": {
      "text/plain": [
       "489"
      ]
     },
     "execution_count": 5,
     "metadata": {},
     "output_type": "execute_result"
    }
   ],
   "source": [
    "ctl.channels[0].axis1.measure_position()"
   ]
  },
  {
   "cell_type": "code",
   "execution_count": 6,
   "metadata": {},
   "outputs": [
    {
     "data": {
      "text/plain": [
       "108"
      ]
     },
     "execution_count": 6,
     "metadata": {},
     "output_type": "execute_result"
    }
   ],
   "source": [
    "ctl.channels[0].axis2.measure_position()"
   ]
  },
  {
   "cell_type": "markdown",
   "metadata": {},
   "source": [
    "Now reset the step counter on axis 1."
   ]
  },
  {
   "cell_type": "code",
   "execution_count": 7,
   "metadata": {},
   "outputs": [
    {
     "name": "stdout",
     "output_type": "stream",
     "text": [
      "0\n"
     ]
    }
   ],
   "source": [
    "ctl.channels[0].axis1.zero_position()\n",
    "print(ctl.channels[0].axis1.steps())"
   ]
  },
  {
   "cell_type": "markdown",
   "metadata": {},
   "source": [
    "Then rotate the mount about axis 1 over 500 steps relative to its current position.\n",
    "Note that the \"steps\" used here are not the same unit as the absolute position measured above.\n",
    "A \"step\" here is simply one step of the piezo actuator and the step size depends on the amplitude parameter and on properties of the individual mount."
   ]
  },
  {
   "cell_type": "code",
   "execution_count": 8,
   "metadata": {},
   "outputs": [
    {
     "name": "stdout",
     "output_type": "stream",
     "text": [
      "Status: stepping\n",
      "Accumulated steps: 22\n",
      "Status: ready\n",
      "Accumulated steps: 500\n"
     ]
    }
   ],
   "source": [
    "ctl.channels[0].axis1.move_rel(500)\n",
    "print(\"Status:\", ctl.channels[0].axis1.status())\n",
    "print(\"Accumulated steps:\", ctl.channels[0].axis1.steps())\n",
    "time.sleep(1)\n",
    "print(\"Status:\", ctl.channels[0].axis1.status())\n",
    "print(\"Accumulated steps:\", ctl.channels[0].axis1.steps())"
   ]
  },
  {
   "cell_type": "markdown",
   "metadata": {},
   "source": [
    "Notice how the command \"move_rel\" returns immediately while the actual motion is still in progress. After about 1 second, the motion has completed. If we then query the accumulated step count, we see that it corresponds to the relative movement we commanded.\n",
    "\n",
    "Now let's go back in the other direction."
   ]
  },
  {
   "cell_type": "code",
   "execution_count": 9,
   "metadata": {},
   "outputs": [
    {
     "name": "stdout",
     "output_type": "stream",
     "text": [
      "Accumulated steps: 200\n"
     ]
    }
   ],
   "source": [
    "ctl.channels[0].axis1.move_rel(-300)\n",
    "time.sleep(1)\n",
    "print(\"Accumulated steps:\", ctl.channels[0].axis1.steps())"
   ]
  },
  {
   "cell_type": "markdown",
   "metadata": {},
   "source": [
    "The time between steps and the step amplitude can be changed, separately for each axis.\n",
    "This will affect future \"move_rel\" commands for that axis."
   ]
  },
  {
   "cell_type": "code",
   "execution_count": 10,
   "metadata": {},
   "outputs": [
    {
     "name": "stdout",
     "output_type": "stream",
     "text": [
      "Initial step delay: 0\n",
      "Initial step amplitude: 35\n",
      "New step delay: 50\n",
      "New step amplitude: 20\n"
     ]
    }
   ],
   "source": [
    "print(\"Initial step delay:\", ctl.channels[0].axis1.step_delay())\n",
    "print(\"Initial step amplitude:\", ctl.channels[0].axis1.step_amplitude_neg())\n",
    "ctl.channels[0].axis1.step_delay(50)\n",
    "ctl.channels[0].axis1.step_amplitude_neg(20)\n",
    "print(\"New step delay:\", ctl.channels[0].axis1.step_delay())\n",
    "print(\"New step amplitude:\", ctl.channels[0].axis1.step_amplitude_neg())"
   ]
  },
  {
   "cell_type": "code",
   "execution_count": 11,
   "metadata": {
    "collapsed": true
   },
   "outputs": [],
   "source": [
    "ctl.channels[0].axis1.move_rel(-200)"
   ]
  },
  {
   "cell_type": "markdown",
   "metadata": {},
   "source": [
    "There is also a command to move to an absolute position. The target position is specified in the same units as returned by \"measure_position\": a number from 0 to 1000 representing the full travel range of the axis.\n",
    "\n",
    "This command performs a position measurement before moving to the target position. This is done by sweeping the axis until it touches the limit switches. Therefore this command is slow. Also it only works with actuators that have built-in limit switches (such as the AG-M100L)."
   ]
  },
  {
   "cell_type": "code",
   "execution_count": 12,
   "metadata": {},
   "outputs": [
    {
     "data": {
      "text/plain": [
       "500"
      ]
     },
     "execution_count": 12,
     "metadata": {},
     "output_type": "execute_result"
    }
   ],
   "source": [
    "ctl.channels[0].axis1.move_abs(500)"
   ]
  },
  {
   "cell_type": "markdown",
   "metadata": {},
   "source": [
    "The current status of the limit switches can also be queried directly:"
   ]
  },
  {
   "cell_type": "code",
   "execution_count": 13,
   "metadata": {},
   "outputs": [
    {
     "data": {
      "text/plain": [
       "'not_active'"
      ]
     },
     "execution_count": 13,
     "metadata": {},
     "output_type": "execute_result"
    }
   ],
   "source": [
    "ctl.channels[0].limit_status()"
   ]
  }
 ],
 "metadata": {
  "kernelspec": {
   "display_name": "Python 3",
   "language": "python",
   "name": "python3"
  },
  "language_info": {
   "codemirror_mode": {
    "name": "ipython",
    "version": 3
   },
   "file_extension": ".py",
   "mimetype": "text/x-python",
   "name": "python",
   "nbconvert_exporter": "python",
   "pygments_lexer": "ipython3",
   "version": "3.6.6"
  },
  "nbsphinx": {
   "execute": "never"
  }
 },
 "nbformat": 4,
 "nbformat_minor": 1
}
