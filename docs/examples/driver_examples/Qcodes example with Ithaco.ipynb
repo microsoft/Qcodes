{
 "cells": [
  {
   "cell_type": "markdown",
   "metadata": {},
   "source": [
    "# QCoDeS Example with Itacho"
   ]
  },
  {
   "cell_type": "markdown",
   "metadata": {},
   "source": [
    "In this notebook, we show how to use Itacho in a simple setup. We sweep the current using a Keithley 2614B sourcemeter as the current source. Itacho 1211 will convert the current to voltage and we readout the voltage using a DMM Agilent 34401A. Our test setup is as the following picture:"
   ]
  },
  {
   "cell_type": "markdown",
   "metadata": {},
   "source": [
    "![title](../files/ithaco_setup.png)"
   ]
  },
  {
   "cell_type": "markdown",
   "metadata": {},
   "source": [
    "### Required imports"
   ]
  },
  {
   "cell_type": "code",
   "execution_count": 1,
   "metadata": {},
   "outputs": [],
   "source": [
    "import time\n",
    "from qcodes.instrument.parameter import Parameter\n",
    "\n",
    "from qcodes.utils.dataset.doNd import do1d\n",
    "from qcodes.dataset.plotting import plot_dataset\n",
    "from qcodes import load_by_run_spec, load_or_create_experiment,\\\n",
    "initialise_or_create_database_at\n",
    "\n",
    "from qcodes.instrument_drivers.tektronix.Keithley_2600_channels import\\\n",
    "Keithley_2600 as keith\n",
    "import qcodes.instrument_drivers.agilent.Agilent_34400A as agi\n",
    "import qcodes.instrument_drivers.ithaco.Ithaco_1211 as ithaco"
   ]
  },
  {
   "cell_type": "code",
   "execution_count": 2,
   "metadata": {},
   "outputs": [
    {
     "name": "stdout",
     "output_type": "stream",
     "text": [
      "Logging hadn't been started.\n",
      "Activating auto-logging. Current session state plus future input saved.\n",
      "Filename       : C:\\Users\\QCoDeS_Public\\.qcodes\\logs\\command_history.log\n",
      "Mode           : append\n",
      "Output logging : True\n",
      "Raw input log  : False\n",
      "Timestamping   : True\n",
      "State          : active\n",
      "Qcodes Logfile : C:\\Users\\QCoDeS_Public\\.qcodes\\logs\\201109-10868-qcodes.log\n"
     ]
    }
   ],
   "source": [
    "from qcodes.logger import start_all_logging\n",
    "start_all_logging()"
   ]
  },
  {
   "cell_type": "markdown",
   "metadata": {},
   "source": [
    "### Connecting to the instruments"
   ]
  },
  {
   "cell_type": "code",
   "execution_count": 3,
   "metadata": {
    "scrolled": true
   },
   "outputs": [
    {
     "name": "stdout",
     "output_type": "stream",
     "text": [
      "Connected to: HEWLETT-PACKARD 34401A (serial:0, firmware:10-5-2) in 0.21s\n",
      "Connected to: Keithley Instruments Inc. 2614B (serial:4305420, firmware:3.2.2) in 0.08s\n"
     ]
    }
   ],
   "source": [
    "a1 = agi.Agilent_34400A('Agilent1', 'GPIB0::4::INSTR')\n",
    "k1 = keith('Keithley', 'GPIB0::26::INSTR')"
   ]
  },
  {
   "cell_type": "markdown",
   "metadata": {},
   "source": [
    "Itacho QCoDeS driver is only a virtual driver without any communication with the instrument. The instrument setting are only controlled via the front and back panel and the used QCoDeS setting must match its corresponding setting on the panel. Now, we instantiate an instance of the instrument:"
   ]
  },
  {
   "cell_type": "code",
   "execution_count": 4,
   "metadata": {},
   "outputs": [],
   "source": [
    "camp = ithaco.Ithaco_1211('camp')"
   ]
  },
  {
   "cell_type": "markdown",
   "metadata": {},
   "source": [
    "### Configuration"
   ]
  },
  {
   "cell_type": "markdown",
   "metadata": {},
   "source": [
    "We set Ampere per Volt Sensitivity here, which match with the setting on the instrument panel (the rest of the setting are set according to their default values in the driver): "
   ]
  },
  {
   "cell_type": "code",
   "execution_count": 5,
   "metadata": {},
   "outputs": [],
   "source": [
    "camp.sens.set(1e-4)"
   ]
  },
  {
   "cell_type": "markdown",
   "metadata": {},
   "source": [
    "Now, we use CurrentParameter class of Itacho to setup the following parameter, which is showing the fed current to the instantiated camp and converted voltage sent to our connected DMM via a1.volt."
   ]
  },
  {
   "cell_type": "code",
   "execution_count": 6,
   "metadata": {},
   "outputs": [],
   "source": [
    "curr = ithaco.CurrentParameter(a1.volt, camp)"
   ]
  },
  {
   "cell_type": "markdown",
   "metadata": {},
   "source": [
    "Let's look at the present value of curr (the sourcemeter is not connected yet):"
   ]
  },
  {
   "cell_type": "code",
   "execution_count": 7,
   "metadata": {},
   "outputs": [
    {
     "data": {
      "text/plain": [
       "(6.409e-05, -6.4090000000000005e-09)"
      ]
     },
     "execution_count": 7,
     "metadata": {},
     "output_type": "execute_result"
    }
   ],
   "source": [
    "curr()"
   ]
  },
  {
   "cell_type": "markdown",
   "metadata": {},
   "source": [
    "The current value is practically zero. The voltage value is the current value divided by 1e-4 A/V according to the setting camp.sens.set(1e-4). Thus, Itacho converts the feed to voltage and amplifies it. Let's look at the units of curr:"
   ]
  },
  {
   "cell_type": "code",
   "execution_count": 8,
   "metadata": {},
   "outputs": [
    {
     "data": {
      "text/plain": [
       "('V', 'A')"
      ]
     },
     "execution_count": 8,
     "metadata": {},
     "output_type": "execute_result"
    }
   ],
   "source": [
    "curr.units"
   ]
  },
  {
   "cell_type": "markdown",
   "metadata": {},
   "source": [
    "Our connected DMM reads a similar voltage value:"
   ]
  },
  {
   "cell_type": "code",
   "execution_count": 9,
   "metadata": {},
   "outputs": [
    {
     "data": {
      "text/plain": [
       "6.4838e-05"
      ]
     },
     "execution_count": 9,
     "metadata": {},
     "output_type": "execute_result"
    }
   ],
   "source": [
    "a1.volt()"
   ]
  },
  {
   "cell_type": "markdown",
   "metadata": {},
   "source": [
    "We set the integration time of our DMM as below:"
   ]
  },
  {
   "cell_type": "code",
   "execution_count": 10,
   "metadata": {},
   "outputs": [],
   "source": [
    "a1.NPLC.set(1)"
   ]
  },
  {
   "cell_type": "markdown",
   "metadata": {},
   "source": [
    "Let's look at the snapshot of our created Itacho instance"
   ]
  },
  {
   "cell_type": "code",
   "execution_count": 11,
   "metadata": {},
   "outputs": [
    {
     "data": {
      "text/plain": [
       "{'functions': {},\n",
       " 'submodules': {},\n",
       " '__class__': 'qcodes.instrument_drivers.ithaco.Ithaco_1211.Ithaco_1211',\n",
       " 'parameters': {'IDN': {'__class__': 'qcodes.instrument.parameter.Parameter',\n",
       "   'full_name': 'camp_IDN',\n",
       "   'value': None,\n",
       "   'raw_value': None,\n",
       "   'ts': None,\n",
       "   'label': 'IDN',\n",
       "   'unit': '',\n",
       "   'vals': '<Anything>',\n",
       "   'post_delay': 0,\n",
       "   'instrument': 'qcodes.instrument_drivers.ithaco.Ithaco_1211.Ithaco_1211',\n",
       "   'instrument_name': 'camp',\n",
       "   'inter_delay': 0,\n",
       "   'name': 'IDN'},\n",
       "  'sens': {'__class__': 'qcodes.instrument.parameter.Parameter',\n",
       "   'full_name': 'camp_sens',\n",
       "   'value': 0.0001,\n",
       "   'raw_value': 0.0001,\n",
       "   'ts': '2020-11-09 12:02:45',\n",
       "   'label': 'Sensitivity',\n",
       "   'unit': 'A/V',\n",
       "   'vals': '<Enum: {1e-09, 1e-05, 1e-08, 1e-10, 0.0001, 0.001, 1e-07, 1e-06, 1e-11}>',\n",
       "   'post_delay': 0,\n",
       "   'instrument': 'qcodes.instrument_drivers.ithaco.Ithaco_1211.Ithaco_1211',\n",
       "   'instrument_name': 'camp',\n",
       "   'inter_delay': 0,\n",
       "   'name': 'sens'},\n",
       "  'invert': {'__class__': 'qcodes.instrument.parameter.Parameter',\n",
       "   'full_name': 'camp_invert',\n",
       "   'value': True,\n",
       "   'raw_value': True,\n",
       "   'ts': '2020-11-09 12:02:45',\n",
       "   'label': 'Inverted output',\n",
       "   'unit': '',\n",
       "   'vals': '<Boolean>',\n",
       "   'post_delay': 0,\n",
       "   'instrument': 'qcodes.instrument_drivers.ithaco.Ithaco_1211.Ithaco_1211',\n",
       "   'instrument_name': 'camp',\n",
       "   'inter_delay': 0,\n",
       "   'name': 'invert'},\n",
       "  'sens_factor': {'__class__': 'qcodes.instrument.parameter.Parameter',\n",
       "   'full_name': 'camp_sens_factor',\n",
       "   'value': 1,\n",
       "   'raw_value': 1,\n",
       "   'ts': '2020-11-09 12:02:45',\n",
       "   'label': 'Sensitivity factor',\n",
       "   'unit': '',\n",
       "   'vals': '<Enum: {0.1, 1, 10}>',\n",
       "   'post_delay': 0,\n",
       "   'instrument': 'qcodes.instrument_drivers.ithaco.Ithaco_1211.Ithaco_1211',\n",
       "   'instrument_name': 'camp',\n",
       "   'inter_delay': 0,\n",
       "   'name': 'sens_factor'},\n",
       "  'suppression': {'__class__': 'qcodes.instrument.parameter.Parameter',\n",
       "   'full_name': 'camp_suppression',\n",
       "   'value': 1e-07,\n",
       "   'raw_value': 1e-07,\n",
       "   'ts': '2020-11-09 12:02:39',\n",
       "   'label': 'Suppression',\n",
       "   'unit': 'A',\n",
       "   'vals': '<Enum: {1e-09, 1e-05, 1e-08, 1e-10, 0.0001, 1e-07, 1e-06, 0.001}>',\n",
       "   'post_delay': 0,\n",
       "   'instrument': 'qcodes.instrument_drivers.ithaco.Ithaco_1211.Ithaco_1211',\n",
       "   'instrument_name': 'camp',\n",
       "   'inter_delay': 0,\n",
       "   'name': 'suppression'},\n",
       "  'risetime': {'__class__': 'qcodes.instrument.parameter.Parameter',\n",
       "   'full_name': 'camp_risetime',\n",
       "   'value': 0.3,\n",
       "   'raw_value': 0.3,\n",
       "   'ts': '2020-11-09 12:02:39',\n",
       "   'label': 'Rise Time',\n",
       "   'unit': 'msec',\n",
       "   'vals': '<Enum: {0.03, 1, 0.1, 0.3, 3, 100, 1000, 10, 0.01, 300, 30}>',\n",
       "   'post_delay': 0,\n",
       "   'instrument': 'qcodes.instrument_drivers.ithaco.Ithaco_1211.Ithaco_1211',\n",
       "   'instrument_name': 'camp',\n",
       "   'inter_delay': 0,\n",
       "   'name': 'risetime'}},\n",
       " 'name': 'camp'}"
      ]
     },
     "execution_count": 11,
     "metadata": {},
     "output_type": "execute_result"
    }
   ],
   "source": [
    "camp.snapshot()"
   ]
  },
  {
   "cell_type": "markdown",
   "metadata": {},
   "source": [
    "### Setting up qcodes database and performing a simple measurement"
   ]
  },
  {
   "cell_type": "markdown",
   "metadata": {},
   "source": [
    "Now, we want to feed our Itacho using our Keithley sourcemeter and run a simple qcodes measurement to see the output of the swept values passing through Itacho (for knowing how our sourcemeter works, you can refer to its qcodes notebook in the following:\n",
    "[Qcodes example with Keithley 2600][mylink]\n",
    "\n",
    "[mylink]: ./Qcodes%20example%20with%20Keithley%202600.ipynb"
   ]
  },
  {
   "cell_type": "markdown",
   "metadata": {},
   "source": [
    "We initilize a database named \"itacho_db.db\" and save our measured data there. Then, we create an experiment named \"Itacho_measurement\" or load it if is already created:"
   ]
  },
  {
   "cell_type": "code",
   "execution_count": 12,
   "metadata": {},
   "outputs": [],
   "source": [
    "initialise_or_create_database_at('itacho_db.db')\n",
    "exp = load_or_create_experiment('Itacho_measurement', sample_name='no sample')"
   ]
  },
  {
   "cell_type": "markdown",
   "metadata": {},
   "source": [
    "Now, we would like to use qcodes do1d function to sweep over current values\n",
    "generated by our sourcemeter. The current is fed to Itacho and we measure the converted and amplified voltage using the instantiated curr parameter. Qcodes Measurement can be also used for the same reason, instead.\n",
    "We set our sourcemeter in the 'current' mode and sweep from 1e-6 A to 1e-3 A in 20 steps with 1 second interdelay between each two consecutive steps:"
   ]
  },
  {
   "cell_type": "code",
   "execution_count": 13,
   "metadata": {},
   "outputs": [],
   "source": [
    "k1.smua.mode('current')"
   ]
  },
  {
   "cell_type": "code",
   "execution_count": 14,
   "metadata": {},
   "outputs": [
    {
     "name": "stdout",
     "output_type": "stream",
     "text": [
      "Starting experimental run with id: 4. \n",
      "Measurement took 21.38200354576111 seconds\n"
     ]
    }
   ],
   "source": [
    "t1 = time.time()\n",
    "do1d(k1.smua.curr, 1e-6, 1e-3, 20, 1, curr, do_plot=False)\n",
    "t2 = time.time()\n",
    "print(f'Measurement took {t2-t1} seconds')"
   ]
  },
  {
   "cell_type": "markdown",
   "metadata": {},
   "source": [
    "As expected, the measurement took around 20 seconds. Now, we want to plot our measured dataset. We use qcodes to find the dataset that we want to plot in the database, and tweak plotting axes for showing it in a scatter plot. "
   ]
  },
  {
   "cell_type": "code",
   "execution_count": 15,
   "metadata": {},
   "outputs": [
    {
     "data": {
      "text/plain": [
       "<bound method Experiment.data_set of Itacho_measurement#no sample#1@C:\\Users\\a-fbonabi\\Desktop\\FilesToFarzad\\itacho_db.db\n",
       "------------------------------------------------------------------------------------\n",
       "1-results-1-Keithley_smua_curr,volt_raw,curr-40\n",
       "2-results-2-Keithley_smua_curr,volt_raw,curr-40\n",
       "3-results-3-Keithley_smua_curr,volt_raw,curr-40\n",
       "4-results-4-Keithley_smua_curr,volt_raw,curr-40>"
      ]
     },
     "execution_count": 15,
     "metadata": {},
     "output_type": "execute_result"
    }
   ],
   "source": [
    "exp.data_set"
   ]
  },
  {
   "cell_type": "code",
   "execution_count": 16,
   "metadata": {},
   "outputs": [],
   "source": [
    "dataset = load_by_run_spec(experiment_name='Itacho_measurement',\\\n",
    "                           captured_run_id=4)"
   ]
  },
  {
   "cell_type": "code",
   "execution_count": 17,
   "metadata": {
    "scrolled": true
   },
   "outputs": [
    {
     "data": {
      "image/png": "[encoded data removed]",
      "text/plain": [
       "<Figure size 432x288 with 1 Axes>"
      ]
     },
     "metadata": {
      "needs_background": "light"
     },
     "output_type": "display_data"
    },
    {
     "data": {
      "image/png": "[encoded data removed]",
      "text/plain": [
       "<Figure size 432x288 with 1 Axes>"
      ]
     },
     "metadata": {
      "needs_background": "light"
     },
     "output_type": "display_data"
    }
   ],
   "source": [
    "axes, cbax = plot_dataset(dataset)\n",
    "for i in range(2):\n",
    "    axes[i].lines[0].set_marker('o')\n",
    "    axes[i].lines[0].set_markerfacecolor((0.6, 0.6, 0.9))\n",
    "    axes[i].lines[0].set_markeredgecolor((0.4, 0.6, 0.9))\n",
    "    axes[i].lines[0].set_color((0.8, 0.8, 0.8))"
   ]
  },
  {
   "cell_type": "markdown",
   "metadata": {},
   "source": [
    "We see two results in the figure above; the first and second figures are the converted voltages and fed current, respectively against the swept current. If we look at our attached DMM, we see that it is showing -10.00 V DC, which is the same as the final voltage value in the first figure. Therefore, both results are as expected and showing that our Ithaco's virtual driver is performing as it should."
   ]
  },
  {
   "cell_type": "markdown",
   "metadata": {},
   "source": [
    "Let's explore our dataset, because why not :)"
   ]
  },
  {
   "cell_type": "code",
   "execution_count": 18,
   "metadata": {},
   "outputs": [
    {
     "data": {
      "text/plain": [
       "{'curr':                             curr\n",
       " Keithley_smua_curr              \n",
       " 0.000001            9.443364e-07\n",
       " 0.000054            5.357243e-05\n",
       " 0.000106            1.062108e-04\n",
       " 0.000159            1.588324e-04\n",
       " 0.000211            2.114506e-04\n",
       " 0.000264            2.640623e-04\n",
       " 0.000316            3.166975e-04\n",
       " 0.000369            3.693167e-04\n",
       " 0.000422            4.219315e-04\n",
       " 0.000474            4.745453e-04\n",
       " 0.000527            5.271591e-04\n",
       " 0.000579            5.797739e-04\n",
       " 0.000632            6.324015e-04\n",
       " 0.000685            6.850098e-04\n",
       " 0.000737            7.376224e-04\n",
       " 0.000790            7.902317e-04\n",
       " 0.000842            8.428346e-04\n",
       " 0.000895            8.954364e-04\n",
       " 0.000947            9.480564e-04\n",
       " 0.001000            1.000660e-03,\n",
       " 'volt_raw':                      volt_raw\n",
       " Keithley_smua_curr           \n",
       " 0.000001            -0.009443\n",
       " 0.000054            -0.535724\n",
       " 0.000106            -1.062108\n",
       " 0.000159            -1.588324\n",
       " 0.000211            -2.114506\n",
       " 0.000264            -2.640623\n",
       " 0.000316            -3.166975\n",
       " 0.000369            -3.693167\n",
       " 0.000422            -4.219316\n",
       " 0.000474            -4.745453\n",
       " 0.000527            -5.271591\n",
       " 0.000579            -5.797739\n",
       " 0.000632            -6.324014\n",
       " 0.000685            -6.850098\n",
       " 0.000737            -7.376224\n",
       " 0.000790            -7.902317\n",
       " 0.000842            -8.428346\n",
       " 0.000895            -8.954364\n",
       " 0.000947            -9.480564\n",
       " 0.001000           -10.006602}"
      ]
     },
     "execution_count": 18,
     "metadata": {},
     "output_type": "execute_result"
    }
   ],
   "source": [
    "dataset.to_pandas_dataframe_dict()"
   ]
  },
  {
   "cell_type": "markdown",
   "metadata": {},
   "source": [
    "In the above two tables, Keithley_smua_curr in both tables are the swept current values generated by our sourcemeter. The top table's second column (with the title curr) is showing the current values and the bottom table's second column (volt_raw) is showing voltage values of our Itacho's curr parameter."
   ]
  },
  {
   "cell_type": "code",
   "execution_count": null,
   "metadata": {},
   "outputs": [],
   "source": []
  }
 ],
 "metadata": {
  "kernelspec": {
   "display_name": "Python 3",
   "language": "python",
   "name": "python3"
  },
  "language_info": {
   "codemirror_mode": {
    "name": "ipython",
    "version": 3
   },
   "file_extension": ".py",
   "mimetype": "text/x-python",
   "name": "python",
   "nbconvert_exporter": "python",
   "pygments_lexer": "ipython3",
   "version": "3.7.9"
  },
  "nbsphinx": {
   "execute": "never"
  }
 },
 "nbformat": 4,
 "nbformat_minor": 4
}
