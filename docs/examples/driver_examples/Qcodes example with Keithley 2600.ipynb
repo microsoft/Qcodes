{
 "cells": [
  {
   "cell_type": "markdown",
   "metadata": {},
   "source": [
    "# Qcodes example with Keithley 2600"
   ]
  },
  {
   "cell_type": "code",
   "execution_count": 1,
   "metadata": {},
   "outputs": [
    {
     "data": {
      "application/javascript": [
       "/*\r\n",
       " * Qcodes Jupyter/IPython widgets\r\n",
       " */\r\n",
       "require([\r\n",
       "    'nbextensions/widgets/widgets/js/widget',\r\n",
       "    'nbextensions/widgets/widgets/js/manager'\r\n",
       "], function (widget, manager) {\r\n",
       "\r\n",
       "    var UpdateView = widget.DOMWidgetView.extend({\r\n",
       "        render: function() {\r\n",
       "            window.MYWIDGET = this;\r\n",
       "            this._interval = 0;\r\n",
       "            this.update();\r\n",
       "        },\r\n",
       "        update: function() {\r\n",
       "            this.display(this.model.get('_message'));\r\n",
       "            this.setInterval();\r\n",
       "        },\r\n",
       "        display: function(message) {\r\n",
       "            /*\r\n",
       "             * display method: override this for custom display logic\r\n",
       "             */\r\n",
       "            this.el.innerHTML = message;\r\n",
       "        },\r\n",
       "        remove: function() {\r\n",
       "            clearInterval(this._updater);\r\n",
       "        },\r\n",
       "        setInterval: function(newInterval) {\r\n",
       "            var me = this;\r\n",
       "            if(newInterval===undefined) newInterval = me.model.get('interval');\r\n",
       "            if(newInterval===me._interval) return;\r\n",
       "\r\n",
       "            me._interval = newInterval;\r\n",
       "\r\n",
       "            if(me._updater) clearInterval(me._updater);\r\n",
       "\r\n",
       "            if(me._interval) {\r\n",
       "                me._updater = setInterval(function() {\r\n",
       "                    me.send({myupdate: true});\r\n",
       "                    if(!me.model.comm_live) {\r\n",
       "                        console.log('missing comm, canceling widget updates', me);\r\n",
       "                        clearInterval(me._updater);\r\n",
       "                    }\r\n",
       "                }, me._interval * 1000);\r\n",
       "            }\r\n",
       "        }\r\n",
       "    });\r\n",
       "    manager.WidgetManager.register_widget_view('UpdateView', UpdateView);\r\n",
       "\r\n",
       "    var HiddenUpdateView = UpdateView.extend({\r\n",
       "        display: function(message) {\r\n",
       "            this.$el.hide();\r\n",
       "        }\r\n",
       "    });\r\n",
       "    manager.WidgetManager.register_widget_view('HiddenUpdateView', HiddenUpdateView);\r\n",
       "\r\n",
       "    var SubprocessView = UpdateView.extend({\r\n",
       "        render: function() {\r\n",
       "            var me = window.SPVIEW = this;\r\n",
       "            me._interval = 0;\r\n",
       "            me._minimize = '<i class=\"fa-minus fa\"></i>';\r\n",
       "            me._restore = '<i class=\"fa-plus fa\"></i>';\r\n",
       "\r\n",
       "            // in case there is already an outputView present,\r\n",
       "            // like from before restarting the kernel\r\n",
       "            $('.qcodes-output-view').not(me.$el).remove();\r\n",
       "\r\n",
       "            me.$el\r\n",
       "                .addClass('qcodes-output-view')\r\n",
       "                .attr('qcodes-state', 'docked')\r\n",
       "                .html(\r\n",
       "                    '<div class=\"qcodes-output-header toolbar\">' +\r\n",
       "                        '<span></span>' +\r\n",
       "                        '<button class=\"btn qcodes-abort-loop disabled\">Abort</button>' +\r\n",
       "                        '<button class=\"btn qcodes-clear-output disabled qcodes-content\">Clear</button>' +\r\n",
       "                        '<button class=\"btn js-state qcodes-minimized\"><i class=\"fa-minus fa\"></i></button>' +\r\n",
       "                        '<button class=\"btn js-state qcodes-docked\"><i class=\"fa-toggle-up fa\"></i></button>' +\r\n",
       "                        '<button class=\"btn js-state qcodes-floated\"><i class=\"fa-arrows fa\"></i></button>' +\r\n",
       "                    '</div>' +\r\n",
       "                    '<pre class=\"qcodes-content\"></pre>'\r\n",
       "                );\r\n",
       "\r\n",
       "            me.clearButton = me.$el.find('.qcodes-clear-output');\r\n",
       "            me.minButton = me.$el.find('.qcodes-minimize');\r\n",
       "            me.outputArea = me.$el.find('pre');\r\n",
       "            me.subprocessList = me.$el.find('span');\r\n",
       "            me.abortButton = me.$el.find('.qcodes-abort-loop');\r\n",
       "\r\n",
       "            me.clearButton.click(function() {\r\n",
       "                me.outputArea.html('');\r\n",
       "                me.clearButton.addClass('disabled');\r\n",
       "            });\r\n",
       "\r\n",
       "            me.abortButton.click(function() {\r\n",
       "                me.send({abort: true});\r\n",
       "            });\r\n",
       "\r\n",
       "            me.$el.find('.js-state').click(function() {\r\n",
       "                var oldState = me.$el.attr('qcodes-state'),\r\n",
       "                    state = this.className.substr(this.className.indexOf('qcodes'))\r\n",
       "                        .split('-')[1].split(' ')[0];\r\n",
       "\r\n",
       "                // not sure why I can't pop it out of the widgetarea in render, but it seems that\r\n",
       "                // some other bit of code resets the parent after render if I do it there.\r\n",
       "                // To be safe, just do it on every state click.\r\n",
       "                me.$el.appendTo('body');\r\n",
       "\r\n",
       "                if(oldState === 'floated') {\r\n",
       "                    me.$el.draggable('destroy').css({left:'', top: ''});\r\n",
       "                }\r\n",
       "\r\n",
       "                me.$el.attr('qcodes-state', state);\r\n",
       "\r\n",
       "                if(state === 'floated') {\r\n",
       "                    me.$el.draggable().css({\r\n",
       "                        left: window.innerWidth - me.$el.width() - 15,\r\n",
       "                        top: window.innerHeight - me.$el.height() - 10\r\n",
       "                    });\r\n",
       "                }\r\n",
       "            });\r\n",
       "\r\n",
       "            $(window).resize(function() {\r\n",
       "                if(me.$el.attr('qcodes-state') === 'floated') {\r\n",
       "                    var position = me.$el.position(),\r\n",
       "                        minVis = 20,\r\n",
       "                        maxLeft = window.innerWidth - minVis,\r\n",
       "                        maxTop = window.innerHeight - minVis;\r\n",
       "\r\n",
       "                    if(position.left > maxLeft) me.$el.css('left', maxLeft);\r\n",
       "                    if(position.top > maxTop) me.$el.css('top', maxTop);\r\n",
       "                }\r\n",
       "            });\r\n",
       "\r\n",
       "            me.update();\r\n",
       "        },\r\n",
       "\r\n",
       "        display: function(message) {\r\n",
       "            if(message) {\r\n",
       "                var initialScroll = this.outputArea.scrollTop();\r\n",
       "                this.outputArea.scrollTop(this.outputArea.prop('scrollHeight'));\r\n",
       "                var scrollBottom = this.outputArea.scrollTop();\r\n",
       "\r\n",
       "                if(this.$el.attr('qcodes-state') === 'minimized') {\r\n",
       "                    this.$el.find('.qcodes-docked').click();\r\n",
       "                    // always scroll to the bottom if we're restoring\r\n",
       "                    // because of a new message\r\n",
       "                    initialScroll = scrollBottom;\r\n",
       "                }\r\n",
       "\r\n",
       "                this.outputArea.append(message);\r\n",
       "                this.clearButton.removeClass('disabled');\r\n",
       "\r\n",
       "                // if we were scrolled to the bottom initially, make sure\r\n",
       "                // we stay that way.\r\n",
       "                this.outputArea.scrollTop(initialScroll === scrollBottom ?\r\n",
       "                    this.outputArea.prop('scrollHeight') : initialScroll);\r\n",
       "            }\r\n",
       "\r\n",
       "            var processes = this.model.get('_processes') || 'No subprocesses';\r\n",
       "            this.abortButton.toggleClass('disabled', processes.indexOf('Measurement')===-1);\r\n",
       "            this.subprocessList.text(processes);\r\n",
       "        }\r\n",
       "    });\r\n",
       "    manager.WidgetManager.register_widget_view('SubprocessView', SubprocessView);\r\n",
       "});\r\n"
      ],
      "text/plain": [
       "<IPython.core.display.Javascript object>"
      ]
     },
     "metadata": {},
     "output_type": "display_data"
    },
    {
     "data": {
      "text/html": [
       "<style>.qcodes-output-view:not(.ui-draggable) {\r\n",
       "    bottom: 0;\r\n",
       "    right: 5px;\r\n",
       "}\r\n",
       ".qcodes-output-view {\r\n",
       "    position: fixed;\r\n",
       "    z-index: 999;\r\n",
       "    background-color: #fff;\r\n",
       "    box-shadow: 0 0 12px 1px rgba(87, 87, 87, 0.2);\r\n",
       "}\r\n",
       "\r\n",
       ".qcodes-output-header  {\r\n",
       "    float: right;\r\n",
       "}\r\n",
       "\r\n",
       ".qcodes-output-view span {\r\n",
       "    padding: 2px 6px 3px 12px;\r\n",
       "}\r\n",
       "\r\n",
       ".qcodes-output-view .btn {\r\n",
       "    margin: 0 3px 0 0;\r\n",
       "}\r\n",
       "\r\n",
       ".qcodes-output-view[qcodes-state=docked] .qcodes-docked,\r\n",
       ".qcodes-output-view[qcodes-state=floated] .qcodes-floated,\r\n",
       ".qcodes-output-view[qcodes-state=minimized] .qcodes-minimized,\r\n",
       ".qcodes-output-view[qcodes-state=minimized] .qcodes-content {\r\n",
       "    display: none;\r\n",
       "}\r\n",
       "\r\n",
       ".qcodes-output-view .disabled {\r\n",
       "    opacity: 0.4;\r\n",
       "}\r\n",
       "\r\n",
       ".qcodes-abort-loop {\r\n",
       "    background-color: #844;\r\n",
       "    color: #fff;\r\n",
       "}\r\n",
       "\r\n",
       ".qcodes-output-view pre {\r\n",
       "    clear: both;\r\n",
       "    margin: 0;\r\n",
       "    border: 0;\r\n",
       "    border-top: 1px solid #ccc;\r\n",
       "    background-color: #ffe;\r\n",
       "    min-height: 50px;\r\n",
       "    max-height: 400px;\r\n",
       "    min-width: 400px;\r\n",
       "    max-width: 1000px;\r\n",
       "}</style>"
      ],
      "text/plain": [
       "<IPython.core.display.HTML object>"
      ]
     },
     "metadata": {},
     "output_type": "display_data"
    },
    {
     "name": "stdout",
     "output_type": "stream",
     "text": [
      "No loop running\n"
     ]
    }
   ],
   "source": [
    "%matplotlib nbagg\n",
    "import matplotlib.pyplot as plt\n",
    "import time\n",
    "import numpy as np\n",
    "\n",
    "import qcodes as qc\n",
    "\n",
    "qc.halt_bg()\n",
    "qc.set_mp_method('spawn')  # force Windows behavior on mac\n",
    "\n",
    "# this makes a widget in the corner of the window to show and control\n",
    "# subprocesses and any output they would print to the terminal\n",
    "qc.show_subprocess_widget()"
   ]
  },
  {
   "cell_type": "code",
   "execution_count": null,
   "metadata": {},
   "outputs": [],
   "source": []
  },
  {
   "cell_type": "code",
   "execution_count": 2,
   "metadata": {
    "collapsed": true
   },
   "outputs": [],
   "source": [
    "import qcodes.instrument_drivers.tektronix.Keithley_2600 as keith"
   ]
  },
  {
   "cell_type": "code",
   "execution_count": 3,
   "metadata": {},
   "outputs": [],
   "source": [
    "# spawn doesn't like function or class definitions in the interpreter\n",
    "# session - had to move them to a file.\n",
    "\n",
    "# now create this \"experiment\"\n",
    "k1 = keith.Keithley_2600('Keithley1', 'GPIB0::15::INSTR',channel='a')#,server_name=None)\n",
    "k2 = keith.Keithley_2600('Keithley2', 'GPIB0::15::INSTR',channel='b')#,server_name=None)\n",
    "\n",
    "station = qc.Station(k1,k2)\n",
    "\n",
    "# could measure any number of things by adding arguments to this\n",
    "# function call, but here we're just measuring one, the meter amplitude\n",
    "station.set_measurement(k1.curr,k2.curr)\n",
    "\n",
    "# it's nice to have the key parameters be part of the global namespace\n",
    "# that way they're objects that we can easily set, get, and slice\n",
    "# this could be simplified to a station method that gathers all parameters\n",
    "# and adds them all as (disambiguated) globals, printing what it did\n",
    "# something like:\n",
    "#   station.gather_parameters(globals())\n",
    "\n",
    "vsd1, vsd2, curr1, curr2 = k1.volt, k2.volt, k1.curr, k2.curr\n",
    "\n",
    "# once we have implemented a monitor, defining a station will start a\n",
    "# DataServer process, and you would see it in the subprocess widget,\n",
    "# or via active_children() as here:\n",
    "# qc.active_children()"
   ]
  },
  {
   "cell_type": "code",
   "execution_count": 4,
   "metadata": {
    "scrolled": false
   },
   "outputs": [
    {
     "data": {
      "text/plain": [
       "{'instruments': {'Keithley1': {'functions': {},\n",
       "   'metadata': {'info': {'model': '2614B',\n",
       "     'serial_number': '4083825',\n",
       "     'software_revision': '3.2.1',\n",
       "     'vendor': 'Keithley Instruments Inc.'}},\n",
       "   'parameters': {'curr': {'ts': None, 'value': None},\n",
       "    'limiti': {'ts': None, 'value': None},\n",
       "    'limitv': {'ts': None, 'value': None},\n",
       "    'mode': {'ts': None, 'value': None},\n",
       "    'output': {'ts': None, 'value': None},\n",
       "    'rangei': {'ts': None, 'value': None},\n",
       "    'rangev': {'ts': None, 'value': None},\n",
       "    'volt': {'ts': None, 'value': None}}},\n",
       "  'Keithley2': {'functions': {},\n",
       "   'metadata': {'info': {'model': '2614B',\n",
       "     'serial_number': '4083825',\n",
       "     'software_revision': '3.2.1',\n",
       "     'vendor': 'Keithley Instruments Inc.'}},\n",
       "   'parameters': {'curr': {'ts': None, 'value': None},\n",
       "    'limiti': {'ts': None, 'value': None},\n",
       "    'limitv': {'ts': None, 'value': None},\n",
       "    'mode': {'ts': None, 'value': None},\n",
       "    'output': {'ts': None, 'value': None},\n",
       "    'rangei': {'ts': None, 'value': None},\n",
       "    'rangev': {'ts': None, 'value': None},\n",
       "    'volt': {'ts': None, 'value': None}}}}}"
      ]
     },
     "execution_count": 4,
     "metadata": {},
     "output_type": "execute_result"
    }
   ],
   "source": [
    "station.snapshot()"
   ]
  },
  {
   "cell_type": "code",
   "execution_count": 5,
   "metadata": {},
   "outputs": [
    {
     "data": {
      "text/plain": [
       "[2.98023e-13, -9.41753e-13]"
      ]
     },
     "execution_count": 5,
     "metadata": {},
     "output_type": "execute_result"
    }
   ],
   "source": [
    "# we can get the measured quantities right now\n",
    "station.measure()"
   ]
  },
  {
   "cell_type": "code",
   "execution_count": 6,
   "metadata": {},
   "outputs": [
    {
     "name": "stdout",
     "output_type": "stream",
     "text": [
      "DataSet: DataMode.PULL_FROM_SERVER, location='testsweep'\n",
      "   curr_0: curr\n",
      "   curr_1: curr\n",
      "   volt: volt\n",
      "started at 2016-04-20 15:37:23\n"
     ]
    }
   ],
   "source": [
    "# start a Loop (which by default runs in a seprarate process)\n",
    "# the sweep values are defined by slicing the parameter object\n",
    "# but more complicated sweeps (eg nonlinear, or adaptive) can\n",
    "# easily be used instead\n",
    "\n",
    "# Notice that I'm using an explicit location and `overwrite=True` here so that\n",
    "# running this notebook over and over won't result in extra files.\n",
    "# But if you leave these out, you get a new timestamped DataSet each time.\n",
    "data = qc.Loop(vsd1[-5:5:0.5], 0.03).run(location='testsweep', overwrite=True)\n",
    "\n",
    "# now there should be two extra processes running, DataServer and a sweep\n",
    "# I'll omit the active_children call now because you can see them in the\n",
    "# subprocess widget"
   ]
  },
  {
   "cell_type": "code",
   "execution_count": 7,
   "metadata": {
    "scrolled": true
   },
   "outputs": [
    {
     "data": {
      "text/plain": [
       "{'curr_0': DataArray[20]: curr_0\n",
       " array([ nan,  nan,  nan,  nan,  nan,  nan,  nan,  nan,  nan,  nan,  nan,\n",
       "         nan,  nan,  nan,  nan,  nan,  nan,  nan,  nan,  nan]),\n",
       " 'curr_1': DataArray[20]: curr_1\n",
       " array([ nan,  nan,  nan,  nan,  nan,  nan,  nan,  nan,  nan,  nan,  nan,\n",
       "         nan,  nan,  nan,  nan,  nan,  nan,  nan,  nan,  nan]),\n",
       " 'volt': DataArray[20]: volt\n",
       " array([ -5.,  nan,  nan,  nan,  nan,  nan,  nan,  nan,  nan,  nan,  nan,\n",
       "         nan,  nan,  nan,  nan,  nan,  nan,  nan,  nan,  nan])}"
      ]
     },
     "execution_count": 7,
     "metadata": {},
     "output_type": "execute_result"
    }
   ],
   "source": [
    "# manually bring the data into the main process and display it as numbers\n",
    "data.sync()\n",
    "data.arrays"
   ]
  },
  {
   "cell_type": "code",
   "execution_count": 8,
   "metadata": {
    "scrolled": false
   },
   "outputs": [],
   "source": [
    "# live-updating plot, that syncs the data and stops updating when it's finished\n",
    "# plot = qc.MatPlot(data.amplitude)\n",
    "plotQ1 = qc.QtPlot(data.volt, data.curr_0)\n",
    "plotQ2 = qc.QtPlot(data.volt, data.curr_1)"
   ]
  },
  {
   "cell_type": "code",
   "execution_count": 9,
   "metadata": {
    "scrolled": true
   },
   "outputs": [
    {
     "name": "stdout",
     "output_type": "stream",
     "text": [
      "DataSet: DataMode.PULL_FROM_SERVER, location='test2d'\n",
      "   curr_1: curr\n",
      "   volt: volt\n",
      "   curr_0: curr\n",
      "   volt_0: volt\n",
      "started at 2016-04-20 15:22:46\n"
     ]
    }
   ],
   "source": [
    "data2 = qc.Loop(vsd1[-5:5:0.1],0).each(\n",
    "                qc.Loop(vsd2[-2:2:.2], 0)\n",
    ").run(location='test2d', overwrite=True)\n",
    "\n",
    "# use the subplot and add features of qc.MatPlot\n",
    "# plot2 = qc.MatPlot(data2.amplitude_0, cmap=plt.cm.hot, figsize=(12, 4.5), subplots=(1, 2))\n",
    "# plot2.add(data2.amplitude_3, cmap=plt.cm.hot, subplot=2)\n",
    "\n",
    "# the equivalent in QtPlot\n",
    "plot2Q = qc.QtPlot(data2.curr_1, figsize=(1200, 500))\n",
    "# plot2Q.add(data2.curr_1, subplot=2)"
   ]
  },
  {
   "cell_type": "code",
   "execution_count": 19,
   "metadata": {},
   "outputs": [
    {
     "data": {
      "text/plain": [
       "{'model': '2614B',\n",
       " 'serial_number': '4083825',\n",
       " 'software_revision': '3.2.1',\n",
       " 'vendor': 'Keithley Instruments Inc.'}"
      ]
     },
     "execution_count": 19,
     "metadata": {},
     "output_type": "execute_result"
    }
   ],
   "source": [
    "k1.setattr(('metadata','test'), 11)\n",
    "k1.getattr('info')"
   ]
  },
  {
   "cell_type": "code",
   "execution_count": 8,
   "metadata": {},
   "outputs": [
    {
     "data": {
      "text/plain": [
       "'Keithley Instruments Inc., Model 2614B, 4083825, 3.2.1'"
      ]
     },
     "execution_count": 8,
     "metadata": {},
     "output_type": "execute_result"
    }
   ],
   "source": [
    "k1.ask_direct('*IDN?')"
   ]
  },
  {
   "cell_type": "code",
   "execution_count": null,
   "metadata": {},
   "outputs": [],
   "source": []
  },
  {
   "cell_type": "code",
   "execution_count": 18,
   "metadata": {},
   "outputs": [
    {
     "data": {
      "text/plain": [
       "{'instruments': {'Keithley1': {'functions': {},\n",
       "   'metadata': {'test': 11},\n",
       "   'parameters': {'curr': {'ts': '2016-04-20 15:31:51', 'value': -2.14577e-13},\n",
       "    'limiti': {'ts': '2016-04-20 15:31:51', 'value': 0.1},\n",
       "    'limitv': {'ts': '2016-04-20 15:31:51', 'value': 20.0},\n",
       "    'mode': {'ts': '2016-04-20 15:31:51', 'value': 'voltage'},\n",
       "    'output': {'ts': '2016-04-20 15:31:51', 'value': 'ON'},\n",
       "    'rangei': {'ts': '2016-04-20 15:31:51', 'value': 1e-07},\n",
       "    'rangev': {'ts': '2016-04-20 15:31:51', 'value': 20.0},\n",
       "    'volt': {'ts': '2016-04-20 15:31:51', 'value': 4.90016}}},\n",
       "  'Keithley2': {'functions': {},\n",
       "   'parameters': {'curr': {'ts': '2016-04-20 15:31:51', 'value': -1.07288e-12},\n",
       "    'limiti': {'ts': '2016-04-20 15:31:51', 'value': 0.1},\n",
       "    'limitv': {'ts': '2016-04-20 15:31:51', 'value': 20.0},\n",
       "    'mode': {'ts': '2016-04-20 15:31:51', 'value': 'voltage'},\n",
       "    'output': {'ts': '2016-04-20 15:31:51', 'value': 'ON'},\n",
       "    'rangei': {'ts': '2016-04-20 15:31:51', 'value': 1e-07},\n",
       "    'rangev': {'ts': '2016-04-20 15:31:51', 'value': 2.0},\n",
       "    'volt': {'ts': '2016-04-20 15:31:51', 'value': 1.80006}}}}}"
      ]
     },
     "execution_count": 18,
     "metadata": {},
     "output_type": "execute_result"
    }
   ],
   "source": [
    "station.snapshot(update=True)"
   ]
  },
  {
   "cell_type": "code",
   "execution_count": 12,
   "metadata": {},
   "outputs": [],
   "source": [
    "plot2Q.add(data2.curr_0, subplot=2)\n"
   ]
  },
  {
   "cell_type": "code",
   "execution_count": 18,
   "metadata": {},
   "outputs": [
    {
     "name": "stdout",
     "output_type": "stream",
     "text": [
      "DataSet: DataMode.PULL_FROM_SERVER, location='test_multi_d'\n",
      "   curr_0_1: curr\n",
      "   volt_0: volt\n",
      "   curr_0_0: curr\n",
      "   volt_1: volt\n",
      "   curr_1_0: curr\n",
      "   curr_1_1: curr\n",
      "   volt: volt\n",
      "started at 2016-04-20 14:09:16\n"
     ]
    },
    {
     "ename": "AttributeError",
     "evalue": "'DataSet' object and its delegates have no attribute 'curr_1'",
     "output_type": "error",
     "traceback": [
      "\u001b[1;31m---------------------------------------------------------------------------\u001b[0m",
      "\u001b[1;31mAttributeError\u001b[0m                            Traceback (most recent call last)",
      "\u001b[1;32m<ipython-input-18-7bcb44f808c5>\u001b[0m in \u001b[0;36m<module>\u001b[1;34m()\u001b[0m\n\u001b[0;32m      8\u001b[0m \u001b[1;31m# plot3b = qc.MatPlot(data3.curr_1_0, cmap=plt.cm.hot, figsize=(12, 4.5), subplots=(1,2))\u001b[0m\u001b[1;33m\u001b[0m\u001b[1;33m\u001b[0m\u001b[0m\n\u001b[0;32m      9\u001b[0m \u001b[1;31m# plot3b.add(data3.curr_0_1, subplot=2)\u001b[0m\u001b[1;33m\u001b[0m\u001b[1;33m\u001b[0m\u001b[0m\n\u001b[1;32m---> 10\u001b[1;33m \u001b[0mplot3Q\u001b[0m \u001b[1;33m=\u001b[0m \u001b[0mqc\u001b[0m\u001b[1;33m.\u001b[0m\u001b[0mQtPlot\u001b[0m\u001b[1;33m(\u001b[0m\u001b[0mdata3\u001b[0m\u001b[1;33m.\u001b[0m\u001b[0mcurr_1\u001b[0m\u001b[1;33m)\u001b[0m\u001b[1;33m\u001b[0m\u001b[0m\n\u001b[0m\u001b[0;32m     11\u001b[0m \u001b[0mplot3bQ\u001b[0m \u001b[1;33m=\u001b[0m \u001b[0mqc\u001b[0m\u001b[1;33m.\u001b[0m\u001b[0mQtPlot\u001b[0m\u001b[1;33m(\u001b[0m\u001b[0mdata3\u001b[0m\u001b[1;33m.\u001b[0m\u001b[0mcurr_1\u001b[0m\u001b[1;33m,\u001b[0m \u001b[0mfigsize\u001b[0m\u001b[1;33m=\u001b[0m\u001b[1;33m(\u001b[0m\u001b[1;36m1200\u001b[0m\u001b[1;33m,\u001b[0m \u001b[1;36m500\u001b[0m\u001b[1;33m)\u001b[0m\u001b[1;33m)\u001b[0m\u001b[1;33m\u001b[0m\u001b[0m\n\u001b[0;32m     12\u001b[0m \u001b[0mplot3bQ\u001b[0m\u001b[1;33m.\u001b[0m\u001b[0madd\u001b[0m\u001b[1;33m(\u001b[0m\u001b[0mdata3\u001b[0m\u001b[1;33m.\u001b[0m\u001b[0mcurr_0\u001b[0m\u001b[1;33m,\u001b[0m \u001b[0msubplot\u001b[0m\u001b[1;33m=\u001b[0m\u001b[1;36m2\u001b[0m\u001b[1;33m)\u001b[0m\u001b[1;33m\u001b[0m\u001b[0m\n",
      "\u001b[1;32mC:\\Github\\Qcodes\\qcodes\\utils\\helpers.py\u001b[0m in \u001b[0;36m__getattr__\u001b[1;34m(self, key)\u001b[0m\n\u001b[0;32m    187\u001b[0m         raise AttributeError(\n\u001b[0;32m    188\u001b[0m             \"'{}' object and its delegates have no attribute '{}'\".format(\n\u001b[1;32m--> 189\u001b[1;33m                 self.__class__.__name__, key))\n\u001b[0m\u001b[0;32m    190\u001b[0m \u001b[1;33m\u001b[0m\u001b[0m\n\u001b[0;32m    191\u001b[0m     \u001b[1;32mdef\u001b[0m \u001b[0m__dir__\u001b[0m\u001b[1;33m(\u001b[0m\u001b[0mself\u001b[0m\u001b[1;33m)\u001b[0m\u001b[1;33m:\u001b[0m\u001b[1;33m\u001b[0m\u001b[0m\n",
      "\u001b[1;31mAttributeError\u001b[0m: 'DataSet' object and its delegates have no attribute 'curr_1'"
     ]
    }
   ],
   "source": [
    "data3 = qc.Loop(vsd1[-15:15:1], 0).each(\n",
    "                qc.Loop(vsd2[-5:5:1], 0),\n",
    "                qc.Loop(vsd2[5:-5:1], 0),\n",
    ").run(location='test_multi_d', overwrite=True)\n",
    "\n",
    "# several plots updating simultaneously\n",
    "# plot3 = qc.MatPlot(data3.curr_1_1, cmap=plt.cm.hot)\n",
    "# plot3b = qc.MatPlot(data3.curr_1_0, cmap=plt.cm.hot, figsize=(12, 4.5), subplots=(1,2))\n",
    "# plot3b.add(data3.curr_0_1, subplot=2)\n",
    "plot3Q = qc.QtPlot(data3.curr_1)\n",
    "plot3bQ = qc.QtPlot(data3.curr_1, figsize=(1200, 500))\n",
    "plot3bQ.add(data3.curr_0, subplot=2)"
   ]
  },
  {
   "cell_type": "code",
   "execution_count": 9,
   "metadata": {
    "scrolled": false
   },
   "outputs": [
    {
     "name": "stdout",
     "output_type": "stream",
     "text": [
      "DataSet: DataMode.PULL_FROM_SERVER, location='test_complex_param'\n",
      "   avg_amplitude: avg_amplitude\n",
      "   chan2: chan2\n",
      "   chan1: chan1\n",
      "   amplitude: amplitude\n",
      "started at 2016-02-02 12:18:09\n"
     ]
    }
   ],
   "source": [
    "# An example of a parameter that returns several values of different dimension\n",
    "# This produces the last two arrays from data3, but only takes the data once.\n",
    "data4 = qc.Loop(c1[-15:15:1], 0.1).each(\n",
    "    AverageAndRaw(meter.amplitude, c2[-10:10:0.2], 0.001)\n",
    ").run(location='test_complex_param', overwrite=True)\n",
    "\n",
    "# plot4 = qc.MatPlot(data4.amplitude, cmap=plt.cm.hot, subplots=(1,2), figsize=(12, 4.5))\n",
    "# plot4.add(data4.avg_amplitude, subplot=2)\n",
    "plot4Q = qc.QtPlot(data4.amplitude, figsize=(1200, 500))\n",
    "plot4Q.add(data4.avg_amplitude, subplot=2)"
   ]
  }
 ],
 "metadata": {
  "kernelspec": {
   "display_name": "Python 3",
   "language": "python",
   "name": "python3"
  },
  "language_info": {
   "codemirror_mode": {
    "name": "ipython",
    "version": 3
   },
   "file_extension": ".py",
   "mimetype": "text/x-python",
   "name": "python",
   "nbconvert_exporter": "python",
   "pygments_lexer": "ipython3",
   "version": "3.5.3"
  }
 },
 "nbformat": 4,
 "nbformat_minor": 1
}
