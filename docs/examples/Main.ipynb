{
 "cells": [
  {
   "cell_type": "markdown",
   "metadata": {},
   "source": [
    "# <center>QCoDeS Tutorials</center>\n",
    "([read on nbviewer](https://nbviewer.jupyter.org/github/QCoDeS/Qcodes/tree/master/docs/examples/main.ipynb))\n",
    "\n",
    "Welcome to QCoDeS! This document will help you find an overview over the available tutorials and exmaples. Please note that the document is under construction an will eventually popluated further. Until then don't forget to check the tutorials folder ([offline](.),[online](https://github.com/QCoDeS/Qcodes/tree/master/docs/examples))\n",
    "\n",
    "## Plotting\n",
    "|               | description          | link  |\n",
    "| ------------- |:-------------:| -----:|\n",
    "| ![Title](files/auto_color_scale_small.png) | Auto color scaling |  ([offline](plotting/auto_color_scale.ipynb),[online](https://nbviewer.jupyter.org/github/QCoDeS/Qcodes/tree/master/docs/examples/plotting/auto_color_scale.ipynb))|\n",
    "\n",
    "\n",
    "\n"
   ]
  },
  {
   "cell_type": "code",
   "execution_count": null,
   "metadata": {},
   "outputs": [],
   "source": []
  }
 ],
 "metadata": {
  "kernelspec": {
   "display_name": "Python 3",
   "language": "python",
   "name": "python3"
  },
  "language_info": {
   "codemirror_mode": {
    "name": "ipython",
    "version": 3
   },
   "file_extension": ".py",
   "mimetype": "text/x-python",
   "name": "python",
   "nbconvert_exporter": "python",
   "pygments_lexer": "ipython3",
   "version": "3.6.5"
  },
  "toc": {
   "base_numbering": 1,
   "nav_menu": {},
   "number_sections": true,
   "sideBar": true,
   "skip_h1_title": false,
   "title_cell": "Table of Contents",
   "title_sidebar": "Contents",
   "toc_cell": false,
   "toc_position": {},
   "toc_section_display": true,
   "toc_window_display": false
  }
 },
 "nbformat": 4,
 "nbformat_minor": 2
}
