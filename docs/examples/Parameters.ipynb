{
 "cells": [
  {
   "cell_type": "markdown",
   "metadata": {},
   "source": [
    "# Parameters in QCoDeS"
   ]
  },
  {
   "cell_type": "code",
   "execution_count": 1,
   "metadata": {},
   "outputs": [],
   "source": [
    "import qcodes as qc\n",
    "import numpy as np"
   ]
  },
  {
   "cell_type": "markdown",
   "metadata": {},
   "source": [
    "QCoDeS provides 3 classes of parameter built in:\n",
    "- `Parameter` represents a single value at a time\n",
    "  - Example: voltage\n",
    "- `ArrayParameter` represents an array of values of all the same type that are returned all at once\n",
    "  - Example: voltage vs time waveform\n",
    "- `MultiParameter` represents a collection of values with different meaning and possibly different dimension\n",
    "  - Example: I and Q, or I vs time and Q vs time\n",
    "\n",
    "which are described in the \"Creating Instrument Drivers\" tutorial."
   ]
  },
  {
   "cell_type": "markdown",
   "metadata": {},
   "source": [
    "## Parameter\n",
    "Most of the time you can use `Parameter` directly; even if you have custom `get`/`set` functions, but sometimes it's useful to subclass `Parameter`. Note that since the superclass `Parameter` actually wraps these functions (to include some extra nice-to-have functionality), your subclass should define `get_raw` and `set_raw` rather than `get` and `set`. "
   ]
  },
  {
   "cell_type": "code",
   "execution_count": 2,
   "metadata": {},
   "outputs": [
    {
     "name": "stdout",
     "output_type": "stream",
     "text": [
      "first call: 1\n",
      "second call: 2\n"
     ]
    }
   ],
   "source": [
    "class MyCounter(qc.Parameter):\n",
    "    def __init__(self, name):\n",
    "        # only name is required\n",
    "        super().__init__(name, label='Times this has been read',\n",
    "                         vals=qc.validators.Ints(min_value=0),\n",
    "                         docstring='counts how many times get has been called '\n",
    "                                   'but can be reset to any integer >= 0 by set')\n",
    "        self._count = 0\n",
    "    \n",
    "    # you must provide a get method, a set method, or both.\n",
    "    def get_raw(self):\n",
    "        self._count += 1\n",
    "        return self._count\n",
    "    \n",
    "    def set_raw(self, val):\n",
    "        self._count = val\n",
    "\n",
    "c = MyCounter('c')\n",
    "c2 = MyCounter('c2')\n",
    "\n",
    "# c() is equivalent to c.get()\n",
    "print('first call:', c())\n",
    "print('second call:', c())"
   ]
  },
  {
   "cell_type": "code",
   "execution_count": 3,
   "metadata": {},
   "outputs": [],
   "source": [
    "# c2(val) is equivalent to c2.set(val)\n",
    "c2(22)\n"
   ]
  },
  {
   "cell_type": "markdown",
   "metadata": {},
   "source": [
    "## ArrayParameter\n",
    "For actions that create a whole array of values at once. When you use it in a `Loop`, it makes a single `DataArray` with the array returned by `get` nested inside extra dimension(s) for the loop.\n",
    "\n",
    "`ArrayParameter` is, for now, only gettable."
   ]
  },
  {
   "cell_type": "code",
   "execution_count": 4,
   "metadata": {},
   "outputs": [
    {
     "name": "stdout",
     "output_type": "stream",
     "text": [
      "first call: [[0, 1], [2, 3], [4, 5]]\n"
     ]
    }
   ],
   "source": [
    "class ArrayCounter(qc.ArrayParameter):\n",
    "    def __init__(self):\n",
    "        # only name and shape are required\n",
    "        # the setpoints I'm giving here are identical to the defaults\n",
    "        # this param would get but I'll give them anyway for\n",
    "        # demonstration purposes\n",
    "        super().__init__('array_counter', shape=(3, 2),\n",
    "                         label='Total number of values provided',\n",
    "                         unit='',\n",
    "                         # first setpoint array is 1D, second is 2D, etc...\n",
    "                         setpoints=((0, 1, 2), ((0, 1), (0, 1), (0, 1))),\n",
    "                         setpoint_names=('index0', 'index1'),\n",
    "                         setpoint_labels=('Outer param index', 'Inner param index'),\n",
    "                         docstring='fills a 3x2 array with increasing integers')\n",
    "        self._val = 0\n",
    "    \n",
    "    def get_raw(self):\n",
    "        # here I'm returning a nested list, but any sequence type will do.\n",
    "        # tuple, np.array, DataArray...\n",
    "        out = [[self._val + 2 * i + j for j in range(2)] for i in range(3)]\n",
    "        self._val += 6\n",
    "        return out\n",
    "\n",
    "array_counter = ArrayCounter()\n",
    "\n",
    "# simple get\n",
    "print('first call:', array_counter())"
   ]
  },
  {
   "cell_type": "markdown",
   "metadata": {},
   "source": [
    "## MultiParameter\n",
    "Return multiple items at once, where each item can be a single value or an array. \n",
    "\n",
    "NOTE: Most of the kwarg names here are the plural of those used in `Parameter` and `ArrayParameter`. In particular, `MultiParameter` is the ONLY one that uses `units`, all the others use `unit`.\n",
    "\n",
    "`MultiParameter` is, for now, only gettable."
   ]
  },
  {
   "cell_type": "code",
   "execution_count": 5,
   "metadata": {},
   "outputs": [
    {
     "name": "stdout",
     "output_type": "stream",
     "text": [
      "simple get: (2, 1.0)\n"
     ]
    }
   ],
   "source": [
    "class SingleIQPair(qc.MultiParameter):\n",
    "    def __init__(self, scale_param):\n",
    "        # only name, names, and shapes are required\n",
    "        # this version returns two scalars (shape = `()`)\n",
    "        super().__init__('single_iq', names=('I', 'Q'), shapes=((), ()),\n",
    "                         labels=('In phase amplitude', 'Quadrature amplitude'),\n",
    "                         units=('V', 'V'),\n",
    "                         # including these setpoints is unnecessary here, but\n",
    "                         # if you have a parameter that returns a scalar alongside\n",
    "                         # an array you can represent the scalar as an empty sequence.\n",
    "                         setpoints=((), ()),\n",
    "                         docstring='param that returns two single values, I and Q')\n",
    "        self._scale_param = scale_param\n",
    "    \n",
    "    def get_raw(self):\n",
    "        scale_val = self._scale_param()\n",
    "        return (scale_val, scale_val / 2)\n",
    "\n",
    "scale = qc.ManualParameter('scale', initial_value=2)\n",
    "iq = SingleIQPair(scale_param=scale)\n",
    "\n",
    "# simple get\n",
    "print('simple get:', iq())"
   ]
  },
  {
   "cell_type": "code",
   "execution_count": 6,
   "metadata": {},
   "outputs": [
    {
     "name": "stdout",
     "output_type": "stream",
     "text": [
      "simple get (array([0, 1, 2, 3, 4]), array([ 0. ,  0.5,  1. ,  1.5,  2. ]))\n"
     ]
    }
   ],
   "source": [
    "class IQArray(qc.MultiParameter):\n",
    "    def __init__(self, scale_param):\n",
    "        # names, labels, and units are the same \n",
    "        super().__init__('iq_array', names=('I', 'Q'), shapes=((5,), (5,)),\n",
    "                         labels=('In phase amplitude', 'Quadrature amplitude'),\n",
    "                         units=('V', 'V'),\n",
    "                         # note that EACH item needs a sequence of setpoint arrays\n",
    "                         # so a 1D item has its setpoints wrapped in a length-1 tuple\n",
    "                         setpoints=(((0, 1, 2, 3, 4),), ((0, 1, 2, 3, 4),)),\n",
    "                         docstring='param that returns two single values, I and Q')\n",
    "        self._scale_param = scale_param\n",
    "        self._indices = np.array([0, 1, 2, 3, 4])\n",
    "\n",
    "    def get_raw(self):\n",
    "        scale_val = self._scale_param()\n",
    "        return (self._indices * scale_val, self._indices * scale_val / 2)\n",
    "\n",
    "iq_array = IQArray(scale_param=scale)\n",
    "scale(1)\n",
    "\n",
    "# simple get\n",
    "print('simple get', iq_array())"
   ]
  },
  {
   "cell_type": "code",
   "execution_count": null,
   "metadata": {},
   "outputs": [],
   "source": []
  }
 ],
 "metadata": {
  "kernelspec": {
   "display_name": "Python 3",
   "language": "python",
   "name": "python3"
  },
  "language_info": {
   "codemirror_mode": {
    "name": "ipython",
    "version": 3
   },
   "file_extension": ".py",
   "mimetype": "text/x-python",
   "name": "python",
   "nbconvert_exporter": "python",
   "pygments_lexer": "ipython3",
   "version": "3.6.5"
  }
 },
 "nbformat": 4,
 "nbformat_minor": 1
}
