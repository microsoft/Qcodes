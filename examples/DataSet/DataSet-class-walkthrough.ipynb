{
 "cells": [
  {
   "cell_type": "markdown",
   "metadata": {},
   "source": [
    "# DataSet class walkthrough\n",
    "\n",
    "In this notebook we are going to go through the mighty `DataSet` class, and get an overview of the most of it's methods and properties. In this case, the more you know, the more you can achieve."
   ]
  },
  {
   "cell_type": "markdown",
   "metadata": {},
   "source": [
    "## Note on DataSet object creation\n",
    "\n",
    "Users are expected to obtain `DataSet` objects in the following ways:\n",
    "\n",
    "* run a `Measurement` and get a `DataSet` via a `DataSaver` after exiting the measurement context, as shown here:\n",
    "\n",
    "```python\n",
    "...\n",
    "meas = Measurement(...)\n",
    "...\n",
    "with meas.run() as datasaver:\n",
    "    ...\n",
    "dataset = datasaver.dataset  # <- this one\n",
    "...\n",
    "```\n",
    "\n",
    "* load a `DataSet` using one of the `load_*` functions from `qcodes.dataset.data_set` module, for example, `load_by_run_spec`:\n",
    "\n",
    "```python\n",
    "dataset = load_by_run_spec(\n",
    "    experiment_name='pinchoff',\n",
    "    sample_name='SDH-X-13c',\n",
    "    captured_run_id=12\n",
    ")\n",
    "```\n",
    "\n",
    "Users should **NOT** instantiate a `DataSet` object via its constructor, or via the `new_data_set` function."
   ]
  },
  {
   "cell_type": "markdown",
   "metadata": {},
   "source": [
    "## Preparation: a DataSet from a dummy Measurement\n",
    "\n",
    "In order to obtain a `DataSet` object, we are going to run a `Measurement` storing some dummy data (see notebook on [Performing measurements using qcodes parameters and dataset](Performing-measurements-using-qcodes-parameters-and-dataset.ipynb) for more details)."
   ]
  },
  {
   "cell_type": "code",
   "execution_count": 1,
   "metadata": {
    "execution": {
     "iopub.execute_input": "2025-10-31T09:52:02.408304Z",
     "iopub.status.busy": "2025-10-31T09:52:02.408125Z",
     "iopub.status.idle": "2025-10-31T09:52:02.773373Z",
     "shell.execute_reply": "2025-10-31T09:52:02.772469Z"
    }
   },
   "outputs": [],
   "source": [
    "import os\n",
    "import tempfile\n",
    "import time\n",
    "\n",
    "import numpy as np\n",
    "\n",
    "from qcodes.dataset import (\n",
    "    Measurement,\n",
    "    initialise_or_create_database_at,\n",
    "    load_or_create_experiment,\n",
    "    plot_dataset,\n",
    ")\n",
    "from qcodes.parameters import Parameter\n",
    "from qcodes.station import Station"
   ]
  },
  {
   "cell_type": "code",
   "execution_count": 2,
   "metadata": {
    "execution": {
     "iopub.execute_input": "2025-10-31T09:52:02.775366Z",
     "iopub.status.busy": "2025-10-31T09:52:02.775081Z",
     "iopub.status.idle": "2025-10-31T09:52:02.780135Z",
     "shell.execute_reply": "2025-10-31T09:52:02.779334Z"
    }
   },
   "outputs": [],
   "source": [
    "db_path = os.path.join(tempfile.gettempdir(), \"data_access_example.db\")\n",
    "initialise_or_create_database_at(db_path)\n",
    "\n",
    "experiment = load_or_create_experiment(experiment_name=\"greco\", sample_name=\"draco\")"
   ]
  },
  {
   "cell_type": "code",
   "execution_count": 3,
   "metadata": {
    "execution": {
     "iopub.execute_input": "2025-10-31T09:52:02.781682Z",
     "iopub.status.busy": "2025-10-31T09:52:02.781492Z",
     "iopub.status.idle": "2025-10-31T09:52:02.784637Z",
     "shell.execute_reply": "2025-10-31T09:52:02.783787Z"
    }
   },
   "outputs": [],
   "source": [
    "# This parameter is created in order to\n",
    "# justify creation of a `Station` object,\n",
    "# which, in turn, is needed to remind the\n",
    "# reader about the importance of adding\n",
    "# all instruments to the station.\n",
    "fs = Parameter(\n",
    "    name=\"force_side\",\n",
    "    label=\"Side of the Force\",\n",
    "    initial_value=\"dark\",\n",
    "    set_cmd=None,\n",
    "    get_cmd=None,\n",
    ")"
   ]
  },
  {
   "cell_type": "code",
   "execution_count": 4,
   "metadata": {
    "execution": {
     "iopub.execute_input": "2025-10-31T09:52:02.786199Z",
     "iopub.status.busy": "2025-10-31T09:52:02.786042Z",
     "iopub.status.idle": "2025-10-31T09:52:02.791930Z",
     "shell.execute_reply": "2025-10-31T09:52:02.791086Z"
    }
   },
   "outputs": [
    {
     "data": {
      "text/plain": [
       "'force_side'"
      ]
     },
     "execution_count": 4,
     "metadata": {},
     "output_type": "execute_result"
    }
   ],
   "source": [
    "station = Station()\n",
    "station.add_component(fs)"
   ]
  },
  {
   "cell_type": "code",
   "execution_count": 5,
   "metadata": {
    "execution": {
     "iopub.execute_input": "2025-10-31T09:52:02.793631Z",
     "iopub.status.busy": "2025-10-31T09:52:02.793339Z",
     "iopub.status.idle": "2025-10-31T09:52:02.797463Z",
     "shell.execute_reply": "2025-10-31T09:52:02.796547Z"
    }
   },
   "outputs": [],
   "source": [
    "x = Parameter(name=\"x\", label=\"Voltage\", unit=\"V\", set_cmd=None, get_cmd=None)\n",
    "t = Parameter(name=\"t\", label=\"Time\", unit=\"s\", set_cmd=None, get_cmd=None)\n",
    "y = Parameter(name=\"y\", label=\"Voltage\", unit=\"V\", set_cmd=None, get_cmd=None)\n",
    "y2 = Parameter(name=\"y2\", label=\"Current\", unit=\"A\", set_cmd=None, get_cmd=None)"
   ]
  },
  {
   "cell_type": "code",
   "execution_count": 6,
   "metadata": {
    "execution": {
     "iopub.execute_input": "2025-10-31T09:52:02.799012Z",
     "iopub.status.busy": "2025-10-31T09:52:02.798854Z",
     "iopub.status.idle": "2025-10-31T09:52:04.739863Z",
     "shell.execute_reply": "2025-10-31T09:52:04.738940Z"
    }
   },
   "outputs": [
    {
     "name": "stdout",
     "output_type": "stream",
     "text": [
      "Starting experimental run with id: 2. \n"
     ]
    }
   ],
   "source": [
    "meas = Measurement(exp=experiment, name=\"first_run\", station=station)\n",
    "\n",
    "meas.register_parameter(x)\n",
    "meas.register_parameter(t)\n",
    "meas.register_parameter(y, setpoints=(x, t))\n",
    "meas.register_parameter(y2, setpoints=(x, t))\n",
    "\n",
    "x_vals = np.linspace(-4, 5, 50)\n",
    "t_vals = np.linspace(-500, 1500, 25)\n",
    "\n",
    "with meas.run() as datasaver:\n",
    "    for xv in x_vals:\n",
    "        for tv in t_vals:\n",
    "            yv = np.sin(2 * np.pi * xv) * np.cos(2 * np.pi * 0.001 * tv) + 0.001 * tv\n",
    "            y2v = (\n",
    "                np.sin(2 * np.pi * xv) * np.cos(2 * np.pi * 0.001 * tv + 0.5 * np.pi)\n",
    "                - 0.001 * tv\n",
    "            )\n",
    "            datasaver.add_result((x, xv), (t, tv), (y, yv), (y2, y2v))\n",
    "    time.sleep(1.0)\n",
    "\n",
    "dataset = datasaver.dataset"
   ]
  },
  {
   "cell_type": "markdown",
   "metadata": {},
   "source": [
    "For the sake of demonstrating what kind of data we've produced, let's use `plot_dataset` to make some default plots of the data."
   ]
  },
  {
   "cell_type": "code",
   "execution_count": 7,
   "metadata": {
    "execution": {
     "iopub.execute_input": "2025-10-31T09:52:04.741607Z",
     "iopub.status.busy": "2025-10-31T09:52:04.741409Z",
     "iopub.status.idle": "2025-10-31T09:52:05.386144Z",
     "shell.execute_reply": "2025-10-31T09:52:05.385369Z"
    }
   },
   "outputs": [
    {
     "data": {
      "text/plain": [
       "([<Axes: title={'center': 'Run #2, Experiment greco (draco)'}, xlabel='Voltage (V)', ylabel='Time (ks)'>,\n",
       "  <Axes: title={'center': 'Run #2, Experiment greco (draco)'}, xlabel='Voltage (V)', ylabel='Time (ks)'>],\n",
       " [<matplotlib.colorbar.Colorbar at 0x7fb254381350>,\n",
       "  <matplotlib.colorbar.Colorbar at 0x7fb2543dc950>])"
      ]
     },
     "execution_count": 7,
     "metadata": {},
     "output_type": "execute_result"
    },
    {
     "data": {
      "image/png": "[encoded data removed]",
      "text/plain": [
       "<Figure size 640x480 with 2 Axes>"
      ]
     },
     "metadata": {},
     "output_type": "display_data"
    },
    {
     "data": {
      "image/png": "[encoded data removed]",
      "text/plain": [
       "<Figure size 640x480 with 2 Axes>"
      ]
     },
     "metadata": {},
     "output_type": "display_data"
    }
   ],
   "source": [
    "plot_dataset(dataset)"
   ]
  },
  {
   "cell_type": "markdown",
   "metadata": {},
   "source": [
    "## Note on immutability of DataSet\n",
    "\n",
    "Users are NOT expected to use `DataSet`s methods that modify its content, for example, `add_result`. Only `Measurement` and `DataSaver` objects use those methods. This is due to the philosophy of the `DataSet` - once created within a `Measurement` context, it should not change so that the user don't accidentally modify/remove the important measured data. In the future versions of QCoDeS the design of the `DataSet` object will be improved to make the described philosophy clear."
   ]
  },
  {
   "cell_type": "markdown",
   "metadata": {},
   "source": [
    "## DataSet indentity\n",
    "\n",
    "Before we dive into what's in the `DataSet`, let's briefly note how a `DataSet` is identified.\n",
    "\n",
    "TL;DR:\n",
    "> * Both `experiment name` and `sample name` are great means for identifying a dataset, especially when coupled with the `captured_run_id`.\n",
    "> * `guid` is the only globally unique identifier for datasets."
   ]
  },
  {
   "cell_type": "markdown",
   "metadata": {},
   "source": [
    "### GUID\n",
    "\n",
    "Globally, \"in this universe\", a dataset is identified by a globally unique identifier:"
   ]
  },
  {
   "cell_type": "code",
   "execution_count": 8,
   "metadata": {
    "execution": {
     "iopub.execute_input": "2025-10-31T09:52:05.388309Z",
     "iopub.status.busy": "2025-10-31T09:52:05.388016Z",
     "iopub.status.idle": "2025-10-31T09:52:05.392429Z",
     "shell.execute_reply": "2025-10-31T09:52:05.391616Z"
    }
   },
   "outputs": [
    {
     "data": {
      "text/plain": [
       "'90dda121-0000-0000-0000-019a39ae68f4'"
      ]
     },
     "execution_count": 8,
     "metadata": {},
     "output_type": "execute_result"
    }
   ],
   "source": [
    "dataset.guid"
   ]
  },
  {
   "cell_type": "markdown",
   "metadata": {},
   "source": [
    "`guid` is generated when a dataset is created, and is globally unique.\n",
    "\n",
    "Due to the nature of the `guid` and its size, it is very user-friendly. For example, it is convenient to use it as a reference in a conversation between users. However, the `guid` is crucial for use in automated/computer systems, for example, when moving a dataset from one database file to a different one."
   ]
  },
  {
   "cell_type": "markdown",
   "metadata": {},
   "source": [
    "### Captured run ID\n",
    "\n",
    "Within a given single database file (!) a dataset can be identified by its `captured_run_id`, an integer index:"
   ]
  },
  {
   "cell_type": "code",
   "execution_count": 9,
   "metadata": {
    "execution": {
     "iopub.execute_input": "2025-10-31T09:52:05.394062Z",
     "iopub.status.busy": "2025-10-31T09:52:05.393908Z",
     "iopub.status.idle": "2025-10-31T09:52:05.397883Z",
     "shell.execute_reply": "2025-10-31T09:52:05.396998Z"
    }
   },
   "outputs": [
    {
     "data": {
      "text/plain": [
       "2"
      ]
     },
     "execution_count": 9,
     "metadata": {},
     "output_type": "execute_result"
    }
   ],
   "source": [
    "dataset.captured_run_id"
   ]
  },
  {
   "cell_type": "markdown",
   "metadata": {},
   "source": [
    "`captured_run_id` gets assigned to a `DataSet` at its creation time such that the new `captured_run_id` is always one larger than the current number of `DataSet`s in the database file:\n",
    "\n",
    "```\n",
    "captured_run_id_for_new_dataset = 1 + current_total_number_of_datasets_in_the_database\n",
    "```\n",
    "\n",
    "Note that `captured_run_id` is preserved when exporting the `DataSet` to another database file but may not be unique if combined with datasets from other database files. For example, it is possible to export 2 datasets with the same `captured_run_id` to the same database file.\n",
    "\n",
    "We will see below how to disambiguate multiple datasets that share the same `captured_run_id`."
   ]
  },
  {
   "cell_type": "markdown",
   "metadata": {},
   "source": [
    "#### Note on run ID\n",
    "\n",
    "`DataSet` object also has a `run_id`, also an integer index:"
   ]
  },
  {
   "cell_type": "code",
   "execution_count": 10,
   "metadata": {
    "execution": {
     "iopub.execute_input": "2025-10-31T09:52:05.399634Z",
     "iopub.status.busy": "2025-10-31T09:52:05.399309Z",
     "iopub.status.idle": "2025-10-31T09:52:05.403214Z",
     "shell.execute_reply": "2025-10-31T09:52:05.402390Z"
    }
   },
   "outputs": [
    {
     "data": {
      "text/plain": [
       "2"
      ]
     },
     "execution_count": 10,
     "metadata": {},
     "output_type": "execute_result"
    }
   ],
   "source": [
    "dataset.run_id"
   ]
  },
  {
   "cell_type": "markdown",
   "metadata": {},
   "source": [
    "`run_id` also gets assigned to a dataset upon its creation, and due to its implementation is unique only within that database file. Unlike `captured_run_id`, `run_id` is **NOT** preserved when exporting a dataset from one database file to another, hence it is **NOT** recommended for any use."
   ]
  },
  {
   "cell_type": "markdown",
   "metadata": {},
   "source": [
    "### Experiment and sample names\n",
    "\n",
    "Every dataset contains the name of the experiment, and the name of the sample - those come from the `Experiment` object that was passed to the `Measurement` object with which the dataset has been created.\n",
    "\n",
    "So here is the experiment name that has been used above:"
   ]
  },
  {
   "cell_type": "code",
   "execution_count": 11,
   "metadata": {
    "execution": {
     "iopub.execute_input": "2025-10-31T09:52:05.404795Z",
     "iopub.status.busy": "2025-10-31T09:52:05.404626Z",
     "iopub.status.idle": "2025-10-31T09:52:05.408519Z",
     "shell.execute_reply": "2025-10-31T09:52:05.407753Z"
    }
   },
   "outputs": [
    {
     "data": {
      "text/plain": [
       "'greco'"
      ]
     },
     "execution_count": 11,
     "metadata": {},
     "output_type": "execute_result"
    }
   ],
   "source": [
    "dataset.exp_name"
   ]
  },
  {
   "cell_type": "markdown",
   "metadata": {},
   "source": [
    "And here is the sample name that has been used above:"
   ]
  },
  {
   "cell_type": "code",
   "execution_count": 12,
   "metadata": {
    "execution": {
     "iopub.execute_input": "2025-10-31T09:52:05.410223Z",
     "iopub.status.busy": "2025-10-31T09:52:05.410071Z",
     "iopub.status.idle": "2025-10-31T09:52:05.413855Z",
     "shell.execute_reply": "2025-10-31T09:52:05.413112Z"
    }
   },
   "outputs": [
    {
     "data": {
      "text/plain": [
       "'draco'"
      ]
     },
     "execution_count": 12,
     "metadata": {},
     "output_type": "execute_result"
    }
   ],
   "source": [
    "dataset.sample_name"
   ]
  },
  {
   "cell_type": "markdown",
   "metadata": {},
   "source": [
    "Both experiment name and sample name are great means for identifying a dataset, especially when coupled with the `captured_run_id`."
   ]
  },
  {
   "cell_type": "markdown",
   "metadata": {},
   "source": [
    "### DataSet name\n",
    "\n",
    "Last but not least, a dataset may have a `name`. This name gets assigned to the dataset upon its creation, and is taken from the `name` attribute of the `Measurement` object that was used to create the dataset. For example, above the `name` of the `Measurement` was set by passing it as an argument to its constructor, hence the produced `DataSet` also has this name:"
   ]
  },
  {
   "cell_type": "code",
   "execution_count": 13,
   "metadata": {
    "execution": {
     "iopub.execute_input": "2025-10-31T09:52:05.415467Z",
     "iopub.status.busy": "2025-10-31T09:52:05.415314Z",
     "iopub.status.idle": "2025-10-31T09:52:05.419044Z",
     "shell.execute_reply": "2025-10-31T09:52:05.418313Z"
    }
   },
   "outputs": [
    {
     "data": {
      "text/plain": [
       "'first_run'"
      ]
     },
     "execution_count": 13,
     "metadata": {},
     "output_type": "execute_result"
    }
   ],
   "source": [
    "dataset.name"
   ]
  },
  {
   "cell_type": "markdown",
   "metadata": {},
   "source": [
    "If the `name` of the `Measurement` is not explicitly defined, the created dataset gets a default name."
   ]
  },
  {
   "cell_type": "markdown",
   "metadata": {},
   "source": [
    "### Note on experiments\n",
    "\n",
    "Conceptually experiments are meant to group datasets under the same experiment name and sample name. This is why every dataset also contains the following `Experiment`-related identifications."
   ]
  },
  {
   "cell_type": "markdown",
   "metadata": {},
   "source": [
    "Experiments have integer ids within a database file. A dataset knows about the id of the experiment it belongs to via `exp_id` property:"
   ]
  },
  {
   "cell_type": "code",
   "execution_count": 14,
   "metadata": {
    "execution": {
     "iopub.execute_input": "2025-10-31T09:52:05.420879Z",
     "iopub.status.busy": "2025-10-31T09:52:05.420711Z",
     "iopub.status.idle": "2025-10-31T09:52:05.424835Z",
     "shell.execute_reply": "2025-10-31T09:52:05.423933Z"
    }
   },
   "outputs": [
    {
     "data": {
      "text/plain": [
       "1"
      ]
     },
     "execution_count": 14,
     "metadata": {},
     "output_type": "execute_result"
    }
   ],
   "source": [
    "dataset.exp_id"
   ]
  },
  {
   "cell_type": "markdown",
   "metadata": {},
   "source": [
    "Because an `Experiment` is a group of datasets, every dataset also has a `captured_counter` within an `Experiment`:"
   ]
  },
  {
   "cell_type": "code",
   "execution_count": 15,
   "metadata": {
    "execution": {
     "iopub.execute_input": "2025-10-31T09:52:05.426303Z",
     "iopub.status.busy": "2025-10-31T09:52:05.426153Z",
     "iopub.status.idle": "2025-10-31T09:52:05.430963Z",
     "shell.execute_reply": "2025-10-31T09:52:05.430122Z"
    }
   },
   "outputs": [
    {
     "data": {
      "text/plain": [
       "2"
      ]
     },
     "execution_count": 15,
     "metadata": {},
     "output_type": "execute_result"
    }
   ],
   "source": [
    "dataset.captured_counter"
   ]
  },
  {
   "cell_type": "markdown",
   "metadata": {},
   "source": [
    "Similar to `captured_run_id`, `captured_counter` gets assigned to a `DataSet` upon its creation, and is preserved when exporting a dataset to another database file. The formula for `captured_counter` is:\n",
    "\n",
    "```\n",
    "captured_counter_for_new_dataset = 1 + current_total_number_of_datasets_within_the_given_experiment_in_the_database\n",
    "```"
   ]
  },
  {
   "cell_type": "markdown",
   "metadata": {},
   "source": [
    "#### Note on counter\n",
    "\n",
    "Upon creation, a `DataSet` also gets a `counter` index within an `Experiment`:"
   ]
  },
  {
   "cell_type": "code",
   "execution_count": 16,
   "metadata": {
    "execution": {
     "iopub.execute_input": "2025-10-31T09:52:05.432572Z",
     "iopub.status.busy": "2025-10-31T09:52:05.432390Z",
     "iopub.status.idle": "2025-10-31T09:52:05.436192Z",
     "shell.execute_reply": "2025-10-31T09:52:05.435367Z"
    }
   },
   "outputs": [
    {
     "data": {
      "text/plain": [
       "2"
      ]
     },
     "execution_count": 16,
     "metadata": {},
     "output_type": "execute_result"
    }
   ],
   "source": [
    "dataset.counter"
   ]
  },
  {
   "cell_type": "markdown",
   "metadata": {},
   "source": [
    "However, similar to `run_id`, `counter` is **NOT** preserved when exporting a dataset to a different database file, hence it is **NOT** recommended for any use."
   ]
  },
  {
   "cell_type": "markdown",
   "metadata": {},
   "source": [
    "## DataSet info\n",
    "\n",
    "In this section we are going to look at different minor pieces of information about the dataset."
   ]
  },
  {
   "cell_type": "markdown",
   "metadata": {},
   "source": [
    "### Database file\n",
    "\n",
    "Dataset is obviously aware of which database file it is contained in:"
   ]
  },
  {
   "cell_type": "code",
   "execution_count": 17,
   "metadata": {
    "execution": {
     "iopub.execute_input": "2025-10-31T09:52:05.437841Z",
     "iopub.status.busy": "2025-10-31T09:52:05.437676Z",
     "iopub.status.idle": "2025-10-31T09:52:05.441517Z",
     "shell.execute_reply": "2025-10-31T09:52:05.440723Z"
    }
   },
   "outputs": [
    {
     "data": {
      "text/plain": [
       "'/tmp/data_access_example.db'"
      ]
     },
     "execution_count": 17,
     "metadata": {},
     "output_type": "execute_result"
    }
   ],
   "source": [
    "dataset.path_to_db"
   ]
  },
  {
   "cell_type": "markdown",
   "metadata": {},
   "source": [
    "### Timestamps\n",
    "\n",
    "A dataset has two associated timestamps: `run_timestamp` of the moment when it has been started (say, when the measurement was started), and `completed_timestamp` of the moment when it has been completed (say, when the measurement was finished). Both of the timestamps are available as `*_raw` properties of the `DataSet`, and as convenience methods of `DataSet` which allow formatting of the raw timestamps."
   ]
  },
  {
   "cell_type": "code",
   "execution_count": 18,
   "metadata": {
    "execution": {
     "iopub.execute_input": "2025-10-31T09:52:05.443178Z",
     "iopub.status.busy": "2025-10-31T09:52:05.442874Z",
     "iopub.status.idle": "2025-10-31T09:52:05.446653Z",
     "shell.execute_reply": "2025-10-31T09:52:05.445962Z"
    }
   },
   "outputs": [
    {
     "data": {
      "text/plain": [
       "1761904322.812355"
      ]
     },
     "execution_count": 18,
     "metadata": {},
     "output_type": "execute_result"
    }
   ],
   "source": [
    "dataset.run_timestamp_raw"
   ]
  },
  {
   "cell_type": "code",
   "execution_count": 19,
   "metadata": {
    "execution": {
     "iopub.execute_input": "2025-10-31T09:52:05.448407Z",
     "iopub.status.busy": "2025-10-31T09:52:05.448254Z",
     "iopub.status.idle": "2025-10-31T09:52:05.452123Z",
     "shell.execute_reply": "2025-10-31T09:52:05.451326Z"
    }
   },
   "outputs": [
    {
     "data": {
      "text/plain": [
       "'2025-10-31 09:52:02'"
      ]
     },
     "execution_count": 19,
     "metadata": {},
     "output_type": "execute_result"
    }
   ],
   "source": [
    "dataset.run_timestamp()"
   ]
  },
  {
   "cell_type": "code",
   "execution_count": 20,
   "metadata": {
    "execution": {
     "iopub.execute_input": "2025-10-31T09:52:05.453706Z",
     "iopub.status.busy": "2025-10-31T09:52:05.453529Z",
     "iopub.status.idle": "2025-10-31T09:52:05.457286Z",
     "shell.execute_reply": "2025-10-31T09:52:05.456603Z"
    }
   },
   "outputs": [
    {
     "data": {
      "text/plain": [
       "1761904324.736846"
      ]
     },
     "execution_count": 20,
     "metadata": {},
     "output_type": "execute_result"
    }
   ],
   "source": [
    "dataset.completed_timestamp_raw"
   ]
  },
  {
   "cell_type": "code",
   "execution_count": 21,
   "metadata": {
    "execution": {
     "iopub.execute_input": "2025-10-31T09:52:05.458781Z",
     "iopub.status.busy": "2025-10-31T09:52:05.458628Z",
     "iopub.status.idle": "2025-10-31T09:52:05.462436Z",
     "shell.execute_reply": "2025-10-31T09:52:05.461583Z"
    }
   },
   "outputs": [
    {
     "data": {
      "text/plain": [
       "'2025-10-31 09:52:04'"
      ]
     },
     "execution_count": 21,
     "metadata": {},
     "output_type": "execute_result"
    }
   ],
   "source": [
    "dataset.completed_timestamp()"
   ]
  },
  {
   "cell_type": "markdown",
   "metadata": {},
   "source": [
    "### Snapshot\n",
    "\n",
    "The snapshot of the `Station` at the moment the measurement started is stored in the `DataSet`, and is available via `snapshot` property that returns the snapshot as a Python dictionary:"
   ]
  },
  {
   "cell_type": "code",
   "execution_count": 22,
   "metadata": {
    "execution": {
     "iopub.execute_input": "2025-10-31T09:52:05.463992Z",
     "iopub.status.busy": "2025-10-31T09:52:05.463833Z",
     "iopub.status.idle": "2025-10-31T09:52:05.468771Z",
     "shell.execute_reply": "2025-10-31T09:52:05.467853Z"
    }
   },
   "outputs": [
    {
     "data": {
      "text/plain": [
       "{'station': {'instruments': {},\n",
       "  'parameters': {'force_side': {'__class__': 'qcodes.parameters.parameter.Parameter',\n",
       "    'full_name': 'force_side',\n",
       "    'value': 'dark',\n",
       "    'raw_value': 'dark',\n",
       "    'ts': '2025-10-31 09:52:02',\n",
       "    'post_delay': 0,\n",
       "    'label': 'Side of the Force',\n",
       "    'unit': '',\n",
       "    'inter_delay': 0,\n",
       "    'validators': [],\n",
       "    'name': 'force_side'}},\n",
       "  'components': {},\n",
       "  'config': None},\n",
       " 'parameters': {'x': {'__class__': 'qcodes.parameters.parameter.Parameter',\n",
       "   'full_name': 'x',\n",
       "   'value': None,\n",
       "   'raw_value': None,\n",
       "   'ts': None,\n",
       "   'post_delay': 0,\n",
       "   'label': 'Voltage',\n",
       "   'unit': 'V',\n",
       "   'inter_delay': 0,\n",
       "   'validators': [],\n",
       "   'name': 'x'},\n",
       "  'y2': {'__class__': 'qcodes.parameters.parameter.Parameter',\n",
       "   'full_name': 'y2',\n",
       "   'value': None,\n",
       "   'raw_value': None,\n",
       "   'ts': None,\n",
       "   'post_delay': 0,\n",
       "   'label': 'Current',\n",
       "   'unit': 'A',\n",
       "   'inter_delay': 0,\n",
       "   'validators': [],\n",
       "   'name': 'y2'},\n",
       "  'y': {'__class__': 'qcodes.parameters.parameter.Parameter',\n",
       "   'full_name': 'y',\n",
       "   'value': None,\n",
       "   'raw_value': None,\n",
       "   'ts': None,\n",
       "   'post_delay': 0,\n",
       "   'label': 'Voltage',\n",
       "   'unit': 'V',\n",
       "   'inter_delay': 0,\n",
       "   'validators': [],\n",
       "   'name': 'y'},\n",
       "  't': {'__class__': 'qcodes.parameters.parameter.Parameter',\n",
       "   'full_name': 't',\n",
       "   'value': None,\n",
       "   'raw_value': None,\n",
       "   'ts': None,\n",
       "   'post_delay': 0,\n",
       "   'label': 'Time',\n",
       "   'unit': 's',\n",
       "   'inter_delay': 0,\n",
       "   'validators': [],\n",
       "   'name': 't'}}}"
      ]
     },
     "execution_count": 22,
     "metadata": {},
     "output_type": "execute_result"
    }
   ],
   "source": [
    "dataset.snapshot"
   ]
  },
  {
   "cell_type": "markdown",
   "metadata": {},
   "source": [
    "If needed, `snapshot_raw` property of the `DataSet` can be used to retrieve the snapshot in the way it is persisted - it's a JSON-formatted string:"
   ]
  },
  {
   "cell_type": "code",
   "execution_count": 23,
   "metadata": {
    "execution": {
     "iopub.execute_input": "2025-10-31T09:52:05.470317Z",
     "iopub.status.busy": "2025-10-31T09:52:05.470155Z",
     "iopub.status.idle": "2025-10-31T09:52:05.474018Z",
     "shell.execute_reply": "2025-10-31T09:52:05.473247Z"
    }
   },
   "outputs": [
    {
     "data": {
      "text/plain": [
       "'{\"station\": {\"instruments\": {}, \"parameters\": {\"force_side\": {\"__class__\": \"qcodes.parameters.parameter.Parameter\", \"full_name\": \"force_side\", \"value\": \"dark\", \"raw_value\": \"dark\", \"ts\": \"2025-10-31 09:52:02\", \"post_delay\": 0, \"label\": \"Side of the Force\", \"unit\": \"\", \"inter_delay\": 0, \"validators\": [], \"name\": \"force_side\"}}, \"components\": {}, \"config\": null}, \"parameters\": {\"x\": {\"__class__\": \"qcodes.parameters.parameter.Parameter\", \"full_name\": \"x\", \"value\": null, \"raw_value\": null, \"ts\": null, \"post_delay\": 0, \"label\": \"Voltage\", \"unit\": \"V\", \"inter_delay\": 0, \"validators\": [], \"name\": \"x\"}, \"y2\": {\"__class__\": \"qcodes.parameters.parameter.Parameter\", \"full_name\": \"y2\", \"value\": null, \"raw_value\": null, \"ts\": null, \"post_delay\": 0, \"label\": \"Current\", \"unit\": \"A\", \"inter_delay\": 0, \"validators\": [], \"name\": \"y2\"}, \"y\": {\"__class__\": \"qcodes.parameters.parameter.Parameter\", \"full_name\": \"y\", \"value\": null, \"raw_value\": null, \"ts\": null, \"post_delay\": 0, \"label\": \"Voltage\", \"unit\": \"V\", \"inter_delay\": 0, \"validators\": [], \"name\": \"y\"}, \"t\": {\"__class__\": \"qcodes.parameters.parameter.Parameter\", \"full_name\": \"t\", \"value\": null, \"raw_value\": null, \"ts\": null, \"post_delay\": 0, \"label\": \"Time\", \"unit\": \"s\", \"inter_delay\": 0, \"validators\": [], \"name\": \"t\"}}}'"
      ]
     },
     "execution_count": 23,
     "metadata": {},
     "output_type": "execute_result"
    }
   ],
   "source": [
    "dataset.snapshot_raw"
   ]
  },
  {
   "cell_type": "markdown",
   "metadata": {},
   "source": [
    "### Parent dataset links\n",
    "\n",
    "The feature of linking `DataSet`s is described in detail in a separate [Linking to parent datasets](Linking to parent datasets.ipynb) notebook, hence here we will just mention the `parent_dataset_links` property:"
   ]
  },
  {
   "cell_type": "code",
   "execution_count": 24,
   "metadata": {
    "execution": {
     "iopub.execute_input": "2025-10-31T09:52:05.475586Z",
     "iopub.status.busy": "2025-10-31T09:52:05.475405Z",
     "iopub.status.idle": "2025-10-31T09:52:05.479130Z",
     "shell.execute_reply": "2025-10-31T09:52:05.478262Z"
    }
   },
   "outputs": [
    {
     "data": {
      "text/plain": [
       "[]"
      ]
     },
     "execution_count": 24,
     "metadata": {},
     "output_type": "execute_result"
    }
   ],
   "source": [
    "dataset.parent_dataset_links"
   ]
  },
  {
   "cell_type": "markdown",
   "metadata": {},
   "source": [
    "### Note on DataSet states\n",
    "\n",
    "The `DataSet` object publicly exposes properties which give information about its state. However, users are expected to always get `DataSet` objects in their \"final\", last, unmodifiable state. This means that the \"state\" properties of the dataset will have the following values:"
   ]
  },
  {
   "cell_type": "code",
   "execution_count": 25,
   "metadata": {
    "execution": {
     "iopub.execute_input": "2025-10-31T09:52:05.480691Z",
     "iopub.status.busy": "2025-10-31T09:52:05.480506Z",
     "iopub.status.idle": "2025-10-31T09:52:05.484270Z",
     "shell.execute_reply": "2025-10-31T09:52:05.483485Z"
    }
   },
   "outputs": [
    {
     "data": {
      "text/plain": [
       "True"
      ]
     },
     "execution_count": 25,
     "metadata": {},
     "output_type": "execute_result"
    }
   ],
   "source": [
    "dataset.completed"
   ]
  },
  {
   "cell_type": "code",
   "execution_count": 26,
   "metadata": {
    "execution": {
     "iopub.execute_input": "2025-10-31T09:52:05.485881Z",
     "iopub.status.busy": "2025-10-31T09:52:05.485718Z",
     "iopub.status.idle": "2025-10-31T09:52:05.489529Z",
     "shell.execute_reply": "2025-10-31T09:52:05.488668Z"
    }
   },
   "outputs": [
    {
     "data": {
      "text/plain": [
       "True"
      ]
     },
     "execution_count": 26,
     "metadata": {},
     "output_type": "execute_result"
    }
   ],
   "source": [
    "dataset.started"
   ]
  },
  {
   "cell_type": "code",
   "execution_count": 27,
   "metadata": {
    "execution": {
     "iopub.execute_input": "2025-10-31T09:52:05.491031Z",
     "iopub.status.busy": "2025-10-31T09:52:05.490869Z",
     "iopub.status.idle": "2025-10-31T09:52:05.494715Z",
     "shell.execute_reply": "2025-10-31T09:52:05.493864Z"
    }
   },
   "outputs": [
    {
     "data": {
      "text/plain": [
       "False"
      ]
     },
     "execution_count": 27,
     "metadata": {},
     "output_type": "execute_result"
    }
   ],
   "source": [
    "dataset.running"
   ]
  },
  {
   "cell_type": "code",
   "execution_count": 28,
   "metadata": {
    "execution": {
     "iopub.execute_input": "2025-10-31T09:52:05.496254Z",
     "iopub.status.busy": "2025-10-31T09:52:05.496090Z",
     "iopub.status.idle": "2025-10-31T09:52:05.499887Z",
     "shell.execute_reply": "2025-10-31T09:52:05.499047Z"
    }
   },
   "outputs": [
    {
     "data": {
      "text/plain": [
       "False"
      ]
     },
     "execution_count": 28,
     "metadata": {},
     "output_type": "execute_result"
    }
   ],
   "source": [
    "dataset.pristine"
   ]
  },
  {
   "cell_type": "markdown",
   "metadata": {},
   "source": [
    "### Note on metadata\n",
    "\n",
    "`DataSet` object also supports storing arbitrary \"metadata\" inside it, however, this feature is not complete and may be flaky and buggy at the moment. Yet, for completeness of this article we still mention the `metadata` property of the `DataSet`:"
   ]
  },
  {
   "cell_type": "code",
   "execution_count": 29,
   "metadata": {
    "execution": {
     "iopub.execute_input": "2025-10-31T09:52:05.501429Z",
     "iopub.status.busy": "2025-10-31T09:52:05.501265Z",
     "iopub.status.idle": "2025-10-31T09:52:05.505054Z",
     "shell.execute_reply": "2025-10-31T09:52:05.504229Z"
    }
   },
   "outputs": [
    {
     "data": {
      "text/plain": [
       "{}"
      ]
     },
     "execution_count": 29,
     "metadata": {},
     "output_type": "execute_result"
    }
   ],
   "source": [
    "dataset.metadata"
   ]
  },
  {
   "cell_type": "markdown",
   "metadata": {},
   "source": [
    "## Parameters in DataSet\n",
    "\n",
    "In this section we are getting information about the parameters stored in the given `DataSet`."
   ]
  },
  {
   "cell_type": "markdown",
   "metadata": {},
   "source": [
    "### Interdependencies\n",
    "\n",
    "`DataSet` object has a `description` property that returns a `RunDescriber` object. The `RunDescriber` object in turn contains information about the parameters under its `interdeps` attribute:"
   ]
  },
  {
   "cell_type": "code",
   "execution_count": 30,
   "metadata": {
    "execution": {
     "iopub.execute_input": "2025-10-31T09:52:05.506646Z",
     "iopub.status.busy": "2025-10-31T09:52:05.506466Z",
     "iopub.status.idle": "2025-10-31T09:52:05.510404Z",
     "shell.execute_reply": "2025-10-31T09:52:05.509562Z"
    }
   },
   "outputs": [
    {
     "data": {
      "text/plain": [
       "InterDependencies_(dependencies={ParamSpecBase('y', 'numeric', 'Voltage', 'V'): (ParamSpecBase('x', 'numeric', 'Voltage', 'V'), ParamSpecBase('t', 'numeric', 'Time', 's')), ParamSpecBase('y2', 'numeric', 'Current', 'A'): (ParamSpecBase('x', 'numeric', 'Voltage', 'V'), ParamSpecBase('t', 'numeric', 'Time', 's'))}, inferences={}, standalones=frozenset())"
      ]
     },
     "execution_count": 30,
     "metadata": {},
     "output_type": "execute_result"
    }
   ],
   "source": [
    "interdeps = dataset.description.interdeps\n",
    "interdeps"
   ]
  },
  {
   "cell_type": "markdown",
   "metadata": {},
   "source": [
    "This is `InterDependencies_` object, it stores information about every parameter in the form of `ParamSpecBase` objects, and the releationship between parameters via `dependencies`, `inferences`, and `standalones` attributes."
   ]
  },
  {
   "cell_type": "markdown",
   "metadata": {},
   "source": [
    "For example, the dataset that we are inspecting contains no inferences, and no standalone parameters, but it contains two dependent parameters `y` and `y2`, which both depend on independent `x` and `t` parameters:"
   ]
  },
  {
   "cell_type": "code",
   "execution_count": 31,
   "metadata": {
    "execution": {
     "iopub.execute_input": "2025-10-31T09:52:05.511988Z",
     "iopub.status.busy": "2025-10-31T09:52:05.511803Z",
     "iopub.status.idle": "2025-10-31T09:52:05.515628Z",
     "shell.execute_reply": "2025-10-31T09:52:05.514724Z"
    }
   },
   "outputs": [
    {
     "data": {
      "text/plain": [
       "{}"
      ]
     },
     "execution_count": 31,
     "metadata": {},
     "output_type": "execute_result"
    }
   ],
   "source": [
    "interdeps.inferences"
   ]
  },
  {
   "cell_type": "code",
   "execution_count": 32,
   "metadata": {
    "execution": {
     "iopub.execute_input": "2025-10-31T09:52:05.517188Z",
     "iopub.status.busy": "2025-10-31T09:52:05.517026Z",
     "iopub.status.idle": "2025-10-31T09:52:05.520828Z",
     "shell.execute_reply": "2025-10-31T09:52:05.519972Z"
    }
   },
   "outputs": [
    {
     "data": {
      "text/plain": [
       "frozenset()"
      ]
     },
     "execution_count": 32,
     "metadata": {},
     "output_type": "execute_result"
    }
   ],
   "source": [
    "interdeps.standalones"
   ]
  },
  {
   "cell_type": "code",
   "execution_count": 33,
   "metadata": {
    "execution": {
     "iopub.execute_input": "2025-10-31T09:52:05.522325Z",
     "iopub.status.busy": "2025-10-31T09:52:05.522166Z",
     "iopub.status.idle": "2025-10-31T09:52:05.526025Z",
     "shell.execute_reply": "2025-10-31T09:52:05.525201Z"
    }
   },
   "outputs": [
    {
     "data": {
      "text/plain": [
       "{ParamSpecBase('y', 'numeric', 'Voltage', 'V'): (ParamSpecBase('x', 'numeric', 'Voltage', 'V'),\n",
       "  ParamSpecBase('t', 'numeric', 'Time', 's')),\n",
       " ParamSpecBase('y2', 'numeric', 'Current', 'A'): (ParamSpecBase('x', 'numeric', 'Voltage', 'V'),\n",
       "  ParamSpecBase('t', 'numeric', 'Time', 's'))}"
      ]
     },
     "execution_count": 33,
     "metadata": {},
     "output_type": "execute_result"
    }
   ],
   "source": [
    "interdeps.dependencies"
   ]
  },
  {
   "cell_type": "code",
   "execution_count": 34,
   "metadata": {
    "execution": {
     "iopub.execute_input": "2025-10-31T09:52:05.527515Z",
     "iopub.status.busy": "2025-10-31T09:52:05.527356Z",
     "iopub.status.idle": "2025-10-31T09:52:05.531150Z",
     "shell.execute_reply": "2025-10-31T09:52:05.530313Z"
    }
   },
   "outputs": [
    {
     "name": "stdout",
     "output_type": "stream",
     "text": [
      "Parameter ParamSpecBase('y', 'numeric', 'Voltage', 'V') depends on:\n",
      "- ParamSpecBase('x', 'numeric', 'Voltage', 'V')\n",
      "- ParamSpecBase('t', 'numeric', 'Time', 's')\n"
     ]
    }
   ],
   "source": [
    "ps = next(iter(interdeps.dependencies.keys()))\n",
    "\n",
    "print(f\"Parameter {ps} depends on:\")\n",
    "\n",
    "for p in interdeps.dependencies[ps]:\n",
    "    print(f\"- {p}\")"
   ]
  },
  {
   "cell_type": "markdown",
   "metadata": {},
   "source": [
    "Note that `ParamSpecBase` objects contain all the necessary information about a parameter, including its `name` and `unit`:"
   ]
  },
  {
   "cell_type": "code",
   "execution_count": 35,
   "metadata": {
    "execution": {
     "iopub.execute_input": "2025-10-31T09:52:05.532815Z",
     "iopub.status.busy": "2025-10-31T09:52:05.532555Z",
     "iopub.status.idle": "2025-10-31T09:52:05.535553Z",
     "shell.execute_reply": "2025-10-31T09:52:05.534846Z"
    }
   },
   "outputs": [
    {
     "name": "stdout",
     "output_type": "stream",
     "text": [
      "Parameter 'y' is in 'V'\n"
     ]
    }
   ],
   "source": [
    "ps = next(iter(interdeps.dependencies.keys()))\n",
    "print(f\"Parameter {ps.name!r} is in {ps.unit!r}\")"
   ]
  },
  {
   "cell_type": "markdown",
   "metadata": {},
   "source": [
    "More information on how to work with this object is provided in a separate example notebook, [Accessing data in DataSet](Accessing-data-in-DataSet.ipynb)."
   ]
  },
  {
   "cell_type": "markdown",
   "metadata": {},
   "source": [
    "### Shortcuts to important parameters\n",
    "\n",
    "For the frequently needed groups of parameters, `DataSet` object itself provides convenient methods.\n",
    "\n",
    "For example, use `dependent_parameters` property to get a only dependent parameters of a given `DataSet`:"
   ]
  },
  {
   "cell_type": "code",
   "execution_count": 36,
   "metadata": {
    "execution": {
     "iopub.execute_input": "2025-10-31T09:52:05.537111Z",
     "iopub.status.busy": "2025-10-31T09:52:05.536958Z",
     "iopub.status.idle": "2025-10-31T09:52:05.540732Z",
     "shell.execute_reply": "2025-10-31T09:52:05.539914Z"
    }
   },
   "outputs": [
    {
     "data": {
      "text/plain": [
       "(ParamSpecBase('y', 'numeric', 'Voltage', 'V'),\n",
       " ParamSpecBase('y2', 'numeric', 'Current', 'A'))"
      ]
     },
     "execution_count": 36,
     "metadata": {},
     "output_type": "execute_result"
    }
   ],
   "source": [
    "dataset.dependent_parameters"
   ]
  },
  {
   "cell_type": "markdown",
   "metadata": {},
   "source": [
    "### Note on ParamSpec's\n",
    "\n",
    "> `ParamSpec`s originate from QCoDeS versions prior to `0.2.0` and for now are kept for backwards compatibility. `ParamSpec`s are completely superseded by `InterDependencies_`/`ParamSpecBase` bundle and will likely be deprecated in future versions of QCoDeS together with the `DataSet` methods/properties that return `ParamSpec`s objects.\n",
    "\n",
    "In addition to the `Interdependencies_` object, `DataSet` also holds `ParamSpec` objects (not to be confused with `ParamSpecBase` objects from above). Similar to `Interdependencies_` object, the `ParamSpec` objects hold information about parameters and their interdependencies but in a different way: for a given parameter, `ParamSpec` object itself contains information on names of parameters that it depends on, while for the `InterDependencies_`/`ParamSpecBase`s this information is stored only in the `InterDependencies_` object.\n",
    "\n",
    "`DataSet` exposes `paramspecs` property and `get_parameters()` method, both of which return `ParamSpec` objects of all the parameters of the dataset, and are not recommended for use:"
   ]
  },
  {
   "cell_type": "code",
   "execution_count": 37,
   "metadata": {
    "execution": {
     "iopub.execute_input": "2025-10-31T09:52:05.542189Z",
     "iopub.status.busy": "2025-10-31T09:52:05.542026Z",
     "iopub.status.idle": "2025-10-31T09:52:05.546058Z",
     "shell.execute_reply": "2025-10-31T09:52:05.545176Z"
    }
   },
   "outputs": [
    {
     "data": {
      "text/plain": [
       "{'x': ParamSpec('x', 'numeric', 'Voltage', 'V', inferred_from=[], depends_on=[]),\n",
       " 't': ParamSpec('t', 'numeric', 'Time', 's', inferred_from=[], depends_on=[]),\n",
       " 'y': ParamSpec('y', 'numeric', 'Voltage', 'V', inferred_from=[], depends_on=['x', 't']),\n",
       " 'y2': ParamSpec('y2', 'numeric', 'Current', 'A', inferred_from=[], depends_on=['x', 't'])}"
      ]
     },
     "execution_count": 37,
     "metadata": {},
     "output_type": "execute_result"
    }
   ],
   "source": [
    "dataset.paramspecs"
   ]
  },
  {
   "cell_type": "code",
   "execution_count": 38,
   "metadata": {
    "execution": {
     "iopub.execute_input": "2025-10-31T09:52:05.547663Z",
     "iopub.status.busy": "2025-10-31T09:52:05.547473Z",
     "iopub.status.idle": "2025-10-31T09:52:05.551440Z",
     "shell.execute_reply": "2025-10-31T09:52:05.550731Z"
    }
   },
   "outputs": [
    {
     "data": {
      "text/plain": [
       "[ParamSpec('x', 'numeric', 'Voltage', 'V', inferred_from=[], depends_on=[]),\n",
       " ParamSpec('t', 'numeric', 'Time', 's', inferred_from=[], depends_on=[]),\n",
       " ParamSpec('y', 'numeric', 'Voltage', 'V', inferred_from=[], depends_on=['x', 't']),\n",
       " ParamSpec('y2', 'numeric', 'Current', 'A', inferred_from=[], depends_on=['x', 't'])]"
      ]
     },
     "execution_count": 38,
     "metadata": {},
     "output_type": "execute_result"
    }
   ],
   "source": [
    "dataset.get_parameters()"
   ]
  },
  {
   "cell_type": "markdown",
   "metadata": {},
   "source": [
    "Lastly, `DataSet` has `parameters` that returns a string with comma-separated names of all the dataset parameters (will likely be deprecated soon):"
   ]
  },
  {
   "cell_type": "code",
   "execution_count": 39,
   "metadata": {
    "execution": {
     "iopub.execute_input": "2025-10-31T09:52:05.553029Z",
     "iopub.status.busy": "2025-10-31T09:52:05.552879Z",
     "iopub.status.idle": "2025-10-31T09:52:05.556814Z",
     "shell.execute_reply": "2025-10-31T09:52:05.556002Z"
    }
   },
   "outputs": [
    {
     "data": {
      "text/plain": [
       "'x,t,y,y2'"
      ]
     },
     "execution_count": 39,
     "metadata": {},
     "output_type": "execute_result"
    }
   ],
   "source": [
    "dataset.parameters"
   ]
  },
  {
   "cell_type": "markdown",
   "metadata": {},
   "source": [
    "## Data access in DataSet\n",
    "\n",
    "`DataSet` provides one main method of accessing data - `get_parameter_data`. It returns data for groups of dependent-parameter-and-its-independent-parameters in a form of a nested dictionary of `numpy` arrays:"
   ]
  },
  {
   "cell_type": "code",
   "execution_count": 40,
   "metadata": {
    "execution": {
     "iopub.execute_input": "2025-10-31T09:52:05.558432Z",
     "iopub.status.busy": "2025-10-31T09:52:05.558264Z",
     "iopub.status.idle": "2025-10-31T09:52:05.569648Z",
     "shell.execute_reply": "2025-10-31T09:52:05.568854Z"
    }
   },
   "outputs": [
    {
     "data": {
      "text/plain": [
       "{'y': {'y': array([-0.5       , -0.41666667, -0.33333333, ...,  1.33333333,\n",
       "          1.41666667,  1.5       ], shape=(1250,)),\n",
       "  'x': array([-4., -4., -4., ...,  5.,  5.,  5.], shape=(1250,)),\n",
       "  't': array([-500.        , -416.66666667, -333.33333333, ..., 1333.33333333,\n",
       "         1416.66666667, 1500.        ], shape=(1250,))},\n",
       " 'y2': {'y2': array([ 0.5       ,  0.41666667,  0.33333333, ..., -1.33333333,\n",
       "         -1.41666667, -1.5       ], shape=(1250,)),\n",
       "  'x': array([-4., -4., -4., ...,  5.,  5.,  5.], shape=(1250,)),\n",
       "  't': array([-500.        , -416.66666667, -333.33333333, ..., 1333.33333333,\n",
       "         1416.66666667, 1500.        ], shape=(1250,))}}"
      ]
     },
     "execution_count": 40,
     "metadata": {},
     "output_type": "execute_result"
    }
   ],
   "source": [
    "dataset.get_parameter_data()"
   ]
  },
  {
   "cell_type": "markdown",
   "metadata": {},
   "source": [
    "Additionally, `DataSet` provides the following convenient methods:\n",
    "\n",
    "* `DataSet.to_pandas_dataframe`, `DataSet.to_pandas_dataframe`, `DataSet.to_xarray_dataset`, and `DataSet.to_xarray_dataarray_dict` ([more info in Working with pandas and xarray article](Working-With-Pandas-and-XArray.ipynb))\n",
    "* `DataSet.export`"
   ]
  },
  {
   "cell_type": "markdown",
   "metadata": {},
   "source": [
    "More information on how to access data in a dataset is provided in a separate example notebook, [Accessing data in DataSet](Accessing-data-in-DataSet.ipynb) and [Exporting QCoDes Datasets](./Exporting-data-to-other-file-formats.ipynb) contains more information about how to export datasets to other file formats."
   ]
  },
  {
   "cell_type": "markdown",
   "metadata": {},
   "source": [
    "Note that `get_parameter_data` reads the data from the database at each call. If you need to re read data from the database either from a separate process while writing the data or after the data acquisition consider using the [dataset cache](Cache/read_data_from_cache.ipynb)"
   ]
  },
  {
   "cell_type": "markdown",
   "metadata": {},
   "source": [
    "### Not recommended data access methods"
   ]
  },
  {
   "cell_type": "markdown",
   "metadata": {},
   "source": [
    "`DataSet` provides a property `number_of_results` which reflects the size of the data the dataset holds. For our example dataset, this number is equal to the number of `x` values multiplied by the number of `t` values multiplied by the number of dependent parameters (`y` and `y2`) -- `50 * 25 * 2`:"
   ]
  },
  {
   "cell_type": "code",
   "execution_count": 41,
   "metadata": {
    "execution": {
     "iopub.execute_input": "2025-10-31T09:52:05.571320Z",
     "iopub.status.busy": "2025-10-31T09:52:05.571169Z",
     "iopub.status.idle": "2025-10-31T09:52:05.574862Z",
     "shell.execute_reply": "2025-10-31T09:52:05.574104Z"
    },
    "scrolled": true
   },
   "outputs": [
    {
     "data": {
      "text/plain": [
       "2500"
      ]
     },
     "execution_count": 41,
     "metadata": {},
     "output_type": "execute_result"
    }
   ],
   "source": [
    "dataset.number_of_results"
   ]
  },
  {
   "cell_type": "markdown",
   "metadata": {},
   "source": [
    "## What about the rest?\n",
    "\n",
    "An interested user might discover other methods and properties of the `DataSet` class that are not mentioned here. Those methods and properties are likely to be made private or deprecated in future QCoDeS releases... or be documented and presented for use :)"
   ]
  }
 ],
 "metadata": {
  "kernelspec": {
   "display_name": "Python 3 (ipykernel)",
   "language": "python",
   "name": "python3"
  },
  "language_info": {
   "codemirror_mode": {
    "name": "ipython",
    "version": 3
   },
   "file_extension": ".py",
   "mimetype": "text/x-python",
   "name": "python",
   "nbconvert_exporter": "python",
   "pygments_lexer": "ipython3",
   "version": "3.11.14"
  },
  "toc": {
   "base_numbering": 1,
   "nav_menu": {},
   "number_sections": true,
   "sideBar": true,
   "skip_h1_title": false,
   "title_cell": "Table of Contents",
   "title_sidebar": "Contents",
   "toc_cell": false,
   "toc_position": {},
   "toc_section_display": true,
   "toc_window_display": false
  },
  "varInspector": {
   "cols": {
    "lenName": 16,
    "lenType": 16,
    "lenVar": 40
   },
   "kernels_config": {
    "python": {
     "delete_cmd_postfix": "",
     "delete_cmd_prefix": "del ",
     "library": "var_list.py",
     "varRefreshCmd": "print(var_dic_list())"
    },
    "r": {
     "delete_cmd_postfix": ") ",
     "delete_cmd_prefix": "rm(",
     "library": "var_list.r",
     "varRefreshCmd": "cat(var_dic_list()) "
    }
   },
   "types_to_exclude": [
    "module",
    "function",
    "builtin_function_or_method",
    "instance",
    "_Feature"
   ],
   "window_display": false
  }
 },
 "nbformat": 4,
 "nbformat_minor": 4
}
