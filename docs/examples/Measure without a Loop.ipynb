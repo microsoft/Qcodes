{
 "cells": [
  {
   "cell_type": "markdown",
   "metadata": {
    "deletable": true,
    "editable": true
   },
   "source": [
    "# Measure without a Loop\n",
    "\n",
    "If you have a parameter that returns a whole array at once, often you want to measure it directly into a DataSet.\n",
    "\n",
    "This shows how that works in QCoDeS"
   ]
  },
  {
   "cell_type": "code",
   "execution_count": null,
   "metadata": {
    "collapsed": false,
    "deletable": true,
    "editable": true
   },
   "outputs": [],
   "source": [
    "%matplotlib nbagg\n",
    "import qcodes as qc\n",
    "# import dummy driver for the tutorial\n",
    "from qcodes.tests.instrument_mocks import DummyInstrument\n",
    "from qcodes.instrument.mock import ArrayGetter\n",
    "\n",
    "dac1 = DummyInstrument(name=\"dac\")\n",
    "dac2 = DummyInstrument(name=\"dac2\")\n",
    "# the default dummy instrument returns always a constant value, in the following line we make it random \n",
    "# just for the looks 💅\n",
    "import random\n",
    "dac2.dac2.get =  lambda: random.randint(0,100)\n",
    "\n",
    "# The station is a container for all instruments that makes it easy \n",
    "# to log meta-data\n",
    "station = qc.Station(dac1, dac2)"
   ]
  },
  {
   "cell_type": "markdown",
   "metadata": {
    "deletable": true,
    "editable": true
   },
   "source": [
    "## Instantiates all the instruments needed for the demo\n",
    "\n",
    "For this tutorial we're going to use the regular parameters (c0, c1, c2, vsd) and ArrayGetter, which is just a way to construct a parameter that returns a whole array at once out of simple parameters, as well as AverageAndRaw, which returns a scalar *and* an array together."
   ]
  },
  {
   "cell_type": "markdown",
   "metadata": {
    "deletable": true,
    "editable": true
   },
   "source": [
    "### Only array output\n",
    "The arguments to Measure are all the same actions you use in a Loop.\n",
    "If they return only arrays, you will see exactly those arrays (with their setpoints) in the output DataSet"
   ]
  },
  {
   "cell_type": "code",
   "execution_count": null,
   "metadata": {
    "collapsed": false,
    "deletable": true,
    "editable": true
   },
   "outputs": [],
   "source": [
    "data = qc.Measure(\n",
    "    qc.Task(dac1.dac1.set, 0),\n",
    "    ArrayGetter(dac1.dac2, dac1.dac3.sweep(-10,10,0.2), 0.001),\n",
    "    qc.Task(dac1.dac1.set, 2),\n",
    "    ArrayGetter(dac1.dac2, dac1.dac3.sweep(-10,10,0.2), 0.001),\n",
    ").run()"
   ]
  }
 ],
 "metadata": {
  "kernelspec": {
   "display_name": "Python 3",
   "language": "python",
   "name": "python3"
  },
  "language_info": {
   "codemirror_mode": {
    "name": "ipython",
    "version": 3
   },
   "file_extension": ".py",
   "mimetype": "text/x-python",
   "name": "python",
   "nbconvert_exporter": "python",
   "pygments_lexer": "ipython3",
   "version": "3.5.2"
  }
 },
 "nbformat": 4,
 "nbformat_minor": 1
}
