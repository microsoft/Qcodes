{
 "cells": [
  {
   "cell_type": "markdown",
   "id": "marked-capability",
   "metadata": {},
   "source": [
    "# Example with Copper Mountain Model M5065 Vector Network Analyzer\n",
    "This notebook was adapted from `qcodes_contrib_drivers` for Copper Mountain M5065. "
   ]
  },
  {
   "cell_type": "code",
   "execution_count": 1,
   "id": "placed-maldives",
   "metadata": {},
   "outputs": [
    {
     "name": "stderr",
     "output_type": "stream",
     "text": [
      "NoTagError: `git describe --long --dirty --always --tags '--match=v*'` could not find a tag\n"
     ]
    }
   ],
   "source": [
    "import qcodes as qc\n",
    "from qcodes.dataset import (\n",
    "    Measurement,\n",
    "    load_or_create_experiment,\n",
    "    plot_by_id,\n",
    ")\n",
    "from qcodes.station import Station"
   ]
  },
  {
   "cell_type": "code",
   "execution_count": 2,
   "id": "ready-suffering",
   "metadata": {},
   "outputs": [],
   "source": [
    "from qcodes.instrument_drivers.CopperMountain import CopperMountainM5065"
   ]
  },
  {
   "cell_type": "markdown",
   "id": "likely-steps",
   "metadata": {},
   "source": [
    "## Connecting to device"
   ]
  },
  {
   "cell_type": "markdown",
   "id": "statewide-carroll",
   "metadata": {},
   "source": [
    "- Install connection software S2VN, download here: https://coppermountaintech.com/download-free-vna-software-and-documentation/\n",
    "- Run the software and go to System > Misc Setup > Network Remote Control Settings and turn on HiSLIP Server"
   ]
  },
  {
   "cell_type": "code",
   "execution_count": null,
   "id": "first-bacon",
   "metadata": {},
   "outputs": [
    {
     "ename": "ValueError",
     "evalue": "(\"could not convert string to float: 'ERROR\\\\n'\", 'getting M50651_start')",
     "output_type": "error",
     "traceback": [
      "\u001b[31m---------------------------------------------------------------------------\u001b[39m",
      "\u001b[31mValueError\u001b[39m                                Traceback (most recent call last)",
      "\u001b[36mCell\u001b[39m\u001b[36m \u001b[39m\u001b[32mIn[3]\u001b[39m\u001b[32m, line 1\u001b[39m\n\u001b[32m----> \u001b[39m\u001b[32m1\u001b[39m vna = \u001b[43mCopperMountainM5065\u001b[49m\u001b[43m(\u001b[49m\n\u001b[32m      2\u001b[39m \u001b[43m    \u001b[49m\u001b[43mname\u001b[49m\u001b[43m=\u001b[49m\u001b[33;43m\"\u001b[39;49m\u001b[33;43mM50651\u001b[39;49m\u001b[33;43m\"\u001b[39;49m\u001b[43m,\u001b[49m\n\u001b[32m      3\u001b[39m \u001b[43m    \u001b[49m\u001b[43maddress\u001b[49m\u001b[43m=\u001b[49m\u001b[33;43m\"\u001b[39;49m\u001b[33;43mGPIB::1::INSTR\u001b[39;49m\u001b[33;43m\"\u001b[39;49m\u001b[43m,\u001b[49m\n\u001b[32m      4\u001b[39m \u001b[43m    \u001b[49m\u001b[43mpyvisa_sim_file\u001b[49m\u001b[43m=\u001b[49m\u001b[33;43m\"\u001b[39;49m\u001b[33;43mCopperMountain_M5065.yaml\u001b[39;49m\u001b[33;43m\"\u001b[39;49m\n\u001b[32m      5\u001b[39m \u001b[43m)\u001b[49m\n",
      "\u001b[36mFile \u001b[39m\u001b[32m~\\Documents\\repos\\Qcodes\\src\\qcodes\\instrument\\instrument_meta.py:36\u001b[39m, in \u001b[36mInstrumentMeta.__call__\u001b[39m\u001b[34m(cls, *args, **kwargs)\u001b[39m\n\u001b[32m     31\u001b[39m \u001b[38;5;28;01mdef\u001b[39;00m\u001b[38;5;250m \u001b[39m\u001b[34m__call__\u001b[39m(\u001b[38;5;28mcls\u001b[39m, *args: Any, **kwargs: Any) -> Any:\n\u001b[32m     32\u001b[39m \u001b[38;5;250m    \u001b[39m\u001b[33;03m\"\"\"\u001b[39;00m\n\u001b[32m     33\u001b[39m \u001b[33;03m    Overloads `type.__call__` to add code that runs only if __init__ completes\u001b[39;00m\n\u001b[32m     34\u001b[39m \u001b[33;03m    successfully.\u001b[39;00m\n\u001b[32m     35\u001b[39m \u001b[33;03m    \"\"\"\u001b[39;00m\n\u001b[32m---> \u001b[39m\u001b[32m36\u001b[39m     new_inst = \u001b[38;5;28;43msuper\u001b[39;49m\u001b[43m(\u001b[49m\u001b[43m)\u001b[49m\u001b[43m.\u001b[49m\u001b[34;43m__call__\u001b[39;49m\u001b[43m(\u001b[49m\u001b[43m*\u001b[49m\u001b[43margs\u001b[49m\u001b[43m,\u001b[49m\u001b[43m \u001b[49m\u001b[43m*\u001b[49m\u001b[43m*\u001b[49m\u001b[43mkwargs\u001b[49m\u001b[43m)\u001b[49m\n\u001b[32m     37\u001b[39m     is_abstract = new_inst._is_abstract()\n\u001b[32m     38\u001b[39m     \u001b[38;5;28;01mif\u001b[39;00m is_abstract:\n",
      "\u001b[36mFile \u001b[39m\u001b[32m~\\Documents\\repos\\Qcodes\\src\\qcodes\\instrument_drivers\\CopperMountain\\M5065.py:20\u001b[39m, in \u001b[36mCopperMountainM5065.__init__\u001b[39m\u001b[34m(self, name, address, **kwargs)\u001b[39m\n\u001b[32m     14\u001b[39m \u001b[38;5;28;01mdef\u001b[39;00m\u001b[38;5;250m \u001b[39m\u001b[34m__init__\u001b[39m(\n\u001b[32m     15\u001b[39m     \u001b[38;5;28mself\u001b[39m,\n\u001b[32m     16\u001b[39m     name: \u001b[38;5;28mstr\u001b[39m,\n\u001b[32m     17\u001b[39m     address: \u001b[38;5;28mstr\u001b[39m,\n\u001b[32m     18\u001b[39m     **kwargs: \u001b[33m\"\u001b[39m\u001b[33mUnpack[VisaInstrumentKWArgs]\u001b[39m\u001b[33m\"\u001b[39m,\n\u001b[32m     19\u001b[39m ):\n\u001b[32m---> \u001b[39m\u001b[32m20\u001b[39m     \u001b[38;5;28;43msuper\u001b[39;49m\u001b[43m(\u001b[49m\u001b[43m)\u001b[49m\u001b[43m.\u001b[49m\u001b[34;43m__init__\u001b[39;49m\u001b[43m(\u001b[49m\u001b[43mname\u001b[49m\u001b[43m,\u001b[49m\u001b[43m \u001b[49m\u001b[43maddress\u001b[49m\u001b[43m,\u001b[49m\u001b[43m \u001b[49m\u001b[43mmin_freq\u001b[49m\u001b[43m=\u001b[49m\u001b[32;43m300e3\u001b[39;49m\u001b[43m,\u001b[49m\u001b[43m \u001b[49m\u001b[43mmax_freq\u001b[49m\u001b[43m=\u001b[49m\u001b[32;43m6.5e9\u001b[39;49m\u001b[43m,\u001b[49m\u001b[43m \u001b[49m\u001b[43m*\u001b[49m\u001b[43m*\u001b[49m\u001b[43mkwargs\u001b[49m\u001b[43m)\u001b[49m\n",
      "\u001b[36mFile \u001b[39m\u001b[32m~\\Documents\\repos\\Qcodes\\src\\qcodes\\instrument_drivers\\CopperMountain\\_M5xxx.py:300\u001b[39m, in \u001b[36mCopperMountainM5xxx.__init__\u001b[39m\u001b[34m(self, name, address, min_freq, max_freq, timeout, terminator, **kwargs)\u001b[39m\n\u001b[32m    285\u001b[39m \u001b[38;5;28mself\u001b[39m.date_transfer_format: Parameter = \u001b[38;5;28mself\u001b[39m.add_parameter(\n\u001b[32m    286\u001b[39m     name=\u001b[33m\"\u001b[39m\u001b[33mdata_transfer_format\u001b[39m\u001b[33m\"\u001b[39m,\n\u001b[32m    287\u001b[39m     label=\u001b[33m\"\u001b[39m\u001b[33mData format during transfer\u001b[39m\u001b[33m\"\u001b[39m,\n\u001b[32m   (...)\u001b[39m\u001b[32m    293\u001b[39m     vals=Enum(\u001b[33m\"\u001b[39m\u001b[33mascii\u001b[39m\u001b[33m\"\u001b[39m, \u001b[33m\"\u001b[39m\u001b[33mreal\u001b[39m\u001b[33m\"\u001b[39m, \u001b[33m\"\u001b[39m\u001b[33mreal32\u001b[39m\u001b[33m\"\u001b[39m),\n\u001b[32m    294\u001b[39m )\n\u001b[32m    295\u001b[39m \u001b[38;5;250m\u001b[39m\u001b[33;03m\"\"\"Sets or reads out the data transfer format when\u001b[39;00m\n\u001b[32m    296\u001b[39m \u001b[33;03mresponding to certian queries.\"\"\"\u001b[39;00m\n\u001b[32m    298\u001b[39m \u001b[38;5;28mself\u001b[39m.s11: FrequencySweepMagPhase = \u001b[38;5;28mself\u001b[39m.add_parameter(\n\u001b[32m    299\u001b[39m     name=\u001b[33m\"\u001b[39m\u001b[33ms11\u001b[39m\u001b[33m\"\u001b[39m,\n\u001b[32m--> \u001b[39m\u001b[32m300\u001b[39m     start=\u001b[38;5;28;43mself\u001b[39;49m\u001b[43m.\u001b[49m\u001b[43mstart\u001b[49m\u001b[43m(\u001b[49m\u001b[43m)\u001b[49m,\n\u001b[32m    301\u001b[39m     stop=\u001b[38;5;28mself\u001b[39m.stop(),\n\u001b[32m    302\u001b[39m     number_of_points=\u001b[38;5;28mself\u001b[39m.number_of_points(),\n\u001b[32m    303\u001b[39m     parameter_class=FrequencySweepMagPhase,\n\u001b[32m    304\u001b[39m     docstring=\u001b[33m\"\u001b[39m\u001b[33mInput reflection.\u001b[39m\u001b[33m\"\u001b[39m,\n\u001b[32m    305\u001b[39m )\n\u001b[32m    306\u001b[39m \u001b[38;5;250m\u001b[39m\u001b[33;03m\"\"\"Input reflection.\"\"\"\u001b[39;00m\n\u001b[32m    308\u001b[39m \u001b[38;5;28mself\u001b[39m.s12: FrequencySweepMagPhase = \u001b[38;5;28mself\u001b[39m.add_parameter(\n\u001b[32m    309\u001b[39m     name=\u001b[33m\"\u001b[39m\u001b[33ms12\u001b[39m\u001b[33m\"\u001b[39m,\n\u001b[32m    310\u001b[39m     start=\u001b[38;5;28mself\u001b[39m.start(),\n\u001b[32m   (...)\u001b[39m\u001b[32m    314\u001b[39m     docstring=\u001b[33m\"\u001b[39m\u001b[33mReverse transmission.\u001b[39m\u001b[33m\"\u001b[39m,\n\u001b[32m    315\u001b[39m )\n",
      "\u001b[36mFile \u001b[39m\u001b[32m~\\Documents\\repos\\Qcodes\\src\\qcodes\\parameters\\parameter_base.py:523\u001b[39m, in \u001b[36mParameterBase.__call__\u001b[39m\u001b[34m(self, *args, **kwargs)\u001b[39m\n\u001b[32m    521\u001b[39m \u001b[38;5;28;01mif\u001b[39;00m \u001b[38;5;28mlen\u001b[39m(args) == \u001b[32m0\u001b[39m \u001b[38;5;129;01mand\u001b[39;00m \u001b[38;5;28mlen\u001b[39m(kwargs) == \u001b[32m0\u001b[39m:\n\u001b[32m    522\u001b[39m     \u001b[38;5;28;01mif\u001b[39;00m \u001b[38;5;28mself\u001b[39m.gettable:\n\u001b[32m--> \u001b[39m\u001b[32m523\u001b[39m         \u001b[38;5;28;01mreturn\u001b[39;00m \u001b[38;5;28;43mself\u001b[39;49m\u001b[43m.\u001b[49m\u001b[43mget\u001b[49m\u001b[43m(\u001b[49m\u001b[43m)\u001b[49m\n\u001b[32m    524\u001b[39m     \u001b[38;5;28;01melse\u001b[39;00m:\n\u001b[32m    525\u001b[39m         \u001b[38;5;28;01mraise\u001b[39;00m \u001b[38;5;167;01mNotImplementedError\u001b[39;00m(\u001b[33mf\u001b[39m\u001b[33m\"\u001b[39m\u001b[33mno get cmd found in Parameter \u001b[39m\u001b[38;5;132;01m{\u001b[39;00m\u001b[38;5;28mself\u001b[39m.name\u001b[38;5;132;01m}\u001b[39;00m\u001b[33m\"\u001b[39m)\n",
      "\u001b[36mFile \u001b[39m\u001b[32m~\\Documents\\repos\\Qcodes\\src\\qcodes\\parameters\\parameter_base.py:736\u001b[39m, in \u001b[36mParameterBase._wrap_get.<locals>.get_wrapper\u001b[39m\u001b[34m(*args, **kwargs)\u001b[39m\n\u001b[32m    734\u001b[39m \u001b[38;5;28;01mexcept\u001b[39;00m \u001b[38;5;167;01mException\u001b[39;00m \u001b[38;5;28;01mas\u001b[39;00m e:\n\u001b[32m    735\u001b[39m     e.args = (*e.args, \u001b[33mf\u001b[39m\u001b[33m\"\u001b[39m\u001b[33mgetting \u001b[39m\u001b[38;5;132;01m{\u001b[39;00m\u001b[38;5;28mself\u001b[39m\u001b[38;5;132;01m}\u001b[39;00m\u001b[33m\"\u001b[39m)\n\u001b[32m--> \u001b[39m\u001b[32m736\u001b[39m     \u001b[38;5;28;01mraise\u001b[39;00m e\n",
      "\u001b[36mFile \u001b[39m\u001b[32m~\\Documents\\repos\\Qcodes\\src\\qcodes\\parameters\\parameter_base.py:725\u001b[39m, in \u001b[36mParameterBase._wrap_get.<locals>.get_wrapper\u001b[39m\u001b[34m(*args, **kwargs)\u001b[39m\n\u001b[32m    721\u001b[39m \u001b[38;5;28;01mtry\u001b[39;00m:\n\u001b[32m    722\u001b[39m     \u001b[38;5;66;03m# There might be cases where a .get also has args/kwargs\u001b[39;00m\n\u001b[32m    723\u001b[39m     raw_value = get_function(*args, **kwargs)\n\u001b[32m--> \u001b[39m\u001b[32m725\u001b[39m     value = \u001b[38;5;28;43mself\u001b[39;49m\u001b[43m.\u001b[49m\u001b[43m_from_raw_value_to_value\u001b[49m\u001b[43m(\u001b[49m\u001b[43mraw_value\u001b[49m\u001b[43m)\u001b[49m\n\u001b[32m    727\u001b[39m     \u001b[38;5;28;01mif\u001b[39;00m \u001b[38;5;28mself\u001b[39m._validate_on_get:\n\u001b[32m    728\u001b[39m         \u001b[38;5;28mself\u001b[39m.validate(value)\n",
      "\u001b[36mFile \u001b[39m\u001b[32m~\\Documents\\repos\\Qcodes\\src\\qcodes\\parameters\\parameter_base.py:663\u001b[39m, in \u001b[36mParameterBase._from_raw_value_to_value\u001b[39m\u001b[34m(self, raw_value)\u001b[39m\n\u001b[32m    660\u001b[39m value: ParamDataType\n\u001b[32m    662\u001b[39m \u001b[38;5;28;01mif\u001b[39;00m \u001b[38;5;28mself\u001b[39m.get_parser \u001b[38;5;129;01mis\u001b[39;00m \u001b[38;5;129;01mnot\u001b[39;00m \u001b[38;5;28;01mNone\u001b[39;00m:\n\u001b[32m--> \u001b[39m\u001b[32m663\u001b[39m     value = \u001b[38;5;28;43mself\u001b[39;49m\u001b[43m.\u001b[49m\u001b[43mget_parser\u001b[49m\u001b[43m(\u001b[49m\u001b[43mraw_value\u001b[49m\u001b[43m)\u001b[49m\n\u001b[32m    664\u001b[39m \u001b[38;5;28;01melse\u001b[39;00m:\n\u001b[32m    665\u001b[39m     value = raw_value\n",
      "\u001b[31mValueError\u001b[39m: (\"could not convert string to float: 'ERROR\\\\n'\", 'getting M50651_start')"
     ]
    }
   ],
   "source": [
    "vna = CopperMountainM5065(\n",
    "    name=\"M5065\", address=\"GPIB::1::INSTR\", pyvisa_sim_file=\"CopperMountain_M5065.yaml\"\n",
    ")"
   ]
  },
  {
   "cell_type": "code",
   "execution_count": 4,
   "id": "expected-chorus",
   "metadata": {},
   "outputs": [
    {
     "name": "stderr",
     "output_type": "stream",
     "text": [
      "[M50651(CopperMountainM5065)] Error getting or interpreting *IDN?: ''\n",
      "Traceback (most recent call last):\n",
      "  File \"C:\\Users\\v-tlemon\\Documents\\repos\\Qcodes\\src\\qcodes\\instrument\\instrument.py\", line 97, in get_idn\n",
      "    idstr = self.ask(\"*IDN?\")\n",
      "  File \"C:\\Users\\v-tlemon\\Documents\\repos\\Qcodes\\src\\qcodes\\instrument\\instrument.py\", line 442, in ask\n",
      "    raise e\n",
      "  File \"C:\\Users\\v-tlemon\\Documents\\repos\\Qcodes\\src\\qcodes\\instrument\\instrument.py\", line 436, in ask\n",
      "    answer = self.ask_raw(cmd)\n",
      "  File \"C:\\Users\\v-tlemon\\Documents\\repos\\Qcodes\\src\\qcodes\\instrument\\visa.py\", line 392, in ask_raw\n",
      "    response = self.visa_handle.query(cmd)\n",
      "  File \"c:\\Users\\v-tlemon\\AppData\\Local\\miniconda3\\envs\\qcodes\\Lib\\site-packages\\pyvisa\\resources\\messagebased.py\", line 690, in query\n",
      "    return self.read()\n",
      "           ~~~~~~~~~^^\n",
      "  File \"c:\\Users\\v-tlemon\\AppData\\Local\\miniconda3\\envs\\qcodes\\Lib\\site-packages\\pyvisa\\resources\\messagebased.py\", line 519, in read\n",
      "    message = self._read_raw().decode(enco)\n",
      "              ~~~~~~~~~~~~~~^^\n",
      "  File \"c:\\Users\\v-tlemon\\AppData\\Local\\miniconda3\\envs\\qcodes\\Lib\\site-packages\\pyvisa\\resources\\messagebased.py\", line 473, in _read_raw\n",
      "    chunk, status = self.visalib.read(self.session, size)\n",
      "                    ~~~~~~~~~~~~~~~~~^^^^^^^^^^^^^^^^^^^^\n",
      "  File \"c:\\Users\\v-tlemon\\AppData\\Local\\miniconda3\\envs\\qcodes\\Lib\\site-packages\\pyvisa_sim\\highlevel.py\", line 255, in read\n",
      "    raise errors.VisaIOError(constants.VI_ERROR_TMO)\n",
      "pyvisa.errors.VisaIOError: ('VI_ERROR_TMO (-1073807339): Timeout expired before operation completed.', \"asking '*IDN?' to <CopperMountainM5065: M50651>\")\n",
      "[M50651(CopperMountainM5065)] Snapshot: Could not update parameter: output\n",
      "[M50651(CopperMountainM5065)] Snapshot: Could not update parameter: power\n"
     ]
    },
    {
     "name": "stdout",
     "output_type": "stream",
     "text": [
      "Received SIGINT, Will interrupt at first suitable time. Send second SIGINT to interrupt immediately.\n"
     ]
    },
    {
     "ename": "KeyboardInterrupt",
     "evalue": "",
     "output_type": "error",
     "traceback": [
      "\u001b[31m---------------------------------------------------------------------------\u001b[39m",
      "\u001b[31mVisaIOError\u001b[39m                               Traceback (most recent call last)",
      "\u001b[36mFile \u001b[39m\u001b[32m~\\Documents\\repos\\Qcodes\\src\\qcodes\\instrument\\visa.py:392\u001b[39m, in \u001b[36mVisaInstrument.ask_raw\u001b[39m\u001b[34m(self, cmd)\u001b[39m\n\u001b[32m    391\u001b[39m \u001b[38;5;28mself\u001b[39m.visa_log.debug(\u001b[33mf\u001b[39m\u001b[33m\"\u001b[39m\u001b[33mQuerying: \u001b[39m\u001b[38;5;132;01m{\u001b[39;00mcmd\u001b[38;5;132;01m}\u001b[39;00m\u001b[33m\"\u001b[39m)\n\u001b[32m--> \u001b[39m\u001b[32m392\u001b[39m response = \u001b[38;5;28;43mself\u001b[39;49m\u001b[43m.\u001b[49m\u001b[43mvisa_handle\u001b[49m\u001b[43m.\u001b[49m\u001b[43mquery\u001b[49m\u001b[43m(\u001b[49m\u001b[43mcmd\u001b[49m\u001b[43m)\u001b[49m\n\u001b[32m    393\u001b[39m \u001b[38;5;28mself\u001b[39m.visa_log.debug(\u001b[33mf\u001b[39m\u001b[33m\"\u001b[39m\u001b[33mResponse: \u001b[39m\u001b[38;5;132;01m{\u001b[39;00mresponse\u001b[38;5;132;01m}\u001b[39;00m\u001b[33m\"\u001b[39m)\n",
      "\u001b[36mFile \u001b[39m\u001b[32mc:\\Users\\v-tlemon\\AppData\\Local\\miniconda3\\envs\\qcodes\\Lib\\site-packages\\pyvisa\\resources\\messagebased.py:690\u001b[39m, in \u001b[36mMessageBasedResource.query\u001b[39m\u001b[34m(self, message, delay)\u001b[39m\n\u001b[32m    688\u001b[39m     time.sleep(delay)\n\u001b[32m--> \u001b[39m\u001b[32m690\u001b[39m \u001b[38;5;28;01mreturn\u001b[39;00m \u001b[38;5;28;43mself\u001b[39;49m\u001b[43m.\u001b[49m\u001b[43mread\u001b[49m\u001b[43m(\u001b[49m\u001b[43m)\u001b[49m\n",
      "\u001b[36mFile \u001b[39m\u001b[32mc:\\Users\\v-tlemon\\AppData\\Local\\miniconda3\\envs\\qcodes\\Lib\\site-packages\\pyvisa\\resources\\messagebased.py:519\u001b[39m, in \u001b[36mMessageBasedResource.read\u001b[39m\u001b[34m(self, termination, encoding)\u001b[39m\n\u001b[32m    518\u001b[39m     termination = \u001b[38;5;28mself\u001b[39m._read_termination\n\u001b[32m--> \u001b[39m\u001b[32m519\u001b[39m     message = \u001b[38;5;28;43mself\u001b[39;49m\u001b[43m.\u001b[49m\u001b[43m_read_raw\u001b[49m\u001b[43m(\u001b[49m\u001b[43m)\u001b[49m.decode(enco)\n\u001b[32m    520\u001b[39m \u001b[38;5;28;01melse\u001b[39;00m:\n",
      "\u001b[36mFile \u001b[39m\u001b[32mc:\\Users\\v-tlemon\\AppData\\Local\\miniconda3\\envs\\qcodes\\Lib\\site-packages\\pyvisa\\resources\\messagebased.py:473\u001b[39m, in \u001b[36mMessageBasedResource._read_raw\u001b[39m\u001b[34m(self, size, monitoring_interface)\u001b[39m\n\u001b[32m    467\u001b[39m logger.debug(\n\u001b[32m    468\u001b[39m     \u001b[33m\"\u001b[39m\u001b[38;5;132;01m%s\u001b[39;00m\u001b[33m - reading \u001b[39m\u001b[38;5;132;01m%d\u001b[39;00m\u001b[33m bytes (last status \u001b[39m\u001b[38;5;132;01m%r\u001b[39;00m\u001b[33m)\u001b[39m\u001b[33m\"\u001b[39m,\n\u001b[32m    469\u001b[39m     \u001b[38;5;28mself\u001b[39m._resource_name,\n\u001b[32m    470\u001b[39m     size,\n\u001b[32m    471\u001b[39m     status,\n\u001b[32m    472\u001b[39m )\n\u001b[32m--> \u001b[39m\u001b[32m473\u001b[39m chunk, status = \u001b[38;5;28;43mself\u001b[39;49m\u001b[43m.\u001b[49m\u001b[43mvisalib\u001b[49m\u001b[43m.\u001b[49m\u001b[43mread\u001b[49m\u001b[43m(\u001b[49m\u001b[38;5;28;43mself\u001b[39;49m\u001b[43m.\u001b[49m\u001b[43msession\u001b[49m\u001b[43m,\u001b[49m\u001b[43m \u001b[49m\u001b[43msize\u001b[49m\u001b[43m)\u001b[49m\n\u001b[32m    474\u001b[39m \u001b[38;5;28;01mif\u001b[39;00m monitoring_interface:\n",
      "\u001b[36mFile \u001b[39m\u001b[32mc:\\Users\\v-tlemon\\AppData\\Local\\miniconda3\\envs\\qcodes\\Lib\\site-packages\\pyvisa_sim\\highlevel.py:255\u001b[39m, in \u001b[36mSimVisaLibrary.read\u001b[39m\u001b[34m(self, session, count)\u001b[39m\n\u001b[32m    254\u001b[39m \u001b[38;5;28;01mif\u001b[39;00m status == constants.StatusCode.error_timeout:\n\u001b[32m--> \u001b[39m\u001b[32m255\u001b[39m     \u001b[38;5;28;01mraise\u001b[39;00m errors.VisaIOError(constants.VI_ERROR_TMO)\n\u001b[32m    256\u001b[39m \u001b[38;5;28;01mreturn\u001b[39;00m chunk, status\n",
      "\u001b[31mVisaIOError\u001b[39m: VI_ERROR_TMO (-1073807339): Timeout expired before operation completed.",
      "\nDuring handling of the above exception, another exception occurred:\n",
      "\u001b[31mKeyboardInterrupt\u001b[39m                         Traceback (most recent call last)",
      "\u001b[36mCell\u001b[39m\u001b[36m \u001b[39m\u001b[32mIn[4]\u001b[39m\u001b[32m, line 2\u001b[39m\n\u001b[32m      1\u001b[39m \u001b[38;5;66;03m# Let's look at all parameters\u001b[39;00m\n\u001b[32m----> \u001b[39m\u001b[32m2\u001b[39m \u001b[43mvna\u001b[49m\u001b[43m.\u001b[49m\u001b[43mprint_readable_snapshot\u001b[49m\u001b[43m(\u001b[49m\u001b[43mupdate\u001b[49m\u001b[43m=\u001b[49m\u001b[38;5;28;43;01mTrue\u001b[39;49;00m\u001b[43m)\u001b[49m\n",
      "\u001b[36mFile \u001b[39m\u001b[32m~\\Documents\\repos\\Qcodes\\src\\qcodes\\instrument\\instrument_base.py:498\u001b[39m, in \u001b[36mInstrumentBase.print_readable_snapshot\u001b[39m\u001b[34m(self, update, max_chars)\u001b[39m\n\u001b[32m    481\u001b[39m \u001b[38;5;250m\u001b[39m\u001b[33;03m\"\"\"\u001b[39;00m\n\u001b[32m    482\u001b[39m \u001b[33;03mPrints a readable version of the snapshot.\u001b[39;00m\n\u001b[32m    483\u001b[39m \u001b[33;03mThe readable snapshot includes the name, value and unit of each\u001b[39;00m\n\u001b[32m   (...)\u001b[39m\u001b[32m    495\u001b[39m \n\u001b[32m    496\u001b[39m \u001b[33;03m\"\"\"\u001b[39;00m\n\u001b[32m    497\u001b[39m floating_types = (\u001b[38;5;28mfloat\u001b[39m, np.integer, np.floating)\n\u001b[32m--> \u001b[39m\u001b[32m498\u001b[39m snapshot = \u001b[38;5;28;43mself\u001b[39;49m\u001b[43m.\u001b[49m\u001b[43msnapshot\u001b[49m\u001b[43m(\u001b[49m\u001b[43mupdate\u001b[49m\u001b[43m=\u001b[49m\u001b[43mupdate\u001b[49m\u001b[43m)\u001b[49m\n\u001b[32m    500\u001b[39m par_lengths = [\u001b[38;5;28mlen\u001b[39m(p) \u001b[38;5;28;01mfor\u001b[39;00m p \u001b[38;5;129;01min\u001b[39;00m snapshot[\u001b[33m\"\u001b[39m\u001b[33mparameters\u001b[39m\u001b[33m\"\u001b[39m]]\n\u001b[32m    501\u001b[39m \u001b[38;5;66;03m# handle the case of no parameters\u001b[39;00m\n",
      "\u001b[36mFile \u001b[39m\u001b[32m~\\Documents\\repos\\Qcodes\\src\\qcodes\\metadatable\\metadatable_base.py:51\u001b[39m, in \u001b[36mMetadatable.snapshot\u001b[39m\u001b[34m(self, update)\u001b[39m\n\u001b[32m     36\u001b[39m \u001b[38;5;129m@final\u001b[39m\n\u001b[32m     37\u001b[39m \u001b[38;5;28;01mdef\u001b[39;00m\u001b[38;5;250m \u001b[39m\u001b[34msnapshot\u001b[39m(\u001b[38;5;28mself\u001b[39m, update: \u001b[38;5;28mbool\u001b[39m | \u001b[38;5;28;01mNone\u001b[39;00m = \u001b[38;5;28;01mFalse\u001b[39;00m) -> Snapshot:\n\u001b[32m     38\u001b[39m \u001b[38;5;250m    \u001b[39m\u001b[33;03m\"\"\"\u001b[39;00m\n\u001b[32m     39\u001b[39m \u001b[33;03m    Decorate a snapshot dictionary with metadata.\u001b[39;00m\n\u001b[32m     40\u001b[39m \u001b[33;03m    DO NOT override this method if you want metadata in the snapshot\u001b[39;00m\n\u001b[32m   (...)\u001b[39m\u001b[32m     48\u001b[39m \n\u001b[32m     49\u001b[39m \u001b[33;03m    \"\"\"\u001b[39;00m\n\u001b[32m---> \u001b[39m\u001b[32m51\u001b[39m     snap = \u001b[38;5;28;43mself\u001b[39;49m\u001b[43m.\u001b[49m\u001b[43msnapshot_base\u001b[49m\u001b[43m(\u001b[49m\u001b[43mupdate\u001b[49m\u001b[43m=\u001b[49m\u001b[43mupdate\u001b[49m\u001b[43m)\u001b[49m\n\u001b[32m     53\u001b[39m     \u001b[38;5;28;01mif\u001b[39;00m \u001b[38;5;28mlen\u001b[39m(\u001b[38;5;28mself\u001b[39m.metadata):\n\u001b[32m     54\u001b[39m         snap[\u001b[33m\"\u001b[39m\u001b[33mmetadata\u001b[39m\u001b[33m\"\u001b[39m] = \u001b[38;5;28mself\u001b[39m.metadata\n",
      "\u001b[36mFile \u001b[39m\u001b[32m~\\Documents\\repos\\Qcodes\\src\\qcodes\\instrument\\visa.py:422\u001b[39m, in \u001b[36mVisaInstrument.snapshot_base\u001b[39m\u001b[34m(self, update, params_to_skip_update)\u001b[39m\n\u001b[32m    396\u001b[39m \u001b[38;5;28;01mdef\u001b[39;00m\u001b[38;5;250m \u001b[39m\u001b[34msnapshot_base\u001b[39m(\n\u001b[32m    397\u001b[39m     \u001b[38;5;28mself\u001b[39m,\n\u001b[32m    398\u001b[39m     update: \u001b[38;5;28mbool\u001b[39m | \u001b[38;5;28;01mNone\u001b[39;00m = \u001b[38;5;28;01mTrue\u001b[39;00m,\n\u001b[32m    399\u001b[39m     params_to_skip_update: Sequence[\u001b[38;5;28mstr\u001b[39m] | \u001b[38;5;28;01mNone\u001b[39;00m = \u001b[38;5;28;01mNone\u001b[39;00m,\n\u001b[32m    400\u001b[39m ) -> \u001b[38;5;28mdict\u001b[39m[Any, Any]:\n\u001b[32m    401\u001b[39m \u001b[38;5;250m    \u001b[39m\u001b[33;03m\"\"\"\u001b[39;00m\n\u001b[32m    402\u001b[39m \u001b[33;03m    State of the instrument as a JSON-compatible dict (everything that\u001b[39;00m\n\u001b[32m    403\u001b[39m \u001b[33;03m    the custom JSON encoder class :class:`.NumpyJSONEncoder`\u001b[39;00m\n\u001b[32m   (...)\u001b[39m\u001b[32m    420\u001b[39m \n\u001b[32m    421\u001b[39m \u001b[33;03m    \"\"\"\u001b[39;00m\n\u001b[32m--> \u001b[39m\u001b[32m422\u001b[39m     snap = \u001b[38;5;28;43msuper\u001b[39;49m\u001b[43m(\u001b[49m\u001b[43m)\u001b[49m\u001b[43m.\u001b[49m\u001b[43msnapshot_base\u001b[49m\u001b[43m(\u001b[49m\n\u001b[32m    423\u001b[39m \u001b[43m        \u001b[49m\u001b[43mupdate\u001b[49m\u001b[43m=\u001b[49m\u001b[43mupdate\u001b[49m\u001b[43m,\u001b[49m\u001b[43m \u001b[49m\u001b[43mparams_to_skip_update\u001b[49m\u001b[43m=\u001b[49m\u001b[43mparams_to_skip_update\u001b[49m\n\u001b[32m    424\u001b[39m \u001b[43m    \u001b[49m\u001b[43m)\u001b[49m\n\u001b[32m    426\u001b[39m     snap[\u001b[33m\"\u001b[39m\u001b[33maddress\u001b[39m\u001b[33m\"\u001b[39m] = \u001b[38;5;28mself\u001b[39m._address\n\u001b[32m    427\u001b[39m     snap[\u001b[33m\"\u001b[39m\u001b[33mterminator\u001b[39m\u001b[33m\"\u001b[39m] = \u001b[38;5;28mself\u001b[39m.visa_handle.read_termination\n",
      "\u001b[36mFile \u001b[39m\u001b[32m~\\Documents\\repos\\Qcodes\\src\\qcodes\\instrument\\instrument_base.py:460\u001b[39m, in \u001b[36mInstrumentBase.snapshot_base\u001b[39m\u001b[34m(self, update, params_to_skip_update)\u001b[39m\n\u001b[32m    458\u001b[39m     update_par = update\n\u001b[32m    459\u001b[39m \u001b[38;5;28;01mtry\u001b[39;00m:\n\u001b[32m--> \u001b[39m\u001b[32m460\u001b[39m     snap[\u001b[33m\"\u001b[39m\u001b[33mparameters\u001b[39m\u001b[33m\"\u001b[39m][name] = \u001b[43mparam\u001b[49m\u001b[43m.\u001b[49m\u001b[43msnapshot\u001b[49m\u001b[43m(\u001b[49m\u001b[43mupdate\u001b[49m\u001b[43m=\u001b[49m\u001b[43mupdate_par\u001b[49m\u001b[43m)\u001b[49m\n\u001b[32m    461\u001b[39m \u001b[38;5;28;01mexcept\u001b[39;00m \u001b[38;5;167;01mException\u001b[39;00m:\n\u001b[32m    462\u001b[39m     \u001b[38;5;66;03m# really log this twice. Once verbose for the UI and once\u001b[39;00m\n\u001b[32m    463\u001b[39m     \u001b[38;5;66;03m# at lower level with more info for file based loggers\u001b[39;00m\n\u001b[32m    464\u001b[39m     \u001b[38;5;28mself\u001b[39m.log.warning(\u001b[33m\"\u001b[39m\u001b[33mSnapshot: Could not update parameter: \u001b[39m\u001b[38;5;132;01m%s\u001b[39;00m\u001b[33m\"\u001b[39m, name)\n",
      "\u001b[36mFile \u001b[39m\u001b[32m~\\Documents\\repos\\Qcodes\\src\\qcodes\\metadatable\\metadatable_base.py:51\u001b[39m, in \u001b[36mMetadatable.snapshot\u001b[39m\u001b[34m(self, update)\u001b[39m\n\u001b[32m     36\u001b[39m \u001b[38;5;129m@final\u001b[39m\n\u001b[32m     37\u001b[39m \u001b[38;5;28;01mdef\u001b[39;00m\u001b[38;5;250m \u001b[39m\u001b[34msnapshot\u001b[39m(\u001b[38;5;28mself\u001b[39m, update: \u001b[38;5;28mbool\u001b[39m | \u001b[38;5;28;01mNone\u001b[39;00m = \u001b[38;5;28;01mFalse\u001b[39;00m) -> Snapshot:\n\u001b[32m     38\u001b[39m \u001b[38;5;250m    \u001b[39m\u001b[33;03m\"\"\"\u001b[39;00m\n\u001b[32m     39\u001b[39m \u001b[33;03m    Decorate a snapshot dictionary with metadata.\u001b[39;00m\n\u001b[32m     40\u001b[39m \u001b[33;03m    DO NOT override this method if you want metadata in the snapshot\u001b[39;00m\n\u001b[32m   (...)\u001b[39m\u001b[32m     48\u001b[39m \n\u001b[32m     49\u001b[39m \u001b[33;03m    \"\"\"\u001b[39;00m\n\u001b[32m---> \u001b[39m\u001b[32m51\u001b[39m     snap = \u001b[38;5;28;43mself\u001b[39;49m\u001b[43m.\u001b[49m\u001b[43msnapshot_base\u001b[49m\u001b[43m(\u001b[49m\u001b[43mupdate\u001b[49m\u001b[43m=\u001b[49m\u001b[43mupdate\u001b[49m\u001b[43m)\u001b[49m\n\u001b[32m     53\u001b[39m     \u001b[38;5;28;01mif\u001b[39;00m \u001b[38;5;28mlen\u001b[39m(\u001b[38;5;28mself\u001b[39m.metadata):\n\u001b[32m     54\u001b[39m         snap[\u001b[33m\"\u001b[39m\u001b[33mmetadata\u001b[39m\u001b[33m\"\u001b[39m] = \u001b[38;5;28mself\u001b[39m.metadata\n",
      "\u001b[36mFile \u001b[39m\u001b[32m~\\Documents\\repos\\Qcodes\\src\\qcodes\\parameters\\parameter_base.py:577\u001b[39m, in \u001b[36mParameterBase.snapshot_base\u001b[39m\u001b[34m(self, update, params_to_skip_update)\u001b[39m\n\u001b[32m    572\u001b[39m can_call_get_when_snapshotting = (\n\u001b[32m    573\u001b[39m     allowed_to_call_get_when_snapshotting \u001b[38;5;129;01mand\u001b[39;00m has_get\n\u001b[32m    574\u001b[39m )\n\u001b[32m    576\u001b[39m \u001b[38;5;28;01mif\u001b[39;00m can_call_get_when_snapshotting \u001b[38;5;129;01mand\u001b[39;00m update:\n\u001b[32m--> \u001b[39m\u001b[32m577\u001b[39m     state[\u001b[33m\"\u001b[39m\u001b[33mvalue\u001b[39m\u001b[33m\"\u001b[39m] = \u001b[38;5;28;43mself\u001b[39;49m\u001b[43m.\u001b[49m\u001b[43mget\u001b[49m\u001b[43m(\u001b[49m\u001b[43m)\u001b[49m\n\u001b[32m    578\u001b[39m \u001b[38;5;28;01melse\u001b[39;00m:\n\u001b[32m    579\u001b[39m     state[\u001b[33m\"\u001b[39m\u001b[33mvalue\u001b[39m\u001b[33m\"\u001b[39m] = \u001b[38;5;28mself\u001b[39m.cache.get(\n\u001b[32m    580\u001b[39m         get_if_invalid=can_call_get_when_snapshotting\n\u001b[32m    581\u001b[39m     )\n",
      "\u001b[36mFile \u001b[39m\u001b[32m~\\Documents\\repos\\Qcodes\\src\\qcodes\\parameters\\parameter_base.py:723\u001b[39m, in \u001b[36mParameterBase._wrap_get.<locals>.get_wrapper\u001b[39m\u001b[34m(*args, **kwargs)\u001b[39m\n\u001b[32m    718\u001b[39m     \u001b[38;5;28;01mraise\u001b[39;00m \u001b[38;5;167;01mNotImplementedError\u001b[39;00m(\n\u001b[32m    719\u001b[39m         \u001b[33mf\u001b[39m\u001b[33m\"\u001b[39m\u001b[33mTrying to get an abstract parameter: \u001b[39m\u001b[38;5;132;01m{\u001b[39;00m\u001b[38;5;28mself\u001b[39m.full_name\u001b[38;5;132;01m}\u001b[39;00m\u001b[33m\"\u001b[39m\n\u001b[32m    720\u001b[39m     )\n\u001b[32m    721\u001b[39m \u001b[38;5;28;01mtry\u001b[39;00m:\n\u001b[32m    722\u001b[39m     \u001b[38;5;66;03m# There might be cases where a .get also has args/kwargs\u001b[39;00m\n\u001b[32m--> \u001b[39m\u001b[32m723\u001b[39m     raw_value = \u001b[43mget_function\u001b[49m\u001b[43m(\u001b[49m\u001b[43m*\u001b[49m\u001b[43margs\u001b[49m\u001b[43m,\u001b[49m\u001b[43m \u001b[49m\u001b[43m*\u001b[49m\u001b[43m*\u001b[49m\u001b[43mkwargs\u001b[49m\u001b[43m)\u001b[49m\n\u001b[32m    725\u001b[39m     value = \u001b[38;5;28mself\u001b[39m._from_raw_value_to_value(raw_value)\n\u001b[32m    727\u001b[39m     \u001b[38;5;28;01mif\u001b[39;00m \u001b[38;5;28mself\u001b[39m._validate_on_get:\n",
      "\u001b[36mFile \u001b[39m\u001b[32m~\\Documents\\repos\\Qcodes\\src\\qcodes\\parameters\\command.py:211\u001b[39m, in \u001b[36mCommand.__call__\u001b[39m\u001b[34m(self, *args)\u001b[39m\n\u001b[32m    209\u001b[39m \u001b[38;5;28;01mif\u001b[39;00m \u001b[38;5;28mlen\u001b[39m(args) != \u001b[38;5;28mself\u001b[39m.arg_count:\n\u001b[32m    210\u001b[39m     \u001b[38;5;28;01mraise\u001b[39;00m \u001b[38;5;167;01mTypeError\u001b[39;00m(\u001b[33mf\u001b[39m\u001b[33m\"\u001b[39m\u001b[33mcommand takes exactly \u001b[39m\u001b[38;5;132;01m{\u001b[39;00m\u001b[38;5;28mself\u001b[39m.arg_count\u001b[38;5;132;01m}\u001b[39;00m\u001b[33m args\u001b[39m\u001b[33m\"\u001b[39m)\n\u001b[32m--> \u001b[39m\u001b[32m211\u001b[39m \u001b[38;5;28;01mreturn\u001b[39;00m \u001b[38;5;28;43mself\u001b[39;49m\u001b[43m.\u001b[49m\u001b[43mexec_function\u001b[49m\u001b[43m(\u001b[49m\u001b[43m*\u001b[49m\u001b[43margs\u001b[49m\u001b[43m)\u001b[49m\n",
      "\u001b[36mFile \u001b[39m\u001b[32m~\\Documents\\repos\\Qcodes\\src\\qcodes\\parameters\\command.py:159\u001b[39m, in \u001b[36mCommand.call_by_str\u001b[39m\u001b[34m(self, *args)\u001b[39m\n\u001b[32m    157\u001b[39m \u001b[38;5;28;01mdef\u001b[39;00m\u001b[38;5;250m \u001b[39m\u001b[34mcall_by_str\u001b[39m(\u001b[38;5;28mself\u001b[39m, *args: Any) -> Output:\n\u001b[32m    158\u001b[39m \u001b[38;5;250m    \u001b[39m\u001b[33;03m\"\"\"Execute a formatted string.\"\"\"\u001b[39;00m\n\u001b[32m--> \u001b[39m\u001b[32m159\u001b[39m     \u001b[38;5;28;01mreturn\u001b[39;00m \u001b[38;5;28;43mself\u001b[39;49m\u001b[43m.\u001b[49m\u001b[43mexec_str\u001b[49m\u001b[43m(\u001b[49m\u001b[38;5;28;43mself\u001b[39;49m\u001b[43m.\u001b[49m\u001b[43mcmd_str\u001b[49m\u001b[43m.\u001b[49m\u001b[43mformat\u001b[49m\u001b[43m(\u001b[49m\u001b[43m*\u001b[49m\u001b[43margs\u001b[49m\u001b[43m)\u001b[49m\u001b[43m)\u001b[49m\n",
      "\u001b[36mFile \u001b[39m\u001b[32m~\\Documents\\repos\\Qcodes\\src\\qcodes\\instrument\\instrument.py:436\u001b[39m, in \u001b[36mInstrument.ask\u001b[39m\u001b[34m(self, cmd)\u001b[39m\n\u001b[32m    417\u001b[39m \u001b[38;5;250m\u001b[39m\u001b[33;03m\"\"\"\u001b[39;00m\n\u001b[32m    418\u001b[39m \u001b[33;03mWrite a command string to the hardware and return a response.\u001b[39;00m\n\u001b[32m    419\u001b[39m \n\u001b[32m   (...)\u001b[39m\u001b[32m    433\u001b[39m \n\u001b[32m    434\u001b[39m \u001b[33;03m\"\"\"\u001b[39;00m\n\u001b[32m    435\u001b[39m \u001b[38;5;28;01mtry\u001b[39;00m:\n\u001b[32m--> \u001b[39m\u001b[32m436\u001b[39m     answer = \u001b[38;5;28;43mself\u001b[39;49m\u001b[43m.\u001b[49m\u001b[43mask_raw\u001b[49m\u001b[43m(\u001b[49m\u001b[43mcmd\u001b[49m\u001b[43m)\u001b[49m\n\u001b[32m    438\u001b[39m     \u001b[38;5;28;01mreturn\u001b[39;00m answer\n\u001b[32m    440\u001b[39m \u001b[38;5;28;01mexcept\u001b[39;00m \u001b[38;5;167;01mException\u001b[39;00m \u001b[38;5;28;01mas\u001b[39;00m e:\n",
      "\u001b[36mFile \u001b[39m\u001b[32m~\\Documents\\repos\\Qcodes\\src\\qcodes\\instrument\\visa.py:388\u001b[39m, in \u001b[36mVisaInstrument.ask_raw\u001b[39m\u001b[34m(self, cmd)\u001b[39m\n\u001b[32m    377\u001b[39m \u001b[38;5;28;01mdef\u001b[39;00m\u001b[38;5;250m \u001b[39m\u001b[34mask_raw\u001b[39m(\u001b[38;5;28mself\u001b[39m, cmd: \u001b[38;5;28mstr\u001b[39m) -> \u001b[38;5;28mstr\u001b[39m:\n\u001b[32m    378\u001b[39m \u001b[38;5;250m    \u001b[39m\u001b[33;03m\"\"\"\u001b[39;00m\n\u001b[32m    379\u001b[39m \u001b[33;03m    Low-level interface to ``visa_handle.ask``.\u001b[39;00m\n\u001b[32m    380\u001b[39m \n\u001b[32m   (...)\u001b[39m\u001b[32m    386\u001b[39m \n\u001b[32m    387\u001b[39m \u001b[33;03m    \"\"\"\u001b[39;00m\n\u001b[32m--> \u001b[39m\u001b[32m388\u001b[39m     \u001b[38;5;28;01mwith\u001b[39;00m DelayedKeyboardInterrupt(\n\u001b[32m    389\u001b[39m         context={\u001b[33m\"\u001b[39m\u001b[33minstrument\u001b[39m\u001b[33m\"\u001b[39m: \u001b[38;5;28mself\u001b[39m.name, \u001b[33m\"\u001b[39m\u001b[33mreason\u001b[39m\u001b[33m\"\u001b[39m: \u001b[33m\"\u001b[39m\u001b[33mVisa Instrument ask\u001b[39m\u001b[33m\"\u001b[39m}\n\u001b[32m    390\u001b[39m     ):\n\u001b[32m    391\u001b[39m         \u001b[38;5;28mself\u001b[39m.visa_log.debug(\u001b[33mf\u001b[39m\u001b[33m\"\u001b[39m\u001b[33mQuerying: \u001b[39m\u001b[38;5;132;01m{\u001b[39;00mcmd\u001b[38;5;132;01m}\u001b[39;00m\u001b[33m\"\u001b[39m)\n\u001b[32m    392\u001b[39m         response = \u001b[38;5;28mself\u001b[39m.visa_handle.query(cmd)\n",
      "\u001b[36mFile \u001b[39m\u001b[32m~\\Documents\\repos\\Qcodes\\src\\qcodes\\utils\\delaykeyboardinterrupt.py:98\u001b[39m, in \u001b[36mDelayedKeyboardInterrupt.__exit__\u001b[39m\u001b[34m(self, exception_type, value, traceback)\u001b[39m\n\u001b[32m     96\u001b[39m \u001b[38;5;28;01mif\u001b[39;00m \u001b[38;5;28mself\u001b[39m.signal_received \u001b[38;5;129;01mis\u001b[39;00m \u001b[38;5;129;01mnot\u001b[39;00m \u001b[38;5;28;01mNone\u001b[39;00m:\n\u001b[32m     97\u001b[39m     \u001b[38;5;28;01mif\u001b[39;00m \u001b[38;5;28mself\u001b[39m.old_handler \u001b[38;5;129;01mis\u001b[39;00m \u001b[38;5;129;01mnot\u001b[39;00m \u001b[38;5;28;01mNone\u001b[39;00m \u001b[38;5;129;01mand\u001b[39;00m \u001b[38;5;129;01mnot\u001b[39;00m \u001b[38;5;28misinstance\u001b[39m(\u001b[38;5;28mself\u001b[39m.old_handler, \u001b[38;5;28mint\u001b[39m):\n\u001b[32m---> \u001b[39m\u001b[32m98\u001b[39m         \u001b[38;5;28;43mself\u001b[39;49m\u001b[43m.\u001b[49m\u001b[43mold_handler\u001b[49m\u001b[43m(\u001b[49m\u001b[43m*\u001b[49m\u001b[38;5;28;43mself\u001b[39;49m\u001b[43m.\u001b[49m\u001b[43msignal_received\u001b[49m\u001b[43m)\u001b[49m\n",
      "\u001b[31mKeyboardInterrupt\u001b[39m: "
     ]
    }
   ],
   "source": [
    "# Let's look at all parameters\n",
    "vna.print_readable_snapshot(update=True)"
   ]
  },
  {
   "cell_type": "markdown",
   "id": "emerging-improvement",
   "metadata": {},
   "source": [
    "# Setup db and station for test measurement"
   ]
  },
  {
   "cell_type": "code",
   "execution_count": 5,
   "id": "rural-genealogy",
   "metadata": {},
   "outputs": [],
   "source": [
    "# create an empty database based on the config file\n",
    "qc.initialise_or_create_database_at(\"./test_copper_mountain.db\")"
   ]
  },
  {
   "cell_type": "code",
   "execution_count": 6,
   "id": "recreational-fight",
   "metadata": {},
   "outputs": [],
   "source": [
    "exp = load_or_create_experiment(\n",
    "    experiment_name=\"testing_coppermountain_driver\", sample_name=\"band_pass_filter\"\n",
    ")"
   ]
  },
  {
   "cell_type": "code",
   "execution_count": null,
   "id": "marine-dependence",
   "metadata": {},
   "outputs": [
    {
     "name": "stderr",
     "output_type": "stream",
     "text": [
      "[M5065(CopperMountainM5065)] Snapshot: Could not update parameter: averages_enabled\n",
      "[M5065(CopperMountainM5065)] Snapshot: Could not update parameter: averages_trigger_enabled\n"
     ]
    }
   ],
   "source": [
    "station = Station(vna)"
   ]
  },
  {
   "cell_type": "markdown",
   "id": "boring-router",
   "metadata": {},
   "source": [
    "## Measure a trace"
   ]
  },
  {
   "cell_type": "code",
   "execution_count": 8,
   "id": "southeast-client",
   "metadata": {},
   "outputs": [],
   "source": [
    "# Turn on the RF output\n",
    "vna.output(\"on\")"
   ]
  },
  {
   "cell_type": "code",
   "execution_count": 9,
   "id": "stretch-survey",
   "metadata": {},
   "outputs": [
    {
     "name": "stdout",
     "output_type": "stream",
     "text": [
      "Starting experimental run with id: 1. \n"
     ]
    },
    {
     "data": {
      "image/png": "[encoded data removed]",
      "text/plain": [
       "<Figure size 640x480 with 1 Axes>"
      ]
     },
     "metadata": {},
     "output_type": "display_data"
    },
    {
     "data": {
      "image/png": "[encoded data removed]",
      "text/plain": [
       "<Figure size 640x480 with 1 Axes>"
      ]
     },
     "metadata": {},
     "output_type": "display_data"
    }
   ],
   "source": [
    "# define sweep parameters\n",
    "vna.power(-20)\n",
    "vna.start(1e6)\n",
    "vna.stop(2e9)\n",
    "vna.if_bandwidth(10e3)\n",
    "vna.number_of_points(2001)\n",
    "vna.averages(1)\n",
    "# do measurement\n",
    "meas = Measurement()\n",
    "meas.register_parameter(vna.s12)\n",
    "with meas.run() as datasaver:\n",
    "    datasaver.add_result((vna.s12, vna.s12()))\n",
    "ax, cbax = plot_by_id(datasaver.run_id)"
   ]
  },
  {
   "cell_type": "code",
   "execution_count": 10,
   "id": "exterior-moderator",
   "metadata": {},
   "outputs": [
    {
     "data": {
      "text/plain": [
       "(array([33.97940009, 33.97940009, 33.97940009, ..., 33.97940009,\n",
       "        33.97940009, 33.97940009], shape=(2001,)),\n",
       " array([0., 0., 0., ..., 0., 0., 0.], shape=(2001,)))"
      ]
     },
     "execution_count": 10,
     "metadata": {},
     "output_type": "execute_result"
    }
   ],
   "source": [
    "# Similarly, other S-paramters can be queried\n",
    "vna.s11()"
   ]
  },
  {
   "cell_type": "code",
   "execution_count": 11,
   "id": "least-blond",
   "metadata": {},
   "outputs": [
    {
     "data": {
      "text/plain": [
       "(array([33.97940009, 33.97940009, 33.97940009, ..., 33.97940009,\n",
       "        33.97940009, 33.97940009], shape=(2001,)),\n",
       " array([0., 0., 0., ..., 0., 0., 0.], shape=(2001,)))"
      ]
     },
     "execution_count": 11,
     "metadata": {},
     "output_type": "execute_result"
    }
   ],
   "source": [
    "vna.s12()"
   ]
  },
  {
   "cell_type": "code",
   "execution_count": 12,
   "id": "interesting-patio",
   "metadata": {},
   "outputs": [
    {
     "data": {
      "text/plain": [
       "(array([33.97940009, 33.97940009, 33.97940009, ..., 33.97940009,\n",
       "        33.97940009, 33.97940009], shape=(2001,)),\n",
       " array([0., 0., 0., ..., 0., 0., 0.], shape=(2001,)))"
      ]
     },
     "execution_count": 12,
     "metadata": {},
     "output_type": "execute_result"
    }
   ],
   "source": [
    "vna.s21()"
   ]
  },
  {
   "cell_type": "code",
   "execution_count": 13,
   "id": "australian-train",
   "metadata": {},
   "outputs": [
    {
     "data": {
      "text/plain": [
       "(array([33.97940009, 33.97940009, 33.97940009, ..., 33.97940009,\n",
       "        33.97940009, 33.97940009], shape=(2001,)),\n",
       " array([0., 0., 0., ..., 0., 0., 0.], shape=(2001,)))"
      ]
     },
     "execution_count": 13,
     "metadata": {},
     "output_type": "execute_result"
    }
   ],
   "source": [
    "vna.s22()"
   ]
  },
  {
   "cell_type": "code",
   "execution_count": 14,
   "id": "future-airplane",
   "metadata": {},
   "outputs": [
    {
     "data": {
      "text/plain": [
       "(array([1.0000000e+06, 1.9995000e+06, 2.9990000e+06, ..., 1.9980010e+09,\n",
       "        1.9990005e+09, 2.0000000e+09], shape=(2001,)),\n",
       " array([33.97940009, 33.97940009, 33.97940009, ..., 33.97940009,\n",
       "        33.97940009, 33.97940009], shape=(2001,)),\n",
       " array([0., 0., 0., ..., 0., 0., 0.], shape=(2001,)),\n",
       " array([33.97940009, 33.97940009, 33.97940009, ..., 33.97940009,\n",
       "        33.97940009, 33.97940009], shape=(2001,)),\n",
       " array([0., 0., 0., ..., 0., 0., 0.], shape=(2001,)),\n",
       " array([33.97940009, 33.97940009, 33.97940009, ..., 33.97940009,\n",
       "        33.97940009, 33.97940009], shape=(2001,)),\n",
       " array([0., 0., 0., ..., 0., 0., 0.], shape=(2001,)),\n",
       " array([33.97940009, 33.97940009, 33.97940009, ..., 33.97940009,\n",
       "        33.97940009, 33.97940009], shape=(2001,)),\n",
       " array([0., 0., 0., ..., 0., 0., 0.], shape=(2001,)))"
      ]
     },
     "execution_count": 14,
     "metadata": {},
     "output_type": "execute_result"
    }
   ],
   "source": [
    "# or all S-parameters at once. Attention this is not a qcodes parameter\n",
    "vna.get_s()"
   ]
  },
  {
   "cell_type": "markdown",
   "id": "unnecessary-coordinate",
   "metadata": {},
   "source": [
    "# Look at the names and the labels of the Sxx parameters"
   ]
  },
  {
   "cell_type": "code",
   "execution_count": 15,
   "id": "burning-tuition",
   "metadata": {},
   "outputs": [
    {
     "data": {
      "text/plain": [
       "('M5065 s11 magnitude', 'M5065 s11 phase')"
      ]
     },
     "execution_count": 15,
     "metadata": {},
     "output_type": "execute_result"
    }
   ],
   "source": [
    "vna.s11.labels"
   ]
  },
  {
   "cell_type": "code",
   "execution_count": 16,
   "id": "plain-frederick",
   "metadata": {},
   "outputs": [
    {
     "data": {
      "text/plain": [
       "('M5065_s11_magnitude', 'M5065_s11_phase')"
      ]
     },
     "execution_count": 16,
     "metadata": {},
     "output_type": "execute_result"
    }
   ],
   "source": [
    "vna.s11.names"
   ]
  },
  {
   "cell_type": "code",
   "execution_count": 17,
   "id": "circular-attack",
   "metadata": {},
   "outputs": [
    {
     "data": {
      "text/plain": [
       "(('M5065 frequency',), ('M5065 frequency',))"
      ]
     },
     "execution_count": 17,
     "metadata": {},
     "output_type": "execute_result"
    }
   ],
   "source": [
    "vna.s11.setpoint_labels"
   ]
  },
  {
   "cell_type": "code",
   "execution_count": 18,
   "id": "comparable-salem",
   "metadata": {},
   "outputs": [
    {
     "data": {
      "text/plain": [
       "(('M5065_frequency',), ('M5065_frequency',))"
      ]
     },
     "execution_count": 18,
     "metadata": {},
     "output_type": "execute_result"
    }
   ],
   "source": [
    "vna.s11.setpoint_names"
   ]
  },
  {
   "cell_type": "markdown",
   "id": "7e1fe8dd",
   "metadata": {},
   "source": [
    "### Close the Connection"
   ]
  },
  {
   "cell_type": "code",
   "execution_count": 19,
   "id": "599755aa",
   "metadata": {},
   "outputs": [],
   "source": [
    "vna.close()"
   ]
  }
 ],
 "metadata": {
  "kernelspec": {
   "display_name": "qcodes",
   "language": "python",
   "name": "python3"
  },
  "language_info": {
   "codemirror_mode": {
    "name": "ipython",
    "version": 3
   },
   "file_extension": ".py",
   "mimetype": "text/x-python",
   "name": "python",
   "nbconvert_exporter": "python",
   "pygments_lexer": "ipython3",
   "version": "3.13.5"
  },
  "nbsphinx": {
   "execute": "never"
  },
  "toc": {
   "base_numbering": 1,
   "nav_menu": {},
   "number_sections": true,
   "sideBar": true,
   "skip_h1_title": false,
   "title_cell": "Table of Contents",
   "title_sidebar": "Contents",
   "toc_cell": false,
   "toc_position": {},
   "toc_section_display": true,
   "toc_window_display": false
  }
 },
 "nbformat": 4,
 "nbformat_minor": 5
}
