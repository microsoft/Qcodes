{
 "cells": [
  {
   "cell_type": "code",
   "execution_count": 1,
   "metadata": {
    "collapsed": false,
    "deletable": true,
    "editable": true,
    "scrolled": true
   },
   "outputs": [],
   "source": [
    "import time\n",
    "import logging\n",
    "import numpy as np\n",
    "import matplotlib.pyplot as plt\n",
    "plt.ion()\n",
    "\n",
    "import qcodes as qc\n",
    "from qcodes.instrument_drivers.ZI.ZIUHFLI import ZIUHFLI\n",
    "\n",
    "log = logging.getLogger(__name__)\n",
    "log.setLevel(logging.INFO)"
   ]
  },
  {
   "cell_type": "markdown",
   "metadata": {
    "deletable": true,
    "editable": true
   },
   "source": [
    "# Prerequisites\n",
    "\n",
    "It is necessary to download and install the ZI Lab One software. Additionally, both the data server and the web server must run, and a connection to the instrument must be instantiated (this can be done via the web interface)."
   ]
  },
  {
   "cell_type": "code",
   "execution_count": 2,
   "metadata": {
    "collapsed": false,
    "deletable": true,
    "editable": true,
    "scrolled": false
   },
   "outputs": [],
   "source": [
    "# Instantiate the QCoDeS instrument\n",
    "zi = ZIUHFLI('ZIUHFLI', 'dev2235')"
   ]
  },
  {
   "cell_type": "markdown",
   "metadata": {
    "deletable": true,
    "editable": true
   },
   "source": [
    "# Basic Usage of the ZI UHF-LI\n",
    "\n",
    "Most of the \"front panel\" (i.e. the Web UI) `Lock-In` and `signal input` settings are available as parameters."
   ]
  },
  {
   "cell_type": "code",
   "execution_count": null,
   "metadata": {
    "collapsed": false,
    "deletable": true,
    "editable": true
   },
   "outputs": [],
   "source": [
    "zi.oscillator1_freq.set(752.1e3)\n",
    "print('Oscillator 2 has frequency: {:.0f} Hz'.format(zi.oscillator2_freq.get()))\n",
    "zi.signal_input1_range(1)\n",
    "zi.signal_input1_scaling(1)"
   ]
  },
  {
   "cell_type": "markdown",
   "metadata": {
    "deletable": true,
    "editable": true
   },
   "source": [
    "Each demodulator has several settings..."
   ]
  },
  {
   "cell_type": "code",
   "execution_count": null,
   "metadata": {
    "collapsed": false,
    "deletable": true,
    "editable": true
   },
   "outputs": [],
   "source": [
    "print('Available demodulator settings:\\n')\n",
    "for param in [p for p in zi.parameters if 'demod1' in p]:\n",
    "    print('  {}, {} ({})'.format(param, zi.parameters[param].label, zi.parameters[param].unit))"
   ]
  },
  {
   "cell_type": "markdown",
   "metadata": {
    "deletable": true,
    "editable": true
   },
   "source": [
    "# Using the sweeper\n",
    "\n",
    "The sweeper settings are configured via a bunch of parameters, all named `sweeper_XXX`.\n",
    "This configures the x-axis of the sweep as well as the sweep acquisition settings. To learn more about what a certain parameter does, it is sometimes helpful to print its `__doc__` attribute.\n",
    "\n",
    "Which signals are **returned** by the sweeper is controlled by adding (removing) signals to (from) the sweep.\n",
    "\n",
    "The sweep settings can be displayed with the `print_sweeper_settings` command.\n",
    "\n",
    "Before the sweep can be performed, it must be built. \n",
    "This is done with the Sweep parameter, which is the parameter holding the sweep data.\n",
    "Note that building the sweep may change some of the time constants, and in particular change the sweep time. In case of doubt, re-run `print_sweeper_settings`."
   ]
  },
  {
   "cell_type": "code",
   "execution_count": null,
   "metadata": {
    "collapsed": false,
    "deletable": true,
    "editable": true
   },
   "outputs": [],
   "source": [
    "# Set up a sweep sweeping an internal oscillator frequency from 1 MHz to 5 MHz\n",
    "# We want the sweeper to sweep linearly over 200 points\n",
    "zi.sweeper_param('Osc 1 Frequency')\n",
    "zi.sweeper_xmapping('lin')\n",
    "zi.sweeper_start(1e6)\n",
    "zi.sweeper_stop(10e6)\n",
    "zi.sweeper_samplecount(100)\n",
    "zi.sweeper_BWmode('fixed')\n",
    "zi.sweeper_BW(250)\n",
    "zi.sweeper_order(4)"
   ]
  },
  {
   "cell_type": "code",
   "execution_count": null,
   "metadata": {
    "collapsed": false,
    "deletable": true,
    "editable": true
   },
   "outputs": [],
   "source": [
    "# I wonder what the sweeper BWmode does...\n",
    "print(zi.sweeper_BWmode.__doc__)"
   ]
  },
  {
   "cell_type": "code",
   "execution_count": null,
   "metadata": {
    "collapsed": true,
    "deletable": true,
    "editable": true
   },
   "outputs": [],
   "source": [
    "# Add three signals to the sweep, all measured on demodulator 1\n",
    "zi.add_signal_to_sweeper(1, 'Xrms')\n",
    "zi.add_signal_to_sweeper(1, 'Yrms')\n",
    "zi.add_signal_to_sweeper(1, 'Rrms')"
   ]
  },
  {
   "cell_type": "code",
   "execution_count": null,
   "metadata": {
    "collapsed": false,
    "deletable": true,
    "editable": true
   },
   "outputs": [],
   "source": [
    "# Make sure that demodulator 1 is measuring what and as it should\n",
    "zi.demod1_trigger('Continuous')\n",
    "zi.demod1_signalin('Sig In 1')"
   ]
  },
  {
   "cell_type": "code",
   "execution_count": null,
   "metadata": {
    "collapsed": false,
    "deletable": true,
    "editable": true
   },
   "outputs": [],
   "source": [
    "# I wonder what kind of sweep we have made now...\n",
    "zi.print_sweeper_settings()"
   ]
  },
  {
   "cell_type": "code",
   "execution_count": null,
   "metadata": {
    "collapsed": false,
    "deletable": true,
    "editable": true
   },
   "outputs": [],
   "source": [
    "# Gee, that looks good! Note the last line, the sweep is NOT ready to execute.\n",
    "zi.Sweep.build_sweep()\n",
    "# Now it is!\n",
    "zi.print_sweeper_settings()"
   ]
  },
  {
   "cell_type": "code",
   "execution_count": null,
   "metadata": {
    "collapsed": false,
    "deletable": true,
    "editable": true
   },
   "outputs": [],
   "source": [
    "# We can now execute the sweeper by simply invoking Sweep.get\n",
    "# This returns a tuple with the signals we asked for\n",
    "(X, Y, R) = zi.Sweep.get()"
   ]
  },
  {
   "cell_type": "code",
   "execution_count": null,
   "metadata": {
    "collapsed": true,
    "deletable": true,
    "editable": true
   },
   "outputs": [],
   "source": [
    "# This we may manually plot. "
   ]
  },
  {
   "cell_type": "code",
   "execution_count": null,
   "metadata": {
    "collapsed": false,
    "deletable": true,
    "editable": true
   },
   "outputs": [],
   "source": [
    "plt.figure()\n",
    "plt.plot(X, lw=2, color=(0.5, 0, 0.3))\n",
    "plt.plot(Y, lw=2, color=(0.5, 0.3, 0))\n",
    "plt.plot(R, lw=2, color=(0.3, 0, 0.5))"
   ]
  },
  {
   "cell_type": "code",
   "execution_count": null,
   "metadata": {
    "collapsed": false,
    "deletable": true,
    "editable": true
   },
   "outputs": [],
   "source": [
    "# zi.close()"
   ]
  },
  {
   "cell_type": "code",
   "execution_count": null,
   "metadata": {
    "collapsed": false,
    "deletable": true,
    "editable": true
   },
   "outputs": [],
   "source": [
    "print(zi.daq.get('/dev2235/sigouts/0/amplitudes/3'))"
   ]
  },
  {
   "cell_type": "code",
   "execution_count": null,
   "metadata": {
    "collapsed": false
   },
   "outputs": [],
   "source": [
    "zi.list_nodes(\"sigouts/*/amplitudes\")"
   ]
  },
  {
   "cell_type": "code",
   "execution_count": null,
   "metadata": {
    "collapsed": false
   },
   "outputs": [],
   "source": [
    "zi._list_nodes(\"sigouts/*\")"
   ]
  },
  {
   "cell_type": "code",
   "execution_count": 4,
   "metadata": {
    "collapsed": true
   },
   "outputs": [],
   "source": [
    "import qcodes.utils.validators as vals\n",
    "from qcodes.instrument.parameter import ManualParameter"
   ]
  },
  {
   "cell_type": "code",
   "execution_count": 5,
   "metadata": {
    "collapsed": false
   },
   "outputs": [],
   "source": [
    "bob = ManualParameter(name='testparam', vals=vals.Numbers(1, 2.5))"
   ]
  },
  {
   "cell_type": "code",
   "execution_count": 9,
   "metadata": {
    "collapsed": false
   },
   "outputs": [
    {
     "data": {
      "text/plain": [
       "420000.0000011528"
      ]
     },
     "execution_count": 9,
     "metadata": {},
     "output_type": "execute_result"
    }
   ],
   "source": [
    "zi.oscillator1_freq.get()"
   ]
  },
  {
   "cell_type": "code",
   "execution_count": 10,
   "metadata": {
    "collapsed": false
   },
   "outputs": [
    {
     "data": {
      "text/plain": [
       "420000.0000011528"
      ]
     },
     "execution_count": 10,
     "metadata": {},
     "output_type": "execute_result"
    }
   ],
   "source": [
    "zi.oscillator1_freq.get_latest()"
   ]
  },
  {
   "cell_type": "code",
   "execution_count": null,
   "metadata": {
    "collapsed": false
   },
   "outputs": [],
   "source": [
    "bob.get_latest()"
   ]
  }
 ],
 "metadata": {
  "anaconda-cloud": {},
  "kernelspec": {
   "display_name": "Python 3",
   "language": "python",
   "name": "python3"
  },
  "language_info": {
   "codemirror_mode": {
    "name": "ipython",
    "version": 3
   },
   "file_extension": ".py",
   "mimetype": "text/x-python",
   "name": "python",
   "nbconvert_exporter": "python",
   "pygments_lexer": "ipython3",
   "version": "3.5.2"
  }
 },
 "nbformat": 4,
 "nbformat_minor": 1
}
