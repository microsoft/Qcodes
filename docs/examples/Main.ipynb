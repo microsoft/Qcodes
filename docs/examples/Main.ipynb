{
 "cells": [
  {
   "cell_type": "markdown",
   "metadata": {},
   "source": [
    "# QCoDeS Tutorials"
   ]
  },
  {
   "cell_type": "markdown",
   "metadata": {},
   "source": [
    "([read on nbviewer](https://nbviewer.jupyter.org/github/QCoDeS/Qcodes/blob/master/docs/examples/Main.ipynb))\n",
    "\n",
    "Welcome to QCoDeS! This document will help you find an overview over the available tutorials and examples. Please note that the document is under construction an will eventually popluated further. Until then don't forget to check the examples folder ([online](https://github.com/QCoDeS/Qcodes/tree/master/docs/examples))\n",
    "\n",
    "\n",
    "\n",
    "\n",
    "## Logging\n",
    "   Title      | description   | local link    | online link\n",
    "------------- |:-------------:| -------------:|------------\n",
    "![logger](files/logger.png) | the logger module | [offline](logging/logging_example.ipynb) | [online](https://nbviewer.jupyter.org/github/QCoDeS/Qcodes/tree/master/docs/examples/logging/logging_example.ipynb)\n",
    "![analysis](files/log_analysis.png) | log file parsing |  [offline](logging/logfile_parsing.ipynb) | [online](https://nbviewer.jupyter.org/github/QCoDeS/Qcodes/tree/master/docs/examples/logging/logfile_parsing.ipynb)\n",
    "\n",
    "\n"
   ]
  },
  {
   "cell_type": "markdown",
   "metadata": {},
   "source": [
    "## Plotting"
   ]
  },
  {
   "cell_type": "markdown",
   "metadata": {},
   "source": [
    "   Title      | description   | local link    | online link\n",
    "------------- |:-------------:| -------------:|------------\n",
    "![auto](files/auto_color_scale_small.png) | Auto color scaling | [offline](plotting/auto_color_scale.ipynb) | [online](https://nbviewer.jupyter.org/github/QCoDeS/Qcodes/tree/master/docs/examples/plotting/auto_color_scale.ipynb)\n"
   ]
  },
  {
   "cell_type": "code",
   "execution_count": null,
   "metadata": {},
   "outputs": [],
   "source": []
  }
 ],
 "metadata": {
  "kernelspec": {
   "display_name": "Python 3",
   "language": "python",
   "name": "python3"
  },
  "language_info": {
   "codemirror_mode": {
    "name": "ipython",
    "version": 3
   },
   "file_extension": ".py",
   "mimetype": "text/x-python",
   "name": "python",
   "nbconvert_exporter": "python",
   "pygments_lexer": "ipython3",
   "version": "3.6.7"
  },
  "toc": {
   "base_numbering": 1,
   "nav_menu": {},
   "number_sections": true,
   "sideBar": true,
   "skip_h1_title": false,
   "title_cell": "Table of Contents",
   "title_sidebar": "Contents",
   "toc_cell": false,
   "toc_position": {},
   "toc_section_display": true,
   "toc_window_display": false
  }
 },
 "nbformat": 4,
 "nbformat_minor": 2
}
