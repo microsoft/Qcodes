{
 "cells": [
  {
   "cell_type": "markdown",
   "metadata": {},
   "source": [
    "# QCoDeS Example with AMI430"
   ]
  },
  {
   "cell_type": "markdown",
   "metadata": {},
   "source": [
    "## Summary of automated tests that the driver goes through\n",
    "\n",
    "We have performed a lot of stand alone tests (tests with mocked hardware) in qcodes/tests/test_ami430.py. In particular, we have tested: \n",
    "- If the driver remembers the internal setpoints if these are given in cartesian, spherical and cylindrical coordinates\n",
    "- Check that we send to correct setpoint instructions to the individual instruments if inputs are cartesian, spherical or cylindrical coordinates\n",
    "- Test that we can call the measured parameters (e.g. cartesian_measured) without exceptions occurring. \n",
    "- Check that instruments which need to ramp down are given adjustment instructions first\n",
    "- Check that field limit exceptions are raised properly\n",
    "- Check that the driver remembers theta and phi coordinates even if the vector norm is zero. \n",
    "- Test that a warning is issued when the maximum ramp rate is increased \n",
    "- Test that an exception is raised when we try to set a ramp rate which is higher then the maximum allowed value.\n",
    "\n",
    "Furthermore, in qcodes/tests/test_field_vector.py we have tested if the cartesian to spherical/cylindrical coordinate transformations and visa-versa has been correctly implemented by asserting symmetry rules. "
   ]
  },
  {
   "cell_type": "markdown",
   "metadata": {},
   "source": [
    "## Connecting to the individual axis instruments"
   ]
  },
  {
   "cell_type": "code",
   "execution_count": 1,
   "metadata": {
    "tags": []
   },
   "outputs": [],
   "source": [
    "import time\n",
    "import numpy as np\n",
    "import matplotlib.pyplot as plt\n",
    "\n",
    "from qcodes.instrument_drivers.american_magnetics.AMI430_visa import AMI430, AMI430_3D\n",
    "from qcodes.math_utils.field_vector import FieldVector"
   ]
  },
  {
   "cell_type": "code",
   "execution_count": 2,
   "metadata": {},
   "outputs": [
    {
     "name": "stdout",
     "output_type": "stream",
     "text": [
      "Connected to: AMERICAN MAGNETICS INC. 430 (serial:2.01, firmware:None) in 0.60s\n",
      "Connected to: AMERICAN MAGNETICS INC. 430 (serial:2.01, firmware:None) in 0.62s\n",
      "Connected to: AMERICAN MAGNETICS INC. 430 (serial:2.01, firmware:None) in 0.57s\n"
     ]
    }
   ],
   "source": [
    "# Check if we can establish communication with the power sources\n",
    "ix = AMI430(\"x\", address=\"TCPIP0::169.254.146.116::7180::SOCKET\")\n",
    "iy = AMI430(\"y\", address=\"TCPIP0::169.254.136.91::7180::SOCKET\")\n",
    "iz = AMI430(\"z\", address=\"TCPIP0::169.254.21.127::7180::SOCKET\")"
   ]
  },
  {
   "cell_type": "markdown",
   "metadata": {},
   "source": [
    "## Working with a single axis\n",
    "\n",
    "On individual instruments (individual axes), we:\n",
    "\n",
    "- Test that we can correctly set current values of individual sources\n",
    "- Test that we can correctly measure current values of individual sources \n",
    "- Test that we can put the sources in paused mode \n",
    "- Test that the ramp rates are properly set "
   ]
  },
  {
   "cell_type": "code",
   "execution_count": 3,
   "metadata": {},
   "outputs": [
    {
     "name": "stdout",
     "output_type": "stream",
     "text": [
      "coil constant = 0.076 T/A\n",
      "current rating = 79.1 A\n",
      "current ramp rate limit = 0.06 A/s\n"
     ]
    }
   ],
   "source": [
    "# lets test an individual instrument first. We select the z axis.\n",
    "instrument = iz\n",
    "\n",
    "# Since the set method of the driver only excepts fields in Tesla and we want to check if the correct\n",
    "# currents are applied, we need to convert target currents to target fields. For this reason we need\n",
    "# the coil constant.\n",
    "coil_const = instrument._coil_constant\n",
    "current_rating = instrument._current_rating\n",
    "current_ramp_limit = instrument._current_ramp_limit\n",
    "print(\"coil constant = {} T/A\".format(coil_const))\n",
    "print(\"current rating = {} A\".format(current_rating))\n",
    "print(\"current ramp rate limit = {} A/s\".format(current_ramp_limit))"
   ]
  },
  {
   "cell_type": "code",
   "execution_count": 5,
   "metadata": {},
   "outputs": [
    {
     "name": "stdout",
     "output_type": "stream",
     "text": [
      "Target field is 0.076 T\n",
      "Measured field is 0.07604 T\n",
      "Measured current is = 1.0005263157894737 A\n"
     ]
    }
   ],
   "source": [
    "# Let see if we can set and get the field in Tesla\n",
    "target_current = 1.0  # [A]  The current we want to set\n",
    "target_field = coil_const * target_current  # [T]\n",
    "print(\"Target field is {} T\".format(target_field))\n",
    "instrument.field(target_field)\n",
    "\n",
    "field = instrument.field()  # This gives us the measured field\n",
    "print(\"Measured field is {} T\".format(field))\n",
    "# The current should be\n",
    "current = field / coil_const\n",
    "print(\"Measured current is = {} A\".format(current))\n",
    "# We have verified with manual inspection that the current has indeed ben reached"
   ]
  },
  {
   "cell_type": "code",
   "execution_count": 24,
   "metadata": {},
   "outputs": [
    {
     "data": {
      "image/png": "[encoded data removed]",
      "text/plain": [
       "<matplotlib.figure.Figure at 0x15197f0>"
      ]
     },
     "metadata": {},
     "output_type": "display_data"
    },
    {
     "name": "stdout",
     "output_type": "stream",
     "text": [
      "slope = 0.9993355432517128. A value close to one means the correct ramp times are used\n",
      "offset = 7.364001916301564. An offset indicates that there is a fixed delay is added to a ramp request\n"
     ]
    }
   ],
   "source": [
    "# Verify that the ramp rate is indeed how it is specified\n",
    "ramp_rate = instrument.ramp_rate()  # get the ramp rate\n",
    "instrument.field(0)  # make sure we are back at zero amps\n",
    "\n",
    "target_fields = [0.1, 0.3, 0.7, 1.5]  # [T]\n",
    "t_setting = []\n",
    "t_actual = []\n",
    "\n",
    "for target_field in target_fields:\n",
    "\n",
    "    current_field = instrument.field()\n",
    "    ts = abs(target_field - current_field) / ramp_rate\n",
    "    t_setting.append(ts)\n",
    "\n",
    "    tb = time.time()\n",
    "    instrument.field(target_field)\n",
    "    te = time.time()\n",
    "    ta = te - tb\n",
    "    t_actual.append(ta)\n",
    "\n",
    "fig, ax = plt.subplots()\n",
    "ax.plot(t_setting, t_actual, \".-\")\n",
    "plt.xlabel(\"ramp time calculated from settings [s]\")\n",
    "plt.ylabel(\"measured ramp time [s]\")\n",
    "plt.show()\n",
    "slope, offset = np.polyfit(t_setting, t_actual, 1)\n",
    "print(\n",
    "    \"slope = {}. A value close to one means the correct ramp times are used\".format(\n",
    "        slope\n",
    "    )\n",
    ")\n",
    "print(\n",
    "    \"offset = {}. An offset indicates that there is a fixed delay is added to a ramp request\".format(\n",
    "        offset\n",
    "    )\n",
    ")"
   ]
  },
  {
   "cell_type": "code",
   "execution_count": 9,
   "metadata": {
    "collapsed": true,
    "jupyter": {
     "outputs_hidden": true
    }
   },
   "outputs": [],
   "source": [
    "# Lets move back to zero Amp\n",
    "instrument.field(0)"
   ]
  },
  {
   "cell_type": "markdown",
   "metadata": {},
   "source": [
    "### Note on maximum current ramp rate\n",
    "\n",
    "The maximum current ramp rate can be increased to a desired value via setting the `current_ramp_limit` parameter. However, this should be done conservatively to avoid quenching the magnet. We strongly recommend to consult to the manual of your particular magnet before making any changes."
   ]
  },
  {
   "cell_type": "markdown",
   "metadata": {},
   "source": [
    "## Working with the 3D driver, controlling all 3 axes\n",
    "\n",
    "With the 3D driver, we:\n",
    "\n",
    "- Test that the correct set points are reached if we give inputs in cartesian, spherical or cylindrical coordinates \n",
    "- Test that we can set theta and phi to non-zero values which are remembered if r is ramped from zero to r > 0. \n",
    "- Test that instruments are ramped up and down in the correct order, with ramp downs occuring before ramp ups.\n"
   ]
  },
  {
   "cell_type": "code",
   "execution_count": 3,
   "metadata": {
    "collapsed": true,
    "jupyter": {
     "outputs_hidden": true
    }
   },
   "outputs": [],
   "source": [
    "# Lets test the 3D driver now.\n",
    "field_limit = (\n",
    "    [  # If any of the field limit functions are satisfied we are in the safe zone.\n",
    "        lambda x, y, z: x == 0\n",
    "        and y == 0\n",
    "        and z < 3,  # We can have higher field along the z-axis if x and y are zero.\n",
    "        lambda x, y, z: np.linalg.norm([x, y, z]) < 2,\n",
    "    ]\n",
    ")\n",
    "\n",
    "i3d = AMI430_3D(\"AMI430_3D\", ix, iy, iz, field_limit=field_limit)"
   ]
  },
  {
   "cell_type": "code",
   "execution_count": 4,
   "metadata": {
    "collapsed": true,
    "jupyter": {
     "outputs_hidden": true
    }
   },
   "outputs": [],
   "source": [
    "def current_to_field(name, current):\n",
    "    \"\"\"We cannot set currents directly, so we need to calculate what fields need to be generated for\n",
    "    the desired currents\"\"\"\n",
    "    instrument = {\"x\": ix, \"y\": iy, \"z\": iz}[name]\n",
    "    coil_constant = instrument._coil_constant  #  [T/A]\n",
    "    field = current * coil_constant\n",
    "    return field"
   ]
  },
  {
   "cell_type": "code",
   "execution_count": 12,
   "metadata": {},
   "outputs": [
    {
     "name": "stdout",
     "output_type": "stream",
     "text": [
      "field target = [0.0386, 0.0121, 0.11399999999999999]\n",
      "field measured = [0.03816, 0.01211, 0.11384]\n"
     ]
    }
   ],
   "source": [
    "# Lets see if we can set a certain current using cartesian coordinates\n",
    "current_target = [1.0, 0.5, 1.5]\n",
    "# calculate the fields needed\n",
    "field_target = [current_to_field(n, v) for n, v in zip([\"x\", \"y\", \"z\"], current_target)]\n",
    "print(\"field target = {}\".format(field_target))\n",
    "i3d.cartesian(field_target)\n",
    "field_measured = i3d.cartesian_measured()\n",
    "print(\"field measured = {}\".format(field_measured))"
   ]
  },
  {
   "cell_type": "code",
   "execution_count": 13,
   "metadata": {},
   "outputs": [
    {
     "name": "stdout",
     "output_type": "stream",
     "text": [
      "field target = [0.1209643335863923, 19.536859161547078, 17.404721375291402]\n",
      "field measured = [0.12077462481829535, 19.424782613847988, 17.532727661391853]\n"
     ]
    }
   ],
   "source": [
    "# Lets move back to 0,0,0\n",
    "i3d.cartesian([0, 0, 0])\n",
    "\n",
    "# Lets see if we can set a certain current using spherical coordinates\n",
    "current_target = [1.0, 0.5, 1.5]\n",
    "# calculate the fields needed\n",
    "field_target_cartesian = [\n",
    "    current_to_field(n, v) for n, v in zip([\"x\", \"y\", \"z\"], current_target)\n",
    "]\n",
    "# calculate the field target in spherical coordinates\n",
    "field_target_spherical = FieldVector(*field_target_cartesian).get_components(\n",
    "    \"r\", \"theta\", \"phi\"\n",
    ")\n",
    "\n",
    "print(\"field target = {}\".format(field_target_spherical))\n",
    "i3d.spherical(field_target_spherical)\n",
    "field_measured = i3d.spherical_measured()\n",
    "print(\"field measured = {}\".format(field_measured))\n",
    "# Like before, we see that the current target of 1.0, 0.5, 1.5 A for x, y and z have indeed been reached"
   ]
  },
  {
   "cell_type": "code",
   "execution_count": 15,
   "metadata": {},
   "outputs": [
    {
     "name": "stdout",
     "output_type": "stream",
     "text": [
      "field target = [0.040452070404368677, 17.404721375291402, 0.11399999999999999]\n",
      "field measured = [0.040235668255914431, 17.51627743673798, 0.11365]\n"
     ]
    }
   ],
   "source": [
    "# Lets move back to 0,0,0\n",
    "i3d.cartesian([0, 0, 0])\n",
    "\n",
    "# Lets see if we can set a certain current using cylindrical coordinates\n",
    "current_target = [1.0, 0.5, 1.5]\n",
    "# calculate the fields needed\n",
    "field_target_cartesian = [\n",
    "    current_to_field(n, v) for n, v in zip([\"x\", \"y\", \"z\"], current_target)\n",
    "]\n",
    "# calculate the field target in cylindrical coordinates\n",
    "field_target_cylindrical = FieldVector(*field_target_cartesian).get_components(\n",
    "    \"rho\", \"phi\", \"z\"\n",
    ")\n",
    "\n",
    "print(\"field target = {}\".format(field_target_cylindrical))\n",
    "i3d.cylindrical(field_target_cylindrical)\n",
    "field_measured = i3d.cylindrical_measured()\n",
    "print(\"field measured = {}\".format(field_measured))\n",
    "# Like before, we see that the current target of 1.0, 0.5, 1.5 A for x, y and z have indeed been reached"
   ]
  },
  {
   "cell_type": "code",
   "execution_count": 16,
   "metadata": {},
   "outputs": [
    {
     "name": "stdout",
     "output_type": "stream",
     "text": [
      "field target = [0.0386, 0.01815, 0.076]\n"
     ]
    }
   ],
   "source": [
    "# Test that ramping up and down occurs in the right order,\n",
    "# that is, first, ramp axes that have ramp down,\n",
    "# and only then ramp axes that have to ramp up.\n",
    "current_target = [1.0, 0.75, 1.0]  # We ramp down the z, ramp up y and keep x the same\n",
    "# We should see that z is adjusted first, then y.\n",
    "# calculate the fields needed\n",
    "field_target = [current_to_field(n, v) for n, v in zip([\"x\", \"y\", \"z\"], current_target)]\n",
    "print(\"field target = {}\".format(field_target))\n",
    "i3d.cartesian(field_target)\n",
    "# Manual inspection has shown that z is indeed ramped down before y is ramped up"
   ]
  },
  {
   "cell_type": "code",
   "execution_count": 17,
   "metadata": {},
   "outputs": [
    {
     "name": "stdout",
     "output_type": "stream",
     "text": [
      "error successfully raised. The driver does not let you do stupid stuff\n"
     ]
    }
   ],
   "source": [
    "# check that an exception is raised when we try to set a field which is out side of the safety limits\n",
    "try:\n",
    "    i3d.cartesian([2.1, 0, 0])\n",
    "    print(\"something went wrong... we should not be able to do this :-(\")\n",
    "except:\n",
    "    print(\"error successfully raised. The driver does not let you do stupid stuff\")"
   ]
  },
  {
   "cell_type": "code",
   "execution_count": 25,
   "metadata": {},
   "outputs": [
    {
     "name": "stdout",
     "output_type": "stream",
     "text": [
      "1: Measured field = [-0.00013, -1e-05, 3e-05] T\n",
      "1: Theta measured = 98.72079692816342\n",
      "1: Phi measured = 180.0\n",
      "2: Measured field = [0.10484, -0.08797, 0.37558] T\n",
      "2: Theta measured = 20.032264760097508. We see that the input theta of 20.0 has been remembered\n",
      "2: Phi measured = -40.007172479040996. We see that the input phi of -40.0 has been remembered\n"
     ]
    }
   ],
   "source": [
    "# Check that the driver remembers theta/phi values if the set point norm is zero\n",
    "\n",
    "# lets go back to zero field\n",
    "i3d.cartesian([0, 0, 0])\n",
    "# Lets set theta and phi to a non zero value but keep the field magnitude at zero\n",
    "field_target_spherical = [0, 20.0, -40.0]\n",
    "i3d.spherical(field_target_spherical)\n",
    "field_measured = i3d.cartesian_measured()\n",
    "print(\"1: Measured field = {} T\".format(field_measured))\n",
    "\n",
    "# Note that theta_measured and phi_measured will give random values based on noisy current reading\n",
    "# close to zero (this cannot be avoided)\n",
    "theta_measured = i3d.theta_measured()\n",
    "print(\"1: Theta measured = {}\".format(theta_measured))\n",
    "phi_measured = i3d.phi_measured()\n",
    "print(\"1: Phi measured = {}\".format(phi_measured))\n",
    "\n",
    "# now lets set the r value\n",
    "i3d.field(0.4)\n",
    "\n",
    "field_measured = i3d.cartesian_measured()\n",
    "print(\"2: Measured field = {} T\".format(field_measured))\n",
    "# Now the measured angles should be as we intended\n",
    "theta_measured = i3d.theta_measured()\n",
    "print(\n",
    "    \"2: Theta measured = {}. We see that the input theta of {} has been \"\n",
    "    \"remembered\".format(theta_measured, field_target_spherical[1])\n",
    ")\n",
    "\n",
    "phi_measured = i3d.phi_measured()\n",
    "print(\n",
    "    \"2: Phi measured = {}. We see that the input phi of {} has been \"\n",
    "    \"remembered\".format(phi_measured, field_target_spherical[2])\n",
    ")"
   ]
  },
  {
   "cell_type": "markdown",
   "metadata": {},
   "source": [
    "### Simultaneous ramping mode"
   ]
  },
  {
   "cell_type": "markdown",
   "metadata": {},
   "source": [
    "The 3D driver has a ``ramp_mode`` parameter whose default value is ``\"default\"``. In this mode, the ramping of all the 3 axes is sequential e.g. first X axis is ramped until its setpoint, then Y axis, then Z axis. In order to ramp all the three axis together, simultaneously, there exists another ramp mode called ``\"simultaneous\"``:"
   ]
  },
  {
   "cell_type": "code",
   "execution_count": null,
   "metadata": {},
   "outputs": [],
   "source": [
    "i3d.ramp_mode(\"simultaneous\")"
   ]
  },
  {
   "cell_type": "markdown",
   "metadata": {},
   "source": [
    "Thanks to all there axes instruments being swept together, the magnetic field changes along the vector from the current/initial field value towards the setpoint value. Use the simultaneous mode either by setting ``vector_ramp_rate`` parameter, or by calling ``ramp_simultaneously`` convenience method."
   ]
  },
  {
   "cell_type": "markdown",
   "metadata": {},
   "source": [
    "To return to the default ramp mode, set the ramp mode parameter to ``\"default\"``:"
   ]
  },
  {
   "cell_type": "code",
   "execution_count": null,
   "metadata": {},
   "outputs": [],
   "source": [
    "i3d.ramp_mode(\"default\")"
   ]
  },
  {
   "cell_type": "markdown",
   "metadata": {},
   "source": [
    "``vector_ramp_rate`` parameter corresponds to the desired ramp rate along the vector from the current magnetic field value to the setpoint value. To initiate the ramp, use any of the already familiar parameters that set the field setpoint value, e.g. ``i3d.cartesian([0.1, 0.2, 0.3])``. Use the ``vector_ramp_rate`` approach if you would like to sweep all axes simultaneously *at a given ramp rate along the vector towards the setpoint value*:"
   ]
  },
  {
   "cell_type": "code",
   "execution_count": null,
   "metadata": {},
   "outputs": [],
   "source": [
    "i3d.ramp_mode(\"simultaneous\")\n",
    "i3d.vector_ramp_rate(0.05)  # requires all axes to have same ramp rate units!!!\n",
    "i3d.cartesian((x, y, z))  # or any other parameter call that initiates a ramp"
   ]
  },
  {
   "cell_type": "markdown",
   "metadata": {},
   "source": [
    "The ``vector_ramp_rate`` parameter assumes that the given value is in the same ramp units as the units of all the three individual axis instruments. If not all axis instruments have the same ramp rate units, an exception will be raised."
   ]
  },
  {
   "cell_type": "markdown",
   "metadata": {},
   "source": [
    "``ramp_simultaneously`` method takes the sweep duration as it's argument, and uses it to calculate the corresponding vector ramp rate, and initiate the ramp. Use the ``ramp_simultaneously`` approach if you would like to sweep all axes simultaneously *in a given time* along the vector towards the setpoint value:"
   ]
  },
  {
   "cell_type": "code",
   "execution_count": null,
   "metadata": {},
   "outputs": [],
   "source": [
    "i3d.ramp_simultaneously(setpoint=FieldVector(0.5, 1.0, 0.01), duration=2)\n",
    "# See the docstring of this method for details"
   ]
  },
  {
   "cell_type": "markdown",
   "metadata": {},
   "source": [
    "The ``ramp_simultaneously`` method assumes that the given setpoint value as well as the given duration are in the same units as the units of all the three individual axis instruments. If not all axis instruments have the same units for ramp rate and field, an exception will be raised."
   ]
  },
  {
   "cell_type": "markdown",
   "metadata": {},
   "source": [
    "If ``block_during_ramp`` parameter is set to ``False``, then the call that initiated the ramp (either ``ramp_simultaneously`` or call to a field setpoint parameter) will return right after the ramp is initiated. Otherwise, the calls will block until the ramp is complete (that is, until all 3 axes stopped ramping)."
   ]
  },
  {
   "cell_type": "code",
   "execution_count": null,
   "metadata": {},
   "outputs": [],
   "source": [
    "i3d.block_during_ramp(False)"
   ]
  },
  {
   "cell_type": "markdown",
   "metadata": {},
   "source": [
    "The driver comes with convenient methods that can be used in the measurement code to implement checks for completion of the ramping process (e.g. for waiting until the ramping is complete): ``i3d.wait_while_all_axes_ramping`` that blocks until the ramping is complete (check that ramping state every ``i3d.ramping_state_check_interval`` seconds), and ``i3d.any_axis_is_ramping`` that returns ``True``/``False`` based on whether the ramping is still in process or completed."
   ]
  },
  {
   "cell_type": "code",
   "execution_count": null,
   "metadata": {},
   "outputs": [],
   "source": [
    "i3d.any_axis_is_ramping()"
   ]
  },
  {
   "cell_type": "code",
   "execution_count": null,
   "metadata": {},
   "outputs": [],
   "source": [
    "i3d.wait_while_all_axes_ramping()"
   ]
  },
  {
   "cell_type": "code",
   "execution_count": null,
   "metadata": {},
   "outputs": [],
   "source": [
    "i3d.ramping_state_check_interval(0.5)"
   ]
  },
  {
   "cell_type": "markdown",
   "metadata": {},
   "source": [
    "**NOTE** that ramping with the ``\"simultaneous\"`` mode changes the ramp rates of the individual magnet axes. The implementation is such that, given the current and the setpoint magnetic field vectors together with either vector ramp rate (``vector_ramp_rate`` parameter) or the desired ramp duration (``ramp_simultaneously`` method), the required ramp rates of the individual axes are calculated and then set via the ``ramp_rate`` parameters of the individual magnet axes. Once the individual ramp rates are set to new values, the ramping is initiated on all axes (almost) at the same time. However, the values of the individual ramp rates can be **restored** by calling ``wait_while_all_axes_ramping``. It is advised to call ``wait_while_all_axes_ramping`` especially for non-blocking ramps (``block_during_ramp`` parameter set to ``False``) as not only your code waits for the ramp to finish but also ensures that the magnet is in a known good (original) state before doing the next operation. Note that if ``block_during_ramp`` parameter is set to ``True``, ``wait_while_all_axes_ramping`` method is called automatically by the ramping logic, thus the ramp rates of the individual magnet axes are **restored** after the ramp is finished. Below is an example of performing a non-blocking simultaneous ramp (with ``block_during_ramp`` parameter set to ``False``) and using ``wait_while_all_axes_ramping`` to wait for the ramp to finish and also to restore the ramp rates of the individual magnet axes:\n",
    "\n",
    "```python\n",
    "# Let's assume that these are the original values\n",
    "# of the ramp rates of the individual axes\n",
    "ix.ramp_rate(0.01)\n",
    "iy.ramp_rate(0.02)\n",
    "iz.ramp_rate(0.03)\n",
    "\n",
    "# And let's assume that for this measurement we\n",
    "# don't want the ramp calls to block, but we DO\n",
    "# want to restore the original values of the ramp\n",
    "# rates of the inidividual axes\n",
    "i3d.block_during_ramp(False)\n",
    "\n",
    "# Starting the ramp will change the values of the ramp rates \n",
    "# of the individual axes\n",
    "i3d.ramp_simultaneously(setpoint=FieldVector(0.5, 1.0, 0.01), duration=2)\n",
    "\n",
    "# .. or initiate the ramp using ``vector_ramp_rate`` with\n",
    "# a field setpoint parameter\n",
    "# i3d.vector_ramp_rate(0.34)\n",
    "# i3d.cartesian((0.5, 1.0, 0.01))\n",
    "\n",
    "# ...\n",
    "# Here comes your code of the measurement that you'd like to do\n",
    "# while the magnet ramping\n",
    "# ...\n",
    "\n",
    "# Here the ramp rates of the individual axes are still different\n",
    "# from their original values\n",
    "assert ix.ramp_rate() != 0.01\n",
    "assert iy.ramp_rate() != 0.02\n",
    "assert iz.ramp_rate() != 0.03\n",
    "\n",
    "# And now, let's wait for the ramping to finish which will also\n",
    "# restore the ramp rates of the individual magnet axes to their\n",
    "# original values\n",
    "i3d.wait_while_all_axes_ramping()\n",
    "\n",
    "# So here, the ramp rates of the individual axes are already\n",
    "# restored to their original/initial values\n",
    "assert ix.ramp_rate() == 0.01\n",
    "assert iy.ramp_rate() == 0.02\n",
    "assert iz.ramp_rate() == 0.03\n",
    "```"
   ]
  },
  {
   "cell_type": "markdown",
   "metadata": {},
   "source": [
    "For user convenience, the calculation methods between vactor ramp rate, sweep duration, and individual ramp rates for axes are exposed: see ``i3d.calculate_axes_ramp_rates_from_vector_ramp_rate``, ``i3d.calculate_vector_ramp_rate_from_duration``, ``i3d.calculate_axes_ramp_rates_for`` methods."
   ]
  },
  {
   "cell_type": "markdown",
   "metadata": {},
   "source": [
    "Use the ``i3d.pause`` method to request all three axes instruments to pause ramping:"
   ]
  },
  {
   "cell_type": "code",
   "execution_count": null,
   "metadata": {},
   "outputs": [],
   "source": [
    "i3d.pause()"
   ]
  },
  {
   "cell_type": "markdown",
   "metadata": {},
   "source": [
    "Note that the results of testing on the real instruments show that:\n",
    "- if the requested field change is 0 for one/two/all-three axes, ramping still \"simply works\", e.g. the instrument attempts to ramp, finds that it's already in the right place, and stops ramping\n",
    "- if the requested field change for a given axis results in a ramp rate that is less than minimal ramp rate, the instrument still ramps to the corresponding setpoint value at some small ramp rate\n",
    "- when a ramp rate of an individual magnet axis is changed during an ongoing ramp (started without blocking), the ramp rate is in fact changed on the fly for the active ramp"
   ]
  },
  {
   "cell_type": "markdown",
   "metadata": {},
   "source": [
    "## Dond while ramping "
   ]
  },
  {
   "cell_type": "markdown",
   "metadata": {},
   "source": [
    "Lets now look at how the simultaneous ramp mode can be integrated with a typical measurement. The idea is to start the ramp and then do a dond scan with a fixed delay until the ramp is completed."
   ]
  },
  {
   "cell_type": "code",
   "execution_count": null,
   "metadata": {},
   "outputs": [],
   "source": [
    "import xarray as xr\n",
    "import time\n",
    "\n",
    "from qcodes.dataset import load_or_create_experiment\n",
    "from qcodes.tests.instrument_mocks import (\n",
    "    DummyInstrument,\n",
    "    DummyInstrumentWithMeasurement,\n",
    ")\n",
    "from qcodes.instrument.specialized_parameters import ElapsedTimeParameter\n",
    "from qcodes.utils.dataset.doNd import dond, LinSweep, do2d"
   ]
  },
  {
   "cell_type": "code",
   "execution_count": null,
   "metadata": {},
   "outputs": [],
   "source": [
    "# preparatory mocking of physical setup\n",
    "dac = DummyInstrument(\"dac\", gates=[\"ch1\", \"ch2\"])\n",
    "dmm = DummyInstrumentWithMeasurement(\"dmm\", setter_instr=dac)"
   ]
  },
  {
   "cell_type": "code",
   "execution_count": null,
   "metadata": {},
   "outputs": [],
   "source": [
    "tutorial_exp = load_or_create_experiment(\"doNd_while_ramping\", sample_name=\"no sample\")"
   ]
  },
  {
   "cell_type": "code",
   "execution_count": null,
   "metadata": {},
   "outputs": [],
   "source": [
    "sweep_1 = LinSweep(dac.ch1, 0, 1, 5, 0)\n",
    "sweep_2 = LinSweep(dac.ch2, 0, 1, 10, 0)"
   ]
  },
  {
   "cell_type": "code",
   "execution_count": null,
   "metadata": {},
   "outputs": [],
   "source": [
    "time_p = ElapsedTimeParameter(\"time\")"
   ]
  },
  {
   "cell_type": "code",
   "execution_count": null,
   "metadata": {},
   "outputs": [
    {
     "data": {
      "text/plain": [
       "FieldVector(x=0.0, y=0.0, z=0.0)"
      ]
     },
     "metadata": {},
     "output_type": "display_data"
    }
   ],
   "source": [
    "zero_field = FieldVector(x=0.0, y=0.0, z=0.0)\n",
    "zero_field"
   ]
  },
  {
   "cell_type": "code",
   "execution_count": null,
   "metadata": {},
   "outputs": [
    {
     "data": {
      "text/plain": [
       "FieldVector(x=0.02, y=0.02, z=0.02)"
      ]
     },
     "metadata": {},
     "output_type": "display_data"
    }
   ],
   "source": [
    "setpoint = FieldVector(x=0.02, y=0.02, z=0.02)\n",
    "setpoint"
   ]
  },
  {
   "cell_type": "markdown",
   "metadata": {},
   "source": [
    "First we start with a example that is independent of the magnets but shows how we can measure a 2D scan as a function of time.\n",
    "Note that we keep the timing logic minimal, so the points may not be equidistant in time. This can be extended if needed."
   ]
  },
  {
   "cell_type": "code",
   "execution_count": null,
   "metadata": {},
   "outputs": [
    {
     "name": "stdout",
     "output_type": "stream",
     "text": [
      "Starting experimental run with id: 205. Using 'qcodes.utils.dataset.doNd.dond'\n",
      "Starting experimental run with id: 206. Using 'qcodes.utils.dataset.doNd.dond'\n",
      "Starting experimental run with id: 207. Using 'qcodes.utils.dataset.doNd.dond'\n",
      "Starting experimental run with id: 208. Using 'qcodes.utils.dataset.doNd.dond'\n"
     ]
    }
   ],
   "source": [
    "elapsed_time = 0\n",
    "timed_datasets = []\n",
    "\n",
    "time_p.reset_clock()\n",
    "\n",
    "while elapsed_time < 2:\n",
    "    ds, _, _ = dond(sweep_1, sweep_2, dmm.v1, additional_setpoints=(time_p,))\n",
    "    timed_datasets.append(ds)\n",
    "    time.sleep(0.5)\n",
    "    elapsed_time = time_p.get()"
   ]
  },
  {
   "cell_type": "markdown",
   "metadata": {},
   "source": [
    "To visualize this lets merge the datasets using xarray"
   ]
  },
  {
   "cell_type": "code",
   "execution_count": null,
   "metadata": {},
   "outputs": [
    {
     "data": {
      "text/plain": [
       "<xarray.plot.facetgrid.FacetGrid at 0x21280446f08>"
      ]
     },
     "metadata": {},
     "output_type": "display_data"
    },
    {
     "data": {
      "image/png": "[encoded data removed]",
      "text/plain": [
       "<Figure size 936x216 with 5 Axes>"
      ]
     },
     "metadata": {},
     "output_type": "display_data"
    }
   ],
   "source": [
    "timed_xarray_datasets = [ds.to_xarray_dataset() for ds in timed_datasets]\n",
    "merged_dataset = xr.merge(timed_xarray_datasets)\n",
    "merged_dataset.dmm_v1.plot(col=\"time\")"
   ]
  },
  {
   "cell_type": "markdown",
   "metadata": {},
   "source": [
    "Now, let's do the same but while also ramping the magnetic field. We'll use the ``ramp_simultaneously`` method here:"
   ]
  },
  {
   "cell_type": "code",
   "execution_count": null,
   "metadata": {},
   "outputs": [],
   "source": [
    "ramp_datasets = []\n",
    "\n",
    "# Required for ``ramp_simultaneously`` to return\n",
    "# immediately after initiating a ramp\n",
    "i3d.block_during_ramp(False)\n",
    "\n",
    "# Assuming the field is in T and time in minutes\n",
    "i3d.ramp_simultaneously(setpoint=setpoint, duration=2.0)\n",
    "\n",
    "time_p.reset_clock()  # Let's also store the elapsed time\n",
    "\n",
    "while i3d.any_axis_is_ramping():  # Should be clear without additional explanation ;)\n",
    "\n",
    "    # Run the 2D scan measurement\n",
    "    ds, _, _ = dond(\n",
    "        sweep_1,\n",
    "        sweep_2,\n",
    "        dmm.v1,\n",
    "        additional_setpoints=(time_p, ix.field, iy.field, iy.field),\n",
    "    )\n",
    "\n",
    "    # Collect the dataset for later processing\n",
    "    ramp_datasets.append(ds)\n",
    "\n",
    "    # Optionally, wait until the field changed sufficiently\n",
    "    # enough for this measurement\n",
    "    time.sleep(0.5)"
   ]
  },
  {
   "cell_type": "markdown",
   "metadata": {},
   "source": [
    "Now the resulting ``ramp_datasets`` can be merged along time/field-x/field-y/field-z axes, as desired (see above), and used further, e.g. plotted."
   ]
  }
 ],
 "metadata": {
  "kernelspec": {
   "display_name": "Python 3 (ipykernel)",
   "language": "python",
   "name": "python3"
  },
  "language_info": {
   "codemirror_mode": {
    "name": "ipython",
    "version": 3
   },
   "file_extension": ".py",
   "mimetype": "text/x-python",
   "name": "python",
   "nbconvert_exporter": "python",
   "pygments_lexer": "ipython3",
   "version": "3.10.0"
  },
  "nbsphinx": {
   "execute": "never"
  },
  "widgets": {
   "application/vnd.jupyter.widget-state+json": {
    "state": {},
    "version_major": 2,
    "version_minor": 0
   }
  }
 },
 "nbformat": 4,
 "nbformat_minor": 4
}
