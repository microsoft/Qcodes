{
 "cells": [
  {
   "cell_type": "markdown",
   "metadata": {},
   "source": [
    "# QCoDeS Example with the Rigol DS 1074 Z oscilloscope"
   ]
  },
  {
   "cell_type": "markdown",
   "metadata": {},
   "source": [
    "This notebook presents the implementation of QCoDeS driver for the Rigol DS1074Z oscilloscope."
   ]
  },
  {
   "cell_type": "markdown",
   "metadata": {},
   "source": [
    "## Importing dependencies "
   ]
  },
  {
   "cell_type": "code",
   "execution_count": 1,
   "metadata": {},
   "outputs": [],
   "source": [
    "import visa\n",
    "\n",
    "#Qcodes import\n",
    "from qcodes.dataset.plotting import plot_by_id\n",
    "from qcodes.instrument_drivers.rigol import DS1074Z\n",
    "from qcodes.instrument.parameter import expand_setpoints_helper\n",
    "from qcodes import initialise_database, load_or_create_experiment, Measurement"
   ]
  },
  {
   "cell_type": "markdown",
   "metadata": {},
   "source": [
    "## Create the instrument "
   ]
  },
  {
   "cell_type": "markdown",
   "metadata": {},
   "source": [
    "The address of the oscilloscope is needed to create the instrument. The address can be obtained in the following way if the 'physical' instrument is connected. "
   ]
  },
  {
   "cell_type": "code",
   "execution_count": 2,
   "metadata": {},
   "outputs": [
    {
     "name": "stdout",
     "output_type": "stream",
     "text": [
      "USB0::0x1AB1::0x04CE::DS1ZB161650342::INSTR\n"
     ]
    }
   ],
   "source": [
    "rm = visa.ResourceManager()\n",
    "rigol_address = rm.list_resources()[0]\n",
    "print(rigol_address)\n"
   ]
  },
  {
   "cell_type": "markdown",
   "metadata": {},
   "source": [
    "Else the address can also be found using the NI-MAX explorer.\n",
    "\n",
    "The instrument is created in the following way:"
   ]
  },
  {
   "cell_type": "code",
   "execution_count": 3,
   "metadata": {},
   "outputs": [],
   "source": [
    "rigol = DS1074Z.RigolDrivers('rigol', rigol_address)"
   ]
  },
  {
   "cell_type": "code",
   "execution_count": 4,
   "metadata": {},
   "outputs": [
    {
     "name": "stdout",
     "output_type": "stream",
     "text": [
      "Connected to: None rigol (serial:None, firmware:None) in 5.85s\n"
     ]
    }
   ],
   "source": [
    "rigol.connect_message()"
   ]
  },
  {
   "cell_type": "markdown",
   "metadata": {},
   "source": [
    "## Prepare trace"
   ]
  },
  {
   "cell_type": "markdown",
   "metadata": {},
   "source": [
    "In this example we choose channel 1 (ch1) to obtain the trace. We first prepare the oscilloscope to return the values of raw trace."
   ]
  },
  {
   "cell_type": "code",
   "execution_count": 5,
   "metadata": {},
   "outputs": [],
   "source": [
    "rigol.channels.ch1.get_trace.prepare_curvedata()"
   ]
  },
  {
   "cell_type": "markdown",
   "metadata": {},
   "source": [
    "## Trigger setup  "
   ]
  },
  {
   "cell_type": "markdown",
   "metadata": {},
   "source": [
    "Trigger source can be set to any channel (1 to 4). Here we use the input signal from channel 1 itself as a source for trigger. "
   ]
  },
  {
   "cell_type": "code",
   "execution_count": 6,
   "metadata": {},
   "outputs": [],
   "source": [
    "rigol.trigger_edge_source('CHANnel1')\n",
    "rigol.trigger_edge_slope('negative')"
   ]
  },
  {
   "cell_type": "markdown",
   "metadata": {},
   "source": [
    "The trigger-mode type supported by this oscilloscope are `EDGe,PULSe, SLOPe, VIDeo, PATTern, DURATion`. Both the trigger mode and trigger level can be set in the following manner. "
   ]
  },
  {
   "cell_type": "code",
   "execution_count": 7,
   "metadata": {},
   "outputs": [],
   "source": [
    "rigol.trigger_mode('PULS')\n",
    "rigol.trigger_level(0.1)"
   ]
  },
  {
   "cell_type": "markdown",
   "metadata": {},
   "source": [
    "## Data acquisition and plotting"
   ]
  },
  {
   "cell_type": "markdown",
   "metadata": {},
   "source": [
    "The data acquisition is performed using measurement context manager. After initializing the database and loading/creating the experiment, the parameters are registered. The result are added to the database via datasaver object. The plot can be easily obtained using ``plot_by_id``.\n",
    "\n",
    "Here, we show two ways of data acquisition. First, where setpoint is defined upfront (while registering the parameter and second, where a helper function is used to acquire both the oscilloscope trace and its setpoint. "
   ]
  },
  {
   "cell_type": "code",
   "execution_count": 8,
   "metadata": {},
   "outputs": [
    {
     "name": "stderr",
     "output_type": "stream",
     "text": [
      "Upgrading database: : 0it [00:00, ?it/s]\n",
      "Upgrading database: : 0it [00:00, ?it/s]\n",
      "Upgrading database, version 5 -> 6: : 0it [00:00, ?it/s]\n"
     ]
    }
   ],
   "source": [
    "initialise_database()\n",
    "exp = load_or_create_experiment(experiment_name='Oscilloscope trace',\n",
    "                               sample_name='no_name')"
   ]
  },
  {
   "cell_type": "code",
   "execution_count": 9,
   "metadata": {},
   "outputs": [
    {
     "name": "stdout",
     "output_type": "stream",
     "text": [
      "Starting experimental run with id: 1\n"
     ]
    }
   ],
   "source": [
    "meas = Measurement()\n",
    "trace = rigol.channels.ch1.get_trace\n",
    "time = rigol.time_axis\n",
    "meas.register_parameter(time)\n",
    "meas.register_parameter(trace, setpoints=(time,))\n",
    "\n",
    "with meas.run() as datasaver:\n",
    "        trace_val = trace()\n",
    "        time_val = time()\n",
    "        datasaver.add_result((time, time_val),\n",
    "                             (trace, trace_val))\n",
    "        dataid = datasaver.run_id\n"
   ]
  },
  {
   "cell_type": "code",
   "execution_count": 10,
   "metadata": {},
   "outputs": [
    {
     "data": {
      "image/png": "[encoded data removed]",
      "text/plain": [
       "<Figure size 432x288 with 1 Axes>"
      ]
     },
     "metadata": {
      "needs_background": "light"
     },
     "output_type": "display_data"
    }
   ],
   "source": [
    "_ = plot_by_id(dataid)"
   ]
  },
  {
   "cell_type": "markdown",
   "metadata": {},
   "source": [
    "Now, the same measurement can also be performed using a helper function `expand_setpoints_helper`. This function takes a ParameterWithSetpoints and acquires the parameter along with it's setpoints. The data is returned in a format prepared to insert into the dataset. Parameter `get_trace` is a ParameterWithSetpoints. "
   ]
  },
  {
   "cell_type": "code",
   "execution_count": 11,
   "metadata": {},
   "outputs": [
    {
     "name": "stdout",
     "output_type": "stream",
     "text": [
      "Starting experimental run with id: 2\n"
     ]
    }
   ],
   "source": [
    "meas_helper = Measurement()\n",
    "meas_helper.register_parameter(rigol.channels.ch1.get_trace)\n",
    "\n",
    "with meas_helper.run() as datasaver:\n",
    "        trace_val = trace()\n",
    "        time_val = time()\n",
    "        datasaver.add_result(*expand_setpoints_helper(rigol.channels.ch1.get_trace))\n",
    "        dataid = datasaver.run_id"
   ]
  },
  {
   "cell_type": "code",
   "execution_count": 12,
   "metadata": {},
   "outputs": [
    {
     "data": {
      "image/png": "[encoded data removed]",
      "text/plain": [
       "<Figure size 432x288 with 1 Axes>"
      ]
     },
     "metadata": {
      "needs_background": "light"
     },
     "output_type": "display_data"
    }
   ],
   "source": [
    "_ = plot_by_id(dataid)"
   ]
  }
 ],
 "metadata": {
  "kernelspec": {
   "display_name": "Python 3",
   "language": "python",
   "name": "python3"
  },
  "language_info": {
   "codemirror_mode": {
    "name": "ipython",
    "version": 3
   },
   "file_extension": ".py",
   "mimetype": "text/x-python",
   "name": "python",
   "nbconvert_exporter": "python",
   "pygments_lexer": "ipython3",
   "version": "3.6.8"
  },
  "toc": {
   "base_numbering": 1,
   "nav_menu": {},
   "number_sections": true,
   "sideBar": true,
   "skip_h1_title": false,
   "title_cell": "Table of Contents",
   "title_sidebar": "Contents",
   "toc_cell": false,
   "toc_position": {},
   "toc_section_display": true,
   "toc_window_display": false
  },
  "varInspector": {
   "cols": {
    "lenName": 16,
    "lenType": 16,
    "lenVar": 40
   },
   "kernels_config": {
    "python": {
     "delete_cmd_postfix": "",
     "delete_cmd_prefix": "del ",
     "library": "var_list.py",
     "varRefreshCmd": "print(var_dic_list())"
    },
    "r": {
     "delete_cmd_postfix": ") ",
     "delete_cmd_prefix": "rm(",
     "library": "var_list.r",
     "varRefreshCmd": "cat(var_dic_list()) "
    }
   },
   "types_to_exclude": [
    "module",
    "function",
    "builtin_function_or_method",
    "instance",
    "_Feature"
   ],
   "window_display": false
  }
 },
 "nbformat": 4,
 "nbformat_minor": 2
}
