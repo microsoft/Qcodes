{
 "cells": [
  {
   "cell_type": "markdown",
   "metadata": {},
   "source": [
    "# Example Notebook for Keysight Network Analyzers\n",
    "\n",
    "This notebook is indendet to give an overview over the functions implemented in the QCoDeS driver for the Keysight network analyzers. The driver is implemented to be generic as possible, with individual instrument drivers filling in only the hardware limits of the instrument, so although this example uses the N5245A or N5222B, the concepts and code should work for any keysight network analyzer."
   ]
  },
  {
   "cell_type": "code",
   "execution_count": 1,
   "metadata": {},
   "outputs": [],
   "source": [
    "%matplotlib inline"
   ]
  },
  {
   "cell_type": "code",
   "execution_count": 2,
   "metadata": {},
   "outputs": [
    {
     "name": "stdout",
     "output_type": "stream",
     "text": [
      "Experiment loaded. Last ID no: 65\n"
     ]
    }
   ],
   "source": [
    "# Import Dependencies\n",
    "\n",
    "import logging\n",
    "import matplotlib.pyplot as plt\n",
    "\n",
    "# qcodes imports\n",
    "import qcodes as qc\n",
    "from qcodes.dataset.experiment_container import new_experiment, load_experiment_by_name\n",
    "from qcodes.dataset.measurements import Measurement\n",
    "from qcodes.dataset.plotting import plot_by_id\n",
    "from qcodes.instrument_drivers.Keysight.N5245A import N5245A \n",
    "from qcodes.instrument_drivers.Keysight.N5222B import N5222B\n",
    "\n",
    "#setup\n",
    "logger = logging.getLogger()\n",
    "logger.setLevel(logging.DEBUG)\n",
    "\n",
    "# Start experiment\n",
    "exp_name = 'PNA_Example'\n",
    "sample_name = 'Thru_Coax'\n",
    "try:\n",
    "    exp = load_experiment_by_name(exp_name, sample=sample_name)\n",
    "    print('Experiment loaded. Last ID no:', exp.last_counter)\n",
    "except ValueError:\n",
    "    exp = new_experiment(exp_name, sample_name)\n",
    "    print('Starting new experiment.')"
   ]
  },
  {
   "cell_type": "markdown",
   "metadata": {},
   "source": [
    "## Connect to the instrument\n",
    "\n",
    "You will have to insert the correct VISA address for your PNA below. Two examples are given below. Uncomment the appropriate line "
   ]
  },
  {
   "cell_type": "code",
   "execution_count": 3,
   "metadata": {},
   "outputs": [
    {
     "name": "stdout",
     "output_type": "stream",
     "text": [
      "Connected to: Keysight Technologies N5222B (serial:MY57041028, firmware:A.13.25.04) in 0.56s\n"
     ]
    }
   ],
   "source": [
    "pna = N5222B(\"pna\", \"TCPIP0::B4801-CTW-PNA1.local::inst0::INSTR\")"
   ]
  },
  {
   "cell_type": "markdown",
   "metadata": {},
   "source": [
    "## Windows \n",
    "\n",
    "Lets get a list of all windows on the instrument "
   ]
  },
  {
   "cell_type": "code",
   "execution_count": 4,
   "metadata": {},
   "outputs": [
    {
     "data": {
      "text/plain": [
       "ChannelList(<N5222B: pna>, N52xxWindow, [])"
      ]
     },
     "execution_count": 4,
     "metadata": {},
     "output_type": "execute_result"
    }
   ],
   "source": [
    "pna.windows"
   ]
  },
  {
   "cell_type": "markdown",
   "metadata": {},
   "source": [
    "Add a window. Check the instrument display; you should see a new window without traces "
   ]
  },
  {
   "cell_type": "code",
   "execution_count": 5,
   "metadata": {},
   "outputs": [
    {
     "data": {
      "text/plain": [
       "<N52xxWindow: pna_window1 of N5222B: pna>"
      ]
     },
     "execution_count": 5,
     "metadata": {},
     "output_type": "execute_result"
    }
   ],
   "source": [
    "pna.windows.add()"
   ]
  },
  {
   "cell_type": "code",
   "execution_count": 6,
   "metadata": {},
   "outputs": [
    {
     "data": {
      "text/plain": [
       "ChannelList(<N5222B: pna>, N52xxWindow, [<N52xxWindow: pna_window1 of N5222B: pna>])"
      ]
     },
     "execution_count": 6,
     "metadata": {},
     "output_type": "execute_result"
    }
   ],
   "source": [
    "pna.windows"
   ]
  },
  {
   "cell_type": "markdown",
   "metadata": {},
   "source": [
    "Delete the newest windows "
   ]
  },
  {
   "cell_type": "code",
   "execution_count": 7,
   "metadata": {},
   "outputs": [
    {
     "data": {
      "text/plain": [
       "ChannelList(<N5222B: pna>, N52xxWindow, [])"
      ]
     },
     "execution_count": 7,
     "metadata": {},
     "output_type": "execute_result"
    }
   ],
   "source": [
    "window = pna.windows[-1]\n",
    "window.delete()\n",
    "pna.windows"
   ]
  },
  {
   "cell_type": "code",
   "execution_count": 8,
   "metadata": {},
   "outputs": [
    {
     "name": "stdout",
     "output_type": "stream",
     "text": [
      "Deleted channel object cannot communicate with the instrument!\n",
      "Object does not exist (anymore) on the instrument\n"
     ]
    }
   ],
   "source": [
    "try: \n",
    "    window.ask(\"\")\n",
    "except RuntimeError as err: \n",
    "    print(\"Deleted channel object cannot communicate with the instrument!\")\n",
    "    print(err)"
   ]
  },
  {
   "cell_type": "markdown",
   "metadata": {},
   "source": [
    "## Channels \n",
    "\n",
    "The same mechanism as above works for traces and channels "
   ]
  },
  {
   "cell_type": "code",
   "execution_count": 4,
   "metadata": {},
   "outputs": [
    {
     "data": {
      "text/plain": [
       "ChannelList(<N5222B: pna>, N52xxChannel, [<N52xxChannel: pna_channel1 of N5222B: pna>, <N52xxChannel: pna_channel2 of N5222B: pna>])"
      ]
     },
     "execution_count": 4,
     "metadata": {},
     "output_type": "execute_result"
    }
   ],
   "source": [
    "# list channels \n",
    "pna.channels"
   ]
  },
  {
   "cell_type": "code",
   "execution_count": 5,
   "metadata": {},
   "outputs": [
    {
     "name": "stderr",
     "output_type": "stream",
     "text": [
      "Command CALC3:MEAS1:DEF 'S11' produced error +3003,\"The specified measurement number is already in use.\"\n"
     ]
    },
    {
     "data": {
      "text/plain": [
       "<N52xxChannel: pna_channel3 of N5222B: pna>"
      ]
     },
     "execution_count": 5,
     "metadata": {},
     "output_type": "execute_result"
    }
   ],
   "source": [
    "pna.channels.add()"
   ]
  },
  {
   "cell_type": "code",
   "execution_count": 20,
   "metadata": {},
   "outputs": [
    {
     "data": {
      "text/plain": [
       "ChannelList(<N5222B: pna>, N52xxChannel, [<N52xxChannel: pna_channel1 of N5222B: pna>])"
      ]
     },
     "execution_count": 20,
     "metadata": {},
     "output_type": "execute_result"
    }
   ],
   "source": [
    "pna.channels"
   ]
  },
  {
   "cell_type": "markdown",
   "metadata": {},
   "source": [
    "## Traces \n",
    "\n",
    "Traces are listed in channels "
   ]
  },
  {
   "cell_type": "code",
   "execution_count": 21,
   "metadata": {},
   "outputs": [
    {
     "data": {
      "text/plain": [
       "ChannelList(<N52xxChannel: pna_channel1 of N5222B: pna>, N52xxTrace, [])"
      ]
     },
     "execution_count": 21,
     "metadata": {},
     "output_type": "execute_result"
    }
   ],
   "source": [
    "pna.channels[0].traces"
   ]
  },
  {
   "cell_type": "code",
   "execution_count": 22,
   "metadata": {},
   "outputs": [
    {
     "data": {
      "text/plain": [
       "<N52xxTrace: pna_channel2_S23 of N52xxChannel: pna_channel2>"
      ]
     },
     "execution_count": 22,
     "metadata": {},
     "output_type": "execute_result"
    }
   ],
   "source": [
    "pna.channels.add()\n",
    "pna.channels[1].traces.add(trace_type=\"S23\")"
   ]
  },
  {
   "cell_type": "code",
   "execution_count": 23,
   "metadata": {},
   "outputs": [
    {
     "data": {
      "text/plain": [
       "ChannelList(<N52xxChannel: pna_channel2 of N5222B: pna>, N52xxTrace, [<N52xxTrace: pna_channel2_S23 of N52xxChannel: pna_channel2>])"
      ]
     },
     "execution_count": 23,
     "metadata": {},
     "output_type": "execute_result"
    }
   ],
   "source": [
    "pna.channels[1].traces"
   ]
  },
  {
   "cell_type": "markdown",
   "metadata": {},
   "source": [
    "## Measurements"
   ]
  },
  {
   "cell_type": "code",
   "execution_count": 24,
   "metadata": {},
   "outputs": [
    {
     "data": {
      "text/plain": [
       "ChannelList(<N5222B: pna>, N52xxMeasurement, [<N52xxMeasurement: pna_measurement1 of N5222B: pna>, <N52xxMeasurement: pna_measurement1 of N5222B: pna>, <N52xxMeasurement: pna_measurement2 of N5222B: pna>])"
      ]
     },
     "execution_count": 24,
     "metadata": {},
     "output_type": "execute_result"
    }
   ],
   "source": [
    "pna.measurements"
   ]
  },
  {
   "cell_type": "code",
   "execution_count": 25,
   "metadata": {},
   "outputs": [
    {
     "data": {
      "text/plain": [
       "<N52xxMeasurement: pna_measurement4 of N5222B: pna>"
      ]
     },
     "execution_count": 25,
     "metadata": {},
     "output_type": "execute_result"
    }
   ],
   "source": [
    "pna.measurements.add(channel=1, meas_type=\"S11\")"
   ]
  },
  {
   "cell_type": "code",
   "execution_count": 27,
   "metadata": {},
   "outputs": [
    {
     "data": {
      "text/plain": [
       "ChannelList(<N5222B: pna>, N52xxMeasurement, [<N52xxMeasurement: pna_measurement1 of N5222B: pna>, <N52xxMeasurement: pna_measurement1 of N5222B: pna>, <N52xxMeasurement: pna_measurement2 of N5222B: pna>, <N52xxMeasurement: pna_measurement4 of N5222B: pna>])"
      ]
     },
     "execution_count": 27,
     "metadata": {},
     "output_type": "execute_result"
    }
   ],
   "source": [
    "pna.measurements"
   ]
  },
  {
   "cell_type": "code",
   "execution_count": 7,
   "metadata": {},
   "outputs": [],
   "source": [
    "def reset_instrument(): \n",
    "    # Start over: delete all traces, channels and windows \n",
    "\n",
    "    pna.reset_instrument()\n",
    "    \n",
    "    for window in pna.windows: \n",
    "        window.delete()\n",
    "\n",
    "    for channel in pna.channels: \n",
    "        # traces and measurement on the channels are \n",
    "        # deleted by the instrument \n",
    "        channel.delete()"
   ]
  },
  {
   "cell_type": "markdown",
   "metadata": {},
   "source": [
    "## Simple Measurements\n",
    "\n",
    "We can very easily set up measurements and pull, for example, magnitude data off the PNA. A channel to add a trace will automatically be added "
   ]
  },
  {
   "cell_type": "code",
   "execution_count": 8,
   "metadata": {},
   "outputs": [],
   "source": [
    "reset_instrument()"
   ]
  },
  {
   "cell_type": "code",
   "execution_count": 9,
   "metadata": {},
   "outputs": [
    {
     "data": {
      "text/plain": [
       "ChannelList(<N5222B: pna>, N52xxWindow, [])"
      ]
     },
     "execution_count": 9,
     "metadata": {},
     "output_type": "execute_result"
    }
   ],
   "source": [
    "pna.windows"
   ]
  },
  {
   "cell_type": "code",
   "execution_count": 6,
   "metadata": {},
   "outputs": [],
   "source": [
    "fstart = 10e6  # Hz\n",
    "fstop = 18e9 # Hz \n",
    "points = 1001\n",
    "power = 10 # dB"
   ]
  },
  {
   "cell_type": "code",
   "execution_count": 7,
   "metadata": {},
   "outputs": [],
   "source": [
    "channel = pna.channels.add()\n",
    "trace = channel.traces.add(trace_type=\"S22\")"
   ]
  },
  {
   "cell_type": "code",
   "execution_count": 8,
   "metadata": {},
   "outputs": [],
   "source": [
    "window = pna.windows.add()\n",
    "window.add_trace(trace)"
   ]
  },
  {
   "cell_type": "code",
   "execution_count": 22,
   "metadata": {},
   "outputs": [],
   "source": [
    "pna.trigger_source(\"IMM\")"
   ]
  },
  {
   "cell_type": "code",
   "execution_count": 9,
   "metadata": {},
   "outputs": [
    {
     "name": "stdout",
     "output_type": "stream",
     "text": [
      "Starting experimental run with id: 132\n"
     ]
    },
    {
     "data": {
      "text/plain": [
       "([<matplotlib.axes._subplots.AxesSubplot at 0x216ec99ac18>], [None])"
      ]
     },
     "execution_count": 9,
     "metadata": {},
     "output_type": "execute_result"
    },
    {
     "data": {
      "image/png": "[encoded data removed]",
      "text/plain": [
       "<matplotlib.figure.Figure at 0x216ec513710>"
      ]
     },
     "metadata": {},
     "output_type": "display_data"
    }
   ],
   "source": [
    "# Set up a frequency sweep from 100 MHz to 1 GHz, with 1001 points, at a power of -40dBm\n",
    "channel.power(power)\n",
    "channel.start(fstart)\n",
    "channel.stop(fstop)\n",
    "channel.points(points)\n",
    "\n",
    "# Enable 2 averages, and set IF BW to 1kHz\n",
    "channel.if_bandwidth(1e3)\n",
    "channel.averages_enabled(True)\n",
    "channel.averages(2) # alternatively, we can give the number of averages when calling \"run_sweep\"\n",
    "\n",
    "# Run a measurement\n",
    "meas = Measurement()\n",
    "meas.register_parameter(trace.magnitude)\n",
    "\n",
    "with meas.run() as datasaver:\n",
    "    trace.select()  # make sure the proper trace is selected\n",
    "    channel.run_sweep(averages=2)  \n",
    "    # Unlike with the previous driver, there is no \"auto_sweep\", \n",
    "    # so we *always* explicitely call 'run_sweep'\n",
    "    \n",
    "    mag = trace.magnitude()\n",
    "    datasaver.add_result((trace.magnitude, mag))\n",
    "    dataid = datasaver.run_id\n",
    "plot_by_id(dataid)"
   ]
  },
  {
   "cell_type": "code",
   "execution_count": 25,
   "metadata": {},
   "outputs": [
    {
     "data": {
      "text/plain": [
       "'HOLD\\n'"
      ]
     },
     "execution_count": 25,
     "metadata": {},
     "output_type": "execute_result"
    }
   ],
   "source": [
    "channel.sweep_mode()"
   ]
  },
  {
   "cell_type": "code",
   "execution_count": 14,
   "metadata": {},
   "outputs": [
    {
     "data": {
      "text/plain": [
       "'IMM\\n'"
      ]
     },
     "execution_count": 14,
     "metadata": {},
     "output_type": "execute_result"
    }
   ],
   "source": [
    "pna.trigger_source()"
   ]
  },
  {
   "cell_type": "code",
   "execution_count": 25,
   "metadata": {},
   "outputs": [
    {
     "data": {
      "text/plain": [
       "[<Trace Type: S21>, <Trace Type: S22>]"
      ]
     },
     "execution_count": 25,
     "metadata": {},
     "output_type": "execute_result"
    }
   ],
   "source": [
    "pna.traces"
   ]
  },
  {
   "cell_type": "markdown",
   "metadata": {},
   "source": [
    "## Simple measurements, the complicated way \n",
    "\n",
    "Alternatively, we can add a channel to manually and add the channel to a window. This is more verbose but allows us to add traces to more then one channel  "
   ]
  },
  {
   "cell_type": "code",
   "execution_count": 8,
   "metadata": {},
   "outputs": [],
   "source": [
    "reset_instrument()"
   ]
  },
  {
   "cell_type": "code",
   "execution_count": 9,
   "metadata": {},
   "outputs": [
    {
     "name": "stdout",
     "output_type": "stream",
     "text": [
      "Starting experimental run with id: 117\n"
     ]
    },
    {
     "data": {
      "text/plain": [
       "([<matplotlib.axes._subplots.AxesSubplot at 0x149f16df940>], [None])"
      ]
     },
     "execution_count": 9,
     "metadata": {},
     "output_type": "execute_result"
    },
    {
     "data": {
      "image/png": "[encoded data removed]",
      "text/plain": [
       "<matplotlib.figure.Figure at 0x149f384cef0>"
      ]
     },
     "metadata": {},
     "output_type": "display_data"
    }
   ],
   "source": [
    "window = pna.add_window()\n",
    "channel = pna.add_channel()\n",
    "\n",
    "trace_s21 = channel.add_trace(\"S21\")  \n",
    "window.add_channel(channel) # This will make our trace show up on the instrument display \n",
    "\n",
    "channel.power(power)\n",
    "channel.start(fstart)\n",
    "channel.stop(fstop)\n",
    "channel.points(points)\n",
    "\n",
    "# Enable 2 averages, and set IF BW to 1kHz\n",
    "channel.if_bandwidth(1e3)\n",
    "channel.averages_enabled(True)\n",
    "channel.averages(2)\n",
    "\n",
    "meas = Measurement()\n",
    "meas.register_parameter(trace_s21.magnitude)\n",
    "\n",
    "with meas.run() as datasaver:\n",
    "    channel.run_sweep()\n",
    "    \n",
    "    mag = trace_s21.magnitude()\n",
    "    datasaver.add_result((trace_s21.magnitude, mag))\n",
    "    dataid = datasaver.run_id\n",
    "plot_by_id(dataid)"
   ]
  },
  {
   "cell_type": "markdown",
   "metadata": {},
   "source": [
    "### What is going on behind the scenes\n",
    "\n",
    "Measurement traces always belong to channels. In the previous driver, the channel was always assumed to be channel 1; this was hard coded. The new driver is more flexible and can add traces to other channels. \n",
    "\n",
    "For backward compatibility, whenever we access a channel attribute, such as `power`, `start` or `stop` and no channel has been created yet on the instrument, a channel is created on the fly. "
   ]
  },
  {
   "cell_type": "code",
   "execution_count": 10,
   "metadata": {},
   "outputs": [],
   "source": [
    "reset_instrument()"
   ]
  },
  {
   "cell_type": "code",
   "execution_count": 11,
   "metadata": {},
   "outputs": [
    {
     "data": {
      "text/plain": [
       "[]"
      ]
     },
     "execution_count": 11,
     "metadata": {},
     "output_type": "execute_result"
    }
   ],
   "source": [
    "pna.channel  # There should be no channels "
   ]
  },
  {
   "cell_type": "code",
   "execution_count": 12,
   "metadata": {},
   "outputs": [],
   "source": [
    "pna.power(power) # This will implicitely create a channel and set its power correctly "
   ]
  },
  {
   "cell_type": "code",
   "execution_count": 13,
   "metadata": {},
   "outputs": [
    {
     "data": {
      "text/plain": [
       "[<Channel type <N5222B: pna>: 1>]"
      ]
     },
     "execution_count": 13,
     "metadata": {},
     "output_type": "execute_result"
    }
   ],
   "source": [
    "pna.channel  # One channel should have been added "
   ]
  },
  {
   "cell_type": "code",
   "execution_count": 19,
   "metadata": {},
   "outputs": [
    {
     "data": {
      "text/plain": [
       "True"
      ]
     },
     "execution_count": 19,
     "metadata": {},
     "output_type": "execute_result"
    }
   ],
   "source": [
    "pna.selected_channel is pna.channel[0]  # Ways we can access the implicitely created channel "
   ]
  },
  {
   "cell_type": "code",
   "execution_count": 18,
   "metadata": {},
   "outputs": [
    {
     "data": {
      "text/plain": [
       "True"
      ]
     },
     "execution_count": 18,
     "metadata": {},
     "output_type": "execute_result"
    }
   ],
   "source": [
    "pna.selected_channel.power() == power"
   ]
  },
  {
   "cell_type": "markdown",
   "metadata": {},
   "source": [
    "With other words, `pna.power(power), channel=pna.selected_channel` is equivalent to `channel = pna.add_channel(), channel.power(power)`. This maintains backward compatibility with the old way of working "
   ]
  },
  {
   "cell_type": "markdown",
   "metadata": {},
   "source": [
    "## Multiple Traces\n",
    "\n",
    "We can also read multiple traces off the PNA at once. For example if the PNA is set up such that:\n",
    " - Trace 1 is S21\n",
    " - Trace 2 is S11\n",
    " - Trace 3 is S12\n",
    " - Trace 4 is S22\n",
    " \n",
    "we can read these off simultaneously as follows:"
   ]
  },
  {
   "cell_type": "code",
   "execution_count": 26,
   "metadata": {},
   "outputs": [
    {
     "data": {
      "text/plain": [
       "<Trace Type: S22>"
      ]
     },
     "execution_count": 26,
     "metadata": {},
     "output_type": "execute_result"
    }
   ],
   "source": [
    "# We can set the PNA up manually, but here we decide to define them programatically\n",
    "# If we do this manually, please add the traces on the correct channel \n",
    "pna.add_trace(\"S21\")\n",
    "pna.add_trace(\"S11\")\n",
    "pna.add_trace(\"S12\")\n",
    "pna.add_trace(\"S22\")"
   ]
  },
  {
   "cell_type": "code",
   "execution_count": 27,
   "metadata": {},
   "outputs": [
    {
     "data": {
      "text/plain": [
       "[<Trace Type: S21>, <Trace Type: S22>, <Trace Type: S11>, <Trace Type: S12>]"
      ]
     },
     "execution_count": 27,
     "metadata": {},
     "output_type": "execute_result"
    }
   ],
   "source": [
    "pna.traces"
   ]
  },
  {
   "cell_type": "code",
   "execution_count": 28,
   "metadata": {},
   "outputs": [
    {
     "name": "stdout",
     "output_type": "stream",
     "text": [
      "Starting experimental run with id: 119\n"
     ]
    },
    {
     "data": {
      "text/plain": [
       "([<matplotlib.axes._subplots.AxesSubplot at 0x149f49a2f60>,\n",
       "  <matplotlib.axes._subplots.AxesSubplot at 0x149f4b01080>,\n",
       "  <matplotlib.axes._subplots.AxesSubplot at 0x149f49caf98>,\n",
       "  <matplotlib.axes._subplots.AxesSubplot at 0x149f4a902b0>],\n",
       " [None, None, None, None])"
      ]
     },
     "execution_count": 28,
     "metadata": {},
     "output_type": "execute_result"
    },
    {
     "data": {
      "image/png": "[encoded data removed]",
      "text/plain": [
       "<matplotlib.figure.Figure at 0x149f48da860>"
      ]
     },
     "metadata": {},
     "output_type": "display_data"
    },
    {
     "data": {
      "image/png": "[encoded data removed]",
      "text/plain": [
       "<matplotlib.figure.Figure at 0x149f4b03860>"
      ]
     },
     "metadata": {},
     "output_type": "display_data"
    },
    {
     "data": {
      "image/png": "[encoded data removed]",
      "text/plain": [
       "<matplotlib.figure.Figure at 0x149f49ca7b8>"
      ]
     },
     "metadata": {},
     "output_type": "display_data"
    },
    {
     "data": {
      "image/png": "[encoded data removed]",
      "text/plain": [
       "<matplotlib.figure.Figure at 0x149f4a84a90>"
      ]
     },
     "metadata": {},
     "output_type": "display_data"
    }
   ],
   "source": [
    "# Update the list of traces\n",
    "traces = pna.traces\n",
    "\n",
    "# Run a measurement\n",
    "meas = Measurement()\n",
    "\n",
    "meas.register_parameter(traces[0].magnitude) # Note: The new driver does not have an interface 'pna.traces.tr1' etc. \n",
    "meas.register_parameter(traces[1].magnitude)\n",
    "meas.register_parameter(traces[2].magnitude)\n",
    "meas.register_parameter(traces[3].magnitude)\n",
    "\n",
    "with meas.run() as datasaver:\n",
    "    pna.run_sweep() # Ask the PNA to take a measurement\n",
    "    data = []\n",
    "    for trace in traces:\n",
    "        mag = trace.magnitude()\n",
    "        data.append((trace.magnitude, mag))\n",
    "    datasaver.add_result(*data)\n",
    "    dataid = datasaver.run_id\n",
    "plot_by_id(dataid)"
   ]
  },
  {
   "cell_type": "code",
   "execution_count": 15,
   "metadata": {},
   "outputs": [],
   "source": [
    "# Set the PNA back into continuous sweep mode\n",
    "pna.sweep_mode(\"CONT\")"
   ]
  },
  {
   "cell_type": "code",
   "execution_count": null,
   "metadata": {},
   "outputs": [],
   "source": []
  }
 ],
 "metadata": {
  "kernelspec": {
   "display_name": "Python 3",
   "language": "python",
   "name": "python3"
  },
  "language_info": {
   "codemirror_mode": {
    "name": "ipython",
    "version": 3
   },
   "file_extension": ".py",
   "mimetype": "text/x-python",
   "name": "python",
   "nbconvert_exporter": "python",
   "pygments_lexer": "ipython3",
   "version": "3.6.6"
  }
 },
 "nbformat": 4,
 "nbformat_minor": 2
}
