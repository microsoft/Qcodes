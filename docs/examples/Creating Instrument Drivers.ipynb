{
 "cells": [
  {
   "cell_type": "markdown",
   "metadata": {
    "deletable": true,
    "editable": true
   },
   "source": [
    "# Creating QCoDeS instrument drivers"
   ]
  },
  {
   "cell_type": "code",
   "execution_count": 1,
   "metadata": {
    "collapsed": true,
    "deletable": true,
    "editable": true
   },
   "outputs": [],
   "source": [
    "# most of the drivers only need a couple of these... moved all up here for clarity below\n",
    "from time import sleep, time\n",
    "import numpy as np\n",
    "import ctypes  # only for DLL-based instrument\n",
    "\n",
    "import qcodes as qc\n",
    "from qcodes import (Instrument, VisaInstrument,\n",
    "                    ManualParameter, MultiParameter,\n",
    "                    validators as vals)"
   ]
  },
  {
   "cell_type": "markdown",
   "metadata": {
    "deletable": true,
    "editable": true
   },
   "source": [
    "## Base Classes\n",
    "\n",
    "There are 3 available:\n",
    "- `VisaInstrument` - for most instruments that communicate over a text channel (ethernet, GPIB, serial, USB...) that do not have a custom DLL or other driver to manage low-level commands.\n",
    "- `IPInstrument` - a specialized driver just for ethernet connections. Otherwise works nearly identically to `VisaInstrument`.\n",
    "- `Instrument` - superclass of both `VisaInstrument` and `IPInstrument`, use this if you do not communicate over a text channel, for example:\n",
    "  - PCI cards with their own DLLs\n",
    "  - Instruments with only manual controls."
   ]
  },
  {
   "cell_type": "markdown",
   "metadata": {
    "deletable": true,
    "editable": true
   },
   "source": [
    "## VisaInstrument: Simple example\n",
    "The Weinschel 8320 driver is about as basic a driver as you can get. It only defines one parameter, \"attenuation\". All the comments here are my additions to describe what's happening."
   ]
  },
  {
   "cell_type": "code",
   "execution_count": 2,
   "metadata": {
    "collapsed": true,
    "deletable": true,
    "editable": true
   },
   "outputs": [],
   "source": [
    "class Weinschel_8320(VisaInstrument):\n",
    "    \"\"\"\n",
    "    QCoDeS driver for the stepped attenuator\n",
    "    Weinschel is formerly known as Aeroflex/Weinschel\n",
    "    \"\"\"\n",
    "\n",
    "    # all instrument constructors should accept **kwargs and pass them on to\n",
    "    # super().__init__. This is important for the deprecated multiprocessing\n",
    "    # architecture, so may change in the near future.\n",
    "    def __init__(self, name, address, **kwargs):\n",
    "        # supplying the terminator means you don't need to remove it from every response\n",
    "        super().__init__(name, address, terminator='\\r', **kwargs)\n",
    "\n",
    "        self.add_parameter('attenuation', units='dB',\n",
    "                           # the value you set will be inserted in this command with\n",
    "                           # regular python string substitution. The instrument wants\n",
    "                           # an integer zero-padded to 2 digits. For robustness, don't\n",
    "                           # assume you'll get an integer input though - try to allow\n",
    "                           # floats (as opposed to {:0=2d})\n",
    "                           set_cmd='ATTN ALL {:02.0f}',\n",
    "                           get_cmd='ATTN? 1',\n",
    "                           # setting any attenuation other than 0, 2, ... 60 will error.\n",
    "                           vals=vals.Enum(*np.arange(0, 60.1, 2).tolist()),\n",
    "                           # the return value of get() is a string, but we want to\n",
    "                           # turn it into a (float) number\n",
    "                           get_parser=float)\n",
    "\n",
    "        # it's a good idea to call connect_message at the end of your constructor.\n",
    "        # this calls the 'IDN' parameter that the base Instrument class creates for\n",
    "        # every instrument (you can override the `get_idn` method if it doesn't work\n",
    "        # in the standard VISA form for your instrument) which serves two purposes:\n",
    "        # 1) verifies that you are connected to the instrument\n",
    "        # 2) gets the ID info so it will be included with metadata snapshots later.\n",
    "        self.connect_message()\n",
    "\n",
    "# instantiating and using this instrument (commented out because I can't actually do it!)\n",
    "#\n",
    "# from qcodes.instrument_drivers.weinschel.Weinschel_8320 import Weinschel_8320\n",
    "# weinschel = Weinschel_8320('w8320_1', 'TCPIP0::172.20.2.212::inst0::INSTR')\n",
    "# weinschel.attenuation(40)"
   ]
  },
  {
   "cell_type": "markdown",
   "metadata": {
    "deletable": true,
    "editable": true
   },
   "source": [
    "## VisaInstrument: a more involved example\n",
    "the K2600 breaks one physical instrument into two software instruments, one for each channel. It:\n",
    "- has a custom IDN parser\n",
    "- transforms the ask and write commands to simplify them and insert the channel.\n",
    "- demonstrates `val_mapping` for bidirectional encoding of enumerated parameters\n",
    "\n",
    "I've removed some parameters for brevity.\n",
    "\n",
    "Note the nice docstring that describes the status of the code!"
   ]
  },
  {
   "cell_type": "code",
   "execution_count": 3,
   "metadata": {
    "collapsed": true,
    "deletable": true,
    "editable": true
   },
   "outputs": [],
   "source": [
    "class Keithley_2600(VisaInstrument):\n",
    "    \"\"\"\n",
    "    channel: use channel 'a' or 'b'\n",
    "\n",
    "    This is the qcodes driver for the Keithley_2600 Source-Meter series,\n",
    "    tested with Keithley_2614B\n",
    "\n",
    "    Status: beta-version.\n",
    "        TODO:\n",
    "        - Add all parameters that are in the manual\n",
    "        - range and limit should be set according to mode\n",
    "        - add ramping and such stuff\n",
    "\n",
    "    \"\"\"\n",
    "    def __init__(self, name, address, channel, **kwargs):\n",
    "        super().__init__(name, address, terminator='\\n', **kwargs)\n",
    "        self._channel = channel\n",
    "\n",
    "        self.add_parameter('volt', get_cmd='measure.v()',\n",
    "                           get_parser=float, set_cmd='source.levelv={:.8f}',\n",
    "                           label='Voltage',\n",
    "                           units='V')\n",
    "        self.add_parameter('curr', get_cmd='measure.i()',\n",
    "                           get_parser=float, set_cmd='source.leveli={:.8f}',\n",
    "                           label='Current',\n",
    "                           units='A')\n",
    "        self.add_parameter('mode',\n",
    "                           get_cmd='source.func',\n",
    "                           set_cmd='source.func={:d}',\n",
    "                           # the K2600 interprets '0' as current and '1' as voltage\n",
    "                           # but we want to type: k2600a.mode('current'), not .mode(0)\n",
    "                           # val_mapping describes, all in one dictionary:\n",
    "                           # - the valid set values ('current' and 'voltage')\n",
    "                           # - the encoding to instrument codes (current->0, voltage->1)\n",
    "                           # - the decoding back to parameter values (0->current, 1->voltage)\n",
    "                           # `ask` returns a string, but because integer encodings are so\n",
    "                           # common we automatically check if the string is an integer\n",
    "                           # when you use val_mapping\n",
    "                           val_mapping={'current': 0, 'voltage': 1})\n",
    "        self.add_parameter('output',\n",
    "                           get_cmd='source.output',\n",
    "                           set_cmd='source.output={:d}',\n",
    "                           # output on/off has another val_mapping\n",
    "                           val_mapping={'on':  1, 'off': 0})\n",
    "\n",
    "        self.connect_message()\n",
    "\n",
    "    def get_idn(self):\n",
    "        IDN = self.ask_raw('*IDN?')\n",
    "        vendor, model, serial, firmware = map(str.strip, IDN.split(','))\n",
    "        model = model[6:]\n",
    "\n",
    "        IDN = {'vendor': vendor, 'model': model,\n",
    "               'serial': serial, 'firmware': firmware}\n",
    "        return IDN\n",
    "\n",
    "    # Reset method. Since this is a simple command to write, this could also have been:\n",
    "    # self.add_function('reset', call_cmd='reset()')\n",
    "    def reset(self):\n",
    "        self.write('reset()')\n",
    "\n",
    "    # transformation of ask and write commands. From the Instrument.ask docstring:\n",
    "    # Subclasses that transform ``cmd`` should override ``ask``, and in\n",
    "    # it call ``super().ask(new_cmd)``. Subclasses that define a new\n",
    "    # hardware communication should instead override ``ask_raw``.\n",
    "    def ask(self, cmd):\n",
    "        return super().ask('print(smu{:s}.{:s})'.format(self._channel, cmd))\n",
    "\n",
    "    def write(self, cmd):\n",
    "        super().write('smu{:s}.{:s}'.format(self._channel, cmd))"
   ]
  },
  {
   "cell_type": "markdown",
   "metadata": {
    "deletable": true,
    "editable": true
   },
   "source": [
    "## DLL-based instruments\n",
    "The Alazar cards use their own DLL. C interfaces tend to need a lot of boilerplate, so I'm not going to include it all. The key is: use `Instrument` directly, load the DLL, and have parameters interact with it."
   ]
  },
  {
   "cell_type": "code",
   "execution_count": 4,
   "metadata": {
    "collapsed": true,
    "deletable": true,
    "editable": true
   },
   "outputs": [],
   "source": [
    "class AlazarTech_ATS(Instrument):\n",
    "    dll_path = 'C:\\\\WINDOWS\\\\System32\\\\ATSApi'\n",
    "    def __init__(self, name, system_id=1, board_id=1, dll_path=None, **kwargs):\n",
    "        super().__init__(name, **kwargs)\n",
    "        \n",
    "        # connect to the DLL\n",
    "        self._ATS_dll = ctypes.cdll.LoadLibrary(dll_path or self.dll_path)\n",
    "\n",
    "        self._handle = self._ATS_dll.AlazarGetBoardBySystemID(system_id,\n",
    "                                                              board_id)\n",
    "        if not self._handle:\n",
    "            raise Exception('AlazarTech_ATS not found at '\n",
    "                            'system {}, board {}'.format(system_id, board_id))\n",
    "\n",
    "        self.buffer_list = []\n",
    "        \n",
    "        # the Alazar driver includes its own parameter class to hold values\n",
    "        # until later config is called, and warn if you try to read a value\n",
    "        # that hasn't been sent to config.\n",
    "        self.add_parameter(name='clock_source',\n",
    "                           parameter_class=AlazarParameter,\n",
    "                           label='Clock Source',\n",
    "                           unit=None,\n",
    "                           value='INTERNAL_CLOCK',\n",
    "                           byte_to_value_dict={1: 'INTERNAL_CLOCK',\n",
    "                                               4: 'SLOW_EXTERNAL_CLOCK',\n",
    "                                               5: 'EXTERNAL_CLOCK_AC',\n",
    "                                               7: 'EXTERNAL_CLOCK_10_MHz_REF'})\n",
    "        \n",
    "        # etc..."
   ]
  },
  {
   "cell_type": "markdown",
   "metadata": {
    "deletable": true,
    "editable": true
   },
   "source": [
    "## Manual instruments\n",
    "A totally manual instrument (like the ithaco 1211) will contain only `ManualParameter`s. Some instruments may have a mix of manual and standard parameters. Here we also define a new `CurrentParameter` class that uses the ithaco parameters to convert a measured voltage to a current."
   ]
  },
  {
   "cell_type": "code",
   "execution_count": 5,
   "metadata": {
    "collapsed": false,
    "deletable": true,
    "editable": true
   },
   "outputs": [],
   "source": [
    "class CurrentParameter(MultiParameter):\n",
    "    \"\"\"\n",
    "    Current measurement via an Ithaco preamp and a measured voltage.\n",
    "\n",
    "    To be used when you feed a current into the Ithaco, send the Ithaco's\n",
    "    output voltage to a lockin or other voltage amplifier, and you have\n",
    "    the voltage reading from that amplifier as a qcodes parameter.\n",
    "\n",
    "    ``CurrentParameter.get()`` returns ``(voltage_raw, current)``\n",
    "\n",
    "    Args:\n",
    "        measured_param (Parameter): a gettable parameter returning the\n",
    "            voltage read from the Ithaco output.\n",
    "\n",
    "        c_amp_ins (Ithaco_1211): an Ithaco instance where you manually\n",
    "            maintain the present settings of the real Ithaco amp.\n",
    "\n",
    "        name (str): the name of the current output. Default 'curr'.\n",
    "            Also used as the name of the whole parameter.\n",
    "    \"\"\"\n",
    "    def __init__(self, measured_param, c_amp_ins, name='curr'):\n",
    "        p_name = measured_param.name\n",
    "\n",
    "        p_label = getattr(measured_param, 'label', None)\n",
    "        p_unit = getattr(measured_param, 'units', None)\n",
    "\n",
    "        super().__init__(name=name, names=(p_name+'_raw', name),\n",
    "                         shapes=((), ()),\n",
    "                         labels=(p_label, 'Current'),\n",
    "                         units=(p_unit, 'A'))\n",
    "\n",
    "        self._measured_param = measured_param\n",
    "        self._instrument = c_amp_ins\n",
    "\n",
    "    def get(self):\n",
    "        volt = self._measured_param.get()\n",
    "        current = (self._instrument.sens.get() *\n",
    "                   self._instrument.sens_factor.get()) * volt\n",
    "\n",
    "        if self._instrument.invert.get():\n",
    "            current *= -1\n",
    "\n",
    "        value = (volt, current)\n",
    "        self._save_val(value)\n",
    "        return value\n",
    "\n",
    "\n",
    "class Ithaco_1211(Instrument):\n",
    "    \"\"\"\n",
    "    This is the qcodes driver for the Ithaco 1211 Current-preamplifier.\n",
    "\n",
    "    This is a virtual driver only and will not talk to your instrument.\n",
    "    \"\"\"\n",
    "    def __init__(self, name, **kwargs):\n",
    "        super().__init__(name, **kwargs)\n",
    "\n",
    "        # ManualParameter has an \"initial_value\" kwarg, but if you use this\n",
    "        # you must be careful to check that it's correct before relying on it.\n",
    "        # if you don't set initial_value, it will start out as None.\n",
    "        self.add_parameter('sens',\n",
    "                           parameter_class=ManualParameter,\n",
    "                           initial_value=1e-8,\n",
    "                           label='Sensitivity',\n",
    "                           units='A/V',\n",
    "                           vals=vals.Enum(1e-11, 1e-10, 1e-09, 1e-08, 1e-07,\n",
    "                                          1e-06, 1e-05, 1e-4, 1e-3))\n",
    "\n",
    "        self.add_parameter('invert',\n",
    "                           parameter_class=ManualParameter,\n",
    "                           initial_value=True,\n",
    "                           label='Inverted output',\n",
    "                           vals=vals.Bool())\n",
    "\n",
    "        self.add_parameter('sens_factor',\n",
    "                           parameter_class=ManualParameter,\n",
    "                           initial_value=1,\n",
    "                           label='Sensitivity factor',\n",
    "                           units=None,\n",
    "                           vals=vals.Enum(0.1, 1, 10))\n",
    "\n",
    "        self.add_parameter('suppression',\n",
    "                           parameter_class=ManualParameter,\n",
    "                           initial_value=1e-7,\n",
    "                           label='Suppression',\n",
    "                           units='A',\n",
    "                           vals=vals.Enum(1e-10, 1e-09, 1e-08, 1e-07, 1e-06,\n",
    "                                          1e-05, 1e-4, 1e-3))\n",
    "\n",
    "        self.add_parameter('risetime',\n",
    "                           parameter_class=ManualParameter,\n",
    "                           initial_value=0.3,\n",
    "                           label='Rise Time',\n",
    "                           units='msec',\n",
    "                           vals=vals.Enum(0.01, 0.03, 0.1, 0.3, 1, 3, 10, 30,\n",
    "                                          100, 300, 1000))\n",
    "\n",
    "    def get_idn(self):\n",
    "        return {'vendor': 'Ithaco (DL Instruments)', 'model': '1211',\n",
    "                'serial': None, 'firmware': None}"
   ]
  },
  {
   "cell_type": "markdown",
   "metadata": {
    "deletable": true,
    "editable": true
   },
   "source": [
    "## Custom Parameter classes\n",
    "\n",
    "When you call:\n",
    "```\n",
    "self.add_parameter(name, **kwargs)\n",
    "```\n",
    "you create a `StandardParameter`. But with the `parameter_class` kwarg you can invoke any class you want:\n",
    "```\n",
    "self.add_parameter(name, parameter_class=OtherClass, **kwargs)\n",
    "```\n",
    "\n",
    "- `StandardParameter` handles most common instrument settings and measurements.\n",
    "  - Accepts get and/or set commands as either strings for the instrument's `ask` and `write` methods, or functions/methods.\n",
    "  - Has options for translating between instrument codes and more meaningful data values\n",
    "  - Supports software-controlled ramping\n",
    "- `ManualParameter` is for things you don't control electronically, like physical knobs. When you *manually* change the knob, you must *manually* change it in software too.\n",
    "- Any other parameter class may be used in `add_parameter`, if it accepts `name` and `instrument` as constructor kwargs. Generally these should subclass `Parameter`, `ArrayParameter`, or `MultiParameter`."
   ]
  },
  {
   "cell_type": "markdown",
   "metadata": {
    "deletable": true,
    "editable": true
   },
   "source": [
    "## Dynamically adding and removing parameters\n",
    "\n",
    "Sometimes when conditions change (for example, the mode of operation of the instrument is changed from current to voltage measurement) you want different parameters to be available.\n",
    "\n",
    "To delete existing parameters:\n",
    "```\n",
    "del self.parameters[name_to_delete]\n",
    "```\n",
    "And to add more, do the same thing as you did initially:\n",
    "```\n",
    "self.add_parameter(new_name, **kwargs)\n",
    "```"
   ]
  },
  {
   "cell_type": "markdown",
   "metadata": {
    "deletable": true,
    "editable": true
   },
   "source": [
    "## Functions\n",
    "\n",
    "a `Function` is some action that the instrument can do, but doesn't correspond to a particular state variable or acquired data. For example, reset, trigger, or beep. Complex cases are best handled by adding your own methods to the instrument, but simple cases (particularly simple commands like `*RST`) can use `add_function`, which acts like a simplified `add_parameter`."
   ]
  },
  {
   "cell_type": "markdown",
   "metadata": {
    "deletable": true,
    "editable": true
   },
   "source": [
    "## Organization\n",
    "\n",
    "Your drivers do not need to be part of QCoDeS in order to use them with QCoDeS, but we strongly encourage you to contribute them to the project. That way we prevent duplication of effort, and you will likely get help making the driver better, with more features and better code.\n",
    "\n",
    "Make one driver per module, inside a directory named for the company (or institution), within the `instrument_drivers` directory, following the convention:\n",
    "\n",
    "`instrument_drivers.<company>.<model>.<company>_<model>`\n",
    "- example: `instrument_drivers.AlazarTech.ATS9870.AlazarTech_ATS9870`\n",
    "\n",
    "Although the class name can be just the model if it is globally unambiguous. For example:\n",
    "- example: `instrument_drivers.stanford_research.SR560.SR560`\n",
    "\n",
    "And note that due to mergers, some drivers may not be in the folder you expect:\n",
    "- example: `instrument_drivers.tektronix.Keithley_2600.Keithley_2600`"
   ]
  }
 ],
 "metadata": {
  "kernelspec": {
   "display_name": "Python 3",
   "language": "python",
   "name": "python3"
  },
  "language_info": {
   "codemirror_mode": {
    "name": "ipython",
    "version": 3
   },
   "file_extension": ".py",
   "mimetype": "text/x-python",
   "name": "python",
   "nbconvert_exporter": "python",
   "pygments_lexer": "ipython3",
   "version": "3.5.2"
  }
 },
 "nbformat": 4,
 "nbformat_minor": 1
}
