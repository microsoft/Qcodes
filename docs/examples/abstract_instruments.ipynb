{
 "cells": [
  {
   "cell_type": "markdown",
   "id": "82e8096b",
   "metadata": {},
   "source": [
    "# Abstract Instruments and paramters\n",
    "\n",
    "Abstract parameters allow us to create abstract instrument types which are guarenteed to have certain parameters present. For instance, this will allow us to create a unified interface for all voltage sources.\n",
    "\n",
    "Note: An instrument which contains abstract parameters shall be called an 'Abstract Instrument'"
   ]
  },
  {
   "cell_type": "code",
   "execution_count": 1,
   "id": "32244de2",
   "metadata": {},
   "outputs": [],
   "source": [
    "from qcodes import Instrument "
   ]
  },
  {
   "cell_type": "code",
   "execution_count": 2,
   "id": "7ccb1db4",
   "metadata": {},
   "outputs": [],
   "source": [
    "class BaseVoltageSource(Instrument): \n",
    "    \"\"\"\n",
    "    All abstract parameters *must* be implemented \n",
    "    before this class can be initialized. This \n",
    "    allows us to enforce an interface. \n",
    "    \"\"\"\n",
    "    \n",
    "    def __init__(self, name: str): \n",
    "        super().__init__(name)\n",
    "        \n",
    "        self.add_parameter(\n",
    "            \"voltage\", \n",
    "            unit=\"V\", \n",
    "            abstract=True\n",
    "        )\n",
    "        \n",
    "        self.add_parameter(\n",
    "            \"current\", \n",
    "            unit=\"A\", \n",
    "            get_cmd=None, \n",
    "            set_cmd=None \n",
    "        )"
   ]
  },
  {
   "cell_type": "markdown",
   "id": "a3d0714c",
   "metadata": {},
   "source": [
    "### We cannot instantiate an instrument with abstract parameters"
   ]
  },
  {
   "cell_type": "code",
   "execution_count": 3,
   "id": "74035d25",
   "metadata": {},
   "outputs": [
    {
     "name": "stdout",
     "output_type": "stream",
     "text": [
      "Error: Class 'BaseVoltageSource' has un-implemented Abstract Parameter(s): 'voltage'\n"
     ]
    }
   ],
   "source": [
    "try: \n",
    "    BaseVoltageSource(\"name\")\n",
    "except NotImplementedError as error:\n",
    "    print(f\"Error: {error}\")"
   ]
  },
  {
   "cell_type": "markdown",
   "id": "c322bd66",
   "metadata": {},
   "source": [
    "Instruments which fail to initialize are not registered"
   ]
  },
  {
   "cell_type": "code",
   "execution_count": 4,
   "id": "a648bb37",
   "metadata": {},
   "outputs": [
    {
     "data": {
      "text/plain": [
       "[]"
      ]
     },
     "execution_count": 4,
     "metadata": {},
     "output_type": "execute_result"
    }
   ],
   "source": [
    "BaseVoltageSource.instances()"
   ]
  },
  {
   "cell_type": "markdown",
   "id": "febde32c",
   "metadata": {},
   "source": [
    "### Subclasses of Abstract instruments *must* implement all abstract parameters "
   ]
  },
  {
   "cell_type": "markdown",
   "id": "5787171c",
   "metadata": {},
   "source": [
    "The following is correct "
   ]
  },
  {
   "cell_type": "code",
   "execution_count": 5,
   "id": "f6adac23",
   "metadata": {},
   "outputs": [],
   "source": [
    "class MyVoltageSource(BaseVoltageSource): \n",
    "    \"\"\"\n",
    "    A voltage source driver for a particular instrument \n",
    "    make and model. \n",
    "    \"\"\"\n",
    "    \n",
    "    def __init__(self, name: str, *args, **kwargs): \n",
    "        super().__init__(name, *args, **kwargs)\n",
    "        \n",
    "        self.add_parameter(\n",
    "            \"voltage\", \n",
    "            unit=\"V\", \n",
    "            set_cmd=None, \n",
    "            get_cmd=None\n",
    "        )"
   ]
  },
  {
   "cell_type": "code",
   "execution_count": 6,
   "id": "92d646c5",
   "metadata": {},
   "outputs": [
    {
     "name": "stdout",
     "output_type": "stream",
     "text": [
      "0.1\n"
     ]
    }
   ],
   "source": [
    "# We can use this voltage source like any other QCoDeS driver \n",
    "source = MyVoltageSource(\"name1\")\n",
    "source.voltage(0.1)\n",
    "print(source.voltage())"
   ]
  },
  {
   "cell_type": "code",
   "execution_count": 7,
   "id": "3aba9f5e",
   "metadata": {},
   "outputs": [
    {
     "data": {
      "text/plain": [
       "[<MyVoltageSource: name1>]"
      ]
     },
     "execution_count": 7,
     "metadata": {},
     "output_type": "execute_result"
    }
   ],
   "source": [
    "MyVoltageSource.instances()"
   ]
  },
  {
   "cell_type": "markdown",
   "id": "404416b0",
   "metadata": {},
   "source": [
    "The following is wrong"
   ]
  },
  {
   "cell_type": "code",
   "execution_count": 8,
   "id": "408ca07d",
   "metadata": {},
   "outputs": [],
   "source": [
    "class WrongSource(BaseVoltageSource): \n",
    "    \"\"\"\n",
    "    Let's 'forget' to implement the voltage parameter\n",
    "    \"\"\""
   ]
  },
  {
   "cell_type": "code",
   "execution_count": 9,
   "id": "6cdabc3e",
   "metadata": {},
   "outputs": [
    {
     "name": "stdout",
     "output_type": "stream",
     "text": [
      "Error: Class 'WrongSource' has un-implemented Abstract Parameter(s): 'voltage'\n"
     ]
    }
   ],
   "source": [
    "try: \n",
    "    WrongSource(\"name2\")  \n",
    "except NotImplementedError as error:\n",
    "    print(f\"Error: {error}\")"
   ]
  },
  {
   "cell_type": "markdown",
   "id": "067f0cd8",
   "metadata": {},
   "source": [
    "### Units of parameters defined in sub classes *must* match units defined in the base class "
   ]
  },
  {
   "cell_type": "code",
   "execution_count": 10,
   "id": "90720c97",
   "metadata": {},
   "outputs": [],
   "source": [
    "class WrongSource2(BaseVoltageSource): \n",
    "    \"\"\"\n",
    "    We implement the voltage paramter with the wrong unit \n",
    "    \"\"\"\n",
    "    \n",
    "    def __init__(self, name: str, *args, **kwargs): \n",
    "        super().__init__(name, *args, **kwargs)\n",
    "        \n",
    "        self.add_parameter(\n",
    "           \"voltage\", \n",
    "           unit=\"mV\"\n",
    "        )   "
   ]
  },
  {
   "cell_type": "code",
   "execution_count": 11,
   "id": "890aec75",
   "metadata": {},
   "outputs": [
    {
     "name": "stdout",
     "output_type": "stream",
     "text": [
      "Error: The unit of the parameter 'voltage' is 'mV'. This is inconsistent with the unit defined in the base class\n"
     ]
    }
   ],
   "source": [
    "try:\n",
    "    WrongSource2(\"name4\")  \n",
    "except ValueError as error: \n",
    "    print(f\"Error: {error}\")"
   ]
  },
  {
   "cell_type": "markdown",
   "id": "14566155",
   "metadata": {},
   "source": [
    "## How does this work?"
   ]
  },
  {
   "cell_type": "markdown",
   "id": "2b70bc73",
   "metadata": {},
   "source": [
    "We implement a `__post_init__` method on the `qcodes.Instrument` base class. The `__post_init__` will \n",
    "\n",
    "1. Check if all abstract parameters are implemented \n",
    "2. Register the instrument so it can be found with `qcodes.Instrument.find_instrument`\n",
    "\n",
    "We illustrate this mechanism in the cells below"
   ]
  },
  {
   "cell_type": "markdown",
   "id": "1ad37dbb",
   "metadata": {},
   "source": [
    "### `__post_init__`"
   ]
  },
  {
   "cell_type": "code",
   "execution_count": 12,
   "id": "48c10791",
   "metadata": {},
   "outputs": [],
   "source": [
    "class SomeBaseClass(Instrument): \n",
    "    \n",
    "    def __init__(self, name: str, *args, **kwargs): \n",
    "        super().__init__(name, *args, **kwargs)\n",
    "        print(\"Initialzing Base\")\n",
    "    \n",
    "    def __post_init__(self, name, *args, **kwargs): \n",
    "        \"\"\"\n",
    "        This method is always called after the initialization of the sub class\n",
    "        \"\"\"\n",
    "        super().__post_init__(name)  \n",
    "        print(\"This is __post_init__\")"
   ]
  },
  {
   "cell_type": "code",
   "execution_count": 13,
   "id": "30849084",
   "metadata": {},
   "outputs": [],
   "source": [
    "class SubClass(SomeBaseClass): \n",
    "    \n",
    "    def __init__(self, name: str, *args, **kwargs): \n",
    "        super().__init__(name, *args, **kwargs)\n",
    "        print(f\"Initializing Sub\")"
   ]
  },
  {
   "cell_type": "code",
   "execution_count": 14,
   "id": "20568107",
   "metadata": {},
   "outputs": [],
   "source": [
    "class SubSubClass(SubClass): \n",
    "    \n",
    "    def __init__(self, name: str, *args, **kwargs): \n",
    "        super().__init__(name, *args, **kwargs)\n",
    "        print(f\"Initializing Sub Sub\")"
   ]
  },
  {
   "cell_type": "code",
   "execution_count": 15,
   "id": "b3a803bf",
   "metadata": {},
   "outputs": [
    {
     "name": "stdout",
     "output_type": "stream",
     "text": [
      "Initialzing Base\n",
      "Initializing Sub\n",
      "Initializing Sub Sub\n",
      "This is __post_init__\n"
     ]
    }
   ],
   "source": [
    "a = SubSubClass(\"foo4\")"
   ]
  },
  {
   "cell_type": "markdown",
   "id": "747c44cc",
   "metadata": {},
   "source": [
    "### I still don't understand how this works!\n",
    "\n",
    "To understand how and when `__post_init__` is called, we must know that the regular `__init__` function of an `Instrument` subclass is monkey patched in the `__init_subclass__` method of the base class. In simplified code the following happens: \n",
    "\n",
    "```python\n",
    "\n",
    "def __init_subclass__(cls): \n",
    "    original_init = cls.__init__\n",
    "    def __new_init__(self, *args, **kwargs): \n",
    "        original_init(self, *args **kwargs)\n",
    "        self.__post_init__(self, *args, **kwargs)\n",
    "    \n",
    "    # Monkey patch the init method of the sub class \n",
    "    cls.__init__ = __new_init__\n",
    "```"
   ]
  },
  {
   "cell_type": "markdown",
   "id": "f7cbee59",
   "metadata": {},
   "source": [
    "We can see this by inspecting the `__init__` method of the subclass:"
   ]
  },
  {
   "cell_type": "code",
   "execution_count": 16,
   "id": "c3abf212",
   "metadata": {},
   "outputs": [
    {
     "data": {
      "text/plain": [
       "<function qcodes.instrument.base.Instrument.__init_subclass__.<locals>.__new_init__(self, *args, **sub_class_kwargs)>"
      ]
     },
     "execution_count": 16,
     "metadata": {},
     "output_type": "execute_result"
    }
   ],
   "source": [
    "SubSubClass.__init__"
   ]
  },
  {
   "cell_type": "markdown",
   "id": "b9d638b2",
   "metadata": {},
   "source": [
    "In practice the above code is a little more complex because we need to take care of higher order subclasses (e.g. sub-sub classes). To understand this, consider the init of a sub-sub class. In effect we are patching this method twice!\n",
    "\n",
    "`Patch(Patch(__init__))`\n",
    "\n",
    "If the above naive code is implemented, each `Patch` call would call the `__post_init__` method. To prevent this there is a `self._call_post_init` instance attribute which is initialized as True. Before calling `original_init` we copy the value of `self._call_post_init` to a variable in the local scope of the patched init function and set `self._call_post_init = False`. The post init function is run only if the local scope variable is `True`. Effectively, we only allow the inner most `Patch` function to call `__post_init__`, which is equivalent to the init of the most derived class. "
   ]
  },
  {
   "cell_type": "code",
   "execution_count": null,
   "id": "4a8f2929",
   "metadata": {},
   "outputs": [],
   "source": []
  }
 ],
 "metadata": {
  "kernelspec": {
   "display_name": "Python 3",
   "language": "python",
   "name": "python3"
  },
  "language_info": {
   "codemirror_mode": {
    "name": "ipython",
    "version": 3
   },
   "file_extension": ".py",
   "mimetype": "text/x-python",
   "name": "python",
   "nbconvert_exporter": "python",
   "pygments_lexer": "ipython3",
   "version": "3.8.10"
  },
  "nbsphinx": {
   "execute": "never"
  }
 },
 "nbformat": 4,
 "nbformat_minor": 5
}
