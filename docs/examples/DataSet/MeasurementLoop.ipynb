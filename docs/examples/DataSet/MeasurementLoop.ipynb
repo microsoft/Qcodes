{
 "cells": [
  {
   "cell_type": "markdown",
   "metadata": {},
   "source": [
    "# MeasurementLoop"
   ]
  },
  {
   "cell_type": "markdown",
   "metadata": {},
   "source": [
    "This notebook introduces the `MeasurementLoop`, which is one of three methods used to perform measurements. The three measurement methods are in increasing levels of complexity:\n",
    "\n",
    "- `qcodes.dataset.do_nd.dond` and its variations `do1d` and `do2d`.  \n",
    "  These are function calls that perform basic N-dimensional sweeps, measuring a list of parameters in the innermost loop.  \n",
    "  It is a wrapper around the `Measurement` class\n",
    "- `qcodes.dataset.measurement_loop.MeasurementLoop` can perform more complex measurements, including conditional measurements, nested measurements. It can perform arbitrary python code in a measurement. \n",
    "The `MeasurementLoop` relies on a fixed order in which parameters are measured (examples below). This fixed order reduces the amount of explicit code needed.\n",
    "It is a wrapper around the `Measurement` class\n",
    "- `qcodes.dataset.measurements.Measurement` is the most explicit type of measurement.  \n",
    "All parameters that are swept / measured must be explicitly registered before the measurement starts, as well as preferably their array shapes.  \n",
    "The `Measurement` can perform arbitrary python code. It further allows parameters to be measured in arbitrary order.\n",
    "\n",
    "The `MeasurementLoop` therefore lies in complexity between the `dond` and `Measurement`, and should be able to meet the majority of measurement needs while minimizing the amount of explicit definitions. For example, in contrast to `Measurement`, the `MeasurementLoop` does not need any parameters to be registered.\n",
    "\n",
    "We will start with basic examples of the `MeasurementLoop` and then go over some more advanced features  "
   ]
  },
  {
   "cell_type": "markdown",
   "metadata": {},
   "source": [
    "## Basic measurement"
   ]
  },
  {
   "cell_type": "code",
   "execution_count": 19,
   "metadata": {},
   "outputs": [],
   "source": [
    "import numpy as np\n",
    "import time\n",
    "\n",
    "from qcodes.dataset.measurement_loop import MeasurementLoop, Sweep\n",
    "from qcodes import (\n",
    "    ManualParameter, \n",
    "    Parameter,\n",
    "    initialise_or_create_database_at, \n",
    "    load_or_create_experiment\n",
    ")"
   ]
  },
  {
   "cell_type": "markdown",
   "metadata": {},
   "source": [
    "We start by creating a set parameter and a get parameter that returns a random value"
   ]
  },
  {
   "cell_type": "code",
   "execution_count": 2,
   "metadata": {},
   "outputs": [
    {
     "name": "stdout",
     "output_type": "stream",
     "text": [
      "random_parameter()=0.9198744153995131\n"
     ]
    }
   ],
   "source": [
    "set_parameter = ManualParameter('set_parameter')\n",
    "random_parameter = Parameter('random_parameter', get_cmd=np.random.rand)\n",
    "print(f'{random_parameter()=}')"
   ]
  },
  {
   "cell_type": "markdown",
   "metadata": {},
   "source": [
    "We now perform a basic measurement: sweeping one parameter (`set_parameter`) and measuring another (`random_parameter`):"
   ]
  },
  {
   "cell_type": "code",
   "execution_count": 7,
   "metadata": {},
   "outputs": [
    {
     "name": "stdout",
     "output_type": "stream",
     "text": [
      "Starting experimental run with id: 8. \n",
      "Finished measurement\n"
     ]
    }
   ],
   "source": [
    "with MeasurementLoop('basic_measurement') as msmt:\n",
    "    for val in Sweep(set_parameter, start=0, stop=10, num=11):\n",
    "        msmt.measure(random_parameter)\n",
    "\n",
    "print('Finished measurement')"
   ]
  },
  {
   "cell_type": "markdown",
   "metadata": {},
   "source": [
    "Let's break this code down line-by-line.\n",
    "```Python\n",
    "with MeasurementLoop('basic_measurement') as msmt:\n",
    "```  \n",
    "> Here the `with` statement instantiates the `MeasurementLoop` inside a context manager. Everything inside this block is part of the measurement. We use the variable `msmt` to refer to the instantiated `MeasurementLoop` as we will use it to measure parameters later on.  \n",
    "> We're also supposed to give the measurement a name, in this case `'basic_measurement'`\n",
    "\n",
    "```Python\n",
    "for set_val in Sweep(set_parameter, start=0, stop=10, num=11):\n",
    "```\n",
    "> We use a `Sweep` object to register in the `MeasurementLoop` that we want to sweep `set_parameter` with 11 points spaced between 0 and 10. The `MeasurementLoop` now also knows that everything inside this loop has a dimension of (11, ).  \n",
    "> Notice that we are using a standard python loop, so we can access the iterated values `set_val`.  \n",
    "> Notice also that the value of `set_parameter` is being updated as we sweep over it.\n",
    "\n",
    "```Python\n",
    "msmt.measure(random_parameter)\n",
    "```\n",
    "> Here we measure `random_parameter` inside the sweep. The `MeasurementLoop` automatically registers `random_parameter` once it's measured for the first time."
   ]
  },
  {
   "cell_type": "markdown",
   "metadata": {},
   "source": [
    "### Comparison to dond"
   ]
  },
  {
   "cell_type": "markdown",
   "metadata": {},
   "source": [
    "Since this is a very basic measurement, it can also performed in less code using `dond` as follows:"
   ]
  },
  {
   "cell_type": "code",
   "execution_count": 9,
   "metadata": {},
   "outputs": [
    {
     "name": "stdout",
     "output_type": "stream",
     "text": [
      "Starting experimental run with id: 10. Using 'qcodes.dataset.dond'\n"
     ]
    }
   ],
   "source": [
    "from qcodes.dataset.do_nd import dond, LinSweep\n",
    "dataset = dond(LinSweep(set_parameter, 0, 10, 11), random_parameter)"
   ]
  },
  {
   "cell_type": "markdown",
   "metadata": {},
   "source": [
    "It can even be performed by the simpler do1d:"
   ]
  },
  {
   "cell_type": "code",
   "execution_count": 10,
   "metadata": {},
   "outputs": [
    {
     "name": "stdout",
     "output_type": "stream",
     "text": [
      "Starting experimental run with id: 11. Using 'qcodes.dataset.do1d'\n"
     ]
    }
   ],
   "source": [
    "from qcodes.dataset.do_nd import do1d\n",
    "dataset = do1d(set_parameter, 0, 10, 11, 0, random_parameter)"
   ]
  },
  {
   "cell_type": "markdown",
   "metadata": {},
   "source": [
    "At this point you might wonder what the use is of `MeasurementLoop`. The point is that the `MeasurementLoop` can also perform significantly more complex types of measurements, as we will go into later."
   ]
  },
  {
   "cell_type": "markdown",
   "metadata": {},
   "source": [
    "### Comparison to `Measurement`"
   ]
  },
  {
   "cell_type": "markdown",
   "metadata": {},
   "source": [
    "The same basic measurement can also be performed by the `Measurement` class as follows:"
   ]
  },
  {
   "cell_type": "code",
   "execution_count": 12,
   "metadata": {},
   "outputs": [
    {
     "name": "stdout",
     "output_type": "stream",
     "text": [
      "Starting experimental run with id: 12. \n"
     ]
    }
   ],
   "source": [
    "from qcodes.dataset.measurements import Measurement\n",
    "context_meas = Measurement(name='basic_measurement_Measurement_class')\n",
    "\n",
    "# Register the independent parameter...\n",
    "context_meas.register_parameter(set_parameter)\n",
    "# ...then register the dependent parameter\n",
    "context_meas.register_parameter(random_parameter, setpoints=(set_parameter,))\n",
    "\n",
    "with context_meas.run() as datasaver:\n",
    "    for set_v in np.linspace(0, 10, 11):\n",
    "        set_parameter(set_v)\n",
    "        get_v = random_parameter()\n",
    "        datasaver.add_result((set_parameter, set_v),\n",
    "                             (random_parameter, get_v))"
   ]
  },
  {
   "cell_type": "markdown",
   "metadata": {},
   "source": [
    "There are some clear differences with the code of the `MeasurementLoop`. - All set/get parameters involved in the measurement need to be registered beforehand, as well as their relation.\n",
    "- When a parameter is swept over, it needs to be explicitly set.\n",
    "- Any parameter that is measured also needs to be added, along with the corresponding set value(s).\n",
    "\n",
    "These differences all make the `Measurement` more explicit than both the `MeasurementLoop` and `dond/do1d/do2d`. On the one hand, this makes it more cumbersome to write a measurement. But on the other hand, this allows greater flexibility. For example, we could have set `set_parameter` to another value instead of the iterated value `set_v`; this would not have been possible using the other methods.\n",
    "\n",
    "The `MeasurementLoop` is supposed to lie somewhere in between `dond` and `Measurement`, enabling a wide variety of measurements while requiring a minimal amount of explicit code to be written."
   ]
  },
  {
   "cell_type": "markdown",
   "metadata": {},
   "source": [
    "## A more complex measurement example"
   ]
  },
  {
   "cell_type": "markdown",
   "metadata": {},
   "source": [
    "Here we perform a slightly more complex measurement. We perform a 2D sweep and again measure `random_parameter` inside it. However, we now count the number of times that it is above 0.5. Each time it is above 0.5, we sleep for 100 ms. after each inner loop we register how many times it was above 0.5."
   ]
  },
  {
   "cell_type": "code",
   "execution_count": 23,
   "metadata": {},
   "outputs": [
    {
     "name": "stdout",
     "output_type": "stream",
     "text": [
      "Starting experimental run with id: 19. \n"
     ]
    }
   ],
   "source": [
    "with MeasurementLoop('conditional_measurement_example') as msmt:\n",
    "    for set_val1 in Sweep(set_parameter, np.logspace(1, 3, 51)):\n",
    "        above_half = 0  # We initialize a counter here\n",
    "\n",
    "        # Notice that we don't need to sweep a parameter\n",
    "        for set_val2 in Sweep(np.arange(10), 'inner_set_parameter'):\n",
    "            random_val = msmt.measure(random_parameter)\n",
    "\n",
    "            # We increment the counter if the random_val is above 0.5\n",
    "            if random_val > 0.5:\n",
    "                above_half += 1\n",
    "                # Let's also sleep a bit\n",
    "                time.sleep(0.1)\n",
    "\n",
    "        # Notice that we don't need a parameter to measure this\n",
    "        msmt.measure(above_half, 'above_half')"
   ]
  },
  {
   "cell_type": "code",
   "execution_count": 24,
   "metadata": {},
   "outputs": [
    {
     "data": {
      "image/png": "[encoded data removed]",
      "text/plain": [
       "<Figure size 432x288 with 2 Axes>"
      ]
     },
     "metadata": {
      "needs_background": "light"
     },
     "output_type": "display_data"
    },
    {
     "data": {
      "image/png": "[encoded data removed]",
      "text/plain": [
       "<Figure size 432x288 with 1 Axes>"
      ]
     },
     "metadata": {
      "needs_background": "light"
     },
     "output_type": "display_data"
    }
   ],
   "source": [
    "from qcodes.dataset.plotting import plot_by_id\n",
    "plot_by_id(msmt.dataset.run_id);"
   ]
  },
  {
   "cell_type": "markdown",
   "metadata": {},
   "source": [
    "As can be seen, the measurement code did not increase much in complexity even though we started performing more complex measurements. this measurement cannot be performed using `dond`, though it can still be performed by `Measurement`.\n",
    "\n",
    "One surprising fact from the above measurement is that we didn't need to define new parameters for the inner sweep and for the measurement recording how many times `random_parameter` is above half. This is a feature of the `MeasurementLoop`: parameters aren't needed for sweeps and measurements! This can significantly simplify creating complex measurements.\n"
   ]
  },
  {
   "cell_type": "markdown",
   "metadata": {},
   "source": [
    "## Nested measurements"
   ]
  },
  {
   "cell_type": "markdown",
   "metadata": {},
   "source": [
    "One big feature of the `MeasurementLoop` is that one can nest measurements. This is largely because we don't have to define our parameters beforehand. Here we show an example:"
   ]
  },
  {
   "cell_type": "code",
   "execution_count": 25,
   "metadata": {},
   "outputs": [
    {
     "name": "stdout",
     "output_type": "stream",
     "text": [
      "Starting experimental run with id: 20. \n"
     ]
    }
   ],
   "source": [
    "with MeasurementLoop('outer_measurement') as outer_msmt:\n",
    "    for set_val1 in Sweep(range(10), 'outer_sweep'):\n",
    "\n",
    "        with MeasurementLoop('inner_measurement') as inner_msmt:\n",
    "            for set_val2 in Sweep(range(10), 'inner_sweep'):\n",
    "                inner_msmt.measure(random_parameter)"
   ]
  },
  {
   "cell_type": "code",
   "execution_count": 27,
   "metadata": {},
   "outputs": [
    {
     "data": {
      "image/png": "[encoded data removed]",
      "text/plain": [
       "<Figure size 432x288 with 2 Axes>"
      ]
     },
     "metadata": {
      "needs_background": "light"
     },
     "output_type": "display_data"
    }
   ],
   "source": [
    "from qcodes.dataset.plotting import plot_by_id\n",
    "plot_by_id(outer_msmt.dataset.run_id);"
   ]
  },
  {
   "cell_type": "markdown",
   "metadata": {},
   "source": [
    "When we instantiate the inner measurement, it sees that another measurement is already running, and so it realizes that it is part of this larger measurement and so attaches to it. It will therefore use the dimensionality of the outer measurement.\n",
    "\n",
    "You can again ask yourself why this is useful. One big reason is that this allows us to functionalize measurements. For example, we can create a function `retune_device()` that performs a complex retuning sequence, in this case finding the minimum of a 2D quadratic:"
   ]
  },
  {
   "cell_type": "code",
   "execution_count": 98,
   "metadata": {},
   "outputs": [],
   "source": [
    "from scipy import optimize\n",
    "\n",
    "\n",
    "def retune_device():\n",
    "    with MeasurementLoop('retune_device') as msmt:\n",
    "        # Create a random minimal point\n",
    "        x0 = msmt.measure(2 * (np.random.rand() - 0.5), 'x0')\n",
    "        y0 = msmt.measure(2 * (np.random.rand() - 0.5), 'y0')\n",
    "        print(f'{x0=:.3f}, {y0=:.3f}', end=', \\t')\n",
    "\n",
    "        minimization_function = lambda x: (x[0] - x0)**2 + (x[1] - y0)**2\n",
    "\n",
    "        intermediary_results = []\n",
    "        max_iter = 100\n",
    "        optimize.minimize(\n",
    "            minimization_function, \n",
    "            x0=(100*np.random.rand(), 100*np.random.rand()),\n",
    "            options={'maxiter': max_iter},\n",
    "            callback=intermediary_results.append\n",
    "        )\n",
    "\n",
    "        for k in Sweep(range(max_iter), 'iteration'):\n",
    "            if k >= len(intermediary_results):\n",
    "                msmt.step_out()  # See section \"Fixed measurement order\"\n",
    "                break\n",
    "\n",
    "            msmt.measure(intermediary_results[k][0], 'x')\n",
    "            msmt.measure(intermediary_results[k][1], 'y')\n",
    "            msmt.measure(x0 - intermediary_results[k][0], 'x_error')\n",
    "            msmt.measure(y0 - intermediary_results[k][1], 'y_error')\n",
    "            \n",
    "        print(\n",
    "            f'x_error = {x0 - intermediary_results[-1][0]:.4g}, '\n",
    "            f'y_error = {y0 - intermediary_results[-1][1]:.4g}')\n",
    "    return msmt"
   ]
  },
  {
   "cell_type": "markdown",
   "metadata": {},
   "source": [
    "Here we perform the retuning sequence and plot the results:"
   ]
  },
  {
   "cell_type": "code",
   "execution_count": 99,
   "metadata": {},
   "outputs": [
    {
     "name": "stdout",
     "output_type": "stream",
     "text": [
      "Starting experimental run with id: 31. \n",
      "x0=-0.676, y0=0.351, \tx_error = -6.712e-08, y_error = -6.954e-08\n"
     ]
    }
   ],
   "source": [
    "msmt = retune_device()"
   ]
  },
  {
   "cell_type": "code",
   "execution_count": 100,
   "metadata": {},
   "outputs": [
    {
     "data": {
      "image/png": "[encoded data removed]",
      "text/plain": [
       "<Figure size 720x288 with 2 Axes>"
      ]
     },
     "metadata": {
      "needs_background": "light"
     },
     "output_type": "display_data"
    }
   ],
   "source": [
    "dataset = msmt.dataset.to_xarray_dataarray_dict()\n",
    "from matplotlib import pyplot as plt\n",
    "fig, axes = plt.subplots(1, 2, figsize=(10,4))\n",
    "ax = axes[0]\n",
    "ax.plot(dataset['x0'], dataset['y0'], '*', ms=20, label='Target', color='C8')\n",
    "for k, (x, y) in enumerate(zip(dataset['x'], dataset['y']), start=1):\n",
    "    ax.plot(x, y, 'o', label=f'Guess {k}')\n",
    "ax.legend()\n",
    "ax.set_xlabel('X')\n",
    "ax.set_ylabel('Y')\n",
    "ax.grid('on')\n",
    "\n",
    "ax = axes[1]\n",
    "for k, (x, y) in enumerate(zip(dataset['x_error'], dataset['y_error']), start=1):\n",
    "    ax.plot(x, y, 'o', label=f'Guess {k}', color=f'C{k}')\n",
    "ax.legend()\n",
    "ax.set_xlabel('X error')\n",
    "ax.set_ylabel('Y error')\n",
    "ax.grid('on')"
   ]
  },
  {
   "cell_type": "markdown",
   "metadata": {},
   "source": [
    "Now, since we can nest measurements, we can simply incorporate it as a function in another measurement:"
   ]
  },
  {
   "cell_type": "code",
   "execution_count": 101,
   "metadata": {},
   "outputs": [
    {
     "name": "stdout",
     "output_type": "stream",
     "text": [
      "Starting experimental run with id: 32. \n",
      "x0=0.606, y0=-0.378, \tx_error = 1.036e-07, y_error = 1.664e-06\n",
      "x0=-0.908, y0=-0.610, \tx_error = -2.148e-08, y_error = -4.82e-09\n",
      "x0=-0.821, y0=0.242, \tx_error = -1.613e-06, y_error = 2.737e-06\n",
      "x0=-0.090, y0=0.307, \tx_error = 2.077e-06, y_error = -4.658e-06\n",
      "x0=-0.927, y0=0.470, \tx_error = 1.126e-08, y_error = 7.831e-08\n",
      "x0=0.364, y0=-0.038, \tx_error = -1.531e-07, y_error = -2.273e-07\n",
      "x0=-0.878, y0=0.987, \tx_error = 1.254e-06, y_error = 5.796e-07\n",
      "x0=0.754, y0=-0.254, \tx_error = 2.951e-07, y_error = 3.297e-07\n",
      "x0=0.855, y0=0.030, \tx_error = 2.321e-07, y_error = 1.216e-06\n",
      "x0=0.198, y0=-0.337, \tx_error = 8.037e-08, y_error = 7.971e-08\n",
      "x0=0.445, y0=0.292, \tx_error = 4.155e-09, y_error = 4.147e-09\n"
     ]
    }
   ],
   "source": [
    "with MeasurementLoop('measurement_with_retuning') as msmt:\n",
    "    for k in range(11):\n",
    "        result = retune_device()\n",
    "\n",
    "        msmt.measure(random_parameter)"
   ]
  },
  {
   "cell_type": "markdown",
   "metadata": {},
   "source": [
    "The ability to turn a measurement into a function that can then be used within other measurements allows the experimentalist to modularize measurements. This can help once measurements become more complex"
   ]
  },
  {
   "cell_type": "markdown",
   "metadata": {},
   "source": [
    "## Fixed measurement order of parameters"
   ]
  },
  {
   "cell_type": "markdown",
   "metadata": {},
   "source": [
    "One of the main reasons why the `MeasurementLoop` is able to make so much of the code implicit is because it assumes a fixed order in which parameters are swept / measured. This needs to be adhered to, or things can break. This restriction can be illustrated with the following example.\n",
    "\n",
    "For this example we first use the `Measurement`. We sweep a parameter from 0 to 10 in integer steps. If the integer is odd, we measure `random_parameter` which returns a random value. However, if it's even, we measure `fixed_parameter` which always returns 42.\n",
    "\n",
    "Importantly, the first parameter that is being measured in every sweep iteration changes between `random_parameter` and `fixed_parameter`"
   ]
  },
  {
   "cell_type": "code",
   "execution_count": 102,
   "metadata": {},
   "outputs": [
    {
     "name": "stdout",
     "output_type": "stream",
     "text": [
      "Starting experimental run with id: 33. \n"
     ]
    }
   ],
   "source": [
    "from qcodes.dataset.measurements import Measurement\n",
    "context_meas = Measurement(name='varied_parameter_order_measurement')\n",
    "\n",
    "# Register the independent parameter...\n",
    "context_meas.register_parameter(set_parameter)\n",
    "# ...then register the dependent parameter\n",
    "context_meas.register_parameter(random_parameter, setpoints=(set_parameter,))\n",
    "\n",
    "# We also add a second parameter that always returns 42\n",
    "fixed_parameter = Parameter('fixed_parameter', get_cmd = lambda: 42)\n",
    "context_meas.register_parameter(fixed_parameter, setpoints=(set_parameter,))\n",
    "\n",
    "with context_meas.run() as datasaver:\n",
    "    for set_v in np.linspace(0, 10, 11):\n",
    "        set_parameter(set_v)\n",
    "\n",
    "        if set_v % 2:\n",
    "            get_v = random_parameter()\n",
    "            datasaver.add_result((set_parameter, set_v),\n",
    "                                (random_parameter, get_v))\n",
    "        else:\n",
    "            get_v = fixed_parameter()\n",
    "            datasaver.add_result((set_parameter, set_v),\n",
    "                                (fixed_parameter, get_v))\n"
   ]
  },
  {
   "cell_type": "markdown",
   "metadata": {},
   "source": [
    "We see that both parameters are measured perfectly fine"
   ]
  },
  {
   "cell_type": "code",
   "execution_count": 105,
   "metadata": {},
   "outputs": [
    {
     "data": {
      "image/png": "[encoded data removed]",
      "text/plain": [
       "<Figure size 432x288 with 1 Axes>"
      ]
     },
     "metadata": {
      "needs_background": "light"
     },
     "output_type": "display_data"
    },
    {
     "data": {
      "image/png": "[encoded data removed]",
      "text/plain": [
       "<Figure size 432x288 with 1 Axes>"
      ]
     },
     "metadata": {
      "needs_background": "light"
     },
     "output_type": "display_data"
    }
   ],
   "source": [
    "plot_by_id(datasaver.dataset.run_id);"
   ]
  },
  {
   "cell_type": "markdown",
   "metadata": {},
   "source": [
    "We now try the same using the `MeasurementLoop`."
   ]
  },
  {
   "cell_type": "code",
   "execution_count": 106,
   "metadata": {},
   "outputs": [
    {
     "name": "stderr",
     "output_type": "stream",
     "text": [
      "Measurement error RuntimeError(Wrong measurement at action_indices (0, 0). Expected: fixed_parameter. Received: random_parameter) - varied_order_measurement_loop\n"
     ]
    },
    {
     "name": "stdout",
     "output_type": "stream",
     "text": [
      "Starting experimental run with id: 34. \n"
     ]
    },
    {
     "ename": "RuntimeError",
     "evalue": "Wrong measurement at action_indices (0, 0). Expected: fixed_parameter. Received: random_parameter",
     "output_type": "error",
     "traceback": [
      "\u001b[1;31m---------------------------------------------------------------------------\u001b[0m",
      "\u001b[1;31mRuntimeError\u001b[0m                              Traceback (most recent call last)",
      "\u001b[1;32m~\\AppData\\Local\\Temp/ipykernel_29980/2330389870.py\u001b[0m in \u001b[0;36m<module>\u001b[1;34m\u001b[0m\n\u001b[0;32m      2\u001b[0m     \u001b[1;32mfor\u001b[0m \u001b[0mset_v\u001b[0m \u001b[1;32min\u001b[0m \u001b[0mSweep\u001b[0m\u001b[1;33m(\u001b[0m\u001b[0mrange\u001b[0m\u001b[1;33m(\u001b[0m\u001b[1;36m11\u001b[0m\u001b[1;33m)\u001b[0m\u001b[1;33m,\u001b[0m \u001b[1;34m'sweep_values'\u001b[0m\u001b[1;33m)\u001b[0m\u001b[1;33m:\u001b[0m\u001b[1;33m\u001b[0m\u001b[1;33m\u001b[0m\u001b[0m\n\u001b[0;32m      3\u001b[0m         \u001b[1;32mif\u001b[0m \u001b[0mset_v\u001b[0m \u001b[1;33m%\u001b[0m \u001b[1;36m2\u001b[0m\u001b[1;33m:\u001b[0m\u001b[1;33m\u001b[0m\u001b[1;33m\u001b[0m\u001b[0m\n\u001b[1;32m----> 4\u001b[1;33m             \u001b[0mmsmt\u001b[0m\u001b[1;33m.\u001b[0m\u001b[0mmeasure\u001b[0m\u001b[1;33m(\u001b[0m\u001b[0mrandom_parameter\u001b[0m\u001b[1;33m)\u001b[0m\u001b[1;33m\u001b[0m\u001b[1;33m\u001b[0m\u001b[0m\n\u001b[0m\u001b[0;32m      5\u001b[0m         \u001b[1;32melse\u001b[0m\u001b[1;33m:\u001b[0m\u001b[1;33m\u001b[0m\u001b[1;33m\u001b[0m\u001b[0m\n\u001b[0;32m      6\u001b[0m             \u001b[0mmsmt\u001b[0m\u001b[1;33m.\u001b[0m\u001b[0mmeasure\u001b[0m\u001b[1;33m(\u001b[0m\u001b[0mfixed_parameter\u001b[0m\u001b[1;33m)\u001b[0m\u001b[1;33m\u001b[0m\u001b[1;33m\u001b[0m\u001b[0m\n",
      "\u001b[1;32mc:\\users\\serwan\\documents\\github\\qcodes_new\\qcodes\\dataset\\measurement_loop.py\u001b[0m in \u001b[0;36mmeasure\u001b[1;34m(self, measurable, name, label, unit, timestamp, **kwargs)\u001b[0m\n\u001b[0;32m    866\u001b[0m         \u001b[1;31m# TODO Incorporate kwargs name, label, and unit, into each of these\u001b[0m\u001b[1;33m\u001b[0m\u001b[1;33m\u001b[0m\u001b[1;33m\u001b[0m\u001b[0m\n\u001b[0;32m    867\u001b[0m         \u001b[1;32mif\u001b[0m \u001b[0misinstance\u001b[0m\u001b[1;33m(\u001b[0m\u001b[0mmeasurable\u001b[0m\u001b[1;33m,\u001b[0m \u001b[0mParameter\u001b[0m\u001b[1;33m)\u001b[0m\u001b[1;33m:\u001b[0m\u001b[1;33m\u001b[0m\u001b[1;33m\u001b[0m\u001b[0m\n\u001b[1;32m--> 868\u001b[1;33m             result = self._measure_parameter(\n\u001b[0m\u001b[0;32m    869\u001b[0m                 \u001b[0mmeasurable\u001b[0m\u001b[1;33m,\u001b[0m \u001b[0mname\u001b[0m\u001b[1;33m=\u001b[0m\u001b[0mname\u001b[0m\u001b[1;33m,\u001b[0m \u001b[0mlabel\u001b[0m\u001b[1;33m=\u001b[0m\u001b[0mlabel\u001b[0m\u001b[1;33m,\u001b[0m \u001b[0munit\u001b[0m\u001b[1;33m=\u001b[0m\u001b[0munit\u001b[0m\u001b[1;33m,\u001b[0m \u001b[1;33m**\u001b[0m\u001b[0mkwargs\u001b[0m\u001b[1;33m\u001b[0m\u001b[1;33m\u001b[0m\u001b[0m\n\u001b[0;32m    870\u001b[0m             )\n",
      "\u001b[1;32mc:\\users\\serwan\\documents\\github\\qcodes_new\\qcodes\\dataset\\measurement_loop.py\u001b[0m in \u001b[0;36m_measure_parameter\u001b[1;34m(self, parameter, name, label, unit, **kwargs)\u001b[0m\n\u001b[0;32m    647\u001b[0m \u001b[1;33m\u001b[0m\u001b[0m\n\u001b[0;32m    648\u001b[0m         \u001b[1;31m# Ensure measuring parameter matches the current action_indices\u001b[0m\u001b[1;33m\u001b[0m\u001b[1;33m\u001b[0m\u001b[1;33m\u001b[0m\u001b[0m\n\u001b[1;32m--> 649\u001b[1;33m         \u001b[0mself\u001b[0m\u001b[1;33m.\u001b[0m\u001b[0m_verify_action\u001b[0m\u001b[1;33m(\u001b[0m\u001b[0maction\u001b[0m\u001b[1;33m=\u001b[0m\u001b[0mparameter\u001b[0m\u001b[1;33m,\u001b[0m \u001b[0mname\u001b[0m\u001b[1;33m=\u001b[0m\u001b[0mname\u001b[0m\u001b[1;33m,\u001b[0m \u001b[0madd_if_new\u001b[0m\u001b[1;33m=\u001b[0m\u001b[1;32mTrue\u001b[0m\u001b[1;33m)\u001b[0m\u001b[1;33m\u001b[0m\u001b[1;33m\u001b[0m\u001b[0m\n\u001b[0m\u001b[0;32m    650\u001b[0m \u001b[1;33m\u001b[0m\u001b[0m\n\u001b[0;32m    651\u001b[0m         \u001b[1;31m# Get parameter result\u001b[0m\u001b[1;33m\u001b[0m\u001b[1;33m\u001b[0m\u001b[1;33m\u001b[0m\u001b[0m\n",
      "\u001b[1;32mc:\\users\\serwan\\documents\\github\\qcodes_new\\qcodes\\dataset\\measurement_loop.py\u001b[0m in \u001b[0;36m_verify_action\u001b[1;34m(self, action, name, add_if_new)\u001b[0m\n\u001b[0;32m    616\u001b[0m                 \u001b[0mself\u001b[0m\u001b[1;33m.\u001b[0m\u001b[0maction_names\u001b[0m\u001b[1;33m[\u001b[0m\u001b[0mself\u001b[0m\u001b[1;33m.\u001b[0m\u001b[0maction_indices\u001b[0m\u001b[1;33m]\u001b[0m \u001b[1;33m=\u001b[0m \u001b[0mname\u001b[0m\u001b[1;33m\u001b[0m\u001b[1;33m\u001b[0m\u001b[0m\n\u001b[0;32m    617\u001b[0m         \u001b[1;32melif\u001b[0m \u001b[0mname\u001b[0m \u001b[1;33m!=\u001b[0m \u001b[0mself\u001b[0m\u001b[1;33m.\u001b[0m\u001b[0maction_names\u001b[0m\u001b[1;33m[\u001b[0m\u001b[0mself\u001b[0m\u001b[1;33m.\u001b[0m\u001b[0maction_indices\u001b[0m\u001b[1;33m]\u001b[0m\u001b[1;33m:\u001b[0m\u001b[1;33m\u001b[0m\u001b[1;33m\u001b[0m\u001b[0m\n\u001b[1;32m--> 618\u001b[1;33m             raise RuntimeError(\n\u001b[0m\u001b[0;32m    619\u001b[0m                 \u001b[1;34mf\"Wrong measurement at action_indices {self.action_indices}. \"\u001b[0m\u001b[1;33m\u001b[0m\u001b[1;33m\u001b[0m\u001b[0m\n\u001b[0;32m    620\u001b[0m                 \u001b[1;34mf\"Expected: {self.action_names[self.action_indices]}. Received: {name}\"\u001b[0m\u001b[1;33m\u001b[0m\u001b[1;33m\u001b[0m\u001b[0m\n",
      "\u001b[1;31mRuntimeError\u001b[0m: Wrong measurement at action_indices (0, 0). Expected: fixed_parameter. Received: random_parameter"
     ]
    }
   ],
   "source": [
    "with MeasurementLoop('varied_order_measurement_loop') as msmt:\n",
    "    for set_v in Sweep(range(11), 'sweep_values'):\n",
    "        if set_v % 2:\n",
    "            msmt.measure(random_parameter)\n",
    "        else:\n",
    "            msmt.measure(fixed_parameter)"
   ]
  },
  {
   "cell_type": "markdown",
   "metadata": {},
   "source": [
    "Lo and behold, an error appeared. This is because it expects the first measurement to be `fixed_parameter`, which was measured during the first iteration, but instead the second iteration it measures `random_parameter`.\n",
    "\n",
    "This problem can be solved by explicitly telling the `MeasurementLoop` which is the first or second measurement by adding `msmt.skip`.\n",
    "In this example,  `random_parameter` has a `msmt.skip()` before it, indicating that another parameter is usually measured first (though not this time) and so it's actually the second parameter being measured."
   ]
  },
  {
   "cell_type": "code",
   "execution_count": 110,
   "metadata": {},
   "outputs": [
    {
     "name": "stdout",
     "output_type": "stream",
     "text": [
      "Starting experimental run with id: 36. \n"
     ]
    }
   ],
   "source": [
    "with MeasurementLoop('varied_order_measurement_loop') as msmt:\n",
    "    for set_v in Sweep(range(11), 'sweep_values'):\n",
    "        if set_v % 2:\n",
    "            msmt.skip()\n",
    "            msmt.measure(random_parameter)\n",
    "        else:\n",
    "            msmt.measure(fixed_parameter)\n",
    "            msmt.skip()"
   ]
  },
  {
   "cell_type": "code",
   "execution_count": 109,
   "metadata": {},
   "outputs": [
    {
     "data": {
      "image/png": "[encoded data removed]",
      "text/plain": [
       "<Figure size 432x288 with 1 Axes>"
      ]
     },
     "metadata": {
      "needs_background": "light"
     },
     "output_type": "display_data"
    },
    {
     "data": {
      "image/png": "[encoded data removed]",
      "text/plain": [
       "<Figure size 432x288 with 1 Axes>"
      ]
     },
     "metadata": {
      "needs_background": "light"
     },
     "output_type": "display_data"
    }
   ],
   "source": [
    "plot_by_id(msmt.dataset.run_id);"
   ]
  },
  {
   "cell_type": "markdown",
   "metadata": {},
   "source": [
    "A `break` statement is the second situation in which the `MeasurementLoop` needs an explicit signal to ensure the measurement order is adhered to. The reason is because unlike a context manager, a for-loop has no way of knowing when the loop has been prematurely exited, and so it won't be able to perform the necessary actions when exiting a `Sweep`."
   ]
  },
  {
   "cell_type": "code",
   "execution_count": 113,
   "metadata": {},
   "outputs": [
    {
     "name": "stdout",
     "output_type": "stream",
     "text": [
      "Starting experimental run with id: 39. \n",
      "set_v=0, continuing measurement\n",
      "set_v=1, continuing measurement\n",
      "set_v=2, continuing measurement\n",
      "set_v=3, continuing measurement\n",
      "set_v=4, exiting prematurely using `msmt.step_out`\n"
     ]
    }
   ],
   "source": [
    "with MeasurementLoop('varied_order_measurement_loop') as msmt:\n",
    "    for set_v in Sweep(range(11), 'sweep_values'):\n",
    "        if (set_v+1) % 5:\n",
    "            print(f'{set_v=}, continuing measurement')\n",
    "            msmt.measure(random_parameter)\n",
    "        else:\n",
    "            print(f'{set_v=}, exiting prematurely using `msmt.step_out`')\n",
    "            msmt.step_out()\n",
    "            break"
   ]
  },
  {
   "cell_type": "markdown",
   "metadata": {},
   "source": [
    "In this case we see that the `break` statement is preceded by `msmt.step_out`. This indicates to the `MeasurementLoop` that it has to take the necessary actions because the Sweep is exited."
   ]
  },
  {
   "cell_type": "markdown",
   "metadata": {},
   "source": [
    "## `Sweep` functionalities"
   ]
  },
  {
   "cell_type": "markdown",
   "metadata": {},
   "source": [
    "Sweeping over a sequence of values in a `MeasurementLoop` is done using the `Sweep` object. It can sweep over an explicit sequence of values, or it can be given arguments to generate a sequence from."
   ]
  },
  {
   "cell_type": "markdown",
   "metadata": {},
   "source": [
    "### Sweeping a parameter"
   ]
  },
  {
   "cell_type": "markdown",
   "metadata": {},
   "source": [
    "A parameter can be swept over by passing the parameter as the first argument. Here we create a sweep of parameter \"set_parameter\" over values \"[1, 2, 3, 4]\""
   ]
  },
  {
   "cell_type": "code",
   "execution_count": 123,
   "metadata": {},
   "outputs": [
    {
     "data": {
      "text/plain": [
       "Sweep(parameter=set_parameter, length=4)"
      ]
     },
     "execution_count": 123,
     "metadata": {},
     "output_type": "execute_result"
    }
   ],
   "source": [
    "parameter_sweep = Sweep(set_parameter, [1,2,3,4])\n",
    "parameter_sweep"
   ]
  },
  {
   "cell_type": "markdown",
   "metadata": {},
   "source": [
    "In this case, the parameter value is automatically changed during the measurement:"
   ]
  },
  {
   "cell_type": "code",
   "execution_count": 125,
   "metadata": {},
   "outputs": [
    {
     "name": "stdout",
     "output_type": "stream",
     "text": [
      "Starting experimental run with id: 41. \n",
      "set_parameter()=1\n",
      "set_parameter()=2\n",
      "set_parameter()=3\n",
      "set_parameter()=4\n"
     ]
    }
   ],
   "source": [
    "with MeasurementLoop('sweep_set_parameter_measurement') as msmt:\n",
    "    for val in parameter_sweep:\n",
    "        print(f'{set_parameter()=}')"
   ]
  },
  {
   "cell_type": "markdown",
   "metadata": {},
   "source": [
    "### Sweeping without a parameter"
   ]
  },
  {
   "cell_type": "markdown",
   "metadata": {},
   "source": [
    "It is also possible to create a `Sweep` without a parameter. In this case, no parameter value is updated. In this case it's necessary to pass along a \"name\""
   ]
  },
  {
   "cell_type": "code",
   "execution_count": 129,
   "metadata": {},
   "outputs": [
    {
     "data": {
      "text/plain": [
       "Sweep('sweep_without_parameter', length=3)"
      ]
     },
     "execution_count": 129,
     "metadata": {},
     "output_type": "execute_result"
    }
   ],
   "source": [
    "Sweep([1,2,3], name='sweep_without_parameter')"
   ]
  },
  {
   "cell_type": "markdown",
   "metadata": {},
   "source": [
    "### Generating a sequence"
   ]
  },
  {
   "cell_type": "markdown",
   "metadata": {},
   "source": [
    "In the previous example we saw how you can create a sweep out of a pre-existing sequence. The `Sweep` also has convenient methods to generate a sequence using (keyword) arguments.  \n",
    "The following keyword arguments are identical to `np.linspace`"
   ]
  },
  {
   "cell_type": "code",
   "execution_count": 134,
   "metadata": {},
   "outputs": [
    {
     "data": {
      "text/plain": [
       "array([ 0.,  1.,  2.,  3.,  4.,  5.,  6.,  7.,  8.,  9., 10.])"
      ]
     },
     "execution_count": 134,
     "metadata": {},
     "output_type": "execute_result"
    }
   ],
   "source": [
    "sweep = Sweep(set_parameter, start=0, stop=10, num=11)\n",
    "sweep.sequence"
   ]
  },
  {
   "cell_type": "markdown",
   "metadata": {},
   "source": [
    "We can also give a `step`, in which case it behaves like `np.arange`, with the exception that here the last value is included"
   ]
  },
  {
   "cell_type": "code",
   "execution_count": 136,
   "metadata": {},
   "outputs": [
    {
     "data": {
      "text/plain": [
       "array([ 0,  2,  4,  6,  8, 10])"
      ]
     },
     "execution_count": 136,
     "metadata": {},
     "output_type": "execute_result"
    }
   ],
   "source": [
    "sweep = Sweep(set_parameter, start=0, stop=10, step=2)\n",
    "sweep.sequence"
   ]
  },
  {
   "cell_type": "markdown",
   "metadata": {},
   "source": [
    "One can also use the current value of a \"set_parameter\" to generate a sequence. Here we tell it to create 11 points in a range of 5 below to above it's current value"
   ]
  },
  {
   "cell_type": "code",
   "execution_count": 137,
   "metadata": {},
   "outputs": [
    {
     "data": {
      "text/plain": [
       "array([-3., -2., -1.,  0.,  1.,  2.,  3.,  4.,  5.,  6.,  7.])"
      ]
     },
     "execution_count": 137,
     "metadata": {},
     "output_type": "execute_result"
    }
   ],
   "source": [
    "set_parameter(2)\n",
    "sweep = Sweep(set_parameter, around=5, num=11)\n",
    "sweep.sequence"
   ]
  },
  {
   "cell_type": "markdown",
   "metadata": {},
   "source": [
    "Or here we choose 11 points from whatever it's current value is to 12"
   ]
  },
  {
   "cell_type": "code",
   "execution_count": 140,
   "metadata": {},
   "outputs": [
    {
     "data": {
      "text/plain": [
       "array([ 2.,  3.,  4.,  5.,  6.,  7.,  8.,  9., 10., 11., 12.])"
      ]
     },
     "execution_count": 140,
     "metadata": {},
     "output_type": "execute_result"
    }
   ],
   "source": [
    "set_parameter(2)\n",
    "sweep = Sweep(set_parameter, stop=12, num=11)\n",
    "sweep.sequence"
   ]
  },
  {
   "cell_type": "markdown",
   "metadata": {},
   "source": [
    "### Sweep arguments"
   ]
  },
  {
   "cell_type": "markdown",
   "metadata": {},
   "source": [
    "The most common types of sweeps can also be created without using keyword arguments. For example:"
   ]
  },
  {
   "cell_type": "code",
   "execution_count": 144,
   "metadata": {},
   "outputs": [
    {
     "data": {
      "text/plain": [
       "Sweep(parameter=set_parameter, length=11)"
      ]
     },
     "execution_count": 144,
     "metadata": {},
     "output_type": "execute_result"
    }
   ],
   "source": [
    "Sweep(set_parameter, 0, 10, 11)"
   ]
  },
  {
   "cell_type": "markdown",
   "metadata": {},
   "source": [
    "is equivalent to"
   ]
  },
  {
   "cell_type": "code",
   "execution_count": 145,
   "metadata": {},
   "outputs": [
    {
     "data": {
      "text/plain": [
       "Sweep(parameter=set_parameter, length=11)"
      ]
     },
     "execution_count": 145,
     "metadata": {},
     "output_type": "execute_result"
    }
   ],
   "source": [
    "Sweep(set_parameter, start=0, stop=10, num=11)"
   ]
  },
  {
   "cell_type": "markdown",
   "metadata": {},
   "source": [
    "A full list of argument combinations can be found in the docstring of `Sweep.transform_args_to_kwargs`"
   ]
  },
  {
   "cell_type": "markdown",
   "metadata": {},
   "source": [
    "## Additional features"
   ]
  },
  {
   "cell_type": "markdown",
   "metadata": {},
   "source": [
    "### Value masking"
   ]
  },
  {
   "cell_type": "markdown",
   "metadata": {},
   "source": [
    "The `MeasurementLoop` also provides the ability to mask the value of an object during the measurement. For example"
   ]
  },
  {
   "cell_type": "code",
   "execution_count": 146,
   "metadata": {},
   "outputs": [
    {
     "name": "stdout",
     "output_type": "stream",
     "text": [
      "Initial value get_parameter()=2\n",
      "Starting experimental run with id: 42. \n",
      "Masked value get_parameter()=9\n",
      "Value after measurement finished: get_parameter()=2\n"
     ]
    }
   ],
   "source": [
    "get_parameter = ManualParameter('get_parameter', initial_value=2)\n",
    "print(f'Initial value {get_parameter()=}')\n",
    "\n",
    "with MeasurementLoop('masking_measurement') as msmt:\n",
    "    msmt.mask(get_parameter, 9)\n",
    "    \n",
    "    print(f'Masked value {get_parameter()=}')\n",
    "\n",
    "    for val in Sweep(set_parameter, range(5)):\n",
    "        msmt.measure(get_parameter)\n",
    "\n",
    "print(f'Value after measurement finished: {get_parameter()=}')"
   ]
  },
  {
   "cell_type": "markdown",
   "metadata": {},
   "source": [
    "This can be especially useful when measurements are encapsulated in functions, as it allows to set parameters to specific values during the measurement, knowing that it will be reset after.\n",
    "\n",
    "The unmasking of a parameter happens after a measurement is complete, even if the measurement fails."
   ]
  },
  {
   "cell_type": "markdown",
   "metadata": {},
   "source": [
    "### Masking dictionaries and object attributes"
   ]
  },
  {
   "cell_type": "markdown",
   "metadata": {},
   "source": [
    "We just saw that it's possible to mask a parameter value. It is also possible to mask two other elements:\n",
    "- keys in dictionaries\n",
    "- attributes of objects\n",
    "\n",
    "Here we show the two examples"
   ]
  },
  {
   "cell_type": "code",
   "execution_count": 149,
   "metadata": {},
   "outputs": [],
   "source": [
    "# First create a dummy class\n",
    "class MyObject:\n",
    "    object_attribute = 42\n"
   ]
  },
  {
   "cell_type": "code",
   "execution_count": 154,
   "metadata": {},
   "outputs": [
    {
     "name": "stdout",
     "output_type": "stream",
     "text": [
      "Initial object value my_object.object_attribute=42\n",
      "Initial dictionary d={'key1': 12, 'key2': 13, 'key3': 14}\n",
      "Starting experimental run with id: 44. \n",
      "Masked object value my_object.object_attribute=999\n",
      "Masked dictionary d={'key1': 12, 'key2': 999, 'key3': 14}\n",
      "Final object value my_object.object_attribute=42\n",
      "Final dictionary d={'key1': 12, 'key2': 13, 'key3': 14}\n"
     ]
    }
   ],
   "source": [
    "\n",
    "my_object= MyObject()\n",
    "print(f'Initial object value {my_object.object_attribute=}')\n",
    "\n",
    "d = dict(key1=12, key2=13, key3=14)\n",
    "print(f'Initial dictionary {d=}')\n",
    "\n",
    "with MeasurementLoop('masking_dictionary_and_object') as msmt:\n",
    "    msmt.mask(my_object, object_attribute=999)\n",
    "    msmt.mask(d, key2=999)\n",
    "\n",
    "    print(f'Masked object value {my_object.object_attribute=}')\n",
    "    print(f'Masked dictionary {d=}')\n",
    "\n",
    "print(f'Final object value {my_object.object_attribute=}')\n",
    "print(f'Final dictionary {d=}')"
   ]
  },
  {
   "cell_type": "markdown",
   "metadata": {},
   "source": [
    "### Measuring without a parameter"
   ]
  },
  {
   "cell_type": "markdown",
   "metadata": {},
   "source": [
    "Most previous examples showed how we can measure a `Parameter` in a `MeasurementLoop`. However, this is not a requirement. Just as one can create a `Sweep` without a parameter, so can one also measure things that are not a parameter."
   ]
  },
  {
   "cell_type": "code",
   "execution_count": 157,
   "metadata": {},
   "outputs": [
    {
     "name": "stdout",
     "output_type": "stream",
     "text": [
      "Starting experimental run with id: 47. \n"
     ]
    }
   ],
   "source": [
    "with MeasurementLoop('measure_non_parameters') as msmt:\n",
    "    for k in Sweep(range(5), 'sweep'):\n",
    "        msmt.measure(42, 'measure_value')\n",
    "        msmt.measure({'val1': 1, 'val2': 2}, 'measure_dict')\n",
    "\n",
    "        # One can also measure a function that returns a dict\n",
    "        def random_int(min_val=1, max_val=50):\n",
    "            return {\n",
    "                'val1': np.random.randint(min_val, max_val),\n",
    "                'val2': np.random.randint(min_val, max_val)\n",
    "            }\n",
    "        msmt.measure(random_int, 'measure_callable')"
   ]
  },
  {
   "cell_type": "markdown",
   "metadata": {},
   "source": [
    "### Measuring same parameter multiple times"
   ]
  },
  {
   "cell_type": "markdown",
   "metadata": {},
   "source": [
    "One feature of the `MeasurementLoop` that is not possible in the original `Measurement` is that the same parameter can be swept/measured at multiple different points:"
   ]
  },
  {
   "cell_type": "code",
   "execution_count": 160,
   "metadata": {},
   "outputs": [
    {
     "name": "stdout",
     "output_type": "stream",
     "text": [
      "Starting experimental run with id: 49. \n"
     ]
    },
    {
     "data": {
      "text/plain": [
       "measure_same_parameter #49@C:\\Users\\Serwan\\experiments.db\n",
       "---------------------------------------------------------\n",
       "sweep_parameter - numeric\n",
       "random_parameter - numeric\n",
       "random_parameter_1 - numeric"
      ]
     },
     "execution_count": 160,
     "metadata": {},
     "output_type": "execute_result"
    }
   ],
   "source": [
    "with MeasurementLoop('measure_same_parameter') as msmt:\n",
    "    for k in Sweep(range(10), 'sweep_parameter'):\n",
    "        msmt.measure(random_parameter)\n",
    "        msmt.measure(random_parameter)\n",
    "msmt.dataset"
   ]
  },
  {
   "cell_type": "markdown",
   "metadata": {},
   "source": [
    "As can be seen, this creates two different measurement arrays. The second measurement automatically appends an index to distinguish its name from the original measurement array.\n",
    "\n",
    "This is a useful feature especially when encapsulating measurements in functions. In this case it could very well occur that the same parameter is measured at multiple different locations"
   ]
  }
 ],
 "metadata": {
  "kernelspec": {
   "display_name": "Python 3.9.5 ('base')",
   "language": "python",
   "name": "python3"
  },
  "language_info": {
   "codemirror_mode": {
    "name": "ipython",
    "version": 3
   },
   "file_extension": ".py",
   "mimetype": "text/x-python",
   "name": "python",
   "nbconvert_exporter": "python",
   "pygments_lexer": "ipython3",
   "version": "3.9.5"
  },
  "orig_nbformat": 4,
  "vscode": {
   "interpreter": {
    "hash": "19d1d53a962d236aa061289c2ac16dc8e6d9648c89fe79f459ae9a3493bc67b4"
   }
  }
 },
 "nbformat": 4,
 "nbformat_minor": 2
}
