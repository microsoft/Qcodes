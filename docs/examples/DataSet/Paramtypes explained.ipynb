{
 "cells": [
  {
   "cell_type": "markdown",
   "metadata": {},
   "source": [
    "# Paramtypes explained\n",
    "\n",
    "Internally in the SQLite database on disk, data are registered as being of one of (currently) three allowed types:\n",
    "\n",
    "- `numeric`\n",
    "- `array`\n",
    "- `text`\n",
    "\n",
    "This notebook seeks to exemplify when each type should be used, and how the `Measurement` object treats data of each type differently."
   ]
  },
  {
   "cell_type": "code",
   "execution_count": null,
   "metadata": {},
   "outputs": [],
   "source": [
    "import os\n",
    "\n",
    "import numpy as np\n",
    "\n",
    "from qcodes.instrument.parameter import ArrayParameter, Parameter\n",
    "from qcodes.dataset.database import initialise_or_create_database_at\n",
    "from qcodes.dataset.experiment_container import new_experiment\n",
    "from qcodes.dataset.measurements import Measurement\n",
    "from qcodes.dataset.data_set import load_by_id\n",
    "from qcodes.dataset.data_export import get_data_by_id\n",
    "from qcodes.tests.instrument_mocks import DummyInstrument\n",
    "import time"
   ]
  },
  {
   "cell_type": "code",
   "execution_count": 2,
   "metadata": {},
   "outputs": [
    {
     "data": {
      "text/plain": [
       "paramtypes#not_available#8@C:\\Users\\wihpniel\\src\\Qcodes\\docs\\examples\\DataSet\\paramtypes_explained.db\n",
       "-----------------------------------------------------------------------------------------------------"
      ]
     },
     "execution_count": 2,
     "metadata": {},
     "output_type": "execute_result"
    }
   ],
   "source": [
    "initialise_or_create_database_at(os.path.join(os.getcwd(), 'paramtypes_explained.db'))\n",
    "new_experiment('paramtypes', sample_name='not_available')"
   ]
  },
  {
   "cell_type": "code",
   "execution_count": 3,
   "metadata": {},
   "outputs": [],
   "source": [
    "dac = DummyInstrument('dac', gates=['ch1', 'ch2'])\n",
    "SA = DummyInstrument('SA')"
   ]
  },
  {
   "cell_type": "code",
   "execution_count": 4,
   "metadata": {},
   "outputs": [],
   "source": [
    "# some array-like data types\n",
    "\n",
    "class Spectrum(ArrayParameter):\n",
    "    \n",
    "    def __init__(self, name, instrument):\n",
    "        \n",
    "        self.N = 7\n",
    "        setpoints = (np.linspace(0, 1, self.N),)\n",
    "    \n",
    "        super().__init__(name=name,\n",
    "                         instrument=instrument,\n",
    "                         setpoints=setpoints,\n",
    "                         shape=(20,),\n",
    "                         label='Noisy spectrum',\n",
    "                         unit='V/sqrt(Hz)',\n",
    "                         setpoint_names=('Frequency',),\n",
    "                         setpoint_units=('Hz',))\n",
    "        \n",
    "    def get_raw(self):\n",
    "        return np.random.randn(self.N)\n",
    "    \n",
    "\n",
    "class MultiDimSpectrum(ArrayParameter):\n",
    "    \n",
    "    def __init__(self, name, instrument):\n",
    "        self.start = 0\n",
    "        self.stop = 1\n",
    "        self.npts = (2, 5, 3)\n",
    "        sp1 = np.linspace(self.start, self.stop,\n",
    "                          self.npts[0])\n",
    "        sp2 = np.linspace(self.start, self.stop,\n",
    "                          self.npts[1])\n",
    "        sp3 = np.linspace(self.start, self.stop,\n",
    "                          self.npts[2])\n",
    "        setpoints = (sp1,\n",
    "                     np.tile(sp2, (len(sp1), 1)),\n",
    "                     np.tile(sp3, (len(sp1), len(sp2), 1)))\n",
    "        super().__init__(name=name,\n",
    "                         instrument=instrument,\n",
    "                         setpoints=setpoints,\n",
    "                         shape=(100, 50, 20),\n",
    "                         label='Flower Power Spectrum in 3D',\n",
    "                         unit='V/sqrt(Hz)',\n",
    "                         setpoint_names=('Frequency0', 'Frequency1',\n",
    "                                         'Frequency2'),\n",
    "                             setpoint_units=('Hz', 'Other Hz', \"Third Hz\"))\n",
    "    def get_raw(self):\n",
    "        a = self.npts[0]\n",
    "        b = self.npts[1]\n",
    "        c = self.npts[2]\n",
    "        return np.reshape(np.arange(a*b*c), (a, b, c))\n",
    "    \n",
    "# a string-valued parameter\n",
    "def dac1_too_high():\n",
    "    return 'Too high' if dac.ch1() > 5 else 'OK'"
   ]
  },
  {
   "cell_type": "code",
   "execution_count": 5,
   "metadata": {},
   "outputs": [],
   "source": [
    "dac.add_parameter('control', get_cmd=dac1_too_high)\n",
    "SA.add_parameter('spectrum', parameter_class=Spectrum)\n",
    "SA.add_parameter('spectrum3D', parameter_class=MultiDimSpectrum)"
   ]
  },
  {
   "cell_type": "markdown",
   "metadata": {},
   "source": [
    "## Numeric"
   ]
  },
  {
   "cell_type": "markdown",
   "metadata": {},
   "source": [
    "The `numeric` datatype is simply a number. Data registered with this type are saved as individual numbers. This is the **default** datatype when registering parameters.\n",
    "\n",
    "### Numeric example 1\n",
    "\n",
    "In this example, all parameters get registered as `numeric` type. This entails that the array in unraveled and inserted point-by-point."
   ]
  },
  {
   "cell_type": "code",
   "execution_count": 6,
   "metadata": {},
   "outputs": [
    {
     "name": "stdout",
     "output_type": "stream",
     "text": [
      "Starting experimental run with id: 28\n",
      "Finished run in 0.290 s\n"
     ]
    }
   ],
   "source": [
    "meas = Measurement()\n",
    "meas.register_parameter(dac.ch1)\n",
    "meas.register_parameter(SA.spectrum, setpoints=(dac.ch1,))\n",
    "\n",
    "t0 = time.perf_counter()\n",
    "\n",
    "with meas.run() as datasaver:\n",
    "    for dac_v in np.linspace(0, 2, 5):\n",
    "        dac.ch1(dac_v)\n",
    "        datasaver.add_result((dac.ch1, dac_v), (SA.spectrum, SA.spectrum()))\n",
    "\n",
    "t1 = time.perf_counter()\n",
    "\n",
    "print(f'Finished run in {(t1-t0):.3f} s')\n",
    "        \n",
    "run_id1 = datasaver.run_id"
   ]
  },
  {
   "cell_type": "markdown",
   "metadata": {},
   "source": [
    "The data may be retrieved using `get_data_by_id`. This function will always bring back the data **as if** it had been stored in a point-by-point format. That is to say, all parameters come out as array of the same length, with setpoints values appropriately repeated."
   ]
  },
  {
   "cell_type": "code",
   "execution_count": 7,
   "metadata": {},
   "outputs": [
    {
     "data": {
      "text/plain": [
       "[[{'name': 'dac_ch1',\n",
       "   'label': 'Gate ch1',\n",
       "   'unit': 'V',\n",
       "   'data': array([ 0. ,  0. ,  0. ,  0. ,  0. ,  0. ,  0. ,  0.5,  0.5,  0.5,  0.5,\n",
       "           0.5,  0.5,  0.5,  1. ,  1. ,  1. ,  1. ,  1. ,  1. ,  1. ,  1.5,\n",
       "           1.5,  1.5,  1.5,  1.5,  1.5,  1.5,  2. ,  2. ,  2. ,  2. ,  2. ,\n",
       "           2. ,  2. ])},\n",
       "  {'name': 'SA_Frequency',\n",
       "   'label': '',\n",
       "   'unit': 'Hz',\n",
       "   'data': array([ 0.        ,  0.16666667,  0.33333333,  0.5       ,  0.66666667,\n",
       "           0.83333333,  1.        ,  0.        ,  0.16666667,  0.33333333,\n",
       "           0.5       ,  0.66666667,  0.83333333,  1.        ,  0.        ,\n",
       "           0.16666667,  0.33333333,  0.5       ,  0.66666667,  0.83333333,\n",
       "           1.        ,  0.        ,  0.16666667,  0.33333333,  0.5       ,\n",
       "           0.66666667,  0.83333333,  1.        ,  0.        ,  0.16666667,\n",
       "           0.33333333,  0.5       ,  0.66666667,  0.83333333,  1.        ])},\n",
       "  {'name': 'SA_spectrum',\n",
       "   'label': 'Noisy spectrum',\n",
       "   'unit': 'V/sqrt(Hz)',\n",
       "   'data': array([-0.59694645,  0.10225458, -1.02296367,  1.43603515, -0.11019819,\n",
       "           0.66520575,  0.20784649,  1.47817049,  1.5805834 , -0.38118611,\n",
       "           2.25336451,  1.68362489,  0.23928398, -0.13530789, -1.18715256,\n",
       "           1.80476335, -0.85707962,  0.21863468, -2.05953994, -1.42027349,\n",
       "           0.06668574,  0.46289061,  1.04917768, -0.24119619,  0.70950445,\n",
       "          -0.09799692,  0.63203509,  0.42350213, -0.40723322,  0.339725  ,\n",
       "           0.90528709, -0.63383752,  0.88015351, -1.20919312,  0.56918278])}]]"
      ]
     },
     "execution_count": 7,
     "metadata": {},
     "output_type": "execute_result"
    }
   ],
   "source": [
    "get_data_by_id(run_id1)"
   ]
  },
  {
   "cell_type": "markdown",
   "metadata": {},
   "source": [
    "## Array\n",
    "\n",
    "The array paramtype stores data as binary blobs in the database. Insertion is faster (asymptotically **much** faster) this way, but the data are \"dead\" to SQL queries inside the database."
   ]
  },
  {
   "cell_type": "markdown",
   "metadata": {},
   "source": [
    "### Array example 1\n",
    "\n",
    "Let us repeat the above measurement, but this time using `array` paramtypes."
   ]
  },
  {
   "cell_type": "code",
   "execution_count": 8,
   "metadata": {},
   "outputs": [
    {
     "name": "stdout",
     "output_type": "stream",
     "text": [
      "Starting experimental run with id: 29\n",
      "Finished run in 0.294 s\n"
     ]
    }
   ],
   "source": [
    "meas = Measurement()\n",
    "meas.register_parameter(dac.ch1)\n",
    "meas.register_parameter(SA.spectrum, setpoints=(dac.ch1,), paramtype='array')\n",
    "\n",
    "t0 = time.perf_counter()\n",
    "\n",
    "with meas.run() as datasaver:\n",
    "    for dac_v in np.linspace(0, 2, 5):\n",
    "        dac.ch1(dac_v)\n",
    "        datasaver.add_result((dac.ch1, dac_v), (SA.spectrum, SA.spectrum()))\n",
    "\n",
    "t1 = time.perf_counter()\n",
    "\n",
    "print(f'Finished run in {(t1-t0):.3f} s')\n",
    "        \n",
    "run_id2 = datasaver.run_id"
   ]
  },
  {
   "cell_type": "markdown",
   "metadata": {},
   "source": [
    "Reading back out the data, we can **not** see whether they were stored as `numeric` or `array` type."
   ]
  },
  {
   "cell_type": "code",
   "execution_count": 9,
   "metadata": {},
   "outputs": [
    {
     "data": {
      "text/plain": [
       "[[{'name': 'dac_ch1',\n",
       "   'label': 'Gate ch1',\n",
       "   'unit': 'V',\n",
       "   'data': array([ 0. ,  0. ,  0. ,  0. ,  0. ,  0. ,  0. ,  0.5,  0.5,  0.5,  0.5,\n",
       "           0.5,  0.5,  0.5,  1. ,  1. ,  1. ,  1. ,  1. ,  1. ,  1. ,  1.5,\n",
       "           1.5,  1.5,  1.5,  1.5,  1.5,  1.5,  2. ,  2. ,  2. ,  2. ,  2. ,\n",
       "           2. ,  2. ])},\n",
       "  {'name': 'SA_Frequency',\n",
       "   'label': '',\n",
       "   'unit': 'Hz',\n",
       "   'data': array([ 0.        ,  0.16666667,  0.33333333,  0.5       ,  0.66666667,\n",
       "           0.83333333,  1.        ,  0.        ,  0.16666667,  0.33333333,\n",
       "           0.5       ,  0.66666667,  0.83333333,  1.        ,  0.        ,\n",
       "           0.16666667,  0.33333333,  0.5       ,  0.66666667,  0.83333333,\n",
       "           1.        ,  0.        ,  0.16666667,  0.33333333,  0.5       ,\n",
       "           0.66666667,  0.83333333,  1.        ,  0.        ,  0.16666667,\n",
       "           0.33333333,  0.5       ,  0.66666667,  0.83333333,  1.        ])},\n",
       "  {'name': 'SA_spectrum',\n",
       "   'label': 'Noisy spectrum',\n",
       "   'unit': 'V/sqrt(Hz)',\n",
       "   'data': array([-0.14210659,  0.01537816, -1.11585225,  0.19256697, -1.24936378,\n",
       "          -0.59722332,  1.48691727, -0.61392202,  2.51698418, -1.05520419,\n",
       "           2.012926  , -0.47083362,  0.63224603,  1.2215939 , -0.70638493,\n",
       "           1.21816053,  0.36706363, -0.37491635,  0.1363031 ,  0.31997264,\n",
       "          -0.81226342,  1.16838738, -0.19352216,  0.36867537,  0.49191467,\n",
       "           0.8407468 ,  0.55417413,  0.12166644, -0.38918522, -0.74729668,\n",
       "           0.13636362, -1.08527007,  0.66301365,  0.93554258,  0.74496435])}]]"
      ]
     },
     "execution_count": 9,
     "metadata": {},
     "output_type": "execute_result"
    }
   ],
   "source": [
    "get_data_by_id(run_id2)"
   ]
  },
  {
   "cell_type": "markdown",
   "metadata": {},
   "source": [
    "### Array example 2\n",
    "\n",
    "When storing multidimensional array data (think: Alazar cards), both `numeric` and `array` type can be used."
   ]
  },
  {
   "cell_type": "code",
   "execution_count": 10,
   "metadata": {},
   "outputs": [
    {
     "name": "stdout",
     "output_type": "stream",
     "text": [
      "Starting experimental run with id: 30\n"
     ]
    }
   ],
   "source": [
    "meas = Measurement()\n",
    "meas.register_parameter(SA.spectrum3D, paramtype='array')\n",
    "\n",
    "with meas.run() as datasaver:\n",
    "    datasaver.add_result((SA.spectrum3D, SA.spectrum3D()))\n",
    "run_id3 = datasaver.run_id"
   ]
  },
  {
   "cell_type": "markdown",
   "metadata": {},
   "source": [
    "The data come out the way we expect them to."
   ]
  },
  {
   "cell_type": "code",
   "execution_count": 11,
   "metadata": {},
   "outputs": [
    {
     "data": {
      "text/plain": [
       "[[{'name': 'SA_Frequency0',\n",
       "   'label': '',\n",
       "   'unit': 'Hz',\n",
       "   'data': array([ 0.,  0.,  0.,  0.,  0.,  0.,  0.,  0.,  0.,  0.,  0.,  0.,  0.,\n",
       "           0.,  0.,  1.,  1.,  1.,  1.,  1.,  1.,  1.,  1.,  1.,  1.,  1.,\n",
       "           1.,  1.,  1.,  1.])},\n",
       "  {'name': 'SA_Frequency1',\n",
       "   'label': '',\n",
       "   'unit': 'Other Hz',\n",
       "   'data': array([ 0.  ,  0.  ,  0.  ,  0.25,  0.25,  0.25,  0.5 ,  0.5 ,  0.5 ,\n",
       "           0.75,  0.75,  0.75,  1.  ,  1.  ,  1.  ,  0.  ,  0.  ,  0.  ,\n",
       "           0.25,  0.25,  0.25,  0.5 ,  0.5 ,  0.5 ,  0.75,  0.75,  0.75,\n",
       "           1.  ,  1.  ,  1.  ])},\n",
       "  {'name': 'SA_Frequency2',\n",
       "   'label': '',\n",
       "   'unit': 'Third Hz',\n",
       "   'data': array([ 0. ,  0.5,  1. ,  0. ,  0.5,  1. ,  0. ,  0.5,  1. ,  0. ,  0.5,\n",
       "           1. ,  0. ,  0.5,  1. ,  0. ,  0.5,  1. ,  0. ,  0.5,  1. ,  0. ,\n",
       "           0.5,  1. ,  0. ,  0.5,  1. ,  0. ,  0.5,  1. ])},\n",
       "  {'name': 'SA_spectrum3D',\n",
       "   'label': 'Flower Power Spectrum in 3D',\n",
       "   'unit': 'V/sqrt(Hz)',\n",
       "   'data': array([ 0,  1,  2,  3,  4,  5,  6,  7,  8,  9, 10, 11, 12, 13, 14, 15, 16,\n",
       "          17, 18, 19, 20, 21, 22, 23, 24, 25, 26, 27, 28, 29])}]]"
      ]
     },
     "execution_count": 11,
     "metadata": {},
     "output_type": "execute_result"
    }
   ],
   "source": [
    "get_data_by_id(run_id3)"
   ]
  },
  {
   "cell_type": "markdown",
   "metadata": {},
   "source": [
    "### Array example 3\n",
    "\n",
    "For completeness, an example where the multidimensional array has an auxiliary setpoint."
   ]
  },
  {
   "cell_type": "code",
   "execution_count": 12,
   "metadata": {},
   "outputs": [
    {
     "name": "stdout",
     "output_type": "stream",
     "text": [
      "Starting experimental run with id: 31\n"
     ]
    }
   ],
   "source": [
    "meas = Measurement()\n",
    "meas.register_parameter(dac.ch1)\n",
    "meas.register_parameter(SA.spectrum3D, paramtype='array', setpoints=(dac.ch1,))\n",
    "\n",
    "with meas.run() as datasaver:\n",
    "    for dac_v in [3, 4, 5]:\n",
    "        dac.ch1(dac_v)\n",
    "        datasaver.add_result((dac.ch1, dac_v),\n",
    "                             (SA.spectrum3D, SA.spectrum3D()))\n",
    "run_id4 = datasaver.run_id"
   ]
  },
  {
   "cell_type": "code",
   "execution_count": 13,
   "metadata": {},
   "outputs": [
    {
     "data": {
      "text/plain": [
       "[[{'name': 'dac_ch1',\n",
       "   'label': 'Gate ch1',\n",
       "   'unit': 'V',\n",
       "   'data': array([3, 3, 3, 3, 3, 3, 3, 3, 3, 3, 3, 3, 3, 3, 3, 3, 3, 3, 3, 3, 3, 3, 3,\n",
       "          3, 3, 3, 3, 3, 3, 3, 4, 4, 4, 4, 4, 4, 4, 4, 4, 4, 4, 4, 4, 4, 4, 4,\n",
       "          4, 4, 4, 4, 4, 4, 4, 4, 4, 4, 4, 4, 4, 4, 5, 5, 5, 5, 5, 5, 5, 5, 5,\n",
       "          5, 5, 5, 5, 5, 5, 5, 5, 5, 5, 5, 5, 5, 5, 5, 5, 5, 5, 5, 5, 5])},\n",
       "  {'name': 'SA_Frequency0',\n",
       "   'label': '',\n",
       "   'unit': 'Hz',\n",
       "   'data': array([ 0.,  0.,  0.,  0.,  0.,  0.,  0.,  0.,  0.,  0.,  0.,  0.,  0.,\n",
       "           0.,  0.,  1.,  1.,  1.,  1.,  1.,  1.,  1.,  1.,  1.,  1.,  1.,\n",
       "           1.,  1.,  1.,  1.,  0.,  0.,  0.,  0.,  0.,  0.,  0.,  0.,  0.,\n",
       "           0.,  0.,  0.,  0.,  0.,  0.,  1.,  1.,  1.,  1.,  1.,  1.,  1.,\n",
       "           1.,  1.,  1.,  1.,  1.,  1.,  1.,  1.,  0.,  0.,  0.,  0.,  0.,\n",
       "           0.,  0.,  0.,  0.,  0.,  0.,  0.,  0.,  0.,  0.,  1.,  1.,  1.,\n",
       "           1.,  1.,  1.,  1.,  1.,  1.,  1.,  1.,  1.,  1.,  1.,  1.])},\n",
       "  {'name': 'SA_Frequency1',\n",
       "   'label': '',\n",
       "   'unit': 'Other Hz',\n",
       "   'data': array([ 0.  ,  0.  ,  0.  ,  0.25,  0.25,  0.25,  0.5 ,  0.5 ,  0.5 ,\n",
       "           0.75,  0.75,  0.75,  1.  ,  1.  ,  1.  ,  0.  ,  0.  ,  0.  ,\n",
       "           0.25,  0.25,  0.25,  0.5 ,  0.5 ,  0.5 ,  0.75,  0.75,  0.75,\n",
       "           1.  ,  1.  ,  1.  ,  0.  ,  0.  ,  0.  ,  0.25,  0.25,  0.25,\n",
       "           0.5 ,  0.5 ,  0.5 ,  0.75,  0.75,  0.75,  1.  ,  1.  ,  1.  ,\n",
       "           0.  ,  0.  ,  0.  ,  0.25,  0.25,  0.25,  0.5 ,  0.5 ,  0.5 ,\n",
       "           0.75,  0.75,  0.75,  1.  ,  1.  ,  1.  ,  0.  ,  0.  ,  0.  ,\n",
       "           0.25,  0.25,  0.25,  0.5 ,  0.5 ,  0.5 ,  0.75,  0.75,  0.75,\n",
       "           1.  ,  1.  ,  1.  ,  0.  ,  0.  ,  0.  ,  0.25,  0.25,  0.25,\n",
       "           0.5 ,  0.5 ,  0.5 ,  0.75,  0.75,  0.75,  1.  ,  1.  ,  1.  ])},\n",
       "  {'name': 'SA_Frequency2',\n",
       "   'label': '',\n",
       "   'unit': 'Third Hz',\n",
       "   'data': array([ 0. ,  0.5,  1. ,  0. ,  0.5,  1. ,  0. ,  0.5,  1. ,  0. ,  0.5,\n",
       "           1. ,  0. ,  0.5,  1. ,  0. ,  0.5,  1. ,  0. ,  0.5,  1. ,  0. ,\n",
       "           0.5,  1. ,  0. ,  0.5,  1. ,  0. ,  0.5,  1. ,  0. ,  0.5,  1. ,\n",
       "           0. ,  0.5,  1. ,  0. ,  0.5,  1. ,  0. ,  0.5,  1. ,  0. ,  0.5,\n",
       "           1. ,  0. ,  0.5,  1. ,  0. ,  0.5,  1. ,  0. ,  0.5,  1. ,  0. ,\n",
       "           0.5,  1. ,  0. ,  0.5,  1. ,  0. ,  0.5,  1. ,  0. ,  0.5,  1. ,\n",
       "           0. ,  0.5,  1. ,  0. ,  0.5,  1. ,  0. ,  0.5,  1. ,  0. ,  0.5,\n",
       "           1. ,  0. ,  0.5,  1. ,  0. ,  0.5,  1. ,  0. ,  0.5,  1. ,  0. ,\n",
       "           0.5,  1. ])},\n",
       "  {'name': 'SA_spectrum3D',\n",
       "   'label': 'Flower Power Spectrum in 3D',\n",
       "   'unit': 'V/sqrt(Hz)',\n",
       "   'data': array([ 0,  1,  2,  3,  4,  5,  6,  7,  8,  9, 10, 11, 12, 13, 14, 15, 16,\n",
       "          17, 18, 19, 20, 21, 22, 23, 24, 25, 26, 27, 28, 29,  0,  1,  2,  3,\n",
       "           4,  5,  6,  7,  8,  9, 10, 11, 12, 13, 14, 15, 16, 17, 18, 19, 20,\n",
       "          21, 22, 23, 24, 25, 26, 27, 28, 29,  0,  1,  2,  3,  4,  5,  6,  7,\n",
       "           8,  9, 10, 11, 12, 13, 14, 15, 16, 17, 18, 19, 20, 21, 22, 23, 24,\n",
       "          25, 26, 27, 28, 29])}]]"
      ]
     },
     "execution_count": 13,
     "metadata": {},
     "output_type": "execute_result"
    }
   ],
   "source": [
    "get_data_by_id(run_id4)"
   ]
  },
  {
   "cell_type": "markdown",
   "metadata": {},
   "source": [
    "## Text\n",
    "\n",
    "Text is strings. Sometimes it may be useful to capture categorial data that is represented as string values, or a log message, or else.\n",
    "\n",
    "Note that the `paramtype` setting is important. The datasaver will not allow to save numeric data for a parameter that was registered as `'text'`. The opposite it also true: the datasaver will not allow to save strings for a parameter what was registered as non-`'text'` (`'numeric'` or `'array'`)."
   ]
  },
  {
   "cell_type": "code",
   "execution_count": 14,
   "metadata": {},
   "outputs": [
    {
     "name": "stdout",
     "output_type": "stream",
     "text": [
      "Starting experimental run with id: 32\n"
     ]
    }
   ],
   "source": [
    "meas = Measurement()\n",
    "meas.register_parameter(dac.ch1)\n",
    "meas.register_parameter(dac.control, setpoints=(dac.ch1,), paramtype='text')\n",
    "\n",
    "with meas.run() as datasaver:\n",
    "    for dac_v in np.linspace(4, 6, 10):\n",
    "        dac.ch1(dac_v)\n",
    "        datasaver.add_result((dac.ch1, dac_v),\n",
    "                             (dac.control, dac.control()))\n",
    "run_id5 = datasaver.run_id"
   ]
  },
  {
   "cell_type": "code",
   "execution_count": 15,
   "metadata": {},
   "outputs": [
    {
     "data": {
      "text/plain": [
       "[[{'name': 'dac_ch1',\n",
       "   'label': 'Gate ch1',\n",
       "   'unit': 'V',\n",
       "   'data': array([ 4.        ,  4.22222222,  4.44444444,  4.66666667,  4.88888889,\n",
       "           5.11111111,  5.33333333,  5.55555556,  5.77777778,  6.        ])},\n",
       "  {'name': 'dac_control',\n",
       "   'label': 'control',\n",
       "   'unit': '',\n",
       "   'data': array(['OK', 'OK', 'OK', 'OK', 'OK', 'Too high', 'Too high', 'Too high',\n",
       "          'Too high', 'Too high'],\n",
       "         dtype='<U8')}]]"
      ]
     },
     "execution_count": 15,
     "metadata": {},
     "output_type": "execute_result"
    }
   ],
   "source": [
    "get_data_by_id(run_id5)"
   ]
  },
  {
   "cell_type": "code",
   "execution_count": null,
   "metadata": {},
   "outputs": [],
   "source": []
  }
 ],
 "metadata": {
  "kernelspec": {
   "display_name": "Python 3",
   "language": "python",
   "name": "python3"
  },
  "language_info": {
   "codemirror_mode": {
    "name": "ipython",
    "version": 3
   },
   "file_extension": ".py",
   "mimetype": "text/x-python",
   "name": "python",
   "nbconvert_exporter": "python",
   "pygments_lexer": "ipython3",
   "version": "3.6.5"
  }
 },
 "nbformat": 4,
 "nbformat_minor": 2
}
