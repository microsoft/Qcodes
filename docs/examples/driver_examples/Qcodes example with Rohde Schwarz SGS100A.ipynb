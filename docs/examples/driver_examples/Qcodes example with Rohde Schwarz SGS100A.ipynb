{
 "cells": [
  {
   "cell_type": "markdown",
   "metadata": {},
   "source": [
    "# QCoDeS Example with Rohde Schwarz SGS100A RF source"
   ]
  },
  {
   "cell_type": "code",
   "execution_count": null,
   "metadata": {},
   "outputs": [],
   "source": [
    "import qcodes as qc\n",
    "\n",
    "from qcodes.instrument_drivers.rohde_schwarz.SGS100A import RohdeSchwarz_SGS100A"
   ]
  },
  {
   "cell_type": "code",
   "execution_count": 2,
   "metadata": {},
   "outputs": [
    {
     "name": "stdout",
     "output_type": "stream",
     "text": [
      "Connected to: Rohde&Schwarz SGS100A (serial:1416.0505k02/103074, firmware:3.1.19.7-3.20.140.60.1) in 0.06s\n"
     ]
    }
   ],
   "source": [
    "sgsa = RohdeSchwarz_SGS100A(\"SGSA100\", \"TCPIP0::10.0.100.124::inst0::INSTR\")"
   ]
  },
  {
   "cell_type": "code",
   "execution_count": 3,
   "metadata": {},
   "outputs": [
    {
     "name": "stdout",
     "output_type": "stream",
     "text": [
      "SGSA100:\n",
      "\tparameter            value\n",
      "--------------------------------------------------------------------------------\n",
      "IDN                   :\t{'vendor': 'Rohde&Schwarz', 'model': 'SGS100A', 'seri...\n",
      "IQ_angle              :\t0 \n",
      "IQ_gain_imbalance     :\t0 \n",
      "IQ_impairments        :\tFalse \n",
      "IQ_state              :\tFalse \n",
      "I_offset              :\t0 \n",
      "LO_source             :\tINT \n",
      "Q_offset              :\t0 \n",
      "frequency             :\t1e+10 (Hz)\n",
      "phase                 :\t0 (deg)\n",
      "power                 :\t-20 (dBm)\n",
      "pulsemod_source       :\tINT \n",
      "pulsemod_state        :\tFalse \n",
      "ref_LO_out            :\tOFF \n",
      "ref_osc_external_freq :\t10MHZ \n",
      "ref_osc_output_freq   :\t10MHZ \n",
      "ref_osc_source        :\tINT \n",
      "status                :\tFalse \n",
      "timeout               :\t5 (s)\n"
     ]
    }
   ],
   "source": [
    "sgsa.print_readable_snapshot(update=True)"
   ]
  },
  {
   "cell_type": "code",
   "execution_count": 4,
   "metadata": {},
   "outputs": [],
   "source": [
    "# set a power and a frequency\n",
    "sgsa.frequency(10e9)\n",
    "sgsa.power(-5)"
   ]
  },
  {
   "cell_type": "code",
   "execution_count": 5,
   "metadata": {},
   "outputs": [],
   "source": [
    "# start RF output\n",
    "sgsa.status(True)"
   ]
  },
  {
   "cell_type": "code",
   "execution_count": 6,
   "metadata": {},
   "outputs": [],
   "source": [
    "# stop RF outout\n",
    "sgsa.status(False)"
   ]
  }
 ],
 "metadata": {
  "kernelspec": {
   "display_name": "Python 3",
   "language": "python",
   "name": "python3"
  },
  "language_info": {
   "codemirror_mode": {
    "name": "ipython",
    "version": 3
   },
   "file_extension": ".py",
   "mimetype": "text/x-python",
   "name": "python",
   "nbconvert_exporter": "python",
   "pygments_lexer": "ipython3",
   "version": "3.8.10"
  },
  "nbsphinx": {
   "execute": "never"
  }
 },
 "nbformat": 4,
 "nbformat_minor": 4
}
