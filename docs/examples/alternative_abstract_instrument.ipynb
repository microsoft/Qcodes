{
 "cells": [
  {
   "cell_type": "code",
   "execution_count": 1,
   "id": "d1f09ee6",
   "metadata": {},
   "outputs": [],
   "source": [
    "from functools import wraps\n",
    "from typing import Any, Type\n",
    "from qcodes import Instrument, Parameter\n",
    "from qcodes.instrument.base import InstrumentBase\n",
    "from qcodes.instrument.parameter import _BaseParameter"
   ]
  },
  {
   "cell_type": "code",
   "execution_count": 2,
   "id": "97582d3b",
   "metadata": {},
   "outputs": [],
   "source": [
    "class AbstractParameter(Parameter):\n",
    "    \"\"\"\n",
    "    This is a trivial subclass of 'Parameter' to signal\n",
    "    that this parameters *must* be overridden in\n",
    "    subclasses of abstract instruments.\n",
    "    \"\"\"\n",
    "\n",
    "\n",
    "class AbstractParameterException(Exception):\n",
    "    \"\"\"\n",
    "    Errors with abstract parameter utilization should\n",
    "    raise this exception class.\n",
    "    \"\"\""
   ]
  },
  {
   "cell_type": "code",
   "execution_count": 3,
   "id": "5fda5b92",
   "metadata": {},
   "outputs": [],
   "source": [
    "class AbstractInstrument(Instrument): \n",
    "    \n",
    "    def __new__(cls, *args, **kwargs): \n",
    "        instance = super().__new__(cls)\n",
    "        cls.__init__(instance, *args, **kwargs)\n",
    "        cls.__check_abstracts__(instance)\n",
    "        return instance\n",
    "    \n",
    "    def __check_abstracts__(self): \n",
    "        \n",
    "        abstract_parameters = [\n",
    "            parameter.name for parameter in self.parameters.values()\n",
    "            if isinstance(parameter, AbstractParameter)\n",
    "        ]\n",
    "\n",
    "        if any(abstract_parameters):\n",
    "            cls_name = type(self).__name__\n",
    "\n",
    "            raise AbstractParameterException(\n",
    "                f\"Class '{cls_name}' has un-implemented Abstract Parameter(s): \" +\n",
    "                \", \".join([f\"'{name}'\" for name in abstract_parameters])\n",
    "            )\n",
    "    \n",
    "    def add_parameter(\n",
    "            self, name: str, parameter_class: Type[_BaseParameter] = Parameter,\n",
    "            **kwargs: Any\n",
    "    ) -> None:\n",
    "\n",
    "        existing_parameter = self.parameters.get(name, None)\n",
    "\n",
    "        if isinstance(existing_parameter, AbstractParameter):\n",
    "            # For abstract parameters, we define special behavior.\n",
    "            existing_unit = getattr(existing_parameter, \"unit\", None)\n",
    "            new_unit = kwargs.get(\"unit\", None)\n",
    "\n",
    "            if existing_unit and existing_unit != new_unit:\n",
    "                raise AbstractParameterException(\n",
    "                    f\"The unit of the parameter '{name}' is '{new_unit}', \"\n",
    "                    f\"which is inconsistent with the unit '{existing_unit}' \"\n",
    "                    f\"specified in the baseclass {cls.__name__!r} \"\n",
    "                )\n",
    "\n",
    "            # Remove the original abstract parameter to make room for the implementation\n",
    "            # in the subclass.\n",
    "            del self.parameters[name]\n",
    "\n",
    "        super().add_parameter(\n",
    "            name, parameter_class=parameter_class, **kwargs\n",
    "        )"
   ]
  },
  {
   "cell_type": "code",
   "execution_count": 4,
   "id": "cb8cf573",
   "metadata": {},
   "outputs": [],
   "source": [
    "class AbstractVoltage(AbstractInstrument): \n",
    "    \n",
    "    def __init__(self, name): \n",
    "        super().__init__(name)\n",
    "    \n",
    "        self.add_parameter(\n",
    "            \"voltage\",\n",
    "            parameter_class=AbstractParameter,\n",
    "            unit=\"V\"\n",
    "        )\n",
    "    "
   ]
  },
  {
   "cell_type": "code",
   "execution_count": 5,
   "id": "77d741b8",
   "metadata": {},
   "outputs": [
    {
     "ename": "AbstractParameterException",
     "evalue": "Class 'AbstractVoltage' has un-implemented Abstract Parameter(s): 'voltage'",
     "output_type": "error",
     "traceback": [
      "\u001b[1;31m---------------------------------------------------------------------------\u001b[0m",
      "\u001b[1;31mAbstractParameterException\u001b[0m                Traceback (most recent call last)",
      "\u001b[1;32m<ipython-input-5-6e67a758c7e2>\u001b[0m in \u001b[0;36m<module>\u001b[1;34m\u001b[0m\n\u001b[1;32m----> 1\u001b[1;33m \u001b[0mAbstractVoltage\u001b[0m\u001b[1;33m(\u001b[0m\u001b[1;34m\"name2\"\u001b[0m\u001b[1;33m)\u001b[0m\u001b[1;33m\u001b[0m\u001b[1;33m\u001b[0m\u001b[0m\n\u001b[0m",
      "\u001b[1;32m<ipython-input-3-2a782d383528>\u001b[0m in \u001b[0;36m__new__\u001b[1;34m(cls, *args, **kwargs)\u001b[0m\n\u001b[0;32m      4\u001b[0m         \u001b[0minstance\u001b[0m \u001b[1;33m=\u001b[0m \u001b[0msuper\u001b[0m\u001b[1;33m(\u001b[0m\u001b[1;33m)\u001b[0m\u001b[1;33m.\u001b[0m\u001b[0m__new__\u001b[0m\u001b[1;33m(\u001b[0m\u001b[0mcls\u001b[0m\u001b[1;33m)\u001b[0m\u001b[1;33m\u001b[0m\u001b[1;33m\u001b[0m\u001b[0m\n\u001b[0;32m      5\u001b[0m         \u001b[0mcls\u001b[0m\u001b[1;33m.\u001b[0m\u001b[0m__init__\u001b[0m\u001b[1;33m(\u001b[0m\u001b[0minstance\u001b[0m\u001b[1;33m,\u001b[0m \u001b[1;33m*\u001b[0m\u001b[0margs\u001b[0m\u001b[1;33m,\u001b[0m \u001b[1;33m**\u001b[0m\u001b[0mkwargs\u001b[0m\u001b[1;33m)\u001b[0m\u001b[1;33m\u001b[0m\u001b[1;33m\u001b[0m\u001b[0m\n\u001b[1;32m----> 6\u001b[1;33m         \u001b[0mcls\u001b[0m\u001b[1;33m.\u001b[0m\u001b[0m__check_abstracts__\u001b[0m\u001b[1;33m(\u001b[0m\u001b[0minstance\u001b[0m\u001b[1;33m)\u001b[0m\u001b[1;33m\u001b[0m\u001b[1;33m\u001b[0m\u001b[0m\n\u001b[0m\u001b[0;32m      7\u001b[0m         \u001b[1;32mreturn\u001b[0m \u001b[0minstance\u001b[0m\u001b[1;33m\u001b[0m\u001b[1;33m\u001b[0m\u001b[0m\n\u001b[0;32m      8\u001b[0m \u001b[1;33m\u001b[0m\u001b[0m\n",
      "\u001b[1;32m<ipython-input-3-2a782d383528>\u001b[0m in \u001b[0;36m__check_abstracts__\u001b[1;34m(self)\u001b[0m\n\u001b[0;32m     17\u001b[0m             \u001b[0mcls_name\u001b[0m \u001b[1;33m=\u001b[0m \u001b[0mtype\u001b[0m\u001b[1;33m(\u001b[0m\u001b[0mself\u001b[0m\u001b[1;33m)\u001b[0m\u001b[1;33m.\u001b[0m\u001b[0m__name__\u001b[0m\u001b[1;33m\u001b[0m\u001b[1;33m\u001b[0m\u001b[0m\n\u001b[0;32m     18\u001b[0m \u001b[1;33m\u001b[0m\u001b[0m\n\u001b[1;32m---> 19\u001b[1;33m             raise AbstractParameterException(\n\u001b[0m\u001b[0;32m     20\u001b[0m                 \u001b[1;34mf\"Class '{cls_name}' has un-implemented Abstract Parameter(s): \"\u001b[0m \u001b[1;33m+\u001b[0m\u001b[1;33m\u001b[0m\u001b[1;33m\u001b[0m\u001b[0m\n\u001b[0;32m     21\u001b[0m                 \u001b[1;34m\", \"\u001b[0m\u001b[1;33m.\u001b[0m\u001b[0mjoin\u001b[0m\u001b[1;33m(\u001b[0m\u001b[1;33m[\u001b[0m\u001b[1;34mf\"'{name}'\"\u001b[0m \u001b[1;32mfor\u001b[0m \u001b[0mname\u001b[0m \u001b[1;32min\u001b[0m \u001b[0mabstract_parameters\u001b[0m\u001b[1;33m]\u001b[0m\u001b[1;33m)\u001b[0m\u001b[1;33m\u001b[0m\u001b[1;33m\u001b[0m\u001b[0m\n",
      "\u001b[1;31mAbstractParameterException\u001b[0m: Class 'AbstractVoltage' has un-implemented Abstract Parameter(s): 'voltage'"
     ]
    }
   ],
   "source": [
    "AbstractVoltage(\"name2\")"
   ]
  },
  {
   "cell_type": "code",
   "execution_count": 6,
   "id": "96a00bcb",
   "metadata": {},
   "outputs": [],
   "source": [
    "class VoltageSource(AbstractVoltage): \n",
    "    def __init__(self, name):\n",
    "        super().__init__(name)\n",
    "        \n",
    "        self.add_parameter(\n",
    "            \"voltage\", \n",
    "            unit=\"V\", \n",
    "            set_cmd=None, \n",
    "            get_cmd=None\n",
    "        )"
   ]
  },
  {
   "cell_type": "code",
   "execution_count": 7,
   "id": "af6a6296",
   "metadata": {},
   "outputs": [
    {
     "ename": "KeyError",
     "evalue": "'Another instrument has the name: name400'",
     "output_type": "error",
     "traceback": [
      "\u001b[1;31m---------------------------------------------------------------------------\u001b[0m",
      "\u001b[1;31mKeyError\u001b[0m                                  Traceback (most recent call last)",
      "\u001b[1;32m<ipython-input-7-35bc1062800a>\u001b[0m in \u001b[0;36m<module>\u001b[1;34m\u001b[0m\n\u001b[1;32m----> 1\u001b[1;33m \u001b[0minstrument\u001b[0m \u001b[1;33m=\u001b[0m \u001b[0mVoltageSource\u001b[0m\u001b[1;33m(\u001b[0m\u001b[1;34m\"name400\"\u001b[0m\u001b[1;33m)\u001b[0m\u001b[1;33m\u001b[0m\u001b[1;33m\u001b[0m\u001b[0m\n\u001b[0m",
      "\u001b[1;32m<ipython-input-6-36566972677b>\u001b[0m in \u001b[0;36m__init__\u001b[1;34m(self, name)\u001b[0m\n\u001b[0;32m      1\u001b[0m \u001b[1;32mclass\u001b[0m \u001b[0mVoltageSource\u001b[0m\u001b[1;33m(\u001b[0m\u001b[0mAbstractVoltage\u001b[0m\u001b[1;33m)\u001b[0m\u001b[1;33m:\u001b[0m\u001b[1;33m\u001b[0m\u001b[1;33m\u001b[0m\u001b[0m\n\u001b[0;32m      2\u001b[0m     \u001b[1;32mdef\u001b[0m \u001b[0m__init__\u001b[0m\u001b[1;33m(\u001b[0m\u001b[0mself\u001b[0m\u001b[1;33m,\u001b[0m \u001b[0mname\u001b[0m\u001b[1;33m)\u001b[0m\u001b[1;33m:\u001b[0m\u001b[1;33m\u001b[0m\u001b[1;33m\u001b[0m\u001b[0m\n\u001b[1;32m----> 3\u001b[1;33m         \u001b[0msuper\u001b[0m\u001b[1;33m(\u001b[0m\u001b[1;33m)\u001b[0m\u001b[1;33m.\u001b[0m\u001b[0m__init__\u001b[0m\u001b[1;33m(\u001b[0m\u001b[0mname\u001b[0m\u001b[1;33m)\u001b[0m\u001b[1;33m\u001b[0m\u001b[1;33m\u001b[0m\u001b[0m\n\u001b[0m\u001b[0;32m      4\u001b[0m \u001b[1;33m\u001b[0m\u001b[0m\n\u001b[0;32m      5\u001b[0m         self.add_parameter(\n",
      "\u001b[1;32m<ipython-input-4-20cdece02c99>\u001b[0m in \u001b[0;36m__init__\u001b[1;34m(self, name)\u001b[0m\n\u001b[0;32m      2\u001b[0m \u001b[1;33m\u001b[0m\u001b[0m\n\u001b[0;32m      3\u001b[0m     \u001b[1;32mdef\u001b[0m \u001b[0m__init__\u001b[0m\u001b[1;33m(\u001b[0m\u001b[0mself\u001b[0m\u001b[1;33m,\u001b[0m \u001b[0mname\u001b[0m\u001b[1;33m)\u001b[0m\u001b[1;33m:\u001b[0m\u001b[1;33m\u001b[0m\u001b[1;33m\u001b[0m\u001b[0m\n\u001b[1;32m----> 4\u001b[1;33m         \u001b[0msuper\u001b[0m\u001b[1;33m(\u001b[0m\u001b[1;33m)\u001b[0m\u001b[1;33m.\u001b[0m\u001b[0m__init__\u001b[0m\u001b[1;33m(\u001b[0m\u001b[0mname\u001b[0m\u001b[1;33m)\u001b[0m\u001b[1;33m\u001b[0m\u001b[1;33m\u001b[0m\u001b[0m\n\u001b[0m\u001b[0;32m      5\u001b[0m \u001b[1;33m\u001b[0m\u001b[0m\n\u001b[0;32m      6\u001b[0m         self.add_parameter(\n",
      "\u001b[1;32mc:\\users\\sochatoo\\development\\qcodes\\qcodes\\instrument\\base.py\u001b[0m in \u001b[0;36m__init__\u001b[1;34m(self, name, metadata)\u001b[0m\n\u001b[0;32m    439\u001b[0m                            vals=Anything())\n\u001b[0;32m    440\u001b[0m \u001b[1;33m\u001b[0m\u001b[0m\n\u001b[1;32m--> 441\u001b[1;33m         \u001b[0mself\u001b[0m\u001b[1;33m.\u001b[0m\u001b[0mrecord_instance\u001b[0m\u001b[1;33m(\u001b[0m\u001b[0mself\u001b[0m\u001b[1;33m)\u001b[0m\u001b[1;33m\u001b[0m\u001b[1;33m\u001b[0m\u001b[0m\n\u001b[0m\u001b[0;32m    442\u001b[0m \u001b[1;33m\u001b[0m\u001b[0m\n\u001b[0;32m    443\u001b[0m     \u001b[1;32mdef\u001b[0m \u001b[0mget_idn\u001b[0m\u001b[1;33m(\u001b[0m\u001b[0mself\u001b[0m\u001b[1;33m)\u001b[0m \u001b[1;33m->\u001b[0m \u001b[0mDict\u001b[0m\u001b[1;33m[\u001b[0m\u001b[0mstr\u001b[0m\u001b[1;33m,\u001b[0m \u001b[0mOptional\u001b[0m\u001b[1;33m[\u001b[0m\u001b[0mstr\u001b[0m\u001b[1;33m]\u001b[0m\u001b[1;33m]\u001b[0m\u001b[1;33m:\u001b[0m\u001b[1;33m\u001b[0m\u001b[1;33m\u001b[0m\u001b[0m\n",
      "\u001b[1;32mc:\\users\\sochatoo\\development\\qcodes\\qcodes\\instrument\\base.py\u001b[0m in \u001b[0;36mrecord_instance\u001b[1;34m(cls, instance)\u001b[0m\n\u001b[0;32m    572\u001b[0m         \u001b[0mexisting_wr\u001b[0m \u001b[1;33m=\u001b[0m \u001b[0mcls\u001b[0m\u001b[1;33m.\u001b[0m\u001b[0m_all_instruments\u001b[0m\u001b[1;33m.\u001b[0m\u001b[0mget\u001b[0m\u001b[1;33m(\u001b[0m\u001b[0mname\u001b[0m\u001b[1;33m)\u001b[0m\u001b[1;33m\u001b[0m\u001b[1;33m\u001b[0m\u001b[0m\n\u001b[0;32m    573\u001b[0m         \u001b[1;32mif\u001b[0m \u001b[0mexisting_wr\u001b[0m \u001b[1;32mand\u001b[0m \u001b[0mexisting_wr\u001b[0m\u001b[1;33m(\u001b[0m\u001b[1;33m)\u001b[0m\u001b[1;33m:\u001b[0m\u001b[1;33m\u001b[0m\u001b[1;33m\u001b[0m\u001b[0m\n\u001b[1;32m--> 574\u001b[1;33m             \u001b[1;32mraise\u001b[0m \u001b[0mKeyError\u001b[0m\u001b[1;33m(\u001b[0m\u001b[1;34mf'Another instrument has the name: {name}'\u001b[0m\u001b[1;33m)\u001b[0m\u001b[1;33m\u001b[0m\u001b[1;33m\u001b[0m\u001b[0m\n\u001b[0m\u001b[0;32m    575\u001b[0m \u001b[1;33m\u001b[0m\u001b[0m\n\u001b[0;32m    576\u001b[0m         \u001b[0mcls\u001b[0m\u001b[1;33m.\u001b[0m\u001b[0m_all_instruments\u001b[0m\u001b[1;33m[\u001b[0m\u001b[0mname\u001b[0m\u001b[1;33m]\u001b[0m \u001b[1;33m=\u001b[0m \u001b[0mwr\u001b[0m\u001b[1;33m\u001b[0m\u001b[1;33m\u001b[0m\u001b[0m\n",
      "\u001b[1;31mKeyError\u001b[0m: 'Another instrument has the name: name400'"
     ]
    }
   ],
   "source": [
    "instrument = VoltageSource(\"name400\")"
   ]
  },
  {
   "cell_type": "code",
   "execution_count": 8,
   "id": "fcc46573",
   "metadata": {},
   "outputs": [
    {
     "data": {
      "text/plain": [
       "{'name2': <weakref at 0x000002107FB5AAE0; to 'AbstractVoltage' at 0x000002106E673130>,\n",
       " 'name400': <weakref at 0x000002107FC744F0; to 'VoltageSource' at 0x000002107FB6E100>}"
      ]
     },
     "execution_count": 8,
     "metadata": {},
     "output_type": "execute_result"
    }
   ],
   "source": [
    "VoltageSource._all_instruments"
   ]
  },
  {
   "cell_type": "code",
   "execution_count": 8,
   "id": "9f239f0a",
   "metadata": {},
   "outputs": [
    {
     "ename": "AttributeError",
     "evalue": "'NoneType' object has no attribute 'voltage'",
     "output_type": "error",
     "traceback": [
      "\u001b[1;31m---------------------------------------------------------------------------\u001b[0m",
      "\u001b[1;31mAttributeError\u001b[0m                            Traceback (most recent call last)",
      "\u001b[1;32m<ipython-input-8-f959e1fac4de>\u001b[0m in \u001b[0;36m<module>\u001b[1;34m\u001b[0m\n\u001b[1;32m----> 1\u001b[1;33m \u001b[0minstrument\u001b[0m\u001b[1;33m.\u001b[0m\u001b[0mvoltage\u001b[0m\u001b[1;33m(\u001b[0m\u001b[1;36m0.1\u001b[0m\u001b[1;33m)\u001b[0m\u001b[1;33m\u001b[0m\u001b[1;33m\u001b[0m\u001b[0m\n\u001b[0m",
      "\u001b[1;31mAttributeError\u001b[0m: 'NoneType' object has no attribute 'voltage'"
     ]
    }
   ],
   "source": [
    "instrument.voltage(0.1)"
   ]
  },
  {
   "cell_type": "code",
   "execution_count": null,
   "id": "36908703",
   "metadata": {},
   "outputs": [],
   "source": []
  }
 ],
 "metadata": {
  "kernelspec": {
   "display_name": "Python 3",
   "language": "python",
   "name": "python3"
  },
  "language_info": {
   "codemirror_mode": {
    "name": "ipython",
    "version": 3
   },
   "file_extension": ".py",
   "mimetype": "text/x-python",
   "name": "python",
   "nbconvert_exporter": "python",
   "pygments_lexer": "ipython3",
   "version": "3.8.10"
  }
 },
 "nbformat": 4,
 "nbformat_minor": 5
}
