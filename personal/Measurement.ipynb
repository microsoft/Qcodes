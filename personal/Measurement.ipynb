{
 "cells": [
  {
   "cell_type": "code",
   "execution_count": 1,
   "metadata": {
    "collapsed": false
   },
   "outputs": [
    {
     "data": {
      "application/javascript": [
       "/*\r\n",
       " * Qcodes Jupyter/IPython widgets\r\n",
       " */\r\n",
       "require([\r\n",
       "    'nbextensions/widgets/widgets/js/widget',\r\n",
       "    'nbextensions/widgets/widgets/js/manager'\r\n",
       "], function (widget, manager) {\r\n",
       "\r\n",
       "    var UpdateView = widget.DOMWidgetView.extend({\r\n",
       "        render: function() {\r\n",
       "            window.MYWIDGET = this;\r\n",
       "            this._interval = 0;\r\n",
       "            this.update();\r\n",
       "        },\r\n",
       "        update: function() {\r\n",
       "            this.display(this.model.get('_message'));\r\n",
       "            this.setInterval();\r\n",
       "        },\r\n",
       "        display: function(message) {\r\n",
       "            /*\r\n",
       "             * display method: override this for custom display logic\r\n",
       "             */\r\n",
       "            this.el.innerHTML = message;\r\n",
       "        },\r\n",
       "        remove: function() {\r\n",
       "            clearInterval(this._updater);\r\n",
       "        },\r\n",
       "        setInterval: function(newInterval) {\r\n",
       "            var me = this;\r\n",
       "            if(newInterval===undefined) newInterval = me.model.get('interval');\r\n",
       "            if(newInterval===me._interval) return;\r\n",
       "\r\n",
       "            me._interval = newInterval;\r\n",
       "\r\n",
       "            if(me._updater) clearInterval(me._updater);\r\n",
       "\r\n",
       "            if(me._interval) {\r\n",
       "                me._updater = setInterval(function() {\r\n",
       "                    me.send({myupdate: true});\r\n",
       "                    if(!me.model.comm_live) {\r\n",
       "                        console.log('missing comm, canceling widget updates', me);\r\n",
       "                        clearInterval(me._updater);\r\n",
       "                    }\r\n",
       "                }, me._interval * 1000);\r\n",
       "            }\r\n",
       "        }\r\n",
       "    });\r\n",
       "    manager.WidgetManager.register_widget_view('UpdateView', UpdateView);\r\n",
       "\r\n",
       "    var HiddenUpdateView = UpdateView.extend({\r\n",
       "        display: function(message) {\r\n",
       "            this.$el.hide();\r\n",
       "        }\r\n",
       "    });\r\n",
       "    manager.WidgetManager.register_widget_view('HiddenUpdateView', HiddenUpdateView);\r\n",
       "\r\n",
       "    var SubprocessView = UpdateView.extend({\r\n",
       "        render: function() {\r\n",
       "            var me = this;\r\n",
       "            me._interval = 0;\r\n",
       "            me._minimize = '<i class=\"fa-minus fa\"></i>';\r\n",
       "            me._restore = '<i class=\"fa-plus fa\"></i>';\r\n",
       "\r\n",
       "            // max lines of output to show\r\n",
       "            me.maxOutputLength = 500;\r\n",
       "\r\n",
       "            // in case there is already an outputView present,\r\n",
       "            // like from before restarting the kernel\r\n",
       "            $('.qcodes-output-view').not(me.$el).remove();\r\n",
       "\r\n",
       "            me.$el\r\n",
       "                .addClass('qcodes-output-view')\r\n",
       "                .attr('qcodes-state', 'docked')\r\n",
       "                .html(\r\n",
       "                    '<div class=\"qcodes-output-header toolbar\">' +\r\n",
       "                        '<div class=\"qcodes-process-list\"></div>' +\r\n",
       "                        '<button class=\"btn qcodes-processlines\"><i class=\"fa-list fa\"></i></button>' +\r\n",
       "                        '<button class=\"btn qcodes-abort-loop disabled\">Abort</button>' +\r\n",
       "                        '<button class=\"btn qcodes-clear-output disabled qcodes-content\">Clear</button>' +\r\n",
       "                        '<button class=\"btn js-state qcodes-minimized\"><i class=\"fa-minus fa\"></i></button>' +\r\n",
       "                        '<button class=\"btn js-state qcodes-docked\"><i class=\"fa-toggle-up fa\"></i></button>' +\r\n",
       "                        '<button class=\"btn js-state qcodes-floated\"><i class=\"fa-arrows fa\"></i></button>' +\r\n",
       "                    '</div>' +\r\n",
       "                    '<pre class=\"qcodes-content\"></pre>'\r\n",
       "                );\r\n",
       "\r\n",
       "            me.clearButton = me.$el.find('.qcodes-clear-output');\r\n",
       "            me.minButton = me.$el.find('.qcodes-minimize');\r\n",
       "            me.outputArea = me.$el.find('pre');\r\n",
       "            me.subprocessList = me.$el.find('.qcodes-process-list');\r\n",
       "            me.abortButton = me.$el.find('.qcodes-abort-loop');\r\n",
       "            me.processLinesButton = me.$el.find('.qcodes-processlines')\r\n",
       "\r\n",
       "            me.outputLines = [];\r\n",
       "\r\n",
       "            me.clearButton.click(function() {\r\n",
       "                me.outputArea.html('');\r\n",
       "                me.clearButton.addClass('disabled');\r\n",
       "            });\r\n",
       "\r\n",
       "            me.abortButton.click(function() {\r\n",
       "                me.send({abort: true});\r\n",
       "            });\r\n",
       "\r\n",
       "            me.processLinesButton.click(function() {\r\n",
       "                // toggle multiline process list display\r\n",
       "                me.subprocessesMultiline = !me.subprocessesMultiline;\r\n",
       "                me.showSubprocesses();\r\n",
       "            });\r\n",
       "\r\n",
       "            me.$el.find('.js-state').click(function() {\r\n",
       "                var state = this.className.substr(this.className.indexOf('qcodes'))\r\n",
       "                        .split('-')[1].split(' ')[0];\r\n",
       "                me.model.set('_state', state);\r\n",
       "            });\r\n",
       "\r\n",
       "            $(window)\r\n",
       "                .off('resize.qcodes')\r\n",
       "                .on('resize.qcodes', function() {me.clipBounds();});\r\n",
       "\r\n",
       "            me.update();\r\n",
       "        },\r\n",
       "\r\n",
       "        updateState: function() {\r\n",
       "            var me = this,\r\n",
       "                oldState = me.$el.attr('qcodes-state'),\r\n",
       "                state = me.model.get('_state');\r\n",
       "\r\n",
       "            if(state === oldState) return;\r\n",
       "\r\n",
       "            setTimeout(function() {\r\n",
       "                // not sure why I can't pop it out of the widgetarea in render, but it seems that\r\n",
       "                // some other bit of code resets the parent after render if I do it there.\r\n",
       "                // To be safe, just do it on every state click.\r\n",
       "                me.$el.appendTo('body');\r\n",
       "\r\n",
       "                if(oldState === 'floated') {\r\n",
       "                    console.log('here');\r\n",
       "                    me.$el.draggable('destroy').css({left:'', top: ''});\r\n",
       "                }\r\n",
       "\r\n",
       "                me.$el.attr('qcodes-state', state);\r\n",
       "\r\n",
       "                if(state === 'floated') {\r\n",
       "                    me.$el\r\n",
       "                        .draggable({stop: function() { me.clipBounds(); }})\r\n",
       "                        .css({\r\n",
       "                            left: window.innerWidth - me.$el.width() - 15,\r\n",
       "                            top: window.innerHeight - me.$el.height() - 10\r\n",
       "                        });\r\n",
       "                }\r\n",
       "\r\n",
       "                // any previous highlighting is now moot\r\n",
       "                me.$el.removeClass('qcodes-highlight');\r\n",
       "            }, 0);\r\n",
       "\r\n",
       "        },\r\n",
       "\r\n",
       "        clipBounds: function() {\r\n",
       "            var me = this;\r\n",
       "            if(me.$el.attr('qcodes-state') === 'floated') {\r\n",
       "                var bounds = me.$el[0].getBoundingClientRect(),\r\n",
       "                    minVis = 40,\r\n",
       "                    maxLeft = window.innerWidth - minVis,\r\n",
       "                    minLeft = minVis - bounds.width,\r\n",
       "                    maxTop = window.innerHeight - minVis;\r\n",
       "\r\n",
       "                if(bounds.left > maxLeft) me.$el.css('left', maxLeft);\r\n",
       "                else if(bounds.left < minLeft) me.$el.css('left', minLeft);\r\n",
       "\r\n",
       "                if(bounds.top > maxTop) me.$el.css('top', maxTop);\r\n",
       "                else if(bounds.top < 0) me.$el.css('top', 0);\r\n",
       "            }\r\n",
       "        },\r\n",
       "\r\n",
       "        display: function(message) {\r\n",
       "            var me = this;\r\n",
       "            if(message) {\r\n",
       "                var initialScroll = me.outputArea.scrollTop();\r\n",
       "                me.outputArea.scrollTop(me.outputArea.prop('scrollHeight'));\r\n",
       "                var scrollBottom = me.outputArea.scrollTop();\r\n",
       "\r\n",
       "                if(me.$el.attr('qcodes-state') === 'minimized') {\r\n",
       "                    // if we add text and the box is minimized, highlight the\r\n",
       "                    // title bar to alert the user that there are new messages.\r\n",
       "                    // remove then add the class, so we get the animation again\r\n",
       "                    // if it's already highlighted\r\n",
       "                    me.$el.removeClass('qcodes-highlight');\r\n",
       "                    setTimeout(function(){\r\n",
       "                        me.$el.addClass('qcodes-highlight');\r\n",
       "                    }, 0);\r\n",
       "                }\r\n",
       "\r\n",
       "                var newLines = message.split('\\n'),\r\n",
       "                    out = me.outputLines,\r\n",
       "                    outLen = out.length;\r\n",
       "                if(outLen) out[outLen - 1] += newLines[0];\r\n",
       "                else out.push(newLines[0]);\r\n",
       "\r\n",
       "                for(var i = 1; i < newLines.length; i++) {\r\n",
       "                    out.push(newLines[i]);\r\n",
       "                }\r\n",
       "\r\n",
       "                if(out.length > me.maxOutputLength) {\r\n",
       "                    out.splice(0, out.length - me.maxOutputLength + 1,\r\n",
       "                        '<<< Output clipped >>>');\r\n",
       "                }\r\n",
       "\r\n",
       "                me.outputArea.text(out.join('\\n'));\r\n",
       "                me.clearButton.removeClass('disabled');\r\n",
       "\r\n",
       "                // if we were scrolled to the bottom initially, make sure\r\n",
       "                // we stay that way.\r\n",
       "                me.outputArea.scrollTop(initialScroll === scrollBottom ?\r\n",
       "                    me.outputArea.prop('scrollHeight') : initialScroll);\r\n",
       "            }\r\n",
       "\r\n",
       "            me.showSubprocesses();\r\n",
       "            me.updateState();\r\n",
       "        },\r\n",
       "\r\n",
       "        showSubprocesses: function() {\r\n",
       "            var me = this,\r\n",
       "                replacer = me.subprocessesMultiline ? '<br>' : ', ',\r\n",
       "                processes = (me.model.get('_processes') || '')\r\n",
       "                    .replace(/\\n/g, '&gt;' + replacer + '&lt;');\r\n",
       "\r\n",
       "            if(processes) processes = '&lt;' + processes + '&gt;';\r\n",
       "            else processes = 'No subprocesses';\r\n",
       "\r\n",
       "            me.abortButton.toggleClass('disabled', processes.indexOf('Measurement')===-1);\r\n",
       "\r\n",
       "            me.subprocessList.html(processes);\r\n",
       "        }\r\n",
       "    });\r\n",
       "    manager.WidgetManager.register_widget_view('SubprocessView', SubprocessView);\r\n",
       "});\r\n"
      ],
      "text/plain": [
       "<IPython.core.display.Javascript object>"
      ]
     },
     "metadata": {},
     "output_type": "display_data"
    },
    {
     "data": {
      "text/html": [
       "<style>.qcodes-output-view:not(.ui-draggable) {\r\n",
       "    bottom: 0;\r\n",
       "    right: 5px;\r\n",
       "}\r\n",
       ".qcodes-output-view {\r\n",
       "    position: fixed;\r\n",
       "    z-index: 999;\r\n",
       "    background-color: #fff;\r\n",
       "    box-shadow: 0 0 12px 1px rgba(87, 87, 87, 0.2);\r\n",
       "}\r\n",
       "\r\n",
       ".qcodes-output-header {\r\n",
       "    float: right;\r\n",
       "}\r\n",
       "\r\n",
       ".qcodes-highlight {\r\n",
       "    animation: pulse 1s linear;\r\n",
       "    background-color: #fa4;\r\n",
       "}\r\n",
       "\r\n",
       "@keyframes pulse {\r\n",
       "    0% {\r\n",
       "        background-color: #f00;\r\n",
       "    }\r\n",
       "    100% {\r\n",
       "        background-color: #fa4;\r\n",
       "    }\r\n",
       "}\r\n",
       "\r\n",
       ".qcodes-process-list {\r\n",
       "    float: left;\r\n",
       "    max-width: 780px;\r\n",
       "    margin: 3px 5px 3px 10px;\r\n",
       "    overflow: hidden;\r\n",
       "    white-space: nowrap;\r\n",
       "    text-overflow: ellipsis;\r\n",
       "}\r\n",
       "\r\n",
       ".qcodes-output-view[qcodes-state=minimized] .qcodes-process-list {\r\n",
       "    max-width: 300px;\r\n",
       "}\r\n",
       "\r\n",
       ".qcodes-output-view span {\r\n",
       "    padding: 2px 6px 3px 12px;\r\n",
       "}\r\n",
       "\r\n",
       ".qcodes-output-view .btn {\r\n",
       "    margin: 0 3px 0 0;\r\n",
       "}\r\n",
       "\r\n",
       ".qcodes-output-view[qcodes-state=docked] .qcodes-docked,\r\n",
       ".qcodes-output-view[qcodes-state=floated] .qcodes-floated,\r\n",
       ".qcodes-output-view[qcodes-state=minimized] .qcodes-minimized,\r\n",
       ".qcodes-output-view[qcodes-state=minimized] .qcodes-content {\r\n",
       "    display: none;\r\n",
       "}\r\n",
       "\r\n",
       ".qcodes-output-view .disabled {\r\n",
       "    opacity: 0.4;\r\n",
       "}\r\n",
       "\r\n",
       ".qcodes-abort-loop {\r\n",
       "    background-color: #844;\r\n",
       "    color: #fff;\r\n",
       "}\r\n",
       "\r\n",
       ".qcodes-output-view pre {\r\n",
       "    clear: both;\r\n",
       "    margin: 0;\r\n",
       "    border: 0;\r\n",
       "    border-top: 1px solid #ccc;\r\n",
       "    background-color: #ffe;\r\n",
       "    min-height: 50px;\r\n",
       "    max-height: 400px;\r\n",
       "    min-width: 400px;\r\n",
       "    max-width: 1000px;\r\n",
       "}</style>"
      ],
      "text/plain": [
       "<IPython.core.display.HTML object>"
      ]
     },
     "metadata": {},
     "output_type": "display_data"
    }
   ],
   "source": [
    "import os\n",
    "import clr\n",
    "import sys\n",
    "from imp import reload\n",
    "from System import Array\n",
    "from time import sleep, time\n",
    "import numpy as np\n",
    "from matplotlib import pyplot as plt\n",
    "# sys.path.append(os.getcwd())\n",
    "%matplotlib inline\n",
    "\n",
    "import qcodes as qc\n",
    "qc.show_subprocess_widget()"
   ]
  },
  {
   "cell_type": "markdown",
   "metadata": {},
   "source": [
    "# ATS"
   ]
  },
  {
   "cell_type": "code",
   "execution_count": 33,
   "metadata": {
    "collapsed": false
   },
   "outputs": [],
   "source": [
    "import qcodes.instrument_drivers.AlazarTech.ATS9440 as ATS_driver\n",
    "import qcodes.instrument_drivers.AlazarTech.ATS_acquisition_controllers as ATS_control\n",
    "try:\n",
    "    ATS.close()\n",
    "    ATS_controller.close()\n",
    "except:\n",
    "    pass\n",
    "reload(ATS_driver)\n",
    "reload(ATS_control)\n",
    "\n",
    "ATS = ATS_driver.ATS9440('ATS', server_name='Alazar_server')\n",
    "ATS_controller = ATS_control.Average_AcquisitionController(name='ATS_control', \n",
    "                                                           alazar_name='ATS',\n",
    "                                                           server_name='Alazar_server')\n",
    "\n",
    "ATS.config(trigger_source1='CHANNEL_C',\n",
    "           trigger_level1=135,\n",
    "           channel_range=2,\n",
    "           sample_rate=1e6,\n",
    "           coupling='DC')\n",
    "ATS_controller.set_acquisitionkwargs(buffer_timeout=5000,\n",
    "                                     samples_per_record=50000,\n",
    "                                     records_per_buffer=1,\n",
    "                                     buffers_per_acquisition=1,\n",
    "                                     channel_selection='AC')"
   ]
  },
  {
   "cell_type": "code",
   "execution_count": 4,
   "metadata": {
    "collapsed": false
   },
   "outputs": [],
   "source": [
    "try:\n",
    "    SIM900.close()\n",
    "except:\n",
    "    pass\n",
    "import qcodes.instrument_drivers.stanford_research.SIM900 as SIM900_driver\n",
    "reload(SIM900_driver)\n",
    "SIM900 = SIM900_driver.SIM900('SIM900', 'GPIB0::4::INSTR')\n",
    "TG, LB, RB, TGAC, SRC, _, DS, DF = [eval('SIM900.chan{}'.format(i)) for i in range(1,9)]\n"
   ]
  },
  {
   "cell_type": "code",
   "execution_count": 5,
   "metadata": {
    "collapsed": false
   },
   "outputs": [
    {
     "name": "stdout",
     "output_type": "stream",
     "text": [
      "channel 1: 15.54 V\n",
      "channel 2: 3.8 V\n",
      "channel 3: 3.8 V\n",
      "channel 4: 1.675 V\n",
      "channel 5: 0.25 V\n",
      "channel 6: 0.0 V\n",
      "channel 7: 2.646 V\n",
      "channel 8: 2.646 V\n"
     ]
    }
   ],
   "source": [
    "for i in range(1,9):\n",
    "    print('channel {}: {} V'.format(i, eval('SIM900.chan{}()'.format(i))))"
   ]
  },
  {
   "cell_type": "code",
   "execution_count": null,
   "metadata": {
    "collapsed": false
   },
   "outputs": [
    {
     "data": {
      "text/plain": [
       "[<matplotlib.lines.Line2D at 0x16b0eda0>]"
      ]
     },
     "execution_count": 52,
     "metadata": {},
     "output_type": "execute_result"
    },
    {
     "data": {
      "image/png": "[encoded data removed]",
      "text/plain": [
       "<matplotlib.figure.Figure at 0x17b20240>"
      ]
     },
     "metadata": {},
     "output_type": "display_data"
    }
   ],
   "source": [
    "# ATS_controller.average_mode('point')\n",
    "result = ATS_controller.do_acquisition()\n",
    "\n",
    "plt.figure()\n",
    "plt.plot(result[0])\n",
    "plt.plot(result[1])"
   ]
  },
  {
   "cell_type": "code",
   "execution_count": 6,
   "metadata": {
    "collapsed": false
   },
   "outputs": [
    {
     "data": {
      "text/plain": [
       "1.625"
      ]
     },
     "execution_count": 6,
     "metadata": {},
     "output_type": "execute_result"
    }
   ],
   "source": [
    "TGAC()"
   ]
  },
  {
   "cell_type": "code",
   "execution_count": 8,
   "metadata": {
    "collapsed": false
   },
   "outputs": [
    {
     "name": "stdout",
     "output_type": "stream",
     "text": [
      "DataSet:\n",
      "   mode     = DataMode.PULL_FROM_SERVER\n",
      "   location = 'data/2016-08-16/#005_testsweep_17-07-26'\n",
      "   <Type>   | <array_id>          | <array.name> | <array.shape>\n",
      "   Setpoint | SIM900_chan4_set    | chan4        | (6,)\n",
      "   Measured | ATS_control_acquire | acquire      | (6,)\n",
      "started at 2016-08-16 17:07:27\n"
     ]
    }
   ],
   "source": [
    "loc_provider = qc.data.location.FormatLocation(fmt='data/{date}/#{counter}_{name}_{time}')\n",
    "qc.data.data_set.DataSet.location_provider=loc_provider\n",
    "\n",
    "data = qc.Loop(TGAC.sweep(1.62,1.625,0.001), delay=0.003).each(\n",
    "    ATS_controller.acquire).run(name='testsweep')\n",
    "plotQ = qc.QtPlot()\n",
    "plotQ.add(data.ATS_control_acquire)"
   ]
  },
  {
   "cell_type": "code",
   "execution_count": 9,
   "metadata": {
    "collapsed": false
   },
   "outputs": [
    {
     "data": {
      "text/plain": [
       "[array([-0.02539062, -0.02490234, -0.02416992, ..., -0.00146484,\n",
       "        -0.01586914, -0.03588867]),\n",
       " array([-0.0222168 , -0.02075195, -0.02246094, ..., -0.015625  ,\n",
       "        -0.01464844, -2.98291016])]"
      ]
     },
     "execution_count": 9,
     "metadata": {},
     "output_type": "execute_result"
    }
   ],
   "source": [
    "ATS_controller.acquire()"
   ]
  },
  {
   "cell_type": "code",
   "execution_count": 200,
   "metadata": {
    "collapsed": false
   },
   "outputs": [],
   "source": [
    "SIM900.close()"
   ]
  }
 ],
 "metadata": {
  "anaconda-cloud": {},
  "kernelspec": {
   "display_name": "Python [Root]",
   "language": "python",
   "name": "Python [Root]"
  },
  "language_info": {
   "codemirror_mode": {
    "name": "ipython",
    "version": 3
   },
   "file_extension": ".py",
   "mimetype": "text/x-python",
   "name": "python",
   "nbconvert_exporter": "python",
   "pygments_lexer": "ipython3",
   "version": "3.5.2"
  }
 },
 "nbformat": 4,
 "nbformat_minor": 0
}
