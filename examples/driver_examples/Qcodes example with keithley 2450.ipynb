{
 "cells": [
  {
   "cell_type": "markdown",
   "metadata": {},
   "source": [
    "# QCoDeS Example with Tektronix Keithley 2450 Source Meter\n",
    "\n",
    "In this example we will setup a number of [four-wire measurements](https://en.wikipedia.org/wiki/Four-terminal_sensing) with the 2450 source meter. We attach a variable resistor to the front terminals and determine if we can measure the correct resistance."
   ]
  },
  {
   "cell_type": "code",
   "execution_count": 1,
   "metadata": {},
   "outputs": [],
   "source": [
    "from pyvisa import VisaIOError\n",
    "\n",
    "from qcodes.dataset import (\n",
    "    Measurement,\n",
    "    initialise_database,\n",
    "    new_experiment,\n",
    "    plot_dataset,\n",
    ")\n",
    "from qcodes.instrument_drivers.Keithley import Keithley2450"
   ]
  },
  {
   "cell_type": "code",
   "execution_count": 2,
   "metadata": {
    "scrolled": true
   },
   "outputs": [
    {
     "name": "stdout",
     "output_type": "stream",
     "text": [
      "Connected to: KEITHLEY INSTRUMENTS 2450 (serial:04451117, firmware:1.6.7c) in 0.08s\n"
     ]
    }
   ],
   "source": [
    "keithley = Keithley2450(\"keithley\", \"GPIB0::18::INSTR\")"
   ]
  },
  {
   "cell_type": "code",
   "execution_count": 3,
   "metadata": {},
   "outputs": [],
   "source": [
    "keithley.reset()"
   ]
  },
  {
   "cell_type": "markdown",
   "metadata": {},
   "source": [
    "## Single point measurements "
   ]
  },
  {
   "cell_type": "markdown",
   "metadata": {},
   "source": [
    "Attach a variable resistor to the front and source a current "
   ]
  },
  {
   "cell_type": "code",
   "execution_count": 4,
   "metadata": {},
   "outputs": [
    {
     "name": "stdout",
     "output_type": "stream",
     "text": [
      "Approx. resistance:  1022.3210000000001\n"
     ]
    }
   ],
   "source": [
    "keithley.terminals(\"front\")\n",
    "keithley.source.function(\"current\")\n",
    "keithley.source.current(1e-6)  # Put 1uA through the resistor\n",
    "current_setpoint = keithley.source.current()\n",
    "\n",
    "voltage = keithley.sense.function(\"voltage\")\n",
    "with keithley.output_enabled.set_to(True):\n",
    "    voltage = keithley.sense.voltage()\n",
    "\n",
    "print(\"Approx. resistance: \", voltage / current_setpoint)"
   ]
  },
  {
   "cell_type": "markdown",
   "metadata": {},
   "source": [
    "We can also directly measure the resistance"
   ]
  },
  {
   "cell_type": "code",
   "execution_count": 5,
   "metadata": {},
   "outputs": [
    {
     "name": "stdout",
     "output_type": "stream",
     "text": [
      "Measured resistance:  996.9845\n"
     ]
    }
   ],
   "source": [
    "voltage = keithley.sense.function(\"resistance\")\n",
    "with keithley.output_enabled.set_to(True):\n",
    "    resistance = keithley.sense.resistance()\n",
    "\n",
    "print(\"Measured resistance: \", resistance)"
   ]
  },
  {
   "cell_type": "markdown",
   "metadata": {},
   "source": [
    "In 'current' mode, we cannot set/get a voltage and vice versa"
   ]
  },
  {
   "cell_type": "code",
   "execution_count": 6,
   "metadata": {},
   "outputs": [
    {
     "name": "stdout",
     "output_type": "stream",
     "text": [
      "In the 'current' source mode the source module does not have a 'voltage' attribute\n"
     ]
    }
   ],
   "source": [
    "try:\n",
    "    keithley.source.voltage()\n",
    "except AttributeError:\n",
    "    function = keithley.source.function()\n",
    "    print(\n",
    "        f\"In the '{function}' source mode the source module does not have a 'voltage' attribute\"\n",
    "    )"
   ]
  },
  {
   "cell_type": "markdown",
   "metadata": {},
   "source": [
    "This goes for both the source and sense subsystems "
   ]
  },
  {
   "cell_type": "code",
   "execution_count": 7,
   "metadata": {},
   "outputs": [
    {
     "name": "stdout",
     "output_type": "stream",
     "text": [
      "In the 'resistance' sense mode the sense module does not have a 'current' attribute\n"
     ]
    }
   ],
   "source": [
    "try:\n",
    "    keithley.sense.current()\n",
    "except AttributeError:\n",
    "    function = keithley.sense.function()\n",
    "    print(\n",
    "        f\"In the '{function}' sense mode the sense module does not have a 'current' attribute\"\n",
    "    )"
   ]
  },
  {
   "cell_type": "markdown",
   "metadata": {},
   "source": [
    "We also need to make sure the output is enabled for use the measure (or 'sense') a current or voltage "
   ]
  },
  {
   "cell_type": "markdown",
   "metadata": {},
   "source": [
    "## Sweeping measurements "
   ]
  },
  {
   "cell_type": "markdown",
   "metadata": {},
   "source": [
    "The instrument has a build-in sweep system. For the first measurement, we drive a current through the resistor and measure the voltage accross it. "
   ]
  },
  {
   "cell_type": "code",
   "execution_count": 8,
   "metadata": {},
   "outputs": [],
   "source": [
    "initialise_database()\n",
    "experiment = new_experiment(name=\"Keithley_2450_example\", sample_name=\"no sample\")"
   ]
  },
  {
   "cell_type": "markdown",
   "metadata": {},
   "source": [
    "Sweep the current from 0 to 1uA in 10 steps and measure voltage"
   ]
  },
  {
   "cell_type": "code",
   "execution_count": 9,
   "metadata": {},
   "outputs": [],
   "source": [
    "keithley.sense.function(\"voltage\")\n",
    "keithley.sense.auto_range(True)\n",
    "\n",
    "keithley.source.function(\"current\")\n",
    "keithley.source.auto_range(True)\n",
    "keithley.source.limit(2)\n",
    "keithley.source.sweep_setup(0, 1e-6, 10)\n",
    "\n",
    "keithley.sense.four_wire_measurement(True)"
   ]
  },
  {
   "cell_type": "code",
   "execution_count": 10,
   "metadata": {},
   "outputs": [
    {
     "name": "stdout",
     "output_type": "stream",
     "text": [
      "Starting experimental run with id: 188. \n"
     ]
    },
    {
     "data": {
      "text/plain": [
       "([<matplotlib.axes._subplots.AxesSubplot at 0x1ce9f5622c8>], [None])"
      ]
     },
     "execution_count": 10,
     "metadata": {},
     "output_type": "execute_result"
    },
    {
     "data": {
      "image/png": "[encoded data removed]",
      "text/plain": [
       "<Figure size 432x288 with 1 Axes>"
      ]
     },
     "metadata": {
      "needs_background": "light"
     },
     "output_type": "display_data"
    }
   ],
   "source": [
    "meas = Measurement(exp=experiment)\n",
    "meas.register_parameter(keithley.sense.sweep)\n",
    "\n",
    "with meas.run() as datasaver:\n",
    "    datasaver.add_result(\n",
    "        (keithley.source.sweep_axis, keithley.source.sweep_axis()),\n",
    "        (keithley.sense.sweep, keithley.sense.sweep()),\n",
    "    )\n",
    "\n",
    "    dataid = datasaver.run_id\n",
    "\n",
    "plot_dataset(datasaver.dataset)"
   ]
  },
  {
   "cell_type": "markdown",
   "metadata": {},
   "source": [
    "Sweep the voltage from 10mV in 10 steps and measure current "
   ]
  },
  {
   "cell_type": "code",
   "execution_count": 11,
   "metadata": {},
   "outputs": [],
   "source": [
    "keithley.sense.function(\"current\")\n",
    "keithley.sense.range(1e-5)\n",
    "keithley.sense.four_wire_measurement(True)\n",
    "\n",
    "keithley.source.function(\"voltage\")\n",
    "keithley.source.range(0.2)\n",
    "keithley.source.sweep_setup(0, 0.01, 10)"
   ]
  },
  {
   "cell_type": "code",
   "execution_count": 12,
   "metadata": {},
   "outputs": [
    {
     "name": "stdout",
     "output_type": "stream",
     "text": [
      "Starting experimental run with id: 189. \n"
     ]
    },
    {
     "data": {
      "text/plain": [
       "([<matplotlib.axes._subplots.AxesSubplot at 0x1cea1677a88>], [None])"
      ]
     },
     "execution_count": 12,
     "metadata": {},
     "output_type": "execute_result"
    },
    {
     "data": {
      "image/png": "[encoded data removed]",
      "text/plain": [
       "<Figure size 432x288 with 1 Axes>"
      ]
     },
     "metadata": {
      "needs_background": "light"
     },
     "output_type": "display_data"
    }
   ],
   "source": [
    "meas = Measurement(exp=experiment)\n",
    "meas.register_parameter(keithley.sense.sweep)\n",
    "\n",
    "with meas.run() as datasaver:\n",
    "    datasaver.add_result(\n",
    "        (keithley.source.sweep_axis, keithley.source.sweep_axis()),\n",
    "        (keithley.sense.sweep, keithley.sense.sweep()),\n",
    "    )\n",
    "\n",
    "    dataid = datasaver.run_id\n",
    "\n",
    "plot_dataset(datasaver.dataset)"
   ]
  },
  {
   "cell_type": "markdown",
   "metadata": {},
   "source": [
    "## To perform measurements with user-defined reading buffer"
   ]
  },
  {
   "cell_type": "code",
   "execution_count": 13,
   "metadata": {},
   "outputs": [],
   "source": [
    "keithley.reset()"
   ]
  },
  {
   "cell_type": "markdown",
   "metadata": {},
   "source": [
    "By default, when performing measurement, the value is stored in the default buffer \"defbuffer1\"."
   ]
  },
  {
   "cell_type": "code",
   "execution_count": 14,
   "metadata": {},
   "outputs": [
    {
     "name": "stdout",
     "output_type": "stream",
     "text": [
      "The current measurements are -1.608374e-08, -1.818495e-08, -1.950789e-08 A.\n"
     ]
    }
   ],
   "source": [
    "keithley.sense_function(\"current\")\n",
    "with keithley.output_enabled.set_to(True):\n",
    "    data_point01 = keithley.sense.current()\n",
    "    data_point02 = keithley.sense.current()\n",
    "    data_point03 = keithley.sense.current()\n",
    "print(f\"The current measurements are {data_point01}, {data_point02}, {data_point03} A.\")"
   ]
  },
  {
   "cell_type": "markdown",
   "metadata": {},
   "source": [
    "We can use a user-defined reading buffer for measurement. The following example is to do a sweep measurement, and read extra data elements in addition to the measurement value with the new method \"elements\"."
   ]
  },
  {
   "cell_type": "code",
   "execution_count": 15,
   "metadata": {},
   "outputs": [],
   "source": [
    "buffer_name = \"userbuff1\"\n",
    "buffer_size = 100\n",
    "with keithley.buffer(buffer_name, buffer_size) as buff1:\n",
    "    buff1.elements([\"time\", \"date\", \"measurement\", \"source_value_formatted\"])\n",
    "    keithley.source.sweep_setup(0, 1e-6, 10, buffer_name=buff1.buffer_name)\n",
    "    data = keithley.sense.sweep()\n",
    "    all_data = keithley.sense.sweep.get_selected()"
   ]
  },
  {
   "cell_type": "markdown",
   "metadata": {},
   "source": [
    "\"data\" includes the numerical value of the measurement:"
   ]
  },
  {
   "cell_type": "code",
   "execution_count": 16,
   "metadata": {},
   "outputs": [
    {
     "data": {
      "text/plain": [
       "array([-1.772451e-08, -2.088747e-08, -2.159876e-08, -2.161518e-08,\n",
       "       -2.155486e-08, -2.154403e-08, -2.157010e-08, -2.107971e-08,\n",
       "       -2.079369e-08, -2.079450e-08])"
      ]
     },
     "execution_count": 16,
     "metadata": {},
     "output_type": "execute_result"
    }
   ],
   "source": [
    "data"
   ]
  },
  {
   "cell_type": "markdown",
   "metadata": {},
   "source": [
    "\"all_data\" includes extra information specified by the \"elements()\" method:"
   ]
  },
  {
   "cell_type": "code",
   "execution_count": 17,
   "metadata": {},
   "outputs": [
    {
     "data": {
      "text/plain": [
       "['14:14:29',\n",
       " '06/10/2020',\n",
       " '-1.772451E-08',\n",
       " '+00.00507 mV',\n",
       " '14:14:29',\n",
       " '06/10/2020',\n",
       " '-2.088747E-08',\n",
       " '+00.00200 mV',\n",
       " '14:14:29',\n",
       " '06/10/2020',\n",
       " '-2.159876E-08',\n",
       " '+00.00116 mV',\n",
       " '14:14:30',\n",
       " '06/10/2020',\n",
       " '-2.161518E-08',\n",
       " '+00.00187 mV',\n",
       " '14:14:30',\n",
       " '06/10/2020',\n",
       " '-2.155486E-08',\n",
       " '+00.00098 mV',\n",
       " '14:14:30',\n",
       " '06/10/2020',\n",
       " '-2.154403E-08',\n",
       " '+00.00116 mV',\n",
       " '14:14:31',\n",
       " '06/10/2020',\n",
       " '-2.157010E-08',\n",
       " '+00.00190 mV',\n",
       " '14:14:31',\n",
       " '06/10/2020',\n",
       " '-2.107971E-08',\n",
       " '+00.00209 mV',\n",
       " '14:14:31',\n",
       " '06/10/2020',\n",
       " '-2.079369E-08',\n",
       " '+00.00269 mV',\n",
       " '14:14:32',\n",
       " '06/10/2020',\n",
       " '-2.079450E-08',\n",
       " '+00.00273 mV']"
      ]
     },
     "execution_count": 17,
     "metadata": {},
     "output_type": "execute_result"
    }
   ],
   "source": [
    "all_data"
   ]
  },
  {
   "cell_type": "markdown",
   "metadata": {},
   "source": [
    "By using \"with ... as ...:\" to perform the measurement, there user-defined buffer is automatically removed after the measurement. **This is the recommanded way to use the user-defined buffer.**"
   ]
  },
  {
   "cell_type": "code",
   "execution_count": 18,
   "metadata": {},
   "outputs": [
    {
     "name": "stdout",
     "output_type": "stream",
     "text": [
      "('VI_ERROR_TMO (-1073807339): Timeout expired before operation completed.', 'asking \":TRACe:POINts? \\'userbuff1\\'\" to <Keithley2450: keithley>', 'getting keithley_userbuff1_size')\n"
     ]
    }
   ],
   "source": [
    "try:\n",
    "    buff1.size()\n",
    "except VisaIOError as err:\n",
    "    print(err)"
   ]
  },
  {
   "cell_type": "markdown",
   "metadata": {},
   "source": [
    "And we can still access the data in the default buffer:"
   ]
  },
  {
   "cell_type": "code",
   "execution_count": 19,
   "metadata": {},
   "outputs": [],
   "source": [
    "buffer_name = \"defbuffer1\"\n",
    "buffer = keithley.buffer(buffer_name)"
   ]
  },
  {
   "cell_type": "code",
   "execution_count": 20,
   "metadata": {},
   "outputs": [
    {
     "name": "stdout",
     "output_type": "stream",
     "text": [
      "There are 3 data points in 'defbuffer1'.\n"
     ]
    }
   ],
   "source": [
    "print(f\"There are {buffer.number_of_readings()} data points in '{buffer_name}'.\")"
   ]
  },
  {
   "cell_type": "markdown",
   "metadata": {},
   "source": [
    "The last reading is:"
   ]
  },
  {
   "cell_type": "code",
   "execution_count": 21,
   "metadata": {
    "scrolled": true
   },
   "outputs": [
    {
     "data": {
      "text/plain": [
       "'-1.950789E-08'"
      ]
     },
     "execution_count": 21,
     "metadata": {},
     "output_type": "execute_result"
    }
   ],
   "source": [
    "buffer.get_last_reading()"
   ]
  },
  {
   "cell_type": "markdown",
   "metadata": {},
   "source": [
    "We can get all 3 previously measured data as following:"
   ]
  },
  {
   "cell_type": "code",
   "execution_count": 22,
   "metadata": {},
   "outputs": [
    {
     "data": {
      "text/plain": [
       "[-1.608374e-08, -1.818495e-08, -1.950789e-08]"
      ]
     },
     "execution_count": 22,
     "metadata": {},
     "output_type": "execute_result"
    }
   ],
   "source": [
    "buffer.get_data(1, 3)"
   ]
  },
  {
   "cell_type": "markdown",
   "metadata": {},
   "source": [
    "And the original infomration are still there:"
   ]
  },
  {
   "cell_type": "code",
   "execution_count": 23,
   "metadata": {},
   "outputs": [
    {
     "data": {
      "text/plain": [
       "['14:14:28',\n",
       " '-016.084 nA',\n",
       " '14:14:28',\n",
       " '-018.185 nA',\n",
       " '14:14:28',\n",
       " '-019.508 nA']"
      ]
     },
     "execution_count": 23,
     "metadata": {},
     "output_type": "execute_result"
    }
   ],
   "source": [
    "buffer.elements([\"time\", \"measurement_formatted\"])\n",
    "buffer.get_data(1, 3)"
   ]
  },
  {
   "cell_type": "markdown",
   "metadata": {},
   "source": [
    "This is all the available elements, if none is requested, \"measurement\" will be used:"
   ]
  },
  {
   "cell_type": "code",
   "execution_count": 24,
   "metadata": {},
   "outputs": [
    {
     "data": {
      "text/plain": [
       "{'date',\n",
       " 'fractional_seconds',\n",
       " 'measurement',\n",
       " 'measurement_formatted',\n",
       " 'measurement_status',\n",
       " 'measurement_unit',\n",
       " 'relative_time',\n",
       " 'seconds',\n",
       " 'source_value',\n",
       " 'source_value_formatted',\n",
       " 'source_value_status',\n",
       " 'source_value_unit',\n",
       " 'time',\n",
       " 'timestamp'}"
      ]
     },
     "execution_count": 24,
     "metadata": {},
     "output_type": "execute_result"
    }
   ],
   "source": [
    "buffer.available_elements"
   ]
  },
  {
   "cell_type": "markdown",
   "metadata": {},
   "source": [
    "If the user gives a incorrect element name, error message will show which ones are correct:"
   ]
  },
  {
   "cell_type": "code",
   "execution_count": 25,
   "metadata": {
    "scrolled": true
   },
   "outputs": [
    {
     "name": "stdout",
     "output_type": "stream",
     "text": [
      "(\"'dates' is not in {'measurement', 'measurement_status', 'source_value_formatted', 'seconds', 'source_value_unit', 'timestamp', 'source_value_status', 'measurement_formatted', 'relative_time', 'source_value', 'time', 'fractional_seconds', 'date', 'measurement_unit'}; \", \"setting keithley_defbuffer1_elements to ['dates']\")\n"
     ]
    }
   ],
   "source": [
    "try:\n",
    "    buffer.elements([\"dates\"])\n",
    "except ValueError as err:\n",
    "    print(err)"
   ]
  },
  {
   "cell_type": "code",
   "execution_count": null,
   "metadata": {},
   "outputs": [],
   "source": []
  }
 ],
 "metadata": {
  "kernelspec": {
   "display_name": "Python 3 (ipykernel)",
   "language": "python",
   "name": "python3"
  },
  "language_info": {
   "codemirror_mode": {
    "name": "ipython",
    "version": 3
   },
   "file_extension": ".py",
   "mimetype": "text/x-python",
   "name": "python",
   "nbconvert_exporter": "python",
   "pygments_lexer": "ipython3",
   "version": "3.10.8"
  },
  "nbsphinx": {
   "execute": "never"
  }
 },
 "nbformat": 4,
 "nbformat_minor": 4
}
