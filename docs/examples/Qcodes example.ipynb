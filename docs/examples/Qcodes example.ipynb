{
 "cells": [
  {
   "cell_type": "code",
   "execution_count": 1,
   "metadata": {
    "collapsed": false
   },
   "outputs": [
    {
     "data": {
      "application/javascript": [
       "/*\n",
       " * Qcodes Jupyter/IPython widgets\n",
       " */\n",
       "require([\n",
       "    'nbextensions/widgets/widgets/js/widget',\n",
       "    'nbextensions/widgets/widgets/js/manager'\n",
       "], function (widget, manager) {\n",
       "\n",
       "    var UpdateView = widget.DOMWidgetView.extend({\n",
       "        render: function() {\n",
       "            window.MYWIDGET = this;\n",
       "            this._interval = 0;\n",
       "            this.update();\n",
       "        },\n",
       "        update: function() {\n",
       "            this.display(this.model.get('_message'));\n",
       "            this.setInterval();\n",
       "        },\n",
       "        display: function(message) {\n",
       "            /*\n",
       "             * display method: override this for custom display logic\n",
       "             */\n",
       "            this.el.innerHTML = message;\n",
       "        },\n",
       "        remove: function() {\n",
       "            clearInterval(this._updater);\n",
       "        },\n",
       "        setInterval: function(newInterval) {\n",
       "            var me = this;\n",
       "            if(newInterval===undefined) newInterval = me.model.get('interval');\n",
       "            if(newInterval===me._interval) return;\n",
       "\n",
       "            me._interval = newInterval;\n",
       "\n",
       "            if(me._updater) clearInterval(me._updater);\n",
       "\n",
       "            if(me._interval) {\n",
       "                me._updater = setInterval(function() {\n",
       "                    me.send({myupdate: true});\n",
       "                    if(!me.model.comm_live) {\n",
       "                        console.log('missing comm, canceling widget updates', me);\n",
       "                        clearInterval(me._updater);\n",
       "                    }\n",
       "                }, me._interval * 1000);\n",
       "            }\n",
       "        }\n",
       "    });\n",
       "    manager.WidgetManager.register_widget_view('UpdateView', UpdateView);\n",
       "\n",
       "    var HiddenUpdateView = UpdateView.extend({\n",
       "        display: function(message) {\n",
       "            this.$el.hide();\n",
       "        }\n",
       "    });\n",
       "    manager.WidgetManager.register_widget_view('HiddenUpdateView', HiddenUpdateView);\n",
       "\n",
       "    var SubprocessView = UpdateView.extend({\n",
       "        render: function() {\n",
       "            var me = window.SPVIEW = this;\n",
       "            me._interval = 0;\n",
       "            me._minimize = '<i class=\"fa-minus fa\"></i>';\n",
       "            me._restore = '<i class=\"fa-plus fa\"></i>';\n",
       "\n",
       "            // in case there is already an outputView present,\n",
       "            // like from before restarting the kernel\n",
       "            $('.qcodes-output-view').not(me.$el).remove();\n",
       "\n",
       "            me.$el\n",
       "                .addClass('qcodes-output-view')\n",
       "                .attr('qcodes-state', 'docked')\n",
       "                .html(\n",
       "                    '<div class=\"qcodes-output-header toolbar\">' +\n",
       "                        '<span></span>' +\n",
       "                        '<button class=\"btn qcodes-abort-loop disabled\">Abort</button>' +\n",
       "                        '<button class=\"btn qcodes-clear-output disabled qcodes-content\">Clear</button>' +\n",
       "                        '<button class=\"btn js-state qcodes-minimized\"><i class=\"fa-minus fa\"></i></button>' +\n",
       "                        '<button class=\"btn js-state qcodes-docked\"><i class=\"fa-toggle-up fa\"></i></button>' +\n",
       "                        '<button class=\"btn js-state qcodes-floated\"><i class=\"fa-arrows fa\"></i></button>' +\n",
       "                    '</div>' +\n",
       "                    '<pre class=\"qcodes-content\"></pre>'\n",
       "                );\n",
       "\n",
       "            me.clearButton = me.$el.find('.qcodes-clear-output');\n",
       "            me.minButton = me.$el.find('.qcodes-minimize');\n",
       "            me.outputArea = me.$el.find('pre');\n",
       "            me.subprocessList = me.$el.find('span');\n",
       "            me.abortButton = me.$el.find('.qcodes-abort-loop');\n",
       "\n",
       "            me.clearButton.click(function() {\n",
       "                me.outputArea.html('');\n",
       "                me.clearButton.addClass('disabled');\n",
       "            });\n",
       "\n",
       "            me.abortButton.click(function() {\n",
       "                me.send({abort: true});\n",
       "            });\n",
       "\n",
       "            me.$el.find('.js-state').click(function() {\n",
       "                var oldState = me.$el.attr('qcodes-state'),\n",
       "                    state = this.className.substr(this.className.indexOf('qcodes'))\n",
       "                        .split('-')[1].split(' ')[0];\n",
       "\n",
       "                // not sure why I can't pop it out of the widgetarea in render, but it seems that\n",
       "                // some other bit of code resets the parent after render if I do it there.\n",
       "                // To be safe, just do it on every state click.\n",
       "                me.$el.appendTo('body');\n",
       "\n",
       "                if(oldState === 'floated') {\n",
       "                    me.$el.draggable('destroy').css({left:'', top: ''});\n",
       "                }\n",
       "\n",
       "                me.$el.attr('qcodes-state', state);\n",
       "\n",
       "                if(state === 'floated') {\n",
       "                    me.$el.draggable().css({\n",
       "                        left: window.innerWidth - me.$el.width() - 15,\n",
       "                        top: window.innerHeight - me.$el.height() - 10\n",
       "                    });\n",
       "                }\n",
       "            });\n",
       "\n",
       "            $(window).resize(function() {\n",
       "                if(me.$el.attr('qcodes-state') === 'floated') {\n",
       "                    var position = me.$el.position(),\n",
       "                        minVis = 20,\n",
       "                        maxLeft = window.innerWidth - minVis,\n",
       "                        maxTop = window.innerHeight - minVis;\n",
       "\n",
       "                    if(position.left > maxLeft) me.$el.css('left', maxLeft);\n",
       "                    if(position.top > maxTop) me.$el.css('top', maxTop);\n",
       "                }\n",
       "            });\n",
       "\n",
       "            me.update();\n",
       "        },\n",
       "\n",
       "        display: function(message) {\n",
       "            if(message) {\n",
       "                var initialScroll = this.outputArea.scrollTop();\n",
       "                this.outputArea.scrollTop(this.outputArea.prop('scrollHeight'));\n",
       "                var scrollBottom = this.outputArea.scrollTop();\n",
       "\n",
       "                if(this.$el.attr('qcodes-state') === 'minimized') {\n",
       "                    this.$el.find('.qcodes-docked').click();\n",
       "                    // always scroll to the bottom if we're restoring\n",
       "                    // because of a new message\n",
       "                    initialScroll = scrollBottom;\n",
       "                }\n",
       "\n",
       "                this.outputArea.append(message);\n",
       "                this.clearButton.removeClass('disabled');\n",
       "\n",
       "                // if we were scrolled to the bottom initially, make sure\n",
       "                // we stay that way.\n",
       "                this.outputArea.scrollTop(initialScroll === scrollBottom ?\n",
       "                    this.outputArea.prop('scrollHeight') : initialScroll);\n",
       "            }\n",
       "\n",
       "            var processes = this.model.get('_processes') || 'No subprocesses';\n",
       "            this.abortButton.toggleClass('disabled', processes.indexOf('Measurement')===-1);\n",
       "            this.subprocessList.text(processes);\n",
       "        }\n",
       "    });\n",
       "    manager.WidgetManager.register_widget_view('SubprocessView', SubprocessView);\n",
       "});\n"
      ],
      "text/plain": [
       "<IPython.core.display.Javascript object>"
      ]
     },
     "metadata": {},
     "output_type": "display_data"
    },
    {
     "data": {
      "text/html": [
       "<style>.qcodes-output-view:not(.ui-draggable) {\n",
       "    bottom: 0;\n",
       "    right: 5px;\n",
       "}\n",
       ".qcodes-output-view {\n",
       "    position: fixed;\n",
       "    z-index: 999;\n",
       "    background-color: #fff;\n",
       "    box-shadow: 0 0 12px 1px rgba(87, 87, 87, 0.2);\n",
       "}\n",
       "\n",
       ".qcodes-output-header  {\n",
       "    float: right;\n",
       "}\n",
       "\n",
       ".qcodes-output-view span {\n",
       "    padding: 2px 6px 3px 12px;\n",
       "}\n",
       "\n",
       ".qcodes-output-view .btn {\n",
       "    margin: 0 3px 0 0;\n",
       "}\n",
       "\n",
       ".qcodes-output-view[qcodes-state=docked] .qcodes-docked,\n",
       ".qcodes-output-view[qcodes-state=floated] .qcodes-floated,\n",
       ".qcodes-output-view[qcodes-state=minimized] .qcodes-minimized,\n",
       ".qcodes-output-view[qcodes-state=minimized] .qcodes-content {\n",
       "    display: none;\n",
       "}\n",
       "\n",
       ".qcodes-output-view .disabled {\n",
       "    opacity: 0.4;\n",
       "}\n",
       "\n",
       ".qcodes-abort-loop {\n",
       "    background-color: #844;\n",
       "    color: #fff;\n",
       "}\n",
       "\n",
       ".qcodes-output-view pre {\n",
       "    clear: both;\n",
       "    margin: 0;\n",
       "    border: 0;\n",
       "    border-top: 1px solid #ccc;\n",
       "    background-color: #ffe;\n",
       "    min-height: 50px;\n",
       "    max-height: 400px;\n",
       "    min-width: 400px;\n",
       "    max-width: 1000px;\n",
       "}</style>"
      ],
      "text/plain": [
       "<IPython.core.display.HTML object>"
      ]
     },
     "metadata": {},
     "output_type": "display_data"
    }
   ],
   "source": [
    "%matplotlib nbagg\n",
    "import matplotlib.pyplot as plt\n",
    "import time\n",
    "import numpy as np\n",
    "\n",
    "import qcodes as qc\n",
    "\n",
    "qc.set_mp_method('spawn')  # force Windows behavior on mac\n",
    "\n",
    "# this makes a widget in the corner of the window to show and control\n",
    "# subprocesses and any output they would print to the terminal\n",
    "qc.show_subprocess_widget()"
   ]
  },
  {
   "cell_type": "code",
   "execution_count": 2,
   "metadata": {
    "collapsed": false
   },
   "outputs": [],
   "source": [
    "# spawn doesn't like function or class definitions in the interpreter\n",
    "# session - had to move them to a file.\n",
    "from toymodel import AModel, MockGates, MockSource, MockMeter, AverageGetter, AverageAndRaw\n",
    "\n",
    "# now create this \"experiment\"\n",
    "model = AModel()\n",
    "gates = MockGates('gates', model=model)\n",
    "source = MockSource('source', model=model)\n",
    "meter = MockMeter('meter', model=model)\n",
    "\n",
    "station = qc.Station(gates, source, meter)\n",
    "\n",
    "# could measure any number of things by adding arguments to this\n",
    "# function call, but here we're just measuring one, the meter amplitude\n",
    "station.set_measurement(meter.amplitude)\n",
    "\n",
    "# it's nice to have the key parameters be part of the global namespace\n",
    "# that way they're objects that we can easily set, get, and slice\n",
    "# this could be simplified to a station method that gathers all parameters\n",
    "# and adds them all as (disambiguated) globals, printing what it did\n",
    "# something like:\n",
    "#   station.gather_parameters(globals())\n",
    "c0, c1, c2, vsd = gates.chan0, gates.chan1, gates.chan2, source.amplitude\n",
    "\n",
    "# once we have implemented a monitor, defining a station will start a\n",
    "# DataServer process, and you would see it in the subprocess widget,\n",
    "# or via active_children() as here:\n",
    "# qc.active_children()"
   ]
  },
  {
   "cell_type": "code",
   "execution_count": 3,
   "metadata": {
    "collapsed": false
   },
   "outputs": [
    {
     "data": {
      "text/plain": [
       "[0.117]"
      ]
     },
     "execution_count": 3,
     "metadata": {},
     "output_type": "execute_result"
    }
   ],
   "source": [
    "# we can get the measured quantities right now\n",
    "station.measure()"
   ]
  },
  {
   "cell_type": "code",
   "execution_count": 4,
   "metadata": {
    "collapsed": false
   },
   "outputs": [
    {
     "name": "stdout",
     "output_type": "stream",
     "text": [
      "DataSet:\n",
      "   mode     = DataMode.PULL_FROM_SERVER\n",
      "   location = 'testsweep'\n",
      "   <Type>   | <array_id>      | <array.name> | <array.shape>\n",
      "   Setpoint | gates_chan0_set | chan0        | (401,)\n",
      "   Measured | meter_amplitude | amplitude    | (401,)\n",
      "started at 2016-06-10 14:44:32\n"
     ]
    }
   ],
   "source": [
    "# start a Loop (which by default runs in a seprarate process)\n",
    "# the sweep values are defined by slicing the parameter object\n",
    "# but more complicated sweeps (eg nonlinear, or adaptive) can\n",
    "# easily be used instead\n",
    "\n",
    "# Notice that I'm using an explicit location and `overwrite=True` here so that\n",
    "# running this notebook over and over won't result in extra files.\n",
    "# But if you leave these out, you get a new timestamped DataSet each time.\n",
    "data = qc.Loop(c0.sweep(-20,20,0.1), 0.03).run(location='testsweep', overwrite=True)\n",
    "\n",
    "# now there should be two extra processes running, DataServer and a sweep\n",
    "# I'll omit the active_children call now because you can see them in the\n",
    "# subprocess widget"
   ]
  },
  {
   "cell_type": "code",
   "execution_count": null,
   "metadata": {
    "collapsed": false,
    "scrolled": true
   },
   "outputs": [],
   "source": [
    "# manually bring the data into the main process and display it as numbers\n",
    "data.sync()\n",
    "data.arrays"
   ]
  },
  {
   "cell_type": "code",
   "execution_count": 5,
   "metadata": {
    "collapsed": false,
    "scrolled": false
   },
   "outputs": [],
   "source": [
    "# live-updating plot, that syncs the data and stops updating when it's finished\n",
    "# plot = qc.MatPlot(data.amplitude)\n",
    "plotQ = qc.QtPlot(data.meter_amplitude)"
   ]
  },
  {
   "cell_type": "code",
   "execution_count": 6,
   "metadata": {
    "collapsed": false,
    "scrolled": false
   },
   "outputs": [
    {
     "name": "stdout",
     "output_type": "stream",
     "text": [
      "DataSet:\n",
      "   mode     = DataMode.PULL_FROM_SERVER\n",
      "   location = 'data/test2d'\n",
      "   <Type>   | <array_id>        | <array.name> | <array.shape>\n",
      "   Setpoint | gates_chan1_set   | chan1        | (30,)\n",
      "   Setpoint | gates_chan0_set   | chan0        | (30, 54)\n",
      "   Measured | meter_amplitude_3 | amplitude    | (30, 54)\n",
      "   Measured | meter_amplitude_0 | amplitude    | (30, 54)\n",
      "started at 2016-06-10 14:44:58\n"
     ]
    }
   ],
   "source": [
    "data2 = qc.Loop(c1[-15:15:1], 0.01).loop(c0[-15:12:.5], 0.01).each(\n",
    "    meter.amplitude, # first measurement, at c2=0 -> amplitude_0 bcs it's action 0\n",
    "    qc.Task(c2.set, 1), # action 1 -> c2.set(1)\n",
    "    qc.Wait(0.001),\n",
    "    meter.amplitude, # second measurement, at c2=1 -> amplitude_4 bcs it's action 4\n",
    "    qc.Task(c2.set, 0)\n",
    "    ).run(location='data/test2d', overwrite=True)\n",
    "\n",
    "# use the subplot and add features of qc.MatPlot\n",
    "# plot2 = qc.MatPlot(data2.amplitude_0, cmap=plt.cm.hot, figsize=(12, 4.5), subplots=(1, 2))\n",
    "# plot2.add(data2.amplitude_3, cmap=plt.cm.hot, subplot=2)\n",
    "\n",
    "# the equivalent in QtPlot\n",
    "plot2Q = qc.QtPlot(data2.meter_amplitude_0, figsize=(1200, 500))\n",
    "plot2Q.add(data2.meter_amplitude_3, subplot=2)"
   ]
  },
  {
   "cell_type": "code",
   "execution_count": 7,
   "metadata": {
    "collapsed": false
   },
   "outputs": [
    {
     "name": "stdout",
     "output_type": "stream",
     "text": [
      "DataSet:\n",
      "   mode     = DataMode.PULL_FROM_SERVER\n",
      "   location = 'data/test_multi_d'\n",
      "   <Type>   | <array_id>          | <array.name>  | <array.shape>\n",
      "   Setpoint | gates_chan2_set     | chan2         | (30, 100)\n",
      "   Setpoint | gates_chan1_set     | chan1         | (30,)\n",
      "   Setpoint | gates_chan0_set     | chan0         | (30, 30)\n",
      "   Measured | meter_amplitude_2   | amplitude     | (30,)\n",
      "   Measured | meter_amplitude_3_0 | amplitude     | (30, 30)\n",
      "   Measured | avg_amplitude       | avg_amplitude | (30,)\n",
      "   Measured | meter_amplitude_5_0 | amplitude     | (30, 100)\n",
      "started at 2016-06-10 14:45:33\n"
     ]
    }
   ],
   "source": [
    "data3 = qc.Loop(c1[-15:15:1], 0.01).each(\n",
    "    qc.Task(c0.set, -10),\n",
    "    qc.Task(c2.set, 0),\n",
    "    # a 1D measurement\n",
    "    meter.amplitude,\n",
    "    # a 2D sweep, .each is actually unnecessary bcs this is the default measurement\n",
    "    qc.Loop(c0[-15:15:1], 0.001).each(meter.amplitude),\n",
    "    qc.Task(c0.set, -10),\n",
    "    # a 2D sweep with the same outer but different inner loop\n",
    "    qc.Loop(c2[-10:10:0.2], 0.001),\n",
    "    AverageGetter(meter.amplitude, c2[-10:10:0.2], 0.001)\n",
    ").run(location='data/test_multi_d', overwrite=True)\n",
    "\n",
    "# several plots updating simultaneously\n",
    "# plot3 = qc.MatPlot(data3.amplitude_3_0, cmap=plt.cm.hot)\n",
    "# plot3b = qc.MatPlot(data3.amplitude_5_0, cmap=plt.cm.hot, figsize=(12, 4.5), subplots=(1,2))\n",
    "# plot3b.add(data3.avg_amplitude, subplot=2)\n",
    "plot3Q = qc.QtPlot(data3.meter_amplitude_3_0)\n",
    "plot3bQ = qc.QtPlot(data3.meter_amplitude_5_0, figsize=(1200, 500))\n",
    "plot3bQ.add(data3.avg_amplitude, subplot=2)"
   ]
  },
  {
   "cell_type": "code",
   "execution_count": 9,
   "metadata": {
    "collapsed": false,
    "scrolled": false
   },
   "outputs": [
    {
     "name": "stdout",
     "output_type": "stream",
     "text": [
      "DataSet:\n",
      "   mode     = DataMode.PULL_FROM_SERVER\n",
      "   location = 'data/test_complex_param'\n",
      "   <Type>   | <array_id>      | <array.name>  | <array.shape>\n",
      "   Setpoint | gates_chan1_set | chan1         | (30,)\n",
      "   Measured | chan2           | chan2         | (30, 100)\n",
      "   Measured | amplitude       | amplitude     | (30, 100)\n",
      "   Measured | avg_amplitude   | avg_amplitude | (30,)\n",
      "started at 2016-06-10 14:46:30\n"
     ]
    }
   ],
   "source": [
    "# An example of a parameter that returns several values of different dimension\n",
    "# This produces the last two arrays from data3, but only takes the data once.\n",
    "data4 = qc.Loop(c1[-15:15:1], 0.1).each(\n",
    "    AverageAndRaw(meter.amplitude, c2[-10:10:0.2], 0.001)\n",
    ").run(location='data/test_complex_param', overwrite=True)\n",
    "\n",
    "# plot4 = qc.MatPlot(data4.amplitude, cmap=plt.cm.hot, subplots=(1,2), figsize=(12, 4.5))\n",
    "# plot4.add(data4.avg_amplitude, subplot=2)\n",
    "plot4Q = qc.QtPlot(data4.amplitude, figsize=(1200, 500))\n",
    "plot4Q.add(data4.avg_amplitude, subplot=2)"
   ]
  },
  {
   "cell_type": "code",
   "execution_count": null,
   "metadata": {
    "collapsed": true
   },
   "outputs": [],
   "source": []
  }
 ],
 "metadata": {
  "kernelspec": {
   "display_name": "Python 3",
   "language": "python",
   "name": "python3"
  },
  "language_info": {
   "codemirror_mode": {
    "name": "ipython",
    "version": 3
   },
   "file_extension": ".py",
   "mimetype": "text/x-python",
   "name": "python",
   "nbconvert_exporter": "python",
   "pygments_lexer": "ipython3",
   "version": "3.5.1"
  }
 },
 "nbformat": 4,
 "nbformat_minor": 0
}
