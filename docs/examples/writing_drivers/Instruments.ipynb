{
 "cells": [
  {
   "cell_type": "markdown",
   "metadata": {},
   "source": [
    "# Instrument\n",
    "\n",
    "An instrument is first and most fundamental pillar of QCoDeS as it represent the hardware you would want to talk to, either to control your system, collect data, or both.\n",
    "\n",
    "Instruments come in several flavors:\n",
    "\n",
    "- Hardware: most instruments map one-to-one to a real piece of hardware; in these instances, the QCoDeS Instrument requires a driver or communication channel to the hardware.\n",
    "- Simulation: for theoretical or computational work, an instrument may contain or connect to a model that has its own state and generates results in much the same way that an instrument returns measurements.\n",
    "- Manual: If a real instrument has no computer interface (just physical switches and knobs), you may want a QCoDeS instrument for it just to maintain a record of how it was configured at any given time during the experiment, and perhaps to use those settings in calculations. In these cases it is of course up to the user to keep the hardware and software synchronized.\n",
    "\n",
    "\n",
    "## Instrument responsibilities:\n",
    "\n",
    "- Holding connections to hardware, be it VISA, some other communication protocol, or a specific DLL or lower-level driver.\n",
    "- Creating parameters and methods to support desired functionalities. These objects may be used independently of the instrument, but they make use of the instrument's hardware connections.\n",
    "- Describing their current state (“snapshot”) when queried. These are supplied as a JSON-compatible dictionary supported by a custom JSON encoder class qcodes.utils.NumpyJSONEncoder.\n",
    "\n",
    "Instruments hold state of:\n",
    "\n",
    "- The communication address, and in many cases the open communication channel.\n",
    "- A list of references to parameters added to the instrument.\n",
    "\n",
    "## Instruments can fail:\n",
    "When a VisaInstrument has been instantiated before, particularly with TCPIP, sometimes it will complain “VI_ERROR_RSRC_NFOUND: Insufficient location information or the requested device or resource is not present in the system” and not allow you to open the instrument until either the hardware has been power cycled or the network cable disconnected and reconnected.\n",
    "\n",
    "## Example notebooks about Instruments:\n",
    "\n",
    "- [Writing instrument drivers](Creating-Instrument-Drivers.ipynb): This notebook features examples for developing instrument drivers, including the definition of channels and drivers.\n",
    "- [Simulated PyVISA instruments](Creating-Simulated-PyVISA-Instruments.ipynb): This provides examples of writing simulated instruments for testing software.\n",
    "- [Abstract instruments](abstract_instruments.ipynb): This example focuses on creating abstraction to enforce standardized interfaces.\n"
   ]
  },
  {
   "cell_type": "code",
   "execution_count": null,
   "metadata": {},
   "outputs": [],
   "source": []
  }
 ],
 "metadata": {
  "kernelspec": {
   "display_name": "Python 3 (ipykernel)",
   "language": "python",
   "name": "python3"
  },
  "language_info": {
   "codemirror_mode": {
    "name": "ipython",
    "version": 3
   },
   "file_extension": ".py",
   "mimetype": "text/x-python",
   "name": "python",
   "nbconvert_exporter": "python",
   "pygments_lexer": "ipython3",
   "version": "3.8.13"
  },
  "widgets": {
   "application/vnd.jupyter.widget-state+json": {
    "state": {},
    "version_major": 2,
    "version_minor": 0
   }
  }
 },
 "nbformat": 4,
 "nbformat_minor": 4
}
