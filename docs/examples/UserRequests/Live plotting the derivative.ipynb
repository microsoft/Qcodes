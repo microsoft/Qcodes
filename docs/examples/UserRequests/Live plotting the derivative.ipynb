{
 "cells": [
  {
   "cell_type": "markdown",
   "metadata": {},
   "source": [
    "# Live plotting the derivative\n",
    "\n",
    "This tutorial shows how to add a column-wise derivative to a 2D measurement"
   ]
  },
  {
   "cell_type": "code",
   "execution_count": null,
   "metadata": {},
   "outputs": [],
   "source": [
    "# imports\n",
    "import numpy as np\n",
    "import qcodes as qc\n",
    "from qcodes.utils.wrappers import init, do1d, do2d\n",
    "from qcodes.tests.instrument_mocks import DummyInstrument\n",
    "from qcodes.instrument.parameter import ArrayParameter"
   ]
  },
  {
   "cell_type": "markdown",
   "metadata": {},
   "source": [
    "## Setting up a mock experiment"
   ]
  },
  {
   "cell_type": "code",
   "execution_count": null,
   "metadata": {},
   "outputs": [],
   "source": [
    "# Dummy instruments\n",
    "\n",
    "dac = DummyInstrument('dac', gates=['ch1', 'ch2'])\n",
    "lockin = DummyInstrument('lockin', gates=['X', 'Y'])\n",
    "\n",
    "station = qc.Station(dac, lockin)\n",
    "\n",
    "init('./sandboxdata', 'sandboxsample', station, annotate_image=False)"
   ]
  },
  {
   "cell_type": "code",
   "execution_count": null,
   "metadata": {},
   "outputs": [],
   "source": [
    "# add a mock non-trivial signal array parameter to the lock-in\n",
    "\n",
    "class Signal(ArrayParameter):\n",
    "    \n",
    "    def __init__(self, name, instrument):\n",
    "        super().__init__(name,\n",
    "                         shape=(500,),\n",
    "                         unit='arb. un.',\n",
    "                         setpoint_names=('Voltage',),\n",
    "                         setpoint_units=('V',)\n",
    "                        )\n",
    "        self.setpoints = (tuple(np.linspace(-3, 3, 500)),)\n",
    "        self._instrument = instrument\n",
    "        self.xpoint = self._xpoint()\n",
    "    \n",
    "    def reset_signal(self):\n",
    "        self.xpoint = self._xpoint()\n",
    "    \n",
    "    \n",
    "    def _xpoint(self):\n",
    "        \"\"\"\n",
    "        A frequency counter\n",
    "        \"\"\"\n",
    "        n = 0\n",
    "        xx = np.linspace(-3, 3, 50)\n",
    "        while True:\n",
    "            yield xx[(n % len(xx))]\n",
    "            n += 1\n",
    "    \n",
    "    \n",
    "    def get(self):\n",
    "        yy = np.array(self.setpoints[0])\n",
    "        x = next(self.xpoint)\n",
    "        sig = (1 - x/2 + x**5 + yy**3) * np.exp(-x**2 - yy**2)\n",
    "        noise =  0.01*np.random.randn(500)\n",
    "        sig += np.convolve(noise, np.hanning(5), mode='same')/np.sum(np.hanning(5))\n",
    "        return sig\n",
    "    \n",
    "lockin.add_parameter(name='signal',\n",
    "                     parameter_class=Signal)\n",
    "        "
   ]
  },
  {
   "cell_type": "code",
   "execution_count": null,
   "metadata": {},
   "outputs": [],
   "source": [
    "# Measure the beautiful signal\n",
    "\n",
    "do1d(dac.ch1, 0, 1, 50, 0.02, lockin.signal)"
   ]
  },
  {
   "cell_type": "markdown",
   "metadata": {},
   "source": [
    "## Adding the derivative"
   ]
  },
  {
   "cell_type": "code",
   "execution_count": null,
   "metadata": {},
   "outputs": [],
   "source": [
    "# Define a new parameter. Since this will return an array of values, it must\n",
    "# be a subclass of the ArrayParameter\n",
    "\n",
    "class Derivative(ArrayParameter):\n",
    "    \n",
    "    def __init__(self, name, instrument, antiderivative):\n",
    "        \"\"\"\n",
    "        The antiderivative is the parameter we wish to differentiate\n",
    "        \"\"\"\n",
    "        super().__init__(name, \n",
    "                         shape=(antiderivative.shape[0] - 1,),  # derivative is one shorter\n",
    "                         setpoint_names=antiderivative.setpoint_names,\n",
    "                         setpoint_units=antiderivative.setpoint_units)\n",
    "        self._instrument = instrument\n",
    "        self.ad = antiderivative\n",
    "        self.setpoints = (self.ad.setpoints[0][:-1],)\n",
    "        \n",
    "    def get(self):\n",
    "        yy = self.ad.get_latest()\n",
    "        xx = np.array(self.ad.setpoints[0])\n",
    "        \n",
    "        return np.diff(yy)/np.diff(xx)\n",
    "    "
   ]
  },
  {
   "cell_type": "code",
   "execution_count": null,
   "metadata": {},
   "outputs": [],
   "source": [
    "lockin.add_parameter('deriv',\n",
    "                     antiderivative=lockin.signal,\n",
    "                     parameter_class=Derivative)"
   ]
  },
  {
   "cell_type": "code",
   "execution_count": null,
   "metadata": {},
   "outputs": [],
   "source": [
    "do1d(dac.ch1, 0, 1, 50, 0.2, lockin.signal, lockin.deriv, use_threads=False)"
   ]
  },
  {
   "cell_type": "markdown",
   "metadata": {},
   "source": [
    "## Adding the derivative + smoothing\n",
    "\n",
    "Directly taking the derivative of experimental data with noise usually results in a very noisy derivative signal.\n",
    "Here we add some pre-smoothening of the signal prior to taking the derivative."
   ]
  },
  {
   "cell_type": "code",
   "execution_count": null,
   "metadata": {},
   "outputs": [],
   "source": [
    "class SmoothDerivative(ArrayParameter):\n",
    "    \n",
    "    def __init__(self, name, instrument, antiderivative, kernel_size):\n",
    "        \"\"\"\n",
    "        The antiderivative is the parameter we wish to differentiate\n",
    "        Some pre-smoothing is added\n",
    "        \"\"\"\n",
    "        super().__init__(name, \n",
    "                         shape=(antiderivative.shape[0] - 1 - kernel_size,),\n",
    "                         setpoint_names=antiderivative.setpoint_names,\n",
    "                         setpoint_units=antiderivative.setpoint_units)\n",
    "        self._instrument = instrument\n",
    "        self.ad = antiderivative\n",
    "        self.ks = kernel_size\n",
    "        self.setpoints = (tuple(np.array(self.ad.setpoints[0])[self.ks//2:-self.ks//2-1]),)\n",
    "    \n",
    "    def change_kernel_size(self, ks):\n",
    "        \"\"\"\n",
    "        Update the kernel size for more/less agressive smoothening\n",
    "        \"\"\"\n",
    "        \n",
    "        if (ks % 2) != 0:\n",
    "            raise ValueError('Kernel size must be an even integer')\n",
    "        \n",
    "        self.ks = ks\n",
    "        self.setpoints = (tuple(np.array(self.ad.setpoints[0])[self.ks//2:-self.ks//2-1]),)\n",
    "        self.shape = (self.ad.shape[0] - 1 - self.ks,)\n",
    "    \n",
    "    @staticmethod\n",
    "    def smoothen(signal, xx, ks):\n",
    "        \"\"\"\n",
    "        Smoothen a signal and reduce the x-axis accordingly\n",
    "        \"\"\"\n",
    "        if (ks % 2) != 0:\n",
    "            raise ValueError('Kernel size must be an even integer'\n",
    "                            )\n",
    "        smooth_sig = np.convolve(signal, np.hanning(ks), mode='same')/np.sum(np.hanning(ks))\n",
    "        smooth_sig = smooth_sig[ks//2:-ks//2]\n",
    "        xx = xx[ks//2:-ks//2]\n",
    "    \n",
    "        return xx, smooth_sig\n",
    "    \n",
    "    def get(self):\n",
    "        yy = self.ad.get_latest()\n",
    "        xx = np.array(self.ad.setpoints[0])\n",
    "        \n",
    "        sxx, syy = self.smoothen(yy, xx, self.ks)\n",
    "        \n",
    "        return np.diff(syy)/np.diff(sxx)"
   ]
  },
  {
   "cell_type": "code",
   "execution_count": null,
   "metadata": {},
   "outputs": [],
   "source": [
    "lockin.add_parameter('smoothderiv',\n",
    "                     antiderivative=lockin.signal,\n",
    "                     parameter_class=SmoothDerivative,\n",
    "                     kernel_size=10)"
   ]
  },
  {
   "cell_type": "code",
   "execution_count": null,
   "metadata": {},
   "outputs": [],
   "source": [
    "do1d(dac.ch1, 0, 1, 50, 0.2, lockin.signal, lockin.smoothderiv, use_threads=False)"
   ]
  },
  {
   "cell_type": "markdown",
   "metadata": {},
   "source": [
    "### Changing kernel size\n",
    "\n",
    "You can change the kernel size easily:"
   ]
  },
  {
   "cell_type": "code",
   "execution_count": null,
   "metadata": {},
   "outputs": [],
   "source": [
    "lockin.smoothderiv.change_kernel_size(24)"
   ]
  },
  {
   "cell_type": "code",
   "execution_count": null,
   "metadata": {
    "scrolled": false
   },
   "outputs": [],
   "source": [
    "do1d(dac.ch1, 0, 1, 50, 0.2, lockin.signal, lockin.smoothderiv, use_threads=False)"
   ]
  },
  {
   "cell_type": "code",
   "execution_count": null,
   "metadata": {},
   "outputs": [],
   "source": []
  }
 ],
 "metadata": {
  "kernelspec": {
   "display_name": "Python 3",
   "language": "python",
   "name": "python3"
  },
  "language_info": {
   "codemirror_mode": {
    "name": "ipython",
    "version": 3
   },
   "file_extension": ".py",
   "mimetype": "text/x-python",
   "name": "python",
   "nbconvert_exporter": "python",
   "pygments_lexer": "ipython3",
   "version": "3.5.3"
  }
 },
 "nbformat": 4,
 "nbformat_minor": 2
}
