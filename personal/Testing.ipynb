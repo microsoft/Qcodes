{
 "cells": [
  {
   "cell_type": "code",
   "execution_count": 15,
   "metadata": {
    "collapsed": true
   },
   "outputs": [
    {
     "ename": "ValueError",
     "evalue": "array_id index0 already exists in this DataSet",
     "output_type": "error",
     "traceback": [
      "\u001b[1;31m---------------------------------------------------------------------------\u001b[0m",
      "\u001b[1;31mValueError\u001b[0m                                Traceback (most recent call last)",
      "\u001b[1;32m<ipython-input-15-1a6317883222>\u001b[0m in \u001b[0;36m<module>\u001b[1;34m()\u001b[0m\n\u001b[0;32m      9\u001b[0m dummy_detect = parameter.StandardParameter(name='dummy_detect_set', names=('dummy_detect','dummy_detect2'),\n\u001b[0;32m     10\u001b[0m                                            get_cmd=lambda: ([1],[2,3]), shapes=((1,),(2,)))\n\u001b[1;32m---> 11\u001b[1;33m \u001b[0mdata\u001b[0m \u001b[1;33m=\u001b[0m \u001b[0mqc\u001b[0m\u001b[1;33m.\u001b[0m\u001b[0mLoop\u001b[0m\u001b[1;33m(\u001b[0m\u001b[0mdummy\u001b[0m\u001b[1;33m[\u001b[0m\u001b[1;36m0\u001b[0m\u001b[1;33m:\u001b[0m\u001b[1;36m3\u001b[0m\u001b[1;33m:\u001b[0m\u001b[1;36m1\u001b[0m\u001b[1;33m]\u001b[0m\u001b[1;33m)\u001b[0m\u001b[1;33m.\u001b[0m\u001b[0meach\u001b[0m\u001b[1;33m(\u001b[0m\u001b[0mdummy_detect\u001b[0m\u001b[1;33m)\u001b[0m\u001b[1;33m.\u001b[0m\u001b[0mrun\u001b[0m\u001b[1;33m(\u001b[0m\u001b[0mname\u001b[0m\u001b[1;33m=\u001b[0m\u001b[1;34m'DummyTest'\u001b[0m\u001b[1;33m,\u001b[0m\u001b[0muse_threads\u001b[0m\u001b[1;33m=\u001b[0m\u001b[1;32mFalse\u001b[0m\u001b[1;33m,\u001b[0m \u001b[0mbackground\u001b[0m\u001b[1;33m=\u001b[0m\u001b[1;32mFalse\u001b[0m\u001b[1;33m,\u001b[0m \u001b[0mquiet\u001b[0m\u001b[1;33m=\u001b[0m\u001b[1;32mTrue\u001b[0m\u001b[1;33m)\u001b[0m\u001b[1;33m\u001b[0m\u001b[0m\n\u001b[0m\u001b[0;32m     12\u001b[0m \u001b[1;33m\u001b[0m\u001b[0m\n\u001b[0;32m     13\u001b[0m \u001b[0mprint\u001b[0m\u001b[1;33m(\u001b[0m\u001b[0mdata\u001b[0m\u001b[1;33m.\u001b[0m\u001b[0mdummy_detect\u001b[0m\u001b[1;33m)\u001b[0m\u001b[1;33m\u001b[0m\u001b[0m\n",
      "\u001b[1;32mc:\\users\\lab.blug12meas\\documents\\qcodes\\qcodes\\loops.py\u001b[0m in \u001b[0;36mrun\u001b[1;34m(self, background, use_threads, quiet, data_manager, station, progress_interval, *args, **kwargs)\u001b[0m\n\u001b[0;32m    659\u001b[0m \u001b[1;33m\u001b[0m\u001b[0m\n\u001b[0;32m    660\u001b[0m         data_set = new_data(arrays=self.containers(), mode=data_mode,\n\u001b[1;32m--> 661\u001b[1;33m                             data_manager=data_manager, *args, **kwargs)\n\u001b[0m\u001b[0;32m    662\u001b[0m         self.set_common_attrs(data_set=data_set, use_threads=use_threads,\n\u001b[0;32m    663\u001b[0m                               signal_queue=self.signal_queue)\n",
      "\u001b[1;32mc:\\users\\lab.blug12meas\\documents\\qcodes\\qcodes\\data\\data_set.py\u001b[0m in \u001b[0;36mnew_data\u001b[1;34m(location, loc_record, name, overwrite, io, data_manager, mode, **kwargs)\u001b[0m\n\u001b[0;32m    113\u001b[0m \u001b[1;33m\u001b[0m\u001b[0m\n\u001b[0;32m    114\u001b[0m     return DataSet(location=location, io=io, data_manager=data_manager,\n\u001b[1;32m--> 115\u001b[1;33m                    mode=mode, **kwargs)\n\u001b[0m\u001b[0;32m    116\u001b[0m \u001b[1;33m\u001b[0m\u001b[0m\n\u001b[0;32m    117\u001b[0m \u001b[1;33m\u001b[0m\u001b[0m\n",
      "\u001b[1;32mc:\\users\\lab.blug12meas\\documents\\qcodes\\qcodes\\data\\data_set.py\u001b[0m in \u001b[0;36m__init__\u001b[1;34m(self, location, mode, arrays, data_manager, formatter, io, write_period)\u001b[0m\n\u001b[0;32m    279\u001b[0m             \u001b[0mself\u001b[0m\u001b[1;33m.\u001b[0m\u001b[0maction_id_map\u001b[0m \u001b[1;33m=\u001b[0m \u001b[0mself\u001b[0m\u001b[1;33m.\u001b[0m\u001b[0m_clean_array_ids\u001b[0m\u001b[1;33m(\u001b[0m\u001b[0marrays\u001b[0m\u001b[1;33m)\u001b[0m\u001b[1;33m\u001b[0m\u001b[0m\n\u001b[0;32m    280\u001b[0m             \u001b[1;32mfor\u001b[0m \u001b[0marray\u001b[0m \u001b[1;32min\u001b[0m \u001b[0marrays\u001b[0m\u001b[1;33m:\u001b[0m\u001b[1;33m\u001b[0m\u001b[0m\n\u001b[1;32m--> 281\u001b[1;33m                 \u001b[0mself\u001b[0m\u001b[1;33m.\u001b[0m\u001b[0madd_array\u001b[0m\u001b[1;33m(\u001b[0m\u001b[0marray\u001b[0m\u001b[1;33m)\u001b[0m\u001b[1;33m\u001b[0m\u001b[0m\n\u001b[0m\u001b[0;32m    282\u001b[0m \u001b[1;33m\u001b[0m\u001b[0m\n\u001b[0;32m    283\u001b[0m         \u001b[1;32mif\u001b[0m \u001b[0mdata_manager\u001b[0m \u001b[1;32mis\u001b[0m \u001b[1;32mNone\u001b[0m \u001b[1;32mand\u001b[0m \u001b[0mmode\u001b[0m \u001b[1;32min\u001b[0m \u001b[0mSERVER_MODES\u001b[0m\u001b[1;33m:\u001b[0m\u001b[1;33m\u001b[0m\u001b[0m\n",
      "\u001b[1;32mc:\\users\\lab.blug12meas\\documents\\qcodes\\qcodes\\data\\data_set.py\u001b[0m in \u001b[0;36madd_array\u001b[1;34m(self, data_array)\u001b[0m\n\u001b[0;32m    530\u001b[0m         \u001b[1;32mif\u001b[0m \u001b[0mdata_array\u001b[0m\u001b[1;33m.\u001b[0m\u001b[0marray_id\u001b[0m \u001b[1;32min\u001b[0m \u001b[0mself\u001b[0m\u001b[1;33m.\u001b[0m\u001b[0marrays\u001b[0m\u001b[1;33m:\u001b[0m\u001b[1;33m\u001b[0m\u001b[0m\n\u001b[0;32m    531\u001b[0m             raise ValueError('array_id {} already exists in this '\n\u001b[1;32m--> 532\u001b[1;33m                              'DataSet'.format(data_array.array_id))\n\u001b[0m\u001b[0;32m    533\u001b[0m         \u001b[0mself\u001b[0m\u001b[1;33m.\u001b[0m\u001b[0marrays\u001b[0m\u001b[1;33m[\u001b[0m\u001b[0mdata_array\u001b[0m\u001b[1;33m.\u001b[0m\u001b[0marray_id\u001b[0m\u001b[1;33m]\u001b[0m \u001b[1;33m=\u001b[0m \u001b[0mdata_array\u001b[0m\u001b[1;33m\u001b[0m\u001b[0m\n\u001b[0;32m    534\u001b[0m \u001b[1;33m\u001b[0m\u001b[0m\n",
      "\u001b[1;31mValueError\u001b[0m: array_id index0 already exists in this DataSet"
     ]
    }
   ],
   "source": [
    "import qcodes as qc\n",
    "import numpy as np\n",
    "import qcodes.instrument.parameter as parameter\n",
    "loc_provider = qc.data.location.FormatLocation(fmt='data/{date}/#{counter}_{name}_{time}')\n",
    "qc.data.data_set.DataSet.location_provider=loc_provider\n",
    "\n",
    "# Finally show that this instrument also works within a loop\n",
    "dummy = parameter.ManualParameter(name=\"dummy\")\n",
    "dummy_detect = parameter.StandardParameter(name='dummy_detect_set', names=('dummy_detect','dummy_detect2'),\n",
    "                                           get_cmd=lambda: ([1],[2,3]), shapes=((1,),(2,)))\n",
    "data = qc.Loop(dummy[0:3:1]).each(dummy_detect).run(name='DummyTest',use_threads=False, background=False, quiet=True)\n",
    "\n",
    "print(data.dummy_detect)\n",
    "print(data.dummy_detect2)"
   ]
  },
  {
   "cell_type": "code",
   "execution_count": 102,
   "metadata": {
    "collapsed": false
   },
   "outputs": [
    {
     "data": {
      "text/plain": [
       "(3, 3)"
      ]
     },
     "execution_count": 102,
     "metadata": {},
     "output_type": "execute_result"
    }
   ],
   "source": [
    "tuple([3,3])"
   ]
  },
  {
   "cell_type": "code",
   "execution_count": 17,
   "metadata": {
    "collapsed": false
   },
   "outputs": [
    {
     "name": "stdout",
     "output_type": "stream",
     "text": [
      "DataArray[3,1,1]: dummy_detect\n",
      "array([[[ 123.]],\n",
      "\n",
      "       [[ 123.]],\n",
      "\n",
      "       [[ 123.]]])\n"
     ]
    }
   ],
   "source": [
    "import qcodes as qc\n",
    "import numpy as np\n",
    "import qcodes.instrument.parameter as parameter\n",
    "loc_provider = qc.data.location.FormatLocation(fmt='data/{date}/#{counter}_{name}_{time}')\n",
    "qc.data.data_set.DataSet.location_provider=loc_provider\n",
    "\n",
    "# Finally show that this instrument also works within a loop\n",
    "dummy = parameter.ManualParameter(name=\"dummy\")\n",
    "dummy_detect = parameter.StandardParameter(name='dummy_detect_set', names=('dummy_detect','dummy_detect2'),\n",
    "                                           get_cmd=lambda: [123,124], shape=(1,1))#shapes=((None,),(None,)))\n",
    "data = qc.Loop(dummy[0:3:1]).each(dummy_detect).run(name='DummyTest',use_threads=False, background=False, quiet=True)\n",
    "\n",
    "print(data.dummy_detect)"
   ]
  },
  {
   "cell_type": "code",
   "execution_count": 42,
   "metadata": {
    "collapsed": false
   },
   "outputs": [],
   "source": [
    "import qcodes as qc\n",
    "import numpy as np\n",
    "import qcodes.instrument.parameter as parameter\n",
    "loc_provider = qc.data.location.FormatLocation(fmt='data/{date}/#{counter}_{name}_{time}')\n",
    "qc.data.data_set.DataSet.location_provider=loc_provider\n",
    "\n",
    "# Finally show that this instrument also works within a loop\n",
    "dummy = parameter.ManualParameter(name=\"dummy\")\n",
    "dummy_detect = parameter.StandardParameter(name='dummy_detect',\n",
    "                                           get_cmd=lambda: [123,124],shape=(2,))#, shape=(1,1))#shapes=((None,),(None,)))\n",
    "data = qc.Loop(dummy[0:3:1]).each(dummy_detect).run(name='DummyTest',use_threads=False, background=False, quiet=True)\n",
    "\n",
    "print(data.dummy_detect)\n",
    "# print(data.dummy_detect2)"
   ]
  },
  {
   "cell_type": "code",
   "execution_count": 44,
   "metadata": {
    "collapsed": false
   },
   "outputs": [
    {
     "data": {
      "text/plain": [
       "False"
      ]
     },
     "execution_count": 44,
     "metadata": {},
     "output_type": "execute_result"
    }
   ],
   "source": [
    "hasattr(dummy_detect,'names2')"
   ]
  },
  {
   "cell_type": "code",
   "execution_count": 38,
   "metadata": {
    "collapsed": false
   },
   "outputs": [
    {
     "name": "stdout",
     "output_type": "stream",
     "text": [
      "DataSet:\n",
      "   mode     = DataMode.LOCAL\n",
      "   location = 'data/2016-08-20/#030_DummyTest_09-54-54'\n",
      "   <Type>   | <array_id>    | <array.name>  | <array.shape>\n",
      "   Setpoint | dummy_set     | dummy         | (3,)\n",
      "   Measured | dummy_detect  | dummy_detect  | (3,)\n",
      "   Measured | dummy_detect2 | dummy_detect2 | (3,)\n",
      "started at 2016-08-20 09:54:54\n",
      "DataArray[3]: dummy_detect\n",
      "array([ 123.,  123.,  123.])\n"
     ]
    }
   ],
   "source": [
    "import qcodes as qc\n",
    "import numpy as np\n",
    "import qcodes.instrument.parameter as parameter\n",
    "loc_provider = qc.data.location.FormatLocation(fmt='data/{date}/#{counter}_{name}_{time}')\n",
    "qc.data.data_set.DataSet.location_provider=loc_provider\n",
    "\n",
    "# Finally show that this instrument also works within a loop\n",
    "dummy = parameter.ManualParameter(name=\"dummy\")\n",
    "dummy_detect = parameter.StandardParameter(name='dummy_detect', names=('dummy_detect', 'dummy_detect2'),\n",
    "                                           get_cmd=lambda: [123,124],shapes=((),()))\n",
    "data = qc.Loop(dummy[0:3:1]).each(dummy_detect).run(name='DummyTest',use_threads=False, background=False)\n",
    "\n",
    "print(data.dummy_detect)\n",
    "# print(data.dummy_detect2)"
   ]
  },
  {
   "cell_type": "code",
   "execution_count": 16,
   "metadata": {
    "collapsed": false
   },
   "outputs": [
    {
     "data": {
      "text/plain": [
       "<module 'qcodes.tests.instrument_mocks' from 'c:\\\\users\\\\lab.blug12meas\\\\documents\\\\qcodes\\\\qcodes\\\\tests\\\\instrument_mocks.py'>"
      ]
     },
     "execution_count": 16,
     "metadata": {},
     "output_type": "execute_result"
    }
   ],
   "source": [
    "import qcodes.tests.instrument_mocks as mocks\n",
    "from imp import reload\n",
    "reload(mocks)"
   ]
  },
  {
   "cell_type": "code",
   "execution_count": 20,
   "metadata": {
    "collapsed": true
   },
   "outputs": [],
   "source": [
    "dummy_detect.get_latest()"
   ]
  },
  {
   "cell_type": "code",
   "execution_count": 17,
   "metadata": {
    "collapsed": false
   },
   "outputs": [],
   "source": [
    "ins = mocks.DummyInstrument()"
   ]
  },
  {
   "cell_type": "code",
   "execution_count": 27,
   "metadata": {
    "collapsed": true
   },
   "outputs": [],
   "source": [
    "ins.add_names(['sdf'])"
   ]
  },
  {
   "cell_type": "code",
   "execution_count": 22,
   "metadata": {
    "collapsed": false
   },
   "outputs": [
    {
     "data": {
      "text/plain": [
       "0"
      ]
     },
     "execution_count": 22,
     "metadata": {},
     "output_type": "execute_result"
    }
   ],
   "source": [
    "ins.dac1.get_latest()"
   ]
  },
  {
   "cell_type": "code",
   "execution_count": 25,
   "metadata": {
    "collapsed": false
   },
   "outputs": [],
   "source": [
    "ins.dac1.update(['names'])"
   ]
  },
  {
   "cell_type": "code",
   "execution_count": 28,
   "metadata": {
    "collapsed": false
   },
   "outputs": [
    {
     "data": {
      "text/plain": [
       "['sdf']"
      ]
     },
     "execution_count": 28,
     "metadata": {},
     "output_type": "execute_result"
    }
   ],
   "source": [
    "ins.dac1.names"
   ]
  },
  {
   "cell_type": "code",
   "execution_count": 13,
   "metadata": {
    "collapsed": false
   },
   "outputs": [],
   "source": [
    "ins.close()"
   ]
  }
 ],
 "metadata": {
  "anaconda-cloud": {},
  "kernelspec": {
   "display_name": "Python [Root]",
   "language": "python",
   "name": "Python [Root]"
  },
  "language_info": {
   "codemirror_mode": {
    "name": "ipython",
    "version": 3
   },
   "file_extension": ".py",
   "mimetype": "text/x-python",
   "name": "python",
   "nbconvert_exporter": "python",
   "pygments_lexer": "ipython3",
   "version": "3.5.2"
  }
 },
 "nbformat": 4,
 "nbformat_minor": 0
}
