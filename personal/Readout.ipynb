{
 "cells": [
  {
   "cell_type": "code",
   "execution_count": 1,
   "metadata": {
    "code_folding": [
     0
    ],
    "collapsed": false
   },
   "outputs": [
    {
     "data": {
      "application/javascript": [
       "/*\r\n",
       " * Qcodes Jupyter/IPython widgets\r\n",
       " */\r\n",
       "require([\r\n",
       "    'nbextensions/widgets/widgets/js/widget',\r\n",
       "    'nbextensions/widgets/widgets/js/manager'\r\n",
       "], function (widget, manager) {\r\n",
       "\r\n",
       "    var UpdateView = widget.DOMWidgetView.extend({\r\n",
       "        render: function() {\r\n",
       "            window.MYWIDGET = this;\r\n",
       "            this._interval = 0;\r\n",
       "            this.update();\r\n",
       "        },\r\n",
       "        update: function() {\r\n",
       "            this.display(this.model.get('_message'));\r\n",
       "            this.setInterval();\r\n",
       "        },\r\n",
       "        display: function(message) {\r\n",
       "            /*\r\n",
       "             * display method: override this for custom display logic\r\n",
       "             */\r\n",
       "            this.el.innerHTML = message;\r\n",
       "        },\r\n",
       "        remove: function() {\r\n",
       "            clearInterval(this._updater);\r\n",
       "        },\r\n",
       "        setInterval: function(newInterval) {\r\n",
       "            var me = this;\r\n",
       "            if(newInterval===undefined) newInterval = me.model.get('interval');\r\n",
       "            if(newInterval===me._interval) return;\r\n",
       "\r\n",
       "            me._interval = newInterval;\r\n",
       "\r\n",
       "            if(me._updater) clearInterval(me._updater);\r\n",
       "\r\n",
       "            if(me._interval) {\r\n",
       "                me._updater = setInterval(function() {\r\n",
       "                    me.send({myupdate: true});\r\n",
       "                    if(!me.model.comm_live) {\r\n",
       "                        console.log('missing comm, canceling widget updates', me);\r\n",
       "                        clearInterval(me._updater);\r\n",
       "                    }\r\n",
       "                }, me._interval * 1000);\r\n",
       "            }\r\n",
       "        }\r\n",
       "    });\r\n",
       "    manager.WidgetManager.register_widget_view('UpdateView', UpdateView);\r\n",
       "\r\n",
       "    var HiddenUpdateView = UpdateView.extend({\r\n",
       "        display: function(message) {\r\n",
       "            this.$el.hide();\r\n",
       "        }\r\n",
       "    });\r\n",
       "    manager.WidgetManager.register_widget_view('HiddenUpdateView', HiddenUpdateView);\r\n",
       "\r\n",
       "    var SubprocessView = UpdateView.extend({\r\n",
       "        render: function() {\r\n",
       "            var me = this;\r\n",
       "            me._interval = 0;\r\n",
       "            me._minimize = '<i class=\"fa-minus fa\"></i>';\r\n",
       "            me._restore = '<i class=\"fa-plus fa\"></i>';\r\n",
       "\r\n",
       "            // max lines of output to show\r\n",
       "            me.maxOutputLength = 500;\r\n",
       "\r\n",
       "            // in case there is already an outputView present,\r\n",
       "            // like from before restarting the kernel\r\n",
       "            $('.qcodes-output-view').not(me.$el).remove();\r\n",
       "\r\n",
       "            me.$el\r\n",
       "                .addClass('qcodes-output-view')\r\n",
       "                .attr('qcodes-state', 'docked')\r\n",
       "                .html(\r\n",
       "                    '<div class=\"qcodes-output-header toolbar\">' +\r\n",
       "                        '<div class=\"qcodes-process-list\"></div>' +\r\n",
       "                        '<button class=\"btn qcodes-processlines\"><i class=\"fa-list fa\"></i></button>' +\r\n",
       "                        '<button class=\"btn qcodes-abort-loop disabled\">Abort</button>' +\r\n",
       "                        '<button class=\"btn qcodes-clear-output disabled qcodes-content\">Clear</button>' +\r\n",
       "                        '<button class=\"btn js-state qcodes-minimized\"><i class=\"fa-minus fa\"></i></button>' +\r\n",
       "                        '<button class=\"btn js-state qcodes-docked\"><i class=\"fa-toggle-up fa\"></i></button>' +\r\n",
       "                        '<button class=\"btn js-state qcodes-floated\"><i class=\"fa-arrows fa\"></i></button>' +\r\n",
       "                    '</div>' +\r\n",
       "                    '<pre class=\"qcodes-content\"></pre>'\r\n",
       "                );\r\n",
       "\r\n",
       "            me.clearButton = me.$el.find('.qcodes-clear-output');\r\n",
       "            me.minButton = me.$el.find('.qcodes-minimize');\r\n",
       "            me.outputArea = me.$el.find('pre');\r\n",
       "            me.subprocessList = me.$el.find('.qcodes-process-list');\r\n",
       "            me.abortButton = me.$el.find('.qcodes-abort-loop');\r\n",
       "            me.processLinesButton = me.$el.find('.qcodes-processlines')\r\n",
       "\r\n",
       "            me.outputLines = [];\r\n",
       "\r\n",
       "            me.clearButton.click(function() {\r\n",
       "                me.outputArea.html('');\r\n",
       "                me.clearButton.addClass('disabled');\r\n",
       "            });\r\n",
       "\r\n",
       "            me.abortButton.click(function() {\r\n",
       "                me.send({abort: true});\r\n",
       "            });\r\n",
       "\r\n",
       "            me.processLinesButton.click(function() {\r\n",
       "                // toggle multiline process list display\r\n",
       "                me.subprocessesMultiline = !me.subprocessesMultiline;\r\n",
       "                me.showSubprocesses();\r\n",
       "            });\r\n",
       "\r\n",
       "            me.$el.find('.js-state').click(function() {\r\n",
       "                var state = this.className.substr(this.className.indexOf('qcodes'))\r\n",
       "                        .split('-')[1].split(' ')[0];\r\n",
       "                me.model.set('_state', state);\r\n",
       "            });\r\n",
       "\r\n",
       "            $(window)\r\n",
       "                .off('resize.qcodes')\r\n",
       "                .on('resize.qcodes', function() {me.clipBounds();});\r\n",
       "\r\n",
       "            me.update();\r\n",
       "        },\r\n",
       "\r\n",
       "        updateState: function() {\r\n",
       "            var me = this,\r\n",
       "                oldState = me.$el.attr('qcodes-state'),\r\n",
       "                state = me.model.get('_state');\r\n",
       "\r\n",
       "            if(state === oldState) return;\r\n",
       "\r\n",
       "            setTimeout(function() {\r\n",
       "                // not sure why I can't pop it out of the widgetarea in render, but it seems that\r\n",
       "                // some other bit of code resets the parent after render if I do it there.\r\n",
       "                // To be safe, just do it on every state click.\r\n",
       "                me.$el.appendTo('body');\r\n",
       "\r\n",
       "                if(oldState === 'floated') {\r\n",
       "                    console.log('here');\r\n",
       "                    me.$el.draggable('destroy').css({left:'', top: ''});\r\n",
       "                }\r\n",
       "\r\n",
       "                me.$el.attr('qcodes-state', state);\r\n",
       "\r\n",
       "                if(state === 'floated') {\r\n",
       "                    me.$el\r\n",
       "                        .draggable({stop: function() { me.clipBounds(); }})\r\n",
       "                        .css({\r\n",
       "                            left: window.innerWidth - me.$el.width() - 15,\r\n",
       "                            top: window.innerHeight - me.$el.height() - 10\r\n",
       "                        });\r\n",
       "                }\r\n",
       "\r\n",
       "                // any previous highlighting is now moot\r\n",
       "                me.$el.removeClass('qcodes-highlight');\r\n",
       "            }, 0);\r\n",
       "\r\n",
       "        },\r\n",
       "\r\n",
       "        clipBounds: function() {\r\n",
       "            var me = this;\r\n",
       "            if(me.$el.attr('qcodes-state') === 'floated') {\r\n",
       "                var bounds = me.$el[0].getBoundingClientRect(),\r\n",
       "                    minVis = 40,\r\n",
       "                    maxLeft = window.innerWidth - minVis,\r\n",
       "                    minLeft = minVis - bounds.width,\r\n",
       "                    maxTop = window.innerHeight - minVis;\r\n",
       "\r\n",
       "                if(bounds.left > maxLeft) me.$el.css('left', maxLeft);\r\n",
       "                else if(bounds.left < minLeft) me.$el.css('left', minLeft);\r\n",
       "\r\n",
       "                if(bounds.top > maxTop) me.$el.css('top', maxTop);\r\n",
       "                else if(bounds.top < 0) me.$el.css('top', 0);\r\n",
       "            }\r\n",
       "        },\r\n",
       "\r\n",
       "        display: function(message) {\r\n",
       "            var me = this;\r\n",
       "            if(message) {\r\n",
       "                var initialScroll = me.outputArea.scrollTop();\r\n",
       "                me.outputArea.scrollTop(me.outputArea.prop('scrollHeight'));\r\n",
       "                var scrollBottom = me.outputArea.scrollTop();\r\n",
       "\r\n",
       "                if(me.$el.attr('qcodes-state') === 'minimized') {\r\n",
       "                    // if we add text and the box is minimized, highlight the\r\n",
       "                    // title bar to alert the user that there are new messages.\r\n",
       "                    // remove then add the class, so we get the animation again\r\n",
       "                    // if it's already highlighted\r\n",
       "                    me.$el.removeClass('qcodes-highlight');\r\n",
       "                    setTimeout(function(){\r\n",
       "                        me.$el.addClass('qcodes-highlight');\r\n",
       "                    }, 0);\r\n",
       "                }\r\n",
       "\r\n",
       "                var newLines = message.split('\\n'),\r\n",
       "                    out = me.outputLines,\r\n",
       "                    outLen = out.length;\r\n",
       "                if(outLen) out[outLen - 1] += newLines[0];\r\n",
       "                else out.push(newLines[0]);\r\n",
       "\r\n",
       "                for(var i = 1; i < newLines.length; i++) {\r\n",
       "                    out.push(newLines[i]);\r\n",
       "                }\r\n",
       "\r\n",
       "                if(out.length > me.maxOutputLength) {\r\n",
       "                    out.splice(0, out.length - me.maxOutputLength + 1,\r\n",
       "                        '<<< Output clipped >>>');\r\n",
       "                }\r\n",
       "\r\n",
       "                me.outputArea.text(out.join('\\n'));\r\n",
       "                me.clearButton.removeClass('disabled');\r\n",
       "\r\n",
       "                // if we were scrolled to the bottom initially, make sure\r\n",
       "                // we stay that way.\r\n",
       "                me.outputArea.scrollTop(initialScroll === scrollBottom ?\r\n",
       "                    me.outputArea.prop('scrollHeight') : initialScroll);\r\n",
       "            }\r\n",
       "\r\n",
       "            me.showSubprocesses();\r\n",
       "            me.updateState();\r\n",
       "        },\r\n",
       "\r\n",
       "        showSubprocesses: function() {\r\n",
       "            var me = this,\r\n",
       "                replacer = me.subprocessesMultiline ? '<br>' : ', ',\r\n",
       "                processes = (me.model.get('_processes') || '')\r\n",
       "                    .replace(/\\n/g, '&gt;' + replacer + '&lt;');\r\n",
       "\r\n",
       "            if(processes) processes = '&lt;' + processes + '&gt;';\r\n",
       "            else processes = 'No subprocesses';\r\n",
       "\r\n",
       "            me.abortButton.toggleClass('disabled', processes.indexOf('Measurement')===-1);\r\n",
       "\r\n",
       "            me.subprocessList.html(processes);\r\n",
       "        }\r\n",
       "    });\r\n",
       "    manager.WidgetManager.register_widget_view('SubprocessView', SubprocessView);\r\n",
       "});\r\n"
      ],
      "text/plain": [
       "<IPython.core.display.Javascript object>"
      ]
     },
     "metadata": {},
     "output_type": "display_data"
    },
    {
     "data": {
      "text/html": [
       "<style>.qcodes-output-view:not(.ui-draggable) {\r\n",
       "    bottom: 0;\r\n",
       "    right: 5px;\r\n",
       "}\r\n",
       ".qcodes-output-view {\r\n",
       "    position: fixed;\r\n",
       "    z-index: 999;\r\n",
       "    background-color: #fff;\r\n",
       "    box-shadow: 0 0 12px 1px rgba(87, 87, 87, 0.2);\r\n",
       "}\r\n",
       "\r\n",
       ".qcodes-output-header {\r\n",
       "    float: right;\r\n",
       "}\r\n",
       "\r\n",
       ".qcodes-highlight {\r\n",
       "    animation: pulse 1s linear;\r\n",
       "    background-color: #fa4;\r\n",
       "}\r\n",
       "\r\n",
       "@keyframes pulse {\r\n",
       "    0% {\r\n",
       "        background-color: #f00;\r\n",
       "    }\r\n",
       "    100% {\r\n",
       "        background-color: #fa4;\r\n",
       "    }\r\n",
       "}\r\n",
       "\r\n",
       ".qcodes-process-list {\r\n",
       "    float: left;\r\n",
       "    max-width: 780px;\r\n",
       "    margin: 3px 5px 3px 10px;\r\n",
       "    overflow: hidden;\r\n",
       "    white-space: nowrap;\r\n",
       "    text-overflow: ellipsis;\r\n",
       "}\r\n",
       "\r\n",
       ".qcodes-output-view[qcodes-state=minimized] .qcodes-process-list {\r\n",
       "    max-width: 300px;\r\n",
       "}\r\n",
       "\r\n",
       ".qcodes-output-view span {\r\n",
       "    padding: 2px 6px 3px 12px;\r\n",
       "}\r\n",
       "\r\n",
       ".qcodes-output-view .btn {\r\n",
       "    margin: 0 3px 0 0;\r\n",
       "}\r\n",
       "\r\n",
       ".qcodes-output-view[qcodes-state=docked] .qcodes-docked,\r\n",
       ".qcodes-output-view[qcodes-state=floated] .qcodes-floated,\r\n",
       ".qcodes-output-view[qcodes-state=minimized] .qcodes-minimized,\r\n",
       ".qcodes-output-view[qcodes-state=minimized] .qcodes-content {\r\n",
       "    display: none;\r\n",
       "}\r\n",
       "\r\n",
       ".qcodes-output-view .disabled {\r\n",
       "    opacity: 0.4;\r\n",
       "}\r\n",
       "\r\n",
       ".qcodes-abort-loop {\r\n",
       "    background-color: #844;\r\n",
       "    color: #fff;\r\n",
       "}\r\n",
       "\r\n",
       ".qcodes-output-view pre {\r\n",
       "    clear: both;\r\n",
       "    margin: 0;\r\n",
       "    border: 0;\r\n",
       "    border-top: 1px solid #ccc;\r\n",
       "    background-color: #ffe;\r\n",
       "    min-height: 50px;\r\n",
       "    max-height: 400px;\r\n",
       "    min-width: 400px;\r\n",
       "    max-width: 1000px;\r\n",
       "}</style>"
      ],
      "text/plain": [
       "<IPython.core.display.HTML object>"
      ]
     },
     "metadata": {},
     "output_type": "display_data"
    }
   ],
   "source": [
    "# Imports\n",
    "import os\n",
    "import clr\n",
    "import sys\n",
    "from imp import reload\n",
    "from System import Array\n",
    "from time import sleep, time\n",
    "import numpy as np\n",
    "from matplotlib import pyplot as plt\n",
    "from scipy.misc import factorial\n",
    "import peakutils\n",
    "import numpy as np\n",
    "# sys.path.append(os.getcwd())\n",
    "%matplotlib inline\n",
    "\n",
    "import qcodes as qc\n",
    "qc.show_subprocess_widget()\n",
    "\n",
    "import qcodes.instrument.parameter as parameter\n",
    "\n",
    "loc_provider = qc.data.location.FormatLocation(fmt='data/{date}/#{counter}_{name}_{time}')\n",
    "qc.data.data_set.DataSet.location_provider=loc_provider"
   ]
  },
  {
   "cell_type": "code",
   "execution_count": 2,
   "metadata": {
    "code_folding": [],
    "collapsed": false
   },
   "outputs": [],
   "source": [
    "# Load instruments\n",
    "import qcodes.instrument_drivers.lecroy.ArbStudio1104 as ArbStudio_driver\n",
    "import qcodes.instrument_drivers.spincore.PulseBlasterESRPRO as PulseBlaster_driver\n",
    "import qcodes.instrument_drivers.stanford_research.SIM900 as SIM900_driver\n",
    "import qcodes.instrument_drivers.AlazarTech.ATS9440 as ATS_driver\n",
    "import qcodes.instrument_drivers.AlazarTech.ATS_acquisition_controllers as ATS_controller_driver\n",
    "from meta_instruments import Analysis\n",
    "\n",
    "def try_close_instruments(instruments=['PulseBlaster', 'ArbStudio', 'SIM900', 'ATS', 'ATS_controller']):\n",
    "    if isinstance(instruments, str):\n",
    "        instruments = [instruments]\n",
    "    for instrument in instruments:\n",
    "        try:\n",
    "            eval('{}.close()'.format(instrument_name))\n",
    "        except:\n",
    "            pass\n",
    "        \n",
    "def plot_traces(traces, traces_AWG=None):\n",
    "    plt.figure()\n",
    "    plt.pcolormesh(range(traces.shape[1]), \n",
    "                 range(traces.shape[0]+1), traces)\n",
    "    if traces_AWG is not None:\n",
    "        trace_AWG = traces_AWG[:1]\n",
    "        trace_AWG /= (np.max(trace_AWG)-np.min(trace_AWG))\n",
    "        trace_AWG -= np.min(trace_AWG)\n",
    "        plt.pcolormesh(range(traces.shape[1]), \n",
    "                       np.array([0,1])+traces.shape[0], trace_AWG)\n",
    "    plt.xlim([0,traces.shape[1]])\n",
    "    plt.ylim([0,traces.shape[0]+1])\n",
    "    plt.colorbar()\n",
    "\n",
    "    fig, axes = plt.subplots(len(traces), sharex=True)\n",
    "    for k, trace in enumerate(traces):\n",
    "        axes[k].plot(trace)\n",
    "        axes[k].plot(trace > 0.5)\n",
    "        if traces_AWG is not None:\n",
    "            trace_AWG = traces_AWG[k]\n",
    "            trace_AWG /= (np.max(trace_AWG)-np.min(trace_AWG))\n",
    "            trace_AWG -= np.min(trace_AWG)\n",
    "            axes[k].plot(trace_AWG)\n",
    "        else:\n",
    "            axes[k].plot([1]*load_pts+[0.5]*read_pts+[0]*empty_pts)\n",
    "    \n",
    "# dummy_param = parameter.ManualParameter(name=\"dummy\", initial_value=42)\n",
    "\n",
    "for instrument_name in ['ArbStudio', 'PulseBlaster', 'SIM900','ATS', 'ATS_controller']:\n",
    "    try_close_instruments(instrument_name)\n",
    "    eval('reload({}_driver)'.format(instrument_name))\n",
    "try_close_instruments('Analysis')\n",
    "reload(Analysis)\n",
    "\n",
    "dll_path = os.path.join(os.getcwd(),'lecroy_driver\\\\Library\\\\ArbStudioSDK.dll')\n",
    "ArbStudio = ArbStudio_driver.ArbStudio1104('ArbStudio', dll_path, server_name=None)\n",
    "\n",
    "PulseBlaster = PulseBlaster_driver.PulseBlaster('PulseBlaster', api_path='spinapi.py', server_name='PB_server')\n",
    "\n",
    "SIM900 = SIM900_driver.SIM900('SIM900', 'GPIB0::4::INSTR')\n",
    "TG, LB, RB, TGAC, SRC, NOTUSED, DS, DF = [eval('SIM900.chan{}'.format(i)) for i in range(1,9)]\n",
    "\n",
    "ATS = ATS_driver.ATS9440('ATS', server_name='Alazar_server')\n",
    "ATS_controller = ATS_controller_driver.Basic_AcquisitionController(name='ATS_controller', \n",
    "                                                           alazar_name='ATS',\n",
    "                                                           server_name='Alazar_server')\n",
    "\n",
    "readout_analysis = Analysis.BasicAnalysis(name='basic_analysis', server_name=None)"
   ]
  },
  {
   "cell_type": "code",
   "execution_count": 3,
   "metadata": {
    "code_folding": [
     0,
     29,
     46,
     56
    ],
    "collapsed": true
   },
   "outputs": [],
   "source": [
    "def configure_PulseBlaster(PulseBlaster, durations, marker_cycles=100, sampling_rate=500):\n",
    "    # Factor of 2 needed because apparently the core clock is not the same as the sampling rate\n",
    "    ms = 2 * sampling_rate * 1e3\n",
    "\n",
    "    PulseBlaster.detect_boards()\n",
    "    PulseBlaster.select_board(0)\n",
    "    PulseBlaster.core_clock(sampling_rate)\n",
    "\n",
    "    PulseBlaster.start_programming()\n",
    "    \n",
    "    pulse = 'empty'\n",
    "    PulseBlaster.send_instruction(0,'continue',0, marker_cycles)\n",
    "    start = PulseBlaster.send_instruction(0, 'continue', 0, durations[pulse]*ms - marker_cycles)\n",
    "    \n",
    "    pulse = 'load'\n",
    "    PulseBlaster.send_instruction(1,'continue',0, marker_cycles)\n",
    "    PulseBlaster.send_instruction(0, 'continue', start, durations[pulse]*ms - marker_cycles)\n",
    "    \n",
    "    pulse = 'read'\n",
    "    PulseBlaster.send_instruction(1,'continue',0, marker_cycles)\n",
    "    PulseBlaster.send_instruction(0, 'continue', 0, durations[pulse]*ms - marker_cycles)\n",
    "    \n",
    "    pulse = 'final_delay'\n",
    "    if durations[pulse] > 0:\n",
    "        PulseBlaster.send_instruction(0, 'continue', 0, durations[pulse]*ms)\n",
    "    PulseBlaster.send_instruction(1,'branch',start, marker_cycles)\n",
    "    \n",
    "    PulseBlaster.stop_programming()\n",
    "    \n",
    "def configure_ArbStudio(ArbStudio, voltages, channel_factors, marker_cycles=100):\n",
    "    stages = ['empty', 'load', 'read']\n",
    "    for ch in [1,2,3,4]:\n",
    "        eval('ArbStudio.ch{}_clear_waveforms()'.format(ch))\n",
    "    for ch in [1, 2, 3]:\n",
    "        eval(\"ArbStudio.ch{}_trigger_source('fp_trigger_in')\".format(ch))\n",
    "        eval(\"ArbStudio.ch{}_trigger_mode('stepped')\".format(ch))\n",
    "        eval('ArbStudio.ch{}_clear_waveforms()'.format(ch))\n",
    "        waveforms = channel_factors[ch-1] * np.array([[voltages[stage]]*4 for stage in stages])\n",
    "        for waveform in waveforms:\n",
    "            eval('ArbStudio.ch{}_add_waveform(waveform)'.format(ch))\n",
    "\n",
    "        eval('ArbStudio.ch{}_sequence([0, 1, 2])'.format(ch))\n",
    "    waveforms = ArbStudio.load_waveforms(channels=[1,2,3])\n",
    "    sequences = ArbStudio.load_sequence(channels=[1,2,3])\n",
    "    return waveforms, sequences\n",
    "\n",
    "def configure_ATS(ATS, trigger_level=100, trigger_slope='TRIG_SLOPE_NEGATIVE'):\n",
    "    ATS.config(trigger_source1='CHANNEL_C',\n",
    "           trigger_level1=trigger_level,\n",
    "           trigger_slope1=trigger_slope,\n",
    "           external_trigger_coupling='DC',\n",
    "           trigger_operation='TRIG_ENGINE_OP_J',\n",
    "           channel_range=2,\n",
    "           sample_rate=1e6,\n",
    "           coupling='DC')\n",
    "    \n",
    "def configure_ATS_controller(ATS_controller, durations, acquisition_stages=['empty', 'load', 'read'],\n",
    "                             samples=200, average_mode='none'):\n",
    "    read_length = sum([durations[stage] for stage in acquisition_stages])\n",
    "    sample_rate = ATS_controller._get_alazar_parameter('sample_rate')\n",
    "    samples_per_record = int(16 * round(float(sample_rate*read_length*1e-3)/16))\n",
    "    \n",
    "    total_duration = sum(durations.values())*1e-3\n",
    "    buffer_timeout = max(5000, 1.5*total_duration)\n",
    "    \n",
    "    ATS_controller.average_mode(average_mode)\n",
    "    ATS_controller.update_acquisition_kwargs(samples_per_record=samples_per_record,\n",
    "                                             records_per_buffer=1,\n",
    "                                             buffers_per_acquisition=samples,\n",
    "                                             buffer_timeout=buffer_timeout,\n",
    "                                             channel_selection='AC')"
   ]
  },
  {
   "cell_type": "markdown",
   "metadata": {},
   "source": [
    "# Tuning"
   ]
  },
  {
   "cell_type": "code",
   "execution_count": 4,
   "metadata": {
    "collapsed": false
   },
   "outputs": [
    {
     "name": "stdout",
     "output_type": "stream",
     "text": [
      "Wall time: 233 ms\n"
     ]
    },
    {
     "data": {
      "image/png": "[encoded data removed]",
      "text/plain": [
       "<matplotlib.figure.Figure at 0x9cd9b38>"
      ]
     },
     "metadata": {},
     "output_type": "display_data"
    }
   ],
   "source": [
    "\n",
    "\n",
    "compensation_factor = -1.5\n",
    "channel_factors = [1, compensation_factor, 1]\n",
    "voltages = {'empty': -1.5, 'load': 1.5, 'read': 0}\n",
    "durations = {'empty': 5, 'load': 5, 'read': 20, 'final_delay': 1}\n",
    "\n",
    "configure_PulseBlaster(PulseBlaster, durations)\n",
    "configure_ArbStudio(ArbStudio, voltages, channel_factors)\n",
    "\n",
    "# trigger level <128 is below 0V, >128 is above 0V\n",
    "configure_ATS(ATS, trigger_level=140, trigger_slope='TRIG_SLOPE_NEGATIVE')\n",
    "configure_ATS_controller(ATS_controller, durations, samples=5, \n",
    "                         acquisition_stages=['empty','load','read'])\n",
    "ArbStudio.stop()\n",
    "ArbStudio.run(channels=[1,2,3])\n",
    "sleep(.1)\n",
    "\n",
    "PulseBlaster.start()\n",
    "%time records = ATS_controller.acquisition()\n",
    "ArbStudio.stop()\n",
    "PulseBlaster.stop()\n",
    "\n",
    "\n",
    "fig, axes = plt.subplots(len(records[0]), len(records),sharex=True, sharey=True)\n",
    "for k, records_ch in enumerate(records):\n",
    "    for kk, record in enumerate(records_ch):\n",
    "        axes[kk, k].plot(record)\n",
    "\n"
   ]
  },
  {
   "cell_type": "code",
   "execution_count": null,
   "metadata": {
    "collapsed": false
   },
   "outputs": [],
   "source": []
  },
  {
   "cell_type": "code",
   "execution_count": 5,
   "metadata": {
    "collapsed": false
   },
   "outputs": [
    {
     "name": "stdout",
     "output_type": "stream",
     "text": [
      "2 peaks found\n",
      "0.232902018229\n"
     ]
    },
    {
     "data": {
      "image/png": "[encoded data removed]",
      "text/plain": [
       "<matplotlib.figure.Figure at 0x9c38438>"
      ]
     },
     "metadata": {},
     "output_type": "display_data"
    }
   ],
   "source": [
    "_, _, threshold_voltage=readout_analysis.find_high_low(records[0], plot=True)\n",
    "\n",
    "print(threshold_voltage)"
   ]
  },
  {
   "cell_type": "markdown",
   "metadata": {},
   "source": [
    "# Readout"
   ]
  },
  {
   "cell_type": "code",
   "execution_count": 102,
   "metadata": {
    "collapsed": false
   },
   "outputs": [
    {
     "name": "stdout",
     "output_type": "stream",
     "text": [
      "Wall time: 440 ms\n"
     ]
    },
    {
     "data": {
      "image/png": "[encoded data removed]",
      "text/plain": [
       "<matplotlib.figure.Figure at 0x4cda74a8>"
      ]
     },
     "metadata": {},
     "output_type": "display_data"
    }
   ],
   "source": [
    "\n",
    "compensation_factor = -1.5\n",
    "channel_factors = [1, compensation_factor, 1]\n",
    "voltages = {'empty': -1.5, 'load': 1.5, 'read': 0}\n",
    "durations = {'empty': 5, 'load': 5, 'read': 20, 'final_delay': 1}\n",
    "\n",
    "configure_PulseBlaster(PulseBlaster, durations)\n",
    "configure_ArbStudio(ArbStudio, voltages, channel_factors)\n",
    "\n",
    "# trigger level <128 is below 0V, >128 is above 0V\n",
    "configure_ATS(ATS, trigger_level=140, trigger_slope='TRIG_SLOPE_NEGATIVE')\n",
    "configure_ATS_controller(ATS_controller, durations, samples=12, \n",
    "                         acquisition_stages=['read'])\n",
    "\n",
    "ArbStudio.stop()\n",
    "ArbStudio.run(channels=[1,2,3])\n",
    "sleep(.1)\n",
    "\n",
    "PulseBlaster.start()\n",
    "\n",
    "%time records = ATS_controller.acquisition()\n",
    "ArbStudio.stop()\n",
    "PulseBlaster.stop()\n",
    "\n",
    "\n",
    "fig, axes = plt.subplots(len(records[0]), len(records),sharex=True, sharey=True)\n",
    "for k, records_ch in enumerate(records):\n",
    "    for kk, record in enumerate(records_ch):\n",
    "         axes[kk, k].plot(record)"
   ]
  },
  {
   "cell_type": "code",
   "execution_count": 135,
   "metadata": {
    "collapsed": false
   },
   "outputs": [
    {
     "name": "stdout",
     "output_type": "stream",
     "text": [
      "0.2\n",
      "[False, False, False, False, True, False, True, False, True, False, True, False]\n",
      "0.333333333333\n"
     ]
    },
    {
     "data": {
      "image/png": "[encoded data removed]",
      "text/plain": [
       "<matplotlib.figure.Figure at 0x116a8550>"
      ]
     },
     "metadata": {},
     "output_type": "display_data"
    }
   ],
   "source": [
    "\n",
    "\n",
    "plt.plot(records[0][9][50:500])\n",
    "\n",
    "reload(Analysis)\n",
    "print(threshold_voltage)\n",
    "threshold_voltage=0.2\n",
    "\n",
    "up=readout_analysis.find_up_proportion(records[0][:,100:], threshold_voltage, return_mean=False)\n",
    "\n",
    "print(up)\n",
    "print(sum(up) / len(up))\n"
   ]
  },
  {
   "cell_type": "code",
   "execution_count": 29,
   "metadata": {
    "code_folding": [],
    "collapsed": false
   },
   "outputs": [],
   "source": [
    "from scipy import signal\n",
    "filter=signal.savgol_filter"
   ]
  },
  {
   "cell_type": "code",
   "execution_count": 137,
   "metadata": {
    "collapsed": false
   },
   "outputs": [
    {
     "name": "stdout",
     "output_type": "stream",
     "text": [
      "Wall time: 14 ms\n",
      "Wall time: 1e+03 µs\n",
      "99\n"
     ]
    },
    {
     "data": {
      "text/plain": [
       "[<matplotlib.lines.Line2D at 0x103e6940>]"
      ]
     },
     "execution_count": 137,
     "metadata": {},
     "output_type": "execute_result"
    },
    {
     "data": {
      "image/png": "[encoded data removed]",
      "text/plain": [
       "<matplotlib.figure.Figure at 0xc30a3c8>"
      ]
     },
     "metadata": {},
     "output_type": "display_data"
    }
   ],
   "source": [
    "\n",
    "%time testtraces=[filter(trace,window_length=21,polyorder=2) for trace in records[0]]\n",
    "plt.plot(testtraces[9][50:300], color='r')\n",
    "plt.plot(records[0][9][50:300], color='k')\n",
    "%time testtrace2=np.convolve(records[0][9], np.ones(100)/100, mode='valid')\n",
    "diff=-len(testtrace2)+len(records[0][9])\n",
    "print(diff)\n",
    "plt.plot(testtrace2[50-round(diff/2):300], color='g')"
   ]
  },
  {
   "cell_type": "markdown",
   "metadata": {},
   "source": [
    " smoothtrace=filter(testtrace,19,4)\n",
    "print(smoothtrace)"
   ]
  },
  {
   "cell_type": "code",
   "execution_count": 113,
   "metadata": {
    "collapsed": false
   },
   "outputs": [
    {
     "ename": "AttributeError",
     "evalue": "'numpy.ndarray' object has no attribute 'pd'",
     "output_type": "error",
     "traceback": [
      "\u001b[1;31m---------------------------------------------------------------------------\u001b[0m",
      "\u001b[1;31mAttributeError\u001b[0m                            Traceback (most recent call last)",
      "\u001b[1;32m<ipython-input-113-94d7d962bbb4>\u001b[0m in \u001b[0;36m<module>\u001b[1;34m()\u001b[0m\n\u001b[0;32m      3\u001b[0m \u001b[0maverage\u001b[0m \u001b[1;33m=\u001b[0m \u001b[1;32mlambda\u001b[0m \u001b[0mx\u001b[0m\u001b[1;33m:\u001b[0m \u001b[0mnp\u001b[0m\u001b[1;33m.\u001b[0m\u001b[0mfabs\u001b[0m\u001b[1;33m(\u001b[0m\u001b[0mx\u001b[0m \u001b[1;33m-\u001b[0m \u001b[0mx\u001b[0m\u001b[1;33m.\u001b[0m\u001b[0mmean\u001b[0m\u001b[1;33m(\u001b[0m\u001b[1;33m)\u001b[0m\u001b[1;33m)\u001b[0m\u001b[1;33m.\u001b[0m\u001b[0mmean\u001b[0m\u001b[1;33m(\u001b[0m\u001b[1;33m)\u001b[0m\u001b[1;33m\u001b[0m\u001b[0m\n\u001b[0;32m      4\u001b[0m \u001b[1;33m\u001b[0m\u001b[0m\n\u001b[1;32m----> 5\u001b[1;33m \u001b[0mrecords\u001b[0m\u001b[1;33m[\u001b[0m\u001b[1;36m0\u001b[0m\u001b[1;33m]\u001b[0m\u001b[1;33m[\u001b[0m\u001b[1;36m0\u001b[0m\u001b[1;33m]\u001b[0m\u001b[1;33m.\u001b[0m\u001b[0mpd\u001b[0m\u001b[1;33m.\u001b[0m\u001b[0mrolling\u001b[0m\u001b[1;33m(\u001b[0m\u001b[0mwindow\u001b[0m\u001b[1;33m=\u001b[0m\u001b[1;36m20\u001b[0m\u001b[1;33m)\u001b[0m\u001b[1;33m.\u001b[0m\u001b[0mapply\u001b[0m\u001b[1;33m(\u001b[0m\u001b[0maverage\u001b[0m\u001b[1;33m)\u001b[0m\u001b[1;33m.\u001b[0m\u001b[0mplot\u001b[0m\u001b[1;33m(\u001b[0m\u001b[0mstyle\u001b[0m\u001b[1;33m=\u001b[0m\u001b[1;34m'k'\u001b[0m\u001b[1;33m)\u001b[0m\u001b[1;33m\u001b[0m\u001b[0m\n\u001b[0m",
      "\u001b[1;31mAttributeError\u001b[0m: 'numpy.ndarray' object has no attribute 'pd'"
     ]
    }
   ],
   "source": []
  },
  {
   "cell_type": "code",
   "execution_count": 95,
   "metadata": {
    "collapsed": false
   },
   "outputs": [
    {
     "data": {
      "text/plain": [
       "[<matplotlib.lines.Line2D at 0x4cb76358>]"
      ]
     },
     "execution_count": 95,
     "metadata": {},
     "output_type": "execute_result"
    },
    {
     "data": {
      "image/png": "[encoded data removed]",
      "text/plain": [
       "<matplotlib.figure.Figure at 0x4b6df080>"
      ]
     },
     "metadata": {},
     "output_type": "display_data"
    }
   ],
   "source": []
  },
  {
   "cell_type": "code",
   "execution_count": null,
   "metadata": {
    "collapsed": true
   },
   "outputs": [],
   "source": []
  }
 ],
 "metadata": {
  "anaconda-cloud": {},
  "kernelspec": {
   "display_name": "Python [Root]",
   "language": "python",
   "name": "Python [Root]"
  },
  "language_info": {
   "codemirror_mode": {
    "name": "ipython",
    "version": 3
   },
   "file_extension": ".py",
   "mimetype": "text/x-python",
   "name": "python",
   "nbconvert_exporter": "python",
   "pygments_lexer": "ipython3",
   "version": "3.5.2"
  }
 },
 "nbformat": 4,
 "nbformat_minor": 0
}
